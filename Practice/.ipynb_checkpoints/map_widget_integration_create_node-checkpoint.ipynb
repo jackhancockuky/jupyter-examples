{
 "cells": [
  {
   "cell_type": "markdown",
   "id": "b3609a15-84fc-454d-897b-446f7499c98b",
   "metadata": {},
   "source": [
    "## Prepare"
   ]
  },
  {
   "cell_type": "code",
   "execution_count": 1,
   "id": "44b5ca6c-3938-47d4-8df0-5648a5c89f8b",
   "metadata": {},
   "outputs": [],
   "source": [
    "import os\n",
    "import json\n",
    "import ipywidgets as widgets\n",
    "from ipywidgets import Text, HTML, HBox, Layout, VBox\n",
    "from ipyleaflet import (\n",
    "    Map,\n",
    "    Marker,\n",
    "    TileLayer, ImageOverlay,\n",
    "    Polyline, Polygon, Rectangle, Circle, CircleMarker,\n",
    "    GeoJSON,\n",
    "    DrawControl,\n",
    "    WidgetControl,\n",
    "    basemaps,\n",
    "    Popup,\n",
    "    Icon,\n",
    "    MarkerCluster\n",
    ")\n",
    "\n",
    "from math import sqrt"
   ]
  },
  {
   "cell_type": "code",
   "execution_count": 2,
   "id": "49b541be-1401-40f3-9f03-0e4c9c913960",
   "metadata": {
    "tags": []
   },
   "outputs": [
    {
     "name": "stdout",
     "output_type": "stream",
     "text": [
      "Refresh Token: NB2HI4DTHIXS6Y3JNRXWO33OFZXXEZZPN5QXK5DIGIXTOMTEHBTGKMLDGVTDGZBYGZSWIMZXGNRWMMBQMU4WGMJQGI2GKYZ7OR4XAZJ5OJSWM4TFONUFI33LMVXCM5DTHUYTMMRWHA4TGOBXGE2TANBGOZSXE43JN5XD25RSFYYCM3DJMZSXI2LNMU6TQNRUGAYDAMBQ\n",
      "CM Host: beta-2.fabric-testbed.net Orchestrator Host: beta-7.fabric-testbed.net\n",
      "Token location: /home/fabric/.tokens.json\n",
      "\n",
      "Tokens initialized: {'id_token': 'eyJ0eXAiOiJKV1QiLCJhbGciOiJSUzI1NiIsImtpZCI6ImI0MTUxNjcyMTExOTFlMmUwNWIyMmI1NGIxZDNiNzY2N2U3NjRhNzQ3NzIyMTg1ZTcyMmU1MmUxNDZmZTQzYWEifQ.eyJlbWFpbCI6ImdhdXRhbS5zaXJkZXNobXVraEBkdWtlLmVkdSIsImNlcnRfc3ViamVjdF9kbiI6Ii9EQz1vcmcvREM9Y2lsb2dvbi9DPVVTL089RHVrZSBVbml2ZXJzaXR5L0NOPUdhdXRhbSBTaXJkZXNobXVraCBUNDc2NzIyOTgiLCJpZHAiOiJ1cm46bWFjZTppbmNvbW1vbjpkdWtlLmVkdSIsImlkcF9uYW1lIjoiRHVrZSBVbml2ZXJzaXR5IiwiZXBwbiI6ImdzMjE0QGR1a2UuZWR1IiwiZXB0aWQiOiJ1cm46bWFjZTppbmNvbW1vbjpkdWtlLmVkdSFodHRwczovL2NpbG9nb24ub3JnL3NoaWJib2xldGghRll0R1dQZWRmTzdIdEQ4ZVphaVRLTFFKYm5VPSIsImFmZmlsaWF0aW9uIjoibWVtYmVyQGR1a2UuZWR1O3N0dWRlbnRAZHVrZS5lZHU7c3RhZmZAZHVrZS5lZHUiLCJuYW1lIjoiR2F1dGFtIFNpcmRlc2htdWtoIiwiYWNyIjoidXJuOm1hY2U6ZHVrZS5lZHU6aWRtczphdXRobjpzdHJlbmd0aF8zLjAiLCJpc3MiOiJodHRwczovL2NpbG9nb24ub3JnIiwic3ViIjoiaHR0cDovL2NpbG9nb24ub3JnL3NlcnZlclQvdXNlcnMvNDc2NzIyOTgiLCJhdWQiOiJjaWxvZ29uOi9jbGllbnRfaWQvNGQ3ZWE1ODNkZDA2MTljMjkwZWRhN2FiNjZmMmNlZmEiLCJ0b2tlbl9pZCI6Imh0dHBzOi8vY2lsb2dvbi5vcmcvb2F1dGgyL2lkVG9rZW4vNjY2OWIxOWZjZjJmMTE3NDYxZmE1YTY0OTUzOTdjMjQvMTYyNjgxMjMwNjkwMyIsImF1dGhfdGltZSI6MTYyNjgxMjMwNiwiZXhwIjoxNjI2ODk3NDcyLCJpYXQiOjE2MjY4OTM4NzIsInByb2plY3RzIjp7IkZBQlJJQyBTdHVkZW50cyI6W119LCJyb2xlcyI6WyJmYWJyaWMtYWN0aXZlLXVzZXJzIiwiYWRlM2E3ZGQtOTQ4OC00MGY5LThmYzYtOTY3ZGUwZWVhNzM1LXBtIl0sInNjb3BlIjoiYWxsIn0.FcEHt4SjxsbE2gYu_wvGEM5ENQkLJNj95iTUWr_PU7arYkK9yBbhDNjOQcogD7UMTBounbfjy0JiiyR-yc5z4AFfiIAkeuKfUPjt9X3m2aoLqpS5iMDBODXp1fZywiIpxvFrgHgqzKBCu82rp61QxKU57JqsvOyF_cOE86CKQ8pD5X_3atuQ5jXcYGws3khWs-Do-l7mlv5IJ1X8YgjaU4R3JK1aqXRJqECjU0ZOIv1zbrhJkXZmsnYnhWs2FubSCEoZs25-uBJvMdaOcNJYGIrh5_SIARTjePn_k-AsJ2aTDWR6SaevV0CEdXOD8Re-IgQXjiM8EXcMw6xPSzTsgmyiOd0TAK3r2t_BR2ePeNdSTziNkgDbw6DMTMo_Ng7vTJ05cnc8NalMkKomF5_wljdmvQ9Yza03x0cn8H2k7h2FqpDo29qPqZ1rKRreqpMEKMeN7w1jYSk3PL2IBYdINXRUxQk8ZAJpYKHk8KgVygaXEbzJvOO5l5bT-EhE-Wa70tHhVbG--9N2sr3UwYz76ZijhVEYrJyKMnvzZO-doar7yRGC7WXKjmEjur5iqHjwBMIMl2Iu7Nl3jXxpVnyO2HbijkAwuqf0q6FasZooV6c3Ni1iNowX4zg5_DbCh6jGy4tSOICddbUVIOCFjFiJMNMa3xoQAHczR1nYB_NAr8w', 'refresh_token': 'NB2HI4DTHIXS6Y3JNRXWO33OFZXXEZZPN5QXK5DIGIXTOMTEHBTGKMLDGVTDGZBYGZSWIMZXGNRWMMBQMU4WGMJQGI2GKYZ7OR4XAZJ5OJSWM4TFONUFI33LMVXCM5DTHUYTMMRWHA4TGOBXGE2TANBGOZSXE43JN5XD25RSFYYCM3DJMZSXI2LNMU6TQNRUGAYDAMBQ', 'created_at': '2021-07-21 18:57:52'}\n",
      "\n",
      "New Refresh Token: NB2HI4DTHIXS6Y3JNRXWO33OFZXXEZZPN5QXK5DIGIXTKYJRG4ZDOMJTGZSWMZJQGU4TCNZUGZSDGZLBGZRGEZRTHBRGIYR7OR4XAZJ5OJSWM4TFONUFI33LMVXCM5DTHUYTMMRWHA4TIMJVGM3DONZGOZSXE43JN5XD25RSFYYCM3DJMZSXI2LNMU6TQNRUGAYDAMBQ\n",
      "\n",
      "Stored new Refresh Token\n",
      "Stored 'fabric_refresh_token' (str)\n",
      "\n",
      "\n"
     ]
    }
   ],
   "source": [
    "from fabrictestbed.slice_manager import SliceManager, Status\n",
    "\n",
    "# Retrieve or set the refresh token (exprires 24 hours after login)\n",
    "fabric_refresh_token=None\n",
    "%store -r fabric_refresh_token\n",
    "if fabric_refresh_token is None:\n",
    "    fabric_refresh_token=os.environ['CILOGON_REFRESH_TOKEN']\n",
    "    %store fabric_refresh_token\n",
    "\n",
    "print(\"Refresh Token: {}\".format(fabric_refresh_token))\n",
    "\n",
    "credmgr_host = os.environ['FABRIC_CREDMGR_HOST']\n",
    "orchestrator_host = os.environ['FABRIC_ORCHESTRATOR_HOST']\n",
    "print(f\"CM Host: {credmgr_host} Orchestrator Host: {orchestrator_host}\")\n",
    "\n",
    "slice_manager = SliceManager(oc_host = orchestrator_host, cm_host = credmgr_host, project_name='all', scope='all')\n",
    "slice_manager.initialize()\n",
    "\n",
    "print(\"Token location: {}\".format(slice_manager.token_location))\n",
    "print()\n",
    "print(\"Tokens initialized: {}\".format(slice_manager.tokens))\n",
    "\n",
    "#Cofigure SSH Key\n",
    "ssh_key = None\n",
    "with open (\"/home/fabric/.ssh/id_rsa.pub\", \"r\") as myfile:\n",
    "    ssh_key=myfile.read().strip()\n",
    "\n",
    "    \n",
    "try:\n",
    "    id_token, refresh_token = slice_manager.refresh_tokens()\n",
    "except Exception as e:\n",
    "    print(\"Exception occurred while getting tokens:{}\".format(e))\n",
    "\n",
    "fabric_refresh_token=slice_manager.get_refresh_token()\n",
    "print()\n",
    "print(\"New Refresh Token: {}\".format(fabric_refresh_token))\n",
    "print()\n",
    "print(\"Stored new Refresh Token\")\n",
    "%store fabric_refresh_token\n",
    "print()\n",
    "print()"
   ]
  },
  {
   "cell_type": "code",
   "execution_count": 3,
   "id": "1b6a6957-61ad-42cb-b4bc-464932dd0b61",
   "metadata": {},
   "outputs": [],
   "source": [
    "site_dict = {'UKY': (38.03154264461649, -84.50343326019218), 'RENCI': (35.93996154497003, -79.01809264307425), 'LBNL': (38.94977311613871, -122.61289106281062)}"
   ]
  },
  {
   "cell_type": "markdown",
   "id": "e4ddafb6-ad69-48dd-9e09-4353d9809e90",
   "metadata": {},
   "source": [
    "## Create experiment with map version 1"
   ]
  },
  {
   "cell_type": "code",
   "execution_count": 4,
   "id": "fe38218a-78a6-4d35-a09f-f7888b92fd0e",
   "metadata": {
    "tags": []
   },
   "outputs": [],
   "source": [
    "from fabrictestbed.slice_editor import ExperimentTopology, Capacities, ComponentType, LinkType, Layer\n",
    "\n",
    "# Create Experiment Topology\n",
    "experiment = ExperimentTopology()\n",
    "\n",
    "slice_name = \"MapDemoSlice\""
   ]
  },
  {
   "cell_type": "markdown",
   "id": "3c974922-6ef7-4798-850f-7da091ae9aba",
   "metadata": {},
   "source": [
    "## Node functions"
   ]
  },
  {
   "cell_type": "code",
   "execution_count": 5,
   "id": "481d0572-e685-4969-8087-9395545fceff",
   "metadata": {
    "tags": []
   },
   "outputs": [],
   "source": [
    "node_name = widgets.Text(\n",
    "    placeholder='enter name',\n",
    "    description='Node Name:',\n",
    "    disabled=False\n",
    ")\n",
    "\n",
    "site_select = widgets.Select(\n",
    "    options=['RENC', 'UKY', 'LBNL'],\n",
    "    value='UKY',\n",
    "    description='Site:',\n",
    "    disabled=False\n",
    ")\n",
    "\n",
    "site_option = widgets.Text(\n",
    "    value='UKY',\n",
    "    description='Site:',\n",
    "    disabled=False\n",
    ")\n",
    "\n",
    "core_slider = widgets.IntSlider(min=2, max=32, step=2, value=4, description='Cores')\n",
    "ram_slider = widgets.IntSlider(min=2, max=64, step=2, value=16, description='RAM')\n",
    "disk_slider = widgets.FloatLogSlider(base=2, min=5, max=17, step=1, value=128,description='Disk')\n",
    "\n",
    "img_ref_select = widgets.Select(\n",
    "    options=['qcow2', 'qchicken2', 'qpig2'],\n",
    "    value='qcow2',\n",
    "    description='Image Type:',\n",
    "    disabled=False\n",
    ")\n",
    "\n",
    "img_type_select = widgets.Select(\n",
    "    options=['default_ubuntu_20', 'default_arch_20', 'default_kali_21'],\n",
    "    value='default_ubuntu_20',\n",
    "    description='Image Reference:',\n",
    "    disabled=False\n",
    ")"
   ]
  },
  {
   "cell_type": "code",
   "execution_count": 6,
   "id": "9d95303d-9b84-4cd3-8141-5097d516f544",
   "metadata": {},
   "outputs": [
    {
     "data": {
      "application/vnd.jupyter.widget-view+json": {
       "model_id": "6dafc88a4d124a33968ce73d40e6c7be",
       "version_major": 2,
       "version_minor": 0
      },
      "text/plain": [
       "Map(center=[38.12480976137421, -95.7129], controls=(ZoomControl(options=['position', 'zoom_in_text', 'zoom_in_…"
      ]
     },
     "metadata": {},
     "output_type": "display_data"
    }
   ],
   "source": [
    "from ipyleaflet import DrawControl, CircleMarker\n",
    "\n",
    "canvas = Map(basemap = basemaps.Esri.WorldStreetMap, center=(38.12480976137421, -95.7129), zoom = 3.8)\n",
    "\n",
    "dc = DrawControl(circlemarker={}, polygon={})\n",
    "\n",
    "\n",
    "init = [HTML('Click on a site to create a new node')]\n",
    "my_layout = Layout(height='50%', overflow_y= 'auto', padding = \"4px\" )\n",
    "html_box = VBox(init , layout = my_layout )\n",
    "\n",
    "control = WidgetControl(widget = html_box, position='topright')\n",
    "canvas.add_control(control)\n",
    "canvas.add_control(dc)\n",
    "\n",
    "uky_coordinates = site_dict['UKY']\n",
    "renci_coordinates = site_dict['RENCI']\n",
    "lbnl_coordinates = site_dict['LBNL']\n",
    "\n",
    "icon = Icon(icon_url='https://jupyter-beta.fabric-testbed.net/user/nannkat@bu.edu/files/jupyter-examples/nanna/map_experiments/circle.png?_xsrf=2%7C4b270639%7C01ca1ecbc98a0090a488f8688b3a0dd1%7C1625580900', icon_size=[15,15])\n",
    "\n",
    "uky_circle = Marker(location = uky_coordinates, icon = icon, draggable = False, title = 'UKY')\n",
    "renci_circle = Marker(location = renci_coordinates, icon = icon, draggable = False, title = 'RENCI')\n",
    "lbnl_circle = Marker(location = lbnl_coordinates, icon = icon, draggable = False, title = 'LBNL')\n",
    "\n",
    "marker_lbnl = Marker(location = lbnl_coordinates, draggable = False)\n",
    "marker_uky = Marker(location = uky_coordinates, draggable = False)\n",
    "marker_renci = Marker(location = renci_coordinates, draggable = False)\n",
    "\n",
    "def add_node(self):\n",
    "    n1 = experiment.add_node(name=node_name.value, site=site_option.value)\n",
    "    cap = Capacities().set_fields(core=core_slider.value, ram=ram_slider.value, disk=disk_slider.value)\n",
    "    n1.set_properties(capacities=cap)\n",
    "    node_name.value = ''\n",
    "    html_box.children = init\n",
    "\n",
    "\n",
    "add_node_request = widgets.Button(\n",
    "    description='Add Node',\n",
    "    disabled=False,\n",
    "    tooltip='click to build node',\n",
    ")\n",
    "\n",
    "add_node_request.on_click(add_node)\n",
    "\n",
    "def esc(self):\n",
    "    html_box.children = init\n",
    "    node_name.value = ''\n",
    "    if site_option.value == 'LBNL':\n",
    "        canvas.remove_layer(marker_lbnl)\n",
    "    elif site_option.value == 'UKY':\n",
    "        canvas.remove_layer(marker_uky)\n",
    "    elif site_option.value == 'RENCI':\n",
    "        canvas.remove_layer(marker_renci)\n",
    "    \n",
    "exit_btn = widgets.Button(\n",
    "    description='Cancel',\n",
    "    disabled=False,\n",
    "    tooltip='click to exit',)\n",
    "\n",
    "exit_btn.on_click(esc)\n",
    "\n",
    "\n",
    "def node_dashboard(site_name):\n",
    "    header = HTML('<center><b>New Node</b></center>')\n",
    "    site_option.value = site_name\n",
    "    btns = HBox([VBox([add_node_request]), VBox([exit_btn])])\n",
    "    content = [header,node_name, site_option, core_slider, ram_slider, disk_slider, btns]\n",
    "    html_box.children = content\n",
    "\n",
    "def new_lbnl(**kwargs):\n",
    "    canvas.add_layer(marker_lbnl)\n",
    "    node_dashboard('LBNL')\n",
    "    \n",
    "def new_uky(**kwargs):\n",
    "    canvas.add_layer(marker_uky)\n",
    "    node_dashboard('UKY')\n",
    "    \n",
    "def new_renci(**kwargs):\n",
    "    canvas.add_layer(marker_renci)\n",
    "    node_dashboard('RENCI')\n",
    "    \n",
    "\n",
    "def remove_uky(**kwargs):\n",
    "    canvas.remove_layer(marker_uky)\n",
    "    \n",
    "def remove_lbnl(**kwargs):\n",
    "    canvas.remove_layer(marker_lbnl)\n",
    "    \n",
    "def remove_renci(**kwargs):\n",
    "    canvas.remove_layer(marker_renci)\n",
    "    \n",
    "marker_uky.on_click(remove_uky)\n",
    "marker_lbnl.on_click(remove_lbnl)\n",
    "marker_renci.on_click(remove_renci)\n",
    "\n",
    "lbnl_circle.on_click(new_lbnl)\n",
    "uky_circle.on_click(new_uky)\n",
    "renci_circle.on_click(new_renci)\n",
    "\n",
    "clussss = MarkerCluster(markers = (uky_circle, renci_circle, lbnl_circle))\n",
    "canvas.add_layer(uky_circle)\n",
    "canvas.add_layer(renci_circle)\n",
    "canvas.add_layer(lbnl_circle)\n",
    "\n",
    "# canvas.add_layer(clussss)\n",
    "canvas"
   ]
  },
  {
   "cell_type": "code",
   "execution_count": 10,
   "id": "840d08d0-5aa3-4306-add2-b434c9ebcec9",
   "metadata": {},
   "outputs": [
    {
     "name": "stdout",
     "output_type": "stream",
     "text": [
      "{'bb': {'capacities': '{ core: 4 , ram: 16 G, disk: 128.0 G}', 'name': 'bb', 'site': 'UKY', 'type': 'VM'}}\n"
     ]
    }
   ],
   "source": [
    "print(experiment.nodes)  "
   ]
  },
  {
   "cell_type": "code",
   "execution_count": null,
   "id": "e1acc80b-ee3c-4e8c-b361-14920ae19f11",
   "metadata": {},
   "outputs": [],
   "source": []
  }
 ],
 "metadata": {
  "kernelspec": {
   "display_name": "Python 3",
   "language": "python",
   "name": "python3"
  },
  "language_info": {
   "codemirror_mode": {
    "name": "ipython",
    "version": 3
   },
   "file_extension": ".py",
   "mimetype": "text/x-python",
   "name": "python",
   "nbconvert_exporter": "python",
   "pygments_lexer": "ipython3",
   "version": "3.9.2"
  }
 },
 "nbformat": 4,
 "nbformat_minor": 5
}
