{
 "cells": [
  {
   "cell_type": "markdown",
   "id": "5e91e67d-e56f-4df4-a305-85128451fec4",
   "metadata": {},
   "source": [
    "# Interactive maps of topology using the ipyleaflet library"
   ]
  },
  {
   "cell_type": "markdown",
   "id": "815a0a7c-db77-4dcb-9a52-0e26883fc60e",
   "metadata": {
    "tags": []
   },
   "source": [
    "## Setup"
   ]
  },
  {
   "cell_type": "code",
   "execution_count": 1,
   "id": "641d147f-eaf0-4df7-8fff-272ac947a5d9",
   "metadata": {},
   "outputs": [
    {
     "name": "stdout",
     "output_type": "stream",
     "text": [
      "no stored variable or alias fabric_refresh_token\n",
      "Stored 'fabric_refresh_token' (str)\n",
      "Refresh token is: NB2HI4DTHIXS6Y3JNRXWO33OFZXXEZZPN5QXK5DIGIXTIMBSGNTGGYRWGJRTMNZYGJSDMNZSGAZGEYZYMFRTKYTEMMZDMOJ7OR4XAZJ5OJSWM4TFONUFI33LMVXCM5DTHUYTMMRUGA2TENRZGI3DONBGOZSXE43JN5XD25RSFYYCM3DJMZSXI2LNMU6TQNRUGAYDAMBQ\n",
      "\n",
      "CM Host: beta-2.fabric-testbed.net Orchestrator Host: beta-7.fabric-testbed.net\n",
      "\n",
      "New Refresh Token: NB2HI4DTHIXS6Y3JNRXWO33OFZXXEZZPN5QXK5DIGIXTGMTDHE4GKNLBMU3WKZBXHA4GEZDDGJQWEMRYHEZDAZJXMFTDGP3UPFYGKPLSMVTHEZLTNBKG623FNYTHI4Z5GE3DENBQGUZDONJUGYZTSJTWMVZHG2LPNY6XMMROGATGY2LGMV2GS3LFHU4DMNBQGAYDAMA\n",
      "\n",
      "New Id Token: eyJ0eXAiOiJKV1QiLCJhbGciOiJSUzI1NiIsImtpZCI6ImI0MTUxNjcyMTExOTFlMmUwNWIyMmI1NGIxZDNiNzY2N2U3NjRhNzQ3NzIyMTg1ZTcyMmU1MmUxNDZmZTQzYWEifQ.eyJlbWFpbCI6ImxvY2tlakBidS5lZHUiLCJjZXJ0X3N1YmplY3RfZG4iOiIvREM9b3JnL0RDPWNpbG9nb24vQz1VUy9PPUJvc3RvbiBVbml2ZXJzaXR5L0NOPUpvc2VwaCBSeWFuIExvY2tlIEI0NjEzMTg5NyIsImlkcCI6Imh0dHBzOi8vc2hpYi5idS5lZHUvaWRwL3NoaWJib2xldGgiLCJpZHBfbmFtZSI6IkJvc3RvbiBVbml2ZXJzaXR5IiwiZXBwbiI6ImxvY2tlakBidS5lZHUiLCJlcHRpZCI6Imh0dHBzOi8vc2hpYi5idS5lZHUvaWRwL3NoaWJib2xldGghaHR0cHM6Ly9jaWxvZ29uLm9yZy9zaGliYm9sZXRoITh0QSszdTRNYitoMGNMbEV0a1JIVXNUOHBYQT0iLCJhZmZpbGlhdGlvbiI6InN0dWRlbnRAYnUuZWR1O21lbWJlckBidS5lZHUiLCJuYW1lIjoiSm9zZXBoIFJ5YW4gTG9ja2UiLCJhY3IiOiJodHRwczovL3NoaWIuYnUuZWR1L3NpbmdsZSIsImVudGl0bGVtZW50IjoiaHR0cDovL2lhbS5idS5lZHUvcmVnL2NvbGxlZ2UvcGRwO2h0dHA6Ly9pYW0uYnUuZWR1L3JlZy9jb2xsZWdlL2VuZztodHRwOi8vaWFtLmJ1LmVkdS9pZGluZm8vNTAiLCJpc3MiOiJodHRwczovL2NpbG9nb24ub3JnIiwic3ViIjoiaHR0cDovL2NpbG9nb24ub3JnL3NlcnZlckIvdXNlcnMvNDYxMzE4OTciLCJhdWQiOiJjaWxvZ29uOi9jbGllbnRfaWQvNGQ3ZWE1ODNkZDA2MTljMjkwZWRhN2FiNjZmMmNlZmEiLCJ0b2tlbl9pZCI6Imh0dHBzOi8vY2lsb2dvbi5vcmcvb2F1dGgyL2lkVG9rZW4vNjQ2ZGRmMThjMTc2NDc2OTM2MWVmNTZiOWNmYjZkMDYvMTYyNDA1MjY5MjE0NyIsImF1dGhfdGltZSI6MTYyNDA1MjU2NiwiZXhwIjoxNjI0MDU2MzU1LCJpYXQiOjE2MjQwNTI3NTUsInByb2plY3RzIjp7IkZBQlJJQyBTdHVkZW50cyI6W119LCJyb2xlcyI6WyJmYWJyaWMtYWN0aXZlLXVzZXJzIiwiYWRlM2E3ZGQtOTQ4OC00MGY5LThmYzYtOTY3ZGUwZWVhNzM1LXBtIl0sInNjb3BlIjoiYWxsIn0.oou5M2CXWGcSiTFGXOfZLHp76n4HPYVVtgHIi-DdWlMzZf7rfbyPof4tm0cXP8LwN06v7KI92_PWksa5_CjzlZUQCJcJ6wotI3Nki7w16UHZV3eF-QDvd8lY4v_kpgUIomOkzxv3TMc0zrG6w3qmK-mNn_vbe09CqUlHiZMFYWvVLVQhPxtf7QGJmLuCsrFDKsRxYJD4n_8R-YgvOcHtvQ0n3EdtBT75hvZgjlphIoC-vMrnGdhkpWCAp9TYqyKjlqx0C9nTB33eaTiJ8IIFpQsvASJH-H6YFdt3XkvFvCXE7R9h40qI1AwM1rxijqSRVkE0JWRaVvNDJK4uGbl8o9kXpttwxRcULUr-_BReoRK0H4WM2NTlKaO8E7ZEhhv0E3l3CCE0FSPaSFhLjZmI8Xavi7mtN-SC2IobqZywjQiHB_i8Fkp8JTFMhgHQC47rvsUJ_gQNc1kxJDBpDiTLMOeP5WBmFNOyjMW5Eg5XvAY1wKg8yYlRwwRWFD-z_3z351RHqmbiEJLuykO_A7c_nqwH9pisNct9t2cDrL6N80sGskbacFXhFN5uTkrKaBFg4_w2hgDHCrv7sbnEFQlzMIRU5_MvadzTtgVyCTR3XZPJTyMY0sxni2CgqotupwGaHvtTLLLjt3d_gXNK7ewsMIdI9ZGmFxbq0NCj6nGXK7Q\n",
      "\n",
      "Stored new Refresh Token\n",
      "Stored 'fabric_refresh_token' (str)\n",
      "\n",
      "Stroed new ID Token\n",
      "Stored 'fabric_id_token' (str)\n",
      "\n"
     ]
    }
   ],
   "source": [
    "import os\n",
    "\n",
    "fabric_refresh_token = None\n",
    "%store -r fabric_refresh_token\n",
    "\n",
    "if fabric_refresh_token is None:\n",
    "    fabric_refresh_token = os.environ['CILOGON_REFRESH_TOKEN']\n",
    "    %store fabric_refresh_token\n",
    "    \n",
    "print(\"Refresh token is: {}\".format(fabric_refresh_token))\n",
    "\n",
    "import json\n",
    "from fabrictestbed.slice_manager import SliceManager, Status\n",
    "\n",
    "credentialmanager_host = os.environ['FABRIC_CREDMGR_HOST']\n",
    "orchestrator_host = os.environ['FABRIC_ORCHESTRATOR_HOST']\n",
    "\n",
    "print()\n",
    "print(f\"CM Host: {credentialmanager_host} Orchestrator Host: {orchestrator_host}\")\n",
    "\n",
    "slice_manager = SliceManager(oc_host = orchestrator_host, cm_host = credentialmanager_host, refresh_token = fabric_refresh_token, project_name='all', scope='all')\n",
    "\n",
    "ssh_key = None\n",
    "with open (\"/home/fabric/.ssh/id_rsa.pub\", \"r\") as myfile:\n",
    "    ssh_key=myfile.read().strip()\n",
    "    \n",
    "try:\n",
    "    id_token, refresh_token = slice_manager.refresh_tokens()\n",
    "except Exception as e:\n",
    "    print(\"Exception occurred while getting tokens:{}\".format(e))\n",
    "\n",
    "fabric_refresh_token=slice_manager.get_refresh_token()\n",
    "fabric_id_token=slice_manager.get_id_token()\n",
    "print()\n",
    "print(\"New Refresh Token: {}\".format(fabric_refresh_token))\n",
    "print()\n",
    "print(\"New Id Token: {}\".format(fabric_id_token))\n",
    "print()\n",
    "print(\"Stored new Refresh Token\")\n",
    "%store fabric_refresh_token\n",
    "print()\n",
    "print(\"Stroed new ID Token\")\n",
    "%store fabric_id_token\n",
    "print() "
   ]
  },
  {
   "cell_type": "markdown",
   "id": "c343faa8-0ecd-416e-937c-cdf1cfcd0f90",
   "metadata": {},
   "source": [
    "## Install widget libraries"
   ]
  },
  {
   "cell_type": "code",
   "execution_count": 8,
   "id": "8831a176-c1ca-448c-af3c-c983ca272fcd",
   "metadata": {
    "tags": []
   },
   "outputs": [
    {
     "name": "stdout",
     "output_type": "stream",
     "text": [
      "Collecting package metadata (current_repodata.json): done\n",
      "Solving environment: done\n",
      "\n",
      "# All requested packages already installed.\n",
      "\n",
      "\n",
      "Note: you may need to restart the kernel to use updated packages.\n"
     ]
    }
   ],
   "source": [
    "conda install -c conda-forge ipyleaflet"
   ]
  },
  {
   "cell_type": "code",
   "execution_count": 9,
   "id": "255f89b7-7ce8-4e16-8323-3719827b425c",
   "metadata": {},
   "outputs": [
    {
     "name": "stdout",
     "output_type": "stream",
     "text": [
      "Collecting package metadata (current_repodata.json): done\n",
      "Solving environment: done\n",
      "\n",
      "# All requested packages already installed.\n",
      "\n",
      "\n",
      "Note: you may need to restart the kernel to use updated packages.\n"
     ]
    }
   ],
   "source": [
    "conda install -c conda-forge ipywidgets"
   ]
  },
  {
   "cell_type": "code",
   "execution_count": 4,
   "id": "949423a0-f9c8-4b72-8322-f943a43c4880",
   "metadata": {
    "tags": []
   },
   "outputs": [
    {
     "name": "stdout",
     "output_type": "stream",
     "text": [
      "Help on class SliceManager in module fabrictestbed.slice_manager.slice_manager:\n",
      "\n",
      "class SliceManager(builtins.object)\n",
      " |  SliceManager(*, cm_host: str, oc_host: str, refresh_token: str, project_name: str = 'all', scope: str = 'all')\n",
      " |  \n",
      " |  Implements User facing Control Framework API interface\n",
      " |  \n",
      " |  Methods defined here:\n",
      " |  \n",
      " |  __init__(self, *, cm_host: str, oc_host: str, refresh_token: str, project_name: str = 'all', scope: str = 'all')\n",
      " |      Initialize self.  See help(type(self)) for accurate signature.\n",
      " |  \n",
      " |  create(self, *, slice_name: str, ssh_key: str, topology: fim.user.topology.ExperimentTopology = None, slice_graph: str = None, lease_end_time: str = None) -> Tuple[fabric_cf.orchestrator.orchestrator_proxy.Status, Union[Exception, List[fabric_cf.orchestrator.elements.reservation.Reservation]]]\n",
      " |      Create a slice\n",
      " |      @param slice_name slice name\n",
      " |      @param ssh_key SSH Key\n",
      " |      @param topology Experiment topology\n",
      " |      @param slice_graph Slice Graph string\n",
      " |      @param lease_end_time Lease End Time\n",
      " |      @return Tuple containing Status and Exception/Json containing slivers created\n",
      " |  \n",
      " |  delete(self, *, slice_id: str) -> Tuple[fabric_cf.orchestrator.orchestrator_proxy.Status, Optional[Exception]]\n",
      " |      Delete a slice\n",
      " |      @param slice_id slice id\n",
      " |      @return Tuple containing Status and Exception/Json containing deletion status\n",
      " |  \n",
      " |  get_id_token(self) -> str\n",
      " |  \n",
      " |  get_refresh_token(self) -> str\n",
      " |  \n",
      " |  get_slice(self, *, slice_id: str) -> Tuple[fabric_cf.orchestrator.orchestrator_proxy.Status, Union[Exception, fim.user.topology.ExperimentTopology]]\n",
      " |      Get slice\n",
      " |      @param slice_id slice id\n",
      " |      @return Tuple containing Status and Exception/Json containing slice\n",
      " |  \n",
      " |  refresh_tokens(self) -> Tuple[str, str]\n",
      " |      Refresh tokens\n",
      " |      User is expected to invoke refresh token API before invoking any other APIs to ensure the token is not expired.\n",
      " |      User is also expected to update the returned refresh token in the JupyterHub environment.\n",
      " |  \n",
      " |  renew(self, *, slice_id: str, new_lease_end_time: str) -> Tuple[fabric_cf.orchestrator.orchestrator_proxy.Status, Union[Exception, List, NoneType]]\n",
      " |      Renew a slice\n",
      " |      @param slice_id slice_id\n",
      " |      @param new_lease_end_time new_lease_end_time\n",
      " |      @return Tuple containing Status and List of Reservation Id failed to extend\n",
      " |  \n",
      " |  resources(self, *, level: int = 1) -> Tuple[fabric_cf.orchestrator.orchestrator_proxy.Status, Union[Exception, fim.user.topology.AdvertizedTopology]]\n",
      " |      Get resources\n",
      " |      @param level level\n",
      " |      @return Tuple containing Status and Exception/Json containing Resources\n",
      " |  \n",
      " |  revoke_token(self, refresh_token: str = None) -> Tuple[fabric_cf.orchestrator.orchestrator_proxy.Status, Any]\n",
      " |  \n",
      " |  set_id_token(self, id_token: str)\n",
      " |  \n",
      " |  slice_status(self, *, slice_id: str) -> Tuple[fabric_cf.orchestrator.orchestrator_proxy.Status, Union[Exception, fabric_cf.orchestrator.elements.slice.Slice]]\n",
      " |      Get slice status\n",
      " |      @param slice_id slice id\n",
      " |      @return Tuple containing Status and Exception/Json containing slice status\n",
      " |  \n",
      " |  slices(self) -> Tuple[fabric_cf.orchestrator.orchestrator_proxy.Status, Union[Exception, List[fabric_cf.orchestrator.elements.slice.Slice]]]\n",
      " |      Get slices\n",
      " |      @return Tuple containing Status and Exception/Json containing slices\n",
      " |  \n",
      " |  sliver_status(self, *, slice_id: str, sliver_id: str) -> Tuple[fabric_cf.orchestrator.orchestrator_proxy.Status, Union[Exception, fabric_cf.orchestrator.elements.reservation.Reservation]]\n",
      " |      Get slivers\n",
      " |      @param slice_id slice id\n",
      " |      @param sliver_id slice sliver_id\n",
      " |      @return Tuple containing Status and Exception/Json containing Sliver status\n",
      " |  \n",
      " |  slivers(self, *, slice_id: str, sliver_id: str = None) -> Tuple[fabric_cf.orchestrator.orchestrator_proxy.Status, Union[Exception, List[fabric_cf.orchestrator.elements.reservation.Reservation]]]\n",
      " |      Get slivers\n",
      " |      @param slice_id slice id\n",
      " |      @param sliver_id slice sliver_id\n",
      " |      @return Tuple containing Status and Exception/Json containing Sliver(s)\n",
      " |  \n",
      " |  ----------------------------------------------------------------------\n",
      " |  Data descriptors defined here:\n",
      " |  \n",
      " |  __dict__\n",
      " |      dictionary for instance variables (if defined)\n",
      " |  \n",
      " |  __weakref__\n",
      " |      list of weak references to the object (if defined)\n",
      "\n"
     ]
    }
   ],
   "source": [
    "help(SliceManager)"
   ]
  },
  {
   "cell_type": "markdown",
   "id": "c0e79ebe-fc4b-4e3c-9ed8-7f02c0a8f98f",
   "metadata": {},
   "source": [
    "## Query available resources and store info"
   ]
  },
  {
   "cell_type": "code",
   "execution_count": 2,
   "id": "e57dc313-e229-4ff7-93e0-a05276493d80",
   "metadata": {},
   "outputs": [
    {
     "name": "stdout",
     "output_type": "stream",
     "text": [
      "<b>UKY</b><br>cpu: 6/6<br>core: 96/96<br>ram: 1536/1536<br>disk: 109600/109600<br>unit: 3/3<br>\n"
     ]
    }
   ],
   "source": [
    "from fabrictestbed.slice_editor import Capacities\n",
    "\n",
    "status, advertised_topology = slice_manager.resources()\n",
    "\n",
    "topology_dict = {}\n",
    "\n",
    "#get information from the advertised topology to display on the graph\n",
    "    #used info from the following documentation sites for retrieving attributes:\n",
    "        #https://github.com/fabric-testbed/InformationModel/blob/911aed03256ed2c4a9f2dbbddb693f1dc47ed8ab/fim/graph/slices/networkx_asm.py#L33\n",
    "        #https://github.com/fabric-testbed/InformationModel/blob/master/fim/user/topology.py\n",
    "for t in advertised_topology.sites.values():\n",
    "    \n",
    "    name = t.name\n",
    "    \n",
    "    #available capacities total vs. currently allocated ones\n",
    "    available_capacities = t.get_property(\"capacities\")\n",
    "    allocated_capacities = t.get_property(\"capacity_allocations\")\n",
    "    \n",
    "    if allocated_capacities is None:\n",
    "        allocated_capacities = Capacities() \n",
    "        \n",
    "    d1 = available_capacities.__dict__.copy()\n",
    "    d2 = allocated_capacities.__dict__.copy()\n",
    "    \n",
    "    #remove capacities that are not available \n",
    "    for d in allocated_capacities.__dict__:\n",
    "        if d1[d] == 0 and d2[d] == 0:\n",
    "            d1.pop(d)\n",
    "            d2.pop(d)\n",
    "    \n",
    "    #html string with info for graph\n",
    "    html_str = '<b>' + name + '</b><br>'     \n",
    "    for c in d1:\n",
    "        html_str = html_str + c + ': ' + str(d1[c] - d2[c]) + '/' + str(d1[c]) + '<br>'\n",
    "        \n",
    "    topology_dict[name] = html_str\n",
    "    print(html_str)"
   ]
  },
  {
   "cell_type": "markdown",
   "id": "c7b5e971-1bbf-4dbd-a670-ff0404f6ba40",
   "metadata": {
    "tags": []
   },
   "source": [
    "## Interactive maps of sites with topology resource info"
   ]
  },
  {
   "cell_type": "markdown",
   "id": "940ef81c-7ecd-4771-9e45-4d0f2e2b8f2b",
   "metadata": {},
   "source": [
    "### Simple overview map\n",
    "\n",
    "Simple markers on the sites that have a popup window with information."
   ]
  },
  {
   "cell_type": "code",
   "execution_count": 3,
   "id": "0eb48703-e5b1-4af5-a099-5c2d7e73ce18",
   "metadata": {
    "tags": []
   },
   "outputs": [
    {
     "data": {
      "application/vnd.jupyter.widget-view+json": {
       "model_id": "edd538b399d6482496b063dc6eabb1ee",
       "version_major": 2,
       "version_minor": 0
      },
      "text/plain": [
       "Map(center=[38.12480976137421, -95.7129], controls=(ZoomControl(options=['position', 'zoom_in_text', 'zoom_in_…"
      ]
     },
     "metadata": {},
     "output_type": "display_data"
    }
   ],
   "source": [
    "from ipywidgets import HTML\n",
    "from ipyleaflet import Map, basemaps, Marker, Popup, AntPath\n",
    "\n",
    "##Latitutdes and longitudes from google maps:\n",
    "\n",
    "#UKY: 38.03154264461649, -84.50343326019218\n",
    "#RENCI: 35.93996154497003, -79.01809264307425\n",
    "#LBL: 38.94977311613871, -122.61289106281062\n",
    "#Middle of US: 38.12480976137421, -99.05820394051159\n",
    "    #or: 37.0902° N, 95.7129° W\n",
    "\n",
    "site_dict = {'UKY': (38.03154264461649, -84.50343326019218), 'RENCI': (35.93996154497003, -79.01809264307425), 'LBNL': (38.94977311613871, -122.61289106281062)}\n",
    "\n",
    "sites = Map(basemap=basemaps.Esri.WorldStreetMap, center=(38.12480976137421, -95.7129), zoom = 3.8)\n",
    "\n",
    "\n",
    "for site, coordinates in site_dict.items():\n",
    "    if site in topology_dict.keys():\n",
    "        html_info = HTML(topology_dict[site])\n",
    "    else:\n",
    "        message = '<b>' + site + '</b>' #cause at the moment only one site is actually up\n",
    "        html_info = HTML(message)\n",
    "    marker = Marker(location = coordinates, draggable = False, title = site)\n",
    "    marker.popup = html_info\n",
    "    sites.add_layer(marker)\n",
    "\n",
    "sites"
   ]
  },
  {
   "cell_type": "markdown",
   "id": "46569eb0-8df6-47cb-b9a1-6b69b7300309",
   "metadata": {},
   "source": [
    "### Map with colors indicating resource status\n",
    "\n",
    "For even more informative - color code the location markers based on information from advertised topology on the current state of resources. Red- all out of resources, Orange-not a lot left/out of some, Green-all good...\n",
    "\n",
    "- TODO: \n",
    "    - Need control that evaluates if site is in green, orange or red category of icons from input"
   ]
  },
  {
   "cell_type": "code",
   "execution_count": 4,
   "id": "519ab1a1-6d2f-45a9-92e0-105590c9ca5c",
   "metadata": {},
   "outputs": [
    {
     "data": {
      "application/vnd.jupyter.widget-view+json": {
       "model_id": "6b89319bfbbc4d0da5faa8cb018f4722",
       "version_major": 2,
       "version_minor": 0
      },
      "text/plain": [
       "Map(center=[38.12480976137421, -95.7129], controls=(ZoomControl(options=['position', 'zoom_in_text', 'zoom_in_…"
      ]
     },
     "metadata": {},
     "output_type": "display_data"
    }
   ],
   "source": [
    "from ipywidgets import HTML\n",
    "from ipyleaflet import Map, basemaps, Marker, Popup, AntPath, AwesomeIcon\n",
    "\n",
    "sites = Map(basemap=basemaps.Esri.WorldStreetMap, center=(38.12480976137421, -95.7129), zoom = 3.8)\n",
    "\n",
    "\n",
    "icon_green = AwesomeIcon(\n",
    "    name='circle',\n",
    "    marker_color='green',\n",
    "    icon_color='black',\n",
    "    spin=False\n",
    ")\n",
    "\n",
    "icon_orange = AwesomeIcon(\n",
    "    name='circle',\n",
    "    marker_color='orange',\n",
    "    icon_color='black',\n",
    "    spin=False\n",
    ")\n",
    "\n",
    "icon_red = AwesomeIcon(\n",
    "    name='circle',\n",
    "    marker_color='red',\n",
    "    icon_color='black',\n",
    "    spin=False\n",
    ")\n",
    "\n",
    "#Examples with the different colors, also examples of different \n",
    "marker_uky = Marker(icon=icon_green, location=(38.03154264461649, -84.50343326019218), draggable=False)\n",
    "sites.add_layer(marker_uky)\n",
    "message1 = HTML()\n",
    "message1.value = topology_dict['UKY']\n",
    "message1.placehodler = \"UKY\"\n",
    "marker_uky.popup = message1\n",
    "\n",
    "\n",
    "marker_renci = Marker(icon=icon_orange, location=(35.93996154497003, -79.01809264307425), draggable=False)\n",
    "sites.add_layer(marker_renci)\n",
    "message2 = HTML(\"<b>RENCI</b><br>Just a little bit of resources left\")\n",
    "marker_renci.popup = message2\n",
    "\n",
    "\n",
    "marker_lbnl =  Marker(icon=icon_red, location=(38.94977311613871, -122.61289106281062), draggable=False)\n",
    "sites.add_layer(marker_lbnl)\n",
    "marker_lbnl.popup = HTML(\"<b>LBNL</b><br>All recources occupied\")\n",
    "\n",
    "\n",
    "sites"
   ]
  },
  {
   "cell_type": "markdown",
   "id": "21024ddc-2191-4fab-97f3-e609b49f98a1",
   "metadata": {},
   "source": [
    "### Helpful documentation on maps with ipyleaflet:\n",
    "\n",
    "https://ipyleaflet.readthedocs.io/en/latest/api_reference/map.html"
   ]
  },
  {
   "cell_type": "code",
   "execution_count": null,
   "id": "f13b7cea-5272-4f71-8471-4d051458c339",
   "metadata": {},
   "outputs": [],
   "source": []
  }
 ],
 "metadata": {
  "kernelspec": {
   "display_name": "Python 3",
   "language": "python",
   "name": "python3"
  },
  "language_info": {
   "codemirror_mode": {
    "name": "ipython",
    "version": 3
   },
   "file_extension": ".py",
   "mimetype": "text/x-python",
   "name": "python",
   "nbconvert_exporter": "python",
   "pygments_lexer": "ipython3",
   "version": "3.9.2"
  }
 },
 "nbformat": 4,
 "nbformat_minor": 5
}
