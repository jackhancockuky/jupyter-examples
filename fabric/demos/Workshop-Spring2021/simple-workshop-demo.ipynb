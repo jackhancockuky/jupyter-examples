{
 "cells": [
  {
   "cell_type": "markdown",
   "metadata": {},
   "source": [
    "# FABRIC Experimenters Workshop: Jupyter/API Demo\n",
    "\n",
    "\n",
    "## Configure the Environment\n",
    "\n",
    "### Create the FABRIC Slice Manager\n",
    "\n",
    "The FABRIC API is used via Slice Manager that manage APIs to the control framework. \n",
    "\n",
    "Fabric uses two kinds of tokens:\n",
    "\n",
    "- Refresh Token: When user logins to Jupyterhub after authenticating against CILogon, an initial refresh token is derived. This token is available as the environment variable `CILOGON_REFRESH_TOKEN` and is used to generate the initial Identity Token. On every refresh, Fabric Refresh Token is changed and updated. Each Refresh Token is valid for 24 hours.\n",
    "\n",
    "- Identity Token: The control/measurement framework APIs require an Identity Token. Identity tokens can be generated from a valid Refresh Token at any time. Each Identity Token is valid upto an hour.\n",
    "\n"
   ]
  },
  {
   "cell_type": "markdown",
   "metadata": {},
   "source": [
    "# Save the Initial Refresh Token"
   ]
  },
  {
   "cell_type": "code",
   "execution_count": 1,
   "metadata": {},
   "outputs": [
    {
     "name": "stdout",
     "output_type": "stream",
     "text": [
      "Refresh Token: NB2HI4DTHIXS6Y3JNRXWO33OFZXXEZZPN5QXK5DIGIXTKZRUGYZGGNJYGFQWIMDDMFTDIZRXMEZTQNJTMI2DSODEMJTDONZ7OR4XAZJ5OJSWM4TFONUFI33LMVXCM5DTHUYTMMRWG44TGOBUGYYDMNRGOZSXE43JN5XD25RSFYYCM3DJMZSXI2LNMU6TQNRUGAYDAMBQ\n"
     ]
    }
   ],
   "source": [
    "import os\n",
    "#Retrieve or set the refresh token (exprires 24 hours after login)\n",
    "fabric_refresh_token=None\n",
    "%store -r fabric_refresh_token\n",
    "if fabric_refresh_token is None:\n",
    "    fabric_refresh_token=os.environ['CILOGON_REFRESH_TOKEN']\n",
    "    %store fabric_refresh_token\n",
    "\n",
    "print(\"Refresh Token: {}\".format(fabric_refresh_token))"
   ]
  },
  {
   "cell_type": "markdown",
   "metadata": {},
   "source": [
    "# Create Slice Manager"
   ]
  },
  {
   "cell_type": "code",
   "execution_count": 3,
   "metadata": {},
   "outputs": [
    {
     "name": "stdout",
     "output_type": "stream",
     "text": [
      "CM Host: beta-2.fabric-testbed.net Orchestrator Host: beta-7.fabric-testbed.net\n"
     ]
    }
   ],
   "source": [
    "import os\n",
    "import json\n",
    "\n",
    "from fabrictestbed.slice_manager import SliceManager, Status\n",
    "\n",
    "credmgr_host = os.environ['FABRIC_CREDMGR_HOST']\n",
    "orchestrator_host = os.environ['FABRIC_ORCHESTRATOR_HOST']\n",
    "print(f\"CM Host: {credmgr_host} Orchestrator Host: {orchestrator_host}\")\n",
    "\n",
    "# Create Slice Manager\n",
    "slice_manager = SliceManager(oc_host=orchestrator_host, cm_host=credmgr_host, project_name='all', scope='all')\n",
    "\n",
    "#Cofigure SSH Key\n",
    "ssh_key = None\n",
    "with open (\"/home/fabric/.ssh/id_rsa.pub\", \"r\") as myfile:\n",
    "    ssh_key=myfile.read().strip()"
   ]
  },
  {
   "cell_type": "markdown",
   "metadata": {},
   "source": [
    "### Refresh the ID Token\n",
    "\n",
    "ID Tokens expire one hour after refresh. "
   ]
  },
  {
   "cell_type": "code",
   "execution_count": 4,
   "metadata": {},
   "outputs": [
    {
     "name": "stdout",
     "output_type": "stream",
     "text": [
      "Exception occurred while getting tokens:Invalid value for `refresh_token`, must not be `None`\n",
      "\n",
      "New Refresh Token: None\n",
      "\n",
      "Stored new Refresh Token\n",
      "Stored 'fabric_refresh_token' (NoneType)\n",
      "\n",
      "\n"
     ]
    }
   ],
   "source": [
    "try:\n",
    "    id_token, refresh_token = slice_manager.refresh_tokens()\n",
    "except Exception as e:\n",
    "    print(\"Exception occurred while getting tokens:{}\".format(e))\n",
    "\n",
    "fabric_refresh_token=slice_manager.get_refresh_token()\n",
    "print()\n",
    "print(\"New Refresh Token: {}\".format(fabric_refresh_token))\n",
    "print()\n",
    "print(\"Stored new Refresh Token\")\n",
    "%store fabric_refresh_token\n",
    "print()\n",
    "print()\n",
    "    "
   ]
  },
  {
   "cell_type": "markdown",
   "metadata": {},
   "source": [
    "## Getting Help"
   ]
  },
  {
   "cell_type": "code",
   "execution_count": 5,
   "metadata": {},
   "outputs": [
    {
     "name": "stdout",
     "output_type": "stream",
     "text": [
      "Help on class SliceManager in module fabrictestbed.slice_manager.slice_manager:\n",
      "\n",
      "class SliceManager(builtins.object)\n",
      " |  SliceManager(*, cm_host: str, oc_host: str, token_location: str = None, project_name: str = 'all', scope: str = 'all')\n",
      " |  \n",
      " |  Implements User facing Control Framework API interface\n",
      " |  \n",
      " |  Methods defined here:\n",
      " |  \n",
      " |  __init__(self, *, cm_host: str, oc_host: str, token_location: str = None, project_name: str = 'all', scope: str = 'all')\n",
      " |      Initialize self.  See help(type(self)) for accurate signature.\n",
      " |  \n",
      " |  create(self, *, slice_name: str, ssh_key: str, topology: fim.user.topology.ExperimentTopology = None, slice_graph: str = None, lease_end_time: str = None) -> Tuple[fabric_cf.orchestrator.orchestrator_proxy.Status, Union[Exception, List[fabric_cf.orchestrator.elements.reservation.Reservation]]]\n",
      " |      Create a slice\n",
      " |      @param slice_name slice name\n",
      " |      @param ssh_key SSH Key\n",
      " |      @param topology Experiment topology\n",
      " |      @param slice_graph Slice Graph string\n",
      " |      @param lease_end_time Lease End Time\n",
      " |      @return Tuple containing Status and Exception/Json containing slivers created\n",
      " |  \n",
      " |  delete(self, *, slice_id: str) -> Tuple[fabric_cf.orchestrator.orchestrator_proxy.Status, Optional[Exception]]\n",
      " |      Delete a slice\n",
      " |      @param slice_id slice id\n",
      " |      @return Tuple containing Status and Exception/Json containing deletion status\n",
      " |  \n",
      " |  get_id_token(self) -> str\n",
      " |      Get Id token\n",
      " |      @return id token\n",
      " |  \n",
      " |  get_refresh_token(self) -> str\n",
      " |      Get Refresh Token\n",
      " |      @return refresh token\n",
      " |  \n",
      " |  get_slice(self, *, slice_id: str) -> Tuple[fabric_cf.orchestrator.orchestrator_proxy.Status, Union[Exception, fim.user.topology.ExperimentTopology]]\n",
      " |      Get slice\n",
      " |      @param slice_id slice id\n",
      " |      @return Tuple containing Status and Exception/Json containing slice\n",
      " |  \n",
      " |  initialize(self)\n",
      " |      Initialize the Slice Manager object\n",
      " |      - Load the tokens\n",
      " |      - Refresh if needed\n",
      " |  \n",
      " |  refresh_tokens(self, *, refresh_token: str = None) -> Tuple[str, str]\n",
      " |      Refresh tokens\n",
      " |      User is expected to invoke refresh token API before invoking any other APIs to ensure the token is not expired.\n",
      " |      User is also expected to update the returned refresh token in the JupyterHub environment.\n",
      " |      @returns tuple of id token and refresh token\n",
      " |  \n",
      " |  renew(self, *, slice_id: str, new_lease_end_time: str) -> Tuple[fabric_cf.orchestrator.orchestrator_proxy.Status, Union[Exception, List, NoneType]]\n",
      " |      Renew a slice\n",
      " |      @param slice_id slice_id\n",
      " |      @param new_lease_end_time new_lease_end_time\n",
      " |      @return Tuple containing Status and List of Reservation Id failed to extend\n",
      " |  \n",
      " |  resources(self, *, level: int = 1) -> Tuple[fabric_cf.orchestrator.orchestrator_proxy.Status, Union[Exception, fim.user.topology.AdvertizedTopology]]\n",
      " |      Get resources\n",
      " |      @param level level\n",
      " |      @return Tuple containing Status and Exception/Json containing Resources\n",
      " |  \n",
      " |  revoke_token(self, *, refresh_token: str = None) -> Tuple[fabric_cf.orchestrator.orchestrator_proxy.Status, Any]\n",
      " |      Revoke a refresh token\n",
      " |      @param refresh_token Refresh Token to be revoked\n",
      " |      @return Tuple of the status and revoked refresh token\n",
      " |  \n",
      " |  set_token_location(self, *, token_location: str)\n",
      " |      Set token location: path of the file where tokens should be saved\n",
      " |      @param token_location file name along with complete path where tokens should be stored\n",
      " |  \n",
      " |  slice_status(self, *, slice_id: str) -> Tuple[fabric_cf.orchestrator.orchestrator_proxy.Status, Union[Exception, fabric_cf.orchestrator.elements.slice.Slice]]\n",
      " |      Get slice status\n",
      " |      @param slice_id slice id\n",
      " |      @return Tuple containing Status and Exception/Json containing slice status\n",
      " |  \n",
      " |  slices(self, state: str = 'Active') -> Tuple[fabric_cf.orchestrator.orchestrator_proxy.Status, Union[Exception, List[fabric_cf.orchestrator.elements.slice.Slice]]]\n",
      " |      Get slices\n",
      " |      @param state Slice state\n",
      " |      @return Tuple containing Status and Exception/Json containing slices\n",
      " |  \n",
      " |  sliver_status(self, *, slice_id: str, sliver_id: str) -> Tuple[fabric_cf.orchestrator.orchestrator_proxy.Status, Union[Exception, fabric_cf.orchestrator.elements.reservation.Reservation]]\n",
      " |      Get slivers\n",
      " |      @param slice_id slice id\n",
      " |      @param sliver_id slice sliver_id\n",
      " |      @return Tuple containing Status and Exception/Json containing Sliver status\n",
      " |  \n",
      " |  slivers(self, *, slice_id: str, sliver_id: str = None) -> Tuple[fabric_cf.orchestrator.orchestrator_proxy.Status, Union[Exception, List[fabric_cf.orchestrator.elements.reservation.Reservation]]]\n",
      " |      Get slivers\n",
      " |      @param slice_id slice id\n",
      " |      @param sliver_id slice sliver_id\n",
      " |      @return Tuple containing Status and Exception/Json containing Sliver(s)\n",
      " |  \n",
      " |  ----------------------------------------------------------------------\n",
      " |  Data descriptors defined here:\n",
      " |  \n",
      " |  __dict__\n",
      " |      dictionary for instance variables (if defined)\n",
      " |  \n",
      " |  __weakref__\n",
      " |      list of weak references to the object (if defined)\n",
      " |  \n",
      " |  ----------------------------------------------------------------------\n",
      " |  Data and other attributes defined here:\n",
      " |  \n",
      " |  CILOGON_REFRESH_TOKEN = 'CILOGON_REFRESH_TOKEN'\n",
      " |  \n",
      " |  DEFAULT_TOKEN_LOCATION = 'FABRIC_TOKEN_LOCATION'\n",
      "\n"
     ]
    }
   ],
   "source": [
    "help(SliceManager)"
   ]
  },
  {
   "cell_type": "markdown",
   "metadata": {},
   "source": [
    "## Query Resource Availability \n",
    "\n",
    "### Get Advertisement from Proxy"
   ]
  },
  {
   "cell_type": "code",
   "execution_count": 6,
   "metadata": {},
   "outputs": [
    {
     "ename": "SliceManagerException",
     "evalue": "Slice Manager has not been initialized!",
     "output_type": "error",
     "traceback": [
      "\u001b[0;31m---------------------------------------------------------------------------\u001b[0m",
      "\u001b[0;31mSliceManagerException\u001b[0m                     Traceback (most recent call last)",
      "\u001b[0;32m<ipython-input-6-96819900c81a>\u001b[0m in \u001b[0;36m<module>\u001b[0;34m\u001b[0m\n\u001b[0;32m----> 1\u001b[0;31m \u001b[0mstatus\u001b[0m\u001b[0;34m,\u001b[0m \u001b[0madvertised_topology\u001b[0m \u001b[0;34m=\u001b[0m \u001b[0mslice_manager\u001b[0m\u001b[0;34m.\u001b[0m\u001b[0mresources\u001b[0m\u001b[0;34m(\u001b[0m\u001b[0;34m)\u001b[0m\u001b[0;34m\u001b[0m\u001b[0;34m\u001b[0m\u001b[0m\n\u001b[0m\u001b[1;32m      2\u001b[0m \u001b[0;34m\u001b[0m\u001b[0m\n\u001b[1;32m      3\u001b[0m \u001b[0mprint\u001b[0m\u001b[0;34m(\u001b[0m\u001b[0;34mf\"Status: {status}\"\u001b[0m\u001b[0;34m)\u001b[0m\u001b[0;34m\u001b[0m\u001b[0;34m\u001b[0m\u001b[0m\n\u001b[1;32m      4\u001b[0m \u001b[0mprint\u001b[0m\u001b[0;34m(\u001b[0m\u001b[0;34mf\"Toplogy: {advertised_topology}\"\u001b[0m\u001b[0;34m)\u001b[0m\u001b[0;34m\u001b[0m\u001b[0;34m\u001b[0m\u001b[0m\n",
      "\u001b[0;32m/opt/conda/lib/python3.9/site-packages/fabrictestbed/slice_manager/slice_manager.py\u001b[0m in \u001b[0;36mresources\u001b[0;34m(self, level)\u001b[0m\n\u001b[1;32m    245\u001b[0m         \u001b[0;34m@\u001b[0m\u001b[0;32mreturn\u001b[0m \u001b[0mTuple\u001b[0m \u001b[0mcontaining\u001b[0m \u001b[0mStatus\u001b[0m \u001b[0;32mand\u001b[0m \u001b[0mException\u001b[0m\u001b[0;34m/\u001b[0m\u001b[0mJson\u001b[0m \u001b[0mcontaining\u001b[0m \u001b[0mResources\u001b[0m\u001b[0;34m\u001b[0m\u001b[0;34m\u001b[0m\u001b[0m\n\u001b[1;32m    246\u001b[0m         \"\"\"\n\u001b[0;32m--> 247\u001b[0;31m         \u001b[0;32mif\u001b[0m \u001b[0mself\u001b[0m\u001b[0;34m.\u001b[0m\u001b[0m__should_renew\u001b[0m\u001b[0;34m(\u001b[0m\u001b[0;34m)\u001b[0m\u001b[0;34m:\u001b[0m\u001b[0;34m\u001b[0m\u001b[0;34m\u001b[0m\u001b[0m\n\u001b[0m\u001b[1;32m    248\u001b[0m             \u001b[0mself\u001b[0m\u001b[0;34m.\u001b[0m\u001b[0mrefresh_tokens\u001b[0m\u001b[0;34m(\u001b[0m\u001b[0;34m)\u001b[0m\u001b[0;34m\u001b[0m\u001b[0;34m\u001b[0m\u001b[0m\n\u001b[1;32m    249\u001b[0m         \u001b[0;32mreturn\u001b[0m \u001b[0mself\u001b[0m\u001b[0;34m.\u001b[0m\u001b[0moc_proxy\u001b[0m\u001b[0;34m.\u001b[0m\u001b[0mresources\u001b[0m\u001b[0;34m(\u001b[0m\u001b[0mtoken\u001b[0m\u001b[0;34m=\u001b[0m\u001b[0mself\u001b[0m\u001b[0;34m.\u001b[0m\u001b[0mget_id_token\u001b[0m\u001b[0;34m(\u001b[0m\u001b[0;34m)\u001b[0m\u001b[0;34m,\u001b[0m \u001b[0mlevel\u001b[0m\u001b[0;34m=\u001b[0m\u001b[0mlevel\u001b[0m\u001b[0;34m)\u001b[0m\u001b[0;34m\u001b[0m\u001b[0;34m\u001b[0m\u001b[0m\n",
      "\u001b[0;32m/opt/conda/lib/python3.9/site-packages/fabrictestbed/slice_manager/slice_manager.py\u001b[0m in \u001b[0;36m__should_renew\u001b[0;34m(self)\u001b[0m\n\u001b[1;32m     81\u001b[0m         \u001b[0;34m@\u001b[0m\u001b[0;32mreturn\u001b[0m \u001b[0mtrue\u001b[0m \u001b[0;32mif\u001b[0m \u001b[0mtokens\u001b[0m \u001b[0mshould\u001b[0m \u001b[0mbe\u001b[0m \u001b[0mrenewed\u001b[0m\u001b[0;34m;\u001b[0m \u001b[0mfalse\u001b[0m \u001b[0motherwise\u001b[0m\u001b[0;34m\u001b[0m\u001b[0;34m\u001b[0m\u001b[0m\n\u001b[1;32m     82\u001b[0m         \"\"\"\n\u001b[0;32m---> 83\u001b[0;31m         \u001b[0mself\u001b[0m\u001b[0;34m.\u001b[0m\u001b[0m__check_initialized\u001b[0m\u001b[0;34m(\u001b[0m\u001b[0;34m)\u001b[0m\u001b[0;34m\u001b[0m\u001b[0;34m\u001b[0m\u001b[0m\n\u001b[0m\u001b[1;32m     84\u001b[0m \u001b[0;34m\u001b[0m\u001b[0m\n\u001b[1;32m     85\u001b[0m         \u001b[0mid_token\u001b[0m \u001b[0;34m=\u001b[0m \u001b[0mself\u001b[0m\u001b[0;34m.\u001b[0m\u001b[0mget_id_token\u001b[0m\u001b[0;34m(\u001b[0m\u001b[0;34m)\u001b[0m\u001b[0;34m\u001b[0m\u001b[0;34m\u001b[0m\u001b[0m\n",
      "\u001b[0;32m/opt/conda/lib/python3.9/site-packages/fabrictestbed/slice_manager/slice_manager.py\u001b[0m in \u001b[0;36m__check_initialized\u001b[0;34m(self)\u001b[0m\n\u001b[1;32m     73\u001b[0m         \"\"\"\n\u001b[1;32m     74\u001b[0m         \u001b[0;32mif\u001b[0m \u001b[0;32mnot\u001b[0m \u001b[0mself\u001b[0m\u001b[0;34m.\u001b[0m\u001b[0minitialized\u001b[0m\u001b[0;34m:\u001b[0m\u001b[0;34m\u001b[0m\u001b[0;34m\u001b[0m\u001b[0m\n\u001b[0;32m---> 75\u001b[0;31m             \u001b[0;32mraise\u001b[0m \u001b[0mSliceManagerException\u001b[0m\u001b[0;34m(\u001b[0m\u001b[0;34m\"Slice Manager has not been initialized!\"\u001b[0m\u001b[0;34m)\u001b[0m\u001b[0;34m\u001b[0m\u001b[0;34m\u001b[0m\u001b[0m\n\u001b[0m\u001b[1;32m     76\u001b[0m \u001b[0;34m\u001b[0m\u001b[0m\n\u001b[1;32m     77\u001b[0m     \u001b[0;32mdef\u001b[0m \u001b[0m__should_renew\u001b[0m\u001b[0;34m(\u001b[0m\u001b[0mself\u001b[0m\u001b[0;34m)\u001b[0m \u001b[0;34m->\u001b[0m \u001b[0mbool\u001b[0m\u001b[0;34m:\u001b[0m\u001b[0;34m\u001b[0m\u001b[0;34m\u001b[0m\u001b[0m\n",
      "\u001b[0;31mSliceManagerException\u001b[0m: Slice Manager has not been initialized!"
     ]
    }
   ],
   "source": [
    "status, advertised_topology = slice_manager.resources()\n",
    "\n",
    "print(f\"Status: {status}\")\n",
    "print(f\"Toplogy: {advertised_topology}\")"
   ]
  },
  {
   "cell_type": "markdown",
   "metadata": {},
   "source": [
    "### Display Resource Topology"
   ]
  },
  {
   "cell_type": "code",
   "execution_count": null,
   "metadata": {},
   "outputs": [],
   "source": [
    "advertised_topology.draw()"
   ]
  },
  {
   "cell_type": "markdown",
   "metadata": {},
   "source": [
    "## Build Slice Request\n",
    "\n",
    "<!---\n",
    "<img src=\"./figs/AllNodes.png\" width=\"90%\"><br>\n",
    "-->\n"
   ]
  },
  {
   "cell_type": "code",
   "execution_count": null,
   "metadata": {},
   "outputs": [],
   "source": [
    "from fabrictestbed.slice_editor import ExperimentTopology, Capacities, ComponentType, LinkType, Layer\n",
    "\n",
    "# Create Experiment Topology\n",
    "experiemnt = ExperimentTopology()\n",
    "\n",
    "slice_name=\"DemoSlice\""
   ]
  },
  {
   "cell_type": "code",
   "execution_count": null,
   "metadata": {},
   "outputs": [],
   "source": [
    "help(ExperimentTopology)"
   ]
  },
  {
   "cell_type": "markdown",
   "metadata": {},
   "source": [
    "### Add Node1 at RENC\n",
    "<img src=\"./figs/Node1.png\" width=\"40%\"><br>"
   ]
  },
  {
   "cell_type": "code",
   "execution_count": null,
   "metadata": {},
   "outputs": [],
   "source": [
    "# Add Node1 with: GPU: 1xSharedConnectX-6, 1xRTX6000, 1xP4510\n",
    "node1 = experiemnt.add_node(name='node1', site='RENC')\n",
    "\n",
    "node1_capacity = Capacities()\n",
    "node1_capacity.set_fields(core=2, ram=16, disk=100)\n",
    "node1.set_properties(capacities=node1_capacity, image_type='qcow2', image_ref='default_ubuntu_20')\n",
    "\n",
    "node1_nvme = node1.add_component(ctype=ComponentType.NVME, model='P4510', name='n1_nvme')\n",
    "node1_gpu  = node1.add_component(ctype=ComponentType.GPU, model='RTX6000', name='n1_gpu')\n",
    "node1_nic = node1.add_component(ctype=ComponentType.SharedNIC, model='ConnectX-6', name='n1_nic')"
   ]
  },
  {
   "cell_type": "markdown",
   "metadata": {},
   "source": [
    "### Add Node2 at LBNL\n",
    "<img src=\"./figs/Node2.png\" width=\"40%\"><br>"
   ]
  },
  {
   "cell_type": "code",
   "execution_count": null,
   "metadata": {},
   "outputs": [],
   "source": [
    "# Add Node2 with: FastNet: 2xConnectX-5, 2xT4\n",
    "node2 = experiemnt.add_node(name='node2', site='LBNL')\n",
    "\n",
    "node2_capacity = Capacities()\n",
    "node2_capacity.set_fields(core=4, ram=32, disk=200)\n",
    "node2.set_properties(capacities=node2_capacity, image_type='qcow2', image_ref='default_ubuntu_20')\n",
    "\n",
    "node2_gpu1  = node2.add_component(ctype=ComponentType.GPU, model='Tesla T4', name='n2_gpu1')\n",
    "node2_gpu2  = node2.add_component(ctype=ComponentType.GPU, model='Tesla T4', name='n2_gpu2')\n",
    "node2_nvme1 = node2.add_component(ctype=ComponentType.SmartNIC, model='ConnectX-5', name='n2_nic1')\n",
    "node2_nvme2 = node2.add_component(ctype=ComponentType.SmartNIC, model='ConnectX-5', name='n2_nic2')"
   ]
  },
  {
   "cell_type": "markdown",
   "metadata": {},
   "source": [
    "### Add Node3 at UKY\n",
    "<img src=\"./figs/Node3.png\" width=\"40%\"><br>"
   ]
  },
  {
   "cell_type": "code",
   "execution_count": null,
   "metadata": {},
   "outputs": [],
   "source": [
    "# Add Node with: SlowNet: 1xConnectX-6, 2xT4, 4xP4510\n",
    "node3 = experiemnt.add_node(name='node3', site='UKY')\n",
    "\n",
    "node3_capacity = Capacities()\n",
    "node3_capacity.set_fields(core=8, ram=64, disk=500)\n",
    "node3.set_properties(capacities=node3_capacity, image_type='qcow2', image_ref='default_ubuntu_20')\n",
    "\n",
    "node3_nvme1 = node3.add_component(ctype=ComponentType.NVME, model='P4510', name='n3_nvme1')\n",
    "node3_nvme2 = node3.add_component(ctype=ComponentType.NVME, model='P4510', name='n3_nvme2')\n",
    "node3_nvme3 = node3.add_component(ctype=ComponentType.NVME, model='P4510', name='n3_nvme3')\n",
    "node3_nvme4 = node3.add_component(ctype=ComponentType.NVME, model='P4510', name='n3_nvme4')\n",
    "node3_gpu1  = node3.add_component(ctype=ComponentType.GPU, model='Tesla T4', name='n3_gpu1')\n",
    "node3_gpu2  = node3.add_component(ctype=ComponentType.GPU, model='Tesla T4', name='n3_gpu2')\n",
    "#node3_nic1 = node3.add_component(ctype=ComponentType.SharedNIC, model='ConnectX-6', name='n3_nic1')"
   ]
  },
  {
   "cell_type": "code",
   "execution_count": null,
   "metadata": {},
   "outputs": [],
   "source": [
    "# Generate Slice Graph\n",
    "#slice_graph = t.serialize()\n",
    "experiemnt.draw()"
   ]
  },
  {
   "cell_type": "markdown",
   "metadata": {},
   "source": [
    "## Submit the Request"
   ]
  },
  {
   "cell_type": "code",
   "execution_count": null,
   "metadata": {},
   "outputs": [],
   "source": [
    "slice_graph = experiemnt.serialize()\n",
    "\n",
    "# Request slice from Orchestrator\n",
    "status, reservations = slice_manager.create(slice_name=slice_name, slice_graph=slice_graph, ssh_key=ssh_key)\n",
    "\n",
    "\n",
    "print(\"Request {}\".format(status))\n",
    "slice_id=reservations[0].slice_id\n",
    "\n",
    "print(\"Reservations: {}\".format(reservations))\n",
    "print(\"Slice ID: {}\".format(slice_id))"
   ]
  },
  {
   "cell_type": "markdown",
   "metadata": {},
   "source": [
    "## Query Slices"
   ]
  },
  {
   "cell_type": "code",
   "execution_count": null,
   "metadata": {},
   "outputs": [],
   "source": [
    "status, slices = slice_manager.slices()\n",
    "\n",
    "print(\"Response Status {}\".format(status))\n",
    "print(\"Slices {}\".format(slices))"
   ]
  },
  {
   "cell_type": "markdown",
   "metadata": {},
   "source": [
    "## Slice Status"
   ]
  },
  {
   "cell_type": "code",
   "execution_count": null,
   "metadata": {},
   "outputs": [],
   "source": [
    "import time\n",
    "\n",
    "slice_state=None\n",
    "while slice_state != 'StableOK':\n",
    "    status, slice_status = slice_manager.slice_status(slice_id=slice_id)\n",
    "    slice_state = slice_status.slice_state\n",
    "    print(\"Response Status {}\".format(status))\n",
    "    print(\"Slice State: {}\".format(slices[0].slice_state))\n",
    "    time.sleep(20)\n",
    "\n",
    "#status, slice_status = orchestrator_proxy.slice_status(token=fabric_id_token, slice_id=slice_id)\n",
    "\n",
    "print(\"Response Status {}\".format(status))\n",
    "print(\"Slice Status {}\".format(slice_status))"
   ]
  },
  {
   "cell_type": "markdown",
   "metadata": {},
   "source": [
    "## Query Slivers"
   ]
  },
  {
   "cell_type": "code",
   "execution_count": null,
   "metadata": {},
   "outputs": [],
   "source": [
    "status, slivers = slice_manager.slivers(slice_id=slice_id)\n",
    "\n",
    "print(\"Response Status {}\".format(status))\n",
    "print(\"Slivers {}\".format(reservations))"
   ]
  },
  {
   "cell_type": "markdown",
   "metadata": {},
   "source": [
    "## Sliver Status"
   ]
  },
  {
   "cell_type": "code",
   "execution_count": null,
   "metadata": {},
   "outputs": [],
   "source": [
    "for sliver in slivers:\n",
    "    sliver_id=sliver.reservation_id\n",
    "    status, reservation_status = slice_manager.sliver_status(slice_id=slice_id, sliver_id=sliver_id)\n",
    "\n",
    "    print(\"Response Status {}\".format(status))\n",
    "    print(\"Reservation Status {}\".format(reservation_status))"
   ]
  },
  {
   "cell_type": "markdown",
   "metadata": {},
   "source": [
    "## Configure the Nodes"
   ]
  },
  {
   "cell_type": "code",
   "execution_count": null,
   "metadata": {},
   "outputs": [],
   "source": [
    "script= '#!/bin/bash  \\n' \\\n",
    "        'lspci  \\n'"
   ]
  },
  {
   "cell_type": "code",
   "execution_count": null,
   "metadata": {},
   "outputs": [],
   "source": [
    "import paramiko \n",
    "#from scp import SCPClient, SCPException\n",
    "\n",
    "key = paramiko.RSAKey.from_private_key_file(\"/home/fabric/.ssh/id_rsa\")\n",
    "client = paramiko.SSHClient()\n",
    "client.load_system_host_keys()\n",
    "client.set_missing_host_key_policy(paramiko.MissingHostKeyPolicy())\n",
    "\n",
    "client.set_missing_host_key_policy(paramiko.AutoAddPolicy())\n",
    "\n",
    "for sliver in slivers:\n",
    "    node_name = sliver.name\n",
    "    management_ip = sliver.management_ip\n",
    "    \n",
    "    print(\"Node {0} IP {1}\".format(node_name, management_ip))\n",
    "    \n",
    "    client.connect(management_ip,username='ubuntu',pkey = key)\n",
    "\n",
    "    stdin, stdout, stderr = client.exec_command('echo \\\"' + script + '\\\" > script.sh; chmod +x script.sh; sudo ./script.sh')\n",
    "    print ('')\n",
    "    print (str(stdout.read(),'utf-8').replace('\\\\n','\\n'))\n",
    "\n",
    "    client.close()"
   ]
  },
  {
   "cell_type": "markdown",
   "metadata": {},
   "source": [
    "## Delete Slice"
   ]
  },
  {
   "cell_type": "code",
   "execution_count": null,
   "metadata": {},
   "outputs": [],
   "source": [
    "status, result = slice_manager.delete(slice_id=slice_id)\n",
    "\n",
    "print(\"Response Status {}\".format(status))\n",
    "print(\"Response received {}\".format(result))"
   ]
  }
 ],
 "metadata": {
  "kernelspec": {
   "display_name": "Python 3",
   "language": "python",
   "name": "python3"
  },
  "language_info": {
   "codemirror_mode": {
    "name": "ipython",
    "version": 3
   },
   "file_extension": ".py",
   "mimetype": "text/x-python",
   "name": "python",
   "nbconvert_exporter": "python",
   "pygments_lexer": "ipython3",
   "version": "3.9.2"
  }
 },
 "nbformat": 4,
 "nbformat_minor": 4
}
