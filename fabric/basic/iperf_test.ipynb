{
 "cells": [
  {
   "cell_type": "code",
   "execution_count": 75,
   "id": "98e1850a",
   "metadata": {},
   "outputs": [],
   "source": [
    "import os\n",
    "from fabrictestbed.slice_manager import SliceManager, Status\n",
    "import json"
   ]
  },
  {
   "cell_type": "code",
   "execution_count": 76,
   "id": "7113a298",
   "metadata": {},
   "outputs": [
    {
     "name": "stdout",
     "output_type": "stream",
     "text": [
      "CM Host: beta-2.fabric-testbed.net Orchestrator Host: beta-7.fabric-testbed.net\n"
     ]
    }
   ],
   "source": [
    "credmgr_host = os.environ['FABRIC_CREDMGR_HOST']\n",
    "orchestrator_host = os.environ['FABRIC_ORCHESTRATOR_HOST']\n",
    "print(f\"CM Host: {credmgr_host} Orchestrator Host: {orchestrator_host}\")"
   ]
  },
  {
   "cell_type": "markdown",
   "id": "85dbc88c",
   "metadata": {},
   "source": [
    "# Create Slice Manager Object\n",
    "\n",
    "Users can request tokens with different Project and Scopes by altering project_name and scope parameters in the refresh call below."
   ]
  },
  {
   "cell_type": "code",
   "execution_count": 77,
   "id": "41ff4160",
   "metadata": {},
   "outputs": [],
   "source": [
    "slice_manager = SliceManager(oc_host=orchestrator_host, cm_host=credmgr_host, project_name='all', scope='all')\n",
    "\n",
    "# Initialize the slice manager\n",
    "slice_manager.initialize()"
   ]
  },
  {
   "cell_type": "markdown",
   "id": "22acf19f",
   "metadata": {},
   "source": [
    "## Orchestrator API example to query for available resources"
   ]
  },
  {
   "cell_type": "code",
   "execution_count": 78,
   "id": "a4a6814c",
   "metadata": {},
   "outputs": [
    {
     "name": "stdout",
     "output_type": "stream",
     "text": [
      "Status: Status.OK\n",
      "Toplogy: LBNL: { cpu: 6/6 , core: 184/192 , ram: 1,512/1,536 G, disk: 9,560/9,600 G, unit: 3/3 }\n",
      "\tComponents:\n",
      "\t\tGPU-RTX6000:  GPU RTX6000 { unit: 2/2 }\n",
      "\t\tGPU-Tesla T4:  GPU Tesla T4 { unit: 4/4 }\n",
      "\t\tSharedNIC-ConnectX-6:  SharedNIC ConnectX-6 { unit: 379/381 }\n",
      "\t\tSmartNIC-ConnectX-6:  SmartNIC ConnectX-6 { unit: 0/2 }\n",
      "\t\tSmartNIC-ConnectX-5:  SmartNIC ConnectX-5 { unit: 2/2 }\n",
      "\t\tNVME-P4510:  NVME P4510 { disk: 9,000/10,000 G, unit: 9/10 }\n",
      "\tSite Interfaces:\n",
      "UKY: { cpu: 6/6 , core: 188/192 , ram: 1,514/1,536 G, disk: 9,490/9,600 G, unit: 3/3 }\n",
      "\tComponents:\n",
      "\t\tGPU-RTX6000:  GPU RTX6000 { unit: 2/2 }\n",
      "\t\tGPU-Tesla T4:  GPU Tesla T4 { unit: 4/4 }\n",
      "\t\tNVME-P4510:  NVME P4510 { disk: 9,000/10,000 G, unit: 9/10 }\n",
      "\t\tSharedNIC-ConnectX-6:  SharedNIC ConnectX-6 { unit: 380/381 }\n",
      "\t\tSmartNIC-ConnectX-6:  SmartNIC ConnectX-6 { unit: 2/2 }\n",
      "\t\tSmartNIC-ConnectX-5:  SmartNIC ConnectX-5 { unit: 2/2 }\n",
      "\tSite Interfaces:\n",
      "RENC\n",
      "\tComponents:\n",
      "\t\tSharedNIC-ConnectX-6:  SharedNIC ConnectX-6 { unit: 381/381 }\n",
      "\t\tGPU-RTX6000:  GPU RTX6000 { unit: 2/2 }\n",
      "\t\tGPU-Tesla T4:  GPU Tesla T4 { unit: 4/4 }\n",
      "\t\tSmartNIC-ConnectX-6:  SmartNIC ConnectX-6 { unit: 2/2 }\n",
      "\t\tSmartNIC-ConnectX-5:  SmartNIC ConnectX-5 { unit: 2/2 }\n",
      "\t\tNVME-P4510:  NVME P4510 { disk: 10,000/10,000 G, unit: 10/10 }\n",
      "\tSite Interfaces:\n",
      "STAR\n",
      "\tComponents:\n",
      "\tSite Interfaces:\n",
      "Links:\n"
     ]
    }
   ],
   "source": [
    "status, advertised_topology = slice_manager.resources()\n",
    "\n",
    "print(f\"Status: {status}\")\n",
    "if status == Status.OK:\n",
    "    print(f\"Toplogy: {advertised_topology}\")\n",
    "else:\n",
    "    print(f\"Error: {advertised_topology}\")"
   ]
  },
  {
   "cell_type": "code",
   "execution_count": 79,
   "id": "a18858e8",
   "metadata": {},
   "outputs": [
    {
     "data": {
      "image/png": "[encoded data removed]",
      "text/plain": [
       "<Figure size 432x288 with 1 Axes>"
      ]
     },
     "metadata": {},
     "output_type": "display_data"
    }
   ],
   "source": [
    "if status == Status.OK:\n",
    "    advertised_topology.draw()"
   ]
  },
  {
   "cell_type": "markdown",
   "id": "fe499120",
   "metadata": {},
   "source": [
    "# Create Slice"
   ]
  },
  {
   "cell_type": "code",
   "execution_count": 152,
   "id": "08d97003",
   "metadata": {},
   "outputs": [
    {
     "name": "stdout",
     "output_type": "stream",
     "text": [
      "Response Status Status.OK\n",
      "Reservations created [{\n",
      "    \"graph_node_id\": \"bfc90df0-4230-4dd6-bf77-9bc3ef5e9048\",\n",
      "    \"lease_end\": \"2021-09-01 19:12:13\",\n",
      "    \"pending_state\": \"None_\",\n",
      "    \"reservation_id\": \"2fb2c2c5-be02-42dd-9386-e09b325d81f2\",\n",
      "    \"reservation_state\": \"Unknown\",\n",
      "    \"slice_id\": \"9765dd97-1ac7-4953-94e6-c68dbec0b0a8\"\n",
      "}, {\n",
      "    \"graph_node_id\": \"21917e97-d2dc-4f86-b7db-93bdce44562c\",\n",
      "    \"lease_end\": \"2021-09-01 19:12:13\",\n",
      "    \"pending_state\": \"None_\",\n",
      "    \"reservation_id\": \"34359118-7015-4344-ae05-d8df62e87f33\",\n",
      "    \"reservation_state\": \"Unknown\",\n",
      "    \"slice_id\": \"9765dd97-1ac7-4953-94e6-c68dbec0b0a8\"\n",
      "}, {\n",
      "    \"graph_node_id\": \"26ed7c96-ebe2-4dab-93ac-6904b1b628bc\",\n",
      "    \"lease_end\": \"2021-09-01 19:12:13\",\n",
      "    \"pending_state\": \"None_\",\n",
      "    \"reservation_id\": \"1962be61-72b4-4b77-a02d-22fe4be3ce08\",\n",
      "    \"reservation_state\": \"Unknown\",\n",
      "    \"slice_id\": \"9765dd97-1ac7-4953-94e6-c68dbec0b0a8\"\n",
      "}]\n"
     ]
    }
   ],
   "source": [
    "from fabrictestbed.slice_editor import ExperimentTopology, Capacities, ComponentType, ComponentModelType, ServiceType\n",
    "# Create topology\n",
    "t = ExperimentTopology()\n",
    "\n",
    "# Add node\n",
    "n1 = t.add_node(name='n1', site='LBNL')\n",
    "\n",
    "# Set capacities\n",
    "cap = Capacities()\n",
    "cap.set_fields(core=2, ram=6, disk=10)\n",
    "\n",
    "# Set Properties\n",
    "n1.set_properties(capacities=cap, image_type='qcow2', image_ref='default_centos_8')\n",
    "\n",
    "# Add PCI devices\n",
    "n1.add_component(ctype=ComponentType.NVME, model='P4510', name='c1')\n",
    "\n",
    "# Add node\n",
    "n2 = t.add_node(name='n2', site='LBNL')\n",
    "\n",
    "# Set properties\n",
    "n2.set_properties(capacities=cap, image_type='qcow2', image_ref='default_centos_8')\n",
    "\n",
    "# Shared Cards\n",
    "n1.add_component(model_type=ComponentModelType.SmartNIC_ConnectX_6, name='n1-nic1')\n",
    "n2.add_component(model_type=ComponentModelType.SmartNIC_ConnectX_6, name='n2-nic1')\n",
    "\n",
    "# L2Bridge Service\n",
    "t.add_network_service(name='bridge1', nstype=ServiceType.L2Bridge, interfaces=t.interface_list)\n",
    "\n",
    "# Generate Slice Graph\n",
    "slice_graph = t.serialize()\n",
    "\n",
    "ssh_key = None\n",
    "with open (\"/home/julin/.ssh/id_rsa.pub\", \"r\") as myfile:\n",
    "    ssh_key=myfile.read()\n",
    "    ssh_key=ssh_key.strip()\n",
    "\n",
    "# Request slice from Orchestrator\n",
    "status, reservations = slice_manager.create(slice_name='iperf-test4', slice_graph=slice_graph, ssh_key=ssh_key)\n",
    "\n",
    "print(\"Response Status {}\".format(status))\n",
    "if status == Status.OK:\n",
    "    print(\"Reservations created {}\".format(reservations))\n",
    "else:\n",
    "    print(f\"Failure: {reservations}\")"
   ]
  },
  {
   "cell_type": "code",
   "execution_count": 153,
   "id": "4667574d",
   "metadata": {},
   "outputs": [],
   "source": [
    "# Set the Slice ID from output of the above command\n",
    "slice_id=reservations[0].slice_id"
   ]
  },
  {
   "cell_type": "markdown",
   "id": "a177b377",
   "metadata": {},
   "source": [
    "# Qurey slice"
   ]
  },
  {
   "cell_type": "code",
   "execution_count": 154,
   "id": "cc4709db",
   "metadata": {},
   "outputs": [
    {
     "name": "stdout",
     "output_type": "stream",
     "text": [
      "Response Status Status.OK\n",
      "Slices [{\n",
      "    \"graph_id\": \"5d3a6d59-9e17-4f3e-900f-8e47f4e271d2\",\n",
      "    \"lease_end\": \"2021-09-01 17:07:20\",\n",
      "    \"slice_id\": \"32ba900c-151c-40a4-9e2c-6443fa31edc1\",\n",
      "    \"slice_name\": \"iperf-test\",\n",
      "    \"slice_state\": \"Dead\"\n",
      "}, {\n",
      "    \"graph_id\": \"1da9a5b8-6410-4bb9-bd11-fe74a818c565\",\n",
      "    \"lease_end\": \"2021-09-01 17:17:06\",\n",
      "    \"slice_id\": \"fd5d940b-b45e-48f6-81c4-22e9648a7f84\",\n",
      "    \"slice_name\": \"iperf-test1\",\n",
      "    \"slice_state\": \"Dead\"\n",
      "}, {\n",
      "    \"graph_id\": \"af3fef71-b08d-4464-88fc-add66baf5a55\",\n",
      "    \"lease_end\": \"2021-09-01 17:49:51\",\n",
      "    \"slice_id\": \"48bda246-a6d9-4a51-bdbc-e513261827ba\",\n",
      "    \"slice_name\": \"iperf-test1\",\n",
      "    \"slice_state\": \"Closing\"\n",
      "}, {\n",
      "    \"graph_id\": \"ccf0a2cd-f7c9-408d-ba5f-693c3fca670b\",\n",
      "    \"lease_end\": \"2021-09-01 19:07:20\",\n",
      "    \"slice_id\": \"fccfb08b-b205-40f1-9389-1c25fd72a13c\",\n",
      "    \"slice_name\": \"iperf-test3\",\n",
      "    \"slice_state\": \"Closing\"\n",
      "}, {\n",
      "    \"graph_id\": \"e99d5dd7-27ca-48a9-880c-78bfee9a5594\",\n",
      "    \"lease_end\": \"2021-09-01 18:01:34\",\n",
      "    \"slice_id\": \"d958673c-38c3-405d-9076-aa8c7fd7f951\",\n",
      "    \"slice_name\": \"iperf-test2\",\n",
      "    \"slice_state\": \"Dead\"\n",
      "}, {\n",
      "    \"graph_id\": \"8213c06f-a96b-424b-9874-4866d94b0eaf\",\n",
      "    \"lease_end\": \"2021-09-01 19:12:13\",\n",
      "    \"slice_id\": \"9765dd97-1ac7-4953-94e6-c68dbec0b0a8\",\n",
      "    \"slice_name\": \"iperf-test4\",\n",
      "    \"slice_state\": \"Configuring\"\n",
      "}]\n"
     ]
    }
   ],
   "source": [
    "status, slices = slice_manager.slices()\n",
    "\n",
    "print(\"Response Status {}\".format(status))\n",
    "if status == Status.OK:\n",
    "    print(\"Slices {}\".format(slices))\n",
    "else:\n",
    "    print(f\"Failure: {slices}\")"
   ]
  },
  {
   "cell_type": "markdown",
   "id": "7a7b9339",
   "metadata": {},
   "source": [
    "# Query Slivers"
   ]
  },
  {
   "cell_type": "code",
   "execution_count": 156,
   "id": "bf8d1692",
   "metadata": {},
   "outputs": [
    {
     "name": "stdout",
     "output_type": "stream",
     "text": [
      "Response Status Status.OK\n",
      "Slivers [{\n",
      "    \"allocated_capacities\": \"{\\\"core\\\": 2, \\\"disk\\\": 10, \\\"ram\\\": 8}\",\n",
      "    \"allocated_labels\": \"{\\\"instance\\\": \\\"instance-00000193\\\", \\\"instance_parent\\\": \\\"lbnl-w2.fabric-testbed.net\\\"}\",\n",
      "    \"capacities\": \"{\\\"core\\\": 2, \\\"disk\\\": 10, \\\"ram\\\": 6}\",\n",
      "    \"capacity_hints\": \"{\\\"instance_type\\\": \\\"fabric.c2.m8.d10\\\"}\",\n",
      "    \"graph_node_id\": \"bfc90df0-4230-4dd6-bf77-9bc3ef5e9048\",\n",
      "    \"join_state\": \"NoJoin\",\n",
      "    \"lease_end\": \"2021-09-01 19:12:13\",\n",
      "    \"management_ip\": \"198.129.61.51\",\n",
      "    \"name\": \"n1\",\n",
      "    \"pending_state\": \"None_\",\n",
      "    \"reservation_id\": \"2fb2c2c5-be02-42dd-9386-e09b325d81f2\",\n",
      "    \"reservation_state\": \"Active\",\n",
      "    \"resource_type\": \"VM\",\n",
      "    \"site\": \"LBNL\",\n",
      "    \"slice_id\": \"9765dd97-1ac7-4953-94e6-c68dbec0b0a8\"\n",
      "}, {\n",
      "    \"allocated_capacities\": \"{\\\"core\\\": 2, \\\"disk\\\": 10, \\\"ram\\\": 8}\",\n",
      "    \"allocated_labels\": \"{\\\"instance\\\": \\\"instance-00000194\\\", \\\"instance_parent\\\": \\\"lbnl-w2.fabric-testbed.net\\\"}\",\n",
      "    \"capacities\": \"{\\\"core\\\": 2, \\\"disk\\\": 10, \\\"ram\\\": 6}\",\n",
      "    \"capacity_hints\": \"{\\\"instance_type\\\": \\\"fabric.c2.m8.d10\\\"}\",\n",
      "    \"graph_node_id\": \"21917e97-d2dc-4f86-b7db-93bdce44562c\",\n",
      "    \"join_state\": \"NoJoin\",\n",
      "    \"lease_end\": \"2021-09-01 19:12:13\",\n",
      "    \"management_ip\": \"198.129.61.59\",\n",
      "    \"name\": \"n2\",\n",
      "    \"pending_state\": \"None_\",\n",
      "    \"reservation_id\": \"34359118-7015-4344-ae05-d8df62e87f33\",\n",
      "    \"reservation_state\": \"Active\",\n",
      "    \"resource_type\": \"VM\",\n",
      "    \"site\": \"LBNL\",\n",
      "    \"slice_id\": \"9765dd97-1ac7-4953-94e6-c68dbec0b0a8\"\n",
      "}, {\n",
      "    \"graph_node_id\": \"26ed7c96-ebe2-4dab-93ac-6904b1b628bc\",\n",
      "    \"join_state\": \"NoJoin\",\n",
      "    \"lease_end\": \"2021-09-01 19:12:13\",\n",
      "    \"name\": \"bridge1\",\n",
      "    \"pending_state\": \"None_\",\n",
      "    \"reservation_id\": \"1962be61-72b4-4b77-a02d-22fe4be3ce08\",\n",
      "    \"reservation_state\": \"Active\",\n",
      "    \"resource_type\": \"L2Bridge\",\n",
      "    \"site\": \"LBNL\",\n",
      "    \"slice_id\": \"9765dd97-1ac7-4953-94e6-c68dbec0b0a8\"\n",
      "}]\n"
     ]
    }
   ],
   "source": [
    "status, slivers = slice_manager.slivers(slice_id=slice_id)\n",
    "\n",
    "print(\"Response Status {}\".format(status))\n",
    "if status == Status.OK:\n",
    "    print(\"Slivers {}\".format(slivers))\n",
    "else:\n",
    "    print(f\"Failure: {slivers}\")"
   ]
  },
  {
   "cell_type": "code",
   "execution_count": 157,
   "id": "675ab77f",
   "metadata": {},
   "outputs": [
    {
     "data": {
      "text/plain": [
       "'198.129.61.51'"
      ]
     },
     "execution_count": 157,
     "metadata": {},
     "output_type": "execute_result"
    }
   ],
   "source": [
    "server_ip = slivers[0].management_ip\n",
    "server_ip"
   ]
  },
  {
   "cell_type": "code",
   "execution_count": 158,
   "id": "f3081e3a",
   "metadata": {},
   "outputs": [
    {
     "data": {
      "text/plain": [
       "'198.129.61.59'"
      ]
     },
     "execution_count": 158,
     "metadata": {},
     "output_type": "execute_result"
    }
   ],
   "source": [
    "client_ip = slivers[1].management_ip\n",
    "client_ip"
   ]
  },
  {
   "cell_type": "code",
   "execution_count": 159,
   "id": "a065d142",
   "metadata": {},
   "outputs": [],
   "source": [
    "import paramiko \n",
    "#from scp import SCPClient, SCPException\n",
    "\n",
    "key = paramiko.RSAKey.from_private_key_file(\"/home/julin/.ssh/id_rsa\")\n",
    "client_server = paramiko.SSHClient()\n",
    "client_server.load_system_host_keys()\n",
    "client_server.set_missing_host_key_policy(paramiko.MissingHostKeyPolicy())\n",
    "client_server.set_missing_host_key_policy(paramiko.AutoAddPolicy())"
   ]
  },
  {
   "cell_type": "code",
   "execution_count": 160,
   "id": "5d947f7c",
   "metadata": {},
   "outputs": [
    {
     "name": "stdout",
     "output_type": "stream",
     "text": [
      "CentOS Linux 8 - AppStream                      6.7 MB/s | 8.8 MB     00:01    \n",
      "CentOS Linux 8 - BaseOS                         3.6 MB/s | 5.6 MB     00:01    \n",
      "CentOS Linux 8 - Extras                         5.1 kB/s |  10 kB     00:02    \n",
      "Dependencies resolved.\n",
      "================================================================================\n",
      " Package             Architecture  Version               Repository        Size\n",
      "================================================================================\n",
      "Installing:\n",
      " iperf3              x86_64        3.5-6.el8             appstream        100 k\n",
      "Installing dependencies:\n",
      " lksctp-tools        x86_64        1.0.18-3.el8          baseos           100 k\n",
      "\n",
      "Transaction Summary\n",
      "================================================================================\n",
      "Install  2 Packages\n",
      "\n",
      "Total download size: 200 k\n",
      "Installed size: 481 k\n",
      "Downloading Packages:\n",
      "(1/2): lksctp-tools-1.0.18-3.el8.x86_64.rpm     1.0 MB/s | 100 kB     00:00    \n",
      "(2/2): iperf3-3.5-6.el8.x86_64.rpm              254 kB/s | 100 kB     00:00    \n",
      "--------------------------------------------------------------------------------\n",
      "Total                                           174 kB/s | 200 kB     00:01     \n",
      "CentOS Linux 8 - AppStream                      1.6 MB/s | 1.6 kB     00:00    \n",
      "Key imported successfully\n",
      "Running transaction check\n",
      "Transaction check succeeded.\n",
      "Running transaction test\n",
      "Transaction test succeeded.\n",
      "Running transaction\n",
      "  Preparing        :                                                        1/1 \n",
      "  Installing       : lksctp-tools-1.0.18-3.el8.x86_64                       1/2 \n",
      "  Running scriptlet: lksctp-tools-1.0.18-3.el8.x86_64                       1/2 \n",
      "  Installing       : iperf3-3.5-6.el8.x86_64                                2/2 \n",
      "  Running scriptlet: iperf3-3.5-6.el8.x86_64                                2/2 \n",
      "  Verifying        : iperf3-3.5-6.el8.x86_64                                1/2 \n",
      "  Verifying        : lksctp-tools-1.0.18-3.el8.x86_64                       2/2 \n",
      "\n",
      "Installed:\n",
      "  iperf3-3.5-6.el8.x86_64            lksctp-tools-1.0.18-3.el8.x86_64           \n",
      "\n",
      "Complete!\n",
      "\n",
      "warning: /var/cache/dnf/appstream-a3ce6348fe6cbd6c/packages/iperf3-3.5-6.el8.x86_64.rpm: Header V3 RSA/SHA256 Signature, key ID 8483c65d: NOKEY\n",
      "Importing GPG key 0x8483C65D:\n",
      " Userid     : \"CentOS (CentOS Official Signing Key) <security@centos.org>\"\n",
      " Fingerprint: 99DB 70FA E1D7 CE22 7FB6 4882 05B5 55B3 8483 C65D\n",
      " From       : /etc/pki/rpm-gpg/RPM-GPG-KEY-centosofficial\n",
      "\n"
     ]
    }
   ],
   "source": [
    "# install iperf package\n",
    "client_server.connect(server_ip,username='centos',pkey = key)\n",
    "stdin, stdout, stderr = client_server.exec_command('sudo yum install -y iperf3')\n",
    "print(stdout.read().decode(\"utf-8\"))\n",
    "print(stderr.read().decode(\"utf-8\"))"
   ]
  },
  {
   "cell_type": "code",
   "execution_count": 168,
   "id": "acc0b469",
   "metadata": {},
   "outputs": [
    {
     "name": "stdout",
     "output_type": "stream",
     "text": [
      "stdout \n",
      "stderr \n"
     ]
    }
   ],
   "source": [
    "stdin, stdout, stderr = client_server.exec_command('sudo ip addr add 198.129.61.51/24 dev eth1')\n",
    "print(\"stdout\", stdout.read().decode(\"utf-8\"))\n",
    "print(\"stderr\", stderr.read().decode(\"utf-8\"))"
   ]
  },
  {
   "cell_type": "code",
   "execution_count": 171,
   "id": "07fca94e",
   "metadata": {},
   "outputs": [
    {
     "data": {
      "text/plain": [
       "(<paramiko.ChannelFile from <paramiko.Channel 7 (open) window=2097152 -> <paramiko.Transport at 0x9c176d60 (cipher aes128-ctr, 128 bits) (active; 2 open channel(s))>>>,\n",
       " <paramiko.ChannelFile from <paramiko.Channel 7 (open) window=2097152 -> <paramiko.Transport at 0x9c176d60 (cipher aes128-ctr, 128 bits) (active; 2 open channel(s))>>>,\n",
       " <paramiko.ChannelFile from <paramiko.Channel 7 (open) window=2097152 -> <paramiko.Transport at 0x9c176d60 (cipher aes128-ctr, 128 bits) (active; 2 open channel(s))>>>)"
      ]
     },
     "execution_count": 171,
     "metadata": {},
     "output_type": "execute_result"
    }
   ],
   "source": [
    "# server side run iperf\n",
    "# print('iperf3 -s -B ' + server_ip)\n",
    "#stdin, stdout, stderr = client_server.exec_command('iperf3 -s ' + server_ip + '&')\n",
    "client_server.exec_command('iperf3 -s ' + server_ip)\n",
    "#print ('')\n",
    "#print (str(stdout.read(),'utf-8').replace('\\\\n','\\n'))\n",
    "#print (str(stderr.read(),'utf-8').replace('\\\\n','\\n'))"
   ]
  },
  {
   "cell_type": "code",
   "execution_count": 172,
   "id": "ac00d057",
   "metadata": {},
   "outputs": [
    {
     "data": {
      "text/plain": [
       "<paramiko.client.SSHClient at 0x7f58c941fdc0>"
      ]
     },
     "execution_count": 172,
     "metadata": {},
     "output_type": "execute_result"
    }
   ],
   "source": [
    "# clinet side\n",
    "key = paramiko.RSAKey.from_private_key_file(\"/home/julin/.ssh/id_rsa\")\n",
    "client_client = paramiko.SSHClient()\n",
    "client_client.load_system_host_keys()\n",
    "client_client.set_missing_host_key_policy(paramiko.MissingHostKeyPolicy())\n",
    "client_client.set_missing_host_key_policy(paramiko.AutoAddPolicy())\n",
    "client_client"
   ]
  },
  {
   "cell_type": "code",
   "execution_count": 173,
   "id": "00ff8a40",
   "metadata": {},
   "outputs": [
    {
     "name": "stdout",
     "output_type": "stream",
     "text": [
      "Last metadata expiration check: 0:02:31 ago on Tue 31 Aug 2021 07:16:07 PM UTC.\n",
      "Package iperf3-3.5-6.el8.x86_64 is already installed.\n",
      "Dependencies resolved.\n",
      "Nothing to do.\n",
      "Complete!\n",
      "\n",
      "\n"
     ]
    }
   ],
   "source": [
    "# install iperf package\n",
    "client_client.connect(client_ip,username='centos',pkey = key)\n",
    "stdin, stdout, stderr = client_client.exec_command('sudo yum install -y iperf3')\n",
    "print(stdout.read().decode(\"utf-8\"))\n",
    "print(stderr.read().decode(\"utf-8\"))"
   ]
  },
  {
   "cell_type": "code",
   "execution_count": 174,
   "id": "82eba91e",
   "metadata": {},
   "outputs": [
    {
     "name": "stdout",
     "output_type": "stream",
     "text": [
      "stdout \n",
      "stderr RTNETLINK answers: File exists\n",
      "\n"
     ]
    }
   ],
   "source": [
    "stdin, stdout, stderr = client_server.exec_command('sudo ip addr add 198.129.61.59/24 dev eth1')\n",
    "print(\"stdout\", stdout.read().decode(\"utf-8\"))\n",
    "print(\"stderr\", stderr.read().decode(\"utf-8\"))"
   ]
  },
  {
   "cell_type": "code",
   "execution_count": 175,
   "id": "b27e9b11",
   "metadata": {},
   "outputs": [
    {
     "name": "stdout",
     "output_type": "stream",
     "text": [
      "\n",
      "\n",
      "iperf3: error - unable to connect to server: Connection timed out\n",
      "\n"
     ]
    }
   ],
   "source": [
    "stdin, stdout, stderr  = client_client.exec_command('iperf3 --get-server-output -c ' + server_ip)\n",
    "print ('')\n",
    "print (str(stdout.read(),'utf-8').replace('\\\\n','\\n'))\n",
    "print (str(stderr.read(),'utf-8').replace('\\\\n','\\n'))"
   ]
  },
  {
   "cell_type": "markdown",
   "id": "91f46fbb",
   "metadata": {},
   "source": [
    "# Delete Slice"
   ]
  },
  {
   "cell_type": "code",
   "execution_count": 141,
   "id": "68088308",
   "metadata": {},
   "outputs": [
    {
     "name": "stdout",
     "output_type": "stream",
     "text": [
      "Response Status Status.OK\n",
      "Response received None\n"
     ]
    }
   ],
   "source": [
    "status, result = slice_manager.delete(slice_id=slice_id)\n",
    "\n",
    "print(\"Response Status {}\".format(status))\n",
    "print(\"Response received {}\".format(result))"
   ]
  },
  {
   "cell_type": "code",
   "execution_count": null,
   "id": "c236edba",
   "metadata": {},
   "outputs": [],
   "source": []
  }
 ],
 "metadata": {
  "kernelspec": {
   "display_name": "Python 3 (ipykernel)",
   "language": "python",
   "name": "python3"
  },
  "language_info": {
   "codemirror_mode": {
    "name": "ipython",
    "version": 3
   },
   "file_extension": ".py",
   "mimetype": "text/x-python",
   "name": "python",
   "nbconvert_exporter": "python",
   "pygments_lexer": "ipython3",
   "version": "3.9.6"
  }
 },
 "nbformat": 4,
 "nbformat_minor": 5
}
