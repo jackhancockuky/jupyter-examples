{
 "cells": [
  {
   "cell_type": "code",
   "execution_count": 1,
   "id": "98e1850a",
   "metadata": {},
   "outputs": [],
   "source": [
    "import os\n",
    "from fabrictestbed.slice_manager import SliceManager, Status\n",
    "import json"
   ]
  },
  {
   "cell_type": "code",
   "execution_count": 2,
   "id": "7113a298",
   "metadata": {},
   "outputs": [
    {
     "name": "stdout",
     "output_type": "stream",
     "text": [
      "CM Host: beta-2.fabric-testbed.net Orchestrator Host: beta-7.fabric-testbed.net\n"
     ]
    }
   ],
   "source": [
    "credmgr_host = os.environ['FABRIC_CREDMGR_HOST']\n",
    "orchestrator_host = os.environ['FABRIC_ORCHESTRATOR_HOST']\n",
    "print(f\"CM Host: {credmgr_host} Orchestrator Host: {orchestrator_host}\")"
   ]
  },
  {
   "cell_type": "markdown",
   "id": "85dbc88c",
   "metadata": {},
   "source": [
    "# Create Slice Manager Object\n",
    "\n",
    "Users can request tokens with different Project and Scopes by altering project_name and scope parameters in the refresh call below."
   ]
  },
  {
   "cell_type": "code",
   "execution_count": 3,
   "id": "41ff4160",
   "metadata": {},
   "outputs": [],
   "source": [
    "slice_manager = SliceManager(oc_host=orchestrator_host, cm_host=credmgr_host, project_name='all', scope='all')\n",
    "\n",
    "# Initialize the slice manager\n",
    "slice_manager.initialize()"
   ]
  },
  {
   "cell_type": "markdown",
   "id": "22acf19f",
   "metadata": {},
   "source": [
    "## Orchestrator API example to query for available resources"
   ]
  },
  {
   "cell_type": "code",
   "execution_count": 4,
   "id": "a4a6814c",
   "metadata": {},
   "outputs": [
    {
     "name": "stdout",
     "output_type": "stream",
     "text": [
      "Status: Status.OK\n",
      "Toplogy: LBNL: { cpu: 6/6 , core: 184/192 , ram: 1,492/1,536 G, disk: 9,380/9,600 G, unit: 3/3 }\n",
      "\tComponents:\n",
      "\t\tSharedNIC-ConnectX-6:  SharedNIC ConnectX-6 { unit: 379/381 }\n",
      "\t\tNVME-P4510:  NVME P4510 { disk: 10,000/10,000 G, unit: 10/10 }\n",
      "\t\tSmartNIC-ConnectX-6:  SmartNIC ConnectX-6 { unit: 2/2 }\n",
      "\t\tSmartNIC-ConnectX-5:  SmartNIC ConnectX-5 { unit: 2/2 }\n",
      "\t\tGPU-Tesla T4:  GPU Tesla T4 { unit: 4/4 }\n",
      "\t\tGPU-RTX6000:  GPU RTX6000 { unit: 2/2 }\n",
      "\tSite Interfaces:\n",
      "RENC\n",
      "\tComponents:\n",
      "\t\tSmartNIC-ConnectX-5:  SmartNIC ConnectX-5 { unit: 2/2 }\n",
      "\t\tNVME-P4510:  NVME P4510 { disk: 10,000/10,000 G, unit: 10/10 }\n",
      "\t\tGPU-RTX6000:  GPU RTX6000 { unit: 2/2 }\n",
      "\t\tGPU-Tesla T4:  GPU Tesla T4 { unit: 4/4 }\n",
      "\t\tSharedNIC-ConnectX-6:  SharedNIC ConnectX-6 { unit: 381/381 }\n",
      "\t\tSmartNIC-ConnectX-6:  SmartNIC ConnectX-6 { unit: 2/2 }\n",
      "\tSite Interfaces:\n",
      "STAR\n",
      "\tComponents:\n",
      "\tSite Interfaces:\n",
      "UKY: { cpu: 6/6 , core: 190/192 , ram: 1,530/1,536 G, disk: 9,590/9,600 G, unit: 3/3 }\n",
      "\tComponents:\n",
      "\t\tGPU-RTX6000:  GPU RTX6000 { unit: 2/2 }\n",
      "\t\tGPU-Tesla T4:  GPU Tesla T4 { unit: 4/4 }\n",
      "\t\tSharedNIC-ConnectX-6:  SharedNIC ConnectX-6 { unit: 380/381 }\n",
      "\t\tNVME-P4510:  NVME P4510 { disk: 9,000/10,000 G, unit: 9/10 }\n",
      "\t\tSmartNIC-ConnectX-6:  SmartNIC ConnectX-6 { unit: 2/2 }\n",
      "\t\tSmartNIC-ConnectX-5:  SmartNIC ConnectX-5 { unit: 2/2 }\n",
      "\tSite Interfaces:\n",
      "Links:\n"
     ]
    }
   ],
   "source": [
    "status, advertised_topology = slice_manager.resources()\n",
    "\n",
    "print(f\"Status: {status}\")\n",
    "if status == Status.OK:\n",
    "    print(f\"Toplogy: {advertised_topology}\")\n",
    "else:\n",
    "    print(f\"Error: {advertised_topology}\")"
   ]
  },
  {
   "cell_type": "code",
   "execution_count": 5,
   "id": "a18858e8",
   "metadata": {},
   "outputs": [
    {
     "data": {
      "image/png": "[encoded data removed]",
      "text/plain": [
       "<Figure size 432x288 with 1 Axes>"
      ]
     },
     "metadata": {},
     "output_type": "display_data"
    }
   ],
   "source": [
    "if status == Status.OK:\n",
    "    advertised_topology.draw()"
   ]
  },
  {
   "cell_type": "markdown",
   "id": "fe499120",
   "metadata": {},
   "source": [
    "# Create Slice"
   ]
  },
  {
   "cell_type": "code",
   "execution_count": 6,
   "id": "08d97003",
   "metadata": {},
   "outputs": [
    {
     "name": "stdout",
     "output_type": "stream",
     "text": [
      "Response Status Status.OK\n",
      "Reservations created [{\n",
      "    \"graph_node_id\": \"42e316b8-a355-40f4-b1b1-21bf241f2a13\",\n",
      "    \"lease_end\": \"2021-08-25 18:14:27\",\n",
      "    \"pending_state\": \"None_\",\n",
      "    \"reservation_id\": \"446658a9-8e39-4b29-8cdb-086c51b9ebee\",\n",
      "    \"reservation_state\": \"Unknown\",\n",
      "    \"slice_id\": \"3d008d01-713a-4319-ae67-192843ea592b\"\n",
      "}, {\n",
      "    \"graph_node_id\": \"2e24dac6-e631-4548-b831-39bc70478a11\",\n",
      "    \"lease_end\": \"2021-08-25 18:14:27\",\n",
      "    \"pending_state\": \"None_\",\n",
      "    \"reservation_id\": \"879ca08b-0b68-401b-ad79-6c26b08d412f\",\n",
      "    \"reservation_state\": \"Unknown\",\n",
      "    \"slice_id\": \"3d008d01-713a-4319-ae67-192843ea592b\"\n",
      "}]\n"
     ]
    }
   ],
   "source": [
    "from fabrictestbed.slice_editor import ExperimentTopology, Capacities, ComponentType, ComponentModelType, ServiceType\n",
    "# Create topology\n",
    "t = ExperimentTopology()\n",
    "\n",
    "# Add node\n",
    "n1 = t.add_node(name='n1', site='LBNL')\n",
    "\n",
    "# Set capacities\n",
    "cap = Capacities()\n",
    "cap.set_fields(core=2, ram=6, disk=10)\n",
    "\n",
    "# Set Properties\n",
    "n1.set_properties(capacities=cap, image_type='qcow2', image_ref='default_centos_8')\n",
    "\n",
    "# Add PCI devices\n",
    "n1.add_component(ctype=ComponentType.NVME, model='P4510', name='c1')\n",
    "\n",
    "# Add node\n",
    "n2 = t.add_node(name='n2', site='LBNL')\n",
    "\n",
    "# Set properties\n",
    "n2.set_properties(capacities=cap, image_type='qcow2', image_ref='default_centos_8')\n",
    "\n",
    "# Shared Cards\n",
    "n1.add_component(model_type=ComponentModelType.SharedNIC_ConnectX_6, name='n1-nic1')\n",
    "n2.add_component(model_type=ComponentModelType.SharedNIC_ConnectX_6, name='n2-nic1')\n",
    "\n",
    "\n",
    "# Generate Slice Graph\n",
    "slice_graph = t.serialize()\n",
    "\n",
    "ssh_key = None\n",
    "with open (\"/home/julin/.ssh/id_rsa.pub\", \"r\") as myfile:\n",
    "    ssh_key=myfile.read()\n",
    "    ssh_key=ssh_key.strip()\n",
    "\n",
    "# Request slice from Orchestrator\n",
    "status, reservations = slice_manager.create(slice_name='iperf-test', slice_graph=slice_graph, ssh_key=ssh_key)\n",
    "\n",
    "print(\"Response Status {}\".format(status))\n",
    "if status == Status.OK:\n",
    "    print(\"Reservations created {}\".format(reservations))\n",
    "else:\n",
    "    print(f\"Failure: {reservations}\")"
   ]
  },
  {
   "cell_type": "code",
   "execution_count": 7,
   "id": "4667574d",
   "metadata": {},
   "outputs": [],
   "source": [
    "# Set the Slice ID from output of the above command\n",
    "slice_id=reservations[0].slice_id"
   ]
  },
  {
   "cell_type": "markdown",
   "id": "a177b377",
   "metadata": {},
   "source": [
    "# Qurey slice"
   ]
  },
  {
   "cell_type": "code",
   "execution_count": 8,
   "id": "cc4709db",
   "metadata": {},
   "outputs": [
    {
     "name": "stdout",
     "output_type": "stream",
     "text": [
      "Response Status Status.OK\n",
      "Slices [{\n",
      "    \"graph_id\": \"1693df55-d626-4f32-b3b7-5137d456d574\",\n",
      "    \"lease_end\": \"2021-08-25 16:26:33\",\n",
      "    \"slice_id\": \"a9c97e88-2dd8-4d3b-9b8a-350225350d15\",\n",
      "    \"slice_name\": \"hello-fabric\",\n",
      "    \"slice_state\": \"Dead\"\n",
      "}, {\n",
      "    \"graph_id\": \"ddc27c6b-b69f-4e0b-ba6a-61790304a57c\",\n",
      "    \"lease_end\": \"2021-08-25 17:48:29\",\n",
      "    \"slice_id\": \"531474fe-58a2-4196-95d7-0631e5a6a5a7\",\n",
      "    \"slice_name\": \"hello-fabric\",\n",
      "    \"slice_state\": \"StableOK\"\n",
      "}, {\n",
      "    \"graph_id\": \"730dcf8e-c0d0-48f5-af8b-dab06db7aa20\",\n",
      "    \"lease_end\": \"2021-08-25 17:49:49\",\n",
      "    \"slice_id\": \"d0d27904-65b9-4d55-a401-c1a2dca60389\",\n",
      "    \"slice_name\": \"hello-fabric_jl\",\n",
      "    \"slice_state\": \"StableOK\"\n",
      "}, {\n",
      "    \"graph_id\": \"277e6d09-494b-4a42-9f90-9164d199b74b\",\n",
      "    \"lease_end\": \"2021-08-25 17:58:33\",\n",
      "    \"slice_id\": \"34c97cb4-93b2-4519-8cc0-ed9417f9d530\",\n",
      "    \"slice_name\": \"my_simple_slice\",\n",
      "    \"slice_state\": \"Dead\"\n",
      "}, {\n",
      "    \"graph_id\": \"5837c243-2f4b-4aa9-afa6-affea5a7052f\",\n",
      "    \"lease_end\": \"2021-08-25 17:51:11\",\n",
      "    \"slice_id\": \"91a457ca-2091-46c8-b61b-d8e8096458fa\",\n",
      "    \"slice_name\": \"hello-fabric_jl2\",\n",
      "    \"slice_state\": \"Dead\"\n",
      "}, {\n",
      "    \"graph_id\": \"96f90af9-0c2c-4257-9eb3-6fbc686a4836\",\n",
      "    \"lease_end\": \"2021-08-25 18:14:27\",\n",
      "    \"slice_id\": \"3d008d01-713a-4319-ae67-192843ea592b\",\n",
      "    \"slice_name\": \"iperf-test\",\n",
      "    \"slice_state\": \"StableOK\"\n",
      "}]\n"
     ]
    }
   ],
   "source": [
    "status, slices = slice_manager.slices()\n",
    "\n",
    "print(\"Response Status {}\".format(status))\n",
    "if status == Status.OK:\n",
    "    print(\"Slices {}\".format(slices))\n",
    "else:\n",
    "    print(f\"Failure: {slices}\")"
   ]
  },
  {
   "cell_type": "markdown",
   "id": "7a7b9339",
   "metadata": {},
   "source": [
    "# Query Slivers"
   ]
  },
  {
   "cell_type": "code",
   "execution_count": 9,
   "id": "bf8d1692",
   "metadata": {},
   "outputs": [
    {
     "name": "stdout",
     "output_type": "stream",
     "text": [
      "Response Status Status.OK\n",
      "Slivers [{\n",
      "    \"allocated_capacities\": \"{\\\"core\\\": 2, \\\"disk\\\": 10, \\\"ram\\\": 8}\",\n",
      "    \"allocated_labels\": \"{\\\"instance\\\": \\\"instance-0000015f\\\", \\\"instance_parent\\\": \\\"lbnl-w2.fabric-testbed.net\\\"}\",\n",
      "    \"capacities\": \"{\\\"core\\\": 2, \\\"disk\\\": 10, \\\"ram\\\": 6}\",\n",
      "    \"capacity_hints\": \"{\\\"instance_type\\\": \\\"fabric.c2.m8.d10\\\"}\",\n",
      "    \"graph_node_id\": \"2e24dac6-e631-4548-b831-39bc70478a11\",\n",
      "    \"join_state\": \"NoJoin\",\n",
      "    \"lease_end\": \"2021-08-25 18:14:27\",\n",
      "    \"management_ip\": \"198.129.61.55\",\n",
      "    \"name\": \"n2\",\n",
      "    \"pending_state\": \"None_\",\n",
      "    \"reservation_id\": \"879ca08b-0b68-401b-ad79-6c26b08d412f\",\n",
      "    \"reservation_state\": \"Active\",\n",
      "    \"resource_type\": \"VM\",\n",
      "    \"site\": \"LBNL\",\n",
      "    \"slice_id\": \"3d008d01-713a-4319-ae67-192843ea592b\"\n",
      "}, {\n",
      "    \"allocated_capacities\": \"{\\\"core\\\": 2, \\\"disk\\\": 10, \\\"ram\\\": 8}\",\n",
      "    \"allocated_labels\": \"{\\\"instance\\\": \\\"instance-00000160\\\", \\\"instance_parent\\\": \\\"lbnl-w2.fabric-testbed.net\\\"}\",\n",
      "    \"capacities\": \"{\\\"core\\\": 2, \\\"disk\\\": 10, \\\"ram\\\": 6}\",\n",
      "    \"capacity_hints\": \"{\\\"instance_type\\\": \\\"fabric.c2.m8.d10\\\"}\",\n",
      "    \"graph_node_id\": \"42e316b8-a355-40f4-b1b1-21bf241f2a13\",\n",
      "    \"join_state\": \"NoJoin\",\n",
      "    \"lease_end\": \"2021-08-25 18:14:27\",\n",
      "    \"management_ip\": \"198.129.61.41\",\n",
      "    \"name\": \"n1\",\n",
      "    \"pending_state\": \"None_\",\n",
      "    \"reservation_id\": \"446658a9-8e39-4b29-8cdb-086c51b9ebee\",\n",
      "    \"reservation_state\": \"Active\",\n",
      "    \"resource_type\": \"VM\",\n",
      "    \"site\": \"LBNL\",\n",
      "    \"slice_id\": \"3d008d01-713a-4319-ae67-192843ea592b\"\n",
      "}]\n"
     ]
    }
   ],
   "source": [
    "status, slivers = slice_manager.slivers(slice_id=slice_id)\n",
    "\n",
    "print(\"Response Status {}\".format(status))\n",
    "if status == Status.OK:\n",
    "    print(\"Slivers {}\".format(slivers))\n",
    "else:\n",
    "    print(f\"Failure: {slivers}\")"
   ]
  },
  {
   "cell_type": "code",
   "execution_count": 11,
   "id": "675ab77f",
   "metadata": {},
   "outputs": [
    {
     "data": {
      "text/plain": [
       "'198.129.61.55'"
      ]
     },
     "execution_count": 11,
     "metadata": {},
     "output_type": "execute_result"
    }
   ],
   "source": [
    "server_ip = slivers[0].management_ip\n",
    "server_ip"
   ]
  },
  {
   "cell_type": "code",
   "execution_count": 12,
   "id": "f3081e3a",
   "metadata": {},
   "outputs": [
    {
     "data": {
      "text/plain": [
       "'198.129.61.41'"
      ]
     },
     "execution_count": 12,
     "metadata": {},
     "output_type": "execute_result"
    }
   ],
   "source": [
    "client_ip = slivers[1].management_ip\n",
    "client_ip"
   ]
  },
  {
   "cell_type": "code",
   "execution_count": 14,
   "id": "a065d142",
   "metadata": {},
   "outputs": [],
   "source": [
    "import paramiko \n",
    "#from scp import SCPClient, SCPException\n",
    "\n",
    "key = paramiko.RSAKey.from_private_key_file(\"/home/julin/.ssh/id_rsa\")\n",
    "client_server = paramiko.SSHClient()\n",
    "client_server.load_system_host_keys()\n",
    "client_server.set_missing_host_key_policy(paramiko.MissingHostKeyPolicy())\n",
    "client_server.set_missing_host_key_policy(paramiko.AutoAddPolicy())"
   ]
  },
  {
   "cell_type": "code",
   "execution_count": 22,
   "id": "5d947f7c",
   "metadata": {},
   "outputs": [
    {
     "name": "stdout",
     "output_type": "stream",
     "text": [
      "Last metadata expiration check: 0:04:12 ago on Tue 24 Aug 2021 06:33:35 PM UTC.\n",
      "Dependencies resolved.\n",
      "================================================================================\n",
      " Package             Architecture  Version               Repository        Size\n",
      "================================================================================\n",
      "Installing:\n",
      " iperf3              x86_64        3.5-6.el8             appstream        100 k\n",
      "Installing dependencies:\n",
      " lksctp-tools        x86_64        1.0.18-3.el8          baseos           100 k\n",
      "\n",
      "Transaction Summary\n",
      "================================================================================\n",
      "Install  2 Packages\n",
      "\n",
      "Total download size: 200 k\n",
      "Installed size: 481 k\n",
      "Downloading Packages:\n",
      "(1/2): iperf3-3.5-6.el8.x86_64.rpm              215 kB/s | 100 kB     00:00    \n",
      "(2/2): lksctp-tools-1.0.18-3.el8.x86_64.rpm     176 kB/s | 100 kB     00:00    \n",
      "--------------------------------------------------------------------------------\n",
      "Total                                           161 kB/s | 200 kB     00:01     \n",
      "CentOS Linux 8 - AppStream                      1.6 MB/s | 1.6 kB     00:00    \n",
      "Key imported successfully\n",
      "Running transaction check\n",
      "Transaction check succeeded.\n",
      "Running transaction test\n",
      "Transaction test succeeded.\n",
      "Running transaction\n",
      "  Preparing        :                                                        1/1 \n",
      "  Installing       : lksctp-tools-1.0.18-3.el8.x86_64                       1/2 \n",
      "  Running scriptlet: lksctp-tools-1.0.18-3.el8.x86_64                       1/2 \n",
      "  Installing       : iperf3-3.5-6.el8.x86_64                                2/2 \n",
      "  Running scriptlet: iperf3-3.5-6.el8.x86_64                                2/2 \n",
      "  Verifying        : iperf3-3.5-6.el8.x86_64                                1/2 \n",
      "  Verifying        : lksctp-tools-1.0.18-3.el8.x86_64                       2/2 \n",
      "\n",
      "Installed:\n",
      "  iperf3-3.5-6.el8.x86_64            lksctp-tools-1.0.18-3.el8.x86_64           \n",
      "\n",
      "Complete!\n",
      "\n",
      "warning: /var/cache/dnf/appstream-a3ce6348fe6cbd6c/packages/iperf3-3.5-6.el8.x86_64.rpm: Header V3 RSA/SHA256 Signature, key ID 8483c65d: NOKEY\n",
      "Importing GPG key 0x8483C65D:\n",
      " Userid     : \"CentOS (CentOS Official Signing Key) <security@centos.org>\"\n",
      " Fingerprint: 99DB 70FA E1D7 CE22 7FB6 4882 05B5 55B3 8483 C65D\n",
      " From       : /etc/pki/rpm-gpg/RPM-GPG-KEY-centosofficial\n",
      "\n"
     ]
    }
   ],
   "source": [
    "# install iperf package\n",
    "client_server.connect(server_ip,username='centos',pkey = key)\n",
    "stdin, stdout, stderr = client_server.exec_command('sudo yum install -y iperf3')\n",
    "print(stdout.read().decode(\"utf-8\"))\n",
    "print(stderr.read().decode(\"utf-8\"))"
   ]
  },
  {
   "cell_type": "code",
   "execution_count": 32,
   "id": "07fca94e",
   "metadata": {},
   "outputs": [
    {
     "data": {
      "text/plain": [
       "(<paramiko.ChannelFile from <paramiko.Channel 0 (open) window=2097152 -> <paramiko.Transport at 0x486ea5e0 (cipher aes128-ctr, 128 bits) (active; 1 open channel(s))>>>,\n",
       " <paramiko.ChannelFile from <paramiko.Channel 0 (open) window=2097152 -> <paramiko.Transport at 0x486ea5e0 (cipher aes128-ctr, 128 bits) (active; 1 open channel(s))>>>,\n",
       " <paramiko.ChannelFile from <paramiko.Channel 0 (open) window=2097152 -> <paramiko.Transport at 0x486ea5e0 (cipher aes128-ctr, 128 bits) (active; 1 open channel(s))>>>)"
      ]
     },
     "execution_count": 32,
     "metadata": {},
     "output_type": "execute_result"
    }
   ],
   "source": [
    "# server side run iperf\n",
    "# print('iperf3 -s -B ' + server_ip)\n",
    "#stdin, stdout, stderr = client_server.exec_command('iperf3 -s ' + server_ip)\n",
    "client_server.exec_command('iperf3 -s ' + server_ip)\n",
    "# print ('')\n",
    "# print (str(stdout.read(),'utf-8').replace('\\\\n','\\n'))\n",
    "# print (str(stderr.read(),'utf-8').replace('\\\\n','\\n'))"
   ]
  },
  {
   "cell_type": "code",
   "execution_count": 37,
   "id": "ac00d057",
   "metadata": {},
   "outputs": [
    {
     "data": {
      "text/plain": [
       "<paramiko.client.SSHClient at 0x7f1d486a2eb0>"
      ]
     },
     "execution_count": 37,
     "metadata": {},
     "output_type": "execute_result"
    }
   ],
   "source": [
    "# clinet side\n",
    "key = paramiko.RSAKey.from_private_key_file(\"/home/julin/.ssh/id_rsa\")\n",
    "client_client = paramiko.SSHClient()\n",
    "client_client.load_system_host_keys()\n",
    "client_client.set_missing_host_key_policy(paramiko.MissingHostKeyPolicy())\n",
    "client_client.set_missing_host_key_policy(paramiko.AutoAddPolicy())\n",
    "client_client"
   ]
  },
  {
   "cell_type": "code",
   "execution_count": 40,
   "id": "00ff8a40",
   "metadata": {},
   "outputs": [
    {
     "name": "stdout",
     "output_type": "stream",
     "text": [
      "CentOS Linux 8 - AppStream                      4.9 MB/s | 8.8 MB     00:01    \n",
      "CentOS Linux 8 - BaseOS                         2.6 MB/s | 5.6 MB     00:02    \n",
      "CentOS Linux 8 - Extras                          20 kB/s |  10 kB     00:00    \n",
      "Last metadata expiration check: 0:00:01 ago on Tue 24 Aug 2021 07:01:06 PM UTC.\n",
      "Dependencies resolved.\n",
      "================================================================================\n",
      " Package             Architecture  Version               Repository        Size\n",
      "================================================================================\n",
      "Installing:\n",
      " iperf3              x86_64        3.5-6.el8             appstream        100 k\n",
      "Installing dependencies:\n",
      " lksctp-tools        x86_64        1.0.18-3.el8          baseos           100 k\n",
      "\n",
      "Transaction Summary\n",
      "================================================================================\n",
      "Install  2 Packages\n",
      "\n",
      "Total download size: 200 k\n",
      "Installed size: 481 k\n",
      "Downloading Packages:\n",
      "(1/2): iperf3-3.5-6.el8.x86_64.rpm              253 kB/s | 100 kB     00:00    \n",
      "(2/2): lksctp-tools-1.0.18-3.el8.x86_64.rpm     133 kB/s | 100 kB     00:00    \n",
      "--------------------------------------------------------------------------------\n",
      "Total                                           151 kB/s | 200 kB     00:01     \n",
      "CentOS Linux 8 - AppStream                      1.6 MB/s | 1.6 kB     00:00    \n",
      "Key imported successfully\n",
      "Running transaction check\n",
      "Transaction check succeeded.\n",
      "Running transaction test\n",
      "Transaction test succeeded.\n",
      "Running transaction\n",
      "  Preparing        :                                                        1/1 \n",
      "  Installing       : lksctp-tools-1.0.18-3.el8.x86_64                       1/2 \n",
      "  Running scriptlet: lksctp-tools-1.0.18-3.el8.x86_64                       1/2 \n",
      "  Installing       : iperf3-3.5-6.el8.x86_64                                2/2 \n",
      "  Running scriptlet: iperf3-3.5-6.el8.x86_64                                2/2 \n",
      "  Verifying        : iperf3-3.5-6.el8.x86_64                                1/2 \n",
      "  Verifying        : lksctp-tools-1.0.18-3.el8.x86_64                       2/2 \n",
      "\n",
      "Installed:\n",
      "  iperf3-3.5-6.el8.x86_64            lksctp-tools-1.0.18-3.el8.x86_64           \n",
      "\n",
      "Complete!\n",
      "\n",
      "warning: /var/cache/dnf/appstream-a3ce6348fe6cbd6c/packages/iperf3-3.5-6.el8.x86_64.rpm: Header V3 RSA/SHA256 Signature, key ID 8483c65d: NOKEY\n",
      "Importing GPG key 0x8483C65D:\n",
      " Userid     : \"CentOS (CentOS Official Signing Key) <security@centos.org>\"\n",
      " Fingerprint: 99DB 70FA E1D7 CE22 7FB6 4882 05B5 55B3 8483 C65D\n",
      " From       : /etc/pki/rpm-gpg/RPM-GPG-KEY-centosofficial\n",
      "\n"
     ]
    }
   ],
   "source": [
    "# install iperf package\n",
    "client_client.connect(client_ip,username='centos',pkey = key)\n",
    "stdin, stdout, stderr = client_client.exec_command('sudo yum install -y iperf3')\n",
    "print(stdout.read().decode(\"utf-8\"))\n",
    "print(stderr.read().decode(\"utf-8\"))"
   ]
  },
  {
   "cell_type": "code",
   "execution_count": 42,
   "id": "b27e9b11",
   "metadata": {},
   "outputs": [
    {
     "name": "stdout",
     "output_type": "stream",
     "text": [
      "\n",
      "Connecting to host 198.129.61.55, port 5201\n",
      "[  5] local 10.20.4.132 port 52138 connected to 198.129.61.55 port 5201\n",
      "[ ID] Interval           Transfer     Bitrate         Retr  Cwnd\n",
      "[  5]   0.00-1.00   sec  1.11 GBytes  9.56 Gbits/sec    2   3.01 MBytes       \n",
      "[  5]   1.00-2.00   sec  1.14 GBytes  9.79 Gbits/sec    0   3.01 MBytes       \n",
      "[  5]   2.00-3.00   sec  1.13 GBytes  9.68 Gbits/sec    0   3.01 MBytes       \n",
      "[  5]   3.00-4.00   sec  1.14 GBytes  9.77 Gbits/sec    0   3.01 MBytes       \n",
      "[  5]   4.00-5.00   sec  1.14 GBytes  9.81 Gbits/sec    0   3.01 MBytes       \n",
      "[  5]   5.00-6.00   sec  1.13 GBytes  9.67 Gbits/sec    0   3.01 MBytes       \n",
      "[  5]   6.00-7.00   sec  1.15 GBytes  9.86 Gbits/sec    0   3.01 MBytes       \n",
      "[  5]   7.00-8.00   sec  1.13 GBytes  9.73 Gbits/sec   38   3.01 MBytes       \n",
      "[  5]   8.00-9.00   sec  1.13 GBytes  9.71 Gbits/sec   11   3.01 MBytes       \n",
      "[  5]   9.00-10.00  sec  1.12 GBytes  9.62 Gbits/sec    0   3.01 MBytes       \n",
      "- - - - - - - - - - - - - - - - - - - - - - - - -\n",
      "[ ID] Interval           Transfer     Bitrate         Retr\n",
      "[  5]   0.00-10.00  sec  11.3 GBytes  9.72 Gbits/sec   51             sender\n",
      "[  5]   0.00-10.04  sec  11.3 GBytes  9.68 Gbits/sec                  receiver\n",
      "\n",
      "iperf Done.\n",
      "\n",
      "\n"
     ]
    }
   ],
   "source": [
    "stdin, stdout, stderr  = client_client.exec_command('iperf3 -c ' + server_ip)\n",
    "print ('')\n",
    "print (str(stdout.read(),'utf-8').replace('\\\\n','\\n'))\n",
    "print (str(stderr.read(),'utf-8').replace('\\\\n','\\n'))"
   ]
  },
  {
   "cell_type": "markdown",
   "id": "91f46fbb",
   "metadata": {},
   "source": [
    "# Delete Slice"
   ]
  },
  {
   "cell_type": "code",
   "execution_count": 43,
   "id": "68088308",
   "metadata": {},
   "outputs": [
    {
     "name": "stdout",
     "output_type": "stream",
     "text": [
      "Response Status Status.OK\n",
      "Response received None\n"
     ]
    }
   ],
   "source": [
    "status, result = slice_manager.delete(slice_id=slice_id)\n",
    "\n",
    "print(\"Response Status {}\".format(status))\n",
    "print(\"Response received {}\".format(result))"
   ]
  },
  {
   "cell_type": "code",
   "execution_count": null,
   "id": "c236edba",
   "metadata": {},
   "outputs": [],
   "source": []
  }
 ],
 "metadata": {
  "kernelspec": {
   "display_name": "Python 3 (ipykernel)",
   "language": "python",
   "name": "python3"
  },
  "language_info": {
   "codemirror_mode": {
    "name": "ipython",
    "version": 3
   },
   "file_extension": ".py",
   "mimetype": "text/x-python",
   "name": "python",
   "nbconvert_exporter": "python",
   "pygments_lexer": "ipython3",
   "version": "3.9.6"
  }
 },
 "nbformat": 4,
 "nbformat_minor": 5
}
