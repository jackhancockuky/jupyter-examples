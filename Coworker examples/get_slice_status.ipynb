{
 "cells": [
  {
   "cell_type": "code",
   "execution_count": 6,
   "id": "46ecc13a-7257-4248-939c-97cde7d994aa",
   "metadata": {},
   "outputs": [
    {
     "name": "stdout",
     "output_type": "stream",
     "text": [
      "CM Host: beta-2.fabric-testbed.net Orchestrator Host: beta-7.fabric-testbed.net\n"
     ]
    }
   ],
   "source": [
    "import os\n",
    "from fabrictestbed.slice_manager import SliceManager, Status\n",
    "import json\n",
    "\n",
    "credmgr_host = os.environ['FABRIC_CREDMGR_HOST']\n",
    "orchestrator_host = os.environ['FABRIC_ORCHESTRATOR_HOST']\n",
    "print(f\"CM Host: {credmgr_host} Orchestrator Host: {orchestrator_host}\")\n",
    "\n",
    "slice_manager = SliceManager(oc_host=orchestrator_host, cm_host=credmgr_host, project_name='all', scope='all')\n",
    "slice_manager.initialize()"
   ]
  },
  {
   "cell_type": "code",
   "execution_count": 7,
   "id": "3a60752f-db8f-4a2d-abb3-c8b00833e7b2",
   "metadata": {
    "tags": []
   },
   "outputs": [],
   "source": [
    "def get_slices(states):\n",
    "    status, slices_all = slice_manager.slices(state = 'All')\n",
    "    if states[0] == 'All':\n",
    "        return status, slices_all\n",
    "    slices = list(filter(lambda x: x.slice_state in list(states), slices_all))\n",
    "    return status, slices"
   ]
  },
  {
   "cell_type": "code",
   "execution_count": 11,
   "id": "69e43941-ccab-43d7-bb8c-c6850082621b",
   "metadata": {},
   "outputs": [
    {
     "name": "stdout",
     "output_type": "stream",
     "text": [
      "(<Status.OK: 1>, [])\n"
     ]
    }
   ],
   "source": [
    "var = get_slices('closed')\n",
    "print(var)"
   ]
  },
  {
   "cell_type": "code",
   "execution_count": null,
   "id": "2b6ab654-edd8-4ded-8c62-bdc5a2586885",
   "metadata": {},
   "outputs": [],
   "source": []
  }
 ],
 "metadata": {
  "kernelspec": {
   "display_name": "Python 3",
   "language": "python",
   "name": "python3"
  },
  "language_info": {
   "codemirror_mode": {
    "name": "ipython",
    "version": 3
   },
   "file_extension": ".py",
   "mimetype": "text/x-python",
   "name": "python",
   "nbconvert_exporter": "python",
   "pygments_lexer": "ipython3",
   "version": "3.9.2"
  }
 },
 "nbformat": 4,
 "nbformat_minor": 5
}
