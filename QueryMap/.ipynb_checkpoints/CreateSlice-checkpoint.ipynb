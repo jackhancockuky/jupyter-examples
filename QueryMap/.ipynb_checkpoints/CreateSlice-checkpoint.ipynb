{
 "cells": [
  {
   "cell_type": "code",
   "execution_count": 1,
   "id": "63bdca10-bbb2-4ca1-8ca0-517175a380a2",
   "metadata": {},
   "outputs": [],
   "source": [
    "import os\n",
    "import json\n",
    "from fabrictestbed.slice_manager import SliceManager, Status"
   ]
  },
  {
   "cell_type": "code",
   "execution_count": 2,
   "id": "57d75789-98be-4127-a192-097356c57a0e",
   "metadata": {},
   "outputs": [
    {
     "name": "stdout",
     "output_type": "stream",
     "text": [
      "CM Host: beta-2.fabric-testbed.net Orchestrator Host: beta-7.fabric-testbed.net\n"
     ]
    }
   ],
   "source": [
    "credmgr_host = os.environ['FABRIC_CREDMGR_HOST']\n",
    "orchestrator_host = os.environ['FABRIC_ORCHESTRATOR_HOST']\n",
    "print(f\"CM Host: {credmgr_host} Orchestrator Host: {orchestrator_host}\")"
   ]
  },
  {
   "cell_type": "code",
   "execution_count": 3,
   "id": "d430a213-d2d0-44ca-bda9-bdcf6822e89d",
   "metadata": {},
   "outputs": [],
   "source": [
    "slice_manager = SliceManager(oc_host=orchestrator_host, cm_host=credmgr_host, project_name='all', scope='all')\n",
    "\n",
    "# Initialize the slice manager\n",
    "slice_manager.initialize()"
   ]
  },
  {
   "cell_type": "code",
   "execution_count": 4,
   "id": "1cd30c27-13fc-4675-88aa-422fa5e19950",
   "metadata": {},
   "outputs": [
    {
     "name": "stdout",
     "output_type": "stream",
     "text": [
      "Status: Status.OK\n"
     ]
    }
   ],
   "source": [
    "status, advertised_topology = slice_manager.resources()\n",
    "\n",
    "print(f\"Status: {status}\")\n",
    "# if status == Status.OK:\n",
    "#     print(f\"Topology: {advertised_topology}\")\n",
    "# else:\n",
    "#     print(f\"Error: {advertised_topology}\")"
   ]
  },
  {
   "cell_type": "code",
   "execution_count": 5,
   "id": "26f6427f-5f0f-49db-8980-3287c52eb966",
   "metadata": {},
   "outputs": [
    {
     "data": {
      "image/png": "[encoded data removed]",
      "text/plain": [
       "<Figure size 432x288 with 1 Axes>"
      ]
     },
     "metadata": {},
     "output_type": "display_data"
    }
   ],
   "source": [
    "if status == Status.OK:\n",
    "    advertised_topology.draw()"
   ]
  },
  {
   "cell_type": "code",
   "execution_count": 6,
   "id": "54bc7883-5474-49f6-9cc7-994cd5fc0de2",
   "metadata": {},
   "outputs": [
    {
     "name": "stdout",
     "output_type": "stream",
     "text": [
      "Response Status Status.OK\n",
      "Reservations created [{\n",
      "    \"graph_node_id\": \"41509683-15ed-4270-8b41-e56991f3a28a\",\n",
      "    \"lease_end\": \"2021-07-30 01:50:04\",\n",
      "    \"pending_state\": \"None_\",\n",
      "    \"reservation_id\": \"73ed0589-12d4-41c3-b8f4-3ba73feaaa13\",\n",
      "    \"reservation_state\": \"Unknown\",\n",
      "    \"slice_id\": \"3abbecb1-107e-4fd1-8fb1-1a633fc7a828\"\n",
      "}, {\n",
      "    \"graph_node_id\": \"62c6324d-f864-4a10-9a5e-3e13df1de8e0\",\n",
      "    \"lease_end\": \"2021-07-30 01:50:04\",\n",
      "    \"pending_state\": \"None_\",\n",
      "    \"reservation_id\": \"108001e7-e4fa-4acf-8f08-a4df993c35ad\",\n",
      "    \"reservation_state\": \"Unknown\",\n",
      "    \"slice_id\": \"3abbecb1-107e-4fd1-8fb1-1a633fc7a828\"\n",
      "}, {\n",
      "    \"graph_node_id\": \"38e72837-718f-41fb-ba23-ac99150f1570\",\n",
      "    \"lease_end\": \"2021-07-30 01:50:04\",\n",
      "    \"pending_state\": \"None_\",\n",
      "    \"reservation_id\": \"cbf2b603-ec92-457d-8bc1-503990fc3480\",\n",
      "    \"reservation_state\": \"Unknown\",\n",
      "    \"slice_id\": \"3abbecb1-107e-4fd1-8fb1-1a633fc7a828\"\n",
      "}, {\n",
      "    \"graph_node_id\": \"2b6caf9c-ef50-4da5-9afb-7bafe728a251\",\n",
      "    \"lease_end\": \"2021-07-30 01:50:04\",\n",
      "    \"pending_state\": \"None_\",\n",
      "    \"reservation_id\": \"2be645c8-4ba2-4dfe-8710-6d31a39abd52\",\n",
      "    \"reservation_state\": \"Unknown\",\n",
      "    \"slice_id\": \"3abbecb1-107e-4fd1-8fb1-1a633fc7a828\"\n",
      "}]\n"
     ]
    }
   ],
   "source": [
    "from fabrictestbed.slice_editor import ExperimentTopology, Capacities, ComponentType, ComponentModelType, ServiceType\n",
    "# Create topology\n",
    "t = ExperimentTopology()\n",
    "\n",
    "# Add node\n",
    "n1 = t.add_node(name='n1', site='UKY')\n",
    "\n",
    "# Set capacities\n",
    "cap = Capacities()\n",
    "cap.set_fields(core=2, ram=6, disk=10)\n",
    "\n",
    "# Set Properties\n",
    "n1.set_properties(capacities=cap, image_type='qcow2', image_ref='default_centos_8')\n",
    "\n",
    "# Add PCI devices\n",
    "n1.add_component(ctype=ComponentType.NVME, model='P4510', name='c1')\n",
    "\n",
    "# Add node\n",
    "n2 = t.add_node(name='n2', site='LBNL')\n",
    "\n",
    "# Set properties\n",
    "n2.set_properties(capacities=cap, image_type='qcow2', image_ref='default_centos_8')\n",
    "\n",
    "\n",
    "# Add node\n",
    "n3 = t.add_node(name='n3', site='LBNL')\n",
    "\n",
    "# Set properties\n",
    "n3.set_properties(capacities=cap, image_type='qcow2', image_ref='default_centos_8')\n",
    "\n",
    "# Shared Cards\n",
    "n1.add_component(model_type=ComponentModelType.SmartNIC_ConnectX_6, name='n1-nic1')\n",
    "n2.add_component(model_type=ComponentModelType.SmartNIC_ConnectX_6, name='n2-nic1')\n",
    "n3.add_component(model_type=ComponentModelType.SmartNIC_ConnectX_6, name='n3-nic1')\n",
    "\n",
    "# L2STS Service\n",
    "t.add_network_service(name='sts1', nstype=ServiceType.L2STS,\n",
    "                      interfaces=[n1.interface_list[0], n2.interface_list[0], n3.interface_list[0]])\n",
    "\n",
    "# Generate Slice Graph\n",
    "slice_graph = t.serialize()\n",
    "\n",
    "ssh_key = None\n",
    "with open (\"/home/fabric/.ssh/id_rsa.pub\", \"r\") as myfile:\n",
    "    ssh_key=myfile.read()\n",
    "    ssh_key=ssh_key.strip()\n",
    "\n",
    "# Request slice from Orchestrator\n",
    "status, reservations = slice_manager.create(slice_name='Slice-sts-ded', slice_graph=slice_graph, ssh_key=ssh_key)\n",
    "\n",
    "print(\"Response Status {}\".format(status))\n",
    "if status == Status.OK:\n",
    "    print(\"Reservations created {}\".format(reservations))\n",
    "else:\n",
    "    print(f\"Failure: {reservations}\")"
   ]
  },
  {
   "cell_type": "code",
   "execution_count": 7,
   "id": "be9b058b-2932-463f-b149-874ec17a4044",
   "metadata": {},
   "outputs": [],
   "source": [
    "# Set the Slice ID from output of the above command, save to text file\n",
    "if os.path.exists('slice_id.txt'):\n",
    "    os.remove('slice_id.txt')\n",
    "\n",
    "with open('slice_id.txt', 'a') as file:\n",
    "    file.write(reservations[0].slice_id)"
   ]
  },
  {
   "cell_type": "code",
   "execution_count": null,
   "id": "2480a93a-eee4-4b75-acf7-a25b99cca7e8",
   "metadata": {},
   "outputs": [],
   "source": []
  }
 ],
 "metadata": {
  "kernelspec": {
   "display_name": "Python 3",
   "language": "python",
   "name": "python3"
  },
  "language_info": {
   "codemirror_mode": {
    "name": "ipython",
    "version": 3
   },
   "file_extension": ".py",
   "mimetype": "text/x-python",
   "name": "python",
   "nbconvert_exporter": "python",
   "pygments_lexer": "ipython3",
   "version": "3.9.2"
  }
 },
 "nbformat": 4,
 "nbformat_minor": 5
}
