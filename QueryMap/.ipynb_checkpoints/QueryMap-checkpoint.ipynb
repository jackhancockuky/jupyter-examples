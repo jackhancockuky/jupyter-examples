{
 "cells": [
  {
   "cell_type": "code",
   "execution_count": 1,
   "id": "3cf93371-f950-426d-83ea-445a3f46e304",
   "metadata": {},
   "outputs": [],
   "source": [
    "import os\n",
    "import json\n",
    "from fabrictestbed.slice_manager import SliceManager, Status"
   ]
  },
  {
   "cell_type": "code",
   "execution_count": 2,
   "id": "bc951cf2-58a1-4b38-a3da-267dbdc3aa27",
   "metadata": {},
   "outputs": [
    {
     "name": "stdout",
     "output_type": "stream",
     "text": [
      "CM Host: beta-2.fabric-testbed.net Orchestrator Host: beta-7.fabric-testbed.net\n"
     ]
    }
   ],
   "source": [
    "credmgr_host = os.environ['FABRIC_CREDMGR_HOST']\n",
    "orchestrator_host = os.environ['FABRIC_ORCHESTRATOR_HOST']\n",
    "print(f\"CM Host: {credmgr_host} Orchestrator Host: {orchestrator_host}\")"
   ]
  },
  {
   "cell_type": "code",
   "execution_count": 3,
   "id": "69c8d7d5-84eb-4be0-a98b-5e58b9e5aacd",
   "metadata": {},
   "outputs": [],
   "source": [
    "slice_manager = SliceManager(oc_host = orchestrator_host, cm_host = credmgr_host, project_name = 'all', scope = 'all')\n",
    "\n",
    "# Initialize the slice manager\n",
    "slice_manager.initialize()"
   ]
  },
  {
   "cell_type": "code",
   "execution_count": 4,
   "id": "2853f7d8-4b4c-44a3-b329-eae9c78b571d",
   "metadata": {},
   "outputs": [
    {
     "name": "stdout",
     "output_type": "stream",
     "text": [
      "Response Status Status.OK\n",
      "Slices [{\n",
      "    \"graph_id\": \"dd31e48c-294c-40a5-8f65-d0fa67b5e29d\",\n",
      "    \"lease_end\": \"2021-07-27 21:15:31\",\n",
      "    \"slice_id\": \"70fbefce-f374-4540-8d74-e85e4f1356f7\",\n",
      "    \"slice_name\": \"Slice-l2bridge-ded-tag\",\n",
      "    \"slice_state\": \"Dead\"\n",
      "}, {\n",
      "    \"graph_id\": \"f5fcaddb-78f1-4c67-9053-75355e29fcb9\",\n",
      "    \"lease_end\": \"2021-07-29 17:55:03\",\n",
      "    \"slice_id\": \"4d09c6a1-1097-467e-b858-e543feee6d9a\",\n",
      "    \"slice_name\": \"Slice-l2bridge-ded-tag\",\n",
      "    \"slice_state\": \"Dead\"\n",
      "}, {\n",
      "    \"graph_id\": \"9fc6a698-ffbc-4d2a-9a08-58237f467322\",\n",
      "    \"lease_end\": \"2021-07-29 20:21:44\",\n",
      "    \"slice_id\": \"96fbf26a-d0c7-49a4-ac04-8c38c13f2444\",\n",
      "    \"slice_name\": \"Slice-l2bridge-ded-tag\",\n",
      "    \"slice_state\": \"Closing\"\n",
      "}, {\n",
      "    \"graph_id\": \"38b0f0c1-d5f9-4bd8-81d1-2417f90e23fe\",\n",
      "    \"lease_end\": \"2021-07-29 20:35:35\",\n",
      "    \"slice_id\": \"73f9efcd-5e97-41aa-9d8f-f66a9895b27b\",\n",
      "    \"slice_name\": \"Slice-sts-ded\",\n",
      "    \"slice_state\": \"Dead\"\n",
      "}, {\n",
      "    \"graph_id\": \"e26d163c-a8f2-4207-b8a9-28f269b33034\",\n",
      "    \"lease_end\": \"2021-07-30 01:50:04\",\n",
      "    \"slice_id\": \"3abbecb1-107e-4fd1-8fb1-1a633fc7a828\",\n",
      "    \"slice_name\": \"Slice-sts-ded\",\n",
      "    \"slice_state\": \"Closing\"\n",
      "}]\n"
     ]
    }
   ],
   "source": [
    "status, slices = slice_manager.slices(state = \"All\")\n",
    "\n",
    "print(\"Response Status {}\".format(status))\n",
    "if status == Status.OK:\n",
    "    print(\"Slices {}\".format(slices))\n",
    "else:\n",
    "    print(f\"Failure: {slices}\")"
   ]
  },
  {
   "cell_type": "code",
   "execution_count": 5,
   "id": "fb5893a7-0d03-4cf5-a24b-1c1a88ec9a6e",
   "metadata": {},
   "outputs": [
    {
     "name": "stdout",
     "output_type": "stream",
     "text": [
      "Response Status Status.OK\n",
      "Slivers [{\n",
      "    \"capacities\": \"{\\\"core\\\": 2, \\\"disk\\\": 10, \\\"ram\\\": 6}\",\n",
      "    \"capacity_hints\": \"{\\\"instance_type\\\": \\\"fabric.c2.m8.d10\\\"}\",\n",
      "    \"graph_node_id\": \"38e72837-718f-41fb-ba23-ac99150f1570\",\n",
      "    \"join_state\": \"NoJoin\",\n",
      "    \"lease_end\": \"2021-07-30 01:50:04\",\n",
      "    \"name\": \"n3\",\n",
      "    \"pending_state\": \"None_\",\n",
      "    \"reservation_id\": \"cbf2b603-ec92-457d-8bc1-503990fc3480\",\n",
      "    \"reservation_state\": \"Closed\",\n",
      "    \"resource_type\": \"VM\",\n",
      "    \"site\": \"LBNL\",\n",
      "    \"slice_id\": \"3abbecb1-107e-4fd1-8fb1-1a633fc7a828\"\n",
      "}, {\n",
      "    \"graph_node_id\": \"2b6caf9c-ef50-4da5-9afb-7bafe728a251\",\n",
      "    \"join_state\": \"NoJoin\",\n",
      "    \"lease_end\": \"2021-07-30 01:50:04\",\n",
      "    \"name\": \"sts1\",\n",
      "    \"pending_state\": \"None_\",\n",
      "    \"reservation_id\": \"2be645c8-4ba2-4dfe-8710-6d31a39abd52\",\n",
      "    \"reservation_state\": \"Closed\",\n",
      "    \"resource_type\": \"L2STS\",\n",
      "    \"slice_id\": \"3abbecb1-107e-4fd1-8fb1-1a633fc7a828\"\n",
      "}, {\n",
      "    \"allocated_capacities\": \"{\\\"core\\\": 2, \\\"disk\\\": 10, \\\"ram\\\": 8}\",\n",
      "    \"allocated_labels\": \"{\\\"instance_parent\\\": \\\"uky-w2.fabric-testbed.net\\\"}\",\n",
      "    \"capacities\": \"{\\\"core\\\": 2, \\\"disk\\\": 10, \\\"ram\\\": 6}\",\n",
      "    \"capacity_hints\": \"{\\\"instance_type\\\": \\\"fabric.c2.m8.d10\\\"}\",\n",
      "    \"graph_node_id\": \"41509683-15ed-4270-8b41-e56991f3a28a\",\n",
      "    \"join_state\": \"NoJoin\",\n",
      "    \"lease_end\": \"2021-07-30 01:50:04\",\n",
      "    \"name\": \"n1\",\n",
      "    \"pending_state\": \"None_\",\n",
      "    \"reservation_id\": \"73ed0589-12d4-41c3-b8f4-3ba73feaaa13\",\n",
      "    \"reservation_state\": \"Closed\",\n",
      "    \"resource_type\": \"VM\",\n",
      "    \"site\": \"UKY\",\n",
      "    \"slice_id\": \"3abbecb1-107e-4fd1-8fb1-1a633fc7a828\"\n",
      "}, {\n",
      "    \"allocated_capacities\": \"{\\\"core\\\": 2, \\\"disk\\\": 10, \\\"ram\\\": 8}\",\n",
      "    \"allocated_labels\": \"{\\\"instance_parent\\\": \\\"lbnl-w2.fabric-testbed.net\\\"}\",\n",
      "    \"capacities\": \"{\\\"core\\\": 2, \\\"disk\\\": 10, \\\"ram\\\": 6}\",\n",
      "    \"capacity_hints\": \"{\\\"instance_type\\\": \\\"fabric.c2.m8.d10\\\"}\",\n",
      "    \"graph_node_id\": \"62c6324d-f864-4a10-9a5e-3e13df1de8e0\",\n",
      "    \"join_state\": \"NoJoin\",\n",
      "    \"lease_end\": \"2021-07-30 01:50:04\",\n",
      "    \"name\": \"n2\",\n",
      "    \"pending_state\": \"None_\",\n",
      "    \"reservation_id\": \"108001e7-e4fa-4acf-8f08-a4df993c35ad\",\n",
      "    \"reservation_state\": \"Closed\",\n",
      "    \"resource_type\": \"VM\",\n",
      "    \"site\": \"LBNL\",\n",
      "    \"slice_id\": \"3abbecb1-107e-4fd1-8fb1-1a633fc7a828\"\n",
      "}]\n"
     ]
    }
   ],
   "source": [
    "# get slice ID from text file, query slivers\n",
    "\n",
    "with open('slice_id.txt', 'r') as file:\n",
    "    slice_id = file.read()\n",
    "    \n",
    "status, slivers = slice_manager.slivers(slice_id = slice_id)\n",
    "\n",
    "print(\"Response Status {}\".format(status))\n",
    "if status == Status.OK:\n",
    "    print(\"Slivers {}\".format(slivers))\n",
    "else:\n",
    "    print(f\"Failure: {slivers}\")"
   ]
  },
  {
   "cell_type": "code",
   "execution_count": 25,
   "id": "d7233159-60a5-4e83-918f-4adaf55be6e1",
   "metadata": {},
   "outputs": [],
   "source": [
    "# create dictionary with resource names/types/locations\n",
    "\n",
    "site_dict = {'UKY': (38.03154264461649, -84.50343326019218), 'RENC': (35.93996154497003, -79.01809264307425), 'LBNL': (38.94977311613871, -122.61289106281062)}\n",
    "labels = {}\n",
    "\n",
    "for sliver in slivers:\n",
    "    status, sliver_status = slice_manager.sliver_status(slice_id = slice_id, sliver_id = sliver.reservation_id)\n",
    "#     print(\"Response Status {}\".format(status))\n",
    "    if sliver_status.resource_type == \"VM\":\n",
    "        name = sliver_status.name\n",
    "        site = sliver_status.site\n",
    "        capacities = sliver_status.capacities\n",
    "        info = (site, capacities, site_dict[site])\n",
    "        labels[name] = info"
   ]
  },
  {
   "cell_type": "code",
   "execution_count": 35,
   "id": "f35bf2bc-1098-4488-85dd-171dd4535145",
   "metadata": {},
   "outputs": [],
   "source": [
    "# import packages needed for maps\n",
    "\n",
    "import folium\n",
    "import branca\n",
    "\n",
    "from ipyleaflet import (Map, Marker, MarkerCluster, TileLayer, ImageOverlay, Polyline, Polygon, \n",
    "Rectangle, Circle, CircleMarker, GeoJSON, DrawControl, WidgetControl,basemaps, Popup, Icon)\n",
    "\n",
    "# import package needed for widget stuff\n",
    "\n",
    "from ipywidgets import Text, HTML, HBox, Layout, VBox"
   ]
  },
  {
   "cell_type": "code",
   "execution_count": 75,
   "id": "6ca5d6b6-c47b-43c7-97ae-c707c5df87e7",
   "metadata": {},
   "outputs": [
    {
     "data": {
      "text/html": [
       "<div style=\"width:100%;\"><div style=\"position:relative;width:100%;height:0;padding-bottom:60%;\"><span style=\"color:#565656\">Make this Notebook Trusted to load map: File -> Trust Notebook</span><iframe src=\"about:blank\" style=\"position:absolute;width:100%;height:100%;left:0;top:0;border:none !important;\" data-html=%3C%21DOCTYPE%20html%3E%0A%3Chead%3E%20%20%20%20%0A%20%20%20%20%3Cmeta%20http-equiv%3D%22content-type%22%20content%3D%22text/html%3B%20charset%3DUTF-8%22%20/%3E%0A%20%20%20%20%0A%20%20%20%20%20%20%20%20%3Cscript%3E%0A%20%20%20%20%20%20%20%20%20%20%20%20L_NO_TOUCH%20%3D%20false%3B%0A%20%20%20%20%20%20%20%20%20%20%20%20L_DISABLE_3D%20%3D%20false%3B%0A%20%20%20%20%20%20%20%20%3C/script%3E%0A%20%20%20%20%0A%20%20%20%20%3Cstyle%3Ehtml%2C%20body%20%7Bwidth%3A%20100%25%3Bheight%3A%20100%25%3Bmargin%3A%200%3Bpadding%3A%200%3B%7D%3C/style%3E%0A%20%20%20%20%3Cstyle%3E%23map%20%7Bposition%3Aabsolute%3Btop%3A0%3Bbottom%3A0%3Bright%3A0%3Bleft%3A0%3B%7D%3C/style%3E%0A%20%20%20%20%3Cscript%20src%3D%22https%3A//cdn.jsdelivr.net/npm/leaflet%401.6.0/dist/leaflet.js%22%3E%3C/script%3E%0A%20%20%20%20%3Cscript%20src%3D%22https%3A//code.jquery.com/jquery-1.12.4.min.js%22%3E%3C/script%3E%0A%20%20%20%20%3Cscript%20src%3D%22https%3A//maxcdn.bootstrapcdn.com/bootstrap/3.2.0/js/bootstrap.min.js%22%3E%3C/script%3E%0A%20%20%20%20%3Cscript%20src%3D%22https%3A//cdnjs.cloudflare.com/ajax/libs/Leaflet.awesome-markers/2.0.2/leaflet.awesome-markers.js%22%3E%3C/script%3E%0A%20%20%20%20%3Clink%20rel%3D%22stylesheet%22%20href%3D%22https%3A//cdn.jsdelivr.net/npm/leaflet%401.6.0/dist/leaflet.css%22/%3E%0A%20%20%20%20%3Clink%20rel%3D%22stylesheet%22%20href%3D%22https%3A//maxcdn.bootstrapcdn.com/bootstrap/3.2.0/css/bootstrap.min.css%22/%3E%0A%20%20%20%20%3Clink%20rel%3D%22stylesheet%22%20href%3D%22https%3A//maxcdn.bootstrapcdn.com/bootstrap/3.2.0/css/bootstrap-theme.min.css%22/%3E%0A%20%20%20%20%3Clink%20rel%3D%22stylesheet%22%20href%3D%22https%3A//maxcdn.bootstrapcdn.com/font-awesome/4.6.3/css/font-awesome.min.css%22/%3E%0A%20%20%20%20%3Clink%20rel%3D%22stylesheet%22%20href%3D%22https%3A//cdnjs.cloudflare.com/ajax/libs/Leaflet.awesome-markers/2.0.2/leaflet.awesome-markers.css%22/%3E%0A%20%20%20%20%3Clink%20rel%3D%22stylesheet%22%20href%3D%22https%3A//cdn.jsdelivr.net/gh/python-visualization/folium/folium/templates/leaflet.awesome.rotate.min.css%22/%3E%0A%20%20%20%20%0A%20%20%20%20%20%20%20%20%20%20%20%20%3Cmeta%20name%3D%22viewport%22%20content%3D%22width%3Ddevice-width%2C%0A%20%20%20%20%20%20%20%20%20%20%20%20%20%20%20%20initial-scale%3D1.0%2C%20maximum-scale%3D1.0%2C%20user-scalable%3Dno%22%20/%3E%0A%20%20%20%20%20%20%20%20%20%20%20%20%3Cstyle%3E%0A%20%20%20%20%20%20%20%20%20%20%20%20%20%20%20%20%23map_e1e7cfa6216b4fc3bd4d05fa0a3c70d5%20%7B%0A%20%20%20%20%20%20%20%20%20%20%20%20%20%20%20%20%20%20%20%20position%3A%20relative%3B%0A%20%20%20%20%20%20%20%20%20%20%20%20%20%20%20%20%20%20%20%20width%3A%20100.0%25%3B%0A%20%20%20%20%20%20%20%20%20%20%20%20%20%20%20%20%20%20%20%20height%3A%20100.0%25%3B%0A%20%20%20%20%20%20%20%20%20%20%20%20%20%20%20%20%20%20%20%20left%3A%200.0%25%3B%0A%20%20%20%20%20%20%20%20%20%20%20%20%20%20%20%20%20%20%20%20top%3A%200.0%25%3B%0A%20%20%20%20%20%20%20%20%20%20%20%20%20%20%20%20%7D%0A%20%20%20%20%20%20%20%20%20%20%20%20%3C/style%3E%0A%20%20%20%20%20%20%20%20%0A%3C/head%3E%0A%3Cbody%3E%20%20%20%20%0A%20%20%20%20%0A%20%20%20%20%20%20%20%20%20%20%20%20%3Cdiv%20class%3D%22folium-map%22%20id%3D%22map_e1e7cfa6216b4fc3bd4d05fa0a3c70d5%22%20%3E%3C/div%3E%0A%20%20%20%20%20%20%20%20%0A%3C/body%3E%0A%3Cscript%3E%20%20%20%20%0A%20%20%20%20%0A%20%20%20%20%20%20%20%20%20%20%20%20var%20map_e1e7cfa6216b4fc3bd4d05fa0a3c70d5%20%3D%20L.map%28%0A%20%20%20%20%20%20%20%20%20%20%20%20%20%20%20%20%22map_e1e7cfa6216b4fc3bd4d05fa0a3c70d5%22%2C%0A%20%20%20%20%20%20%20%20%20%20%20%20%20%20%20%20%7B%0A%20%20%20%20%20%20%20%20%20%20%20%20%20%20%20%20%20%20%20%20center%3A%20%5B38.12480976137421%2C%20-95.7129%5D%2C%0A%20%20%20%20%20%20%20%20%20%20%20%20%20%20%20%20%20%20%20%20crs%3A%20L.CRS.EPSG3857%2C%0A%20%20%20%20%20%20%20%20%20%20%20%20%20%20%20%20%20%20%20%20zoom%3A%204.2%2C%0A%20%20%20%20%20%20%20%20%20%20%20%20%20%20%20%20%20%20%20%20zoomControl%3A%20true%2C%0A%20%20%20%20%20%20%20%20%20%20%20%20%20%20%20%20%20%20%20%20preferCanvas%3A%20false%2C%0A%20%20%20%20%20%20%20%20%20%20%20%20%20%20%20%20%7D%0A%20%20%20%20%20%20%20%20%20%20%20%20%29%3B%0A%0A%20%20%20%20%20%20%20%20%20%20%20%20%0A%0A%20%20%20%20%20%20%20%20%0A%20%20%20%20%0A%20%20%20%20%20%20%20%20%20%20%20%20var%20tile_layer_b8e0d38c1086421ab489465ba2403529%20%3D%20L.tileLayer%28%0A%20%20%20%20%20%20%20%20%20%20%20%20%20%20%20%20%22https%3A//%7Bs%7D.tile.openstreetmap.org/%7Bz%7D/%7Bx%7D/%7By%7D.png%22%2C%0A%20%20%20%20%20%20%20%20%20%20%20%20%20%20%20%20%7B%22attribution%22%3A%20%22Data%20by%20%5Cu0026copy%3B%20%5Cu003ca%20href%3D%5C%22http%3A//openstreetmap.org%5C%22%5Cu003eOpenStreetMap%5Cu003c/a%5Cu003e%2C%20under%20%5Cu003ca%20href%3D%5C%22http%3A//www.openstreetmap.org/copyright%5C%22%5Cu003eODbL%5Cu003c/a%5Cu003e.%22%2C%20%22detectRetina%22%3A%20false%2C%20%22maxNativeZoom%22%3A%2018%2C%20%22maxZoom%22%3A%2018%2C%20%22minZoom%22%3A%200%2C%20%22noWrap%22%3A%20false%2C%20%22opacity%22%3A%201%2C%20%22subdomains%22%3A%20%22abc%22%2C%20%22tms%22%3A%20false%7D%0A%20%20%20%20%20%20%20%20%20%20%20%20%29.addTo%28map_e1e7cfa6216b4fc3bd4d05fa0a3c70d5%29%3B%0A%20%20%20%20%20%20%20%20%0A%20%20%20%20%0A%20%20%20%20%20%20%20%20%20%20%20%20var%20marker_be0e87dd5fee471298552d82532f8c5a%20%3D%20L.marker%28%0A%20%20%20%20%20%20%20%20%20%20%20%20%20%20%20%20%5B38.94977311613871%2C%20-122.61289106281062%5D%2C%0A%20%20%20%20%20%20%20%20%20%20%20%20%20%20%20%20%7B%22maxWidth%22%3A%20100%7D%0A%20%20%20%20%20%20%20%20%20%20%20%20%29.addTo%28map_e1e7cfa6216b4fc3bd4d05fa0a3c70d5%29%3B%0A%20%20%20%20%20%20%20%20%0A%20%20%20%20%0A%20%20%20%20%20%20%20%20%20%20%20%20var%20icon_70fc7641cdcb4ba494bec7e3c9ba1752%20%3D%20L.AwesomeMarkers.icon%28%0A%20%20%20%20%20%20%20%20%20%20%20%20%20%20%20%20%7B%22extraClasses%22%3A%20%22fa-rotate-0%22%2C%20%22icon%22%3A%20%22server%22%2C%20%22iconColor%22%3A%20%22white%22%2C%20%22markerColor%22%3A%20%22green%22%2C%20%22prefix%22%3A%20%22fa%22%7D%0A%20%20%20%20%20%20%20%20%20%20%20%20%29%3B%0A%20%20%20%20%20%20%20%20%20%20%20%20marker_be0e87dd5fee471298552d82532f8c5a.setIcon%28icon_70fc7641cdcb4ba494bec7e3c9ba1752%29%3B%0A%20%20%20%20%20%20%20%20%0A%20%20%20%20%0A%20%20%20%20%20%20%20%20var%20popup_fbb70263a5534f41b5b0942c26521de8%20%3D%20L.popup%28%7B%22maxWidth%22%3A%20300%7D%29%3B%0A%0A%20%20%20%20%20%20%20%20%0A%20%20%20%20%20%20%20%20%20%20%20%20var%20i_frame_5a509843891a474b8066b90ccf68009e%20%3D%20%24%28%60%3Ciframe%20src%3D%22data%3Atext/html%3Bcharset%3Dutf-8%3Bbase64%2CCiAgICA8c3Ryb25nPlJlc291cmNlOiBuMzwvc3Ryb25nPjxicj5TaXRlOiBMQk5MPGJyPkNhcGFjaXRpZXM6IHsgY29yZTogMiAsIHJhbTogNiBHLCBkaXNrOiAxMCBHfQ%3D%3D%22%20width%3D%22300%22%20style%3D%22border%3Anone%20%21important%3B%22%20height%3D%2260%22%3E%3C/iframe%3E%60%29%5B0%5D%3B%0A%20%20%20%20%20%20%20%20%20%20%20%20popup_fbb70263a5534f41b5b0942c26521de8.setContent%28i_frame_5a509843891a474b8066b90ccf68009e%29%3B%0A%20%20%20%20%20%20%20%20%0A%0A%20%20%20%20%20%20%20%20marker_be0e87dd5fee471298552d82532f8c5a.bindPopup%28popup_fbb70263a5534f41b5b0942c26521de8%29%0A%20%20%20%20%20%20%20%20%3B%0A%0A%20%20%20%20%20%20%20%20%0A%20%20%20%20%0A%20%20%20%20%0A%20%20%20%20%20%20%20%20%20%20%20%20marker_be0e87dd5fee471298552d82532f8c5a.bindTooltip%28%0A%20%20%20%20%20%20%20%20%20%20%20%20%20%20%20%20%60%3Cdiv%3E%0A%20%20%20%20%20%20%20%20%20%20%20%20%20%20%20%20%20%20%20%20%20n3%20%3A%20LBNL%0A%20%20%20%20%20%20%20%20%20%20%20%20%20%20%20%20%20%3C/div%3E%60%2C%0A%20%20%20%20%20%20%20%20%20%20%20%20%20%20%20%20%7B%22sticky%22%3A%20true%7D%0A%20%20%20%20%20%20%20%20%20%20%20%20%29%3B%0A%20%20%20%20%20%20%20%20%0A%20%20%20%20%0A%20%20%20%20%20%20%20%20%20%20%20%20var%20marker_1278d5b5ad9a4a2d88bfcb7b0dd78db1%20%3D%20L.marker%28%0A%20%20%20%20%20%20%20%20%20%20%20%20%20%20%20%20%5B38.03154264461649%2C%20-84.50343326019218%5D%2C%0A%20%20%20%20%20%20%20%20%20%20%20%20%20%20%20%20%7B%22maxWidth%22%3A%20100%7D%0A%20%20%20%20%20%20%20%20%20%20%20%20%29.addTo%28map_e1e7cfa6216b4fc3bd4d05fa0a3c70d5%29%3B%0A%20%20%20%20%20%20%20%20%0A%20%20%20%20%0A%20%20%20%20%20%20%20%20%20%20%20%20var%20icon_1e7591c95a254b39b52d0dd12ff68ef0%20%3D%20L.AwesomeMarkers.icon%28%0A%20%20%20%20%20%20%20%20%20%20%20%20%20%20%20%20%7B%22extraClasses%22%3A%20%22fa-rotate-0%22%2C%20%22icon%22%3A%20%22server%22%2C%20%22iconColor%22%3A%20%22white%22%2C%20%22markerColor%22%3A%20%22green%22%2C%20%22prefix%22%3A%20%22fa%22%7D%0A%20%20%20%20%20%20%20%20%20%20%20%20%29%3B%0A%20%20%20%20%20%20%20%20%20%20%20%20marker_1278d5b5ad9a4a2d88bfcb7b0dd78db1.setIcon%28icon_1e7591c95a254b39b52d0dd12ff68ef0%29%3B%0A%20%20%20%20%20%20%20%20%0A%20%20%20%20%0A%20%20%20%20%20%20%20%20var%20popup_53415e159b234bb9ab35eae0803a56da%20%3D%20L.popup%28%7B%22maxWidth%22%3A%20300%7D%29%3B%0A%0A%20%20%20%20%20%20%20%20%0A%20%20%20%20%20%20%20%20%20%20%20%20var%20i_frame_b6641fa50f084ee089fb94a3451f460f%20%3D%20%24%28%60%3Ciframe%20src%3D%22data%3Atext/html%3Bcharset%3Dutf-8%3Bbase64%2CCiAgICA8c3Ryb25nPlJlc291cmNlOiBuMTwvc3Ryb25nPjxicj5TaXRlOiBVS1k8YnI%2BQ2FwYWNpdGllczogeyBjb3JlOiAyICwgcmFtOiA2IEcsIGRpc2s6IDEwIEd9%22%20width%3D%22300%22%20style%3D%22border%3Anone%20%21important%3B%22%20height%3D%2260%22%3E%3C/iframe%3E%60%29%5B0%5D%3B%0A%20%20%20%20%20%20%20%20%20%20%20%20popup_53415e159b234bb9ab35eae0803a56da.setContent%28i_frame_b6641fa50f084ee089fb94a3451f460f%29%3B%0A%20%20%20%20%20%20%20%20%0A%0A%20%20%20%20%20%20%20%20marker_1278d5b5ad9a4a2d88bfcb7b0dd78db1.bindPopup%28popup_53415e159b234bb9ab35eae0803a56da%29%0A%20%20%20%20%20%20%20%20%3B%0A%0A%20%20%20%20%20%20%20%20%0A%20%20%20%20%0A%20%20%20%20%0A%20%20%20%20%20%20%20%20%20%20%20%20marker_1278d5b5ad9a4a2d88bfcb7b0dd78db1.bindTooltip%28%0A%20%20%20%20%20%20%20%20%20%20%20%20%20%20%20%20%60%3Cdiv%3E%0A%20%20%20%20%20%20%20%20%20%20%20%20%20%20%20%20%20%20%20%20%20n1%20%3A%20UKY%0A%20%20%20%20%20%20%20%20%20%20%20%20%20%20%20%20%20%3C/div%3E%60%2C%0A%20%20%20%20%20%20%20%20%20%20%20%20%20%20%20%20%7B%22sticky%22%3A%20true%7D%0A%20%20%20%20%20%20%20%20%20%20%20%20%29%3B%0A%20%20%20%20%20%20%20%20%0A%20%20%20%20%0A%20%20%20%20%20%20%20%20%20%20%20%20var%20marker_6341e91e36b341d4b8a439cc90dfd84e%20%3D%20L.marker%28%0A%20%20%20%20%20%20%20%20%20%20%20%20%20%20%20%20%5B38.94977311613871%2C%20-122.61289106281062%5D%2C%0A%20%20%20%20%20%20%20%20%20%20%20%20%20%20%20%20%7B%22maxWidth%22%3A%20100%7D%0A%20%20%20%20%20%20%20%20%20%20%20%20%29.addTo%28map_e1e7cfa6216b4fc3bd4d05fa0a3c70d5%29%3B%0A%20%20%20%20%20%20%20%20%0A%20%20%20%20%0A%20%20%20%20%20%20%20%20%20%20%20%20var%20icon_bcba6cdb50e3464684c47bf9a9fe17c3%20%3D%20L.AwesomeMarkers.icon%28%0A%20%20%20%20%20%20%20%20%20%20%20%20%20%20%20%20%7B%22extraClasses%22%3A%20%22fa-rotate-0%22%2C%20%22icon%22%3A%20%22server%22%2C%20%22iconColor%22%3A%20%22white%22%2C%20%22markerColor%22%3A%20%22green%22%2C%20%22prefix%22%3A%20%22fa%22%7D%0A%20%20%20%20%20%20%20%20%20%20%20%20%29%3B%0A%20%20%20%20%20%20%20%20%20%20%20%20marker_6341e91e36b341d4b8a439cc90dfd84e.setIcon%28icon_bcba6cdb50e3464684c47bf9a9fe17c3%29%3B%0A%20%20%20%20%20%20%20%20%0A%20%20%20%20%0A%20%20%20%20%20%20%20%20var%20popup_78576dd5561f4f819d54866c5650f601%20%3D%20L.popup%28%7B%22maxWidth%22%3A%20300%7D%29%3B%0A%0A%20%20%20%20%20%20%20%20%0A%20%20%20%20%20%20%20%20%20%20%20%20var%20i_frame_53590d318aef4db49f508698b286a091%20%3D%20%24%28%60%3Ciframe%20src%3D%22data%3Atext/html%3Bcharset%3Dutf-8%3Bbase64%2CCiAgICA8c3Ryb25nPlJlc291cmNlOiBuMjwvc3Ryb25nPjxicj5TaXRlOiBMQk5MPGJyPkNhcGFjaXRpZXM6IHsgY29yZTogMiAsIHJhbTogNiBHLCBkaXNrOiAxMCBHfQ%3D%3D%22%20width%3D%22300%22%20style%3D%22border%3Anone%20%21important%3B%22%20height%3D%2260%22%3E%3C/iframe%3E%60%29%5B0%5D%3B%0A%20%20%20%20%20%20%20%20%20%20%20%20popup_78576dd5561f4f819d54866c5650f601.setContent%28i_frame_53590d318aef4db49f508698b286a091%29%3B%0A%20%20%20%20%20%20%20%20%0A%0A%20%20%20%20%20%20%20%20marker_6341e91e36b341d4b8a439cc90dfd84e.bindPopup%28popup_78576dd5561f4f819d54866c5650f601%29%0A%20%20%20%20%20%20%20%20%3B%0A%0A%20%20%20%20%20%20%20%20%0A%20%20%20%20%0A%20%20%20%20%0A%20%20%20%20%20%20%20%20%20%20%20%20marker_6341e91e36b341d4b8a439cc90dfd84e.bindTooltip%28%0A%20%20%20%20%20%20%20%20%20%20%20%20%20%20%20%20%60%3Cdiv%3E%0A%20%20%20%20%20%20%20%20%20%20%20%20%20%20%20%20%20%20%20%20%20n2%20%3A%20LBNL%0A%20%20%20%20%20%20%20%20%20%20%20%20%20%20%20%20%20%3C/div%3E%60%2C%0A%20%20%20%20%20%20%20%20%20%20%20%20%20%20%20%20%7B%22sticky%22%3A%20true%7D%0A%20%20%20%20%20%20%20%20%20%20%20%20%29%3B%0A%20%20%20%20%20%20%20%20%0A%3C/script%3E onload=\"this.contentDocument.open();this.contentDocument.write(    decodeURIComponent(this.getAttribute('data-html')));this.contentDocument.close();\" allowfullscreen webkitallowfullscreen mozallowfullscreen></iframe></div></div>"
      ],
      "text/plain": [
       "<folium.folium.Map at 0x7f6639873220>"
      ]
     },
     "execution_count": 75,
     "metadata": {},
     "output_type": "execute_result"
    }
   ],
   "source": [
    "# create map\n",
    "\n",
    "base = folium.Map(location = (38.12480976137421, -95.7129), zoom_start = 4.2)\n",
    "    \n",
    "markers = {}\n",
    "\n",
    "for label in labels:\n",
    "    html = f'<strong>Resource: {label}</strong><br>Site: {labels[label][0]}<br>Capacities: {labels[label][1]}'\n",
    "    iframe = branca.element.IFrame(html = html, width = 300, height = 60)\n",
    "    popup = folium.Popup(iframe, max_width = 300)\n",
    "    markers[label] = folium.Marker(location = labels[label][2], \n",
    "                                   popup = popup,\n",
    "                                   tooltip = f'{label} : {labels[label][0]}',\n",
    "                                   icon = folium.Icon(color = 'green', icon = 'server', prefix = 'fa'),\n",
    "                                   max_width = 100).add_to(base)\n",
    "\n",
    "base"
   ]
  },
  {
   "cell_type": "code",
   "execution_count": null,
   "id": "e30ecb65-e2df-4a26-a3dd-1d7e6167e6e4",
   "metadata": {},
   "outputs": [],
   "source": []
  }
 ],
 "metadata": {
  "kernelspec": {
   "display_name": "Python 3",
   "language": "python",
   "name": "python3"
  },
  "language_info": {
   "codemirror_mode": {
    "name": "ipython",
    "version": 3
   },
   "file_extension": ".py",
   "mimetype": "text/x-python",
   "name": "python",
   "nbconvert_exporter": "python",
   "pygments_lexer": "ipython3",
   "version": "3.9.2"
  }
 },
 "nbformat": 4,
 "nbformat_minor": 5
}
