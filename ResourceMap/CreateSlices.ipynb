{
 "cells": [
  {
   "cell_type": "code",
   "execution_count": 7,
   "id": "63bdca10-bbb2-4ca1-8ca0-517175a380a2",
   "metadata": {},
   "outputs": [],
   "source": [
    "import os\n",
    "import json\n",
    "from fabrictestbed.slice_manager import SliceManager, Status"
   ]
  },
  {
   "cell_type": "code",
   "execution_count": 8,
   "id": "57d75789-98be-4127-a192-097356c57a0e",
   "metadata": {},
   "outputs": [
    {
     "name": "stdout",
     "output_type": "stream",
     "text": [
      "CM Host: beta-2.fabric-testbed.net Orchestrator Host: beta-7.fabric-testbed.net\n"
     ]
    }
   ],
   "source": [
    "credmgr_host = os.environ['FABRIC_CREDMGR_HOST']\n",
    "orchestrator_host = os.environ['FABRIC_ORCHESTRATOR_HOST']\n",
    "print(f\"CM Host: {credmgr_host} Orchestrator Host: {orchestrator_host}\")"
   ]
  },
  {
   "cell_type": "code",
   "execution_count": 9,
   "id": "d430a213-d2d0-44ca-bda9-bdcf6822e89d",
   "metadata": {},
   "outputs": [],
   "source": [
    "# create and initialize the slice manager\n",
    "\n",
    "slice_manager = SliceManager(oc_host = orchestrator_host, cm_host = credmgr_host, project_name = 'all', scope = 'all')\n",
    "slice_manager.initialize()"
   ]
  },
  {
   "cell_type": "code",
   "execution_count": 10,
   "id": "1cd30c27-13fc-4675-88aa-422fa5e19950",
   "metadata": {},
   "outputs": [
    {
     "name": "stdout",
     "output_type": "stream",
     "text": [
      "Status: Status.OK\n",
      "Topology: UKY: { cpu: 6/6 , core: 188/192 , ram: 1,524/1,536 G, disk: 9,580/9,600 G, unit: 3/3 }\n",
      "\tComponents:\n",
      "\t\tGPU-RTX6000:  GPU RTX6000 { unit: 2/2 }\n",
      "\t\tGPU-Tesla T4:  GPU Tesla T4 { unit: 4/4 }\n",
      "\t\tNVME-P4510:  NVME P4510 { disk: 9,000/10,000 G, unit: 9/10 }\n",
      "\t\tSharedNIC-ConnectX-6:  SharedNIC ConnectX-6 { unit: 379/381 }\n",
      "\t\tSmartNIC-ConnectX-6:  SmartNIC ConnectX-6 { unit: 2/2 }\n",
      "\t\tSmartNIC-ConnectX-5:  SmartNIC ConnectX-5 { unit: 2/2 }\n",
      "\tSite Interfaces:\n",
      "\t\tUKY_LBNL: TrunkPort { bw: 100/100 Gbps}\n",
      "RENC\n",
      "\tComponents:\n",
      "\tSite Interfaces:\n",
      "STAR\n",
      "\tComponents:\n",
      "\tSite Interfaces:\n",
      "LBNL: { cpu: 6/6 , core: 184/192 , ram: 1,510/1,536 G, disk: 9,550/9,600 G, unit: 3/3 }\n",
      "\tComponents:\n",
      "\t\tSharedNIC-ConnectX-6:  SharedNIC ConnectX-6 { unit: 380/381 }\n",
      "\t\tNVME-P4510:  NVME P4510 { disk: 8,000/10,000 G, unit: 8/10 }\n",
      "\t\tGPU-RTX6000:  GPU RTX6000 { unit: 2/2 }\n",
      "\t\tGPU-Tesla T4:  GPU Tesla T4 { unit: 4/4 }\n",
      "\t\tSmartNIC-ConnectX-6:  SmartNIC ConnectX-6 { unit: 1/2 }\n",
      "\t\tSmartNIC-ConnectX-5:  SmartNIC ConnectX-5 { unit: 1/2 }\n",
      "\tSite Interfaces:\n",
      "\t\tLBNL_UKY: TrunkPort { bw: 10/10 Gbps}\n",
      "Links:\n",
      "\tport+lbnl-data-sw:TenGigE0/0/0/6/0.2400-link[L2Path]: ['UKY_LBNL', 'LBNL_UKY']\n"
     ]
    }
   ],
   "source": [
    "status, advertised_topology = slice_manager.resources()\n",
    "\n",
    "print(f\"Status: {status}\")\n",
    "if status == Status.OK:\n",
    "    print(f\"Topology: {advertised_topology}\")\n",
    "else:\n",
    "    print(f\"Error: {advertised_topology}\")"
   ]
  },
  {
   "cell_type": "code",
   "execution_count": 11,
   "id": "26f6427f-5f0f-49db-8980-3287c52eb966",
   "metadata": {},
   "outputs": [
    {
     "data": {
      "image/png": "[encoded data removed]",
      "text/plain": [
       "<Figure size 432x288 with 1 Axes>"
      ]
     },
     "metadata": {},
     "output_type": "display_data"
    }
   ],
   "source": [
    "if status == Status.OK:\n",
    "    advertised_topology.draw()"
   ]
  },
  {
   "cell_type": "code",
   "execution_count": 12,
   "id": "54bc7883-5474-49f6-9cc7-994cd5fc0de2",
   "metadata": {},
   "outputs": [
    {
     "name": "stdout",
     "output_type": "stream",
     "text": [
      "Response Status Status.OK\n",
      "Reservations created [{\n",
      "    \"graph_node_id\": \"6a3a092b-5fd8-476e-8abb-a26e565a6bed\",\n",
      "    \"lease_end\": \"2021-08-06 20:44:19\",\n",
      "    \"pending_state\": \"None_\",\n",
      "    \"reservation_id\": \"fa6535a7-f137-481a-b424-dd7131fb1bd2\",\n",
      "    \"reservation_state\": \"Unknown\",\n",
      "    \"slice_id\": \"82b26488-8973-47b0-a04c-5b425b19e230\"\n",
      "}, {\n",
      "    \"graph_node_id\": \"ec0fabab-c34c-473f-aab9-67c1415be7e2\",\n",
      "    \"lease_end\": \"2021-08-06 20:44:19\",\n",
      "    \"pending_state\": \"None_\",\n",
      "    \"reservation_id\": \"49b1c5f5-ef53-4121-94b9-4f0181393b6c\",\n",
      "    \"reservation_state\": \"Unknown\",\n",
      "    \"slice_id\": \"82b26488-8973-47b0-a04c-5b425b19e230\"\n",
      "}, {\n",
      "    \"graph_node_id\": \"72996109-7f5b-47c9-ae1f-948ce91c2aad\",\n",
      "    \"lease_end\": \"2021-08-06 20:44:19\",\n",
      "    \"pending_state\": \"None_\",\n",
      "    \"reservation_id\": \"7d6b9dea-4fc9-4a55-a7a1-3105cab1ec2e\",\n",
      "    \"reservation_state\": \"Unknown\",\n",
      "    \"slice_id\": \"82b26488-8973-47b0-a04c-5b425b19e230\"\n",
      "}, {\n",
      "    \"graph_node_id\": \"f6f9f5ed-46f4-4950-a201-1beb95ce8b59\",\n",
      "    \"lease_end\": \"2021-08-06 20:44:19\",\n",
      "    \"pending_state\": \"None_\",\n",
      "    \"reservation_id\": \"909f6686-ad8b-4092-a057-63a4d4e0b573\",\n",
      "    \"reservation_state\": \"Unknown\",\n",
      "    \"slice_id\": \"82b26488-8973-47b0-a04c-5b425b19e230\"\n",
      "}]\n"
     ]
    }
   ],
   "source": [
    "from fabrictestbed.slice_editor import ExperimentTopology, Capacities, ComponentType, ComponentModelType, ServiceType\n",
    "# Create topology\n",
    "t = ExperimentTopology()\n",
    "\n",
    "# Add node\n",
    "n1 = t.add_node(name='n1', site='UKY')\n",
    "\n",
    "# Set capacities\n",
    "cap = Capacities()\n",
    "cap.set_fields(core=2, ram=6, disk=10)\n",
    "\n",
    "# Set Properties\n",
    "n1.set_properties(capacities=cap, image_type='qcow2', image_ref='default_centos_8')\n",
    "\n",
    "# Add PCI devices\n",
    "n1.add_component(ctype=ComponentType.NVME, model='P4510', name='c1')\n",
    "\n",
    "# Add node\n",
    "n2 = t.add_node(name='n2', site='LBNL')\n",
    "\n",
    "# Set properties\n",
    "n2.set_properties(capacities=cap, image_type='qcow2', image_ref='default_centos_8')\n",
    "\n",
    "\n",
    "# Add node\n",
    "n3 = t.add_node(name='n3', site='LBNL')\n",
    "\n",
    "# Set properties\n",
    "n3.set_properties(capacities=cap, image_type='qcow2', image_ref='default_centos_8')\n",
    "\n",
    "# Shared Cards\n",
    "n1.add_component(model_type=ComponentModelType.SmartNIC_ConnectX_6, name='n1-nic1')\n",
    "n2.add_component(model_type=ComponentModelType.SmartNIC_ConnectX_6, name='n2-nic1')\n",
    "n3.add_component(model_type=ComponentModelType.SmartNIC_ConnectX_6, name='n3-nic1')\n",
    "\n",
    "# L2STS Service\n",
    "t.add_network_service(name='sts1', nstype=ServiceType.L2STS,\n",
    "                      interfaces=[n1.interface_list[0], n2.interface_list[0], n3.interface_list[0]])\n",
    "\n",
    "# Generate Slice Graph\n",
    "slice_graph = t.serialize()\n",
    "\n",
    "ssh_key = None\n",
    "with open (\"/home/fabric/.ssh/id_rsa.pub\", \"r\") as myfile:\n",
    "    ssh_key=myfile.read()\n",
    "    ssh_key=ssh_key.strip()\n",
    "\n",
    "# Request slice from Orchestrator\n",
    "status, reservations = slice_manager.create(slice_name='Slice-sts-ded', slice_graph=slice_graph, ssh_key=ssh_key)\n",
    "\n",
    "print(\"Response Status {}\".format(status))\n",
    "if status == Status.OK:\n",
    "    print(\"Reservations created {}\".format(reservations))\n",
    "else:\n",
    "    print(f\"Failure: {reservations}\")"
   ]
  },
  {
   "cell_type": "code",
   "execution_count": 13,
   "id": "be9b058b-2932-463f-b149-874ec17a4044",
   "metadata": {},
   "outputs": [
    {
     "name": "stdout",
     "output_type": "stream",
     "text": [
      "Response Status Status.OK\n",
      "Reservations created [{\n",
      "    \"graph_node_id\": \"47ce3016-d2ca-4f01-802a-b8bbf769c177\",\n",
      "    \"lease_end\": \"2021-08-06 21:09:26\",\n",
      "    \"pending_state\": \"None_\",\n",
      "    \"reservation_id\": \"19b05b40-4fab-479e-b342-c561c8b3ac2f\",\n",
      "    \"reservation_state\": \"Unknown\",\n",
      "    \"slice_id\": \"4a15718b-19e9-4eb1-af19-ac302d9e5189\"\n",
      "}, {\n",
      "    \"graph_node_id\": \"27d08c1f-e3c4-46ea-86c4-0496f35daeb5\",\n",
      "    \"lease_end\": \"2021-08-06 21:09:26\",\n",
      "    \"pending_state\": \"None_\",\n",
      "    \"reservation_id\": \"c68e700d-44e8-4258-9103-0b9de95362b3\",\n",
      "    \"reservation_state\": \"Unknown\",\n",
      "    \"slice_id\": \"4a15718b-19e9-4eb1-af19-ac302d9e5189\"\n",
      "}, {\n",
      "    \"graph_node_id\": \"07010b79-88b9-4988-bd89-5d7d23bcb5f7\",\n",
      "    \"lease_end\": \"2021-08-06 21:09:26\",\n",
      "    \"pending_state\": \"None_\",\n",
      "    \"reservation_id\": \"022df589-ee49-48ae-99ee-f2283c10aae7\",\n",
      "    \"reservation_state\": \"Unknown\",\n",
      "    \"slice_id\": \"4a15718b-19e9-4eb1-af19-ac302d9e5189\"\n",
      "}]\n"
     ]
    }
   ],
   "source": [
    "x = ExperimentTopology()\n",
    "\n",
    "# Add node\n",
    "node1 = x.add_node(name='node1', site='LBNL')\n",
    "\n",
    "# Set capacities\n",
    "cap = Capacities()\n",
    "cap.set_fields(core=2, ram=6, disk=10)\n",
    "\n",
    "# Set Properties\n",
    "node1.set_properties(capacities=cap, image_type='qcow2', image_ref='default_centos_8')\n",
    "\n",
    "# Add PCI devices\n",
    "node1.add_component(ctype=ComponentType.NVME, model='P4510', name='c1')\n",
    "\n",
    "# Add node\n",
    "node2 = x.add_node(name='node2', site='LBNL')\n",
    "\n",
    "# Set properties\n",
    "node2.set_properties(capacities=cap, image_type='qcow2', image_ref='default_centos_8')\n",
    "\n",
    "# Shared Cards\n",
    "node1.add_component(model_type=ComponentModelType.SharedNIC_ConnectX_6, name='node1-nic1')\n",
    "node2.add_component(model_type=ComponentModelType.SharedNIC_ConnectX_6, name='node2-nic1')\n",
    "\n",
    "# L2Bridge Service\n",
    "x.add_network_service(name='bridge1', nstype=ServiceType.L2Bridge, interfaces=x.interface_list)\n",
    "\n",
    "# Generate Slice Graph\n",
    "slice_graph = x.serialize()\n",
    "\n",
    "ssh_key = None\n",
    "with open (\"/home/fabric/.ssh/id_rsa.pub\", \"r\") as myfile:\n",
    "    ssh_key=myfile.read()\n",
    "    ssh_key=ssh_key.strip()\n",
    "\n",
    "# Request slice from Orchestrator\n",
    "status, reservations = slice_manager.create(slice_name='Slice-l2bridge-sriov', slice_graph=slice_graph, ssh_key=ssh_key)\n",
    "\n",
    "print(\"Response Status {}\".format(status))\n",
    "if status == Status.OK:\n",
    "    print(\"Reservations created {}\".format(reservations))\n",
    "else:\n",
    "    print(f\"Failure: {reservations}\")"
   ]
  },
  {
   "cell_type": "code",
   "execution_count": null,
   "id": "2480a93a-eee4-4b75-acf7-a25b99cca7e8",
   "metadata": {},
   "outputs": [],
   "source": []
  }
 ],
 "metadata": {
  "kernelspec": {
   "display_name": "Python 3",
   "language": "python",
   "name": "python3"
  },
  "language_info": {
   "codemirror_mode": {
    "name": "ipython",
    "version": 3
   },
   "file_extension": ".py",
   "mimetype": "text/x-python",
   "name": "python",
   "nbconvert_exporter": "python",
   "pygments_lexer": "ipython3",
   "version": "3.9.2"
  }
 },
 "nbformat": 4,
 "nbformat_minor": 5
}
