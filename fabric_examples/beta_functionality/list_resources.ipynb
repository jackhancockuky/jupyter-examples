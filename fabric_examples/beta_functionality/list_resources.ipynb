{
 "cells": [
  {
   "cell_type": "markdown",
   "metadata": {},
   "source": [
    "## This notebook shows how to use Orchestrator APIs for user experiments"
   ]
  },
  {
   "cell_type": "code",
   "execution_count": null,
   "metadata": {},
   "outputs": [],
   "source": [
    "import os, traceback\n",
    "from fabrictestbed.slice_manager import SliceManager, Status, SliceState\n",
    "import json"
   ]
  },
  {
   "cell_type": "code",
   "execution_count": null,
   "metadata": {},
   "outputs": [],
   "source": [
    "fabric_rc_location=os.environ['HOME']+\"/work/fabric_config/fabric_rc\"\n",
    "if os.path.exists(fabric_rc_location):\n",
    "    with open(fabric_rc_location, 'r') as f:\n",
    "        for line in f:\n",
    "            if line.startswith('export'):\n",
    "                os.environ[line.split('=')[0].split('export')[1].strip()] = line.split('=')[1].strip()"
   ]
  },
  {
   "cell_type": "code",
   "execution_count": null,
   "metadata": {},
   "outputs": [],
   "source": [
    "ssh_key_file_priv=os.environ[\"FABRIC_SLICE_PRIVATE_KEY_FILE\"]\n",
    "ssh_key_file_pub=os.environ[\"FABRIC_SLICE_PUBLIC_KEY_FILE\"]\n",
    "\n",
    "ssh_key_pub = None\n",
    "with open (ssh_key_file_pub, \"r\") as myfile:\n",
    "    ssh_key_pub=myfile.read()\n",
    "    ssh_key_pub=ssh_key_pub.strip()"
   ]
  },
  {
   "cell_type": "code",
   "execution_count": null,
   "metadata": {},
   "outputs": [],
   "source": [
    "print(os.environ[\"FABRIC_PROJECT_ID\"])"
   ]
  },
  {
   "cell_type": "markdown",
   "metadata": {},
   "source": [
    "## Create Slice Manager Object\n",
    "Users can request tokens with different Project and Scopes by altering `project_name` and `scope` parameters in the refresh call below."
   ]
  },
  {
   "cell_type": "code",
   "execution_count": null,
   "metadata": {},
   "outputs": [],
   "source": [
    "slice_manager = SliceManager()"
   ]
  },
  {
   "cell_type": "markdown",
   "metadata": {},
   "source": [
    "### Orchestrator API example to query for available resources\n",
    "\n",
    "Force orchestrator to get list of available resources afresh from the broker by passing `force_refresh=True`. Otherwise, cached model is returned."
   ]
  },
  {
   "cell_type": "code",
   "execution_count": null,
   "metadata": {},
   "outputs": [],
   "source": [
    "status, advertised_topology = slice_manager.resources(force_refresh=True)\n",
    "\n",
    "print(f\"Status: {status}\")\n",
    "if status == Status.OK:\n",
    "    print(f\"Toplogy: {advertised_topology}\")\n",
    "else:\n",
    "    print(f\"Error: {advertised_topology}\")"
   ]
  },
  {
   "cell_type": "code",
   "execution_count": null,
   "metadata": {},
   "outputs": [],
   "source": [
    "status, advertised_topology = slice_manager.resources(force_refresh=True, level=2)\n",
    "\n",
    "print(f\"Status: {status}\")\n",
    "if status == Status.OK:\n",
    "    print(f\"Toplogy: {advertised_topology}\")\n",
    "else:\n",
    "    print(f\"Error: {advertised_topology}\")"
   ]
  },
  {
   "cell_type": "code",
   "execution_count": null,
   "metadata": {},
   "outputs": [],
   "source": [
    "for s in advertised_topology.sites.values():\n",
    "    print(f\"{s.name} [Site]\")\n",
    "    print(f\"     Maitenance State: {s.maintenance_info}\")\n",
    "    if s.capacities is None:\n",
    "        continue\n",
    "    print(f\"     cpu: {s.capacities.cpu}/{s.capacity_allocations.cpu if s.capacity_allocations is not None else 0}, \"\n",
    "              f\"core: {s.capacities.core}/{s.capacity_allocations.core if s.capacity_allocations is not None else 0}, \"\n",
    "              f\"ram: {s.capacities.ram}/{s.capacity_allocations.ram if s.capacity_allocations is not None else 0}, \"\n",
    "              f\"disk: {s.capacities.disk}/{s.capacity_allocations.disk if s.capacity_allocations is not None else 0}\",\n",
    "              f\"unit: {s.capacities.unit}/{s.capacity_allocations.unit if s.capacity_allocations is not None else 0}\")\n",
    "    \n",
    "    ##### Get Nodes from Site ##### Hack until FIM fix available\n",
    "    from fim.graph.abc_property_graph import ABCPropertyGraph\n",
    "    from fim.view_only_dict import ViewOnlyDict\n",
    "    from fim.user import Node\n",
    "    node_id_list = s.topo.graph_model.get_first_neighbor(node_id=s.node_id, rel=ABCPropertyGraph.REL_HAS,\n",
    "                                                         node_label=ABCPropertyGraph.CLASS_NetworkNode)\n",
    "    ret = dict()\n",
    "    for nid in node_id_list:\n",
    "        _, node_props = s.topo.graph_model.get_node_properties(node_id=nid)\n",
    "        n = Node(name=node_props[ABCPropertyGraph.PROP_NAME], node_id=nid, topo=s.topo)\n",
    "        # exclude Facility nodes\n",
    "        from fim.user import NodeType\n",
    "        if n.type != NodeType.Facility:\n",
    "            ret[n.name] = n\n",
    "    nodes = ViewOnlyDict(ret)\n",
    "    ##### Get Nodes from Site ##### Hack until FIM fix available\n",
    "    \n",
    "    \n",
    "    print(f\"     Workers:\")    \n",
    "    for w in nodes.values():\n",
    "        print(f\"          {w.name}\")\n",
    "        print(f\"               cpu: {w.capacities.cpu}/{w.capacity_allocations.cpu if w.capacity_allocations is not None else 0}, \"\n",
    "              f\"core: {w.capacities.core}/{w.capacity_allocations.core if w.capacity_allocations is not None else 0}, \"\n",
    "              f\"ram: {w.capacities.ram}/{w.capacity_allocations.ram if w.capacity_allocations is not None else 0}, \"\n",
    "              f\"disk: {w.capacities.disk}/{w.capacity_allocations.disk if w.capacity_allocations is not None else 0}\")\n",
    "        print(f\"               Components:\")\n",
    "        for c in w.components.values():\n",
    "            print(f\"                    {c.name}\"\n",
    "                  f\" unit: {c.capacities.unit}/{c.capacity_allocations.unit if c.capacity_allocations is not None else 0}\")\n",
    "            if str(c.type) == 'NVME':\n",
    "                  print(f\"                               disk: {c.capacities.disk}/{c.capacity_allocations.disk if c.capacity_allocations is not None else 0}\")"
   ]
  },
  {
   "cell_type": "code",
   "execution_count": null,
   "metadata": {},
   "outputs": [],
   "source": [
    "if status == Status.OK:\n",
    "    advertised_topology.draw()"
   ]
  },
  {
   "cell_type": "code",
   "execution_count": null,
   "metadata": {},
   "outputs": [],
   "source": []
  }
 ],
 "metadata": {
  "kernelspec": {
   "display_name": "Python 3 (ipykernel)",
   "language": "python",
   "name": "python3"
  },
  "language_info": {
   "codemirror_mode": {
    "name": "ipython",
    "version": 3
   },
   "file_extension": ".py",
   "mimetype": "text/x-python",
   "name": "python",
   "nbconvert_exporter": "python",
   "pygments_lexer": "ipython3",
   "version": "3.9.7"
  }
 },
 "nbformat": 4,
 "nbformat_minor": 4
}
