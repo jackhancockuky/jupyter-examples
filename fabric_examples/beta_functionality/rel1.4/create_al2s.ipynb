{
 "cells": [
  {
   "cell_type": "markdown",
   "metadata": {},
   "source": [
    "# Creating L3 VPN Network connecting FABRIC with Cloud"
   ]
  },
  {
   "cell_type": "markdown",
   "metadata": {},
   "source": [
    "## Import the FABlib Library\n"
   ]
  },
  {
   "cell_type": "code",
   "execution_count": null,
   "metadata": {},
   "outputs": [],
   "source": [
    "from fabrictestbed_extensions.fablib.fablib import FablibManager as fablib_manager\n",
    "import json\n",
    "\n",
    "try:\n",
    "    fablib = fablib_manager()\n",
    "                     \n",
    "    fablib.show_config();\n",
    "except Exception as e:\n",
    "    print(f\"Exception: {e}\")"
   ]
  },
  {
   "cell_type": "code",
   "execution_count": null,
   "metadata": {},
   "outputs": [],
   "source": [
    "from plugins import Plugins\n",
    "import traceback\n",
    "try:\n",
    "    Plugins.load()\n",
    "except Exception as e:\n",
    "    traceback.print_exc()"
   ]
  },
  {
   "cell_type": "markdown",
   "metadata": {
    "tags": []
   },
   "source": [
    "## Create the Experiment Slice\n",
    "\n",
    "The following creates \n",
    "- A node on a site with Basic NIC and connects it to a FABRIC L3VPN Service\n",
    "- Cloud Facility port and connects it to a Cloud L3VPN Service\n",
    "- Peers Cloud and FABRIC L3VPN Services\n",
    "\n",
    "NIC component models options:\n",
    "- NIC_Basic: 100 Gbps Mellanox ConnectX-6 SR-IOV VF (1 Port)\n",
    "- NIC_ConnectX_5: 25 Gbps Dedicated Mellanox ConnectX-5 PCI Device (2 Ports) \n",
    "- NIC_ConnectX_6: 100 Gbps Dedicated Mellanox ConnectX-6 PCI Device (2 Ports) "
   ]
  },
  {
   "cell_type": "code",
   "execution_count": null,
   "metadata": {},
   "outputs": [],
   "source": [
    "from ipaddress import ip_address, IPv4Address, IPv6Address, IPv4Network, IPv6Network\n",
    "\n",
    "slice_name = 'MySlice-al2s-3'\n",
    "site1='CERN'\n",
    "\n",
    "node1_name = 'Node1'\n",
    "\n",
    "network1_name='net1'\n",
    "\n",
    "node1_nic_name = 'nic1'\n",
    "\n",
    "al2s_network_name = 'al2s'\n",
    "\n",
    "model = 'NIC_Basic'\n",
    "#model = 'NIC_ConnectX_5'\n"
   ]
  },
  {
   "cell_type": "code",
   "execution_count": null,
   "metadata": {
    "tags": []
   },
   "outputs": [],
   "source": [
    "from fim.slivers.capacities_labels import Labels, Capacities\n",
    "try:\n",
    "    #Create Slice\n",
    "    slice = fablib.new_slice(name=slice_name)\n",
    "    \n",
    "    # Create a VM on a site\n",
    "    node1 = slice.add_node(name=node1_name, site=site1)\n",
    "    iface1 = node1.add_component(model=model, name=node1_nic_name).get_interfaces()[0]\n",
    "    fim_iface1 = iface1.get_fim_interface()\n",
    "    fim_iface1.labels = Labels.update(fim_iface1.labels, ipv4_subnet=f'192.168.10.1/24')\n",
    "    \n",
    "    # Create FABRIC L3VPN and connect to the VM\n",
    "    net1 = slice.add_l3network(name=network1_name, interfaces=[iface1], type='L3VPN')\n",
    "\n",
    "    # Create a Cloud Facility Port\n",
    "    fabric_facility_port = slice.add_facility_port(name='Cloud-Facility-AWS', site='AWS',\n",
    "                                                   # Facility Port can be chosen either by passing region, local_name or device_name, if neither is passed a random Port is returned\n",
    "                                                   # VLAN can be user specified or can be assigned by ControlFramework if not specified\n",
    "                                                   \n",
    "                                                   # Only Specify Port Name\n",
    "                                                   #labels=Labels(vlan='2', ipv4_subnet='192.168.30.1/24', local_name='HundredGigE0/0/0/7'),\n",
    "                                                   \n",
    "                                                   # Only specify region\n",
    "                                                   #labels=Labels(ipv4_subnet='192.168.30.1/24', region='us-east-1'),\n",
    "                                                   \n",
    "                                                   # Only specify device name\n",
    "                                                   labels=Labels(ipv4_subnet='192.168.30.1/24', device_name='agg3.dall3.net.internet2.edu'),\n",
    "                                                   \n",
    "                                                   # Device and Region Name\n",
    "                                                   # labels=Labels(ipv4_subnet='192.168.30.1/24', region='us-east-1', device_name='agg4.ashb.net.internet2.edu'),\n",
    "                                                   \n",
    "                                                   # Device and Port Name\n",
    "                                                   # labels=Labels(ipv4_subnet='192.168.30.1/24', device_name='agg4.ashb.net.internet2.edu', local_name='HundredGigE0/0/0/7'),\n",
    "                                                   \n",
    "                                                   # Region, Device and Port Name\n",
    "                                                   #labels=Labels(ipv4_subnet='192.168.30.1/24', region='us-east-1', device_name='agg4.ashb.net.internet2.edu', local_name='HundredGigE0/0/0/7'),\n",
    "                                                   \n",
    "                                                   # Peer Labels\n",
    "                                                   peer_labels=Labels(ipv4_subnet='192.168.30.2/24',asn='64512', \n",
    "                                                                      bgp_key='0xzsEwC7xk6c1fK_h.xHyAdx', \n",
    "                                                                      account_id='296256999979'),\n",
    "                                                   # MTU must be set to 9001 for Cloud Facility Ports\n",
    "                                                   capacities=Capacities(bw=1, mtu=9001))\n",
    "    \n",
    "    fabric_facility_port_iface = fabric_facility_port.get_interfaces()[0]\n",
    "    \n",
    "    # Create Cloud L3VPN and connect to Cloud Facility Port\n",
    "    al2s = slice.add_l3network(name=al2s_network_name, interfaces=[fabric_facility_port_iface], type='L3VPN', technology='AL2S')\n",
    "\n",
    "    # Peer Cloud L3VPN with FABRIC L3VPN\n",
    "    al2s.fim_network_service.peer(net1.fim_network_service, \n",
    "                                  labels=Labels(bgp_key='secret', ipv4_subnet='192.168.50.1/24'),\n",
    "                                  # bw must be set to 0 and mtu 9001 for Peered Interfaces\n",
    "                                  capacities=Capacities(mtu=9001))\n",
    "    \n",
    "    \n",
    "    #Submit Slice Request\n",
    "    slice.submit()\n",
    "except Exception as e:\n",
    "    print(f\"Exception: {e}\")\n",
    "    import traceback\n",
    "    traceback.print_exc()"
   ]
  },
  {
   "cell_type": "markdown",
   "metadata": {
    "tags": []
   },
   "source": [
    "## Observe the Slice's Attributes"
   ]
  },
  {
   "cell_type": "code",
   "execution_count": null,
   "metadata": {
    "tags": []
   },
   "outputs": [],
   "source": [
    "try:\n",
    "    slice = fablib.get_slice(name=slice_name)\n",
    "    slice.show()\n",
    "    slice.list_nodes()\n",
    "    slice.list_networks()\n",
    "    slice.list_interfaces()\n",
    "except Exception as e:\n",
    "    print(f\"Exception: {e}\")"
   ]
  },
  {
   "cell_type": "markdown",
   "metadata": {},
   "source": [
    "## Interfaces for FABRIC L3VPN"
   ]
  },
  {
   "cell_type": "code",
   "execution_count": null,
   "metadata": {},
   "outputs": [],
   "source": [
    "fabric_l3_vpn = slice.get_network(name=network1_name)\n",
    "\n",
    "for x in fabric_l3_vpn.get_fim_network_service().interface_list:\n",
    "    print(\"-----------------------\")\n",
    "    print(f\"Interface Name: {x.name}\")\n",
    "    print(f\"Capacities: {x.capacities}\")\n",
    "    print(f\"Labels: {x.labels}\")\n",
    "    print(f\"LabelAllocations: {x.get_property(pname='label_allocations')}\")\n",
    "    print(f\"PeerLabels: {x.peer_labels}\")\n",
    "    print(\"-----------------------\")"
   ]
  },
  {
   "cell_type": "markdown",
   "metadata": {},
   "source": [
    "## Interfaces for AL2S L3VPN"
   ]
  },
  {
   "cell_type": "code",
   "execution_count": null,
   "metadata": {},
   "outputs": [],
   "source": [
    "al2s_l3_vpn = slice.get_network(name=al2s_network_name)\n",
    "\n",
    "for x in al2s_l3_vpn.get_fim_network_service().interface_list:\n",
    "    print(\"-----------------------\")\n",
    "    print(f\"Interface Name: {x.name}\")\n",
    "    print(f\"Capacities: {x.capacities}\")\n",
    "    print(f\"Labels: {x.labels}\")\n",
    "    print(f\"LabelAllocations: {x.get_property(pname='label_allocations')}\")\n",
    "    print(f\"PeerLabels: {x.peer_labels}\")\n",
    "    print(\"-----------------------\")"
   ]
  },
  {
   "cell_type": "markdown",
   "metadata": {},
   "source": [
    "## Delete the Slice\n",
    "\n",
    "Please delete your slice when you are done with your experiment."
   ]
  },
  {
   "cell_type": "code",
   "execution_count": null,
   "metadata": {},
   "outputs": [],
   "source": [
    "try:\n",
    "    slice = fablib.get_slice(name=slice_name)\n",
    "    slice.delete()\n",
    "except Exception as e:\n",
    "    print(f\"Exception: {e}\")"
   ]
  },
  {
   "cell_type": "code",
   "execution_count": null,
   "metadata": {},
   "outputs": [],
   "source": []
  }
 ],
 "metadata": {
  "kernelspec": {
   "display_name": "Python 3 (ipykernel)",
   "language": "python",
   "name": "python3"
  },
  "language_info": {
   "codemirror_mode": {
    "name": "ipython",
    "version": 3
   },
   "file_extension": ".py",
   "mimetype": "text/x-python",
   "name": "python",
   "nbconvert_exporter": "python",
   "pygments_lexer": "ipython3",
   "version": "3.9.7"
  }
 },
 "nbformat": 4,
 "nbformat_minor": 4
}
