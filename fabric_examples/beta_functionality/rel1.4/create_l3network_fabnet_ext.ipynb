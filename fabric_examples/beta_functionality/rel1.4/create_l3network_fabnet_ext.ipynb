{
 "cells": [
  {
   "cell_type": "markdown",
   "metadata": {},
   "source": [
    "# Creating FABnet IPv*Ext Network\n",
    "\n",
    "FABRIC provides a pair of layer 3 IP networking services across every FABRIC site (FABnetv4 and FABnetv6). This notebook describes how to enable external connectivity on FabNet services."
   ]
  },
  {
   "cell_type": "markdown",
   "metadata": {},
   "source": [
    "## Import the FABlib Library\n"
   ]
  },
  {
   "cell_type": "code",
   "execution_count": null,
   "metadata": {},
   "outputs": [],
   "source": [
    "from fabrictestbed_extensions.fablib.fablib import FablibManager as fablib_manager\n",
    "\n",
    "try:\n",
    "    fablib = fablib_manager()\n",
    "                     \n",
    "    fablib.show_config();\n",
    "except Exception as e:\n",
    "    print(f\"Exception: {e}\")"
   ]
  },
  {
   "cell_type": "markdown",
   "metadata": {},
   "source": [
    "# Load the Plugins"
   ]
  },
  {
   "cell_type": "code",
   "execution_count": null,
   "metadata": {},
   "outputs": [],
   "source": [
    "from plugins import Plugins\n",
    "import traceback\n",
    "try:\n",
    "    Plugins.load()\n",
    "except Exception as e:\n",
    "    traceback.print_exc()"
   ]
  },
  {
   "cell_type": "markdown",
   "metadata": {
    "tags": []
   },
   "source": [
    "## Create the Experiment Slice\n",
    "\n",
    "The following creates two nodes, on different sites, with basic NICs one connected to FabNetV4Ext and other connected to FabNetV6Ext.\n",
    "It then enables/disables external connectivity on FabNetV*Ext. \n",
    "\n",
    "NIC component models options:\n",
    "- NIC_Basic: 100 Gbps Mellanox ConnectX-6 SR-IOV VF (1 Port)\n",
    "- NIC_ConnectX_5: 25 Gbps Dedicated Mellanox ConnectX-5 PCI Device (2 Ports) \n",
    "- NIC_ConnectX_6: 100 Gbps Dedicated Mellanox ConnectX-6 PCI Device (2 Ports) "
   ]
  },
  {
   "cell_type": "code",
   "execution_count": null,
   "metadata": {},
   "outputs": [],
   "source": [
    "slice_name = 'MySlice2-ext-2'\n",
    "[site1,site2] = fablib.get_random_sites(count=2)\n",
    "site1=site2='UKY'\n",
    "print(f\"Sites: {site1}, {site2}\")\n",
    "\n",
    "node1_name = 'Node1'\n",
    "node2_name = 'Node2'\n",
    "\n",
    "network1_name='net1'\n",
    "network2_name='net2'\n",
    "\n",
    "node1_nic_name = 'nic1'\n",
    "node2_nic_name = 'nic2'"
   ]
  },
  {
   "cell_type": "code",
   "execution_count": null,
   "metadata": {
    "tags": []
   },
   "outputs": [],
   "source": [
    "try:\n",
    "    #Create Slice\n",
    "    slice = fablib.new_slice(name=slice_name)\n",
    "    \n",
    "    # Node1\n",
    "    node1 = slice.add_node(name=node1_name, site=site1)\n",
    "    iface1 = node1.add_component(model='NIC_Basic', name=node1_nic_name).get_interfaces()[0]\n",
    "    \n",
    "    # Node2\n",
    "    node2 = slice.add_node(name=node2_name, site=site2)\n",
    "    iface2  = node2.add_component(model='NIC_Basic', name=node2_nic_name).get_interfaces()[0]\n",
    "    \n",
    "    # NetworkS\n",
    "    net1 = slice.add_l3network(name=network1_name, interfaces=[iface1], type='IPv6Ext')\n",
    "    net2 = slice.add_l3network(name=network2_name, interfaces=[iface2], type='IPv4Ext')\n",
    "    \n",
    "    #Submit Slice Request\n",
    "    slice.submit()\n",
    "except Exception as e:\n",
    "    print(f\"Exception: {e}\")"
   ]
  },
  {
   "cell_type": "markdown",
   "metadata": {
    "tags": []
   },
   "source": [
    "## Observe the Slice's Attributes"
   ]
  },
  {
   "cell_type": "code",
   "execution_count": null,
   "metadata": {
    "tags": []
   },
   "outputs": [],
   "source": [
    "try:\n",
    "    slice = fablib.get_slice(name=slice_name)\n",
    "    slice.show()\n",
    "    slice.list_nodes()\n",
    "    slice.list_networks()\n",
    "    slice.list_interfaces()\n",
    "except Exception as e:\n",
    "    print(f\"Exception: {e}\")"
   ]
  },
  {
   "cell_type": "markdown",
   "metadata": {},
   "source": [
    "# Update Network Service - Enable/Disable Public IP Addresses"
   ]
  },
  {
   "cell_type": "code",
   "execution_count": null,
   "metadata": {},
   "outputs": [],
   "source": [
    "try:\n",
    "    network1 = slice.get_network(name=network1_name)\n",
    "    network1_available_ips = network1.get_available_ips()\n",
    "    \n",
    "    # Enable Public IPv6 make_ip_publicly_routable\n",
    "    network1.change_public_ip(ipv6=[str(network1_available_ips[0])])\n",
    "    \n",
    "    # Uncomment to Disable Public IPv6\n",
    "    #network1.update_labels(ipv6_subnet=[])\n",
    "    \n",
    "    network2 = slice.get_network(name=network2_name)\n",
    "    network2_available_ips = network2.get_available_ips()\n",
    "    \n",
    "    # Enable Public IPv4\n",
    "    # Due to limited IPv4 address space, we use a single subnet for all the slices for a specific site\n",
    "    # Please note the first IP on the subnet is requested to be made public. If the IP is already in use, ControlFramework assigns an available IP \n",
    "    # and saves in the Labels. If no available IP is found, an error is returned.\n",
    "    network2.change_public_ip(ipv4=[str(network2_available_ips[0])])\n",
    "    \n",
    "    # Uncomment to Disable Public IPv4\n",
    "    #network2.update_labels(ipv4_subnet=[])\n",
    "    slice.submit()\n",
    "    \n",
    "except Exception as e:\n",
    "    print(f\"Exception: {e}\")\n",
    "    import traceback\n",
    "    traceback.print_exc()"
   ]
  },
  {
   "cell_type": "markdown",
   "metadata": {
    "tags": []
   },
   "source": [
    "##  Configure IP Addresses"
   ]
  },
  {
   "cell_type": "markdown",
   "metadata": {},
   "source": [
    "### Configure Node1 - FABnetv6\n",
    "\n",
    "Configure the interface on node1."
   ]
  },
  {
   "cell_type": "code",
   "execution_count": null,
   "metadata": {},
   "outputs": [],
   "source": [
    "try:\n",
    "    # Get Node\n",
    "    node1 = slice.get_node(name=node1_name)        \n",
    "    # Get Network\n",
    "    node1_network = slice.get_network(name=network1_name) \n",
    "    # Get Interface\n",
    "    node1_iface = node1.get_interface(network_name=network1_name)  \n",
    "    \n",
    "    # Configure first IP from the subnet\n",
    "    node1_addr = network1_available_ips.pop(0)\n",
    "    node1_iface.ip_addr_add(addr=node1_addr, subnet=network1.get_subnet())\n",
    "        \n",
    "    stdout, stderr = node1.execute(f'ip addr show {node1_iface.get_os_interface()}')\n",
    "    stdout, stderr = node1.execute(f'ip route list')\n",
    "except Exception as e:\n",
    "    print(f\"Exception: {e}\")"
   ]
  },
  {
   "cell_type": "markdown",
   "metadata": {},
   "source": [
    "### Configure Node2 - FABnetv4\n",
    "\n",
    "Always use the assigned IP from the Network.Labels as user requested IP might have been updated by ControlFramework. \n",
    "\n",
    "NOTE: User is responsible to add the route rules controlling which external networks are allowed to access. This route should not be made default route ensuring the management traffic is not disrupted or misdirected.\n",
    "\n"
   ]
  },
  {
   "cell_type": "code",
   "execution_count": null,
   "metadata": {},
   "outputs": [],
   "source": [
    "try:\n",
    "    # Get Node\n",
    "    node2 = slice.get_node(name=node2_name)      \n",
    "    # Get Network\n",
    "    node2_network = slice.get_network(name=network2_name) \n",
    "    # Get Interface\n",
    "    node2_iface = node2.get_interface(network_name=network2_name) \n",
    "    \n",
    "    # Get Assigned Public IP returned by Control Framework\n",
    "    node2_addr = node2_network.get_fim_network_service().labels.ipv4[0]\n",
    "    \n",
    "    # Configure the assigned public IP\n",
    "    node2_iface.ip_addr_add(addr=node2_addr, subnet=network2.get_subnet())\n",
    "        \n",
    "    stdout, stderr = node2.execute(f'ip addr show {node2_iface.get_os_interface()}')\n",
    "    stdout, stderr = node2.execute(f'ip route list')\n",
    "except Exception as e:\n",
    "    print(f\"Exception: {e}\")"
   ]
  },
  {
   "cell_type": "markdown",
   "metadata": {},
   "source": [
    "## Delete the Slice\n",
    "\n",
    "Please delete your slice when you are done with your experiment."
   ]
  },
  {
   "cell_type": "code",
   "execution_count": null,
   "metadata": {},
   "outputs": [],
   "source": [
    "try:\n",
    "    slice = fablib.get_slice(name=slice_name)\n",
    "    slice.delete()\n",
    "except Exception as e:\n",
    "    print(f\"Exception: {e}\")"
   ]
  },
  {
   "cell_type": "code",
   "execution_count": null,
   "metadata": {},
   "outputs": [],
   "source": []
  }
 ],
 "metadata": {
  "kernelspec": {
   "display_name": "Python 3 (ipykernel)",
   "language": "python",
   "name": "python3"
  },
  "language_info": {
   "codemirror_mode": {
    "name": "ipython",
    "version": 3
   },
   "file_extension": ".py",
   "mimetype": "text/x-python",
   "name": "python",
   "nbconvert_exporter": "python",
   "pygments_lexer": "ipython3",
   "version": "3.9.7"
  }
 },
 "nbformat": 4,
 "nbformat_minor": 4
}
