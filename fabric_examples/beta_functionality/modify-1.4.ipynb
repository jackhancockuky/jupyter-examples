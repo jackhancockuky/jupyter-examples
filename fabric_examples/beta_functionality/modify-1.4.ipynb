{
 "cells": [
  {
   "cell_type": "markdown",
   "metadata": {},
   "source": [
    "## This notebook shows how to use Orchestrator APIs for user experiments"
   ]
  },
  {
   "cell_type": "code",
   "execution_count": null,
   "metadata": {},
   "outputs": [],
   "source": [
    "import os\n",
    "from fabrictestbed.slice_manager import SliceManager, Status, SliceState\n",
    "import json"
   ]
  },
  {
   "cell_type": "code",
   "execution_count": null,
   "metadata": {},
   "outputs": [],
   "source": [
    "fabric_rc_location=os.environ['HOME']+\"/work/fabric_config/fabric_rc\"\n",
    "if os.path.exists(fabric_rc_location):\n",
    "    with open(fabric_rc_location, 'r') as f:\n",
    "        for line in f:\n",
    "            if line.startswith('export'):\n",
    "                os.environ[line.split('=')[0].split('export')[1].strip()] = line.split('=')[1].strip()"
   ]
  },
  {
   "cell_type": "code",
   "execution_count": null,
   "metadata": {},
   "outputs": [],
   "source": [
    "ssh_key_file_priv=os.environ[\"FABRIC_SLICE_PRIVATE_KEY_FILE\"]\n",
    "ssh_key_file_pub=os.environ[\"FABRIC_SLICE_PUBLIC_KEY_FILE\"]\n",
    "\n",
    "ssh_key_pub = None\n",
    "with open (ssh_key_file_pub, \"r\") as myfile:\n",
    "    ssh_key_pub=myfile.read()\n",
    "    ssh_key_pub=ssh_key_pub.strip()"
   ]
  },
  {
   "cell_type": "code",
   "execution_count": null,
   "metadata": {},
   "outputs": [],
   "source": [
    "slice_name=\"fabnet\""
   ]
  },
  {
   "cell_type": "markdown",
   "metadata": {},
   "source": [
    "## Create Slice Manager Object\n",
    "Users can request tokens with different Project and Scopes by altering `project_name` and `scope` parameters in the refresh call below."
   ]
  },
  {
   "cell_type": "code",
   "execution_count": null,
   "metadata": {},
   "outputs": [],
   "source": [
    "slice_manager = SliceManager()"
   ]
  },
  {
   "cell_type": "markdown",
   "metadata": {},
   "source": [
    "### Orchestrator API example to query for available resources"
   ]
  },
  {
   "cell_type": "code",
   "execution_count": null,
   "metadata": {},
   "outputs": [],
   "source": [
    "status, advertised_topology = slice_manager.resources()\n",
    "\n",
    "print(f\"Status: {status}\")\n",
    "if status == Status.OK:\n",
    "    print(f\"Toplogy: {advertised_topology}\")\n",
    "else:\n",
    "    print(f\"Error: {advertised_topology}\")"
   ]
  },
  {
   "cell_type": "code",
   "execution_count": null,
   "metadata": {},
   "outputs": [],
   "source": [
    "if status == Status.OK:\n",
    "    advertised_topology.draw()"
   ]
  },
  {
   "cell_type": "markdown",
   "metadata": {},
   "source": [
    "## Create Slice"
   ]
  },
  {
   "cell_type": "code",
   "execution_count": null,
   "metadata": {},
   "outputs": [],
   "source": [
    "from fabrictestbed.slice_editor import ExperimentTopology, Capacities, ComponentType, ComponentModelType, ServiceType\n",
    "from fim.slivers.capacities_labels import Flags, Labels\n",
    "from ipaddress import IPv4Network\n",
    "\n",
    "# Create topology\n",
    "t = ExperimentTopology()\n",
    "\n",
    "# Set capacities\n",
    "cap = Capacities(core=1, ram=4, disk=10)\n",
    "\n",
    "site1 = \"UKY2\"\n",
    "num_nodes = 2\n",
    "name=\"node\"\n",
    "i=0\n",
    "ifcs = []\n",
    "# Auto Configure: Setup IP Addresses\n",
    "network = IPv4Network(\"192.168.10.0/26\")\n",
    "ips = list(network.hosts())\n",
    "\n",
    "for x in range(num_nodes):\n",
    "    # Add node\n",
    "    nm = f\"{name}-{i}\"\n",
    "    \n",
    "    n = t.add_node(name=f\"{name}-{i}\", site=site1)\n",
    "\n",
    "    # Set properties\n",
    "    n.set_properties(capacities=cap, image_type='qcow2', image_ref='default_rocky_8')\n",
    "    #n.add_component(model_type=ComponentModelType.SharedNIC_ConnectX_6, name=f\"{name}-{i}-nic1\")\n",
    "    n.add_component(model_type=ComponentModelType.SharedNIC_OpenStack_vNIC, name=f\"{name}-{i}-nic1\")\n",
    "    \n",
    "    # Auto Configure: Setup IP Addresses\n",
    "    n.interface_list[0].flags = Flags(auto_config=True)\n",
    "    n.interface_list[0].labels = Labels.update(n.interface_list[0].labels, ipv4=str(ips[i+1]))\n",
    "    n.interface_list[0].labels = Labels.update(n.interface_list[0].labels, ipv4_subnet=str(network))\n",
    "    print(n.interface_list[0].labels)\n",
    "    ifcs.append(n.interface_list[0])\n",
    "        \n",
    "    i += 1\n",
    "\n",
    "#t.add_network_service(name=f\"fabnet-{site1}\", nstype=ServiceType.FABNetv4, interfaces=ifcs)\n",
    "ns = t.add_network_service(name='bridge1', nstype=ServiceType.L2Bridge, interfaces=ifcs)\n",
    "\n",
    "# Generate Slice Graph\n",
    "slice_graph = t.serialize()\n",
    "\n",
    "# Request slice from Orchestrator\n",
    "status, reservations = slice_manager.create(slice_name=slice_name, slice_graph=slice_graph, ssh_key=ssh_key_pub)\n",
    "\n",
    "\n",
    "print(\"Response Status {}\".format(status))\n",
    "if status == Status.OK:\n",
    "    print(\"Reservations created {}\".format(reservations))\n",
    "else:\n",
    "    print(f\"Failure: {reservations}\")"
   ]
  },
  {
   "cell_type": "markdown",
   "metadata": {},
   "source": [
    "## Query Slices"
   ]
  },
  {
   "cell_type": "code",
   "execution_count": null,
   "metadata": {},
   "outputs": [],
   "source": [
    "slice_id = reservations[0].slice_id\n",
    "status, slices = slice_manager.slices(slice_id=slice_id)\n",
    "\n",
    "\n",
    "print(\"Response Status {}\".format(status))\n",
    "if status == Status.OK:\n",
    "    slice_object = slices[0]\n",
    "    print(\"Slice Name {}\".format(slice_object.name))\n",
    "    print(\"Slice State {}\".format(slice_object.state))\n",
    "    print(\"Slice End {}\".format(slice_object.lease_end_time))\n",
    "else:\n",
    "    print(f\"Failure: {slices}\")"
   ]
  },
  {
   "cell_type": "markdown",
   "metadata": {},
   "source": [
    "## Query Slivers"
   ]
  },
  {
   "cell_type": "code",
   "execution_count": null,
   "metadata": {},
   "outputs": [],
   "source": [
    "status, slivers = slice_manager.slivers(slice_object=slice_object)\n",
    "\n",
    "print(\"Response Status {}\".format(status))\n",
    "if status == Status.OK:\n",
    "    for s in slivers:\n",
    "        print(\"=====================\")\n",
    "        print(\"SliceId {}\".format(s.slice_id))\n",
    "        print(\"ReservationId {}\".format(s.sliver_id))\n",
    "        print(\"State         {}\".format(s.state))\n",
    "        print(\"Pending       {}\".format(s.pending_state))\n",
    "        print(\"Join State    {}\".format(s.join_state))\n",
    "        print(\"Sliver Type   {}\".format(s.sliver_type))\n",
    "        #print(\"Sliver        {}\".format(s.sliver))\n",
    "        print(\"Site        {}\".format(s.fim_sliver.site))\n",
    "        if s.sliver_type == \"NodeSliver\":\n",
    "            print(\"Mgmt IP        {}\".format(s.fim_sliver.management_ip))\n",
    "        else:\n",
    "            print(\"Subnet        {}\".format(s.fim_sliver.gateway.subnet))\n",
    "        \n",
    "        if s.sliver_type == \"NodeSliver\":\n",
    "            for d in s.fim_sliver.attached_components_info.devices.values():\n",
    "                print(\"-------------------------\")\n",
    "                print(\"COMPONENT        {}\".format(d))\n",
    "                print(\"-------------------------\")\n",
    "        else:\n",
    "            for d in s.fim_sliver.interface_info.interfaces.values():\n",
    "                print(\"-------------------------\")\n",
    "                print(\"INTERFACE        {}\".format(d))\n",
    "                print(\"INTERFACE        {}\".format(d.flags))\n",
    "                print(\"-------------------------\")\n",
    "                \n",
    "        print(\"Notices       {}\".format(s.notice))\n",
    "        \n",
    "        print(\"=====================\")\n",
    "else:\n",
    "    print(f\"Failure: {slivers}\")"
   ]
  },
  {
   "cell_type": "markdown",
   "metadata": {},
   "source": [
    "## Get Slice Topology"
   ]
  },
  {
   "cell_type": "code",
   "execution_count": null,
   "metadata": {},
   "outputs": [],
   "source": [
    "from fabrictestbed.slice_editor import ExperimentTopology, Capacities, ComponentType, ComponentModelType, ServiceType\n",
    "from fim.slivers.capacities_labels import Flags\n",
    "\n",
    "status, existing_topology = slice_manager.get_slice_topology(slice_object=slice_object)\n",
    "print(\"========EXISTING SLICE=======\")\n",
    "print(existing_topology)\n",
    "print(\"========EXISTING SLICE=======\")"
   ]
  },
  {
   "cell_type": "markdown",
   "metadata": {},
   "source": [
    "## Modify Slice"
   ]
  },
  {
   "cell_type": "markdown",
   "metadata": {},
   "source": [
    "### Add a Node to an existing Network Service"
   ]
  },
  {
   "cell_type": "code",
   "execution_count": null,
   "metadata": {},
   "outputs": [],
   "source": [
    "from fabrictestbed.slice_editor import ExperimentTopology, Capacities, ComponentType, ComponentModelType, ServiceType\n",
    "from fim.slivers.capacities_labels import Flags\n",
    "\n",
    "if status == Status.OK:\n",
    "    name = \"node\"\n",
    "    site1 = \"UKY2\"\n",
    "    cap = Capacities(core=1, ram=4, disk=10)\n",
    "    print(f\"{name}-{i}\")\n",
    "\n",
    "    # Add a VM\n",
    "    n3 = existing_topology.add_node(name=f\"{name}-{i}\", site=site1)\n",
    "    n3.set_properties(capacities=cap, image_type='qcow2', image_ref='default_rocky_8')\n",
    "    n3.add_component(model_type=ComponentModelType.SharedNIC_OpenStack_vNIC, name=f\"{name}-{i}-nic4\")\n",
    "    n3.interface_list[0].flags = Flags(auto_config=True)\n",
    "    n3.interface_list[0].labels = Labels.update(n3.interface_list[0].labels, ipv4=str(ips[i+1]))\n",
    "    n3.interface_list[0].labels = Labels.update(n3.interface_list[0].labels, ipv4_subnet=str(network))\n",
    "    \n",
    "    \n",
    "    existing_topology.network_services['bridge1'].disconnect_interface(interface=existing_topology.nodes['node-0'].interface_list[0])\n",
    "    #existing_topology.remove_node(name='node-0')\n",
    "    \n",
    "    existing_topology.network_services['bridge1'].connect_interface(interface=n3.interface_list[0])\n",
    "\n",
    "    print(\"========MODIFIED SLICE=======\")\n",
    "    print(existing_topology)\n",
    "    existing_topology.validate()\n",
    "    print(\"========MODIFIED SLICE=======\")"
   ]
  },
  {
   "cell_type": "markdown",
   "metadata": {},
   "source": [
    "### Remove L2Bridge and create FABNet instead and connect all nodes to it"
   ]
  },
  {
   "cell_type": "code",
   "execution_count": null,
   "metadata": {},
   "outputs": [],
   "source": [
    "from fabrictestbed.slice_editor import ExperimentTopology, Capacities, ComponentType, ComponentModelType, ServiceType\n",
    "from fim.slivers.capacities_labels import Flags\n",
    "\n",
    "if status == Status.OK:\n",
    "    name = \"node\"\n",
    "    site1 = \"UKY\"\n",
    "    cap = Capacities(core=1, ram=4, disk=10)\n",
    "    print(f\"{name}-{i}\")\n",
    "\n",
    "    # Add a VM\n",
    "    n3 = existing_topology.add_node(name=f\"{name}-{i}\", site=site1)\n",
    "    n3.set_properties(capacities=cap, image_type='qcow2', image_ref='default_rocky_8')\n",
    "    n3.add_component(model_type=ComponentModelType.SharedNIC_ConnectX_6, name=f\"{name}-{i}-nic4\")\n",
    "    n3.interface_list[0].flags = Flags(auto_config=True)\n",
    "    #n3.interface_list[0].labels = Labels.update(n3.interface_list[0].labels, ipv4=str(ips[i+1]))\n",
    "    #n3.interface_list[0].labels = Labels.update(n3.interface_list[0].labels, ipv4_subnet=str(network))\n",
    "    \n",
    "    \n",
    "    existing_topology.remove_network_service(name='bridge1')\n",
    "    existing_topology.add_network_service(name='fabnet1', nstype=ServiceType.FABNetv4, interfaces=existing_topology.interface_list)\n",
    "\n",
    "    print(\"========MODIFIED SLICE=======\")\n",
    "    print(existing_topology)\n",
    "    existing_topology.validate()\n",
    "    print(\"========MODIFIED SLICE=======\")"
   ]
  },
  {
   "cell_type": "code",
   "execution_count": null,
   "metadata": {},
   "outputs": [],
   "source": [
    "# Generate Slice Graph\n",
    "slice_graph = existing_topology.serialize()\n",
    "\n",
    "# Request slice from Orchestrator\n",
    "status, reservations = slice_manager.modify(slice_id=slice_id, slice_graph=slice_graph)\n",
    "\n",
    "\n",
    "print(\"Response Status {}\".format(status))\n",
    "if status == Status.OK:\n",
    "    print(\"Reservations created {}\".format(reservations))\n",
    "else:\n",
    "    print(f\"Failure: {reservations}\")"
   ]
  },
  {
   "cell_type": "code",
   "execution_count": null,
   "metadata": {},
   "outputs": [],
   "source": [
    "status, slivers = slice_manager.slivers(slice_object=slice_object)\n",
    "\n",
    "print(\"Response Status {}\".format(status))\n",
    "if status == Status.OK:\n",
    "    for s in slivers:\n",
    "        print(\"=====================\")\n",
    "        print(\"SliceId {}\".format(s.slice_id))\n",
    "        print(\"ReservationId {}\".format(s.sliver_id))\n",
    "        print(\"State         {}\".format(s.state))\n",
    "        print(\"Pending       {}\".format(s.pending_state))\n",
    "        print(\"Join State    {}\".format(s.join_state))\n",
    "        print(\"Sliver Type   {}\".format(s.sliver_type))\n",
    "        #print(\"Sliver        {}\".format(s.sliver))\n",
    "        print(\"Name        {}\".format(s.fim_sliver.resource_name))\n",
    "        print(\"Site        {}\".format(s.fim_sliver.site))\n",
    "        if s.sliver_type == \"NodeSliver\":\n",
    "            print(\"Mgmt IP        {}\".format(s.fim_sliver.management_ip))\n",
    "        else:\n",
    "            print(\"Subnet        {}\".format(s.fim_sliver.gateway.subnet))\n",
    "        \n",
    "        if s.sliver_type == \"NodeSliver\":\n",
    "            for d in s.fim_sliver.attached_components_info.devices.values():\n",
    "                print(\"-------------------------\")\n",
    "                print(\"COMPONENT        {}\".format(d))\n",
    "                print(\"-------------------------\")\n",
    "        else:\n",
    "            for d in s.fim_sliver.interface_info.interfaces.values():\n",
    "                print(\"-------------------------\")\n",
    "                print(\"INTERFACE        {}\".format(d))\n",
    "                print(\"INTERFACE        {}\".format(d.flags))\n",
    "                print(\"-------------------------\")\n",
    "                \n",
    "        print(\"Notices       {}\".format(s.notice))\n",
    "        \n",
    "        print(\"=====================\")\n",
    "else:\n",
    "    print(f\"Failure: {slivers}\")"
   ]
  },
  {
   "cell_type": "code",
   "execution_count": null,
   "metadata": {},
   "outputs": [],
   "source": [
    "# Generate Slice Graph\n",
    "# Request slice from Orchestrator\n",
    "status, slice_topology = slice_manager.modify_accept(slice_id=slice_id)\n",
    "\n",
    "\n",
    "print(\"Response Status {}\".format(status))\n",
    "if status == Status.OK:\n",
    "    print(slice_topology)\n",
    "else:\n",
    "    print(f\"Failure: {slice_topology}\")"
   ]
  },
  {
   "cell_type": "markdown",
   "metadata": {},
   "source": [
    "## Delete Slice"
   ]
  },
  {
   "cell_type": "code",
   "execution_count": null,
   "metadata": {},
   "outputs": [],
   "source": [
    "status, result = slice_manager.delete(slice_object=slice_object)\n",
    "\n",
    "print(\"Response Status {}\".format(status))\n",
    "print(\"Response received {}\".format(result))"
   ]
  },
  {
   "cell_type": "code",
   "execution_count": null,
   "metadata": {},
   "outputs": [],
   "source": []
  },
  {
   "cell_type": "code",
   "execution_count": null,
   "metadata": {},
   "outputs": [],
   "source": []
  }
 ],
 "metadata": {
  "kernelspec": {
   "display_name": "Python 3 (ipykernel)",
   "language": "python",
   "name": "python3"
  },
  "language_info": {
   "codemirror_mode": {
    "name": "ipython",
    "version": 3
   },
   "file_extension": ".py",
   "mimetype": "text/x-python",
   "name": "python",
   "nbconvert_exporter": "python",
   "pygments_lexer": "ipython3",
   "version": "3.9.7"
  }
 },
 "nbformat": 4,
 "nbformat_minor": 4
}
