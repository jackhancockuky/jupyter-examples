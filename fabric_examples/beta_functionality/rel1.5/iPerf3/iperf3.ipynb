{
 "cells": [
  {
   "cell_type": "markdown",
   "metadata": {},
   "source": [
    "# Create a Slice and Run iPerf3\n",
    "\n"
   ]
  },
  {
   "cell_type": "markdown",
   "metadata": {},
   "source": [
    "## Import the FABlib Library\n"
   ]
  },
  {
   "cell_type": "code",
   "execution_count": null,
   "metadata": {
    "tags": []
   },
   "outputs": [],
   "source": [
    "from ipaddress import ip_address, IPv4Address, IPv6Address, IPv4Network, IPv6Network\n",
    "import ipaddress\n",
    "from fabrictestbed_extensions.fablib.fablib import FablibManager as fablib_manager\n",
    "\n",
    "fablib = fablib_manager()\n",
    "\n",
    "fablib.show_config();"
   ]
  },
  {
   "cell_type": "code",
   "execution_count": null,
   "metadata": {},
   "outputs": [],
   "source": [
    "from plugins import Plugins\n",
    "import traceback\n",
    "try:\n",
    "    Plugins.load()\n",
    "except Exception as e:\n",
    "    traceback.print_exc()"
   ]
  },
  {
   "cell_type": "markdown",
   "metadata": {
    "tags": []
   },
   "source": [
    "## Create the Experiment Slice\n",
    "\n",
    "The following creates two nodes with basic NICs connected to an isolated local Ethernet.  \n"
   ]
  },
  {
   "cell_type": "code",
   "execution_count": null,
   "metadata": {
    "tags": []
   },
   "outputs": [],
   "source": [
    "slice_name = 'iPerf3-2'\n",
    "site1 = fablib.get_random_site()\n",
    "print(f\"Sites: {site1}\")\n",
    "site1='LBNL'\n",
    "\n",
    "node1_name='Node1'\n",
    "node2_name='Node2'\n",
    "\n",
    "network_name='net1'\n",
    "nic_name = 'nic1'\n",
    "model_name = 'NIC_Basic'"
   ]
  },
  {
   "cell_type": "code",
   "execution_count": null,
   "metadata": {
    "tags": []
   },
   "outputs": [],
   "source": [
    "from ipaddress import ip_address, IPv4Address, IPv6Address, IPv4Network, IPv6Network\n",
    "\n",
    "subnet = IPv4Network(\"192.168.1.0/24\")\n",
    "available_ips = list(subnet)[1:]"
   ]
  },
  {
   "cell_type": "code",
   "execution_count": null,
   "metadata": {
    "tags": []
   },
   "outputs": [],
   "source": [
    "#Create Slice\n",
    "slice = fablib.new_slice(name=slice_name)\n",
    "\n",
    "net1 = slice.add_l2network(name=network_name, subnet=subnet)\n",
    "\n",
    "\n",
    "hosts = [f\"{site1.lower()}-w1\", f\"{site1.lower()}-w2\", f\"{site1.lower()}-w3\"]\n",
    "\n",
    "for h in hosts:\n",
    "\n",
    "    # Node1\n",
    "    node1 = slice.add_node(name=f\"{h}-a\", cores=16, ram=32, site=site1, image='docker_rocky_8', host=f\"{h}.fabric-testbed.net\")\n",
    "    #node1.add_fabnet()\n",
    "\n",
    "    iface1 = node1.add_component(model=model_name, name=nic_name).get_interfaces()[0]\n",
    "    #iface1.set_mode('auto')\n",
    "    net1.add_interface(iface1)\n",
    "\n",
    "    node1.add_post_boot_upload_directory('node_tools','.')\n",
    "    node1.add_post_boot_execute('sudo node_tools/host_tune.sh')\n",
    "    node1.add_post_boot_execute('node_tools/enable_docker.sh {{ _self_.image }} ')\n",
    "    node1.add_post_boot_execute('docker pull fabrictestbed/slice-vm-rocky8-multitool:0.0.2 ')\n",
    "\n",
    "#Submit Slice Request\n",
    "slice.submit();"
   ]
  },
  {
   "cell_type": "markdown",
   "metadata": {},
   "source": [
    "### CPU Pinning and Numatune Setting"
   ]
  },
  {
   "cell_type": "code",
   "execution_count": null,
   "metadata": {},
   "outputs": [],
   "source": [
    "for node in slice.get_nodes():\n",
    "    # Find CPU Allocation on the Host\n",
    "    cpu_info = node.perform_operational_action(operation=\"cpuinfo\")\n",
    "    pinned_cpus = cpu_info.get(node.get_host()).get('pinned_cpus')\n",
    "    \n",
    "    # Find Numa Node for the NIC\n",
    "    numa_node = node.get_component(name=nic_name).get_numa_node()\n",
    "    \n",
    "    # Find CPUs assigned to the numa node\n",
    "    ranges = cpu_info.get(node.get_host()).get(f\"NUMA node{numa_node} CPU(s):\")\n",
    "\n",
    "    numa_cpu_range = []\n",
    "    for r in ranges.split(\",\"):\n",
    "        start, end = map(int, r.split(\"-\"))\n",
    "        numa_cpu_range.extend(map(str, range(start, end + 1)))\n",
    "\n",
    "    available_cpus = list(set(numa_cpu_range) - set(pinned_cpus))\n",
    "    idx = node.get_cores()\n",
    "    vcpu_cpu_map = []\n",
    "    for x in available_cpus:\n",
    "        temp = {'vcpu': str(node.get_cores() - idx), 'cpu': x}\n",
    "        vcpu_cpu_map.append(temp)\n",
    "        idx -= 1\n",
    "\n",
    "    print(vcpu_cpu_map)\n",
    "    \n",
    "    status = node.perform_operational_action(operation=\"cpupin\", vcpu_cpu_map=vcpu_cpu_map)\n",
    "    print(f\"CPU Pinning complete for node: {node.get_name()}\")\n",
    "          \n",
    "    status = node.perform_operational_action(operation=\"numatune\", node_set=[str(numa_node)])\n",
    "    print(f\"Numa tuning complete for node: {node.get_name()}\")\n",
    "    \n",
    "    status = node.perform_operational_action(operation=\"reboot\")\n",
    "    print(f\"Node: {node.get_name()} rebooted\")"
   ]
  },
  {
   "cell_type": "markdown",
   "metadata": {},
   "source": [
    "## Configure IP addresses on the VM and download fabric tools"
   ]
  },
  {
   "cell_type": "code",
   "execution_count": null,
   "metadata": {
    "tags": []
   },
   "outputs": [],
   "source": [
    "slice = fablib.get_slice(slice_name)\n",
    "\n",
    "for node in slice.get_nodes():\n",
    "    node_iface = node.get_interface(network_name=network_name) \n",
    "    node_addr = available_ips.pop(0)\n",
    "    node_iface.ip_addr_add(addr=node_addr, subnet=subnet)\n",
    "\n",
    "    stdout, stderr = node.execute(f'ip addr show {node_iface.get_device_name()}')\n",
    "\n",
    "    stdout1, stderr1 = node.execute(\"sudo systemctl enable docker\")\n",
    "    stdout1, stderr1 = node.execute(\"sudo systemctl start docker\")    \n",
    "    stdout1, stderr1 = node.execute(\"sudo docker pull fabrictestbed/slice-vm-rocky8-multitool:0.0.2 \")\n",
    "    stdout1, stderr1 = node.execute(\"sudo systemctl enable docker\")\n",
    "    stdout1, stderr1 = node.execute(\"sudo systemctl start docker\")    "
   ]
  },
  {
   "cell_type": "code",
   "execution_count": null,
   "metadata": {},
   "outputs": [],
   "source": [
    "slice = fablib.get_slice(slice_name)\n",
    "slice.list_interfaces();"
   ]
  },
  {
   "cell_type": "markdown",
   "metadata": {},
   "source": [
    "## Run iperf3"
   ]
  },
  {
   "cell_type": "code",
   "execution_count": null,
   "metadata": {
    "tags": []
   },
   "outputs": [],
   "source": [
    "slice = fablib.get_slice(slice_name)\n",
    "\n",
    "\n",
    "source_name = f\"{site1.lower()}-w1-a\"\n",
    "source_node = slice.get_node(name=source_name)\n",
    "\n",
    "source_addr = source_node.get_interface(network_name=network_name).get_ip_addr()\n",
    "\n",
    "node_names = [f\"{site1.lower()}-w1-a\", f\"{site1.lower()}-w2-a\", f\"{site1.lower()}-w3-a\"]\n",
    "\n",
    "for i in range(len(node_names)):\n",
    "    source_node = slice.get_node(name=node_names[i])\n",
    "    source_addr = source_node.get_interface(network_name=network_name).get_ip_addr()\n",
    "    \n",
    "    for j in range(len(node_names)):\n",
    "        if i==j:\n",
    "            continue\n",
    "        print(\"xxxxxxxxxxxxxxxxxxxxxxxxxxxxxxxxxxxxxxxxxxxxxxxxxxxxxxxxxxxxxxxxxxxxxxxxxxxxxxxxxxxxxxxxx\")\n",
    "        stdout1, stderr1 = source_node.execute(\"docker run -d --rm \"\n",
    "                                            \"--network host \"\n",
    "                                            \"fabrictestbed/slice-vm-rocky8-multitool:0.0.2 \"\n",
    "                                            \"iperf3 -s -1\"\n",
    "                                            , quiet=True, output_file=f\"{source_node.get_name()}.log\");\n",
    "\n",
    "        print(f\"Source:  {node_names[i]} to Dest: {node_names[j]}\")\n",
    "        dest_node = slice.get_node(name=node_names[j])\n",
    "\n",
    "        stdout2, stderr2 = dest_node.execute(\"docker run --rm \"\n",
    "                                            \"--network host \"\n",
    "                                            \"fabrictestbed/slice-vm-rocky8-multitool:0.0.2 \"\n",
    "                                            f\"iperf3 -c {source_addr} -P 10 -t 30 -i 10 -O 10\"\n",
    "                                            , quiet=False, output_file=f\"{dest_node.get_name()}.log\");\n",
    "        print(\"xxxxxxxxxxxxxxxxxxxxxxxxxxxxxxxxxxxxxxxxxxxxxxxxxxxxxxxxxxxxxxxxxxxxxxxxxxxxxxxxxxxxxxxxx\")"
   ]
  },
  {
   "cell_type": "markdown",
   "metadata": {},
   "source": [
    "## Delete the Slice\n",
    "\n",
    "Please delete your slice when you are done with your experiment."
   ]
  },
  {
   "cell_type": "code",
   "execution_count": null,
   "metadata": {
    "tags": []
   },
   "outputs": [],
   "source": [
    "slice = fablib.get_slice(slice_name)\n",
    "slice.delete()"
   ]
  },
  {
   "cell_type": "code",
   "execution_count": null,
   "metadata": {},
   "outputs": [],
   "source": []
  }
 ],
 "metadata": {
  "kernelspec": {
   "display_name": "Python 3 (ipykernel)",
   "language": "python",
   "name": "python3"
  },
  "language_info": {
   "codemirror_mode": {
    "name": "ipython",
    "version": 3
   },
   "file_extension": ".py",
   "mimetype": "text/x-python",
   "name": "python",
   "nbconvert_exporter": "python",
   "pygments_lexer": "ipython3",
   "version": "3.9.7"
  }
 },
 "nbformat": 4,
 "nbformat_minor": 4
}
