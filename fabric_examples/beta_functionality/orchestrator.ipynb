{
 "cells": [
  {
   "cell_type": "markdown",
   "metadata": {},
   "source": [
    "## This notebook shows how to use Orchestrator APIs for user experiments"
   ]
  },
  {
   "cell_type": "code",
   "execution_count": null,
   "metadata": {},
   "outputs": [],
   "source": [
    "import os, traceback\n",
    "from fabrictestbed.slice_manager import SliceManager, Status, SliceState\n",
    "import json"
   ]
  },
  {
   "cell_type": "code",
   "execution_count": null,
   "metadata": {},
   "outputs": [],
   "source": [
    "print(os.environ['CILOGON_REFRESH_TOKEN'])"
   ]
  },
  {
   "cell_type": "code",
   "execution_count": null,
   "metadata": {},
   "outputs": [],
   "source": [
    "slice_name=\"Slice-comps-only\""
   ]
  },
  {
   "cell_type": "code",
   "execution_count": null,
   "metadata": {},
   "outputs": [],
   "source": [
    "fabric_rc_location=os.environ['HOME']+\"/work/fabric_config/fabric_rc\"\n",
    "if os.path.exists(fabric_rc_location):\n",
    "    with open(fabric_rc_location, 'r') as f:\n",
    "        for line in f:\n",
    "            if line.startswith('export'):\n",
    "                os.environ[line.split('=')[0].split('export')[1].strip()] = line.split('=')[1].strip()"
   ]
  },
  {
   "cell_type": "code",
   "execution_count": null,
   "metadata": {},
   "outputs": [],
   "source": [
    "ssh_key_file_priv=os.environ[\"FABRIC_SLICE_PRIVATE_KEY_FILE\"]\n",
    "ssh_key_file_pub=os.environ[\"FABRIC_SLICE_PUBLIC_KEY_FILE\"]\n",
    "\n",
    "ssh_key_pub = None\n",
    "with open (ssh_key_file_pub, \"r\") as myfile:\n",
    "    ssh_key_pub=myfile.read()\n",
    "    ssh_key_pub=ssh_key_pub.strip()"
   ]
  },
  {
   "cell_type": "markdown",
   "metadata": {},
   "source": [
    "## Create Slice Manager Object\n",
    "Users can request tokens with different Project and Scopes by altering `project_name` and `scope` parameters in the refresh call below."
   ]
  },
  {
   "cell_type": "code",
   "execution_count": null,
   "metadata": {},
   "outputs": [],
   "source": [
    "slice_manager = SliceManager()"
   ]
  },
  {
   "cell_type": "markdown",
   "metadata": {},
   "source": [
    "### Orchestrator API example to query for available resources"
   ]
  },
  {
   "cell_type": "code",
   "execution_count": null,
   "metadata": {},
   "outputs": [],
   "source": [
    "status, advertised_topology = slice_manager.resources()\n",
    "\n",
    "print(f\"Status: {status}\")\n",
    "if status == Status.OK:\n",
    "    print(f\"Toplogy: {advertised_topology}\")\n",
    "else:\n",
    "    print(f\"Error: {advertised_topology}\")"
   ]
  },
  {
   "cell_type": "code",
   "execution_count": null,
   "metadata": {},
   "outputs": [],
   "source": [
    "if status == Status.OK:\n",
    "    advertised_topology.draw()"
   ]
  },
  {
   "cell_type": "markdown",
   "metadata": {},
   "source": [
    "## Create Slice"
   ]
  },
  {
   "cell_type": "code",
   "execution_count": null,
   "metadata": {},
   "outputs": [],
   "source": [
    "from fabrictestbed.slice_editor import ExperimentTopology, Capacities, ComponentType, ComponentModelType, ServiceType\n",
    "# Create topology\n",
    "t = ExperimentTopology()\n",
    "\n",
    "# Set capacities\n",
    "cap = Capacities(core=2, ram=6, disk=10)\n",
    "\n",
    "boot_script = f\"sudo yum install -y yum-utils;\" \\\n",
    "         f\"sudo yum-config-manager --add-repo https://download.docker.com/linux/centos/docker-ce.repo;\" \\\n",
    "         f\"sudo yum install -y docker-ce docker-ce-cli containerd.io docker-compose-plugin;\" \\\n",
    "         f\"sudo systemctl start docker;\" \\\n",
    "         f\"sudo systemctl enable docker;\" \\\n",
    "         f\"sudo curl -SL https://github.com/docker/compose/releases/download/v2.5.0/docker-compose-linux-x86_64 -o /usr/local/bin/docker-compose;\" \\\n",
    "         f\"sudo chmod +x /usr/local/bin/docker-compose;\" \\\n",
    "\n",
    "\n",
    "sites = ['RENC']\n",
    "name=\"node\"\n",
    "i=0\n",
    "for s in sites:\n",
    "    # Add node\n",
    "    nm = f\"{name}-{i}\"\n",
    "    \n",
    "    n = t.add_node(name=f\"{name}-{i}\", site=s)\n",
    "    \n",
    "\n",
    "    # Set properties\n",
    "    n.set_properties(capacities=cap, image_type='qcow2', image_ref='default_rocky_8', boot_script=boot_script)\n",
    "    \n",
    "    i += 1\n",
    "\n",
    "# Generate Slice Graph\n",
    "slice_graph = t.serialize()\n",
    "\n",
    "# Request slice from Orchestrator\n",
    "status, reservations = slice_manager.create(slice_name=slice_name, slice_graph=slice_graph, ssh_key=ssh_key_pub)\n",
    "\n",
    "print(\"Response Status {}\".format(status))\n",
    "if status == Status.OK:\n",
    "    print(\"Reservations created {}\".format(reservations))\n",
    "    slice_id = reservations[0].slice_id\n",
    "else:\n",
    "    print(f\"Failure: {reservations}\")"
   ]
  },
  {
   "cell_type": "markdown",
   "metadata": {},
   "source": [
    "## Query Slices"
   ]
  },
  {
   "cell_type": "code",
   "execution_count": null,
   "metadata": {},
   "outputs": [],
   "source": [
    "status, slices = slice_manager.slices()\n",
    "print(\"Response Status {}\".format(status))\n",
    "if status == Status.OK:\n",
    "    if len(slices) > 0:\n",
    "        slice_object=list(filter(lambda s: s.slice_id == slice_id, slices))[0]\n",
    "        print(slice_object)\n",
    "else:\n",
    "    print(f\"Failure: {slices}\")"
   ]
  },
  {
   "cell_type": "markdown",
   "metadata": {},
   "source": [
    "## Query Slivers"
   ]
  },
  {
   "cell_type": "code",
   "execution_count": null,
   "metadata": {},
   "outputs": [],
   "source": [
    "status, slivers = slice_manager.slivers(slice_object=slice_object)\n",
    "\n",
    "print(\"Response Status {}\".format(status))\n",
    "if status == Status.OK:\n",
    "    for s in slivers:\n",
    "        print(\"=====================\")\n",
    "        print(\"ReservationId {}\".format(s.reservation_id))\n",
    "        print(\"Notices       {}\".format(s.notices))\n",
    "        print(\"State         {}\".format(s.reservation_state))\n",
    "        print(\"Pending       {}\".format(s.pending_state))\n",
    "        print(\"Join State    {}\".format(s.join_state))\n",
    "        print(\"Sliver Type   {}\".format(s.sliver_type))\n",
    "        print(\"Sliver        {}\".format(s.sliver))\n",
    "        print(\"Lease End Time {}\".format(s.lease_end))\n",
    "        '''\n",
    "        if s.sliver_type == \"NodeSliver\":\n",
    "            for d in s.sliver.attached_components_info.devices.values():\n",
    "                print(\"-------------------------\")\n",
    "                print(\"COMPONENT        {}\".format(d))\n",
    "                print(\"-------------------------\")\n",
    "        else:\n",
    "            for d in s.sliver.interface_info.interfaces.values():\n",
    "                print(\"-------------------------\")\n",
    "                print(\"INTERFACE        {}\".format(d))\n",
    "                print(\"-------------------------\")\n",
    "                \n",
    "        print(\"Notices       {}\".format(s.notices))\n",
    "        print(\"=====================\")\n",
    "        '''\n",
    "else:\n",
    "    print(f\"Failure: {slivers}\")"
   ]
  },
  {
   "cell_type": "code",
   "execution_count": null,
   "metadata": {},
   "outputs": [],
   "source": [
    "from datetime import datetime, timedelta, timezone\n",
    "now = datetime.now(timezone.utc)\n",
    "new_time = now + timedelta(days=2)\n",
    "status, exception = slice_manager.renew(slice_object=slice_object, new_lease_end_time=new_time.strftime('%Y-%m-%d %H:%M:%S %z'))\n",
    "\n",
    "if status != Status.OK:\n",
    "    print(exception)"
   ]
  },
  {
   "cell_type": "code",
   "execution_count": null,
   "metadata": {},
   "outputs": [],
   "source": [
    "status, slices2 = slice_manager.slices()\n",
    "\n",
    "print(\"Response Status {}\".format(status))\n",
    "if status == Status.OK:\n",
    "    if len(slices) > 0:\n",
    "        slice_object2=list(filter(lambda s: s.slice_id == slice_id, slices2))[0]\n",
    "        print(slice_object2)\n",
    "else:\n",
    "    print(f\"Failure: {slices}\")"
   ]
  },
  {
   "cell_type": "markdown",
   "metadata": {},
   "source": [
    "## Delete Slice"
   ]
  },
  {
   "cell_type": "code",
   "execution_count": null,
   "metadata": {},
   "outputs": [],
   "source": [
    "status, result = slice_manager.delete(slice_object=slice_object)\n",
    "\n",
    "print(\"Response Status {}\".format(status))\n",
    "print(\"Response received {}\".format(result))"
   ]
  },
  {
   "cell_type": "code",
   "execution_count": null,
   "metadata": {},
   "outputs": [],
   "source": []
  }
 ],
 "metadata": {
  "kernelspec": {
   "display_name": "Python 3 (ipykernel)",
   "language": "python",
   "name": "python3"
  },
  "language_info": {
   "codemirror_mode": {
    "name": "ipython",
    "version": 3
   },
   "file_extension": ".py",
   "mimetype": "text/x-python",
   "name": "python",
   "nbconvert_exporter": "python",
   "pygments_lexer": "ipython3",
   "version": "3.9.2"
  }
 },
 "nbformat": 4,
 "nbformat_minor": 4
}
