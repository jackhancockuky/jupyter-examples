{
 "cells": [
  {
   "cell_type": "markdown",
   "metadata": {},
   "source": [
    "# Routing Topology: OSPF using FRRouting\n",
    "\n",
    "This notebook is an example of how to create a FABRIC routing experiment topology comprising nodes at three different sites. Each site has a local layer 2 (Ethernet) network connecting a set of local nodes and one gateway router. The three gateway routers connect to each other and use the [FRRouting](https://frrouting.org/) protocol suite to deploy [OSPF](https://en.wikipedia.org/wiki/Open_Shortest_Path_First) dameons to propagate route updates across the topology.\n",
    "\n",
    "You might be familiar with the [Quagga](https://www.quagga.net/) router suite.  FRRouting is based on Quagga but has a more active upstream community including many large companies working on cloud networking.\n",
    "\n",
    "\n",
    "## Step 1:  Configure the Environment\n"
   ]
  },
  {
   "cell_type": "code",
   "execution_count": 1,
   "metadata": {},
   "outputs": [],
   "source": [
    "import os\n",
    "\n",
    "# If you are using the FABRIC JupyterHub, the following three evnrionment vars\n",
    "# were automatically provided when you logged in.\n",
    "os.environ['FABRIC_CREDMGR_HOST']='beta-2.fabric-testbed.net'\n",
    "os.environ['FABRIC_ORCHESTRATOR_HOST']='beta-7.fabric-testbed.net'\n",
    "os.environ['FABRIC_TOKEN_LOCATION']=os.environ['HOME']+'/work/fabric_config/fabric_token.json'\n",
    "\n",
    "# Bastion IPs\n",
    "os.environ['FABRIC_BASTION_HOST'] = 'bastion-1.fabric-testbed.net'\n",
    "\n",
    "# Set your Bastion username and private key\n",
    "os.environ['FABRIC_BASTION_USERNAME']='pruth_0031379841'\n",
    "os.environ['FABRIC_BASTION_KEY_LOCATION']=os.environ['HOME']+'/.ssh/id_ecdsa_fabric_bastion'\n",
    "\n",
    "# Set the keypair FABRIC will install in your slice. \n",
    "os.environ['FABRIC_SLICE_PRIVATE_KEY_FILE']=os.environ['HOME']+'/work/fabric_config/slice-private-key'\n",
    "os.environ['FABRIC_SLICE_PUBLIC_KEY_FILE']=os.environ['HOME']+'/work/fabric_config/slice-public-key'\n",
    "\n",
    "\n",
    "os.environ['FABRIC_PROJECT_ID']='b9847fa1-13ef-49f9-9e07-ae6ad06cda3f'\n",
    "# If your slice private key uses a passphrase, set the passphrase\n",
    "#from getpass import getpass\n",
    "#print('Please input private key passphrase. Press enter for no passphrase.')\n",
    "#os.environ['FABRIC_SLICE_PRIVATE_KEY_PASSPHRASE']=getpass()"
   ]
  },
  {
   "cell_type": "markdown",
   "metadata": {},
   "source": [
    "## Step 2: Import the FABLlib Library\n"
   ]
  },
  {
   "cell_type": "code",
   "execution_count": 2,
   "metadata": {},
   "outputs": [],
   "source": [
    "import json\n",
    "import traceback\n",
    "\n",
    "from fabrictestbed_extensions.fablib.fablib import fablib"
   ]
  },
  {
   "cell_type": "markdown",
   "metadata": {
    "tags": []
   },
   "source": [
    "## Step 3 (Optional): Query for Available Tesbed Resources and Settings\n",
    "\n",
    "This optional command queries the FABRIC services to find the available resources. It may be useful for finding a site with available capacity."
   ]
  },
  {
   "cell_type": "code",
   "execution_count": 3,
   "metadata": {},
   "outputs": [
    {
     "name": "stdout",
     "output_type": "stream",
     "text": [
      "Name      CPUs  Cores    RAM (G)    Disk (G)     Basic (100 Gbps NIC)    ConnectX-6 (100 Gbps x2 NIC)    ConnectX-5 (25 Gbps x2 NIC)    P4510 (NVMe 1TB)    Tesla T4 (GPU)    RTX6000 (GPU)\n",
      "------  ------  -------  ---------  -----------  ----------------------  ------------------------------  -----------------------------  ------------------  ----------------  ---------------\n",
      "LBNL         6  192/192  1536/1536  60600/60600  381/381                 2/2                             2/2                            10/10               4/4               2/2\n",
      "RENC         6  184/192  1506/1536  60560/60600  372/381                 2/2                             2/2                            10/10               4/4               2/2\n",
      "UKY          6  190/192  1530/1536  60590/60600  381/381                 2/2                             2/2                            10/10               4/4               2/2\n"
     ]
    }
   ],
   "source": [
    "try:\n",
    "    print(f\"{fablib.list_sites()}\")\n",
    "except Exception as e:\n",
    "    print(f\"Exception: {e}\")"
   ]
  },
  {
   "cell_type": "markdown",
   "metadata": {},
   "source": [
    "## Step 4: Create the Experiment Slice\n",
    "\n",
    "The following creates private layer 2 networks on three sites including a OSPF gateway routers that propogate routes acrross the topology. \n"
   ]
  },
  {
   "cell_type": "code",
   "execution_count": 4,
   "metadata": {},
   "outputs": [
    {
     "name": "stdout",
     "output_type": "stream",
     "text": [
      "Sites: RENC,RENC,RENC\n"
     ]
    }
   ],
   "source": [
    "slice_name = 'OSPF_Routing_Topology'\n",
    "\n",
    "#[site1,site2,site3] = fablib.get_random_sites(count=3)\n",
    "[site1,site2,site3]=['RENC','RENC','RENC']\n",
    "print(f\"Sites: {site1},{site2},{site3}\")\n",
    "\n",
    "router_base_name='router'\n",
    "router_link_base_name='router_link'\n",
    "\n",
    "node_base_name='node'\n",
    "local_network_base_name='net_local'\n",
    "\n",
    "site_node_count=2\n"
   ]
  },
  {
   "cell_type": "code",
   "execution_count": 5,
   "metadata": {
    "tags": []
   },
   "outputs": [
    {
     "name": "stdout",
     "output_type": "stream",
     "text": [
      "\n",
      "-----------  ------------------------------------\n",
      "Slice Name   OSPF_Routing_Topology\n",
      "Slice ID     d0e38bda-ac90-403d-9249-2be668963f28\n",
      "Slice State  StableOK\n",
      "Lease End    2022-05-18 19:32:47 +0000\n",
      "-----------  ------------------------------------\n",
      "\n",
      "Retry: 20, Time: 233 sec\n",
      "\n",
      "ID                                    Name          Site    Host                          Cores    RAM    Disk  Image            Management IP    State    Error\n",
      "------------------------------------  ------------  ------  --------------------------  -------  -----  ------  ---------------  ---------------  -------  -------\n",
      "011ce829-0910-4ec5-9540-cbce2f932792  router1       RENC    renc-w1.fabric-testbed.net        2      8      10  default_rocky_8  152.54.15.39     Active\n",
      "d6ed4a27-3c28-4f79-a466-39b9b6afd522  router2       RENC    renc-w1.fabric-testbed.net        2      8      10  default_rocky_8  152.54.15.38     Active\n",
      "360d7776-342a-4887-86ac-167a797c63c4  router3       RENC    renc-w1.fabric-testbed.net        2      8      10  default_rocky_8  152.54.15.47     Active\n",
      "5cd63b73-cba0-46ec-89d4-919b851edf62  node_RENC1_1  RENC    renc-w1.fabric-testbed.net        2      8      10  default_rocky_8  152.54.15.35     Active\n",
      "81d901fc-1569-4296-923b-3320d9d44d42  node_RENC1_2  RENC    renc-w1.fabric-testbed.net        2      8      10  default_rocky_8  152.54.15.43     Active\n",
      "7e5d1d32-1f45-4ca2-a51b-d2a9ab82cb5f  node_RENC2_1  RENC    renc-w1.fabric-testbed.net        2      8      10  default_rocky_8  152.54.15.48     Active\n",
      "475d1471-7b13-4f27-952c-1e65dddadd89  node_RENC2_2  RENC    renc-w1.fabric-testbed.net        2      8      10  default_rocky_8  152.54.15.40     Active\n",
      "7fb51b27-8d51-4bb6-a03c-69699052e9fc  node_RENC3_1  RENC    renc-w1.fabric-testbed.net        2      8      10  default_rocky_8  152.54.15.46     Active\n",
      "2e2d7b15-54c2-4821-a4f6-3af1bb02efdc  node_RENC3_2  RENC    renc-w1.fabric-testbed.net        2      8      10  default_rocky_8  152.54.15.42     Active\n",
      "\n",
      "Time to stable 233 seconds\n",
      "Running wait_ssh ... Time to ssh 242 seconds\n",
      "Running post_boot_config ... Time to post boot config 693 seconds\n",
      "\n",
      "Name                  Node          Network         Bandwidth  VLAN    MAC                Physical OS Interface    OS Interface\n",
      "--------------------  ------------  ------------  -----------  ------  -----------------  -----------------------  --------------\n",
      "router1-nic1-p1       router1       router_link1            0          02:cb:d3:1d:95:c2  eth3                     eth3\n",
      "router1-nic2-p1       router1       router_link3            0          02:a3:d8:3c:ed:76  eth1                     eth1\n",
      "router1-nic_local-p1  router1       net_local1              0          02:ac:7c:d7:ea:09  eth2                     eth2\n",
      "router2-nic_local-p1  router2       net_local2              0          06:83:35:c5:e2:68  eth2                     eth2\n",
      "router2-nic1-p1       router2       router_link2            0          06:a0:3a:ae:3f:98  eth3                     eth3\n",
      "router2-nic2-p1       router2       router_link1            0          06:4f:a5:2c:bd:d8  eth1                     eth1\n",
      "router3-nic_local-p1  router3       net_local3              0          0a:88:68:1f:ec:d4  eth3                     eth3\n",
      "router3-nic1-p1       router3       router_link3            0          06:be:df:a0:39:f7  eth1                     eth1\n",
      "router3-nic2-p1       router3       router_link2            0          06:e7:aa:80:fe:e6  eth2                     eth2\n",
      "node_RENC1_1-nic1-p1  node_RENC1_1  net_local1              0          02:28:8a:fd:8e:31  eth1                     eth1\n",
      "node_RENC1_2-nic1-p1  node_RENC1_2  net_local1              0          02:d1:10:1b:a3:6e  eth1                     eth1\n",
      "node_RENC2_1-nic1-p1  node_RENC2_1  net_local2              0          0e:44:7b:d8:23:c9  eth1                     eth1\n",
      "node_RENC2_2-nic1-p1  node_RENC2_2  net_local2              0          0e:b9:29:cd:21:8e  eth1                     eth1\n",
      "node_RENC3_1-nic1-p1  node_RENC3_1  net_local3              0          12:1a:33:7d:f5:17  eth1                     eth1\n",
      "node_RENC3_2-nic1-p1  node_RENC3_2  net_local3              0          12:04:43:72:91:15  eth1                     eth1\n"
     ]
    }
   ],
   "source": [
    "try:\n",
    "    #Create Slice\n",
    "    slice = fablib.new_slice(name=slice_name)\n",
    "    \n",
    "    #Create Router1\n",
    "    router1_name = f\"{router_base_name}1\"\n",
    "    router1 = slice.add_node(name=router1_name, site=site1)\n",
    "    router1_iface1 = router1.add_component(model='NIC_Basic', name='nic1').get_interfaces()[0]\n",
    "    router1_iface2 = router1.add_component(model='NIC_Basic', name='nic2').get_interfaces()[0]\n",
    "    router1_local_iface = router1.add_component(model='NIC_Basic', name='nic_local').get_interfaces()[0]\n",
    "\n",
    "\n",
    "    #Create Router2\n",
    "    router2_name = f\"{router_base_name}2\"\n",
    "    router2 = slice.add_node(name=router2_name, site=site2)\n",
    "    router2_iface1 = router2.add_component(model='NIC_Basic', name='nic1').get_interfaces()[0]\n",
    "    router2_iface2 = router2.add_component(model='NIC_Basic', name='nic2').get_interfaces()[0]\n",
    "    router2_local_iface = router2.add_component(model='NIC_Basic', name='nic_local').get_interfaces()[0]\n",
    "\n",
    "\n",
    "    #Create Router3\n",
    "    router3_name = f\"{router_base_name}3\"\n",
    "    router3 = slice.add_node(name=router3_name, site=site3)\n",
    "    router3_iface1 = router3.add_component(model='NIC_Basic', name='nic1').get_interfaces()[0]\n",
    "    router3_iface2 = router3.add_component(model='NIC_Basic', name='nic2').get_interfaces()[0]\n",
    "    router3_local_iface = router3.add_component(model='NIC_Basic', name='nic_local').get_interfaces()[0]\n",
    "\n",
    "\n",
    "    #Create Router Links\n",
    "    route_link1_name = f'{router_link_base_name}1'\n",
    "    router_link1 = slice.add_l2network(name=route_link1_name, interfaces=[router1_iface1, router2_iface2])\n",
    "    \n",
    "    route_link2_name = f'{router_link_base_name}2'\n",
    "    router_link2 = slice.add_l2network(name=route_link2_name, interfaces=[router2_iface1, router3_iface2])\n",
    "    \n",
    "    route_link3_name = f'{router_link_base_name}3'\n",
    "    router_link3 = slice.add_l2network(name=route_link3_name, interfaces=[router3_iface1, router1_iface2])\n",
    "\n",
    "    #Create Site1 Nodes\n",
    "    site1_local_ifaces = [ router1_local_iface ]\n",
    "    for i in range(site_node_count):\n",
    "        node = slice.add_node(name=f'{node_base_name}_{site1}1_{i+1}', site=site1)\n",
    "        site1_local_ifaces.append(node.add_component(model='NIC_Basic', name='nic1').get_interfaces()[0])\n",
    "        \n",
    "    #Create Site2 Nodes\n",
    "    site2_local_ifaces = [ router2_local_iface ]\n",
    "    for i in range(site_node_count):\n",
    "        node = slice.add_node(name=f'{node_base_name}_{site2}2_{i+1}', site=site2)\n",
    "        site2_local_ifaces.append(node.add_component(model='NIC_Basic', name='nic1').get_interfaces()[0])\n",
    "\n",
    "    #Create Site1 Nodes\n",
    "    site3_local_ifaces = [ router3_local_iface ]\n",
    "    for i in range(site_node_count):\n",
    "        node = slice.add_node(name=f'{node_base_name}_{site3}3_{i+1}', site=site3)\n",
    "        site3_local_ifaces.append(node.add_component(model='NIC_Basic', name='nic1').get_interfaces()[0])\n",
    "        \n",
    "    #Create Site Local Networks\n",
    "    site1_local_net_name = f'{local_network_base_name}1'\n",
    "    site2_local_net_name = f'{local_network_base_name}2'\n",
    "    site3_local_net_name = f'{local_network_base_name}3'\n",
    "    \n",
    "    site1_local_net = slice.add_l2network(name=site1_local_net_name, interfaces=site1_local_ifaces)\n",
    "    site2_local_net = slice.add_l2network(name=site2_local_net_name, interfaces=site2_local_ifaces)\n",
    "    site2_local_net = slice.add_l2network(name=site3_local_net_name, interfaces=site3_local_ifaces)\n",
    "\n",
    "    #Submit Slice Request\n",
    "    slice_id = slice.submit()\n",
    "\n",
    "except Exception as e:\n",
    "    print(f\"Slice Fail: {e}\")"
   ]
  },
  {
   "cell_type": "markdown",
   "metadata": {
    "tags": []
   },
   "source": [
    "## Step 5: Observe the Slice's Attributes\n",
    "\n",
    "### Print the slice"
   ]
  },
  {
   "cell_type": "code",
   "execution_count": 6,
   "metadata": {},
   "outputs": [
    {
     "name": "stdout",
     "output_type": "stream",
     "text": [
      "-----------  ------------------------------------\n",
      "Slice Name   OSPF_Routing_Topology\n",
      "Slice ID     d0e38bda-ac90-403d-9249-2be668963f28\n",
      "Slice State  StableOK\n",
      "Lease End    2022-05-18 19:32:47 +0000\n",
      "-----------  ------------------------------------\n"
     ]
    }
   ],
   "source": [
    "try:\n",
    "    slice = fablib.get_slice(name=slice_name)\n",
    "    print(f\"{slice}\")\n",
    "except Exception as e:\n",
    "    print(f\"Exception: {e}\")"
   ]
  },
  {
   "cell_type": "markdown",
   "metadata": {
    "tags": []
   },
   "source": [
    "### Print the Node List"
   ]
  },
  {
   "cell_type": "code",
   "execution_count": 7,
   "metadata": {},
   "outputs": [
    {
     "name": "stdout",
     "output_type": "stream",
     "text": [
      "ID                                    Name          Site    Host                          Cores    RAM    Disk  Image            Management IP    State    Error\n",
      "------------------------------------  ------------  ------  --------------------------  -------  -----  ------  ---------------  ---------------  -------  -------\n",
      "011ce829-0910-4ec5-9540-cbce2f932792  router1       RENC    renc-w1.fabric-testbed.net        2      8      10  default_rocky_8  152.54.15.39     Active\n",
      "d6ed4a27-3c28-4f79-a466-39b9b6afd522  router2       RENC    renc-w1.fabric-testbed.net        2      8      10  default_rocky_8  152.54.15.38     Active\n",
      "360d7776-342a-4887-86ac-167a797c63c4  router3       RENC    renc-w1.fabric-testbed.net        2      8      10  default_rocky_8  152.54.15.47     Active\n",
      "5cd63b73-cba0-46ec-89d4-919b851edf62  node_RENC1_1  RENC    renc-w1.fabric-testbed.net        2      8      10  default_rocky_8  152.54.15.35     Active\n",
      "81d901fc-1569-4296-923b-3320d9d44d42  node_RENC1_2  RENC    renc-w1.fabric-testbed.net        2      8      10  default_rocky_8  152.54.15.43     Active\n",
      "7e5d1d32-1f45-4ca2-a51b-d2a9ab82cb5f  node_RENC2_1  RENC    renc-w1.fabric-testbed.net        2      8      10  default_rocky_8  152.54.15.48     Active\n",
      "475d1471-7b13-4f27-952c-1e65dddadd89  node_RENC2_2  RENC    renc-w1.fabric-testbed.net        2      8      10  default_rocky_8  152.54.15.40     Active\n",
      "7fb51b27-8d51-4bb6-a03c-69699052e9fc  node_RENC3_1  RENC    renc-w1.fabric-testbed.net        2      8      10  default_rocky_8  152.54.15.46     Active\n",
      "2e2d7b15-54c2-4821-a4f6-3af1bb02efdc  node_RENC3_2  RENC    renc-w1.fabric-testbed.net        2      8      10  default_rocky_8  152.54.15.42     Active\n"
     ]
    }
   ],
   "source": [
    "try:\n",
    "    slice = fablib.get_slice(name=slice_name)\n",
    "\n",
    "    print(f\"{slice.list_nodes()}\")\n",
    "except Exception as e:\n",
    "    print(f\"Exception: {e}\")"
   ]
  },
  {
   "cell_type": "markdown",
   "metadata": {},
   "source": [
    "### Print the Node Details"
   ]
  },
  {
   "cell_type": "code",
   "execution_count": 8,
   "metadata": {},
   "outputs": [
    {
     "name": "stdout",
     "output_type": "stream",
     "text": [
      "-----------------  ----------------------------------------------------------------------------------------------------------------------------\n",
      "ID                 011ce829-0910-4ec5-9540-cbce2f932792\n",
      "Name               router1\n",
      "Cores              2\n",
      "RAM                8\n",
      "Disk               10\n",
      "Image              default_rocky_8\n",
      "Image Type         qcow2\n",
      "Host               renc-w1.fabric-testbed.net\n",
      "Site               RENC\n",
      "Management IP      152.54.15.39\n",
      "Reservation State  Active\n",
      "Error Message\n",
      "SSH Command        ssh -i /Users/pruth/work/fabric_config/slice-private-key -J pruth_0031379841@bastion-1.fabric-testbed.net rocky@152.54.15.39\n",
      "-----------------  ----------------------------------------------------------------------------------------------------------------------------\n",
      "-----------------  ----------------------------------------------------------------------------------------------------------------------------\n",
      "ID                 d6ed4a27-3c28-4f79-a466-39b9b6afd522\n",
      "Name               router2\n",
      "Cores              2\n",
      "RAM                8\n",
      "Disk               10\n",
      "Image              default_rocky_8\n",
      "Image Type         qcow2\n",
      "Host               renc-w1.fabric-testbed.net\n",
      "Site               RENC\n",
      "Management IP      152.54.15.38\n",
      "Reservation State  Active\n",
      "Error Message\n",
      "SSH Command        ssh -i /Users/pruth/work/fabric_config/slice-private-key -J pruth_0031379841@bastion-1.fabric-testbed.net rocky@152.54.15.38\n",
      "-----------------  ----------------------------------------------------------------------------------------------------------------------------\n",
      "-----------------  ----------------------------------------------------------------------------------------------------------------------------\n",
      "ID                 360d7776-342a-4887-86ac-167a797c63c4\n",
      "Name               router3\n",
      "Cores              2\n",
      "RAM                8\n",
      "Disk               10\n",
      "Image              default_rocky_8\n",
      "Image Type         qcow2\n",
      "Host               renc-w1.fabric-testbed.net\n",
      "Site               RENC\n",
      "Management IP      152.54.15.47\n",
      "Reservation State  Active\n",
      "Error Message\n",
      "SSH Command        ssh -i /Users/pruth/work/fabric_config/slice-private-key -J pruth_0031379841@bastion-1.fabric-testbed.net rocky@152.54.15.47\n",
      "-----------------  ----------------------------------------------------------------------------------------------------------------------------\n",
      "-----------------  ----------------------------------------------------------------------------------------------------------------------------\n",
      "ID                 5cd63b73-cba0-46ec-89d4-919b851edf62\n",
      "Name               node_RENC1_1\n",
      "Cores              2\n",
      "RAM                8\n",
      "Disk               10\n",
      "Image              default_rocky_8\n",
      "Image Type         qcow2\n",
      "Host               renc-w1.fabric-testbed.net\n",
      "Site               RENC\n",
      "Management IP      152.54.15.35\n",
      "Reservation State  Active\n",
      "Error Message\n",
      "SSH Command        ssh -i /Users/pruth/work/fabric_config/slice-private-key -J pruth_0031379841@bastion-1.fabric-testbed.net rocky@152.54.15.35\n",
      "-----------------  ----------------------------------------------------------------------------------------------------------------------------\n",
      "-----------------  ----------------------------------------------------------------------------------------------------------------------------\n",
      "ID                 81d901fc-1569-4296-923b-3320d9d44d42\n",
      "Name               node_RENC1_2\n",
      "Cores              2\n",
      "RAM                8\n",
      "Disk               10\n",
      "Image              default_rocky_8\n",
      "Image Type         qcow2\n",
      "Host               renc-w1.fabric-testbed.net\n",
      "Site               RENC\n",
      "Management IP      152.54.15.43\n",
      "Reservation State  Active\n",
      "Error Message\n",
      "SSH Command        ssh -i /Users/pruth/work/fabric_config/slice-private-key -J pruth_0031379841@bastion-1.fabric-testbed.net rocky@152.54.15.43\n",
      "-----------------  ----------------------------------------------------------------------------------------------------------------------------\n",
      "-----------------  ----------------------------------------------------------------------------------------------------------------------------\n",
      "ID                 7e5d1d32-1f45-4ca2-a51b-d2a9ab82cb5f\n",
      "Name               node_RENC2_1\n",
      "Cores              2\n",
      "RAM                8\n",
      "Disk               10\n",
      "Image              default_rocky_8\n",
      "Image Type         qcow2\n",
      "Host               renc-w1.fabric-testbed.net\n",
      "Site               RENC\n",
      "Management IP      152.54.15.48\n",
      "Reservation State  Active\n",
      "Error Message\n",
      "SSH Command        ssh -i /Users/pruth/work/fabric_config/slice-private-key -J pruth_0031379841@bastion-1.fabric-testbed.net rocky@152.54.15.48\n",
      "-----------------  ----------------------------------------------------------------------------------------------------------------------------\n",
      "-----------------  ----------------------------------------------------------------------------------------------------------------------------\n",
      "ID                 475d1471-7b13-4f27-952c-1e65dddadd89\n",
      "Name               node_RENC2_2\n",
      "Cores              2\n",
      "RAM                8\n",
      "Disk               10\n",
      "Image              default_rocky_8\n",
      "Image Type         qcow2\n",
      "Host               renc-w1.fabric-testbed.net\n",
      "Site               RENC\n",
      "Management IP      152.54.15.40\n",
      "Reservation State  Active\n",
      "Error Message\n",
      "SSH Command        ssh -i /Users/pruth/work/fabric_config/slice-private-key -J pruth_0031379841@bastion-1.fabric-testbed.net rocky@152.54.15.40\n",
      "-----------------  ----------------------------------------------------------------------------------------------------------------------------\n",
      "-----------------  ----------------------------------------------------------------------------------------------------------------------------\n",
      "ID                 7fb51b27-8d51-4bb6-a03c-69699052e9fc\n",
      "Name               node_RENC3_1\n",
      "Cores              2\n",
      "RAM                8\n",
      "Disk               10\n",
      "Image              default_rocky_8\n",
      "Image Type         qcow2\n",
      "Host               renc-w1.fabric-testbed.net\n",
      "Site               RENC\n",
      "Management IP      152.54.15.46\n",
      "Reservation State  Active\n",
      "Error Message\n",
      "SSH Command        ssh -i /Users/pruth/work/fabric_config/slice-private-key -J pruth_0031379841@bastion-1.fabric-testbed.net rocky@152.54.15.46\n",
      "-----------------  ----------------------------------------------------------------------------------------------------------------------------\n",
      "-----------------  ----------------------------------------------------------------------------------------------------------------------------\n",
      "ID                 2e2d7b15-54c2-4821-a4f6-3af1bb02efdc\n",
      "Name               node_RENC3_2\n",
      "Cores              2\n",
      "RAM                8\n",
      "Disk               10\n",
      "Image              default_rocky_8\n",
      "Image Type         qcow2\n",
      "Host               renc-w1.fabric-testbed.net\n",
      "Site               RENC\n",
      "Management IP      152.54.15.42\n",
      "Reservation State  Active\n",
      "Error Message\n",
      "SSH Command        ssh -i /Users/pruth/work/fabric_config/slice-private-key -J pruth_0031379841@bastion-1.fabric-testbed.net rocky@152.54.15.42\n",
      "-----------------  ----------------------------------------------------------------------------------------------------------------------------\n"
     ]
    }
   ],
   "source": [
    "try:\n",
    "    slice = fablib.get_slice(name=slice_name)\n",
    "    for node in slice.get_nodes():\n",
    "        print(f\"{node}\")\n",
    "except Exception as e:\n",
    "    print(f\"Exception: {e}\")"
   ]
  },
  {
   "cell_type": "markdown",
   "metadata": {},
   "source": [
    "### Print the Node SSH Commands"
   ]
  },
  {
   "cell_type": "code",
   "execution_count": 9,
   "metadata": {},
   "outputs": [
    {
     "name": "stdout",
     "output_type": "stream",
     "text": [
      "router1: ssh -i /Users/pruth/work/fabric_config/slice-private-key -J pruth_0031379841@bastion-1.fabric-testbed.net rocky@152.54.15.39\n",
      "router2: ssh -i /Users/pruth/work/fabric_config/slice-private-key -J pruth_0031379841@bastion-1.fabric-testbed.net rocky@152.54.15.38\n",
      "router3: ssh -i /Users/pruth/work/fabric_config/slice-private-key -J pruth_0031379841@bastion-1.fabric-testbed.net rocky@152.54.15.47\n",
      "node_RENC1_1: ssh -i /Users/pruth/work/fabric_config/slice-private-key -J pruth_0031379841@bastion-1.fabric-testbed.net rocky@152.54.15.35\n",
      "node_RENC1_2: ssh -i /Users/pruth/work/fabric_config/slice-private-key -J pruth_0031379841@bastion-1.fabric-testbed.net rocky@152.54.15.43\n",
      "node_RENC2_1: ssh -i /Users/pruth/work/fabric_config/slice-private-key -J pruth_0031379841@bastion-1.fabric-testbed.net rocky@152.54.15.48\n",
      "node_RENC2_2: ssh -i /Users/pruth/work/fabric_config/slice-private-key -J pruth_0031379841@bastion-1.fabric-testbed.net rocky@152.54.15.40\n",
      "node_RENC3_1: ssh -i /Users/pruth/work/fabric_config/slice-private-key -J pruth_0031379841@bastion-1.fabric-testbed.net rocky@152.54.15.46\n",
      "node_RENC3_2: ssh -i /Users/pruth/work/fabric_config/slice-private-key -J pruth_0031379841@bastion-1.fabric-testbed.net rocky@152.54.15.42\n"
     ]
    }
   ],
   "source": [
    "try:\n",
    "    slice = fablib.get_slice(name=slice_name)\n",
    "    for node in slice.get_nodes():\n",
    "        print(f\"{node.get_name()}: {node.get_ssh_command()}\")\n",
    "except Exception as e:\n",
    "    print(f\"Exception: {e}\")"
   ]
  },
  {
   "cell_type": "markdown",
   "metadata": {},
   "source": [
    "### Print the Interfaces"
   ]
  },
  {
   "cell_type": "code",
   "execution_count": 10,
   "metadata": {},
   "outputs": [
    {
     "name": "stdout",
     "output_type": "stream",
     "text": [
      "Name                  Node          Network         Bandwidth  VLAN    MAC                Physical OS Interface    OS Interface\n",
      "--------------------  ------------  ------------  -----------  ------  -----------------  -----------------------  --------------\n",
      "router1-nic_local-p1  router1       net_local1              0          02:ac:7c:d7:ea:09  eth2                     eth2\n",
      "router1-nic1-p1       router1       router_link1            0          02:cb:d3:1d:95:c2  eth3                     eth3\n",
      "router1-nic2-p1       router1       router_link3            0          02:a3:d8:3c:ed:76  eth1                     eth1\n",
      "router2-nic2-p1       router2       router_link1            0          06:4f:a5:2c:bd:d8  eth1                     eth1\n",
      "router2-nic_local-p1  router2       net_local2              0          06:83:35:c5:e2:68  eth2                     eth2\n",
      "router2-nic1-p1       router2       router_link2            0          06:a0:3a:ae:3f:98  eth3                     eth3\n",
      "router3-nic1-p1       router3       router_link3            0          06:be:df:a0:39:f7  eth1                     eth1\n",
      "router3-nic2-p1       router3       router_link2            0          06:e7:aa:80:fe:e6  eth2                     eth2\n",
      "router3-nic_local-p1  router3       net_local3              0          0a:88:68:1f:ec:d4  eth3                     eth3\n",
      "node_RENC1_1-nic1-p1  node_RENC1_1  net_local1              0          02:28:8a:fd:8e:31  eth1                     eth1\n",
      "node_RENC1_2-nic1-p1  node_RENC1_2  net_local1              0          02:d1:10:1b:a3:6e  eth1                     eth1\n",
      "node_RENC2_1-nic1-p1  node_RENC2_1  net_local2              0          0e:44:7b:d8:23:c9  eth1                     eth1\n",
      "node_RENC2_2-nic1-p1  node_RENC2_2  net_local2              0          0e:b9:29:cd:21:8e  eth1                     eth1\n",
      "node_RENC3_1-nic1-p1  node_RENC3_1  net_local3              0          12:1a:33:7d:f5:17  eth1                     eth1\n",
      "node_RENC3_2-nic1-p1  node_RENC3_2  net_local3              0          12:04:43:72:91:15  eth1                     eth1\n"
     ]
    }
   ],
   "source": [
    "try:\n",
    "    slice = fablib.get_slice(name=slice_name)\n",
    "    \n",
    "    print(f\"{slice.list_interfaces()}\")\n",
    "except Exception as e:\n",
    "    print(f\"Exception: {e}\")"
   ]
  },
  {
   "cell_type": "markdown",
   "metadata": {},
   "source": [
    "## Step 6: Configure IP Addresses\n",
    "\n",
    "This experiment includes six different networks, each of which need to have a distinct subnet. The following cells show how to pick IPv4 subnets for each network and assign addresses from those subnets to the appropriate interfaces on the nodes and routers.\n",
    "\n",
    "\n",
    "### Pick Subnets\n",
    "\n",
    "Pick the subnet for the routing links. Each routing link connects a pair of routers. Although these links always have exactly two interfaces, we choose a /24 subnet for easy readability. For each link we create a subnet and a list of available IPs for that subnet. These will be used later to configure the router interfaces connected to these links. "
   ]
  },
  {
   "cell_type": "code",
   "execution_count": 11,
   "metadata": {},
   "outputs": [
    {
     "name": "stdout",
     "output_type": "stream",
     "text": [
      "Router Link 1: subnet: 192.168.101.0/24, addr1: 192.168.101.1, addr2: 192.168.101.2\n",
      "Router Link 2: subnet: 192.168.102.0/24, addr1: 192.168.102.1, addr2: 192.168.102.2\n",
      "Router Link 3: subnet: 192.168.103.0/24, addr1: 192.168.103.1, addr2: 192.168.103.2\n"
     ]
    }
   ],
   "source": [
    "from ipaddress import ip_address, IPv4Address, IPv6Address, IPv4Network, IPv6Network\n",
    "\n",
    "try:\n",
    "    # Route Link Subnets\n",
    "    route_link1_subnet = IPv4Network(\"192.168.101.0/24\")\n",
    "    route_link1_available_ips = list(route_link1_subnet)[1:]\n",
    "    route_link1_addr1 = route_link1_available_ips.pop(0)\n",
    "    route_link1_addr2 = route_link1_available_ips.pop(0)\n",
    "    \n",
    "    route_link2_subnet = IPv4Network(\"192.168.102.0/24\")\n",
    "    route_link2_available_ips = list(route_link2_subnet)[1:]\n",
    "    route_link2_addr1 = route_link2_available_ips.pop(0)\n",
    "    route_link2_addr2 = route_link2_available_ips.pop(0)\n",
    "    \n",
    "    route_link3_subnet = IPv4Network(\"192.168.103.0/24\")\n",
    "    route_link3_available_ips = list(route_link3_subnet)[1:]\n",
    "    route_link3_addr1 = route_link3_available_ips.pop(0)\n",
    "    route_link3_addr2 = route_link3_available_ips.pop(0)\n",
    "    \n",
    "    print(f\"Router Link 1: subnet: {route_link1_subnet}, addr1: {route_link1_addr1}, addr2: {route_link1_addr2}\")\n",
    "    print(f\"Router Link 2: subnet: {route_link2_subnet}, addr1: {route_link2_addr1}, addr2: {route_link2_addr2}\")\n",
    "    print(f\"Router Link 3: subnet: {route_link3_subnet}, addr1: {route_link3_addr1}, addr2: {route_link3_addr2}\")\n",
    "\n",
    "except Exception as e:\n",
    "    print(f\"Exception: {e}\")\n",
    "   "
   ]
  },
  {
   "cell_type": "markdown",
   "metadata": {},
   "source": [
    "Pick the subnet for the local networks.  The /24 subnets can support up to 254 locally connected nodes plus the gateway. \n"
   ]
  },
  {
   "cell_type": "code",
   "execution_count": 12,
   "metadata": {},
   "outputs": [
    {
     "name": "stdout",
     "output_type": "stream",
     "text": [
      "Site1: subnet: 192.168.1.0/24, gateway: 192.168.1.1\n",
      "Site2: subnet: 192.168.2.0/24, gateway: 192.168.2.1\n",
      "Site3: subnet: 192.168.3.0/24, gateway: 192.168.3.1\n"
     ]
    }
   ],
   "source": [
    "try:\n",
    "    # Local Subnets\n",
    "    net_local1_subnet = IPv4Network(\"192.168.1.0/24\")\n",
    "    net_local1_available_ips = list(net_local1_subnet)[1:]\n",
    "    net_local1_gateway = net_local1_available_ips.pop(0)\n",
    "        \n",
    "    net_local2_subnet = IPv4Network(\"192.168.2.0/24\")\n",
    "    net_local2_available_ips = list(net_local2_subnet)[1:]\n",
    "    net_local2_gateway = net_local2_available_ips.pop(0)\n",
    "\n",
    "\n",
    "    net_local3_subnet = IPv4Network(\"192.168.3.0/24\")\n",
    "    net_local3_available_ips = list(net_local3_subnet)[1:]\n",
    "    net_local3_gateway = net_local3_available_ips.pop(0)\n",
    "\n",
    "    print(f\"Site1: subnet: {net_local1_subnet}, gateway: {net_local1_gateway}\")\n",
    "    print(f\"Site2: subnet: {net_local2_subnet}, gateway: {net_local2_gateway}\")\n",
    "    print(f\"Site3: subnet: {net_local3_subnet}, gateway: {net_local3_gateway}\")\n",
    "\n",
    "except Exception as e:\n",
    "    print(f\"Exception: {e}\")"
   ]
  },
  {
   "cell_type": "markdown",
   "metadata": {
    "tags": []
   },
   "source": [
    "### Configure Router IPs\n",
    "\n",
    "Add the IPs to the corrisponing interfaces."
   ]
  },
  {
   "cell_type": "code",
   "execution_count": 13,
   "metadata": {},
   "outputs": [],
   "source": [
    "try:\n",
    "    # Config Router1 IPs\n",
    "    router1 = slice.get_node(name=router1_name)  \n",
    "    router1_iface1 = router1.get_interface(network_name=route_link1_name)  \n",
    "    router1_iface2 = router1.get_interface(network_name=route_link3_name)  \n",
    "    router1_local_iface = router1.get_interface(network_name=site1_local_net_name)     \n",
    "    router1_iface1.ip_addr_add(addr=route_link1_addr1, subnet=route_link1_subnet)\n",
    "    router1_iface2.ip_addr_add(addr=route_link3_addr2, subnet=route_link3_subnet)\n",
    "    router1_local_iface.ip_addr_add(addr=net_local1_gateway, subnet=net_local1_subnet)\n",
    "    \n",
    "    # Config Router2 IPs\n",
    "    router2 = slice.get_node(name=router2_name)  \n",
    "    router2_iface1 = router2.get_interface(network_name=route_link2_name)  \n",
    "    router2_iface2 = router2.get_interface(network_name=route_link1_name)  \n",
    "    router2_local_iface = router2.get_interface(network_name=site2_local_net_name)     \n",
    "    router2_iface1.ip_addr_add(addr=route_link2_addr1, subnet=route_link2_subnet)\n",
    "    router2_iface2.ip_addr_add(addr=route_link1_addr2, subnet=route_link1_subnet)\n",
    "    router2_local_iface.ip_addr_add(addr=net_local2_gateway, subnet=net_local2_subnet)\n",
    "    \n",
    "    # Config Router3 IPs\n",
    "    router3 = slice.get_node(name=router3_name) \n",
    "    router3_iface1 = router3.get_interface(network_name=route_link3_name)  \n",
    "    router3_iface2 = router3.get_interface(network_name=route_link2_name)  \n",
    "    router3_local_iface = router3.get_interface(network_name=site3_local_net_name)     \n",
    "    router3_iface1.ip_addr_add(addr=route_link3_addr1, subnet=route_link3_subnet)\n",
    "    router3_iface2.ip_addr_add(addr=route_link2_addr2, subnet=route_link2_subnet)\n",
    "    router3_local_iface.ip_addr_add(addr=net_local3_gateway, subnet=net_local3_subnet)\n",
    "except Exception as e:\n",
    "    print(f\"Exception: {e}\")\n",
    "    traceback.print_exc()\n",
    "    "
   ]
  },
  {
   "cell_type": "markdown",
   "metadata": {},
   "source": [
    "(Optional) Print the network interface configuration for each router."
   ]
  },
  {
   "cell_type": "code",
   "execution_count": 14,
   "metadata": {},
   "outputs": [
    {
     "name": "stdout",
     "output_type": "stream",
     "text": [
      "router1:\n",
      "1: lo: <LOOPBACK,UP,LOWER_UP> mtu 65536 qdisc noqueue state UNKNOWN group default qlen 1000\n",
      "    link/loopback 00:00:00:00:00:00 brd 00:00:00:00:00:00\n",
      "    inet 127.0.0.1/8 scope host lo\n",
      "       valid_lft forever preferred_lft forever\n",
      "    inet6 ::1/128 scope host \n",
      "       valid_lft forever preferred_lft forever\n",
      "2: eth0: <BROADCAST,MULTICAST,UP,LOWER_UP> mtu 9000 qdisc fq_codel state UP group default qlen 1000\n",
      "    link/ether fa:16:3e:83:6b:98 brd ff:ff:ff:ff:ff:ff\n",
      "    inet 10.20.4.237/24 brd 10.20.4.255 scope global dynamic noprefixroute eth0\n",
      "       valid_lft 85635sec preferred_lft 85635sec\n",
      "    inet6 fe80::f816:3eff:fe83:6b98/64 scope link \n",
      "       valid_lft forever preferred_lft forever\n",
      "3: eth1: <BROADCAST,MULTICAST,UP,LOWER_UP> mtu 1500 qdisc mq state UP group default qlen 1000\n",
      "    link/ether 02:a3:d8:3c:ed:76 brd ff:ff:ff:ff:ff:ff\n",
      "    inet 192.168.103.2/24 scope global eth1\n",
      "       valid_lft forever preferred_lft forever\n",
      "4: eth2: <BROADCAST,MULTICAST,UP,LOWER_UP> mtu 1500 qdisc mq state UP group default qlen 1000\n",
      "    link/ether 02:ac:7c:d7:ea:09 brd ff:ff:ff:ff:ff:ff\n",
      "    inet 192.168.1.1/24 scope global eth2\n",
      "       valid_lft forever preferred_lft forever\n",
      "5: eth3: <BROADCAST,MULTICAST,UP,LOWER_UP> mtu 1500 qdisc mq state UP group default qlen 1000\n",
      "    link/ether 02:cb:d3:1d:95:c2 brd ff:ff:ff:ff:ff:ff\n",
      "    inet 192.168.101.1/24 scope global eth3\n",
      "       valid_lft forever preferred_lft forever\n",
      "\n",
      "\n",
      "router2:\n",
      "1: lo: <LOOPBACK,UP,LOWER_UP> mtu 65536 qdisc noqueue state UNKNOWN group default qlen 1000\n",
      "    link/loopback 00:00:00:00:00:00 brd 00:00:00:00:00:00\n",
      "    inet 127.0.0.1/8 scope host lo\n",
      "       valid_lft forever preferred_lft forever\n",
      "    inet6 ::1/128 scope host \n",
      "       valid_lft forever preferred_lft forever\n",
      "2: eth0: <BROADCAST,MULTICAST,UP,LOWER_UP> mtu 9000 qdisc fq_codel state UP group default qlen 1000\n",
      "    link/ether fa:16:3e:b4:04:5b brd ff:ff:ff:ff:ff:ff\n",
      "    inet 10.20.4.177/24 brd 10.20.4.255 scope global dynamic noprefixroute eth0\n",
      "       valid_lft 85632sec preferred_lft 85632sec\n",
      "    inet6 fe80::f816:3eff:feb4:45b/64 scope link \n",
      "       valid_lft forever preferred_lft forever\n",
      "3: eth1: <BROADCAST,MULTICAST,UP,LOWER_UP> mtu 1500 qdisc mq state UP group default qlen 1000\n",
      "    link/ether 06:4f:a5:2c:bd:d8 brd ff:ff:ff:ff:ff:ff\n",
      "    inet 192.168.101.2/24 scope global eth1\n",
      "       valid_lft forever preferred_lft forever\n",
      "4: eth2: <BROADCAST,MULTICAST,UP,LOWER_UP> mtu 1500 qdisc mq state UP group default qlen 1000\n",
      "    link/ether 06:83:35:c5:e2:68 brd ff:ff:ff:ff:ff:ff\n",
      "    inet 192.168.2.1/24 scope global eth2\n",
      "       valid_lft forever preferred_lft forever\n",
      "5: eth3: <BROADCAST,MULTICAST,UP,LOWER_UP> mtu 1500 qdisc mq state UP group default qlen 1000\n",
      "    link/ether 06:a0:3a:ae:3f:98 brd ff:ff:ff:ff:ff:ff\n",
      "    inet 192.168.102.1/24 scope global eth3\n",
      "       valid_lft forever preferred_lft forever\n",
      "\n",
      "\n",
      "router3:\n",
      "1: lo: <LOOPBACK,UP,LOWER_UP> mtu 65536 qdisc noqueue state UNKNOWN group default qlen 1000\n",
      "    link/loopback 00:00:00:00:00:00 brd 00:00:00:00:00:00\n",
      "    inet 127.0.0.1/8 scope host lo\n",
      "       valid_lft forever preferred_lft forever\n",
      "    inet6 ::1/128 scope host \n",
      "       valid_lft forever preferred_lft forever\n",
      "2: eth0: <BROADCAST,MULTICAST,UP,LOWER_UP> mtu 9000 qdisc fq_codel state UP group default qlen 1000\n",
      "    link/ether fa:16:3e:4d:bf:ad brd ff:ff:ff:ff:ff:ff\n",
      "    inet 10.20.4.242/24 brd 10.20.4.255 scope global dynamic noprefixroute eth0\n",
      "       valid_lft 85632sec preferred_lft 85632sec\n",
      "    inet6 fe80::f816:3eff:fe4d:bfad/64 scope link \n",
      "       valid_lft forever preferred_lft forever\n",
      "3: eth1: <BROADCAST,MULTICAST,UP,LOWER_UP> mtu 1500 qdisc mq state UP group default qlen 1000\n",
      "    link/ether 06:be:df:a0:39:f7 brd ff:ff:ff:ff:ff:ff\n",
      "    inet 192.168.103.1/24 scope global eth1\n",
      "       valid_lft forever preferred_lft forever\n",
      "4: eth2: <BROADCAST,MULTICAST,UP,LOWER_UP> mtu 1500 qdisc mq state UP group default qlen 1000\n",
      "    link/ether 06:e7:aa:80:fe:e6 brd ff:ff:ff:ff:ff:ff\n",
      "    inet 192.168.102.2/24 scope global eth2\n",
      "       valid_lft forever preferred_lft forever\n",
      "5: eth3: <BROADCAST,MULTICAST,UP,LOWER_UP> mtu 1500 qdisc mq state UP group default qlen 1000\n",
      "    link/ether 0a:88:68:1f:ec:d4 brd ff:ff:ff:ff:ff:ff\n",
      "    inet 192.168.3.1/24 scope global eth3\n",
      "       valid_lft forever preferred_lft forever\n",
      "\n",
      "\n"
     ]
    }
   ],
   "source": [
    "try:\n",
    "    for router in [router1, router2, router3]:\n",
    "        print(f'{router.get_name()}:')\n",
    "        stdout, stderr = router.execute(f'ip addr list')\n",
    "        print (stdout)\n",
    "        print (stderr)\n",
    "except Exception as e:\n",
    "    print(f\"Exception: {e}\")\n",
    "    traceback.print_exc()"
   ]
  },
  {
   "cell_type": "markdown",
   "metadata": {},
   "source": [
    "### Configure Local Node IPs\n",
    "\n",
    "Configure the local nodes with addresses from the local subnet available address list. Add routes to the other local subnets via the local gateway.  \n",
    "\n",
    "Add the router link subnets if you want to access the routers (i.e. if you want to `ping` the routers or find paths with `tracepath`)\n",
    "\n",
    "Collect a list of local dataplane IPs to target for testing"
   ]
  },
  {
   "cell_type": "code",
   "execution_count": 15,
   "metadata": {},
   "outputs": [],
   "source": [
    "local_dataplane_ips = {}"
   ]
  },
  {
   "cell_type": "code",
   "execution_count": 16,
   "metadata": {},
   "outputs": [
    {
     "name": "stdout",
     "output_type": "stream",
     "text": [
      "Node node_RENC1_1 dataplane IP: 192.168.1.2\n",
      "3: eth1: <BROADCAST,MULTICAST,UP,LOWER_UP> mtu 1500 qdisc mq state UP group default qlen 1000\n",
      "    link/ether 02:28:8a:fd:8e:31 brd ff:ff:ff:ff:ff:ff\n",
      "    inet 192.168.1.2/24 scope global eth1\n",
      "       valid_lft forever preferred_lft forever\n",
      "\n",
      "Node node_RENC1_2 dataplane IP: 192.168.1.3\n",
      "3: eth1: <BROADCAST,MULTICAST,UP,LOWER_UP> mtu 1500 qdisc mq state UP group default qlen 1000\n",
      "    link/ether 02:d1:10:1b:a3:6e brd ff:ff:ff:ff:ff:ff\n",
      "    inet 192.168.1.3/24 scope global eth1\n",
      "       valid_lft forever preferred_lft forever\n",
      "\n"
     ]
    }
   ],
   "source": [
    "try:    \n",
    "    #Create Site1 Nodes\n",
    "    for i in range(site_node_count):\n",
    "        name=f'{node_base_name}_{site1}1_{i+1}'\n",
    "        node = slice.get_node(name=name)\n",
    "        node_addr = net_local1_available_ips.pop(0)\n",
    "        node_iface = node.get_interface(network_name=site1_local_net_name)  \n",
    "        node_iface.ip_addr_add(addr=node_addr, subnet=net_local1_subnet)\n",
    "        \n",
    "        #Add routes to other local subnets\n",
    "        node.ip_route_add(subnet=net_local2_subnet, gateway=net_local1_gateway)\n",
    "        node.ip_route_add(subnet=net_local3_subnet, gateway=net_local1_gateway)\n",
    "        \n",
    "        #Add routes to router subnets (used for tracepath and pinging router interfaces)\n",
    "        node.ip_route_add(subnet=route_link1_subnet, gateway=net_local1_gateway)\n",
    "        node.ip_route_add(subnet=route_link2_subnet, gateway=net_local1_gateway)\n",
    "        node.ip_route_add(subnet=route_link3_subnet, gateway=net_local1_gateway)\n",
    "        \n",
    "        #Collect dataplane IP for testing\n",
    "        local_dataplane_ips[name] = node_addr\n",
    "        \n",
    "        print(f\"Node {name} dataplane IP: {node_addr}\")    \n",
    "        stdout, stderr = node.execute(f'ip addr show {node_iface.get_os_interface()}')\n",
    "        print (stdout)\n",
    "except Exception as e:\n",
    "    print(f\"Exception: {e}\")\n",
    "    "
   ]
  },
  {
   "cell_type": "code",
   "execution_count": 17,
   "metadata": {},
   "outputs": [
    {
     "name": "stdout",
     "output_type": "stream",
     "text": [
      "Node node_RENC2_1 dataplane IP: 192.168.2.2\n",
      "1: lo: <LOOPBACK,UP,LOWER_UP> mtu 65536 qdisc noqueue state UNKNOWN group default qlen 1000\n",
      "    link/loopback 00:00:00:00:00:00 brd 00:00:00:00:00:00\n",
      "    inet 127.0.0.1/8 scope host lo\n",
      "       valid_lft forever preferred_lft forever\n",
      "    inet6 ::1/128 scope host \n",
      "       valid_lft forever preferred_lft forever\n",
      "2: eth0: <BROADCAST,MULTICAST,UP,LOWER_UP> mtu 9000 qdisc fq_codel state UP group default qlen 1000\n",
      "    link/ether fa:16:3e:a2:3f:1c brd ff:ff:ff:ff:ff:ff\n",
      "    inet 10.20.4.99/24 brd 10.20.4.255 scope global dynamic noprefixroute eth0\n",
      "       valid_lft 85605sec preferred_lft 85605sec\n",
      "    inet6 fe80::f816:3eff:fea2:3f1c/64 scope link \n",
      "       valid_lft forever preferred_lft forever\n",
      "3: eth1: <BROADCAST,MULTICAST,UP,LOWER_UP> mtu 1500 qdisc mq state UP group default qlen 1000\n",
      "    link/ether 0e:44:7b:d8:23:c9 brd ff:ff:ff:ff:ff:ff\n",
      "    inet 192.168.2.2/24 scope global eth1\n",
      "       valid_lft forever preferred_lft forever\n",
      "\n",
      "Exception: name 'ndoe' is not defined\n"
     ]
    }
   ],
   "source": [
    "try:\n",
    "    #Create Site2 Nodes\n",
    "    for i in range(site_node_count):\n",
    "        name=f'{node_base_name}_{site2}2_{i+1}'\n",
    "        node = slice.get_node(name=name)\n",
    "        node_addr = net_local2_available_ips.pop(0)\n",
    "        node_iface = node.get_interface(network_name=site2_local_net_name)  \n",
    "        node_iface.ip_addr_add(addr=node_addr, subnet=net_local2_subnet)\n",
    "        \n",
    "        #Add routes to other local subnets\n",
    "        node.ip_route_add(subnet=net_local1_subnet, gateway=net_local2_gateway)\n",
    "        node.ip_route_add(subnet=net_local3_subnet, gateway=net_local2_gateway)\n",
    "        \n",
    "         #Add routes to router subnets (used for tracepath and pinging router interfaces)\n",
    "        node.ip_route_add(subnet=route_link1_subnet, gateway=net_local2_gateway)\n",
    "        node.ip_route_add(subnet=route_link2_subnet, gateway=net_local2_gateway)\n",
    "        node.ip_route_add(subnet=route_link3_subnet, gateway=net_local2_gateway)\n",
    "        \n",
    "        #Collect dataplane IP for testing\n",
    "        local_dataplane_ips[name] = node_addr\n",
    "\n",
    "        print(f\"Node {name} dataplane IP: {node_addr}\")\n",
    "        stdout, stderr = node.execute(f'ip addr list')\n",
    "        print (stdout)\n",
    "        \n",
    "        stdout, stderr = ndoe.execute(f'ip addr show {node_iface.get_os_interface()}')\n",
    "        print (stdout)\n",
    "except Exception as e:\n",
    "    print(f\"Exception: {e}\")"
   ]
  },
  {
   "cell_type": "code",
   "execution_count": 18,
   "metadata": {},
   "outputs": [
    {
     "name": "stdout",
     "output_type": "stream",
     "text": [
      "Node node_RENC3_1 dataplane IP: 192.168.3.2\n",
      "3: eth1: <BROADCAST,MULTICAST,UP,LOWER_UP> mtu 1500 qdisc mq state UP group default qlen 1000\n",
      "    link/ether 12:1a:33:7d:f5:17 brd ff:ff:ff:ff:ff:ff\n",
      "    inet 192.168.3.2/24 scope global eth1\n",
      "       valid_lft forever preferred_lft forever\n",
      "\n",
      "Node node_RENC3_2 dataplane IP: 192.168.3.3\n",
      "3: eth1: <BROADCAST,MULTICAST,UP,LOWER_UP> mtu 1500 qdisc mq state UP group default qlen 1000\n",
      "    link/ether 12:04:43:72:91:15 brd ff:ff:ff:ff:ff:ff\n",
      "    inet 192.168.3.3/24 scope global eth1\n",
      "       valid_lft forever preferred_lft forever\n",
      "\n"
     ]
    }
   ],
   "source": [
    "try:\n",
    "    #Create Site3 Nodes\n",
    "    for i in range(site_node_count):\n",
    "        name=f'{node_base_name}_{site3}3_{i+1}'\n",
    "        node = slice.get_node(name=name)\n",
    "        node_addr = net_local3_available_ips.pop(0)\n",
    "        node_iface = node.get_interface(network_name=site3_local_net_name)  \n",
    "        node_iface.ip_addr_add(addr=node_addr, subnet=net_local3_subnet)\n",
    "        \n",
    "        #Add routes to other local subnets\n",
    "        node.ip_route_add(subnet=net_local1_subnet, gateway=net_local3_gateway)\n",
    "        node.ip_route_add(subnet=net_local2_subnet, gateway=net_local3_gateway)\n",
    "        \n",
    "        #Add routes to router subnets (used for tracepath and pinging router interfaces)\n",
    "        node.ip_route_add(subnet=route_link1_subnet, gateway=net_local3_gateway)\n",
    "        node.ip_route_add(subnet=route_link2_subnet, gateway=net_local3_gateway)\n",
    "        node.ip_route_add(subnet=route_link3_subnet, gateway=net_local3_gateway)\n",
    "        \n",
    "        #Collect dataplane IP for testing\n",
    "        local_dataplane_ips[name] = node_addr\n",
    "        \n",
    "        print(f\"Node {name} dataplane IP: {node_addr}\")\n",
    "        stdout, stderr = node.execute(f'ip addr show {node_iface.get_os_interface()}')\n",
    "        print (stdout)\n",
    "    \n",
    "except Exception as e:\n",
    "    print(f\"Exception: {e}\")"
   ]
  },
  {
   "cell_type": "markdown",
   "metadata": {},
   "source": [
    "##  Step 7: Configure FRRouting on each router. \n",
    "\n",
    "This complex configuration is handled through a bash script `frr_config.sh` that resides in the folder containing this notebook. The script is executed by, first, uploading the script with the `node.upload_file()` FABLib method.  Then the script is executed using the `node.execute()` FABLib method.  Note that the script passes the OS interfaces names and configured IPs as arguments from the notebook to the script.  \n",
    "\n",
    "These scripts take a while to run. You may wish to use a separate terminal window to ssh to the routers and tail the log file to watch the progess with: `tail -F frr_config.log`."
   ]
  },
  {
   "cell_type": "code",
   "execution_count": 19,
   "metadata": {},
   "outputs": [
    {
     "name": "stdout",
     "output_type": "stream",
     "text": [
      "Config Router1\n",
      "Config Router2\n",
      "Config Router3\n",
      "Router1:   \n",
      "Router2:   \n",
      "Router3:   \n"
     ]
    }
   ],
   "source": [
    "try: \n",
    "    # Config Router1\n",
    "    print('Config Router1')\n",
    "    router1.upload_file('./frr_config.sh','frr_config.sh')\n",
    "    router1_config_thread = router1.execute_thread_start(f'chmod +x frr_config.sh && sudo ./frr_config.sh {router1_iface1.get_os_interface()} {route_link1_addr1} {router1_iface2.get_os_interface()} {route_link3_addr2} {router1_local_iface.get_os_interface()} {net_local1_gateway} 192.168.0.0')\n",
    "\n",
    "    # Config Router2\n",
    "    print('Config Router2')\n",
    "    router2.upload_file('./frr_config.sh','frr_config.sh')   \n",
    "    router2_config_thread = router2.execute_thread_start(f'chmod +x frr_config.sh && sudo ./frr_config.sh {router2_iface1.get_os_interface()} {route_link2_addr1} {router2_iface2.get_os_interface()} {route_link1_addr2} {router2_local_iface.get_os_interface()} {net_local2_gateway} 192.168.0.0')\n",
    "    \n",
    "    # Config Router3\n",
    "    print('Config Router3')\n",
    "    router3.upload_file('./frr_config.sh','frr_config.sh')\n",
    "    router3_config_thread = router3.execute_thread_start(f'chmod +x frr_config.sh && sudo ./frr_config.sh {router3_iface1.get_os_interface()} {route_link3_addr1} {router3_iface2.get_os_interface()} {route_link2_addr2} {router3_local_iface.get_os_interface()} {net_local3_gateway} 192.168.0.0')\n",
    "\n",
    "    #Join Threads\n",
    "    stdout, stderr = router1.execute_thread_join(router1_config_thread)\n",
    "    print(f\"Router1: \", stdout, stderr)\n",
    "    stdout, stderr = router2.execute_thread_join(router2_config_thread)\n",
    "    print(f\"Router2: \", stdout, stderr)\n",
    "    stdout, stderr = router3.execute_thread_join(router3_config_thread)\n",
    "    print(f\"Router3: \", stdout, stderr)\n",
    "\n",
    "except Exception as e:\n",
    "    print(f\"Exception: {e}\")\n",
    "    traceback.print_exc()            \n",
    "     "
   ]
  },
  {
   "cell_type": "markdown",
   "metadata": {},
   "source": [
    "## Step 8: Run the Experiemnt\n",
    "\n",
    "We will just test `ping` RTT and look at `tracepath`. Your experiment should be more interesting!\n",
    "\n",
    "Notice that if you run this quickly and repeatedly run this test against a specific target, you may see changes to the tracepath.  Initially the ping may even fail.  Why do you think this is happening?\n"
   ]
  },
  {
   "cell_type": "code",
   "execution_count": null,
   "metadata": {},
   "outputs": [],
   "source": [
    "try:\n",
    "    source_node_name =  f'{node_base_name}_{site1}1_1'\n",
    "   \n",
    "    source_node = slice.get_node(name=source_node_name)\n",
    "    for node_name,target_ip in local_dataplane_ips.items():\n",
    "        print(f\"Testing target node: {node_name}, target IP: {target_ip}\")\n",
    "    \n",
    "        stdout, stderr = node.execute(f'ping -c 5 {target_ip}')\n",
    "        print (stdout, stderr)\n",
    "\n",
    "        stdout, stderr = node.execute(f'tracepath {target_ip}')\n",
    "        print (stdout, stderr)\n",
    "    \n",
    "except Exception as e:\n",
    "    print(f\"Exception: {e}\")"
   ]
  },
  {
   "cell_type": "markdown",
   "metadata": {},
   "source": [
    "## Step 9: Delete the Slice\n",
    "\n",
    "Please delete your slice when you are done with your experiment."
   ]
  },
  {
   "cell_type": "code",
   "execution_count": 20,
   "metadata": {},
   "outputs": [],
   "source": [
    "try:\n",
    "    slice = fablib.get_slice(name=slice_name)\n",
    "    slice.delete()\n",
    "except Exception as e:\n",
    "    print(f\"Exception: {e}\")"
   ]
  },
  {
   "cell_type": "code",
   "execution_count": null,
   "metadata": {},
   "outputs": [],
   "source": []
  }
 ],
 "metadata": {
  "kernelspec": {
   "display_name": "Python 3 (ipykernel)",
   "language": "python",
   "name": "python3"
  },
  "language_info": {
   "codemirror_mode": {
    "name": "ipython",
    "version": 3
   },
   "file_extension": ".py",
   "mimetype": "text/x-python",
   "name": "python",
   "nbconvert_exporter": "python",
   "pygments_lexer": "ipython3",
   "version": "3.9.2"
  }
 },
 "nbformat": 4,
 "nbformat_minor": 4
}
