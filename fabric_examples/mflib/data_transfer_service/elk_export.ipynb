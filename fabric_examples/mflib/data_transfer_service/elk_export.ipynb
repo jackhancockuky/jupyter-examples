{
 "cells": [
  {
   "cell_type": "markdown",
   "id": "46df9758-1777-4ca8-bfad-32996b2520a7",
   "metadata": {
    "tags": []
   },
   "source": [
    "# Generate ELK Snapshot on Meas Node\n",
    "### This notebook creates an ELK snapshot on the measurement node and helps you copy it to a backup destinaton\n",
    "\n",
    "### Prerequisites\n",
    "- Slice needs to be created: [Prepare a Slice](../prepare_a_slice.ipynb)\n",
    "- Slice needs to be instrumentized: [Instrumentize a Slice](../instrumentize_a_slice.ipynb)\n",
    "---"
   ]
  },
  {
   "cell_type": "markdown",
   "id": "45b7b039-a570-4ffd-8045-c626912fb90d",
   "metadata": {
    "tags": []
   },
   "source": [
    "## Setup"
   ]
  },
  {
   "cell_type": "markdown",
   "id": "ec773cba-0e3a-484b-987e-db992c8567da",
   "metadata": {},
   "source": [
    "#### Set Slice Name"
   ]
  },
  {
   "cell_type": "code",
   "execution_count": null,
   "id": "e069985d-e6cd-47cf-95ee-a9459d4bb3b1",
   "metadata": {},
   "outputs": [],
   "source": [
    "slice_name = \"MyMonitoredSlice\""
   ]
  },
  {
   "cell_type": "markdown",
   "id": "49543c90-a00b-441c-b66c-2b3625db051f",
   "metadata": {},
   "source": [
    "#### Create MFLib and ELK export service objects"
   ]
  },
  {
   "cell_type": "code",
   "execution_count": null,
   "id": "8d1d2957-048d-452e-b5b3-a9d694d25acd",
   "metadata": {
    "tags": []
   },
   "outputs": [],
   "source": [
    "from mflib.data_transfer import ElkExporter\n",
    "elk_tools = ElkExporter(slice_name=slice_name)"
   ]
  },
  {
   "cell_type": "markdown",
   "id": "f0ad009d-6981-49c4-8609-4721aa7dacd8",
   "metadata": {},
   "source": [
    "#### Display the current Kibana Tunnel"
   ]
  },
  {
   "cell_type": "code",
   "execution_count": null,
   "id": "895be641-d225-4d04-b06e-c74d9e7f81a7",
   "metadata": {},
   "outputs": [],
   "source": [
    "print(elk_tools.kibana_tunnel)\n",
    "\n",
    "print(f\"Browse to http://localhost:{elk_tools.kibana_tunnel_local_port}/\")"
   ]
  },
  {
   "cell_type": "markdown",
   "id": "fb0b8fcd-9ed0-449a-898c-a755f72d1222",
   "metadata": {},
   "source": [
    "---\n",
    "## Create an ELK Snapshot"
   ]
  },
  {
   "cell_type": "markdown",
   "id": "5496e0c8-23e0-4849-99dd-e77f7d80e97a",
   "metadata": {},
   "source": [
    "#### Choose name for the repository and snapshots you will create"
   ]
  },
  {
   "cell_type": "code",
   "execution_count": null,
   "id": "b6b56faa-1f4d-4b18-8b62-d45e7d79c51d",
   "metadata": {},
   "outputs": [],
   "source": [
    "repository_name= \"backup_repository\"\n",
    "snapshot_name =  \"snapshot_test\""
   ]
  },
  {
   "cell_type": "markdown",
   "id": "3898ec28-9b1d-48ec-b8d6-8e5ffa5f28fe",
   "metadata": {},
   "source": [
    "#### Create a snapshot repository"
   ]
  },
  {
   "cell_type": "code",
   "execution_count": null,
   "id": "823b1b84-4c72-46e8-b6c4-f1579a0271c4",
   "metadata": {},
   "outputs": [],
   "source": [
    "elk_tools.create_repository(repository_name=repository_name)"
   ]
  },
  {
   "cell_type": "markdown",
   "id": "ebdaf537-cb7f-40e6-90d3-cbfbfe544a4e",
   "metadata": {},
   "source": [
    "#### View indices"
   ]
  },
  {
   "cell_type": "code",
   "execution_count": null,
   "id": "3d143a65-1d81-4d1c-a3d9-ce34dccfae95",
   "metadata": {},
   "outputs": [],
   "source": [
    "elk_tools.view_indices()"
   ]
  },
  {
   "cell_type": "markdown",
   "id": "abc05de9-0533-43c1-9e6d-e4ee7a253f58",
   "metadata": {},
   "source": [
    "#### Create snapshot"
   ]
  },
  {
   "cell_type": "code",
   "execution_count": null,
   "id": "6a85183b-8dcb-4a56-8dcb-3976ddd9b9a1",
   "metadata": {},
   "outputs": [],
   "source": [
    "elk_tools.create_snapshot(repository_name=repository_name, snapshot_name=snapshot_name)"
   ]
  },
  {
   "cell_type": "markdown",
   "id": "c4a82d22-cd02-441e-bdaa-f876a6b0699e",
   "metadata": {
    "tags": []
   },
   "source": [
    "---\n",
    "## Export snapshot to Measurement node as tar file"
   ]
  },
  {
   "cell_type": "code",
   "execution_count": null,
   "id": "8f5c7205-6169-4402-bc8f-090ad720dbd9",
   "metadata": {},
   "outputs": [],
   "source": [
    "elk_tools.export_snapshot_tar(snapshot_name=snapshot_name)"
   ]
  },
  {
   "cell_type": "markdown",
   "id": "309d437c-ca49-4aac-aa5d-59406e91388c",
   "metadata": {},
   "source": [
    "---\n",
    "## Copy snapshot off Measurement node"
   ]
  },
  {
   "cell_type": "markdown",
   "id": "45f3f453-1993-4cdd-86fe-73e9fe70cd41",
   "metadata": {
    "tags": []
   },
   "source": [
    "### Option 1: Copy to a local device with SCP"
   ]
  },
  {
   "cell_type": "markdown",
   "id": "9bbdb132-3029-41d1-ad94-f3dddb063af2",
   "metadata": {
    "jp-MarkdownHeadingCollapsed": true,
    "tags": []
   },
   "source": [
    "##### Prerequisite\n",
    "- For this step, you need your local ssh environment configured ([Configure Environment](./configure.ipynb))\n",
    "\n",
    "##### Example SCP (Secure Copy) command to download snapshot file from VM\n",
    "\n",
    "scp -F ~/.ssh/fabric/ssh_config -i ~/.ssh/fabric/slice_key ubuntu@\\[2620:0:c80:1001:f816:3eff:fe81:80cc]:/home/mfuser/services/elk/files/snapshots/snapshot.tar ."
   ]
  },
  {
   "cell_type": "markdown",
   "id": "8f5ba361-c0cf-49ab-a744-7074e4266fef",
   "metadata": {
    "tags": []
   },
   "source": [
    "##### Fill in the variables below then run to generate your custom SCP command"
   ]
  },
  {
   "cell_type": "code",
   "execution_count": null,
   "id": "0f621158-9396-4fcb-80a3-9247bbe55113",
   "metadata": {},
   "outputs": [],
   "source": [
    "# Path of directory to place your snapshot file\n",
    "directory_path = \"/your/path/here\"\n",
    "\n",
    "print(elk_tools.generate_scp_download_command(snapshot_name, directory_path))"
   ]
  },
  {
   "cell_type": "markdown",
   "id": "01e6f59c-7453-467e-8741-321715c779ac",
   "metadata": {},
   "source": [
    "##### More info\n",
    "Fabric guide for transferring data directly from VM to local machine:\n",
    "https://learn.fabric-testbed.net/knowledge-base/transferring-data-to-and-from-your-vms/"
   ]
  },
  {
   "cell_type": "markdown",
   "id": "51f100b2-50c0-4925-8940-22e697c5d67a",
   "metadata": {
    "tags": []
   },
   "source": [
    "### Option 2: Copy to Jupyter Hub server"
   ]
  },
  {
   "cell_type": "markdown",
   "id": "98317e4d-ce87-4e80-aa61-d156f5a3b64a",
   "metadata": {},
   "source": [
    "##### **CAUTION** The JH servers have very limited storage. If you are doing this method, make sure you do not download large or multiple snapshot files.\n",
    "##### Fill in the variables below then run to download file to JH server"
   ]
  },
  {
   "cell_type": "code",
   "execution_count": null,
   "id": "6fec7b92-10c1-43ef-97af-4a997f68f187",
   "metadata": {},
   "outputs": [],
   "source": [
    "# Snapshot will be available in the data_transfer_service/snapshots directory\n",
    "meas_node.download_file(f\"./snapshots/{snapshot_name}.tar\", f\"/home/mfuser/services/elk/files/snapshots/{snapshot_name}.tar\")"
   ]
  },
  {
   "cell_type": "markdown",
   "id": "d4ee7c4f-2bc9-4244-83b5-eb6c720d20e2",
   "metadata": {},
   "source": [
    "---\n",
    "\n",
    "# Export complete\n",
    "\n",
    "For import instructions, refer to [Elk Import](./elk_import.ipynb)"
   ]
  }
 ],
 "metadata": {
  "kernelspec": {
   "display_name": "Python 3 (ipykernel)",
   "language": "python",
   "name": "python3"
  },
  "language_info": {
   "codemirror_mode": {
    "name": "ipython",
    "version": 3
   },
   "file_extension": ".py",
   "mimetype": "text/x-python",
   "name": "python",
   "nbconvert_exporter": "python",
   "pygments_lexer": "ipython3",
   "version": "3.10.6"
  }
 },
 "nbformat": 4,
 "nbformat_minor": 5
}
