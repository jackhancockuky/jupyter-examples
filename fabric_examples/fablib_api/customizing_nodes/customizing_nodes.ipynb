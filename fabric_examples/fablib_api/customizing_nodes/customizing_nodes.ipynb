{
 "cells": [
  {
   "cell_type": "markdown",
   "metadata": {
    "tags": []
   },
   "source": [
    "#  Customizing Nodes\n",
    "\n",
    "The [Hello, FABRIC](./hello_fabric.ipynb) notebook demonstrates how to create a simple node on a random FABRIC site with default characteristics.   Most experiments require more control over the placement and configuration of your nodes.  \n",
    "\n",
    "This notebook, will show how to set the following properties on a node:\n",
    "\n",
    "- Site: Choose the FABRIC site where your node will be hosted.\n",
    "- Host: Choose the specific worker node that the VM will run on.\n",
    "- Cores: Number of cores, amount of RAN\n",
    "- RAM: Amount of RAM\n",
    "- Disk: Amount of local disk space\n",
    "- VM Image: The operating system image used for the VM\n"
   ]
  },
  {
   "cell_type": "markdown",
   "metadata": {
    "tags": []
   },
   "source": [
    "## Setup the Experiment\n",
    "\n",
    "#### Import the FABlib Library"
   ]
  },
  {
   "cell_type": "code",
   "execution_count": null,
   "metadata": {
    "tags": []
   },
   "outputs": [],
   "source": [
    "from fabrictestbed_extensions.fablib.fablib import FablibManager as fablib_manager\n",
    "\n",
    "fablib = fablib_manager()\n",
    "                     \n",
    "fablib.show_config();"
   ]
  },
  {
   "cell_type": "markdown",
   "metadata": {
    "tags": []
   },
   "source": [
    "## Create the Experiment Slices\n",
    "\n",
    "Create the slice and set the specific node attributes.  Note that the cores, ram, and disk are only *hints*.  The actual values will be the closest instance type that is larger than the chosen values.\n",
    "\n",
    "Amounts of cores, ram, and disk will be rounded up to the closest instance type. These amounts should be considered minimums rather than specific requirements. You may find [this article](https://learn.fabric-testbed.net/knowledge-base/how-vms-are-sized-in-fabric/) useful in explaining how VM size allocation works in FABRIC.\n",
    "\n",
    "Note that your project must have `VM.NoLimit` permission set in order to allocate VMs larger than 2 cores, 10G of RAM and 10G of disk. Otherwise you will receive an error of the type `PDP Authorization check failed - Policy Violation: Your project is lacking VM.NoLimitCPU or VM.NoLimit tag to provision VM with more than 2 cores.`"
   ]
  },
  {
   "cell_type": "code",
   "execution_count": null,
   "metadata": {},
   "outputs": [],
   "source": [
    "slice_name = 'MySlice1'\n",
    "\n",
    "#Create Slice\n",
    "slice = fablib.new_slice(slice_name)\n",
    "\n",
    "# Add node\n",
    "node = slice.add_node(name='Node1', \n",
    "                      site='MAX',\n",
    "                      cores=4, \n",
    "                      ram=16, \n",
    "                      disk=100, \n",
    "                      image='default_ubuntu_20')\n",
    "\n",
    "#Submit Slice Request\n",
    "slice.submit()"
   ]
  },
  {
   "cell_type": "markdown",
   "metadata": {},
   "source": [
    "Alternatively, you can specify a specific instance type by name. A full list of available instance types is [here](https://github.com/fabric-testbed/InformationModel/blob/master/fim/slivers/data/instance_sizes.json)."
   ]
  },
  {
   "cell_type": "code",
   "execution_count": null,
   "metadata": {},
   "outputs": [],
   "source": [
    "available_images = fablib.get_image_names()\n",
    "\n",
    "print(f'Available images are: {available_images}')\n",
    "\n",
    "slice_name = 'MySlice2'\n",
    "\n",
    "#Create Slice\n",
    "slice = fablib.new_slice(slice_name)\n",
    "\n",
    "# Add node\n",
    "node = slice.add_node(name='Node1', \n",
    "                      site='MAX',\n",
    "                      instance_type='fabric.c8.m32.d100',\n",
    "                      image='default_ubuntu_20')\n",
    "\n",
    "#Submit Slice Request\n",
    "slice.submit()\n"
   ]
  },
  {
   "cell_type": "markdown",
   "metadata": {},
   "source": [
    "In some cases you may need to allocate your VM on a specific worker node in a given site. All worker nodes are named `<site name>-w<worker index>.fabric-testbed.net`. \n",
    "\n",
    "Note however that FABRIC workers have different assortments of devices and certain combinations of PCI devices/components may not be possible on a given worker node in which case your slice may fail. In general this feature should not be needed often. "
   ]
  },
  {
   "cell_type": "code",
   "execution_count": null,
   "metadata": {},
   "outputs": [],
   "source": [
    "slice_name = 'MySlice3'\n",
    "\n",
    "#Create Slice\n",
    "slice = fablib.new_slice(slice_name)\n",
    "\n",
    "# Add node\n",
    "node = slice.add_node(name='Node1', \n",
    "                      site='MAX',\n",
    "                      # use the host parameter to force a specific worker\n",
    "                      host='max-w2.fabric-testbed.net',\n",
    "                      cores=4, \n",
    "                      ram=16, \n",
    "                      disk=100, \n",
    "                      image='default_ubuntu_20')\n",
    "\n",
    "#Submit Slice Request\n",
    "slice.submit()"
   ]
  },
  {
   "cell_type": "markdown",
   "metadata": {},
   "source": [
    "Note that the 'Host' column in the Nodes table now shows `max-w2.fabric-testbed.net` indicating the VM is on the requested worker node."
   ]
  },
  {
   "cell_type": "markdown",
   "metadata": {},
   "source": [
    "## Delete the slices"
   ]
  },
  {
   "cell_type": "code",
   "execution_count": null,
   "metadata": {
    "tags": []
   },
   "outputs": [],
   "source": [
    "for slice_index in range(1,4):\n",
    "    print(f'Deleting slice MySlice{slice_index}')\n",
    "    try:\n",
    "        fablib.delete_slice(\"MySlice\" + str(slice_index))\n",
    "    except:\n",
    "        pass\n"
   ]
  },
  {
   "cell_type": "code",
   "execution_count": null,
   "metadata": {},
   "outputs": [],
   "source": []
  }
 ],
 "metadata": {
  "kernelspec": {
   "display_name": "Python 3 (ipykernel)",
   "language": "python",
   "name": "python3"
  },
  "language_info": {
   "codemirror_mode": {
    "name": "ipython",
    "version": 3
   },
   "file_extension": ".py",
   "mimetype": "text/x-python",
   "name": "python",
   "nbconvert_exporter": "python",
   "pygments_lexer": "ipython3",
   "version": "3.10.6"
  }
 },
 "nbformat": 4,
 "nbformat_minor": 4
}
