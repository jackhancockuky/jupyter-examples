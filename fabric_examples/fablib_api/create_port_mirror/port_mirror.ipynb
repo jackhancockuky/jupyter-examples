{
 "cells": [
  {
   "cell_type": "markdown",
   "metadata": {},
   "source": [
    "# Create a PortMirror service to snoop on dataplane traffic"
   ]
  },
  {
   "cell_type": "markdown",
   "metadata": {},
   "source": [
    "FABRIC provides a special PortMirror Network Service that allows experimenters to snoop on traffic in the dataplane. The service is limited to mirroring all traffic from one physical port on the dataplane switch in a FABRIC site, to another physical port on the same site. Any active port can be mirrored, regardless of whether it belongs to the user experiment or not. For this reason this service requires a __Net.PortMirror__ project permission tag on the project and granting this permission requires a review by the FABRIC team to ensure the project takes proper security precautions to prevent the misuse of this feature. \n",
    "\n",
    "In this notebook we demonstrate the process by creating two slices - one a FABNetv4 slice - this is the slice we are eavesdropping on and the other slice is the slice utilising PortMirror service to receive the traffic. "
   ]
  },
  {
   "cell_type": "markdown",
   "metadata": {},
   "source": [
    "## Step 0: Import the FABlib Library"
   ]
  },
  {
   "cell_type": "code",
   "execution_count": null,
   "metadata": {},
   "outputs": [],
   "source": [
    "from ipaddress import ip_address, IPv4Address, IPv6Address, IPv4Network, IPv6Network\n",
    "import ipaddress\n",
    "\n",
    "from fabrictestbed_extensions.fablib.fablib import FablibManager as fablib_manager\n",
    "\n",
    "fablib = fablib_manager()\n",
    "                     \n",
    "fablib.show_config();"
   ]
  },
  {
   "cell_type": "markdown",
   "metadata": {},
   "source": [
    "## Step 1: Create the slice that generates traffic\n",
    "We will use the same approach as a [FABNetv4 full-auto notebook](../create_l3network_fabnet_ipv4_auto/create_l3network_fabnet_ipv4_auto.ipynb) here. The only difference is for better isolation we will use ConnectX-5 10/25Gbps SmartNICs as endpoints of the service.\n",
    "\n",
    "### Initialize variables\n",
    "The following code is split up into two cells so they can be executed separately, if needed."
   ]
  },
  {
   "cell_type": "code",
   "execution_count": null,
   "metadata": {},
   "outputs": [],
   "source": [
    "# find two available sites\n",
    "\n",
    "# we will use CX5 to generate traffic and CX6 to mirror traffic into so need sites that have both for this example.\n",
    "cx5_column_name = 'nic_connectx_5_available'\n",
    "cx6_column_name = 'nic_connectx_6_available'\n",
    "\n",
    "# find two sites with available ConnectX-5 and ConnectX-6 cards\n",
    "(site1, site2) = fablib.get_random_sites(count=2, filter_function=lambda x: x[cx5_column_name] > 0 and x[cx6_column_name] > 0)"
   ]
  },
  {
   "cell_type": "code",
   "execution_count": null,
   "metadata": {},
   "outputs": [],
   "source": [
    "slice_name = 'Traffic Generator Slice'\n",
    "\n",
    "# you can use the below line to override site locations\n",
    "#site1, site2 = ('INDI', 'CLEM')\n",
    "\n",
    "print(f'Will create \"{slice_name}\" on {site1} and {site2}')\n",
    "\n",
    "node1_name = 'Node1'\n",
    "node2_name = 'Node2'\n",
    "\n",
    "network1_name='net1'\n",
    "network2_name='net2'"
   ]
  },
  {
   "cell_type": "markdown",
   "metadata": {},
   "source": [
    "### Create the slice"
   ]
  },
  {
   "cell_type": "code",
   "execution_count": null,
   "metadata": {},
   "outputs": [],
   "source": [
    "# Create Traffic generator slice\n",
    "\n",
    "slice = fablib.new_slice(name=slice_name)\n",
    "\n",
    "# Networks\n",
    "net1 = slice.add_l3network(name=network1_name, type='IPv4')\n",
    "net2 = slice.add_l3network(name=network2_name, type='IPv4')\n",
    "\n",
    "# Node1\n",
    "node1 = slice.add_node(name=node1_name, site=site1)\n",
    "iface1 = node1.add_component(model='NIC_ConnectX_5', name='nic1').get_interfaces()[0]\n",
    "iface1.set_mode('auto')\n",
    "net1.add_interface(iface1)\n",
    "node1.add_route(subnet=fablib.FABNETV4_SUBNET, next_hop=net1.get_gateway())\n",
    "\n",
    "# Node2\n",
    "node2 = slice.add_node(name=node2_name, site=site2)\n",
    "iface2  = node2.add_component(model='NIC_ConnectX_5', name='nic1').get_interfaces()[0]\n",
    "iface2.set_mode('auto')\n",
    "net2.add_interface(iface2)\n",
    "node2.add_route(subnet=fablib.FABNETV4_SUBNET, next_hop=net2.get_gateway())\n",
    "\n",
    "#Submit Slice Request\n",
    "slice.submit();"
   ]
  },
  {
   "cell_type": "markdown",
   "metadata": {},
   "source": [
    "### Query the slice\n",
    "You can re-execute this cell any time you need to remember what the traffic generator slice looks like."
   ]
  },
  {
   "cell_type": "code",
   "execution_count": null,
   "metadata": {},
   "outputs": [],
   "source": [
    "slice = fablib.get_slice(slice_name)\n",
    "\n",
    "node1 = slice.get_node(name=node1_name)   \n",
    "node2 = slice.get_node(name=node2_name)\n",
    "\n",
    "site1 = node1.get_site()\n",
    "site2 = node2.get_site()\n",
    "\n",
    "node1_addr = node1.get_interface(network_name=f'{network1_name}').get_ip_addr()\n",
    "node2_addr = node2.get_interface(network_name=f'{network2_name}').get_ip_addr()\n",
    "\n",
    "slice.list_nodes()\n",
    "slice.list_networks()\n",
    "print(f'Node1 FABNetV4 IP Address is {node1_addr}')\n",
    "print(f'Node2 FABNetV4 IP Address is {node2_addr}')"
   ]
  },
  {
   "cell_type": "markdown",
   "metadata": {},
   "source": [
    "### Test the slice\n",
    "\n",
    "Let's make sure the two nodes can communicate as expected."
   ]
  },
  {
   "cell_type": "code",
   "execution_count": null,
   "metadata": {},
   "outputs": [],
   "source": [
    "slice = fablib.get_slice(slice_name)\n",
    "\n",
    "node1 = slice.get_node(name=node1_name)        \n",
    "node2 = slice.get_node(name=node2_name)           \n",
    "\n",
    "node2_addr = node2.get_interface(network_name=network2_name).get_ip_addr()\n",
    "\n",
    "stdout, stderr = node1.execute(f'ping -c 5 {node2_addr}')"
   ]
  },
  {
   "cell_type": "markdown",
   "metadata": {},
   "source": [
    "## Step 2: Create the slice that listens in\n",
    "\n",
    "We'll pick the first site of the two selected for the Traffic Generator Slice and create a single VM connected to a PortMirror network service that listens in on the other slice.\n",
    "\n",
    "We will introspect into the Traffic Generator Slice topology to get the name of the port to which node1's SmartNIC is connected to. "
   ]
  },
  {
   "cell_type": "code",
   "execution_count": null,
   "metadata": {},
   "outputs": [],
   "source": [
    "listener_slice_name = 'Traffic Listening Slice'\n",
    "listener_site = site1\n",
    "listener_node_name = 'listener_node'\n",
    "listener_pm_service = 'pmservice'\n",
    "listener_direction = 'both' # can also be 'rx' and 'tx'\n",
    "\n",
    "# let's see if the traffic generator slice topology provided us with the port name\n",
    "mirror_port_name = node1.get_interfaces()[0].get_peer_port_name()\n",
    "\n",
    "if not mirror_port_name:\n",
    "    print(\"Can't proceed as the traffic generator topology did not provide the name of the port to mirror\")\n",
    "\n",
    "print(f'Will create slice {listener_slice_name} on {listener_site} listening to port {mirror_port_name}')"
   ]
  },
  {
   "cell_type": "markdown",
   "metadata": {},
   "source": [
    "Now we can create the listening slice"
   ]
  },
  {
   "cell_type": "code",
   "execution_count": null,
   "metadata": {},
   "outputs": [],
   "source": [
    "# Create listening slice\n",
    "pmslice = fablib.new_slice(name=listener_slice_name)\n",
    "\n",
    "listener_node = pmslice.add_node(name=listener_node_name, site=listener_site)\n",
    "# the first (index 0) interface will be connected into the switch to receive mirror traffic\n",
    "listener_interface = listener_node.add_component(model='NIC_ConnectX_6', name='pmnic').get_interfaces()[0]\n",
    "\n",
    "# port mirroring is a network service of a special kind\n",
    "# it mirrors one or both directions of traffic ('rx', 'tx' or 'both') of a port that we identified in\n",
    "# Traffic Generator Topology into a port of a card we allocated in this slice (listener_interface)\n",
    "# NOTE: if you select 'both' directions that results in potentially 200Gbps of traffic, which\n",
    "# of course is impossible to fit into a single 100Gbps port of a ConnectX_6 card - be mindful of the\n",
    "# data rates.\n",
    "pmnet = pmslice.add_port_mirror_service(name=listener_pm_service, \n",
    "                                      mirror_interface_name=mirror_port_name,\n",
    "                                      receive_interface=listener_interface,\n",
    "                                      mirror_direction = listener_direction)\n",
    "\n",
    "#Submit Slice Request\n",
    "pmslice.submit();"
   ]
  },
  {
   "cell_type": "markdown",
   "metadata": {},
   "source": [
    "### Query the Listener slice\n",
    "\n",
    "This cell is useful if you are coming back to the experiment after a while. "
   ]
  },
  {
   "cell_type": "code",
   "execution_count": null,
   "metadata": {},
   "outputs": [],
   "source": [
    "pmslice = fablib.get_slice(listener_slice_name)\n",
    "\n",
    "listener_node = pmslice.get_node(name=listener_node_name)   \n",
    "\n",
    "pmslice.list_nodes()\n",
    "pmslice.list_networks()"
   ]
  },
  {
   "cell_type": "markdown",
   "metadata": {},
   "source": [
    "## Deal with IPv4/IPv6 and install missing packages\n",
    "\n",
    "On this slice we will need to install tcpdump so we can watch the mirrored traffic. This means we need to update DNS to use NAT64 in case the site is IPv6."
   ]
  },
  {
   "cell_type": "code",
   "execution_count": null,
   "metadata": {},
   "outputs": [],
   "source": [
    "from ipaddress import ip_address, IPv6Address    \n",
    "\n",
    "isipv6_site = False\n",
    "# If the node is an IPv6 Node then configure NAT64\n",
    "if type(ip_address(listener_node.get_management_ip())) is IPv6Address:\n",
    "    isipv6_site = True\n",
    "    print(f'Node {listener_node.get_name()} has an IPv6 management address, will update DNS configuration')\n",
    "    \n",
    "# this code will be executed if the node uses an IPv6 site. See the notebook \n",
    "# 'Access non-IPv6 services (i.e. GitHub) from IPv6 FABRIC nodes' for more details\n",
    "\n",
    "if isipv6_site:\n",
    "    listener_node.upload_file('../accessing_ipv4_services_from_ipv6_nodes/nat64.sh', 'nat64.sh')\n",
    "    stdout, stderr = listener_node.execute(f'chmod +x nat64.sh && ./nat64.sh')\n",
    "    print(f'Uploaded and executed NAT64 DNS setup script to node {listener_node.get_name()}')\n",
    "    "
   ]
  },
  {
   "cell_type": "markdown",
   "metadata": {},
   "source": [
    "And install tcpdump package"
   ]
  },
  {
   "cell_type": "code",
   "execution_count": null,
   "metadata": {},
   "outputs": [],
   "source": [
    "command = 'sudo dnf install -y tcpdump'\n",
    "\n",
    "stdout, stderr = listener_node.execute(command)"
   ]
  },
  {
   "cell_type": "markdown",
   "metadata": {},
   "source": [
    "## Run the experiment\n",
    "\n",
    "As a trivial experiment we start a `ping` between the two nodes in the Traffic Generator Slice and see if we can see it in the Lister Slice."
   ]
  },
  {
   "cell_type": "code",
   "execution_count": null,
   "metadata": {},
   "outputs": [],
   "source": [
    "slice = fablib.get_slice(slice_name)\n",
    "\n",
    "node1 = slice.get_node(name=node1_name)        \n",
    "node2 = slice.get_node(name=node2_name)           \n",
    "listener_node = pmslice.get_node(name=listener_node_name)\n",
    "\n",
    "node2_addr = node2.get_interface(network_name=network2_name).get_ip_addr()\n",
    "listener_node_intf_name = listener_node.get_interface(network_name=listener_pm_service).get_device_name()\n",
    "\n",
    "print(f'Will run tcpdump on {listener_node.get_name()} interface {listener_node_intf_name}, listening to ping in Traffic Generator Slice')\n",
    "\n",
    "# run everything for 10 seconds\n",
    "traffic_command = f'timeout 10s ping -c 100 {node2_addr}'\n",
    "# look at libpcap documentation for more info on how to filter packets\n",
    "listen_command = f'sudo timeout 10s tcpdump -i {listener_node_intf_name} icmp'\n",
    "\n",
    "# start traffic generation in the background\n",
    "node2_thread = node1.execute_thread(traffic_command, output_file='node1_ping.log')\n",
    "# start tcpdump in the foreground\n",
    "listener_node_thread = listener_node.execute(listen_command)\n",
    "\n",
    "# check for errors\n",
    "stdout, stderr = node2_thread.result()\n",
    "if stderr and len(stderr):\n",
    "    print(f'Error output from Traffic Generator Slice: {stderr}')\n",
    "    \n",
    "print(f'Done')"
   ]
  },
  {
   "cell_type": "markdown",
   "metadata": {},
   "source": [
    "## Delete both slices"
   ]
  },
  {
   "cell_type": "code",
   "execution_count": null,
   "metadata": {},
   "outputs": [],
   "source": [
    "try:\n",
    "    fablib.delete_slice(slice_name)\n",
    "except Exception as e:\n",
    "    print(e)\n",
    "\n",
    "try:\n",
    "    fablib.delete_slice(listener_slice_name)\n",
    "except Exception as e:\n",
    "    print(e)\n",
    "    \n",
    "print('Done')"
   ]
  },
  {
   "cell_type": "code",
   "execution_count": null,
   "metadata": {},
   "outputs": [],
   "source": []
  }
 ],
 "metadata": {
  "kernelspec": {
   "display_name": "Python 3 (ipykernel)",
   "language": "python",
   "name": "python3"
  },
  "language_info": {
   "codemirror_mode": {
    "name": "ipython",
    "version": 3
   },
   "file_extension": ".py",
   "mimetype": "text/x-python",
   "name": "python",
   "nbconvert_exporter": "python",
   "pygments_lexer": "ipython3",
   "version": "3.9.7"
  }
 },
 "nbformat": 4,
 "nbformat_minor": 4
}
