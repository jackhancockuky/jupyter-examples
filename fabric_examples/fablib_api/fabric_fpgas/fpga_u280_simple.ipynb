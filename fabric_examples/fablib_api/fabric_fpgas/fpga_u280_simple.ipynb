{
 "cells": [
  {
   "cell_type": "markdown",
   "metadata": {},
   "source": [
    "# Using FABRIC Xilinx FPGA U280\n",
    "\n",
    "Your compute nodes can include FPGAs. These devices are made available as FABRIC components and can be added to your nodes like any other component. Your project must have Component.FPGA permission tag in order to be able to provision them. \n",
    "\n",
    "This example notebook will demonstrate how to reserve and use a single Xilinx FPGA device on FABRIC. Note that programming FPGAs is complex and requires a licensed toolchain from Xilinx. FABRIC staff cannot help you in obtaining tool licenses - you (or your professor/research lead) must either purchase these tools from Xilinx or register with the [AMD (formerly Xilinx) University Progam (AUP or XUP)](https://www.xilinx.com/support/university.html) and request a donation.\n",
    "\n",
    "## Pre-requisites\n",
    "\n",
    "While this example does not demonstrate how to develop or program for FPGAs you may want to execute the notebook in this folder that shows how to create/re-create a slice with a persistent volume where you can store Xilinx tool packages, build artifacts etc. Transferring them usually take a long time and it helps to have them inside of FABRIC.\n",
    "- [Slice for storing FPGA Tools](fpga_tools_storage.ipynb)"
   ]
  },
  {
   "cell_type": "markdown",
   "metadata": {},
   "source": [
    "## Setup the Experiment"
   ]
  },
  {
   "cell_type": "code",
   "execution_count": null,
   "metadata": {},
   "outputs": [],
   "source": [
    "from fabrictestbed_extensions.fablib.fablib import FablibManager as fablib_manager\n",
    "\n",
    "fablib = fablib_manager()\n",
    "                     \n",
    "fablib.show_config();"
   ]
  },
  {
   "cell_type": "markdown",
   "metadata": {},
   "source": [
    "## Select a site with available FPGA\n",
    "\n",
    "The cells below help you create a slice that contains a single node with an attached FPGA. "
   ]
  },
  {
   "cell_type": "code",
   "execution_count": null,
   "metadata": {},
   "outputs": [],
   "source": [
    "FPGA_CHOICE='FPGA_Xilinx_U280'\n",
    "\n",
    "# don't edit - convert from FPGA type to a resource column name\n",
    "# to use in filter lambda function below\n",
    "choice_to_column = {\n",
    "    \"FPGA_Xilinx_U280\": \"fpga_u280_available\",\n",
    "}\n",
    "\n",
    "column_name = choice_to_column.get(FPGA_CHOICE, \"Unknown\")\n",
    "print(f'{column_name=}')"
   ]
  },
  {
   "cell_type": "markdown",
   "metadata": {},
   "source": [
    "Give the slice and the node in it meaningful names."
   ]
  },
  {
   "cell_type": "code",
   "execution_count": null,
   "metadata": {},
   "outputs": [],
   "source": [
    "# name the slice and the node \n",
    "slice_name=f'My Simple FPGA Slice with {FPGA_CHOICE}'\n",
    "node_name='fpga-node'\n",
    "\n",
    "print(f'Will create slice \"{slice_name}\" with node \"{node_name}\"')"
   ]
  },
  {
   "cell_type": "markdown",
   "metadata": {},
   "source": [
    "Use a lambda filter to figure out which site the node will go to."
   ]
  },
  {
   "cell_type": "code",
   "execution_count": null,
   "metadata": {},
   "outputs": [],
   "source": [
    "import random\n",
    "\n",
    "# you can limit to one of the sites on this list (or use None)\n",
    "#allowed_sites = ['MAX', 'INDI']\n",
    "allowed_sites = None\n",
    "\n",
    "fpga_sites_df = fablib.list_sites(output='pandas', quiet=True, filter_function=lambda x: x[column_name] > 0)\n",
    "# note that list_sites with 'pandas' doesn't actually return a dataframe like doc sez, it returns a Styler \n",
    "# based on the dataframe\n",
    "fpga_sites = fpga_sites_df.data['Name'].values.tolist()\n",
    "print(f'All sites with FPGA available: {fpga_sites}')\n",
    "\n",
    "if len(fpga_sites)==0:\n",
    "    print('Warning - no sites with available FPGAs found')\n",
    "else:\n",
    "    if allowed_sites and len(allowed_sites) > 0:\n",
    "        fpga_sites = list(set(fpga_sites) & set(allowed_sites))\n",
    "    \n",
    "    print('Selecting a site at random' + f'among {allowed_sites}' if allowed_sites else '')\n",
    "    site = random.choice(fpga_sites)\n",
    "    print(f'Preparing to create slice \"{slice_name}\" with node {node_name} in site {site}')"
   ]
  },
  {
   "cell_type": "markdown",
   "metadata": {},
   "source": [
    "## Create a slice with a node with FPGA at desired site"
   ]
  },
  {
   "cell_type": "markdown",
   "metadata": {},
   "source": [
    "Create the desired slice with a FPGA component. "
   ]
  },
  {
   "cell_type": "code",
   "execution_count": null,
   "metadata": {},
   "outputs": [],
   "source": [
    "# Create Slice. Note that by default submit() call will poll for 360 seconds every 10-20 seconds\n",
    "# waiting for slice to come up. Normal expected time is around 2 minutes. \n",
    "slice = fablib.new_slice(name=slice_name)\n",
    "\n",
    "# Add node with a 100G drive and a couple of CPU cores (default)\n",
    "node = slice.add_node(name=node_name, site=site, disk=100)\n",
    "node.add_component(model=FPGA_CHOICE, name='fpga1')\n",
    "\n",
    "#Submit Slice Request\n",
    "slice.submit();"
   ]
  },
  {
   "cell_type": "markdown",
   "metadata": {},
   "source": [
    "## Get the Slice\n",
    "\n",
    "Retrieve the node information and save the management IP addresses."
   ]
  },
  {
   "cell_type": "code",
   "execution_count": null,
   "metadata": {},
   "outputs": [],
   "source": [
    "slice = fablib.get_slice(name=slice_name)\n",
    "slice.show();"
   ]
  },
  {
   "cell_type": "markdown",
   "metadata": {},
   "source": [
    "## Get the Node\n",
    "\n",
    "Retrieve the node information and save the management IP address.\n"
   ]
  },
  {
   "cell_type": "code",
   "execution_count": null,
   "metadata": {},
   "outputs": [],
   "source": [
    "node = slice.get_node(node_name) \n",
    "node.show()\n",
    "\n",
    "fpga = node.get_component('fpga1')\n",
    "fpga.show();\n"
   ]
  },
  {
   "cell_type": "markdown",
   "metadata": {},
   "source": [
    "## FPGA PCI and USB Devices\n",
    "\n",
    "Run the command <code>lspci</code> to see your FPGA PCI device(s) and <code>lsusb</code> to see the JTAG-over-USB device. This shows the FPGA PCI devices (there could be more than one depending on the bitfile loaded). \n"
   ]
  },
  {
   "cell_type": "code",
   "execution_count": null,
   "metadata": {},
   "outputs": [],
   "source": [
    "command = \"sudo dnf install -q -y pciutils usbutils\"\n",
    "stdout, stderr = node.execute(command)\n",
    "\n",
    "print('Checking to see if Xilinx PCI device(s) are present')\n",
    "command = \"lspci | grep 'Xilinx'\"\n",
    "stdout, stderr = node.execute(command)\n",
    "\n",
    "print('Checking to see if JTAG-over-USB is available')\n",
    "command = \"lsusb -d 0403:6011\"\n",
    "stdout, stderr = node.execute(command)"
   ]
  },
  {
   "cell_type": "markdown",
   "metadata": {},
   "source": [
    "## Discussion"
   ]
  },
  {
   "cell_type": "markdown",
   "metadata": {},
   "source": [
    "Note that you SHOULD NOT attempt to program the FPGA at this point unless previously discussed with FABRIC staff. Generally changing the bitfile may change the BAR sizes and PCI functions of the device, which in turn may cause the underlying Dell server to automatically reboot. The net effect of this is your actions may affect experiments of other users who may have VMs sharing the same server.\n",
    "\n",
    "__It is only safe to change the bitfile of the FPGA you just provisioned if you know that the PCI functions and BAR sizes in the FPGA are the same as in the bitfile you are trying to load__ - in this case a simple reboot of the VM will activate that bitfile and your experiment can proceed."
   ]
  },
  {
   "cell_type": "markdown",
   "metadata": {},
   "source": [
    "## Cleanup Your Experiment"
   ]
  },
  {
   "cell_type": "code",
   "execution_count": null,
   "metadata": {
    "tags": []
   },
   "outputs": [],
   "source": [
    "fablib.delete_slice(slice_name)"
   ]
  },
  {
   "cell_type": "code",
   "execution_count": null,
   "metadata": {},
   "outputs": [],
   "source": []
  }
 ],
 "metadata": {
  "kernelspec": {
   "display_name": "Python 3 (ipykernel)",
   "language": "python",
   "name": "python3"
  },
  "language_info": {
   "codemirror_mode": {
    "name": "ipython",
    "version": 3
   },
   "file_extension": ".py",
   "mimetype": "text/x-python",
   "name": "python",
   "nbconvert_exporter": "python",
   "pygments_lexer": "ipython3",
   "version": "3.9.7"
  }
 },
 "nbformat": 4,
 "nbformat_minor": 4
}
