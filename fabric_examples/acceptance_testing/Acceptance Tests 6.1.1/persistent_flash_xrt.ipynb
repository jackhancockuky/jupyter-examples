{
 "cells": [
  {
   "cell_type": "markdown",
   "metadata": {
    "tags": []
   },
   "source": [
    "# Functional Test 6.1.1 - Flash XRT into an FPGA and validate\n",
    "\n",
    "THIS REQUIRES SWITCHING TO Q35 CHIPSET DEFINITION IN OPENSTACK BEFORE THIS WORKS \n",
    "\n",
    "This Jupyter notebook will allow you to flash XRT shell into the FPGA persistent flash. The end result is an FPGA that even after a cold reboot of the server retains its programming with a standard Xilinx XRT shell. This procedure can be used to reset the FPGA at a given site after experiments or initialize a newly installed device.\n",
    "\n",
    "It generally follows the procedures described in Xilinx [UG1301](https://docs.xilinx.com/r/en-US/ug1301-getting-started-guide-alveo-accelerator-cards/Introduction) for U280 devices.\n",
    "\n",
    "It is assumed you are operating as part of the FABRIC Maintenance project and have access to the persistent volume named `fpga-tools` created on EDC where XRT and other releavent tools are downloaded. "
   ]
  },
  {
   "cell_type": "markdown",
   "metadata": {},
   "source": [
    "## Step 0: Re-create a VM attached to fpga-tools volume on EDC\n",
    "\n",
    "In order to have access to necessary tools execute the notebook to [re-create a VM attached](../../fablib_api/fabric_fpgas/fpga_tools_storage.ipynb) to the `fpga-tools` persistent storage. You must execute it as a member of FABRIC Staff project. "
   ]
  },
  {
   "cell_type": "markdown",
   "metadata": {},
   "source": [
    "## Step 1: Identify and isolate the worker node\n",
    "\n",
    "Unless the whole site is already in maintenance, using administrator tools identify the worker node with FPGA and put it in maintenance making sure it does not have experimenter VMs on it. You can check the [aggregate ads in JSON](https://github.com/fabric-testbed/aggregate-ads/tree/main/JSON) to make sure you are targeting the right worker."
   ]
  },
  {
   "cell_type": "markdown",
   "metadata": {
    "tags": []
   },
   "source": [
    "## Step 2: Provision a VM on the desired worker with attached FPGA\n",
    "\n",
    "Create another slice with a VM attached to the FPGA on the desired site and a FABNetv4 interface to reach the tools VM in Step 0."
   ]
  },
  {
   "cell_type": "code",
   "execution_count": null,
   "metadata": {},
   "outputs": [],
   "source": [
    "# Initialize FABlib\n",
    "\n",
    "from fabrictestbed_extensions.fablib.fablib import FablibManager as fablib_manager\n",
    "\n",
    "fablib = fablib_manager()\n",
    "                     \n",
    "fablib.show_config();"
   ]
  },
  {
   "cell_type": "markdown",
   "metadata": {},
   "source": [
    "Define slice parameters - re-execute as needed to run any of the steps in this notebook."
   ]
  },
  {
   "cell_type": "code",
   "execution_count": null,
   "metadata": {},
   "outputs": [],
   "source": [
    "# setup parameters including site name\n",
    "site='INDI'\n",
    "FPGA_CHOICE='FPGA_Xilinx_U280'\n",
    "\n",
    "# name the slice and the node \n",
    "slice_name=f'Persistent XRT FPGA Slice with {FPGA_CHOICE} on {site}'\n",
    "node_name='fpga-node'\n",
    "\n",
    "# username and password used in storage VM\n",
    "nginx_user = \"fpga_tools\"\n",
    "nginx_password = \"vewyvweysecret\"\n",
    "\n",
    "# should not need to edit below\n",
    "print(f'Will create slice \"{slice_name}\" with node \"{node_name}\"')\n",
    "\n",
    "# don't edit - convert from FPGA type to a resource column name\n",
    "# to use in filter lambda function below\n",
    "choice_to_column = {\n",
    "    \"FPGA_Xilinx_U280\": \"fpga_u280_available\",\n",
    "}\n",
    "\n",
    "column_name = choice_to_column.get(FPGA_CHOICE, \"Unknown\")\n",
    "\n",
    "fablib.get_image_names()"
   ]
  },
  {
   "cell_type": "markdown",
   "metadata": {},
   "source": [
    "Create a slice with FPGA component on selected site and access to FABNetv4 network"
   ]
  },
  {
   "cell_type": "code",
   "execution_count": null,
   "metadata": {},
   "outputs": [],
   "source": [
    "# Create Slice. Note that by default submit() call will poll for 360 seconds every 10-20 seconds\n",
    "# waiting for slice to come up. Normal expected time is around 2 minutes. \n",
    "slice = fablib.new_slice(name=slice_name)\n",
    "\n",
    "# Add node with a 200G drive and 8 of CPU cores using Ubuntu 20 image\n",
    "node = slice.add_node(name=node_name, site=site, cores=8, disk=200, image='default_ubuntu_20')\n",
    "node.add_component(model=FPGA_CHOICE, name='fpga1')\n",
    "# be sure to add FABNetv4 so we can communicate with the slice that has the tools\n",
    "node.add_fabnet()\n",
    "\n",
    "#Submit Slice Request\n",
    "slice.submit();"
   ]
  },
  {
   "cell_type": "markdown",
   "metadata": {},
   "source": [
    "## Inspect the slice and optionally add IPv4/IPv6 NAT64 and /etc/hosts entry for storage VM"
   ]
  },
  {
   "cell_type": "code",
   "execution_count": null,
   "metadata": {},
   "outputs": [],
   "source": [
    "slice = fablib.get_slice(slice_name)\n",
    "\n",
    "node = slice.get_node(name=node_name)              \n",
    "\n",
    "node_addr = node.get_interface(network_name=f'FABNET_IPv4_{node.get_site()}').get_ip_addr()\n",
    "\n",
    "slice.show()\n",
    "slice.list_nodes()\n",
    "slice.list_networks()\n",
    "print(f'Node FABNetV4 IP Address is {node_addr}')"
   ]
  },
  {
   "cell_type": "markdown",
   "metadata": {},
   "source": [
    "To be able to reach GitHub and other IPv4 resources, you should execute this once when creating the slice. You may see `sudo: unable to resolve host fpga-node: Temporary failure in name resolution` - ignore it."
   ]
  },
  {
   "cell_type": "code",
   "execution_count": null,
   "metadata": {},
   "outputs": [],
   "source": [
    "from ipaddress import ip_address, IPv6Address    \n",
    "\n",
    "isipv6_site = False\n",
    "# If the node is an IPv6 Node then configure NAT64\n",
    "if type(ip_address(node.get_management_ip())) is IPv6Address:\n",
    "    isipv6_site = True\n",
    "    print(f'Node {node.get_name()} has an IPv6 management address, will update DNS configuration')\n",
    "\n",
    "# this code will be executed if the node uses an IPv6 site. See the notebook \n",
    "# 'Access non-IPv6 services (i.e. GitHub) from IPv6 FABRIC nodes' for more details\n",
    "\n",
    "if isipv6_site:\n",
    "    node.upload_file('../../fablib_api/accessing_ipv4_services_from_ipv6_nodes/nat64.sh', 'nat64.sh')\n",
    "    stdout, stderr = node.execute(f'chmod +x nat64.sh && ./nat64.sh')\n",
    "    print(f'Uploaded and executed NAT64 DNS setup script to node {node.get_name()}')"
   ]
  },
  {
   "cell_type": "markdown",
   "metadata": {},
   "source": [
    "Add storage VM into /etc/hosts for convenience. Consult the storage slice for the FABNetv4 IPv4 address of that VM"
   ]
  },
  {
   "cell_type": "code",
   "execution_count": null,
   "metadata": {},
   "outputs": [],
   "source": [
    "storage_vm_ip = \"10.132.129.2\"\n",
    "\n",
    "commands = list()\n",
    "commands.append(f\"echo {storage_vm_ip} fpga-tools-host | sudo tee -a /etc/hosts\")\n",
    "commands.append(f\"echo 127.0.0.1 {node_name} | sudo tee -a /etc/hosts\")\n",
    "\n",
    "for command in commands:\n",
    "    stdout, stderr = node.execute(command)"
   ]
  },
  {
   "cell_type": "markdown",
   "metadata": {},
   "source": [
    "## Fetch XRT software into the node from storage VM and install them\n",
    "\n",
    "Fill in the appropriate version - this is written for Ubuntu 20.04, using XRT 2023.1."
   ]
  },
  {
   "cell_type": "code",
   "execution_count": null,
   "metadata": {},
   "outputs": [],
   "source": [
    "xilinx_packages = ['xrt_202220.2.14.354_20.04-amd64-xrt.deb', \n",
    "                   'xilinx-u280-gen3x16-xdma_2022.2_2022_1015_0317-all.deb.tar.gz']\n",
    "\n",
    "commands = list()\n",
    "for package in xilinx_packages:\n",
    "    command = f'curl -k -u {nginx_user}:{nginx_password} https://fpga-tools-host/fpga-tools/{package}  > {package}'\n",
    "    commands.append(command)\n",
    "    \n",
    "print('Fetching Xilinx packages')\n",
    "for command in commands:\n",
    "    stdout, stderr = node.execute(command)"
   ]
  },
  {
   "cell_type": "markdown",
   "metadata": {},
   "source": [
    "Next we install the packages (reminder we are following [Xilinx documentation](https://docs.xilinx.com/r/en-US/ug1301-getting-started-guide-alveo-accelerator-cards/Installing-the-Deployment-Software))"
   ]
  },
  {
   "cell_type": "code",
   "execution_count": null,
   "metadata": {},
   "outputs": [],
   "source": [
    "commands = list()\n",
    "\n",
    "print('Update DEBs')\n",
    "commands.append('sudo apt update -y')\n",
    "\n",
    "for command in commands:\n",
    "    stdout, stderr = node.execute(command)"
   ]
  },
  {
   "cell_type": "markdown",
   "metadata": {},
   "source": [
    "Reboot"
   ]
  },
  {
   "cell_type": "code",
   "execution_count": null,
   "metadata": {},
   "outputs": [],
   "source": [
    "reboot = 'sudo reboot'\n",
    "\n",
    "print(reboot)\n",
    "node.execute(reboot)\n",
    "\n",
    "slice.wait_ssh(timeout=360,interval=10,progress=True)\n",
    "\n",
    "print(\"Now testing SSH abilites to reconnect...\",end=\"\")\n",
    "slice.update()\n",
    "slice.test_ssh()\n",
    "print(\"Reconnected! Resetting network configuration\")\n",
    "\n",
    "node.execute(\"sudo ip link set dev ens8 up\")\n",
    "node.config()\n",
    "print(\"Done\")"
   ]
  },
  {
   "cell_type": "markdown",
   "metadata": {},
   "source": [
    "Continue installing"
   ]
  },
  {
   "cell_type": "code",
   "execution_count": null,
   "metadata": {},
   "outputs": [],
   "source": [
    "commands = list()\n",
    "commands.append('sudo apt install -y linux-headers-`uname -r`')\n",
    "\n",
    "print('Installing Kernel headers')\n",
    "for command in commands:\n",
    "    stdout, stderr = node.execute(command)"
   ]
  },
  {
   "cell_type": "markdown",
   "metadata": {},
   "source": [
    "Reboot again if needed"
   ]
  },
  {
   "cell_type": "code",
   "execution_count": null,
   "metadata": {},
   "outputs": [],
   "source": [
    "reboot = 'sudo reboot'\n",
    "\n",
    "print(reboot)\n",
    "node.execute(reboot)\n",
    "\n",
    "slice.wait_ssh(timeout=360,interval=10,progress=True)\n",
    "\n",
    "print(\"Now testing SSH abilites to reconnect...\",end=\"\")\n",
    "slice.update()\n",
    "slice.test_ssh()\n",
    "print(\"Reconnected! Resetting network configuration\")\n",
    "\n",
    "node.execute(\"sudo ip link set dev ens8 up\")\n",
    "node.config()\n",
    "print(\"Done\")"
   ]
  },
  {
   "cell_type": "markdown",
   "metadata": {},
   "source": [
    "Install Xilinx packages (XRT also builds and installs two kernel modules - xocl and xclmgmt)"
   ]
  },
  {
   "cell_type": "code",
   "execution_count": null,
   "metadata": {},
   "outputs": [],
   "source": [
    "deploy_dir = 'xrt_deploy'\n",
    "\n",
    "commands = list()\n",
    "commands.append('sudo apt install -y pciutils usbutils')\n",
    "commands.append('sudo apt install -y ./xrt*.deb')\n",
    "commands.append(f'mkdir -p {deploy_dir} && tar -zxf {xilinx_packages[1]} -C {deploy_dir}')\n",
    "commands.append(f'cd {deploy_dir} && sudo apt install -y ./*.deb')\n",
    "\n",
    "print('Installing Xilinx packages')\n",
    "for command in commands:\n",
    "    stdout, stderr = node.execute(command)"
   ]
  },
  {
   "cell_type": "markdown",
   "metadata": {},
   "source": [
    "## Flash the card\n",
    "\n",
    "Here we continue instructions here to flash the card with XRT, cold reboot the server node (which may be triggered by the flash)."
   ]
  },
  {
   "cell_type": "code",
   "execution_count": null,
   "metadata": {},
   "outputs": [],
   "source": []
  },
  {
   "cell_type": "markdown",
   "metadata": {},
   "source": [
    "## Extend Slice"
   ]
  },
  {
   "cell_type": "markdown",
   "metadata": {},
   "source": [
    "Get slice details"
   ]
  },
  {
   "cell_type": "code",
   "execution_count": null,
   "metadata": {},
   "outputs": [],
   "source": [
    "slice = fablib.get_slice(name=slice_name)\n",
    "slice.show();"
   ]
  },
  {
   "cell_type": "markdown",
   "metadata": {},
   "source": [
    "Renew by 14 days"
   ]
  },
  {
   "cell_type": "code",
   "execution_count": null,
   "metadata": {},
   "outputs": [],
   "source": [
    "from datetime import datetime\n",
    "from datetime import timezone\n",
    "from datetime import timedelta\n",
    "\n",
    "# Set end host to now plus 14 days\n",
    "end_date = (datetime.now(timezone.utc) + timedelta(days=14)).strftime(\"%Y-%m-%d %H:%M:%S %z\")\n",
    "\n",
    "try:\n",
    "    slice = fablib.get_slice(name=slice_name)\n",
    "\n",
    "    slice.renew(end_date)\n",
    "except Exception as e:\n",
    "    print(f\"Exception: {e}\")"
   ]
  },
  {
   "cell_type": "markdown",
   "metadata": {},
   "source": [
    "## Delete the slice\n",
    "\n",
    "Delete when no longer needed."
   ]
  },
  {
   "cell_type": "code",
   "execution_count": null,
   "metadata": {},
   "outputs": [],
   "source": [
    "slice = fablib.get_slice(name=slice_name)\n",
    "slice.delete()"
   ]
  },
  {
   "cell_type": "code",
   "execution_count": null,
   "metadata": {},
   "outputs": [],
   "source": []
  }
 ],
 "metadata": {
  "kernelspec": {
   "display_name": "Python 3 (ipykernel)",
   "language": "python",
   "name": "python3"
  },
  "language_info": {
   "codemirror_mode": {
    "name": "ipython",
    "version": 3
   },
   "file_extension": ".py",
   "mimetype": "text/x-python",
   "name": "python",
   "nbconvert_exporter": "python",
   "pygments_lexer": "ipython3",
   "version": "3.9.7"
  }
 },
 "nbformat": 4,
 "nbformat_minor": 4
}
