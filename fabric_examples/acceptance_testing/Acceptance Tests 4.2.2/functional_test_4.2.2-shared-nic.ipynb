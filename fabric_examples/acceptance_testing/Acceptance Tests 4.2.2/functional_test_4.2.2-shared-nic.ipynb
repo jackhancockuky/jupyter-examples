{
 "cells": [
  {
   "cell_type": "markdown",
   "metadata": {},
   "source": [
    "# Functional Test 4.2.2 - MTU Test\n",
    "\n",
    "This Jupyter notebook will allow you to create VMs on different sites and worker nodes consistent with requirements for test 4.2.2 for testing jumbo-frames with 9k MTU size. This applies on a per-link basis and there are some exceptions where a full 9k MTU doesn't work. Normally within FABRIC dataplane the switches have an MTU setting of 9100, which provides a substantial overhead for MPLS to allow users to use frames even larger than 9k, however on several links due to provider limitations we are very close to the 9k limit:\n",
    "\n",
    "- UTAH-GPN: 9078 (9060)\n",
    "- DALL-TACC 9080 (9062)\n",
    "- LBNL-RENC: 9022 (9004)\n",
    "- UKY-RENC: 9022 (9004)\n",
    "- UTAH-UCSD: 9078 (9060)\n",
    "- WASH-MASS: 9018  (9000)\n",
    "\n",
    "At least 18 octets of overhead are needed (IPv4). \n",
    "\n",
    "## Step 1:  Configure the Environment\n",
    "\n",
    "Before running this notebook, you will need to configure your environment using the [Configure Environment](../../fablib_api/configure_environment/configure_environment.ipynb) notebook. Please stop here, open and run that notebook, then return to this notebook.\n",
    "\n",
    "**This only needs to be done once.**"
   ]
  },
  {
   "cell_type": "markdown",
   "metadata": {},
   "source": [
    "## Step 2: Import the FABlib Library\n",
    "\n",
    "This acceptance test is adapted from an experimenter-supplied example: https://learn.fabric-testbed.net/forums/topic/ipv6-on-fabric-a-hop-with-a-low-mtu/ "
   ]
  },
  {
   "cell_type": "code",
   "execution_count": null,
   "metadata": {},
   "outputs": [],
   "source": [
    "import re\n",
    "import shlex\n",
    "import threading\n",
    "\n",
    "from fabrictestbed_extensions.fablib.fablib import FablibManager as fablib_manager\n",
    "from fabrictestbed_extensions.fablib.slice import Slice\n",
    "\n",
    "from fabrictestbed_extensions.fablib.fablib import FablibManager as fablib_manager\n",
    "\n",
    "fablib = fablib_manager()\n",
    "                     \n",
    "conf = fablib.show_config()"
   ]
  },
  {
   "cell_type": "markdown",
   "metadata": {},
   "source": [
    "## Step 3: Check your existing slices\n",
    "\n",
    "Since testing can get confusing, check what slices you actually have. It may print nothing if you have no active slices."
   ]
  },
  {
   "cell_type": "code",
   "execution_count": null,
   "metadata": {
    "tags": []
   },
   "outputs": [],
   "source": [
    "try:\n",
    "    for slice in fablib.get_slices():\n",
    "        print(f\"{slice}\")\n",
    "except Exception as e:\n",
    "    print(f\"Exception: {e}\")"
   ]
  },
  {
   "cell_type": "markdown",
   "metadata": {
    "tags": []
   },
   "source": [
    "## Step 4: Create the Test Slices\n",
    "\n",
    "Unlike most other tests this test is run against multiple sites at once and builds a table of MTU sizes that pass. "
   ]
  },
  {
   "cell_type": "code",
   "execution_count": null,
   "metadata": {
    "tags": []
   },
   "outputs": [],
   "source": [
    "# slice name prefix\n",
    "SLICE_PREFIX = 'mtu@'\n",
    "\n",
    "# if non-empty, create slices on these sites only\n",
    "SITES_ONLY = ['GATECH', 'CLEM', 'GPN']\n",
    "\n",
    "# NIC model, 'NIC_Basic' or 'NIC_ConnectX_5' or 'NIC_ConnectX_6'\n",
    "NIC_MODEL = 'NIC_Basic'\n",
    "\n",
    "# MTUs to test\n",
    "#PROBE_MTUS = [256, 1280, 1420, 1500, 8900, 8948, 9000]\n",
    "PROBE_MTUS = [8900, 8948, 9000]\n",
    "\n",
    "re_loss = re.compile('([\\d]+)% packet loss')\n",
    "re_rtt = re.compile('rtt.*([.\\d]+)/([.\\d]+)/([.\\d]+)/[.\\d]+ ms')\n",
    "width_mtu = 4\n",
    "width_rtt = 4\n",
    "width_td = width_mtu + width_rtt\n",
    "\n",
    "# some helper functions\n",
    "def list_slices() -> dict[str, Slice]:\n",
    "    slices = {}\n",
    "    for slice in fablib.get_slices():\n",
    "        if slice.get_name().startswith(SLICE_PREFIX):\n",
    "            site = slice.get_name()[len(SLICE_PREFIX):]\n",
    "            slices[site] = slice\n",
    "    return slices\n",
    "\n",
    "def process_ping_result(thread: threading.Thread) -> str:\n",
    "    try:\n",
    "        stdout, stderr = thread.result()\n",
    "    except:\n",
    "        return 'ERR-CMD'.ljust(width_td)\n",
    "    matches_loss = list(re_loss.finditer(stdout))\n",
    "    if len(matches_loss) != len(PROBE_MTUS):\n",
    "        return 'ERR-RE'.ljust(width_td)\n",
    "    pass_mtu = 0\n",
    "    for mtu, m_loss in zip(PROBE_MTUS, matches_loss):\n",
    "        if m_loss[1] == '0':\n",
    "            pass_mtu = mtu\n",
    "    max_avg_rtt = -1\n",
    "    for m_rtt in re_rtt.finditer(stdout):\n",
    "        max_avg_rtt = max(max_avg_rtt, float(m_rtt[2]))\n",
    "    return str(pass_mtu).ljust(width_mtu) + str(int(max_avg_rtt)).rjust(width_rtt)"
   ]
  },
  {
   "cell_type": "markdown",
   "metadata": {},
   "source": [
    "Check for existing slices, then create several slices, 1 per site named `mtu@SITE` "
   ]
  },
  {
   "cell_type": "code",
   "execution_count": null,
   "metadata": {},
   "outputs": [],
   "source": [
    "slices = list_slices()\n",
    "if len(slices) > 0:\n",
    "    print(f\"Found slices for sites {' '.join(slices)}\")"
   ]
  },
  {
   "cell_type": "markdown",
   "metadata": {},
   "source": [
    "If some slices found they should be deleted"
   ]
  },
  {
   "cell_type": "code",
   "execution_count": null,
   "metadata": {},
   "outputs": [],
   "source": [
    "for site, slice in slices.items():\n",
    "    print(f'Deleting slice for site {site}')\n",
    "    slice.delete()"
   ]
  },
  {
   "cell_type": "markdown",
   "metadata": {},
   "source": [
    "Now we can proceed to create the slices"
   ]
  },
  {
   "cell_type": "code",
   "execution_count": null,
   "metadata": {},
   "outputs": [],
   "source": [
    "# submit slices\n",
    "for site in SITES_ONLY:\n",
    "    slice = fablib.new_slice(name=SLICE_PREFIX+site)\n",
    "    node = slice.add_node(name='node', site=site, cores=1, ram=2, disk=10, image='default_ubuntu_22')\n",
    "    intfs = node.add_component(\n",
    "        model=NIC_MODEL, name='nic0').get_interfaces()\n",
    "    if len(intfs) < 2:\n",
    "        intfs += node.add_component(model=NIC_MODEL, name='nic1').get_interfaces()\n",
    "    intf4, intf6 = intfs[:2]\n",
    "    slice.add_l3network(name='net4', interfaces=[intf4], type='IPv4')\n",
    "    slice.add_l3network(name='net6', interfaces=[intf6], type='IPv6')\n",
    "    print(f'Creating slice for site {site}')\n",
    "    try:\n",
    "        slice.submit(wait=False)\n",
    "        slices[site] = slice\n",
    "    except Exception as e:\n",
    "        print(e)"
   ]
  },
  {
   "cell_type": "markdown",
   "metadata": {},
   "source": [
    "Wait for slices to come up."
   ]
  },
  {
   "cell_type": "code",
   "execution_count": null,
   "metadata": {},
   "outputs": [],
   "source": [
    "failed_sites = []\n",
    "addrs: dict[str, dict[int, str]] = {}\n",
    "for site, slice in slices.items():\n",
    "    print(f'Waiting for site {site}')\n",
    "    if slice.get_state() not in ['StableOK', 'ModifyOK']:\n",
    "        try:\n",
    "            slice.wait()\n",
    "            slice.update()\n",
    "        except Exception as e:\n",
    "            print(f'Error in slice for site {site}')\n",
    "            print(e)\n",
    "            failed_sites.append(site)\n",
    "            continue\n",
    "\n",
    "print('The following sites failed:')\n",
    "for site in failed_sites:\n",
    "    print(f'{site}')\n",
    "    del slices[site]\n",
    "\n",
    "print('The following sites succeeded:')\n",
    "# complete configuration for successful slices\n",
    "for site, slice in slices.items():\n",
    "    print(f'Site {site} slice {slice.get_name()} in state {slice.get_state()}')\n",
    "    slice.wait_ssh(progress=False)\n",
    "    slice.post_boot_config()"
   ]
  },
  {
   "cell_type": "markdown",
   "metadata": {},
   "source": [
    "Start the network configuration"
   ]
  },
  {
   "cell_type": "code",
   "execution_count": null,
   "metadata": {},
   "outputs": [],
   "source": [
    "for site, slice in slices.items():\n",
    "    node = slice.get_node('node')\n",
    "    [ip4addr] = slice.get_l3network('net4').get_available_ips(count=1)\n",
    "    [ip6addr] = slice.get_l3network('net6').get_available_ips(count=1)\n",
    "    addrs[site] = {4: str(ip4addr), 6: str(ip6addr)}\n",
    "    print(f'{site} is ready, mgmt {node.get_management_ip()}, IPv4 {ip4addr}, IPv6 {ip6addr}')"
   ]
  },
  {
   "cell_type": "markdown",
   "metadata": {
    "tags": []
   },
   "source": [
    "## Step 5: Create interface configurations"
   ]
  },
  {
   "cell_type": "code",
   "execution_count": null,
   "metadata": {
    "tags": []
   },
   "outputs": [],
   "source": [
    "print('Applying IP configs for IPv4 and IPv6')\n",
    "execute_threads = {}\n",
    "for site, slice in slices.items():\n",
    "    print(f'Site {site}')\n",
    "    node = slice.get_node('node')\n",
    "    cmds: list[str] = []\n",
    "    for af in [4, 6]:\n",
    "        intf = node.get_interface(network_name=f'net{af}')\n",
    "        devname = intf.get_os_interface()\n",
    "        addr = addrs[site][af]\n",
    "        net = intf.get_network()\n",
    "        cmds += [\n",
    "            f'sudo ip link set {shlex.quote(devname)} up',\n",
    "            f'sudo ip link set {shlex.quote(devname)} mtu 9000',\n",
    "            f'sudo ip -{af} addr flush dev {shlex.quote(devname)}',\n",
    "            f'sudo ip -{af} addr add {shlex.quote(addr)}/{net.get_subnet().prefixlen} dev {shlex.quote(devname)}'\n",
    "        ]\n",
    "        for dst in slices:\n",
    "            if dst != site:\n",
    "                cmds.append(\n",
    "                    f'sudo ip -{af} route replace {addrs[dst][af]} via {net.get_gateway()}')\n",
    "    execute_threads[site] = node.execute_thread('\\n'.join(cmds))\n",
    "\n",
    "for site, thread in execute_threads.items():\n",
    "    stdout, stderr = thread.result()\n",
    "    if stderr != '':\n",
    "        print(f'IP config for {site} error:\\n{stderr}')"
   ]
  },
  {
   "cell_type": "markdown",
   "metadata": {
    "tags": []
   },
   "source": [
    "## Step 6: Run ping tests with different MTUs and print results"
   ]
  },
  {
   "cell_type": "code",
   "execution_count": null,
   "metadata": {},
   "outputs": [],
   "source": [
    "for af, overhead in {4: 28, 6: 48}.items():\n",
    "    print('')\n",
    "    print(f'IPv{af} ping max MTU and max RTT')\n",
    "    print('src\\\\dst'.ljust(width_td), end='')\n",
    "    for dst in slices:\n",
    "        print(' | ' + dst.center(width_td), end='')\n",
    "    print('')\n",
    "    print('-'*(width_td+1) + ('|'+'-'*(width_td+2))*len(slices))\n",
    "    for src in slices:\n",
    "        node = slices[src].get_node('node')\n",
    "        execute_threads = {}\n",
    "        for dst in slices:\n",
    "            execute_threads[dst] = node.execute_thread('\\n'.join([\n",
    "                f'ping -I {shlex.quote(addrs[src][af])} -c 4 -i 0.2 -W 0.8 -M do -s {mtu-overhead} {shlex.quote(addrs[dst][af])}'\n",
    "                for mtu in PROBE_MTUS\n",
    "            ]))\n",
    "        print(src.ljust(width_td), end='')\n",
    "        for dst in slices:\n",
    "            print(' | ' + process_ping_result(execute_threads[dst]), end='')\n",
    "        print('')\n"
   ]
  },
  {
   "cell_type": "markdown",
   "metadata": {},
   "source": [
    "## Step 7: Delete the Slices\n",
    "\n",
    "Please delete your slices when you are done."
   ]
  },
  {
   "cell_type": "code",
   "execution_count": null,
   "metadata": {},
   "outputs": [],
   "source": [
    "try:\n",
    "    for site, slice in slices.items():\n",
    "        print(f'Deleting slice in site {site}')\n",
    "        slice.delete()\n",
    "except Exception as e:\n",
    "    print(f\"Exception: {e}\")"
   ]
  }
 ],
 "metadata": {
  "kernelspec": {
   "display_name": "Python 3 (ipykernel)",
   "language": "python",
   "name": "python3"
  },
  "language_info": {
   "codemirror_mode": {
    "name": "ipython",
    "version": 3
   },
   "file_extension": ".py",
   "mimetype": "text/x-python",
   "name": "python",
   "nbconvert_exporter": "python",
   "pygments_lexer": "ipython3",
   "version": "3.9.7"
  }
 },
 "nbformat": 4,
 "nbformat_minor": 4
}
