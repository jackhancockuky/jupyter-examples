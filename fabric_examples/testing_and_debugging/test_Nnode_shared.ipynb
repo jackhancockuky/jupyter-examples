{
 "cells": [
  {
   "cell_type": "markdown",
   "metadata": {},
   "source": [
    "## This notebook shows how to use Orchestrator APIs for user experiments"
   ]
  },
  {
   "cell_type": "code",
   "execution_count": 54,
   "metadata": {},
   "outputs": [],
   "source": [
    "import os\n",
    "from fabrictestbed.slice_manager import SliceManager, Status, SliceState\n",
    "import json"
   ]
  },
  {
   "cell_type": "code",
   "execution_count": 55,
   "metadata": {},
   "outputs": [],
   "source": [
    "bastion_public_addr = 'bastion-1.fabric-testbed.net'\n",
    "bastion_private_ipv4_addr = '192.168.11.226'\n",
    "bastion_private_ipv6_addr = '2600:2701:5000:a902::c'\n",
    "\n",
    "bastion_username = 'kissel'\n",
    "\n",
    "bastion_key_filename = os.environ['HOME'] + \"/.ssh/id_rsa\"\n",
    "\n",
    "ssh_key_file_priv=os.environ['HOME']+\"/.ssh/id_rsa\"\n",
    "ssh_key_file_pub=os.environ['HOME']+\"/.ssh/id_rsa.pub\"\n",
    "\n",
    "ssh_key_pub = None\n",
    "with open (ssh_key_file_pub, \"r\") as myfile:\n",
    "    ssh_key_pub=myfile.read()\n",
    "    ssh_key_pub=ssh_key_pub.strip()"
   ]
  },
  {
   "cell_type": "code",
   "execution_count": 56,
   "metadata": {},
   "outputs": [
    {
     "name": "stdout",
     "output_type": "stream",
     "text": [
      "FABRIC Credential Manager   : cm.fabric-testbed.net\n",
      "FABRIC Orchestrator         : orchestrator.fabric-testbed.net\n",
      "ssh-rsa AAAAB3NzaC1yc2EAAAABIwAAAQEAqJzOPz82FFxuEx7Q3XX+fnF2v/PXaUhNLxayzYsvooykhQjQw8NbLhmOSYxQ96H/yAv+TuxMrDse9A4FhUiz55bfTvf7vINg3FFxfXIdwAj82Q2ZPccdtFYcO0BQDGcCAjJPXXFBTdw1k8nnFN/zDyRwPArZKJ1RJWL+uochjSkKm3egASF2TBPJ1MpPvTfsG/IrXLJ2sH6Pa1oDPHnk5ZpU4OaKBW4vKjTcqqE3Pk8Qp+SpWKzc8ZMTtqeurWH8hzitUxuaxVMwmHIRM9iFg2MQIFGGIMCtqnY2Uqbf5CnlG52JRS0/MTSypd1FM3XqVCZJcchFZKJ7kBnt8bTd7Q== ezra@beesam\n"
     ]
    }
   ],
   "source": [
    "credmgr_host = os.environ['FABRIC_CREDMGR_HOST']\n",
    "#credmgr_host = \"cm.fabric-testbed.net\"\n",
    "print(f\"FABRIC Credential Manager   : {credmgr_host}\")\n",
    "\n",
    "orchestrator_host = os.environ['FABRIC_ORCHESTRATOR_HOST']\n",
    "#orchestrator_host = \"orchestrator.fabric-testbed.net\"\n",
    "print(f\"FABRIC Orchestrator         : {orchestrator_host}\")\n",
    "\n",
    "print (ssh_key_pub)"
   ]
  },
  {
   "cell_type": "markdown",
   "metadata": {},
   "source": [
    "## Create Slice Manager Object\n",
    "Users can request tokens with different Project and Scopes by altering `project_name` and `scope` parameters in the refresh call below."
   ]
  },
  {
   "cell_type": "code",
   "execution_count": 57,
   "metadata": {},
   "outputs": [],
   "source": [
    "slice_manager = SliceManager(oc_host=orchestrator_host, \n",
    "                             cm_host=credmgr_host ,\n",
    "                             project_name='all', \n",
    "                             scope='all')\n",
    "\n",
    "# Initialize the slice manager\n",
    "slice_manager.initialize()"
   ]
  },
  {
   "cell_type": "markdown",
   "metadata": {},
   "source": [
    "### Orchestrator API example to query for available resources"
   ]
  },
  {
   "cell_type": "code",
   "execution_count": null,
   "metadata": {},
   "outputs": [],
   "source": [
    "status, advertised_topology = slice_manager.resources()\n",
    "\n",
    "print(f\"Status: {status}\")\n",
    "if status == Status.OK:\n",
    "    print(f\"Toplogy: {advertised_topology}\")\n",
    "else:\n",
    "    print(f\"Error: {advertised_topology}\")"
   ]
  },
  {
   "cell_type": "code",
   "execution_count": 22,
   "metadata": {},
   "outputs": [
    {
     "data": {
      "image/png": "[encoded data removed]",
      "text/plain": [
       "<Figure size 432x288 with 1 Axes>"
      ]
     },
     "metadata": {},
     "output_type": "display_data"
    }
   ],
   "source": [
    "if status == Status.OK:\n",
    "    advertised_topology.draw()"
   ]
  },
  {
   "cell_type": "markdown",
   "metadata": {
    "tags": []
   },
   "source": [
    "## Create Slice\n",
    "In Release 1.0, user is expected to assign the IP addresses manually. Please use the example comands indicated below:"
   ]
  },
  {
   "cell_type": "markdown",
   "metadata": {
    "tags": []
   },
   "source": [
    "## Configure Slice Parameters\n",
    "\n"
   ]
  },
  {
   "cell_type": "code",
   "execution_count": 71,
   "metadata": {},
   "outputs": [],
   "source": [
    "slice_name = 'MyTestSlice0'\n",
    "site = 'UTAH'\n",
    "worker = 'utah-w5.fabric-testbed.net'\n",
    "nnodes = 8\n",
    "network_service_name='bridge1'\n",
    "username = 'ubuntu'\n",
    "image = 'default_ubuntu_20'\n",
    "image_type = 'qcow2'\n",
    "cores = 2\n",
    "ram = 8\n",
    "disk = 10"
   ]
  },
  {
   "cell_type": "code",
   "execution_count": 72,
   "metadata": {},
   "outputs": [
    {
     "name": "stdout",
     "output_type": "stream",
     "text": [
      "Submitted slice creation request. Slice ID: 9336ddc2-0854-4361-984c-117d54024020\n"
     ]
    }
   ],
   "source": [
    "from fabrictestbed.slice_editor import ExperimentTopology, Capacities, ComponentType, ComponentModelType, ServiceType, Labels\n",
    "# Create topology\n",
    "t = ExperimentTopology()\n",
    "\n",
    "# Specify exact component if set\n",
    "labels = Labels()\n",
    "if worker:\n",
    "    labels.instance_parent = worker\n",
    "\n",
    "# Add nodes\n",
    "for i in range(0, nnodes):\n",
    "    nname = f\"node{i}\"\n",
    "    nic_name = f\"{nname}-nic1\"\n",
    "    \n",
    "    node = t.add_node(name=nname, site=site)\n",
    "    \n",
    "    # Set capacities\n",
    "    cap = Capacities()\n",
    "    cap.set_fields(core=cores, ram=ram, disk=disk)\n",
    "\n",
    "    # Set Properties\n",
    "    node.set_properties(capacities=cap, image_type=image_type, image_ref=image, labels=labels)\n",
    "\n",
    "    # Shared Cards\n",
    "    node.add_component(model_type=ComponentModelType.SharedNIC_ConnectX_6, name=nic_name)\n",
    "\n",
    "# L2Bridge Service\n",
    "t.add_network_service(name=network_service_name, nstype=ServiceType.L2Bridge, interfaces=t.interface_list)\n",
    "\n",
    "# Generate Slice Graph\n",
    "slice_graph = t.serialize()\n",
    "\n",
    "# Request slice from Orchestrator\n",
    "return_status, slice_reservations = slice_manager.create(slice_name=slice_name, \n",
    "                                            slice_graph=slice_graph, \n",
    "                                            ssh_key=ssh_key_pub)\n",
    "\n",
    "if return_status == Status.OK:\n",
    "    slice_id = slice_reservations[0].get_slice_id()\n",
    "    print(\"Submitted slice creation request. Slice ID: {}\".format(slice_id))\n",
    "else:\n",
    "    print(f\"Failure: {slice_reservations}\")"
   ]
  },
  {
   "cell_type": "markdown",
   "metadata": {
    "tags": []
   },
   "source": [
    "## Get the Slice"
   ]
  },
  {
   "cell_type": "code",
   "execution_count": 73,
   "metadata": {
    "tags": []
   },
   "outputs": [
    {
     "name": "stdout",
     "output_type": "stream",
     "text": [
      "Waiting for slice ............ Slice state: StableOK\n",
      "\n",
      "Slice Name : MyTestSlice0\n",
      "ID         : 9336ddc2-0854-4361-984c-117d54024020\n",
      "State      : StableOK\n",
      "Lease End  : 2022-01-12 16:17:18\n"
     ]
    }
   ],
   "source": [
    "import time\n",
    "def wait_for_slice(slice,timeout=180,interval=10,progress=False):\n",
    "    timeout_start = time.time()\n",
    "\n",
    "    if progress: print(\"Waiting for slice .\", end = '')\n",
    "    while time.time() < timeout_start + timeout:\n",
    "        return_status, slices = slice_manager.slices(excludes=[SliceState.Dead,SliceState.Closing])\n",
    "\n",
    "        if return_status == Status.OK:\n",
    "            slice = list(filter(lambda x: x.slice_name == slice_name, slices))[0]\n",
    "            if slice.slice_state == \"StableOK\":\n",
    "                if progress: print(\" Slice state: {}\".format(slice.slice_state))\n",
    "                return slice\n",
    "            if slice.slice_state == \"Closing\" or slice.slice_state == \"Dead\":\n",
    "                if progress: print(\" Slice state: {}\".format(slice.slice_state))\n",
    "                return slice    \n",
    "        else:\n",
    "            print(f\"Failure: {slices}\")\n",
    "        \n",
    "        if progress: print(\".\", end = '')\n",
    "        time.sleep(interval)\n",
    "    \n",
    "    if time.time() >= timeout_start + timeout:\n",
    "        if progress: print(\" Timeout exceeded ({} sec). Slice: {} ({})\".format(timeout,slice.slice_name,slice.slice_state))\n",
    "        return slice    \n",
    "\n",
    "\n",
    "return_status, slices = slice_manager.slices(excludes=[SliceState.Dead,SliceState.Closing])\n",
    "\n",
    "if return_status == Status.OK:\n",
    "    slice = list(filter(lambda x: x.slice_name == slice_name, slices))[0]\n",
    "    slice = wait_for_slice(slice, progress=True)\n",
    "\n",
    "print()\n",
    "print(\"Slice Name : {}\".format(slice.slice_name))\n",
    "print(\"ID         : {}\".format(slice.slice_id))\n",
    "print(\"State      : {}\".format(slice.slice_state))\n",
    "print(\"Lease End  : {}\".format(slice.lease_end))"
   ]
  },
  {
   "cell_type": "markdown",
   "metadata": {
    "tags": []
   },
   "source": [
    "## Get the Nodes\n",
    "\n",
    "Retrieve the node information and save the management IP address.\n"
   ]
  },
  {
   "cell_type": "markdown",
   "metadata": {},
   "source": [
    "### Get the Topology"
   ]
  },
  {
   "cell_type": "code",
   "execution_count": 74,
   "metadata": {},
   "outputs": [],
   "source": [
    "return_status, experiment_topology = slice_manager.get_slice_topology(slice_object=slice)"
   ]
  },
  {
   "cell_type": "code",
   "execution_count": 80,
   "metadata": {},
   "outputs": [
    {
     "name": "stdout",
     "output_type": "stream",
     "text": [
      "(<Status.OK: 1>, [{\n",
      "    \"allocated_capacities\": \"{\\\"core\\\": 2, \\\"disk\\\": 10, \\\"ram\\\": 8}\",\n",
      "    \"allocated_labels\": \"{\\\"instance\\\": \\\"instance-000008e1\\\", \\\"instance_parent\\\": \\\"utah-w5.fabric-testbed.net\\\"}\",\n",
      "    \"capacities\": \"{\\\"core\\\": 2, \\\"disk\\\": 10, \\\"ram\\\": 8}\",\n",
      "    \"capacity_hints\": \"{\\\"instance_type\\\": \\\"fabric.c2.m8.d10\\\"}\",\n",
      "    \"graph_node_id\": \"65c23c67-2b60-4d85-95ca-a02d6b26c408\",\n",
      "    \"join_state\": \"NoJoin\",\n",
      "    \"labels\": \"{\\\"instance_parent\\\": \\\"utah-w5.fabric-testbed.net\\\"}\",\n",
      "    \"lease_end\": \"2022-01-12 16:17:18\",\n",
      "    \"management_ip\": \"2001:1948:417:7:f816:3eff:fe2e:fc22\",\n",
      "    \"name\": \"node2\",\n",
      "    \"notices\": \"Reservation 75572c06-8e93-4d04-9f65-dc7ae24b4a2e (Slice MyTestSlice0(9336ddc2-0854-4361-984c-117d54024020) Graph Id:0229b669-3e7b-40a6-b028-158981f976ee Owner:name: orchestrator guid: orchestrator-guid email: kissel@es.net State:StableOK ) is in state [Active,None_]\\n\\nLast ticket update: \\nTicket events: \\nLast ticket update: \\nTicket events: \",\n",
      "    \"pending_state\": \"None_\",\n",
      "    \"reservation_id\": \"75572c06-8e93-4d04-9f65-dc7ae24b4a2e\",\n",
      "    \"reservation_state\": \"Active\",\n",
      "    \"resource_type\": \"VM\",\n",
      "    \"site\": \"UTAH\",\n",
      "    \"slice_id\": \"9336ddc2-0854-4361-984c-117d54024020\"\n",
      "}, {\n",
      "    \"allocated_capacities\": \"{\\\"core\\\": 2, \\\"disk\\\": 10, \\\"ram\\\": 8}\",\n",
      "    \"allocated_labels\": \"{\\\"instance\\\": \\\"instance-000008e4\\\", \\\"instance_parent\\\": \\\"utah-w5.fabric-testbed.net\\\"}\",\n",
      "    \"capacities\": \"{\\\"core\\\": 2, \\\"disk\\\": 10, \\\"ram\\\": 8}\",\n",
      "    \"capacity_hints\": \"{\\\"instance_type\\\": \\\"fabric.c2.m8.d10\\\"}\",\n",
      "    \"graph_node_id\": \"910c5b05-3dff-4233-ac3d-733b9388da41\",\n",
      "    \"join_state\": \"NoJoin\",\n",
      "    \"labels\": \"{\\\"instance_parent\\\": \\\"utah-w5.fabric-testbed.net\\\"}\",\n",
      "    \"lease_end\": \"2022-01-12 16:17:18\",\n",
      "    \"management_ip\": \"2001:1948:417:7:f816:3eff:fe30:3e6c\",\n",
      "    \"name\": \"node7\",\n",
      "    \"notices\": \"Reservation a3b201da-faca-4c19-980e-ecf7e4600b78 (Slice MyTestSlice0(9336ddc2-0854-4361-984c-117d54024020) Graph Id:0229b669-3e7b-40a6-b028-158981f976ee Owner:name: orchestrator guid: orchestrator-guid email: kissel@es.net State:StableOK ) is in state [Active,None_]\\n\\nLast ticket update: \\nTicket events: \\nLast ticket update: \\nTicket events: \",\n",
      "    \"pending_state\": \"None_\",\n",
      "    \"reservation_id\": \"a3b201da-faca-4c19-980e-ecf7e4600b78\",\n",
      "    \"reservation_state\": \"Active\",\n",
      "    \"resource_type\": \"VM\",\n",
      "    \"site\": \"UTAH\",\n",
      "    \"slice_id\": \"9336ddc2-0854-4361-984c-117d54024020\"\n",
      "}, {\n",
      "    \"graph_node_id\": \"6a3f95bc-e044-4a7d-9cc7-cd37f0223568\",\n",
      "    \"join_state\": \"NoJoin\",\n",
      "    \"lease_end\": \"2022-01-12 16:17:18\",\n",
      "    \"name\": \"bridge1\",\n",
      "    \"notices\": \"Reservation 860bad0c-8cb2-44a4-88e3-16659881ee9b (Slice MyTestSlice0(9336ddc2-0854-4361-984c-117d54024020) Graph Id:0229b669-3e7b-40a6-b028-158981f976ee Owner:name: orchestrator guid: orchestrator-guid email: kissel@es.net State:StableOK ) is in state [Active,None_]\\n\\nLast ticket update: \\nTicket events: \\nLast ticket update: \\nTicket events: \",\n",
      "    \"pending_state\": \"None_\",\n",
      "    \"reservation_id\": \"860bad0c-8cb2-44a4-88e3-16659881ee9b\",\n",
      "    \"reservation_state\": \"Active\",\n",
      "    \"resource_type\": \"L2Bridge\",\n",
      "    \"site\": \"UTAH\",\n",
      "    \"slice_id\": \"9336ddc2-0854-4361-984c-117d54024020\"\n",
      "}, {\n",
      "    \"allocated_capacities\": \"{\\\"core\\\": 2, \\\"disk\\\": 10, \\\"ram\\\": 8}\",\n",
      "    \"allocated_labels\": \"{\\\"instance\\\": \\\"instance-000008e5\\\", \\\"instance_parent\\\": \\\"utah-w5.fabric-testbed.net\\\"}\",\n",
      "    \"capacities\": \"{\\\"core\\\": 2, \\\"disk\\\": 10, \\\"ram\\\": 8}\",\n",
      "    \"capacity_hints\": \"{\\\"instance_type\\\": \\\"fabric.c2.m8.d10\\\"}\",\n",
      "    \"graph_node_id\": \"0acce6dd-88be-4d23-91e3-ab0ecaa5b7dc\",\n",
      "    \"join_state\": \"NoJoin\",\n",
      "    \"labels\": \"{\\\"instance_parent\\\": \\\"utah-w5.fabric-testbed.net\\\"}\",\n",
      "    \"lease_end\": \"2022-01-12 16:17:18\",\n",
      "    \"management_ip\": \"2001:1948:417:7:f816:3eff:fe0b:55ec\",\n",
      "    \"name\": \"node5\",\n",
      "    \"notices\": \"Reservation a8456d5e-3d9c-444a-b909-833452812045 (Slice MyTestSlice0(9336ddc2-0854-4361-984c-117d54024020) Graph Id:0229b669-3e7b-40a6-b028-158981f976ee Owner:name: orchestrator guid: orchestrator-guid email: kissel@es.net State:StableOK ) is in state [Active,None_]\\n\\nLast ticket update: \\nTicket events: \\nLast ticket update: \\nTicket events: \",\n",
      "    \"pending_state\": \"None_\",\n",
      "    \"reservation_id\": \"a8456d5e-3d9c-444a-b909-833452812045\",\n",
      "    \"reservation_state\": \"Active\",\n",
      "    \"resource_type\": \"VM\",\n",
      "    \"site\": \"UTAH\",\n",
      "    \"slice_id\": \"9336ddc2-0854-4361-984c-117d54024020\"\n",
      "}, {\n",
      "    \"allocated_capacities\": \"{\\\"core\\\": 2, \\\"disk\\\": 10, \\\"ram\\\": 8}\",\n",
      "    \"allocated_labels\": \"{\\\"instance\\\": \\\"instance-000008e3\\\", \\\"instance_parent\\\": \\\"utah-w5.fabric-testbed.net\\\"}\",\n",
      "    \"capacities\": \"{\\\"core\\\": 2, \\\"disk\\\": 10, \\\"ram\\\": 8}\",\n",
      "    \"capacity_hints\": \"{\\\"instance_type\\\": \\\"fabric.c2.m8.d10\\\"}\",\n",
      "    \"graph_node_id\": \"7926b7fe-dfaa-4789-9199-71dedc513650\",\n",
      "    \"join_state\": \"NoJoin\",\n",
      "    \"labels\": \"{\\\"instance_parent\\\": \\\"utah-w5.fabric-testbed.net\\\"}\",\n",
      "    \"lease_end\": \"2022-01-12 16:17:18\",\n",
      "    \"management_ip\": \"2001:1948:417:7:f816:3eff:feba:2d02\",\n",
      "    \"name\": \"node6\",\n",
      "    \"notices\": \"Reservation 93002e4a-a1fb-4ebe-a38e-eccdf7158e67 (Slice MyTestSlice0(9336ddc2-0854-4361-984c-117d54024020) Graph Id:0229b669-3e7b-40a6-b028-158981f976ee Owner:name: orchestrator guid: orchestrator-guid email: kissel@es.net State:StableOK ) is in state [Active,None_]\\n\\nLast ticket update: \\nTicket events: \\nLast ticket update: \\nTicket events: \",\n",
      "    \"pending_state\": \"None_\",\n",
      "    \"reservation_id\": \"93002e4a-a1fb-4ebe-a38e-eccdf7158e67\",\n",
      "    \"reservation_state\": \"Active\",\n",
      "    \"resource_type\": \"VM\",\n",
      "    \"site\": \"UTAH\",\n",
      "    \"slice_id\": \"9336ddc2-0854-4361-984c-117d54024020\"\n",
      "}, {\n",
      "    \"allocated_capacities\": \"{\\\"core\\\": 2, \\\"disk\\\": 10, \\\"ram\\\": 8}\",\n",
      "    \"allocated_labels\": \"{\\\"instance\\\": \\\"instance-000008e0\\\", \\\"instance_parent\\\": \\\"utah-w5.fabric-testbed.net\\\"}\",\n",
      "    \"capacities\": \"{\\\"core\\\": 2, \\\"disk\\\": 10, \\\"ram\\\": 8}\",\n",
      "    \"capacity_hints\": \"{\\\"instance_type\\\": \\\"fabric.c2.m8.d10\\\"}\",\n",
      "    \"graph_node_id\": \"f36b8a91-3162-4467-8cb7-3eae8c09b19e\",\n",
      "    \"join_state\": \"NoJoin\",\n",
      "    \"labels\": \"{\\\"instance_parent\\\": \\\"utah-w5.fabric-testbed.net\\\"}\",\n",
      "    \"lease_end\": \"2022-01-12 16:17:18\",\n",
      "    \"management_ip\": \"2001:1948:417:7:f816:3eff:fe54:ba30\",\n",
      "    \"name\": \"node4\",\n",
      "    \"notices\": \"Reservation 6a8efd4b-6e5c-43a7-8023-0611e231f367 (Slice MyTestSlice0(9336ddc2-0854-4361-984c-117d54024020) Graph Id:0229b669-3e7b-40a6-b028-158981f976ee Owner:name: orchestrator guid: orchestrator-guid email: kissel@es.net State:StableOK ) is in state [Active,None_]\\n\\nLast ticket update: \\nTicket events: \\nLast ticket update: \\nTicket events: \",\n",
      "    \"pending_state\": \"None_\",\n",
      "    \"reservation_id\": \"6a8efd4b-6e5c-43a7-8023-0611e231f367\",\n",
      "    \"reservation_state\": \"Active\",\n",
      "    \"resource_type\": \"VM\",\n",
      "    \"site\": \"UTAH\",\n",
      "    \"slice_id\": \"9336ddc2-0854-4361-984c-117d54024020\"\n",
      "}, {\n",
      "    \"allocated_capacities\": \"{\\\"core\\\": 2, \\\"disk\\\": 10, \\\"ram\\\": 8}\",\n",
      "    \"allocated_labels\": \"{\\\"instance\\\": \\\"instance-000008e2\\\", \\\"instance_parent\\\": \\\"utah-w5.fabric-testbed.net\\\"}\",\n",
      "    \"capacities\": \"{\\\"core\\\": 2, \\\"disk\\\": 10, \\\"ram\\\": 8}\",\n",
      "    \"capacity_hints\": \"{\\\"instance_type\\\": \\\"fabric.c2.m8.d10\\\"}\",\n",
      "    \"graph_node_id\": \"9ae7d2ff-f10d-4835-9306-72f7bde1af22\",\n",
      "    \"join_state\": \"NoJoin\",\n",
      "    \"labels\": \"{\\\"instance_parent\\\": \\\"utah-w5.fabric-testbed.net\\\"}\",\n",
      "    \"lease_end\": \"2022-01-12 16:17:18\",\n",
      "    \"management_ip\": \"2001:1948:417:7:f816:3eff:fed3:65d3\",\n",
      "    \"name\": \"node0\",\n",
      "    \"notices\": \"Reservation 6998cdb1-ec31-48af-9dba-49a29d29cb31 (Slice MyTestSlice0(9336ddc2-0854-4361-984c-117d54024020) Graph Id:0229b669-3e7b-40a6-b028-158981f976ee Owner:name: orchestrator guid: orchestrator-guid email: kissel@es.net State:StableOK ) is in state [Active,None_]\\n\\nLast ticket update: \\nTicket events: \\nLast ticket update: \\nTicket events: \",\n",
      "    \"pending_state\": \"None_\",\n",
      "    \"reservation_id\": \"6998cdb1-ec31-48af-9dba-49a29d29cb31\",\n",
      "    \"reservation_state\": \"Active\",\n",
      "    \"resource_type\": \"VM\",\n",
      "    \"site\": \"UTAH\",\n",
      "    \"slice_id\": \"9336ddc2-0854-4361-984c-117d54024020\"\n",
      "}, {\n",
      "    \"allocated_capacities\": \"{\\\"core\\\": 2, \\\"disk\\\": 10, \\\"ram\\\": 8}\",\n",
      "    \"allocated_labels\": \"{\\\"instance\\\": \\\"instance-000008e6\\\", \\\"instance_parent\\\": \\\"utah-w5.fabric-testbed.net\\\"}\",\n",
      "    \"capacities\": \"{\\\"core\\\": 2, \\\"disk\\\": 10, \\\"ram\\\": 8}\",\n",
      "    \"capacity_hints\": \"{\\\"instance_type\\\": \\\"fabric.c2.m8.d10\\\"}\",\n",
      "    \"graph_node_id\": \"7f309691-7ce8-43b7-a40b-3b93daa6ef13\",\n",
      "    \"join_state\": \"NoJoin\",\n",
      "    \"labels\": \"{\\\"instance_parent\\\": \\\"utah-w5.fabric-testbed.net\\\"}\",\n",
      "    \"lease_end\": \"2022-01-12 16:17:18\",\n",
      "    \"management_ip\": \"2001:1948:417:7:f816:3eff:fed0:1615\",\n",
      "    \"name\": \"node3\",\n",
      "    \"notices\": \"Reservation b2116446-ff20-4eb0-8f4d-26f8e3a64e92 (Slice MyTestSlice0(9336ddc2-0854-4361-984c-117d54024020) Graph Id:0229b669-3e7b-40a6-b028-158981f976ee Owner:name: orchestrator guid: orchestrator-guid email: kissel@es.net State:StableOK ) is in state [Active,None_]\\n\\nLast ticket update: \\nTicket events: \\nLast ticket update: \\nTicket events: \",\n",
      "    \"pending_state\": \"None_\",\n",
      "    \"reservation_id\": \"b2116446-ff20-4eb0-8f4d-26f8e3a64e92\",\n",
      "    \"reservation_state\": \"Active\",\n",
      "    \"resource_type\": \"VM\",\n",
      "    \"site\": \"UTAH\",\n",
      "    \"slice_id\": \"9336ddc2-0854-4361-984c-117d54024020\"\n",
      "}, {\n",
      "    \"allocated_capacities\": \"{\\\"core\\\": 2, \\\"disk\\\": 10, \\\"ram\\\": 8}\",\n",
      "    \"allocated_labels\": \"{\\\"instance\\\": \\\"instance-000008df\\\", \\\"instance_parent\\\": \\\"utah-w5.fabric-testbed.net\\\"}\",\n",
      "    \"capacities\": \"{\\\"core\\\": 2, \\\"disk\\\": 10, \\\"ram\\\": 8}\",\n",
      "    \"capacity_hints\": \"{\\\"instance_type\\\": \\\"fabric.c2.m8.d10\\\"}\",\n",
      "    \"graph_node_id\": \"aa1fab33-8cba-4444-9928-806275945083\",\n",
      "    \"join_state\": \"NoJoin\",\n",
      "    \"labels\": \"{\\\"instance_parent\\\": \\\"utah-w5.fabric-testbed.net\\\"}\",\n",
      "    \"lease_end\": \"2022-01-12 16:17:18\",\n",
      "    \"management_ip\": \"2001:1948:417:7:f816:3eff:fec1:9330\",\n",
      "    \"name\": \"node1\",\n",
      "    \"notices\": \"Reservation df606b8a-f684-4c0b-8db8-9aa06f96b97d (Slice MyTestSlice0(9336ddc2-0854-4361-984c-117d54024020) Graph Id:0229b669-3e7b-40a6-b028-158981f976ee Owner:name: orchestrator guid: orchestrator-guid email: kissel@es.net State:StableOK ) is in state [Active,None_]\\n\\nLast ticket update: \\nTicket events: \\nLast ticket update: \\nTicket events: \",\n",
      "    \"pending_state\": \"None_\",\n",
      "    \"reservation_id\": \"df606b8a-f684-4c0b-8db8-9aa06f96b97d\",\n",
      "    \"reservation_state\": \"Active\",\n",
      "    \"resource_type\": \"VM\",\n",
      "    \"site\": \"UTAH\",\n",
      "    \"slice_id\": \"9336ddc2-0854-4361-984c-117d54024020\"\n",
      "}])\n"
     ]
    }
   ],
   "source": [
    "slivers = slice_manager.slivers(slice_object=slice)\n",
    "print (slivers)"
   ]
  },
  {
   "cell_type": "markdown",
   "metadata": {},
   "source": [
    "### Configure Nodes\n",
    "\n",
    "Use ssh to configure the shared NIC in each VM"
   ]
  },
  {
   "cell_type": "code",
   "execution_count": 77,
   "metadata": {},
   "outputs": [
    {
     "name": "stdout",
     "output_type": "stream",
     "text": [
      "Node Name        : node0\n",
      "Management IP    : 2001:1948:417:7:f816:3eff:fed3:65d3\n",
      "\n",
      "Node Name        : node1\n",
      "Management IP    : 2001:1948:417:7:f816:3eff:fec1:9330\n",
      "\n",
      "Node Name        : node2\n",
      "Management IP    : 2001:1948:417:7:f816:3eff:fe2e:fc22\n",
      "\n",
      "Node Name        : node3\n",
      "Management IP    : 2001:1948:417:7:f816:3eff:fed0:1615\n",
      "\n",
      "Node Name        : node4\n",
      "Management IP    : 2001:1948:417:7:f816:3eff:fe54:ba30\n",
      "\n",
      "Node Name        : node5\n",
      "Management IP    : 2001:1948:417:7:f816:3eff:fe0b:55ec\n",
      "\n",
      "Node Name        : node6\n",
      "Management IP    : 2001:1948:417:7:f816:3eff:feba:2d02\n",
      "\n",
      "Node Name        : node7\n",
      "Management IP    : 2001:1948:417:7:f816:3eff:fe30:3e6c\n",
      "\n"
     ]
    }
   ],
   "source": [
    "node_addrs = list()\n",
    "for i in range(0, nnodes):\n",
    "    nname = f\"node{i}\"\n",
    "    node = experiment_topology.nodes[nname]\n",
    "\n",
    "    management_ip = str(node.get_property(pname='management_ip'))\n",
    "    print(\"Node Name        : {}\".format(node.name))\n",
    "    print(\"Management IP    : {}\\n\".format(management_ip))\n",
    "    node_addrs.append(management_ip)"
   ]
  },
  {
   "cell_type": "code",
   "execution_count": 78,
   "metadata": {},
   "outputs": [
    {
     "name": "stdout",
     "output_type": "stream",
     "text": [
      "Setting iface config on 2001:1948:417:7:f816:3eff:fed3:65d3 (node0)\n",
      "\n",
      "3: ens7: <BROADCAST,MULTICAST,UP,LOWER_UP> mtu 1500 qdisc mq state UP group default qlen 1000\n",
      "    link/ether 02:13:80:a3:dc:9d brd ff:ff:ff:ff:ff:ff\n",
      "    inet 192.168.10.1/24 scope global ens7\n",
      "       valid_lft forever preferred_lft forever\n",
      "    inet6 fe80::13:80ff:fea3:dc9d/64 scope link tentative \n",
      "       valid_lft forever preferred_lft forever\n",
      "\n",
      "Setting iface config on 2001:1948:417:7:f816:3eff:fec1:9330 (node1)\n",
      "\n",
      "3: ens7: <BROADCAST,MULTICAST,UP,LOWER_UP> mtu 1500 qdisc mq state UP group default qlen 1000\n",
      "    link/ether 02:aa:1f:20:41:a6 brd ff:ff:ff:ff:ff:ff\n",
      "    inet 192.168.10.2/24 scope global ens7\n",
      "       valid_lft forever preferred_lft forever\n",
      "    inet6 fe80::aa:1fff:fe20:41a6/64 scope link tentative \n",
      "       valid_lft forever preferred_lft forever\n",
      "\n",
      "Setting iface config on 2001:1948:417:7:f816:3eff:fe2e:fc22 (node2)\n",
      "\n",
      "3: ens7: <BROADCAST,MULTICAST,UP,LOWER_UP> mtu 1500 qdisc mq state UP group default qlen 1000\n",
      "    link/ether 02:29:c7:8c:e1:88 brd ff:ff:ff:ff:ff:ff\n",
      "    inet 192.168.10.3/24 scope global ens7\n",
      "       valid_lft forever preferred_lft forever\n",
      "    inet6 fe80::29:c7ff:fe8c:e188/64 scope link tentative \n",
      "       valid_lft forever preferred_lft forever\n",
      "\n",
      "Setting iface config on 2001:1948:417:7:f816:3eff:fed0:1615 (node3)\n",
      "\n",
      "3: ens7: <BROADCAST,MULTICAST,UP,LOWER_UP> mtu 1500 qdisc mq state UP group default qlen 1000\n",
      "    link/ether 0a:5c:7e:54:66:e7 brd ff:ff:ff:ff:ff:ff\n",
      "    inet 192.168.10.4/24 scope global ens7\n",
      "       valid_lft forever preferred_lft forever\n",
      "    inet6 fe80::85c:7eff:fe54:66e7/64 scope link tentative \n",
      "       valid_lft forever preferred_lft forever\n",
      "\n",
      "Setting iface config on 2001:1948:417:7:f816:3eff:fe54:ba30 (node4)\n",
      "\n",
      "3: ens7: <BROADCAST,MULTICAST,UP,LOWER_UP> mtu 1500 qdisc mq state UP group default qlen 1000\n",
      "    link/ether 02:b1:1b:7c:97:2e brd ff:ff:ff:ff:ff:ff\n",
      "    inet 192.168.10.5/24 scope global ens7\n",
      "       valid_lft forever preferred_lft forever\n",
      "    inet6 fe80::b1:1bff:fe7c:972e/64 scope link tentative \n",
      "       valid_lft forever preferred_lft forever\n",
      "\n",
      "Setting iface config on 2001:1948:417:7:f816:3eff:fe0b:55ec (node5)\n",
      "\n",
      "3: ens7: <BROADCAST,MULTICAST,UP,LOWER_UP> mtu 1500 qdisc mq state UP group default qlen 1000\n",
      "    link/ether 0a:ce:d5:b5:f0:09 brd ff:ff:ff:ff:ff:ff\n",
      "    inet 192.168.10.6/24 scope global ens7\n",
      "       valid_lft forever preferred_lft forever\n",
      "    inet6 fe80::8ce:d5ff:feb5:f009/64 scope link tentative \n",
      "       valid_lft forever preferred_lft forever\n",
      "\n",
      "Setting iface config on 2001:1948:417:7:f816:3eff:feba:2d02 (node6)\n",
      "\n",
      "3: ens7: <BROADCAST,MULTICAST,UP,LOWER_UP> mtu 1500 qdisc mq state UP group default qlen 1000\n",
      "    link/ether 06:1f:9f:d4:e2:30 brd ff:ff:ff:ff:ff:ff\n",
      "    inet 192.168.10.7/24 scope global ens7\n",
      "       valid_lft forever preferred_lft forever\n",
      "    inet6 fe80::41f:9fff:fed4:e230/64 scope link tentative \n",
      "       valid_lft forever preferred_lft forever\n",
      "\n",
      "Setting iface config on 2001:1948:417:7:f816:3eff:fe30:3e6c (node7)\n",
      "\n",
      "3: ens7: <BROADCAST,MULTICAST,UP,LOWER_UP> mtu 1500 qdisc mq state UP group default qlen 1000\n",
      "    link/ether 06:e6:02:2d:02:57 brd ff:ff:ff:ff:ff:ff\n",
      "    inet 192.168.10.8/24 scope global ens7\n",
      "       valid_lft forever preferred_lft forever\n",
      "    inet6 fe80::4e6:2ff:fe2d:257/64 scope link tentative \n",
      "       valid_lft forever preferred_lft forever\n",
      "\n"
     ]
    }
   ],
   "source": [
    "from ipaddress import ip_address, IPv4Address\n",
    "def validIPAddress(IP: str) -> str:\n",
    "    try:\n",
    "        return \"IPv4\" if type(ip_address(IP)) is IPv4Address else \"IPv6\"\n",
    "    except ValueError:\n",
    "        return \"Invalid\"\n",
    "\n",
    "import paramiko\n",
    "key = paramiko.RSAKey.from_private_key_file(ssh_key_file_priv)\n",
    "\n",
    "bastion=paramiko.SSHClient()\n",
    "bastion.set_missing_host_key_policy(paramiko.AutoAddPolicy())\n",
    "bastion.connect(bastion_public_addr, username=bastion_username, key_filename=bastion_key_filename)\n",
    "bastion_transport = bastion.get_transport()\n",
    "\n",
    "i = 1\n",
    "for addr in node_addrs:\n",
    "    if validIPAddress(addr) == 'IPv4':\n",
    "        src_addr = (bastion_private_ipv4_addr, 22)\n",
    "    elif validIPAddress(addr) == 'IPv6':\n",
    "        src_addr = (bastion_private_ipv6_addr, 22)\n",
    "    else:\n",
    "        print('Management IP Invalid: {}'.format(addr))\n",
    "        continue\n",
    "\n",
    "    dest_addr = (addr, 22)\n",
    "    bastion_channel = bastion_transport.open_channel(\"direct-tcpip\", dest_addr, src_addr)\n",
    "\n",
    "    client = paramiko.SSHClient()\n",
    "    client.load_system_host_keys()\n",
    "    client.set_missing_host_key_policy(paramiko.MissingHostKeyPolicy())\n",
    "    client.set_missing_host_key_policy(paramiko.AutoAddPolicy())\n",
    "\n",
    "    client.connect(addr,username=username,pkey = key, sock=bastion_channel)\n",
    "    \n",
    "    print (f\"Setting iface config on {addr} (node{i-1})\")\n",
    "    stdin, stdout, stderr = client.exec_command(f\"sudo ip addr add 192.168.10.{i}/24 dev ens7\")\n",
    "    print (str(stdout.read(),'utf-8').replace('\\\\n','\\n'))\n",
    "\n",
    "    stdin, stdout, stderr = client.exec_command('sudo ip link set ens7 up && ip addr show dev ens7')\n",
    "    print (str(stdout.read(),'utf-8').replace('\\\\n','\\n'))\n",
    "\n",
    "    client.close()\n",
    "    i += 1"
   ]
  },
  {
   "cell_type": "code",
   "execution_count": 81,
   "metadata": {},
   "outputs": [
    {
     "name": "stdout",
     "output_type": "stream",
     "text": [
      "PING 192.168.10.1 (192.168.10.1) 56(84) bytes of data.\n",
      "64 bytes from 192.168.10.1: icmp_seq=1 ttl=64 time=0.038 ms\n",
      "64 bytes from 192.168.10.1: icmp_seq=2 ttl=64 time=0.012 ms\n",
      "\n",
      "--- 192.168.10.1 ping statistics ---\n",
      "2 packets transmitted, 2 received, 0% packet loss, time 1029ms\n",
      "rtt min/avg/max/mdev = 0.012/0.025/0.038/0.013 ms\n",
      "\n",
      "PING 192.168.10.2 (192.168.10.2) 56(84) bytes of data.\n",
      "64 bytes from 192.168.10.2: icmp_seq=1 ttl=64 time=0.118 ms\n",
      "64 bytes from 192.168.10.2: icmp_seq=2 ttl=64 time=0.108 ms\n",
      "\n",
      "--- 192.168.10.2 ping statistics ---\n",
      "2 packets transmitted, 2 received, 0% packet loss, time 1003ms\n",
      "rtt min/avg/max/mdev = 0.108/0.113/0.118/0.005 ms\n",
      "\n",
      "PING 192.168.10.3 (192.168.10.3) 56(84) bytes of data.\n",
      "\n",
      "--- 192.168.10.3 ping statistics ---\n",
      "2 packets transmitted, 0 received, 100% packet loss, time 1026ms\n",
      "\n",
      "\n",
      "PING 192.168.10.4 (192.168.10.4) 56(84) bytes of data.\n",
      "64 bytes from 192.168.10.4: icmp_seq=1 ttl=64 time=0.094 ms\n",
      "64 bytes from 192.168.10.4: icmp_seq=2 ttl=64 time=0.113 ms\n",
      "\n",
      "--- 192.168.10.4 ping statistics ---\n",
      "2 packets transmitted, 2 received, 0% packet loss, time 1007ms\n",
      "rtt min/avg/max/mdev = 0.094/0.103/0.113/0.009 ms\n",
      "\n",
      "PING 192.168.10.5 (192.168.10.5) 56(84) bytes of data.\n",
      "64 bytes from 192.168.10.5: icmp_seq=1 ttl=64 time=0.145 ms\n",
      "64 bytes from 192.168.10.5: icmp_seq=2 ttl=64 time=0.063 ms\n",
      "\n",
      "--- 192.168.10.5 ping statistics ---\n",
      "2 packets transmitted, 2 received, 0% packet loss, time 1029ms\n",
      "rtt min/avg/max/mdev = 0.063/0.104/0.145/0.041 ms\n",
      "\n",
      "PING 192.168.10.6 (192.168.10.6) 56(84) bytes of data.\n",
      "64 bytes from 192.168.10.6: icmp_seq=1 ttl=64 time=0.115 ms\n",
      "64 bytes from 192.168.10.6: icmp_seq=2 ttl=64 time=0.084 ms\n",
      "\n",
      "--- 192.168.10.6 ping statistics ---\n",
      "2 packets transmitted, 2 received, 0% packet loss, time 1025ms\n",
      "rtt min/avg/max/mdev = 0.084/0.099/0.115/0.015 ms\n",
      "\n",
      "PING 192.168.10.7 (192.168.10.7) 56(84) bytes of data.\n",
      "64 bytes from 192.168.10.7: icmp_seq=1 ttl=64 time=0.087 ms\n",
      "64 bytes from 192.168.10.7: icmp_seq=2 ttl=64 time=0.084 ms\n",
      "\n",
      "--- 192.168.10.7 ping statistics ---\n",
      "2 packets transmitted, 2 received, 0% packet loss, time 1031ms\n",
      "rtt min/avg/max/mdev = 0.084/0.085/0.087/0.001 ms\n",
      "\n",
      "PING 192.168.10.8 (192.168.10.8) 56(84) bytes of data.\n",
      "64 bytes from 192.168.10.8: icmp_seq=1 ttl=64 time=0.101 ms\n",
      "64 bytes from 192.168.10.8: icmp_seq=2 ttl=64 time=0.219 ms\n",
      "\n",
      "--- 192.168.10.8 ping statistics ---\n",
      "2 packets transmitted, 2 received, 0% packet loss, time 1002ms\n",
      "rtt min/avg/max/mdev = 0.101/0.160/0.219/0.059 ms\n",
      "\n"
     ]
    }
   ],
   "source": [
    "# Ping from node0 to the others\n",
    "addr = node_addrs[0]\n",
    "\n",
    "dest_addr = (addr, 22)\n",
    "bastion_channel = bastion_transport.open_channel(\"direct-tcpip\", dest_addr, src_addr)\n",
    "\n",
    "client = paramiko.SSHClient()\n",
    "client.load_system_host_keys()\n",
    "client.set_missing_host_key_policy(paramiko.MissingHostKeyPolicy())\n",
    "client.set_missing_host_key_policy(paramiko.AutoAddPolicy())\n",
    "\n",
    "client.connect(addr,username=username,pkey = key, sock=bastion_channel)\n",
    "\n",
    "for i in range(1, nnodes+1):\n",
    "    stdin, stdout, stderr = client.exec_command(f\"ping -c 2 192.168.10.{i}\")\n",
    "    print (str(stdout.read(),'utf-8').replace('\\\\n','\\n'))"
   ]
  },
  {
   "cell_type": "markdown",
   "metadata": {},
   "source": [
    "## Delete Slice"
   ]
  },
  {
   "cell_type": "code",
   "execution_count": 68,
   "metadata": {},
   "outputs": [
    {
     "name": "stdout",
     "output_type": "stream",
     "text": [
      "Response Status Status.OK\n",
      "Response received None\n"
     ]
    }
   ],
   "source": [
    "return_status, result = slice_manager.delete(slice_object=slice)\n",
    "\n",
    "print(\"Response Status {}\".format(return_status))\n",
    "print(\"Response received {}\".format(result))"
   ]
  }
 ],
 "metadata": {
  "kernelspec": {
   "display_name": "Python 3",
   "language": "python",
   "name": "python3"
  },
  "language_info": {
   "codemirror_mode": {
    "name": "ipython",
    "version": 3
   },
   "file_extension": ".py",
   "mimetype": "text/x-python",
   "name": "python",
   "nbconvert_exporter": "python",
   "pygments_lexer": "ipython3",
   "version": "3.9.2"
  }
 },
 "nbformat": 4,
 "nbformat_minor": 4
}
