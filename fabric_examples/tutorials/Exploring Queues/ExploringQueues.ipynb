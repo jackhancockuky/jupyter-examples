{
 "cells": [
  {
   "cell_type": "markdown",
   "id": "e1f28628-3d53-4037-a2de-766da4069a49",
   "metadata": {},
   "source": [
    "# Exploring Queues\n",
    "<i>Adapted for use with FABRIC from [Exploring Queues](https://www.cs.unc.edu/Research/geni/geniEdu/09-queues.html)</i>\n",
    "        \n",
    "<b> Prerequisites  </b>\n",
    "    \n",
    "* You need to have your FABRIC bastion host key pair set up to do this tutorial. If you have not already set this up, follow steps 1-3 at https://learn.fabric-testbed.net/knowledge-base/logging-into-fabric-vms/.\n",
    "* You are comfortable using ssh and executing basic commands using a UNIX shell. [Tips about how to login to hosts.](https://learn.fabric-testbed.net/knowledge-base/logging-into-fabric-vms/)\n",
    "\n",
    "This experiment will show the relation between queue size of a throttled router and packet loss/delay. UDP traffic will be sent over a bottlenecked router to develop the target queue."
   ]
  },
  {
   "cell_type": "markdown",
   "id": "77f219ed-9ba8-4722-bf3c-dc54aa56b2bb",
   "metadata": {
    "tags": []
   },
   "source": [
    "## 1. Design the Experiment\n",
    "### 1.1 Reserve Resources"
   ]
  },
  {
   "cell_type": "markdown",
   "id": "04c6f22d-1f58-4742-99a7-a837319b8608",
   "metadata": {},
   "source": [
    "#### Import the Fabric API"
   ]
  },
  {
   "cell_type": "code",
   "execution_count": null,
   "id": "8153ea42-0f47-4085-97b5-ed98848a7cd6",
   "metadata": {},
   "outputs": [],
   "source": [
    "from fabrictestbed_extensions.fablib.fablib import FablibManager as fablib_manager\n",
    "\n",
    "fablib = fablib_manager()\n",
    "                     \n",
    "fablib.show_config()\n",
    "\n",
    "import json\n",
    "import traceback"
   ]
  },
  {
   "cell_type": "markdown",
   "id": "5f0ea48e-8bd2-4bb3-9924-071d450b29cd",
   "metadata": {},
   "source": [
    "#### Create slice"
   ]
  },
  {
   "cell_type": "code",
   "execution_count": null,
   "id": "86b2eff7-7114-4ca5-89c3-ba188f2f824d",
   "metadata": {},
   "outputs": [],
   "source": [
    "try:\n",
    "    #Create Slice\n",
    "    slice = fablib.new_slice(name=\"Queues\")\n",
    "    \n",
    "    #Router\n",
    "    router = slice.add_node(name=\"router\", site=\"MAX\")\n",
    "    router.set_capacities(cores=4, ram=16, disk=50)\n",
    "    router.set_image(\"default_ubuntu_20\")\n",
    "    rPort1 = router.add_component(model='NIC_Basic', name=\"rPort1\").get_interfaces()[0] \n",
    "    rPort2 = router.add_component(model='NIC_Basic', name=\"rPort2\").get_interfaces()[0] \n",
    "    \n",
    "    #Host 1\n",
    "    host1 = slice.add_node(name=\"Source\", site=\"MAX\")\n",
    "    host1.set_capacities(cores=4, ram=16, disk=50)\n",
    "    host1.set_image(\"default_ubuntu_20\")\n",
    "    h1Port = host1.add_component(model='NIC_Basic', name=\"h1Port\").get_interfaces()[0] \n",
    "    \n",
    "    #Host 2\n",
    "    host2 = slice.add_node(name=\"Destination\", site=\"MAX\")\n",
    "    host2.set_capacities(cores=4, ram=16, disk=50)\n",
    "    host2.set_image(\"default_ubuntu_20\")\n",
    "    h2Port = host2.add_component(model='NIC_Basic', name=\"h2Port\").get_interfaces()[0] \n",
    "    \n",
    "    lan1 = slice.add_l2network(name=\"Lan1\", interfaces=[rPort1, h1Port])\n",
    "    lan2 = slice.add_l2network(name=\"Lan2\", interfaces=[rPort2, h2Port])\n",
    "    \n",
    "    #Submit Slice Request\n",
    "    slice.submit()\n",
    "except Exception as e:\n",
    "    print(f\"Slice Failed: {e}\")"
   ]
  },
  {
   "cell_type": "code",
   "execution_count": null,
   "id": "2e15d7f5-4c86-4219-a0c3-141b3e6a8a31",
   "metadata": {},
   "outputs": [],
   "source": [
    "from ipaddress import ip_address, IPv4Address, IPv6Address, IPv4Network, IPv6Network\n",
    "\n",
    "try:    \n",
    "    host1 = slice.get_node(name=\"Source\") \n",
    "    host2 = slice.get_node(name=\"Destination\")\n",
    "    router = slice.get_node(name=\"router\")\n",
    "    \n",
    "    subnet1 = IPv4Network(\"10.1.1.0/24\")\n",
    "    subnet2 = IPv4Network(\"11.1.1.0/24\")\n",
    "    \n",
    "    host1_iface = host1.get_interface(network_name=\"Lan1\")\n",
    "    host1_iface.ip_addr_add(addr=\"10.1.1.1\", subnet=subnet1)\n",
    "    \n",
    "    router_iface = router.get_interface(network_name=\"Lan1\")\n",
    "    router_iface.ip_addr_add(addr=\"10.1.1.2\", subnet=subnet1)\n",
    "    \n",
    "    router_iface2 = router.get_interface(network_name=\"Lan2\")\n",
    "    router_iface2.ip_addr_add(addr=\"11.1.1.2\", subnet=subnet2)\n",
    "    \n",
    "    host2_iface2 = host2.get_interface(network_name=\"Lan2\")\n",
    "    host2_iface2.ip_addr_add(addr=\"11.1.1.1\", subnet=subnet2) \n",
    "    \n",
    "    host1.execute(\"sudo ip route add 11.1.1.0/24 via 10.1.1.2\")\n",
    "    router.execute(\"sudo sysctl -w net.ipv4.ip_forward=1\")\n",
    "    host2.execute(\"sudo ip route add 10.1.1.0/24 via 11.1.1.2\")\n",
    "except Exception as e:\n",
    "    print(f\"Exception: {e}\")\n"
   ]
  },
  {
   "cell_type": "code",
   "execution_count": null,
   "id": "63da711f-33af-4474-8cb9-7e5e91e94fae",
   "metadata": {},
   "outputs": [],
   "source": [
    "for node in slice.get_nodes():\n",
    "    node.execute(\"sudo apt update;sudo apt -y install iperf\")"
   ]
  },
  {
   "cell_type": "markdown",
   "id": "590b2d21-16d1-40b9-8911-1c1c54453770",
   "metadata": {},
   "source": [
    "## 2. Experiment\n",
    "### 2.1 Measuring Loss and Delay\n",
    "The following steps will show how to measure packet loss and RTT.\n",
    "1. Open two terminals on the `Source` nodes, one on the `Destination` node and one on the `router` node.\n",
    "\n",
    "2. Run the following command on the `Destination` node to receive UDP messages:\n",
    "<br>`iperf -s -u`\n",
    "\n",
    "3. On one of the `Source` terminal, type but do not run:\n",
    "<br>`ping 11.1.1.1`\n",
    "\n",
    "4. On another `Source` terminal, type but do not run:\n",
    "<br>`iperf -c 11.1.1.1 -u -b 20mb -t 10 &` \n",
    "<br> This command will send the Destination node UDP traffic at a bandwidth of 20mb/s for 10 seconds.\n",
    "\n",
    "5. On the source terminals start the Iperf traffic then quickly start the ping command. When the Iperf completes, end the ping with `Ctrl+C`.\n",
    "\n",
    "6. Your Iperf results should be similar to:\n",
    "<br>` [  3]  0.0-11.4 sec  23.8 MBytes  17.5 Mbits/sec   0.086 ms    0/17007 (0%) `\n",
    "<br> The `0/17007 (0%)` shows a 0% packet loss. The ping RTT should be consistent over the duration.\n",
    "\n",
    "7. This measurement of loss will be used throughout the rest of the experiment.\n",
    "\n",
    "### 2.2 Throttling the Router\n",
    "In step 2.1 it is seen that there is no packet loss and little delay, this is due to the nodes being able to handle more traffic than we were generating (20mbps). Seeing queueing behavior requires the connection to be throttled.\n",
    "1. Go to the `router` terminal and run:\n",
    "<br>`sudo tc qdisc add dev ens7 root tbf rate 18mbit limit 1000mb burst 10kb`\n",
    "<br>This command will change the outgoing interface to send at a rate of 18mb/s.\n",
    "\n",
    "2. Rerun the experiment from part `2.1`, on `Source` terminals simultaneously run:\n",
    "<br>`ping 11.1.1.1`\n",
    "<br>`iperf -c 11.1.1.1 -u -b 20mb -t 10 &` \n",
    "<br> There will be no packet loss on the iperf report, however, there will be an increase in the delay on the ping command during the iperf execution.\n",
    "\n",
    "### 2.3 Finite Queue\n",
    "\n",
    "1. Adjust the queue size to 3mb on the `router` node with:\n",
    "<br>`sudo tc qdisc replace dev ens7 root tbf rate 18mbit limit 3mb burst 10kb`\n",
    "\n",
    "2. Rerun the experiment from part `2.1`, on `Source` terminals simultaneously run:\n",
    "<br>`ping 11.1.1.1`\n",
    "<br>`iperf -c 11.1.1.1 -u -b 20mb -t 10 &` \n",
    "<br> There may be some packet loss reported now, in this case the queue was too small for all the traffic.\n",
    "\n",
    "### 2.4 Smaller Queue\n",
    "\n",
    "1. Adjust the queue size to 2mb on the `router` node with:\n",
    "<br>`sudo tc qdisc replace dev ens7 root tbf rate 18mbit limit 2mb burst 10kb`\n",
    "\n",
    "2. Rerun the experiment from part `2.1`, on `Source` terminals simultaneously run:\n",
    "<br>`ping 11.1.1.1`\n",
    "<br>`iperf -c 11.1.1.1 -u -b 20mb -t 10 &` \n",
    "<br> Modest packet loss should be observed now. On the terminal running ping it can be observed that delay will increase until becoming constant. This occurs when a finite queue fills up, giving it a constant size.\n",
    "\n",
    "### 2.5 Even Smaller Queue\n",
    "\n",
    "1. Adjust the queue size to 100kb (.1 mb) on the `router` node with:\n",
    "<br>`sudo tc qdisc replace dev ens7 root tbf rate 18mbit limit 100kb burst 10kb`\n",
    "\n",
    "2. Rerun the experiment from part `2.1`, on `Source` terminals simultaneously run:\n",
    "<br>`ping 11.1.1.1`\n",
    "<br>`iperf -c 11.1.1.1 -u -b 20mb -t 10 &` \n",
    "<br> Packet loss will be larger while delay plateaus faster."
   ]
  },
  {
   "cell_type": "markdown",
   "id": "a96e8f0e-4dd5-49ee-8b7e-074dcecedbcd",
   "metadata": {},
   "source": [
    "## 3. Cleanup Resources\n",
    "### 3.1 Delete Slice"
   ]
  },
  {
   "cell_type": "code",
   "execution_count": null,
   "id": "807bb43b-8923-4e64-8b11-b224df88062a",
   "metadata": {},
   "outputs": [],
   "source": [
    "try:\n",
    "    slice = fablib.get_slice(\"Queues\")\n",
    "    slice.delete()\n",
    "except Exception as e:\n",
    "    print(f\"Fail: {e}\")"
   ]
  },
  {
   "cell_type": "code",
   "execution_count": null,
   "id": "0e10d48c-82b9-4ec1-93b5-61e09acebb73",
   "metadata": {},
   "outputs": [],
   "source": []
  }
 ],
 "metadata": {
  "kernelspec": {
   "display_name": "Python 3 (ipykernel)",
   "language": "python",
   "name": "python3"
  },
  "language_info": {
   "codemirror_mode": {
    "name": "ipython",
    "version": 3
   },
   "file_extension": ".py",
   "mimetype": "text/x-python",
   "name": "python",
   "nbconvert_exporter": "python",
   "pygments_lexer": "ipython3",
   "version": "3.9.7"
  }
 },
 "nbformat": 4,
 "nbformat_minor": 5
}
