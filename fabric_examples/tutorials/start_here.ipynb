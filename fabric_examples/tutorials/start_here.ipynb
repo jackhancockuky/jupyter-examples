{
 "cells": [
  {
   "cell_type": "markdown",
   "id": "6a2dedb3-c4f5-4001-b988-9d0d35b08d62",
   "metadata": {},
   "source": [
    "# FABRIC Tutorials: Jupyter Notebooks\n",
    "\n",
    "This directory contains a collection of Jupyter notebooks providing examples on many topics."
   ]
  },
  {
   "cell_type": "markdown",
   "id": "07019dca-c584-4160-bb88-c01e998773bf",
   "metadata": {
    "tags": []
   },
   "source": [
    "## FABRIC Environment Setup\n",
    "\n",
    "- [Configure Environment](./fabric_examples/fablib_api/configure_environment/configure_environment.ipynb): Configure you Environment including creating the `fabric_rc` and `ssh_config` files.\n",
    "\n",
    "## Basic Examples\n",
    "\n",
    "- [Ping](<./Ping/ping.ipynb>): Create a layer 2 connection between nodes.\n",
    "\n",
    "## Networking Basics\n",
    "\n",
    "- [OSPF](<./OSPF/OSPF.ipynb>): Experiment with the OSPF routing protocol.\n",
    "- [Traffic Analysis](<./Traffic Analysis/Traffic_Analysis.ipynb>): Use tcpdump to capture and analyze network traffic.\n",
    "- [TCP Control](<./TCP Control/tcp_control.ipynb>): Generate and analyzing TCP flows.\n",
    "- [Exploring Queues](<./Exploring Queues/ExploringQueues.ipynb>): Explore the effects of queues on packet loss and delay using UDP traffic. \n",
    "- [Exploring IPV6](<./Exploring IPV6/ExploringIPV6.ipynb>): Use network tools to work with IPV6 addresses.\n",
    "\n",
    "## Distributed Systems\n",
    "\n",
    "- [Webserver](<./Webserver/webserver.ipynb>): Install and start a webserver.\n",
    "\n",
    "\n",
    "\n",
    "\n"
   ]
  },
  {
   "cell_type": "code",
   "execution_count": null,
   "id": "562e2612-7987-4469-94a0-539d178019fe",
   "metadata": {},
   "outputs": [],
   "source": []
  }
 ],
 "metadata": {
  "kernelspec": {
   "display_name": "Bash",
   "language": "bash",
   "name": "bash"
  },
  "language_info": {
   "codemirror_mode": "shell",
   "file_extension": ".sh",
   "mimetype": "text/x-sh",
   "name": "bash"
  }
 },
 "nbformat": 4,
 "nbformat_minor": 5
}
