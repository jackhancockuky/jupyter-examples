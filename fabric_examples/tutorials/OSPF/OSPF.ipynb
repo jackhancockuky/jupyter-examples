{
 "cells": [
  {
   "cell_type": "markdown",
   "id": "61856300-d7f4-4cc8-b5f9-5490fee46a53",
   "metadata": {},
   "source": [
    "# Introduction to OSPF\n",
    "<i>Adapted for use with FABRIC from [OSPF](https://www.cs.unc.edu/Research/geni/geniEdu/06-Ospf.html)</i>\n",
    "    \n",
    "In this tutorial you will experiment with the OSPF routing protocol.\n",
    "    \n",
    "<b> Prerequisites  \n",
    "    \n",
    "* You need to have your FABRIC bastion host key pair set up to do this tutorial. If you have not already set this up, follow steps 1-3 at https://learn.fabric-testbed.net/knowledge-base/logging-into-fabric-vms/.\n",
    "* You are comfortable using ssh and executing basic commands using a UNIX shell. [Tips about how to login to hosts.](https://learn.fabric-testbed.net/knowledge-base/logging-into-fabric-vms/)\n",
    "    \n",
    "OSPF stands for Open Shortest Path First, and is currently the most widely used interior gateway protocol in the world. OSPF is a dynamic routing protocol, meaning changes are accounted for automatically. Hello messages are used to discover neighbors and find breaks. By default, hello messages are sent by OSPF routers every 10 seconds on point to point segments.\n",
    "<br><br>Each OSPF router maintains a Link State Database (LSDB) containing Link State Advertisements (LSAs). Newly discovered neighbors exchange their LSDBs with Database Description (DDs) messages.\n",
    "<br><br>OSPF uses Router Dead Intervals, the maximum time a router may be \"silent\" before being declared \"down\". OSPF uses Djikstra's Shortest path algorithm to compute routes."
   ]
  },
  {
   "cell_type": "markdown",
   "id": "465f9929-6e09-4e67-8379-be6419b62fcd",
   "metadata": {},
   "source": [
    "## 1. Design the Experiment\n"
   ]
  },
  {
   "cell_type": "markdown",
   "id": "b800f09d-94b1-4f51-ba2d-eceb4ff34e4a",
   "metadata": {},
   "source": [
    "### 1.1  Retrieve Slice\n",
    "Create the slice at the [Create Slice Notebook](./CreateSlice.ipynb) and import it here.\n"
   ]
  },
  {
   "cell_type": "code",
   "execution_count": null,
   "id": "968dbb3f-f033-4989-96df-8b0956eed211",
   "metadata": {},
   "outputs": [],
   "source": [
    "slice = fablib.get_slice(\"OSPF\")\n",
    "slice.list_nodes()"
   ]
  },
  {
   "cell_type": "code",
   "execution_count": null,
   "id": "4622807f-d315-4d10-8f7a-69f763e926ae",
   "metadata": {},
   "outputs": [],
   "source": [
    "from fabrictestbed_extensions.fablib.fablib import FablibManager as fablib_manager\n",
    "\n",
    "fablib = fablib_manager()\n",
    "                     \n",
    "fablib.show_config()\n",
    "\n",
    "import json\n",
    "import traceback"
   ]
  },
  {
   "cell_type": "markdown",
   "id": "13ebfe18-98b8-494a-8a3a-83763f9922b4",
   "metadata": {},
   "source": [
    "### 1.2 Set Routes\n",
    "Setup connections between nodes on 4 seperate networks."
   ]
  },
  {
   "cell_type": "code",
   "execution_count": null,
   "id": "71a08703-fc6c-4058-aca6-2642c46fb663",
   "metadata": {},
   "outputs": [],
   "source": [
    "from ipaddress import ip_address, IPv4Address, IPv6Address, IPv4Network, IPv6Network\n",
    "\n",
    "try:    \n",
    "    A = slice.get_node(name=\"A\") \n",
    "    B = slice.get_node(name=\"B\")\n",
    "    C = slice.get_node(name=\"C\")\n",
    "    D = slice.get_node(name=\"D\")\n",
    "    \n",
    "    subnet1 = IPv4Network(\"10.1.1.0/24\")\n",
    "    subnet2 = IPv4Network(\"10.1.2.0/24\")\n",
    "    subnet3 = IPv4Network(\"10.1.3.0/24\")\n",
    "    subnet4 = IPv4Network(\"10.1.4.0/24\")\n",
    "    \n",
    "    AP1 = A.get_interface(network_name=\"Lan1\") \n",
    "    AP1.ip_addr_add(addr=\"10.1.1.1\", subnet=subnet1)\n",
    "    \n",
    "    BP1 = B.get_interface(network_name=\"Lan1\") \n",
    "    BP1.ip_addr_add(addr=\"10.1.1.2\", subnet=subnet1)\n",
    "    \n",
    "    BP2 = B.get_interface(network_name=\"Lan2\") \n",
    "    BP2.ip_addr_add(addr=\"10.1.2.1\", subnet=subnet2)\n",
    "            \n",
    "    CP1 = C.get_interface(network_name=\"Lan2\") \n",
    "    CP1.ip_addr_add(addr=\"10.1.2.2\", subnet=subnet2)\n",
    "    \n",
    "    CP2 = C.get_interface(network_name=\"Lan3\") \n",
    "    CP2.ip_addr_add(addr=\"10.1.3.1\", subnet=subnet3)\n",
    "    \n",
    "    DP1 = D.get_interface(network_name=\"Lan3\") \n",
    "    DP1.ip_addr_add(addr=\"10.1.3.2\", subnet=subnet3)\n",
    "    \n",
    "    DP2 = D.get_interface(network_name=\"Lan4\") \n",
    "    DP2.ip_addr_add(addr=\"10.1.4.1\", subnet=subnet4)\n",
    "            \n",
    "    AP2 = A.get_interface(network_name=\"Lan4\") \n",
    "    AP2.ip_addr_add(addr=\"10.1.4.2\", subnet=subnet4)\n",
    "except Exception as e:\n",
    "    print(f\"Exception: {e}\")"
   ]
  },
  {
   "cell_type": "markdown",
   "id": "f817b5a8-20c7-4585-971d-d37bee9edd4a",
   "metadata": {},
   "source": [
    "### 1.3 Installation Script\n",
    "Upload and execute installation script on all nodes. The OSPF and Zebra services are then started.\n",
    "Read through the installation script [Here](./scripts/ospf-script.sh)."
   ]
  },
  {
   "cell_type": "code",
   "execution_count": null,
   "id": "f8369b80-9627-4f3d-821a-c5997e382688",
   "metadata": {},
   "outputs": [],
   "source": [
    "for node in slice.get_nodes():\n",
    "    node.upload_file(\"scripts/ospf-script.sh\",\"ospf-script.sh\")\n",
    "    node.execute(\"chmod +x ospf-script.sh;\\\n",
    "    ./ospf-script.sh;\\\n",
    "    sudo cp /usr/share/doc/quagga-core/examples/vtysh.conf.sample /etc/quagga/vtysh.conf;\\\n",
    "    sudo cp /usr/share/doc/quagga-core/examples/bgpd.conf.sample /etc/quagga/bgpd.conf;\\\n",
    "    sudo chown quagga:quagga /etc/quagga/*.conf;\\\n",
    "    sudo chown quagga:quaggavty /etc/quagga/vtysh.conf;\\\n",
    "    sudo chmod 640 /etc/quagga/*.conf;\\\n",
    "    sudo service zebra start;\\\n",
    "    sudo service ospfd start\")"
   ]
  },
  {
   "cell_type": "markdown",
   "id": "effb804c-23e4-47c0-beb1-82f33882842c",
   "metadata": {},
   "source": [
    "\n",
    "## 2. Experiment\n",
    "### 2.1 Router Interface\n",
    "1. Login to each node\n",
    "2. Open the Quagga shell\n",
    "Quagga provides an integreated user inteface shell called vtysh, a cisco-like CLI, connecting to the underlying daemons (zebra and ospfd). <br>Open the shell on each node by typing:\n",
    "<br>```sudo vtysh```\n",
    "3. Look at the OSPF neighbors for a node by typing the following into a vtysh console:\n",
    "<br>```show ip ospf neighbor```\n",
    "<br>The output shows the status of neighbors including details of the connections.\n",
    "\n",
    "4. The routing table for a node can be seen by typing the following into a vtysh console:\n",
    "<br>```show ip ospf route```\n",
    "<br>This table shows how packets would be forwarded from the source to a given destination.\n",
    "5. Exiting the console can be done by executing:\n",
    "<br>```exit```\n",
    "\n",
    "\n",
    "### 2.2 Dead Link\n",
    "1. Login to a node\n",
    "2. Show available interfaces with:\n",
    "<br>```ip addr```\n",
    "3. Take down one of the links (ens7 or ens8), keep in mind the IP address associated:\n",
    "<br>```sudo ip link set dev <interface> down```\n",
    "\n",
    "4. Quickly switch back to vtysh shell and reissue:\n",
    "<br>```show ip ospf neighbor```\n",
    "5. Reissue the command multiple times and watch the Dead Time count down until the neighbor is removed from the table. The other link will also count down, but resets when receiving a hello message.\n",
    "6. Exit the console and bring the interface back up by typing:\n",
    "<br>```sudo ip link set dev <interface> up```\n",
    "7. List the OSPF neighbors once more to see the link listed.\n",
    "\n",
    "### 2.3 Route Change\n",
    "1. Login to node 'A'\n",
    "2. Run the following command:\n",
    "<br>```traceroute 10.1.3.1```\n",
    "<br>Traceroute will determine the route that packets are taking through the network. Running the command on node A will show packets travelling through 10.1.4.1 (node D) to 10.1.3.1 (node C).\n",
    "3. Take down the interface to node D (ens8):\n",
    "<br>```sudo ip link set dev <interface> down```\n",
    "\n",
    "4. Run traceroute again:\n",
    "<br>```traceroute 10.1.3.1```\n",
    "<br>The output should now show traffic going through 10.1.1.2 (node B).\n",
    "5. Bring the route to node D (ens8) back up:\n",
    "<br>```sudo ip link set dev <interface> up```\n",
    "6. Repeatedly run traceroute and eventually the route through node D will reappear."
   ]
  },
  {
   "cell_type": "code",
   "execution_count": null,
   "id": "bec5e274-e2d5-41ff-b351-edf33ef105a0",
   "metadata": {},
   "outputs": [],
   "source": []
  }
 ],
 "metadata": {
  "kernelspec": {
   "display_name": "Python 3 (ipykernel)",
   "language": "python",
   "name": "python3"
  },
  "language_info": {
   "codemirror_mode": {
    "name": "ipython",
    "version": 3
   },
   "file_extension": ".py",
   "mimetype": "text/x-python",
   "name": "python",
   "nbconvert_exporter": "python",
   "pygments_lexer": "ipython3",
   "version": "3.9.7"
  }
 },
 "nbformat": 4,
 "nbformat_minor": 5
}
