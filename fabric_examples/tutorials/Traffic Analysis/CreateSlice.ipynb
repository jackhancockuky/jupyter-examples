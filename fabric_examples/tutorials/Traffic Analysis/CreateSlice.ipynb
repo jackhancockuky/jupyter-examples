{
 "cells": [
  {
   "cell_type": "markdown",
   "id": "5f373d6e-223a-479a-971c-c39c02aa1390",
   "metadata": {},
   "source": [
    "# Create Slice for Fabric Rack"
   ]
  },
  {
   "cell_type": "code",
   "execution_count": null,
   "id": "3e84a125-c5f8-4b38-ada2-b585ee5a83ab",
   "metadata": {},
   "outputs": [],
   "source": [
    "from fabrictestbed_extensions.fablib.fablib import FablibManager as fablib_manager\n",
    "\n",
    "fablib = fablib_manager()\n",
    "                     \n",
    "fablib.show_config()\n",
    "\n",
    "import json\n",
    "import traceback"
   ]
  },
  {
   "cell_type": "code",
   "execution_count": null,
   "id": "c750ec14-1761-4592-8530-78edd3968a4a",
   "metadata": {},
   "outputs": [],
   "source": [
    "slice_name = \"TrafficAnalysis\"\n",
    "site = \"MAX\"\n",
    "\n",
    "nicmodel = \"NIC_Basic\"\n",
    "image = \"default_ubuntu_20\"\n",
    "\n",
    "cores = 4\n",
    "ram = 16\n",
    "disk = 50"
   ]
  },
  {
   "cell_type": "code",
   "execution_count": null,
   "id": "a206b6be-d3f8-4e6f-ab42-f0ea79c23d7b",
   "metadata": {},
   "outputs": [],
   "source": [
    "#A topology with 2 nodes (a client and a server) will be reserved.\n",
    "try:\n",
    "    #Create Slice\n",
    "    slice = fablib.new_slice(name = slice_name)\n",
    "    \n",
    "    #Server\n",
    "    server = slice.add_node(name = \"server\", site = site)\n",
    "    server.set_image(image)\n",
    "    server_port = server.add_component(model = nicmodel, name = \"server_port\").get_interfaces()[0] \n",
    "    \n",
    "    #Client\n",
    "    client = slice.add_node(name = nicmodel, site = site)\n",
    "    client.set_image(image)\n",
    "    client_port = client.add_component(model = nicmodel, name = \"client_port\").get_interfaces()[0] \n",
    "    \n",
    "    lan = slice.add_l2network(name = \"lan\", interfaces = [server_port, client_port])\n",
    "    \n",
    "    #Submit Slice Request\n",
    "    slice.submit()\n",
    "except Exception as e:\n",
    "    print(f\"Slice Failed: {e}\")"
   ]
  },
  {
   "cell_type": "markdown",
   "id": "f2e15f1b-c105-48fc-a4b4-404e6ef3f594",
   "metadata": {
    "tags": []
   },
   "source": [
    "## Cleanup Resources"
   ]
  },
  {
   "cell_type": "code",
   "execution_count": null,
   "id": "35d3f223-a0e2-402a-85ac-e8b4620e27eb",
   "metadata": {
    "tags": []
   },
   "outputs": [],
   "source": [
    "try:\n",
    "    slice = fablib.get_slice(slice_name)\n",
    "    slice.delete()\n",
    "except Exception as e:\n",
    "    print(f\"Fail: {e}\")"
   ]
  }
 ],
 "metadata": {
  "kernelspec": {
   "display_name": "Python 3 (ipykernel)",
   "language": "python",
   "name": "python3"
  },
  "language_info": {
   "codemirror_mode": {
    "name": "ipython",
    "version": 3
   },
   "file_extension": ".py",
   "mimetype": "text/x-python",
   "name": "python",
   "nbconvert_exporter": "python",
   "pygments_lexer": "ipython3",
   "version": "3.9.7"
  }
 },
 "nbformat": 4,
 "nbformat_minor": 5
}
