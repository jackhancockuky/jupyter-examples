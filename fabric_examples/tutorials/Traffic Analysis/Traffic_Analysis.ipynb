{
 "cells": [
  {
   "cell_type": "markdown",
   "id": "af388225-0ae0-4e1a-9ef8-3a14d0df8042",
   "metadata": {},
   "source": [
    "# Traffic Analysis\n",
    "<i>Adapted for use with FABRIC from [Traffic Analysis](https://www.cs.unc.edu/Research/geni/geniEdu/05-TrafficAnalysis.html)\n",
    "    \n",
    "In this tutorial you will learn a variety of tools for traffic analysis, with a focus on ping and tcpdump.\n",
    "    \n",
    "<b> Prerequisites  \n",
    "    \n",
    "* You need to have your FABRIC bastion host key pair set up to do this tutorial. If you have not already set this up, follow steps 1-3 at https://learn.fabric-testbed.net/knowledge-base/logging-into-fabric-vms/.\n",
    "* You are comfortable using ssh and executing basic commands using a UNIX shell. [Tips about how to login to hosts.](https://learn.fabric-testbed.net/knowledge-base/logging-into-fabric-vms/)"
   ]
  },
  {
   "cell_type": "markdown",
   "id": "c7a54bb6-302c-4e32-99bf-bb387f9e7806",
   "metadata": {},
   "source": [
    "## 1. Design the Experiment\n",
    "### 1.1 Reserve Resources\n",
    "A topology with 2 nodes (a client and a server) will be reserved."
   ]
  },
  {
   "cell_type": "code",
   "execution_count": null,
   "id": "d72131bf-614f-45a0-af5c-da1e5d4d5c41",
   "metadata": {},
   "outputs": [],
   "source": [
    "from fabrictestbed_extensions.fablib.fablib import FablibManager as fablib_manager\n",
    "\n",
    "fablib = fablib_manager()\n",
    "                     \n",
    "fablib.show_config()\n",
    "\n",
    "import json\n",
    "import traceback"
   ]
  },
  {
   "cell_type": "code",
   "execution_count": null,
   "id": "3c585085-2185-4b4c-85dd-fa98fb63e1a4",
   "metadata": {},
   "outputs": [],
   "source": [
    "try:\n",
    "    #Create Slice\n",
    "    slice = fablib.new_slice(name=\"TrafficAnalysis\")\n",
    "    \n",
    "    #Server\n",
    "    server = slice.add_node(name=\"server\", site=\"MAX\")\n",
    "    server.set_image('default_ubuntu_20')\n",
    "    server_port = server.add_component(model='NIC_Basic', name=\"server_port\").get_interfaces()[0] \n",
    "    \n",
    "    #Client\n",
    "    client = slice.add_node(name=\"client\", site=\"TACC\")\n",
    "    client.set_image('default_ubuntu_20')\n",
    "    client_port = client.add_component(model='NIC_Basic', name=\"client_port\").get_interfaces()[0] \n",
    "    \n",
    "    lan = slice.add_l2network(name=\"lan\", interfaces=[server_port, client_port])\n",
    "    \n",
    "    #Submit Slice Request\n",
    "    slice.submit()\n",
    "except Exception as e:\n",
    "    print(f\"Slice Failed: {e}\")"
   ]
  },
  {
   "cell_type": "code",
   "execution_count": null,
   "id": "cecd4e26-8ca4-47a7-9c43-70868d2e2fa0",
   "metadata": {},
   "outputs": [],
   "source": [
    "from ipaddress import ip_address, IPv4Address, IPv6Address, IPv4Network, IPv6Network\n",
    "\n",
    "try:    \n",
    "    server = slice.get_node(name=\"server\") \n",
    "    client = slice.get_node(name=\"client\")\n",
    "    \n",
    "    subnet1 = IPv4Network(\"10.1.1.0/24\")\n",
    "    \n",
    "    server_port = server.get_interface(network_name=\"lan\") \n",
    "    server_port.ip_addr_add(addr=\"10.1.1.2\", subnet=subnet1)\n",
    "    \n",
    "    client_port = client.get_interface(network_name=\"lan\") \n",
    "    client_port.ip_addr_add(addr=\"10.1.1.1\", subnet=subnet1)\n",
    "except Exception as e:\n",
    "    print(f\"Exception: {e}\")"
   ]
  },
  {
   "cell_type": "markdown",
   "id": "fed07d5b-f711-4b43-87c4-18767333d29e",
   "metadata": {},
   "source": [
    "### 1.3 Installation\n",
    "We will be installing net-tools package on both the server and client nodes, containing many useful networking tools."
   ]
  },
  {
   "cell_type": "code",
   "execution_count": null,
   "id": "832a9d69-2de6-485f-a861-c42ad403fba5",
   "metadata": {},
   "outputs": [],
   "source": [
    "for node in slice.get_nodes():\n",
    "    node.execute(\"sudo apt install net-tools\")"
   ]
  },
  {
   "cell_type": "markdown",
   "id": "e62f8464-5474-4d18-8f5e-be95531567e3",
   "metadata": {},
   "source": [
    "## 2. Experiment\n",
    "### 2.1 ifconfig\n",
    "1. On the client run:\n",
    "<br>```ifconfig```\n",
    "<br> This command lists the interfaces and their status. The interface facing the server is 'ens7' with the IP address of '10.1.1.2'.\n",
    "\n",
    "\n",
    "### 2.2 Adjust the MTU\n",
    "Maximum Transmission Unit (MTU) is a value representing the maximum length data packet that a a device (NIC) can accept.\n",
    "1. On the server SSH terminal run:\n",
    "<br>```ifconfig```\n",
    "\n",
    "2. The MTU size can be adjusted with the following command, where 'interface name' corresponds to the interface facing the client:\n",
    "<br>```sudo ifconfig <interface name> mtu 1400```\n",
    "3. Repeat steps 1 and 2 on the client terminal.\n",
    "\n",
    "\n",
    "### 2.3 Ping\n",
    "Ping is one of the most popular networking tools, inheriting the name from sonar technology. The ping tool sends packets, and gathers information from their \"echos\". Such information includes determining if  a host is reachable and the round-trip time (RTT) to that host.\n",
    "1. On the client terminal run:\n",
    "<br>```ping 10.1.1.2```\n",
    "<br>ICMP echo request packets are sent to the target host, and the host will generate ICMP responses. With the response the originating host calculates the RTT and detects lost packets.\n",
    "\n",
    "2. Press Ctrl + C to stop pinging.\n",
    "3. Ping can be verified by bringing down the connection, to do so run on the interface connected to the server (ens7):\n",
    "<br>```sudo ip link set dev <interface name> down```\n",
    "4. Ping the server again:\n",
    "<br>```ping 10.1.1.2```\n",
    "<br>Take note of the change in RTT\n",
    "5. Bring the connection back up by running:\n",
    "<br>```sudo ip link set dev <interface name> up```\n",
    "6. Ping the server again:\n",
    "<br>```ping 10.1.1.2```\n",
    "\n",
    "### 2.4 Tcpdump\n",
    "1. On the client terminal run:\n",
    "<br>```sudo tcpdump -i <interface name> -nn```\n",
    "<br>Where ```-i <interface name>``` is the previously used interface used to connect to the server node and -nn causes tcpdump to use the numerical IP addresses rather than using DNS to resolve the symbolic addresses. \n",
    "   \n",
    "2. On the server terminal run:\n",
    "<br>```ping 10.1.1.1```\n",
    "\n",
    "3. Return to the client terminal and notice incoming packets looking similar to:\n",
    "<br>```IP 10.1.1.2 > 10.1.1.1: ICMP echo request, id 2, seq 1, length 64```\n",
    "<br>Each line corresponds to a packet travelling over the interface. The columns in the output correspond to:\n",
    "    * Timestamp\n",
    "    * Source IP\n",
    "    * Destination IP\n",
    "    * Layer 3 protocol name and associated information\n",
    "4. Press ctrl + C on the client and server terminals to stop pinging and tcpdump.\n",
    "5. On the client terminal run:\n",
    "<br>```sudo tcpdump -i <interface name> -nn -S tcp```\n",
    "<br> The addition of ```-S``` instructs tcpdump to print the absolute sequence numbers instead of the smaller, more human readable version. ```tcp``` filters the traffic to only show TCP data.\n",
    "6. In the server terminal run:\n",
    "<br>```nc -l 44444```\n",
    "<br> This command has the netcat tool listen on port ```44444```. Netcat is a tool allowing for reading and writing both TCP and UDP traffic across a network.\n",
    "7. Open an additional terminal on the client and run:\n",
    "<br>```nc 10.1.1.2 44444```\n",
    "<br>On the first client terminal (running tcpdump) you can see messages similar to:\n",
    "<br>```10:26:33.508856 IP 10.1.1.1.46520 > 10.1.1.2.44444: Flags [S], seq 1812506012, win 14600, options [mss 1460,sackOK,TS val 1375289021 ecr 0,nop,wscale 7], length 0```\n",
    "<br>```10:26:33.508939 IP 10.1.1.2.44444 > 10.1.1.1.46520: Flags [S.], seq 3211754307, ack 1812506013, win 14480, options [mss 1460,sackOK,TS val 1375289021 ecr 1375289021,nop,wscale 7], length 0```\n",
    "<br>```10:26:33.508958 IP 10.1.1.1.46520 > 10.1.1.2.44444: Flags [.], ack 3211754308, win 115, options [nop,nop,TS val 1375289021 ecr 1375289021], length 0```\n",
    "<br>These lines show the 3-way TCP handshake, initializing the connection between the server and the client. \n",
    "8. On the second client terminal (not running tcpdump) type:\n",
    "<br>```Hello World```\n",
    "<br>The netcat tool creates a TCP packet with this message and sends it to the server node.\n",
    "<br>On the client terminal running tcpdump you should see messages similar to:\n",
    "<br>```10:28:13.538448 IP 10.1.1.1.46520 > 10.1.1.2.44444: Flags [P.], seq 1812506013:1812506025, ack 3211754308, win 115, options [nop,nop,TS val 1375389051 ecr 1375289021], length 12```\n",
    "<br>```10:28:13.538530 IP 10.1.1.2.44444 > 10.1.1.1.46520: Flags [.], ack 1812506025, win 114, options [nop,nop,TS val 1375389051 ecr 1375389051], length 0```\n",
    "<br> The first packet is the outgoing ```Hello World``` message, while the second packet is the acknowledgement (ACK).\n",
    "9. On the server terminal type:\n",
    "<br>```Hello World```\n",
    "<br>On the client terminal running tcpdump, messages similar to the previous step should be present and sent in the opposite direction.\n",
    "10. Press ctrl + C on all terminals to close out of the running programs."
   ]
  },
  {
   "cell_type": "markdown",
   "id": "67556a81-e3a0-4a83-b021-c16b3af22b6c",
   "metadata": {
    "tags": []
   },
   "source": [
    "## 3. Cleanup Resources\n",
    "### 3.1 Delete Slice"
   ]
  },
  {
   "cell_type": "code",
   "execution_count": null,
   "id": "0d9c1825-db5a-4393-8dfb-70daacef8ab6",
   "metadata": {
    "tags": []
   },
   "outputs": [],
   "source": [
    "try:\n",
    "    slice = fablib.get_slice(\"TrafficAnalysis\")\n",
    "    slice.delete()\n",
    "except Exception as e:\n",
    "    print(f\"Fail: {e}\")"
   ]
  },
  {
   "cell_type": "code",
   "execution_count": null,
   "id": "a98f0099-294f-40b9-94dc-7d405b5886e2",
   "metadata": {},
   "outputs": [],
   "source": []
  }
 ],
 "metadata": {
  "kernelspec": {
   "display_name": "Python 3 (ipykernel)",
   "language": "python",
   "name": "python3"
  },
  "language_info": {
   "codemirror_mode": {
    "name": "ipython",
    "version": 3
   },
   "file_extension": ".py",
   "mimetype": "text/x-python",
   "name": "python",
   "nbconvert_exporter": "python",
   "pygments_lexer": "ipython3",
   "version": "3.9.7"
  }
 },
 "nbformat": 4,
 "nbformat_minor": 5
}
