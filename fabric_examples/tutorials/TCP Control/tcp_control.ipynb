{
 "cells": [
  {
   "cell_type": "markdown",
   "id": "2f0dfd3f-ff07-4be7-a4ae-484cd46a5e4b",
   "metadata": {
    "tags": []
   },
   "source": [
    "# TCP Control Tutorial\n",
    "<i>Adapted for use with FABRIC from [TCP congestion control](https://witestlab.poly.edu/blog/tcp-congestion-control-basics/)</i>\n",
    "        \n",
    "<b> Prerequisites  </b>\n",
    "    \n",
    "* You need to have your FABRIC bastion host key pair set up to do this tutorial. If you have not already set this up, follow steps 1-3 at https://learn.fabric-testbed.net/knowledge-base/logging-into-fabric-vms/.\n",
    "* You are comfortable using ssh and executing basic commands using a UNIX shell. [Tips about how to login to hosts.](https://learn.fabric-testbed.net/knowledge-base/logging-into-fabric-vms/)\n",
    "    <img src=\"./figures/tcpfigure.svg\">\n",
    "    \n",
    "     <i>[Wikimedia Commons](https://commons.wikimedia.org/wiki/File:TCP_Slow-Start_and_Congestion_Avoidance.svg)</i>\n",
    "    \n",
    "TCP is one of the most widely used internet protocols, carrying the highest volume of traffic (compared to other transport-layer protocols). Because of this, a congestion control algorithm is implemented to prevent slowing due to over-utilization.\n",
    "\n",
    "Additive-Increase/Multiplicative-Decrease (AIMD) is the primary meachanism for adjusting the rate of TCP flow. The sender transmitting TCP packets on a network will react to event by increasing (under-utilized) or decreasing (over-utilized) its sending rate.\n",
    "    \n",
    "A Congestion Window (CWND) is used to control sending rates. TCP maintains a CWND for each connection, limiting the number of unacknowledged packets in transit on the network. If the CWND is equal to unacknowledged packets, sending is stopped until more acknowledgements are recieved. Sending rate is not entirely controlled by the CWND, as TCP uses flow control as well as congestion control. \n",
    "    \n",
    "Slow start is in effect during the  congestion control phase. During this phase the CWND is increased by the number of segments acknowledged on received ACK (exponential growth). This continues until a loss event occurs or a slow start threshold is reached. At the end of congestion control, congestion avoidance begins, where the CWND grows linearly.\n",
    "    \n",
    "Fast recovery (on TCP reno) occurs when congestion is detected by receiving duplicate ACKs. The effect of fast recovery is the CWND being reduced to the slow start threshold."
   ]
  },
  {
   "cell_type": "markdown",
   "id": "9cd63d33-dfc5-4945-9833-c95ee7bc5457",
   "metadata": {
    "tags": []
   },
   "source": [
    "## 1. Design the Experiment\n",
    "In this section, be careful to do the instructions listed with **\"Do this\"**, as well as running the code blocks.\n",
    "### 1.1 Reserve Resources"
   ]
  },
  {
   "cell_type": "markdown",
   "id": "d982da77-bed0-4b00-b263-1288299c0b1e",
   "metadata": {},
   "source": [
    "#### Import the Fabric API"
   ]
  },
  {
   "cell_type": "code",
   "execution_count": null,
   "id": "606801d0-66c7-43be-9f95-2e0fcccf13c8",
   "metadata": {},
   "outputs": [],
   "source": [
    "from fabrictestbed_extensions.fablib.fablib import FablibManager as fablib_manager\n",
    "\n",
    "fablib = fablib_manager()\n",
    "                     \n",
    "fablib.show_config()\n",
    "\n",
    "import json\n",
    "import traceback"
   ]
  },
  {
   "cell_type": "markdown",
   "id": "0a4e5033-f216-417c-815b-b7a2c42a9551",
   "metadata": {},
   "source": [
    "#### Create slice"
   ]
  },
  {
   "cell_type": "code",
   "execution_count": null,
   "id": "f83cb316-2e4e-4936-8a36-43290ad52fcf",
   "metadata": {},
   "outputs": [],
   "source": [
    "try:\n",
    "    #Create Slice\n",
    "    slice = fablib.new_slice(name=\"tcpControl\")\n",
    "    \n",
    "    #Router\n",
    "    router = slice.add_node(name=\"router\", site=\"MAX\")\n",
    "    router.set_capacities(cores=4, ram=16, disk=50)\n",
    "    router.set_image(\"default_ubuntu_20\")\n",
    "    rPort1 = router.add_component(model='NIC_Basic', name=\"rPort1\").get_interfaces()[0] \n",
    "    rPort2 = router.add_component(model='NIC_Basic', name=\"rPort2\").get_interfaces()[0] \n",
    "    \n",
    "    #Host 1\n",
    "    host1 = slice.add_node(name=\"host1\", site=\"MAX\")\n",
    "    host1.set_capacities(cores=4, ram=16, disk=50)\n",
    "    host1.set_image(\"default_ubuntu_20\")\n",
    "    h1Port = host1.add_component(model='NIC_Basic', name=\"h1Port\").get_interfaces()[0] \n",
    "    \n",
    "    #Host 2\n",
    "    host2 = slice.add_node(name=\"host2\", site=\"MAX\")\n",
    "    host2.set_capacities(cores=4, ram=16, disk=50)\n",
    "    host2.set_image(\"default_ubuntu_20\")\n",
    "    h2Port = host2.add_component(model='NIC_Basic', name=\"h2Port\").get_interfaces()[0] \n",
    "    \n",
    "    lan1 = slice.add_l2network(name=\"Lan1\", interfaces=[rPort1, h1Port])\n",
    "    lan2 = slice.add_l2network(name=\"Lan2\", interfaces=[rPort2, h2Port])\n",
    "    \n",
    "    #Submit Slice Request\n",
    "    slice.submit()\n",
    "except Exception as e:\n",
    "    print(f\"Slice Failed: {e}\")"
   ]
  },
  {
   "cell_type": "code",
   "execution_count": null,
   "id": "1df4fcb5-46a5-49fa-80d1-491eaa7d0023",
   "metadata": {},
   "outputs": [],
   "source": [
    "from ipaddress import ip_address, IPv4Address, IPv6Address, IPv4Network, IPv6Network\n",
    "\n",
    "try:    \n",
    "    host1 = slice.get_node(name=\"host1\") \n",
    "    host2 = slice.get_node(name=\"host2\")\n",
    "    router = slice.get_node(name=\"router\")\n",
    "    \n",
    "    subnet1 = IPv4Network(\"10.1.1.0/24\")\n",
    "    subnet2 = IPv4Network(\"11.1.1.0/24\")\n",
    "    \n",
    "    host1_iface = host1.get_interface(network_name=\"Lan1\")\n",
    "    host1_iface.ip_addr_add(addr=\"10.1.1.1\", subnet=subnet1)\n",
    "    \n",
    "    router_iface = router.get_interface(network_name=\"Lan1\")\n",
    "    router_iface.ip_addr_add(addr=\"10.1.1.2\", subnet=subnet1)\n",
    "    \n",
    "    router_iface2 = router.get_interface(network_name=\"Lan2\")\n",
    "    router_iface2.ip_addr_add(addr=\"11.1.1.2\", subnet=subnet2)\n",
    "    \n",
    "    host2_iface2 = host2.get_interface(network_name=\"Lan2\")\n",
    "    host2_iface2.ip_addr_add(addr=\"11.1.1.1\", subnet=subnet2) \n",
    "    \n",
    "    host1.execute(\"sudo ip route add 11.1.1.0/24 via 10.1.1.2\")\n",
    "    router.execute(\"sudo sysctl -w net.ipv4.ip_forward=1\")\n",
    "    host2.execute(\"sudo ip route add 10.1.1.0/24 via 11.1.1.2\")\n",
    "except Exception as e:\n",
    "    print(f\"Exception: {e}\")"
   ]
  },
  {
   "cell_type": "markdown",
   "id": "18b8a569-6f20-4d0e-8251-ab8a8091fab3",
   "metadata": {},
   "source": [
    "### 1.2 Set up experiment\n",
    "\n",
    "We will be installing the ```iperf``` network testing tool on both end hosts.\n",
    "\n",
    "On host2 we will be installing moreutils and data visualization tools, as well as uploading scripts"
   ]
  },
  {
   "cell_type": "code",
   "execution_count": null,
   "id": "103be3c5-9a68-46a0-8bd5-c962250481b7",
   "metadata": {
    "scrolled": true,
    "tags": []
   },
   "outputs": [],
   "source": [
    "slice = fablib.get_slice(\"tcpControl\")\n",
    "for node in slice.get_nodes():\n",
    "    node.execute(\"sudo apt-get update;sudo apt-get -y install iperf3;\")  \n",
    "host2 = slice.get_node(name=\"host2\")\n",
    "host2.upload_file(\"./scripts/ss-data-analysis.R\",\"ss-data-analysis.R\")\n",
    "host2.upload_file(\"./scripts/ss-output.sh\",\"ss-output.sh\")\n",
    "host2.execute(\"sudo apt-get -y install moreutils r-base-core r-cran-ggplot2 r-cran-littler;sudo sysctl -w net.ipv4.tcp_no_metrics_save=1;chmod +x ss-output.sh \")"
   ]
  },
  {
   "cell_type": "markdown",
   "id": "982f3578-5b97-4ff2-a987-98b01d1b2858",
   "metadata": {},
   "source": [
    "Here we are configuring the router with a 1 Mbps bottleneck, with a .1 MB buffer in both directions."
   ]
  },
  {
   "cell_type": "code",
   "execution_count": null,
   "id": "955d6b89-fa6c-46d7-8afd-a041de566b62",
   "metadata": {},
   "outputs": [],
   "source": [
    "router = slice.get_node(name=\"router\")\n",
    "router.execute(\"\\\n",
    "sudo tc qdisc del dev ens7 root;\\\n",
    "sudo tc qdisc add dev ens7 root handle 1: htb default 3;\\\n",
    "sudo tc class add dev ens7 parent 1: classid 1:3 htb rate 1Mbit;\\\n",
    "sudo tc qdisc add dev ens7 parent 1:3 handle 3: bfifo limit 0.1MB;\\\n",
    "sudo tc qdisc del dev ens8 root;\\\n",
    "sudo tc qdisc add dev ens8 root handle 1: htb default 3;\\\n",
    "sudo tc class add dev ens8 parent 1: classid 1:3 htb rate 1Mbit;\\\n",
    "sudo tc qdisc add dev ens8 parent 1:3 handle 3: bfifo limit 0.1MB;\\\n",
    "\")\n"
   ]
  },
  {
   "cell_type": "markdown",
   "id": "bcacf0df-fcb6-4c7e-9c52-8dd5e02bcb55",
   "metadata": {},
   "source": [
    "## 2. Experiment\n",
    "### 2.1 Using ```ss``` to observe TCP socket statistics\n",
    "1. Open up a terminal for host1 and two terminals for host2\n",
    "2. On host1 open an iperf server by running:\n",
    "<br>```iperf3 -s  -1 ```\n",
    "\n",
    "3. On host2 send data to the iperf server (on host1 10.1.1.1) for 60 seconds using TCP Reno by running:\n",
    "<br>```iperf3 -c 10.1.1.1 -t 60 -C reno```\n",
    "\n",
    "4. While the connection is running switch to the second host2 terminal and run:\n",
    "<br>```ss -ein dst 10.1.1.1```\n",
    "```ss``` \n",
    "<br>Arguments:\n",
    "    * ```-e``` shows detailed socket information\n",
    "    * ```-i``` to show internal TCP information (only known to sender).\n",
    "    * ```-n``` show numeric IP addresses (instead of resolved names)\n",
    "    * ```dst 10.1.1.1``` only show sockets with destination 10.1.1.1 (host1)\n",
    "You can learn more about ```ss``` [here](https://linux.die.net/man/8/ss)\n",
    "\n",
    "In the output it can be noticed two connections are created. One of the connections shares information related to iperf control, while the other carries data.\n",
    "\n",
    "The output also contains:\n",
    "    * Current CWND (in units of MSS)\n",
    "    * Slow start threshold (ssthresh), only appears when the flow has entered the congestion avoidance phase\n",
    "    * Number of retransmitted segments, appearing when there has been a retransmission\n",
    "\n",
    "### 2.2 Generating traffic\n",
    "1. On host1 open an iperf server by running:\n",
    "<br>```iperf3 -s  -1 ```\n",
    "2. On one of the host2 terminal run (this is the `ss` script):\n",
    "<br>```sudo bash ss-output.sh 10.1.1.1```\n",
    "\n",
    "3. On the other host2 terminal run:\n",
    "<br>```iperf3 -c 10.1.1.1 -P 3 -t 60 -C reno```\n",
    "\n",
    "4. After ```iperf``` finishes on host1 close out of the ```ss``` program and the ```iperf``` on host2 (Ctrl+C once).\n",
    "5. Run `ls` on host2, 2 files will be present:\n",
    "    * `sender-ss.txt` is the raw output\n",
    "    * `sender-ss.csv` is the parsed output, withe columns containing:\n",
    "        - Timestamp\n",
    "        - TCP sender (IP:Port)\n",
    "        - Number of unacknowledged retransmissions\n",
    "        - Cumulative number of transmissions\n",
    "        - Current CWND\n",
    "        - Current slow start threshold\n",
    "\n",
    "### 2.3 Visualization\n",
    "Run the code block below to visualize the TCP traffic from 2.2:"
   ]
  },
  {
   "cell_type": "code",
   "execution_count": null,
   "id": "345e31b3-8f0e-4829-82b4-f8deec3b0655",
   "metadata": {},
   "outputs": [],
   "source": [
    "slice = fablib.get_slice(\"tcpControl\")\n",
    "host2 = slice.get_node(name=\"host2\")\n",
    "host2.execute(\"Rscript ss-data-analysis.R  \")\n",
    "host2.download_file(\"sender-ss.svg\",\"sender-ss.svg\")"
   ]
  },
  {
   "cell_type": "markdown",
   "id": "4198e332-3c2f-4181-8488-325d24115a77",
   "metadata": {},
   "source": [
    "See the output [here](./sender-ss.svg)"
   ]
  },
  {
   "cell_type": "markdown",
   "id": "a722d686-e19b-49cb-884c-9f1d5bb35597",
   "metadata": {},
   "source": [
    "## 3. Cleanup Resources\n",
    "### 3.1 Delete Slice"
   ]
  },
  {
   "cell_type": "code",
   "execution_count": null,
   "id": "894b7b1f-03b9-4e30-9c1d-e584e538d924",
   "metadata": {},
   "outputs": [],
   "source": [
    "try:\n",
    "    slice = fablib.get_slice(\"tcpControl\")\n",
    "    slice.delete()\n",
    "except Exception as e:\n",
    "    print(f\"Fail: {e}\")"
   ]
  },
  {
   "cell_type": "code",
   "execution_count": null,
   "id": "9e1c6144-a9c8-4353-a581-91a3a5ece49d",
   "metadata": {},
   "outputs": [],
   "source": []
  }
 ],
 "metadata": {
  "kernelspec": {
   "display_name": "Python 3 (ipykernel)",
   "language": "python",
   "name": "python3"
  },
  "language_info": {
   "codemirror_mode": {
    "name": "ipython",
    "version": 3
   },
   "file_extension": ".py",
   "mimetype": "text/x-python",
   "name": "python",
   "nbconvert_exporter": "python",
   "pygments_lexer": "ipython3",
   "version": "3.9.7"
  }
 },
 "nbformat": 4,
 "nbformat_minor": 5
}
