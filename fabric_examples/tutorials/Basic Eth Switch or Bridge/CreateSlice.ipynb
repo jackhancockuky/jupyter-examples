{
 "cells": [
  {
   "cell_type": "markdown",
   "id": "5f373d6e-223a-479a-971c-c39c02aa1390",
   "metadata": {},
   "source": [
    "# Create Slice for Fabric Rack"
   ]
  },
  {
   "cell_type": "code",
   "execution_count": null,
   "id": "3e84a125-c5f8-4b38-ada2-b585ee5a83ab",
   "metadata": {},
   "outputs": [],
   "source": [
    "from fabrictestbed_extensions.fablib.fablib import FablibManager as fablib_manager\n",
    "\n",
    "fablib = fablib_manager()\n",
    "                     \n",
    "fablib.show_config()\n",
    "\n",
    "import json\n",
    "import traceback"
   ]
  },
  {
   "cell_type": "code",
   "execution_count": null,
   "id": "c750ec14-1761-4592-8530-78edd3968a4a",
   "metadata": {},
   "outputs": [],
   "source": [
    "slice_name = \"BridgeOp\"\n",
    "site = \"MAX\"\n",
    "\n",
    "image = \"default_ubuntu_20\"\n",
    "nicmodel = \"NIC_Basic\"\n",
    "\n",
    "cores = 4\n",
    "ram = 16\n",
    "disk = 50"
   ]
  },
  {
   "cell_type": "code",
   "execution_count": null,
   "id": "a206b6be-d3f8-4e6f-ab42-f0ea79c23d7b",
   "metadata": {},
   "outputs": [],
   "source": [
    "try:\n",
    "    #Create Slice\n",
    "    slice = fablib.new_slice(name = slice_name)\n",
    "    \n",
    "    #Bridge\n",
    "    bridge = slice.add_node(name = \"bridge\", site = site)\n",
    "    bridge.set_capacities(cores = cores, ram = ram, disk = disk)\n",
    "    bridge.set_image(image)\n",
    "    bp1 = bridge.add_component(model = nicmodel, name=\"bp1\").get_interfaces()[0] \n",
    "    bp2 = bridge.add_component(model = nicmodel, name=\"bp2\").get_interfaces()[0] \n",
    "    bp3 = bridge.add_component(model = nicmodel, name=\"bp3\").get_interfaces()[0] \n",
    "    bp4 = bridge.add_component(model = nicmodel, name=\"bp4\").get_interfaces()[0] \n",
    "    \n",
    "    #Host 1\n",
    "    host1 = slice.add_node(name = \"host1\", site = site)\n",
    "    host1.set_capacities(cores = cores, ram = ram, disk = disk)\n",
    "    host1.set_image(image)\n",
    "    h1Port = host1.add_component(model = nicmodel, name = \"h1Port\").get_interfaces()[0] \n",
    "    \n",
    "    #Host 2\n",
    "    host2 = slice.add_node(name = \"host2\", site = site)\n",
    "    host2.set_capacities(cores = cores, ram = ram, disk = disk)\n",
    "    host2.set_image(image)\n",
    "    h2Port = host2.add_component(model = nicmodel, name = \"h2Port\").get_interfaces()[0] \n",
    "    \n",
    "    #Host 3\n",
    "    host3 = slice.add_node(name = \"host3\", site = site)\n",
    "    host3.set_capacities(cores = cores, ram = ram, disk = disk)\n",
    "    host3.set_image(image)\n",
    "    h3Port = host3.add_component(model = nicmodel, name = \"h3Port\").get_interfaces()[0] \n",
    "    \n",
    "    #Host 4\n",
    "    host4 = slice.add_node(name = \"host4\", site = site)\n",
    "    host4.set_capacities(cores = cores, ram = ram, disk = disk)\n",
    "    host4.set_image(image)\n",
    "    h4Port = host4.add_component(model = nicmodel, name=\"h4Port\").get_interfaces()[0] \n",
    "    \n",
    "    #Network\n",
    "    lan1 = slice.add_l2network(name = \"Lan1\", interfaces = [bp1, h1Port])\n",
    "    lan2 = slice.add_l2network(name = \"Lan2\", interfaces = [bp2, h2Port])\n",
    "    lan3 = slice.add_l2network(name = \"Lan3\", interfaces = [bp3, h3Port])\n",
    "    lan4 = slice.add_l2network(name = \"Lan4\", interfaces = [bp4, h4Port])\n",
    "    \n",
    "    #Submit Slice Request\n",
    "    slice.submit()\n",
    "    \n",
    "except Exception as e:\n",
    "    print(f\"Slice Failed: {e}\")"
   ]
  },
  {
   "cell_type": "markdown",
   "id": "f2e15f1b-c105-48fc-a4b4-404e6ef3f594",
   "metadata": {
    "tags": []
   },
   "source": [
    "## Cleanup Resources"
   ]
  },
  {
   "cell_type": "code",
   "execution_count": null,
   "id": "35d3f223-a0e2-402a-85ac-e8b4620e27eb",
   "metadata": {
    "tags": []
   },
   "outputs": [],
   "source": [
    "try:\n",
    "    slice = fablib.get_slice(slice_name)\n",
    "    slice.delete()\n",
    "except Exception as e:\n",
    "    print(f\"Fail: {e}\")"
   ]
  }
 ],
 "metadata": {
  "kernelspec": {
   "display_name": "Python 3 (ipykernel)",
   "language": "python",
   "name": "python3"
  },
  "language_info": {
   "codemirror_mode": {
    "name": "ipython",
    "version": 3
   },
   "file_extension": ".py",
   "mimetype": "text/x-python",
   "name": "python",
   "nbconvert_exporter": "python",
   "pygments_lexer": "ipython3",
   "version": "3.9.7"
  }
 },
 "nbformat": 4,
 "nbformat_minor": 5
}
