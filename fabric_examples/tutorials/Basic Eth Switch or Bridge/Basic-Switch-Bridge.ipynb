{
 "cells": [
  {
   "cell_type": "markdown",
   "id": "fef9500e-62f1-4233-b469-352ea1a8b1dd",
   "metadata": {},
   "source": [
    "# Operation of a Basic Ethernet Switch or Bridge\n",
    "<i>Adapted for use with FABRIC from [Operation of a basic Ethernet switch or bridge](https://witestlab.poly.edu/blog/basic-ethernet-switch-operation/)</i>\n",
    "        \n",
    "<b> Prerequisites  </b>\n",
    "    \n",
    "* You need to have your FABRIC bastion host key pair set up to do this tutorial. If you have not already set this up, follow steps 1-3 at https://learn.fabric-testbed.net/knowledge-base/logging-into-fabric-vms/.\n",
    "* You are comfortable using ssh and executing basic commands using a UNIX shell. [Tips about how to login to hosts.](https://learn.fabric-testbed.net/knowledge-base/logging-into-fabric-vms/)\n",
    "\n",
    "Switches and bridges improve performance by partitioning the collision domain, the section of network where frames will collide and destroy each other. Only one host within a collision domain may transmit, else collisions will be present. Thus, network capacity is shared with all hosts in a collision domain. Using a learning switch or bridge, each port on a switch becomes its own collision domain, so each network segment can separately support the full network capacity."
   ]
  },
  {
   "cell_type": "markdown",
   "id": "966f91a0-12b2-4d56-84c6-690abe76cc1c",
   "metadata": {
    "tags": []
   },
   "source": [
    "## 1. Design the Experiment\n",
    "### 1.1 Reserve Resources"
   ]
  },
  {
   "cell_type": "markdown",
   "id": "fc30a650-b34e-4bc1-a351-719a1d848c92",
   "metadata": {},
   "source": [
    "#### Import the Fabric API"
   ]
  },
  {
   "cell_type": "code",
   "execution_count": null,
   "id": "40317cca-6e86-4fe3-8edc-66dfc95495f7",
   "metadata": {},
   "outputs": [],
   "source": [
    "from fabrictestbed_extensions.fablib.fablib import FablibManager as fablib_manager\n",
    "\n",
    "fablib = fablib_manager()\n",
    "                     \n",
    "fablib.show_config()\n",
    "\n",
    "import json\n",
    "import traceback"
   ]
  },
  {
   "cell_type": "markdown",
   "id": "c6f12ac1-9717-4b91-a556-9876c1325a99",
   "metadata": {},
   "source": [
    "#### Retrieve Slice\n",
    "Create the slice at the [Create Slice Notebook](./CreateSlice.ipynb) and import it here."
   ]
  },
  {
   "cell_type": "code",
   "execution_count": null,
   "id": "28e31980-e1a3-4279-83ac-8b46c013c26f",
   "metadata": {},
   "outputs": [],
   "source": [
    "slice = fablib.get_slice(\"BridgeOp\")\n",
    "slice.list_nodes()"
   ]
  },
  {
   "cell_type": "markdown",
   "id": "627f7e2f-aeea-431e-96aa-0d8bb6591806",
   "metadata": {},
   "source": [
    "#### Set IPs\n",
    "Setup a unique IP to all nodes except the \"Bridge\""
   ]
  },
  {
   "cell_type": "code",
   "execution_count": null,
   "id": "8ed7b08b-da25-42e6-83ae-3db81dbee3ce",
   "metadata": {
    "scrolled": true,
    "tags": []
   },
   "outputs": [],
   "source": [
    "from ipaddress import ip_address, IPv4Address, IPv6Address, IPv4Network, IPv6Network\n",
    "\n",
    "try:\n",
    "    bridge = slice.get_node(name=\"bridge\") \n",
    "    host1 = slice.get_node(name=\"host1\") \n",
    "    host2 = slice.get_node(name=\"host2\")\n",
    "    host3 = slice.get_node(name=\"host3\") \n",
    "    host4 = slice.get_node(name=\"host4\")\n",
    "    \n",
    "    subnet1 = IPv4Network(\"12.0.0.0/24\")\n",
    "    subnet2 = IPv4Network(\"13.0.0.0/24\")\n",
    "    subnet3 = IPv4Network(\"14.0.0.0/24\")\n",
    "    subnet4 = IPv4Network(\"15.0.0.0/24\")\n",
    "    \n",
    "    host1_iface = host1.get_interface(network_name=\"Lan1\")\n",
    "    host1_iface.ip_addr_add(addr=\"12.0.0.1\", subnet=subnet1)\n",
    "    \n",
    "    host2_iface = host2.get_interface(network_name=\"Lan2\")\n",
    "    host2_iface.ip_addr_add(addr=\"13.0.0.1\", subnet=subnet2) \n",
    "    \n",
    "    host3_iface = host3.get_interface(network_name=\"Lan3\")\n",
    "    host3_iface.ip_addr_add(addr=\"14.0.0.1\", subnet=subnet3)\n",
    "    \n",
    "    host4_iface = host4.get_interface(network_name=\"Lan4\")\n",
    "    host4_iface.ip_addr_add(addr=\"15.0.0.1\", subnet=subnet4) \n",
    "    \n",
    "    bridge_iface1 = bridge.get_interface(network_name=\"Lan1\")\n",
    "    bridge_iface1.ip_addr_add(addr=\"12.0.0.2\", subnet=subnet1)\n",
    "    \n",
    "    bridge_iface2 = bridge.get_interface(network_name=\"Lan2\")\n",
    "    bridge_iface2.ip_addr_add(addr=\"13.0.0.2\", subnet=subnet2)\n",
    "    \n",
    "    bridge_iface3 = bridge.get_interface(network_name=\"Lan3\")\n",
    "    bridge_iface3.ip_addr_add(addr=\"14.0.0.2\", subnet=subnet3)\n",
    "    \n",
    "    bridge_iface4 = bridge.get_interface(network_name=\"Lan4\")\n",
    "    bridge_iface4.ip_addr_add(addr=\"15.0.0.2\", subnet=subnet4)\n",
    "    bridge.execute(\"sudo sysctl -w net.ipv4.ip_forward=1\")\n",
    "    \n",
    "    for node in slice.get_nodes():\n",
    "        node.execute(\"sudo apt install net-tools; sudo ifconfig ens7 up;\")\n",
    "    host1.execute(\"sudo ip route add 13.0.0.0/24 via 12.0.0.2;sudo ip route add 14.0.0.0/24 via 12.0.0.2;sudo ip route add 15.0.0.0/24 via 12.0.0.2;\")\n",
    "    host2.execute(\"sudo ip route add 12.0.0.0/24 via 13.0.0.2;sudo ip route add 14.0.0.0/24 via 13.0.0.2;sudo ip route add 15.0.0.0/24 via 13.0.0.2;\")\n",
    "    host3.execute(\"sudo ip route add 13.0.0.0/24 via 14.0.0.2;sudo ip route add 12.0.0.0/24 via 14.0.0.2;sudo ip route add 15.0.0.0/24 via 14.0.0.2;\")\n",
    "    host4.execute(\"sudo ip route add 13.0.0.0/24 via 15.0.0.2;sudo ip route add 14.0.0.0/24 via 15.0.0.2;sudo ip route add 12.0.0.0/24 via 15.0.0.2;\")\n",
    "    \n",
    "except Exception as e:\n",
    "    print(f\"Exception: {e}\")"
   ]
  },
  {
   "cell_type": "markdown",
   "id": "f831b74b-3da4-4223-b3d3-b11b2a70944b",
   "metadata": {},
   "source": [
    "## 2. Set up the bridge"
   ]
  },
  {
   "cell_type": "markdown",
   "id": "e09c845d-799d-4580-b645-49c92c39499e",
   "metadata": {},
   "source": [
    "#### Install the bridge software"
   ]
  },
  {
   "cell_type": "code",
   "execution_count": null,
   "id": "3cc08d20-eaff-4a3a-a274-e53d3bba0431",
   "metadata": {
    "scrolled": true,
    "tags": []
   },
   "outputs": [],
   "source": [
    "bridge =  slice.get_node(name=\"bridge\") \n",
    "bridge.execute(\"sudo apt-get update; sudo apt-get -y install bridge-utils; sudo apt-get -y install net-tools;\")"
   ]
  },
  {
   "cell_type": "markdown",
   "id": "48e1b94d-de58-40ad-a104-b5a6ce7ddea7",
   "metadata": {},
   "source": [
    "#### Flush bridge interfaces\n",
    "A bridge operates at layer 2, meaning that the bridge interfaces should not have an IP address."
   ]
  },
  {
   "cell_type": "code",
   "execution_count": null,
   "id": "a338fe61-f693-45d6-b50d-fdd2dcfc652a",
   "metadata": {},
   "outputs": [],
   "source": [
    "bridge.execute(\"sudo ip addr flush dev ens7;\\\n",
    "sudo ip addr flush dev ens8;\\\n",
    "sudo ip addr flush dev ens9;\\\n",
    "sudo ip addr flush dev ens10;\")"
   ]
  },
  {
   "cell_type": "markdown",
   "id": "eb8c0817-cd20-4139-8259-9becece45aef",
   "metadata": {},
   "source": [
    "#### Create a new bridge interface `br0`"
   ]
  },
  {
   "cell_type": "code",
   "execution_count": null,
   "id": "1a038b48-25f9-4b7c-83cf-18669da33250",
   "metadata": {},
   "outputs": [],
   "source": [
    "bridge.execute(\"sudo brctl addbr br0\")"
   ]
  },
  {
   "cell_type": "markdown",
   "id": "84f0bab8-3d3a-494b-a53e-f0a5c66b1304",
   "metadata": {},
   "source": [
    "#### Add the four interfaces to the bridge"
   ]
  },
  {
   "cell_type": "code",
   "execution_count": null,
   "id": "b7b437ed-af8a-4846-89f0-5372fb6bda63",
   "metadata": {},
   "outputs": [],
   "source": [
    "bridge.execute(\"sudo brctl addif br0 ens7;\\\n",
    "sudo brctl addif br0 ens8;\\\n",
    "sudo brctl addif br0 ens9;\\\n",
    "sudo brctl addif br0 ens10;\")"
   ]
  },
  {
   "cell_type": "markdown",
   "id": "bc0f8abe-4c59-48b0-909f-9cf4242d91a8",
   "metadata": {},
   "source": [
    "#### Bring up all interfaces"
   ]
  },
  {
   "cell_type": "code",
   "execution_count": null,
   "id": "bd620d28-36c7-4f44-99eb-07f9ebbff8ef",
   "metadata": {},
   "outputs": [],
   "source": [
    "bridge.execute(\"sudo ifconfig ens7 up;\\\n",
    "sudo ifconfig ens8 up;\\\n",
    "sudo ifconfig ens9 up;\\\n",
    "sudo ifconfig ens10 up;\\\n",
    "sudo ifconfig br0 up;\")"
   ]
  },
  {
   "cell_type": "markdown",
   "id": "028e9ca0-1257-4ff1-ab6e-e981e356f137",
   "metadata": {},
   "source": [
    "#### List the bridge ports"
   ]
  },
  {
   "cell_type": "markdown",
   "id": "b186d4b7-1606-4419-9da4-beed01e3dd35",
   "metadata": {},
   "source": [
    "bridgeports = bridge.execute(\"brctl show br0\")\n",
    "print(bridgeports[0])"
   ]
  },
  {
   "cell_type": "markdown",
   "id": "aefd9745-c707-482e-b976-3d14df44ce34",
   "metadata": {},
   "source": [
    "#### List the bridge known MAC addresses"
   ]
  },
  {
   "cell_type": "code",
   "execution_count": null,
   "id": "68e834b1-cca4-40d3-b01c-197a05b7f07a",
   "metadata": {},
   "outputs": [],
   "source": [
    "bridgemacs = bridge.execute(\"brctl showmacs br0\")\n",
    "print(bridgemacs[0])"
   ]
  },
  {
   "cell_type": "markdown",
   "id": "ee5eb576-107f-4933-886b-1c57f2217c5b",
   "metadata": {},
   "source": [
    "### Connect to each node with an SSH terminal and ping each of the other nodes with the following commands:\n",
    "\n",
    "`ping -c 1 12.0.0.1 ` \n",
    "    <br>`ping -c 1 13.0.0.1 ` \n",
    "    <br>`ping -c 1 14.0.0.1 ` \n",
    "    <br>`ping -c 1 15.0.0.1 `\n",
    "    \n",
    "Immediately after pinging, execute the following code block:"
   ]
  },
  {
   "cell_type": "code",
   "execution_count": null,
   "id": "255943dd-de05-4bb3-8b09-9b73abbfe879",
   "metadata": {},
   "outputs": [],
   "source": [
    "bridgemacs = bridge.execute(\"brctl showmacs br0\")\n",
    "print(bridgemacs[0])"
   ]
  },
  {
   "cell_type": "code",
   "execution_count": null,
   "id": "bcca2991-9287-41bc-963e-771a0bcdc2f9",
   "metadata": {},
   "outputs": [],
   "source": []
  }
 ],
 "metadata": {
  "kernelspec": {
   "display_name": "Python 3 (ipykernel)",
   "language": "python",
   "name": "python3"
  },
  "language_info": {
   "codemirror_mode": {
    "name": "ipython",
    "version": 3
   },
   "file_extension": ".py",
   "mimetype": "text/x-python",
   "name": "python",
   "nbconvert_exporter": "python",
   "pygments_lexer": "ipython3",
   "version": "3.9.7"
  }
 },
 "nbformat": 4,
 "nbformat_minor": 5
}
