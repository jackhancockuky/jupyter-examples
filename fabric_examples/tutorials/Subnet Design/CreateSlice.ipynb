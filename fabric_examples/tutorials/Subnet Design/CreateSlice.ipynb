{
 "cells": [
  {
   "cell_type": "markdown",
   "id": "5f373d6e-223a-479a-971c-c39c02aa1390",
   "metadata": {},
   "source": [
    "# Create Slice for Fabric Rack"
   ]
  },
  {
   "cell_type": "code",
   "execution_count": null,
   "id": "3e84a125-c5f8-4b38-ada2-b585ee5a83ab",
   "metadata": {},
   "outputs": [],
   "source": [
    "from fabrictestbed_extensions.fablib.fablib import FablibManager as fablib_manager\n",
    "\n",
    "fablib = fablib_manager()\n",
    "                     \n",
    "fablib.show_config()\n",
    "\n",
    "import json\n",
    "import traceback"
   ]
  },
  {
   "cell_type": "markdown",
   "id": "2b6c3492-16c4-470a-a52c-62acc1b71582",
   "metadata": {},
   "source": [
    "\n",
    "<img src=\"./figures/Topology.png\">"
   ]
  },
  {
   "cell_type": "code",
   "execution_count": null,
   "id": "c750ec14-1761-4592-8530-78edd3968a4a",
   "metadata": {},
   "outputs": [],
   "source": [
    "slice_name = \"SubnetExample\"\n",
    "site = \"MAX\"\n",
    "\n",
    "nicmodel = \"NIC_Basic\"\n",
    "image = \"default_ubuntu_20\"\n",
    "\n",
    "cores = 4\n",
    "ram = 16\n",
    "disk = 50"
   ]
  },
  {
   "cell_type": "code",
   "execution_count": null,
   "id": "a206b6be-d3f8-4e6f-ab42-f0ea79c23d7b",
   "metadata": {},
   "outputs": [],
   "source": [
    "# Create a slice with 3 Lans, and 2 Hosts connected to each Lan\n",
    "try:\n",
    "    #Create Slice\n",
    "    slice = fablib.new_slice(name = slice_name)\n",
    "    \n",
    "    # Lan A\n",
    "    LanA = slice.add_node(name = \"LanA\", site = site)\n",
    "    LanA.set_capacities(cores = cores, ram = ram, disk = disk)\n",
    "    LanA.set_image(image)\n",
    "    A = LanA.add_component(model = nicmodel, name = \"LanA\").get_interfaces()[0] \n",
    "    LA = LanA.add_component(model = nicmodel, name = \"RouterA\").get_interfaces()[0] \n",
    "    \n",
    "    # Romeo\n",
    "    Romeo = slice.add_node(name=\"Romeo\", site=site)\n",
    "    Romeo.set_capacities(cores=cores, ram=ram, disk=disk)\n",
    "    Romeo.set_image(image)\n",
    "    A1 = Romeo.add_component(model = nicmodel, name=\"RomeoNic\").get_interfaces()[0] \n",
    "    \n",
    "    # Juliet\n",
    "    Juliet = slice.add_node(name=\"Juliet\", site=site)\n",
    "    Juliet.set_capacities(cores=cores, ram=ram, disk=disk)\n",
    "    Juliet.set_image(image)\n",
    "    A2 = Juliet.add_component(model = nicmodel, name=\"JulietNic\").get_interfaces()[0] \n",
    "    \n",
    "    \n",
    "    # Lan B\n",
    "    LanB = slice.add_node(name = \"LanB\", site = site)\n",
    "    LanB.set_capacities(cores = cores, ram = ram, disk = disk)\n",
    "    LanB.set_image(image)\n",
    "    B = LanB.add_component(model = nicmodel, name = \"LanB\").get_interfaces()[0] \n",
    "    LB = LanB.add_component(model = nicmodel, name = \"RouterB\").get_interfaces()[0] \n",
    "    \n",
    "    # Othello\n",
    "    Othello = slice.add_node(name = \"Othello\", site = site)\n",
    "    Othello.set_capacities(cores = cores, ram = ram, disk = disk)\n",
    "    Othello.set_image(image)\n",
    "    B1 = Othello.add_component(model = nicmodel, name = \"OthelloNic\").get_interfaces()[0] \n",
    "    \n",
    "    # Desdemona\n",
    "    Desdemona = slice.add_node(name = \"Desdemona\", site = site)\n",
    "    Desdemona.set_capacities(cores = cores, ram = ram, disk = disk)\n",
    "    Desdemona.set_image(image)\n",
    "    B2 = Desdemona.add_component(model = nicmodel, name = \"DesdemonaNic\").get_interfaces()[0] \n",
    "    \n",
    "    \n",
    "    # Lan C\n",
    "    LanC = slice.add_node(name = \"LanC\", site = site)\n",
    "    LanC.set_capacities(cores = cores, ram = ram, disk = disk)\n",
    "    LanC.set_image(image)\n",
    "    C = LanC.add_component(model = nicmodel, name = \"LanC\").get_interfaces()[0] \n",
    "    LC = LanC.add_component(model = nicmodel, name = \"RouterC\").get_interfaces()[0] \n",
    "    \n",
    "    # Hamlet\n",
    "    Hamlet = slice.add_node(name = \"Hamlet\", site = site)\n",
    "    Hamlet.set_capacities(cores = cores, ram = ram, disk = disk)\n",
    "    Hamlet.set_image(image)\n",
    "    C1 = Hamlet.add_component(model = nicmodel, name = \"HamletNic\").get_interfaces()[0] \n",
    "    \n",
    "    # Ophelia\n",
    "    Ophelia = slice.add_node(name = \"Ophelia\", site = site)\n",
    "    Ophelia.set_capacities(cores = cores, ram = ram, disk = disk)\n",
    "    Ophelia.set_image(image)\n",
    "    C2 = Ophelia.add_component(model = nicmodel, name = \"OpheliaNic\").get_interfaces()[0] \n",
    "    \n",
    "    # Network\n",
    "    Lan_Mid = slice.add_l2network(name = \"Inter\", interfaces = [LA, LB, LC])\n",
    "    \n",
    "    Lan_A = slice.add_l2network(name = \"Lan_A\", interfaces = [A, A1, A2])\n",
    "    Lan_B = slice.add_l2network(name = \"Lan_B\", interfaces = [B, B1, B2])\n",
    "    Lan_C = slice.add_l2network(name = \"Lan_C\", interfaces = [C, C1, C2])\n",
    "    \n",
    "    \n",
    "    #Submit Slice Request\n",
    "    slice.submit()\n",
    "except Exception as e:\n",
    "    print(f\"Slice Failed: {e}\")"
   ]
  },
  {
   "cell_type": "markdown",
   "id": "f2e15f1b-c105-48fc-a4b4-404e6ef3f594",
   "metadata": {
    "tags": []
   },
   "source": [
    "## Cleanup Resources"
   ]
  },
  {
   "cell_type": "code",
   "execution_count": null,
   "id": "35d3f223-a0e2-402a-85ac-e8b4620e27eb",
   "metadata": {
    "tags": []
   },
   "outputs": [],
   "source": [
    "try:\n",
    "    slice = fablib.get_slice(slice_name)\n",
    "    slice.delete()\n",
    "except Exception as e:\n",
    "    print(f\"Fail: {e}\")"
   ]
  }
 ],
 "metadata": {
  "kernelspec": {
   "display_name": "Python 3 (ipykernel)",
   "language": "python",
   "name": "python3"
  },
  "language_info": {
   "codemirror_mode": {
    "name": "ipython",
    "version": 3
   },
   "file_extension": ".py",
   "mimetype": "text/x-python",
   "name": "python",
   "nbconvert_exporter": "python",
   "pygments_lexer": "ipython3",
   "version": "3.9.7"
  }
 },
 "nbformat": 4,
 "nbformat_minor": 5
}
