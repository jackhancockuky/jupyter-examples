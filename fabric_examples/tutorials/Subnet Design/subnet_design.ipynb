{
 "cells": [
  {
   "cell_type": "markdown",
   "id": "c567dd6d-53ad-4aa5-b411-c4133199ee10",
   "metadata": {
    "tags": []
   },
   "source": [
    "# Subnet Design Tutorial\n",
    "<i>Adapted for use with FABRIC from [Designing Subnets](https://witestlab.poly.edu/blog/designing-subnets/)\n",
    "    \n",
    "In this tutorial you will learn:\n",
    "* How to assign Subnets in a slice\n",
    "    \n",
    "<b> Prerequisites  \n",
    "    \n",
    "* You need to have your FABRIC bastion host key pair set up to do this tutorial. If you have not already set this up, follow steps 1-3 at https://learn.fabric-testbed.net/knowledge-base/logging-into-fabric-vms/.\n",
    "* You are comfortable using ssh and executing basic commands using a UNIX shell. [Tips about how to login to hosts.](https://learn.fabric-testbed.net/knowledge-base/logging-into-fabric-vms/)\n",
    "\n",
    "Subnets are divisions of computer networks that reduce the size of the broadcast domain or create boundaries for organization, administration and security. Routing uses an IP address and a subnet number, this subnet number tells whether packets exist within the network currently being traversed. Manual configuration is usually used when creating these addresses, making these addresses known to the routers. When designing subnets you will have to consider problems such as limited IP space, accomodating all hosts and how traffic will be routed between subnets. \n",
    "    \n",
    "The subnet mask is the first x bits of an address showing which IP addresses may be found in a network. Each IP address on the network will share the same first X bits, and vary in whatever is left. For example in IPV4 an address can carry 32 bits, so an address such as 10.189.0.0/26 will use the first 16 bits as the subnet and all addresses on the network will look like 10.189.x.x .  The amount of hosts that a subnet can carry is 2^y where y is the remaining bits on an address. "
   ]
  },
  {
   "cell_type": "markdown",
   "id": "763589cc-05a9-4236-af1f-9f04d726bf0a",
   "metadata": {},
   "source": [
    "## 1. Design the Experiment\n",
    "### 1.1 Reserve Resources"
   ]
  },
  {
   "cell_type": "markdown",
   "id": "c1d83460-d88d-42b7-a92f-36e910dd8b2a",
   "metadata": {},
   "source": [
    "#### Import the Fabric API"
   ]
  },
  {
   "cell_type": "code",
   "execution_count": null,
   "id": "6e02fb1c-c7b1-4968-962b-ebb5a6985ed0",
   "metadata": {},
   "outputs": [],
   "source": [
    "from fabrictestbed_extensions.fablib.fablib import FablibManager as fablib_manager\n",
    "\n",
    "fablib = fablib_manager()\n",
    "                     \n",
    "fablib.show_config()\n",
    "\n",
    "import json\n",
    "import traceback"
   ]
  },
  {
   "cell_type": "markdown",
   "id": "72b490b7-be7f-4f61-9597-578110abf0bd",
   "metadata": {},
   "source": [
    "####  Retrieve Slice\n",
    "Create the slice at the [Create Slice Notebook](./CreateSlice.ipynb) and import it here.\n"
   ]
  },
  {
   "cell_type": "code",
   "execution_count": null,
   "id": "5cb9bf0e-1bbd-4b58-a677-8bb2f7e6f9ec",
   "metadata": {},
   "outputs": [],
   "source": [
    "slice_name = 'SubnetExample'\n",
    "try:\n",
    "    slice = fablib.get_slice(slice_name)\n",
    "    print(f\"Slice: {slice.get_name()}, {slice.get_state()}\")\n",
    "except Exception as e:\n",
    "    print(f\"Get Slices Fail: {e}\")"
   ]
  },
  {
   "cell_type": "markdown",
   "id": "273fc7c7-f0c4-404d-a6dd-a8bb77cbebc9",
   "metadata": {},
   "source": [
    "## 2. Implement design on each LAN\n",
    "Here the network interface on each host and router on each of the three LANS will be configured.\n",
    "\n",
    "Within each LAN an IP address and subnet mask will be assigned to every interface connected to the LAN."
   ]
  },
  {
   "cell_type": "code",
   "execution_count": null,
   "id": "23160ce0-5c91-48c5-9663-dc8a7bec408e",
   "metadata": {},
   "outputs": [],
   "source": [
    "slice = fablib.get_slice(\"SubnetExample\")\n",
    "slice.list_nodes()"
   ]
  },
  {
   "cell_type": "markdown",
   "id": "45a24d6d-f1a3-4ccf-9e8b-763e6a73a681",
   "metadata": {},
   "source": [
    "#### IP ranges for our subnet masks\n",
    "\n",
    "Here we define our ranges for each of our subnets."
   ]
  },
  {
   "cell_type": "code",
   "execution_count": null,
   "id": "40bcd65a-ef1d-4ba2-a4d2-81ff327c3236",
   "metadata": {},
   "outputs": [],
   "source": [
    "from ipaddress import ip_address, IPv4Address, IPv6Address, IPv4Network, IPv6Network\n",
    "subnetMid = IPv4Network(\"10.10.100.0/24\")\n",
    "available_ips = list(subnetMid)[1:]\n",
    "total_hosts = int(str(available_ips[-1]).split('.')[-1]) - int(str(available_ips[0]).split('.')[-1])\n",
    "print(\"Router Lan, supports: \" + str(total_hosts) + \" hosts\")\n",
    "print(str(available_ips[0]) + \" - \" + str(available_ips[-1])+\"\\n\")\n",
    "\n",
    "subnetA = IPv4Network(\"10.189.24.0/26\")\n",
    "available_ips = list(subnetA)[1:]\n",
    "total_hosts = int(str(available_ips[-1]).split('.')[-1]) - int(str(available_ips[0]).split('.')[-1])\n",
    "print(\"Lan A, supports: \" + str(total_hosts) + \" hosts\")\n",
    "print(str(available_ips[0]) + \" - \" + str(available_ips[-1])+\"\\n\")\n",
    "\n",
    "subnetB = IPv4Network(\"10.189.24.128/25\")\n",
    "available_ips = list(subnetB)[1:]\n",
    "total_hosts = int(str(available_ips[-1]).split('.')[-1]) - int(str(available_ips[0]).split('.')[-1])\n",
    "print(\"Lan B, supports: \" + str(total_hosts) + \" hosts\")\n",
    "print(str(available_ips[0]) + \" - \" + str(available_ips[-1])+\"\\n\")\n",
    "\n",
    "subnetC = IPv4Network(\"10.189.24.64/27\")\n",
    "available_ips = list(subnetC)[1:]\n",
    "total_hosts = int(str(available_ips[-1]).split('.')[-1]) - int(str(available_ips[0]).split('.')[-1])\n",
    "print(\"Lan C, supports: \" + str(total_hosts) + \" hosts\")\n",
    "print(str(available_ips[0]) + \" - \" + str(available_ips[-1])+\"\\n\")"
   ]
  },
  {
   "cell_type": "code",
   "execution_count": null,
   "id": "2367ee39-ff6a-4dfc-8ddd-f373a90cf29c",
   "metadata": {},
   "outputs": [],
   "source": [
    "from ipaddress import ip_address, IPv4Address, IPv6Address, IPv4Network, IPv6Network\n",
    "\n",
    "try:    \n",
    "    #Lan A\n",
    "    LanA = slice.get_node(name=\"LanA\") \n",
    "    Romeo = slice.get_node(name=\"Romeo\")\n",
    "    Juliet = slice.get_node(name=\"Juliet\")\n",
    "    \n",
    "    #Lan B\n",
    "    LanB = slice.get_node(name=\"LanB\") \n",
    "    Othello = slice.get_node(name=\"Othello\")\n",
    "    Desdemona = slice.get_node(name=\"Desdemona\")\n",
    "    \n",
    "    #Lan C\n",
    "    LanC = slice.get_node(name=\"LanC\")\n",
    "    Hamlet = slice.get_node(name=\"Hamlet\")\n",
    "    Ophelia = slice.get_node(name=\"Ophelia\")    \n",
    "    \n",
    "    #Router Lan setup\n",
    "    LanA_iface = LanA.get_interface(network_name=\"Inter\")\n",
    "    LanA_iface.ip_addr_add(addr=\"10.10.100.1\", subnet=subnetMid)\n",
    "    \n",
    "    LanB_iface = LanB.get_interface(network_name=\"Inter\")\n",
    "    LanB_iface.ip_addr_add(addr=\"10.10.100.2\", subnet=subnetMid)\n",
    "    \n",
    "    LanC_iface = LanC.get_interface(network_name=\"Inter\")\n",
    "    LanC_iface.ip_addr_add(addr=\"10.10.100.3\", subnet=subnetMid)\n",
    "    \n",
    "    #Lan A setup\n",
    "    LanA_iface = LanA.get_interface(network_name=\"Lan_A\")\n",
    "    LanA_iface.ip_addr_add(addr=\"10.189.24.10\", subnet=subnetA)\n",
    "    \n",
    "    Romeo_iface = Romeo.get_interface(network_name=\"Lan_A\")\n",
    "    Romeo_iface.ip_addr_add(addr=\"10.189.24.20\", subnet=subnetA)\n",
    "    \n",
    "    Juliet_iface = Juliet.get_interface(network_name=\"Lan_A\")\n",
    "    Juliet_iface.ip_addr_add(addr=\"10.189.24.30\", subnet=subnetA)\n",
    "    \n",
    "    #Lan B setup\n",
    "    LanB_iface = LanB.get_interface(network_name=\"Lan_B\")\n",
    "    LanB_iface.ip_addr_add(addr=\"10.189.24.130\", subnet=subnetB)\n",
    "    \n",
    "    Othello_iface = Othello.get_interface(network_name=\"Lan_B\")\n",
    "    Othello_iface.ip_addr_add(addr=\"10.189.24.140\", subnet=subnetB)\n",
    "    \n",
    "    Desdemona_iface = Desdemona.get_interface(network_name=\"Lan_B\")\n",
    "    Desdemona_iface.ip_addr_add(addr=\"10.189.24.150\", subnet=subnetB)\n",
    "    \n",
    "    #Lan C setup\n",
    "    LanC_iface = LanC.get_interface(network_name=\"Lan_C\")\n",
    "    LanC_iface.ip_addr_add(addr=\"10.189.24.70\", subnet=subnetC)\n",
    "    \n",
    "    Hamlet_iface = Hamlet.get_interface(network_name=\"Lan_C\")\n",
    "    Hamlet_iface.ip_addr_add(addr=\"10.189.24.80\", subnet=subnetC)\n",
    "    \n",
    "    Ophelia_iface = Ophelia.get_interface(network_name=\"Lan_C\")\n",
    "    Ophelia_iface.ip_addr_add(addr=\"10.189.24.90\", subnet=subnetC)\n",
    "    \n",
    "except Exception as e:\n",
    "    print(f\"Exception: {e}\")"
   ]
  },
  {
   "cell_type": "markdown",
   "id": "2f58a63c-530a-46c3-b9b1-99d691a75f82",
   "metadata": {},
   "source": [
    "#### Enable forwarding on all nodes"
   ]
  },
  {
   "cell_type": "code",
   "execution_count": null,
   "id": "02ba2792-249b-4c7a-8d9c-231c3c557770",
   "metadata": {},
   "outputs": [],
   "source": [
    "for node in slice.get_nodes():\n",
    "    node.execute(\"sudo apt-get update -y; sudo apt-get install traceroute -y; sudo sysctl -w net.ipv4.ip_forward=1\")"
   ]
  },
  {
   "cell_type": "markdown",
   "id": "b932b969-5ed5-46d4-9b53-4e3088cbda09",
   "metadata": {},
   "source": [
    "#### Test connection\n",
    "\n",
    "We will ping Ophelia 5 times to test if the connection is available."
   ]
  },
  {
   "cell_type": "code",
   "execution_count": null,
   "id": "2835cc85-4972-45fc-9dde-34f7ac7ce1a0",
   "metadata": {},
   "outputs": [],
   "source": [
    "print(Romeo.execute(\"ping -c 5 10.189.24.90\")[0])"
   ]
  },
  {
   "cell_type": "markdown",
   "id": "f26455ba-e1c8-49f6-9c9f-6f0838c67e2f",
   "metadata": {},
   "source": [
    "#### Add routing to all nodes\n",
    "By default the routing tables on each node can't communicate with each other, this block of code adds all other subnets to their routing table."
   ]
  },
  {
   "cell_type": "code",
   "execution_count": null,
   "id": "2fcf29e9-e4a2-4134-81b4-57bc4615a3ba",
   "metadata": {},
   "outputs": [],
   "source": [
    "#Lan A\n",
    "LanA.execute(\"sudo ip route add 10.189.24.64/27 via 10.10.100.3;sudo ip route add 10.189.24.128/25 via 10.10.100.2;\")\n",
    "Romeo.execute(\"sudo ip route add 10.189.24.64/27 via 10.189.24.10;sudo ip route add 10.189.24.128/25 via 10.189.24.10;\")\n",
    "Juliet.execute(\"sudo ip route add 10.189.24.64/27 via 10.189.24.10;sudo ip route add 10.189.24.128/25 via 10.189.24.10;\")\n",
    "\n",
    "#Lan B\n",
    "LanB.execute(\"sudo ip route add 10.189.24.0/26 via 10.10.100.1; sudo ip route add 10.189.24.64/27 via 10.10.100.3;\")\n",
    "Othello.execute(\"sudo ip route add 10.189.24.0/26 via 10.189.24.130; sudo ip route add 10.189.24.64/27 via 10.189.24.130;\")\n",
    "Desdemona.execute(\"sudo ip route add 10.189.24.0/26 via 10.189.24.130; sudo ip route add 10.189.24.64/27 via 10.189.24.130;\")\n",
    "\n",
    "#Lan C\n",
    "LanC.execute(\"sudo ip route add 10.189.24.0/26 via 10.10.100.1; sudo ip route add 10.189.24.128/25 via 10.10.100.2;\")\n",
    "Hamlet.execute(\"sudo ip route add 10.189.24.0/26 via 10.189.24.70;sudo ip route add 10.189.24.128/25 via 10.189.24.70;\")\n",
    "Ophelia.execute(\"sudo ip route add 10.189.24.0/26 via 10.189.24.70;sudo ip route add 10.189.24.128/25 via 10.189.24.70;\")"
   ]
  },
  {
   "cell_type": "markdown",
   "id": "2ab5a9c2-ebed-4aec-b111-02ec80d9c314",
   "metadata": {},
   "source": [
    "#### Test connection\n",
    "\n",
    "We will ping Ophelia 5 times to make sure the connection is available."
   ]
  },
  {
   "cell_type": "code",
   "execution_count": null,
   "id": "8c95f9d4-a103-4a52-8250-3892e36d661b",
   "metadata": {},
   "outputs": [],
   "source": [
    "print(Romeo.execute(\"ping -c 5 10.189.24.90\")[0])"
   ]
  },
  {
   "cell_type": "markdown",
   "id": "41b97386-c710-4c00-a99a-83bfa0ec084c",
   "metadata": {},
   "source": [
    "#### Print the route from Romeo to Ophelia\n",
    "\n",
    "`Traceroute` will show the hops used to get from the first node (Romeo) to the destination (Ophelia)."
   ]
  },
  {
   "cell_type": "code",
   "execution_count": null,
   "id": "388576b5-b92a-49ce-bed5-6541cb1072c8",
   "metadata": {},
   "outputs": [],
   "source": [
    "print(Romeo.execute(\"traceroute 10.189.24.90\")[0])"
   ]
  },
  {
   "cell_type": "markdown",
   "id": "03038b9c-1e67-4f04-8e5e-402a7ca867f6",
   "metadata": {},
   "source": [
    "## 3. Cleanup Resources\n",
    "### 3.1 Delete Slice"
   ]
  },
  {
   "cell_type": "code",
   "execution_count": null,
   "id": "6a05fe66-32b5-4772-a56d-9a9738cd081d",
   "metadata": {},
   "outputs": [],
   "source": [
    "try:\n",
    "    slice = fablib.get_slice(\"SubnetExample\")\n",
    "    slice.delete()\n",
    "except Exception as e:\n",
    "    print(f\"Fail: {e}\")"
   ]
  },
  {
   "cell_type": "code",
   "execution_count": null,
   "id": "2ec95d16-6599-4946-b3fe-bdc77bb345cd",
   "metadata": {},
   "outputs": [],
   "source": []
  }
 ],
 "metadata": {
  "kernelspec": {
   "display_name": "Python 3 (ipykernel)",
   "language": "python",
   "name": "python3"
  },
  "language_info": {
   "codemirror_mode": {
    "name": "ipython",
    "version": 3
   },
   "file_extension": ".py",
   "mimetype": "text/x-python",
   "name": "python",
   "nbconvert_exporter": "python",
   "pygments_lexer": "ipython3",
   "version": "3.9.7"
  }
 },
 "nbformat": 4,
 "nbformat_minor": 5
}
