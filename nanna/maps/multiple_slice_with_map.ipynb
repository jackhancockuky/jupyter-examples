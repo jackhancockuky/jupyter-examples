{
 "cells": [
  {
   "cell_type": "markdown",
   "id": "4a42f200-2373-4b53-8195-53045ddc8dc4",
   "metadata": {},
   "source": [
    "## Setup//Tokens"
   ]
  },
  {
   "cell_type": "code",
   "execution_count": null,
   "id": "bf524523-a06b-4a56-8e12-a560db541c16",
   "metadata": {
    "tags": []
   },
   "outputs": [],
   "source": [
    "import os\n",
    "import json\n",
    "from fabrictestbed.slice_manager import SliceManager, Status\n",
    "\n",
    "fabric_refresh_token = None\n",
    "%store -r fabric_refresh_token\n",
    "\n",
    "if fabric_refresh_token is None:\n",
    "    fabric_refresh_token = os.environ['CILOGON_REFRESH_TOKEN']\n",
    "    %store fabric_refresh_token\n",
    "    \n",
    "print(\"Refresh token is: {}\".format(fabric_refresh_token))\n",
    "\n",
    "credentialmanager_host = os.environ['FABRIC_CREDMGR_HOST']\n",
    "orchestrator_host = os.environ['FABRIC_ORCHESTRATOR_HOST']\n",
    "\n",
    "print(f\"CM Host: {credentialmanager_host} Orchestrator Host: {orchestrator_host}\")\n",
    "\n",
    "#create slice manager\n",
    "slice_manager = SliceManager(oc_host = orchestrator_host, cm_host = credentialmanager_host, refresh_token = fabric_refresh_token, project_name='all', scope='all')\n",
    "\n",
    "#ssh\n",
    "ssh_key = None\n",
    "with open (\"/home/fabric/.ssh/id_rsa.pub\", \"r\") as myfile:\n",
    "    ssh_key = myfile.read().strip()\n",
    "  \n",
    "\n",
    "#get id token\n",
    "try:\n",
    "    id_token, refresh_token = slice_manager.refresh_tokens()\n",
    "except Exception as e:\n",
    "    print(\"Exception occurred while getting tokens:{}\".format(e))\n",
    "\n",
    "fabric_refresh_token=slice_manager.get_refresh_token()\n",
    "fabric_id_token=slice_manager.get_id_token()\n",
    "print()\n",
    "print(\"New Refresh Token: {}\".format(fabric_refresh_token))\n",
    "print()\n",
    "print(\"New Id Token: {}\".format(fabric_id_token))\n",
    "print()\n",
    "print(\"Stored new Refresh Token\")\n",
    "%store fabric_refresh_token\n",
    "print()\n",
    "print(\"Stroed new ID Token\")\n",
    "%store fabric_id_token\n",
    "print()"
   ]
  },
  {
   "cell_type": "markdown",
   "id": "2f6928dc-fcc0-4686-ad8d-6bcfb2513620",
   "metadata": {},
   "source": [
    "## Setup//Tokens NEW VERSION"
   ]
  },
  {
   "cell_type": "code",
   "execution_count": 21,
   "id": "b52f9697-e8ad-40fd-b817-b091558a9cd5",
   "metadata": {},
   "outputs": [
    {
     "name": "stdout",
     "output_type": "stream",
     "text": [
      "CM Host: beta-2.fabric-testbed.net Orchestrator Host: beta-7.fabric-testbed.net\n",
      "\n",
      "Token location: /home/fabric/.tokens.json\n",
      "\n",
      "New Refresh Token: NB2HI4DTHIXS6Y3JNRXWO33OFZXXEZZPN5QXK5DIGIXTEMLCME4GIMRYMYYGEOBRGIYDINLCGBRDIMTBMU2DMOJRGQ4TSZR7OR4XAZJ5OJSWM4TFONUFI33LMVXCM5DTHUYTMMRWG4YTCNJRGMYDKNRGOZSXE43JN5XD25RSFYYCM3DJMZSXI2LNMU6TQNRUGAYDAMBQ\n",
      "\n",
      "New Id Token: eyJ0eXAiOiJKV1QiLCJhbGciOiJSUzI1NiIsImtpZCI6ImI0MTUxNjcyMTExOTFlMmUwNWIyMmI1NGIxZDNiNzY2N2U3NjRhNzQ3NzIyMTg1ZTcyMmU1MmUxNDZmZTQzYWEifQ.eyJlbWFpbCI6Im5hbm5rYXRAYnUuZWR1IiwiY2VydF9zdWJqZWN0X2RuIjoiL0RDPW9yZy9EQz1jaWxvZ29uL0M9VVMvTz1Cb3N0b24gVW5pdmVyc2l0eS9DTj1OYW5uYSBLYXRyaW4gSGFubmVzZG90dGlyIEE0NjA5NjM1NiIsImlkcCI6Imh0dHBzOi8vc2hpYi5idS5lZHUvaWRwL3NoaWJib2xldGgiLCJpZHBfbmFtZSI6IkJvc3RvbiBVbml2ZXJzaXR5IiwiZXBwbiI6Im5hbm5rYXRAYnUuZWR1IiwiZXB0aWQiOiJodHRwczovL3NoaWIuYnUuZWR1L2lkcC9zaGliYm9sZXRoIWh0dHBzOi8vY2lsb2dvbi5vcmcvc2hpYmJvbGV0aCFwZW5PVjQzcXF5blR1Tjg5T2hqNVJqcnVQUTA9IiwiYWZmaWxpYXRpb24iOiJzdHVkZW50QGJ1LmVkdTttZW1iZXJAYnUuZWR1IiwibmFtZSI6Ik5hbm5hIEthdHJpbiBIYW5uZXNkb3R0aXIiLCJhY3IiOiJodHRwczovL3NoaWIuYnUuZWR1L3NpbmdsZSIsImVudGl0bGVtZW50IjoiaHR0cDovL2lhbS5idS5lZHUvbWVtYmVyL2NhcztodHRwOi8vaWFtLmJ1LmVkdS9yZWcvY29sbGVnZS9lbmc7aHR0cDovL2lhbS5idS5lZHUvcmVnL2NvbGxlZ2UvY2FzO2h0dHA6Ly9pYW0uYnUuZWR1L2lkaW5mby81MCIsImlzcyI6Imh0dHBzOi8vY2lsb2dvbi5vcmciLCJzdWIiOiJodHRwOi8vY2lsb2dvbi5vcmcvc2VydmVyQS91c2Vycy80NjA5NjM1NiIsImF1ZCI6ImNpbG9nb246L2NsaWVudF9pZC80ZDdlYTU4M2RkMDYxOWMyOTBlZGE3YWI2NmYyY2VmYSIsInRva2VuX2lkIjoiaHR0cHM6Ly9jaWxvZ29uLm9yZy9vYXV0aDIvaWRUb2tlbi8yNWFmOWRjOThjNDI1NjYxZDY2NWViMTEyODQ3MzJhMS8xNjI2NzAwMDc5MTM2IiwiYXV0aF90aW1lIjoxNjI2NzAwMDc4LCJleHAiOjE2MjY3MTUxMTMsImlhdCI6MTYyNjcxMTUxMywicHJvamVjdHMiOnsiRkFCUklDIFN0dWRlbnRzIjpbXX0sInJvbGVzIjpbImZhYnJpYy1hY3RpdmUtdXNlcnMiLCJhZGUzYTdkZC05NDg4LTQwZjktOGZjNi05NjdkZTBlZWE3MzUtcG0iXSwic2NvcGUiOiJhbGwifQ.F_QSe20pyoVV_Yzx--7X04wVtWdiNJEoBAvmu3DW97j0mbxxp-qTugSoDpw7Bia3RfEiI2Qt6Q21U-M1xfIACMh3UuIg5MC5A4V3rvBO3MBt2AkMpL0KedU5lPGbmgco3RW9nVViB6i3yKSDSrBhhTDPeLZpQsv67A7-bhioS6LUO_t6WYJZY3G3Z0KJ8oFl5Zx2AaDoLTs1LUoX_euojoKM-eN7nZgKVaaLqQepYds5EXmkUMg9DrZXZH4_B1qNwLE1re2LMlCyJU6d8EpN0iVXdRJHR2lakeT9QVXcoXp3lX5I7ZDi2zZIn8AzTPOeKNKtujwao_Dwi3mYDfrmhX7loLjrUdZQ9qwRLmaraSj2DW5FEVMh6vVf4L9lndqkddEryAcnHMJFMc7jM8GzrmLudeK6btiuVB-DfoeEWT4p0WaeMnlQv5RgeEo9uSIymQN8nbPj_J4a8uloQCu2pCAhJcfNz4QnjzHMXRE4cYDcn5j-PmgJus_Sj_q3NgDCRUvw7ow5uejPLscfy56h3cMC6XYRZ5jcuOmimsnIDh2ykx8lnsw4yaS_E7E4bKWQNYGrYvEwXGWB3QQKx2UdyQBflSIFF1Ocb-YvSeO4PLB0FjZCNRU5K7JmOmU2bjUxSZ4ZXVjQj-arOg1i_fDENsMlHAe25SGFgbwdMfKMdBs\n",
      "\n",
      "Stored new Refresh Token\n",
      "Stored 'fabric_refresh_token' (str)\n",
      "\n",
      "Stroed new ID Token\n",
      "Stored 'fabric_id_token' (str)\n",
      "\n"
     ]
    }
   ],
   "source": [
    "import json\n",
    "import os\n",
    "from fabrictestbed.slice_manager import SliceManager, Status\n",
    "\n",
    "credentialmanager_host = os.environ['FABRIC_CREDMGR_HOST']\n",
    "orchestrator_host = os.environ['FABRIC_ORCHESTRATOR_HOST']\n",
    "\n",
    "print(f\"CM Host: {credentialmanager_host} Orchestrator Host: {orchestrator_host}\")\n",
    "print()\n",
    "\n",
    "slice_manager = SliceManager(oc_host = orchestrator_host, cm_host = credentialmanager_host, project_name='all', scope='all')\n",
    "slice_manager.initialize()\n",
    "\n",
    "print(\"Token location: {}\".format(slice_manager.token_location))\n",
    "\n",
    "fabric_refresh_token = slice_manager.get_refresh_token()\n",
    "fabric_id_token = slice_manager.get_id_token()\n",
    "print()\n",
    "print(\"New Refresh Token: {}\".format(fabric_refresh_token))\n",
    "print()\n",
    "print(\"New Id Token: {}\".format(fabric_id_token))\n",
    "print()\n",
    "print(\"Stored new Refresh Token\")\n",
    "%store fabric_refresh_token\n",
    "print()\n",
    "print(\"Stroed new ID Token\")\n",
    "%store fabric_id_token\n",
    "print()\n",
    "\n",
    "ssh_key = None\n",
    "with open (\"/home/fabric/.ssh/id_rsa.pub\", \"r\") as myfile:\n",
    "    ssh_key=myfile.read().strip()"
   ]
  },
  {
   "cell_type": "code",
   "execution_count": 22,
   "id": "0cb19ba8-d73f-48b8-8fb7-24364272d2ad",
   "metadata": {},
   "outputs": [],
   "source": [
    "from fabrictestbed.slice_editor import ExperimentTopology, Capacities, ComponentType, LinkType, Layer"
   ]
  },
  {
   "cell_type": "markdown",
   "id": "30b83a74-478e-4d6e-b231-4bac2d019705",
   "metadata": {},
   "source": [
    "## Create Slice 1"
   ]
  },
  {
   "cell_type": "markdown",
   "id": "789fe7ba-2dca-4393-9016-c0f8d7df9359",
   "metadata": {},
   "source": [
    "### Experiment obj and node"
   ]
  },
  {
   "cell_type": "code",
   "execution_count": 47,
   "id": "9820b95c-6a76-4354-924a-192770d5f09e",
   "metadata": {},
   "outputs": [],
   "source": [
    "experiment = ExperimentTopology()\n",
    "slice1_name = \"TestSlice1\"\n",
    "\n",
    "slice1_node = experiment.add_node(name='s1n1', site = 'UKY')\n",
    "\n",
    "slice1_node_capacities = Capacities()\n",
    "slice1_node_capacities.set_fields(core = 4, ram = 16, disk = 100)\n",
    "slice1_node.set_properties(capacities = slice1_node_capacities, image_type='qcow2', image_ref='default_ubuntu_20')\n",
    "\n",
    "#slice1_node2 = experiment.add_node(name='s1n2', site = 'UKY')\n",
    "#slice1_node2_capacities = Capacities()\n",
    "#slice1_node2_capacities.set_fields(core=2, ram=12, disk=20)\n",
    "#slice1_node2.set_properties(capacities = slice1_node2_capacities, image_type='qcow2', image_ref='default_ubuntu_20')"
   ]
  },
  {
   "cell_type": "markdown",
   "id": "b8d9c3ad-c7e2-4442-8c42-fb047444c931",
   "metadata": {},
   "source": [
    "### Configure slice"
   ]
  },
  {
   "cell_type": "code",
   "execution_count": 48,
   "id": "9f6dda01-699a-4b88-a121-678044d762ce",
   "metadata": {},
   "outputs": [
    {
     "name": "stdout",
     "output_type": "stream",
     "text": [
      "Request Status.OK\n",
      "Reservations: [{\n",
      "    \"graph_node_id\": \"0153fc7a-57c0-477e-9b15-a4f9669d564d\",\n",
      "    \"lease_end\": \"2021-07-20 16:39:16\",\n",
      "    \"pending_state\": \"None_\",\n",
      "    \"reservation_id\": \"b31b7053-94d8-41e6-bb64-4016440e37dc\",\n",
      "    \"reservation_state\": \"Unknown\",\n",
      "    \"slice_id\": \"686a5c9b-0a55-4689-9150-234bb257336d\"\n",
      "}]\n"
     ]
    }
   ],
   "source": [
    "#serialize into slice graph object\n",
    "slice1_graph = experiment.serialize()\n",
    "\n",
    "#communicate with orchestrator for slice\n",
    "status,reservations = slice_manager.create(slice_name = slice1_name, slice_graph = slice1_graph, ssh_key = ssh_key)\n",
    "\n",
    "#get the slice id of the newly created slice and check status to see if it went through\n",
    "print(\"Request {}\".format(status))\n",
    "print(\"Reservations: {}\".format(reservations))\n",
    "\n",
    "slice1_id = reservations[0].slice_id"
   ]
  },
  {
   "cell_type": "markdown",
   "id": "cfbf043f-2a02-4cba-af3b-2302371e74dd",
   "metadata": {},
   "source": [
    "### Query slices"
   ]
  },
  {
   "cell_type": "code",
   "execution_count": 52,
   "id": "eeccce1a-99e9-4681-84df-59634bbcb218",
   "metadata": {},
   "outputs": [
    {
     "name": "stdout",
     "output_type": "stream",
     "text": [
      "Response Status Status.OK\n",
      "Slices [{\n",
      "    \"graph_id\": \"2bdc90bd-68c5-49a0-b97e-0fa14f480ee0\",\n",
      "    \"lease_end\": \"2021-07-20 16:39:16\",\n",
      "    \"slice_id\": \"686a5c9b-0a55-4689-9150-234bb257336d\",\n",
      "    \"slice_name\": \"TestSlice1\",\n",
      "    \"slice_state\": \"StableOK\"\n",
      "}]\n"
     ]
    }
   ],
   "source": [
    "import time\n",
    "status, slices_all = slice_manager.slices(state = 'All')\n",
    "slices = list(filter(lambda x: x.slice_state == 'Configuring' or x.slice_state == 'StableOK', slices_all ))\n",
    "\n",
    "print(\"Response Status {}\".format(status))\n",
    "print(\"Slices {}\".format(slices))"
   ]
  },
  {
   "cell_type": "code",
   "execution_count": 51,
   "id": "1f7aa91f-ae2d-4d8b-bcd7-62bb1b57481c",
   "metadata": {},
   "outputs": [
    {
     "name": "stdout",
     "output_type": "stream",
     "text": [
      "Response Status Status.OK\n",
      "Slice State: Configuring\n",
      "Response Status Status.OK\n",
      "Slice State: Configuring\n"
     ]
    }
   ],
   "source": [
    "state = None\n",
    "while state != 'StableOK':\n",
    "    status, slice_status = slice_manager.slice_status(slice_id=slice1_id)\n",
    "    state = slice_status.slice_state\n",
    "    print(\"Response Status {}\".format(status))\n",
    "    print(\"Slice State: {}\".format(slices[0].slice_state))\n",
    "    time.sleep(20)"
   ]
  },
  {
   "cell_type": "markdown",
   "id": "360fb33b-37cc-4bf3-80c5-dffbbb2e00e1",
   "metadata": {},
   "source": [
    "## Create Slice 2"
   ]
  },
  {
   "cell_type": "markdown",
   "id": "d01d7e4a-4169-4d28-a5c8-c561e07e3a74",
   "metadata": {
    "tags": []
   },
   "source": [
    "### Experiment obj and node"
   ]
  },
  {
   "cell_type": "code",
   "execution_count": 58,
   "id": "02110245-4c48-4f83-9000-7480750f04a2",
   "metadata": {},
   "outputs": [],
   "source": [
    "experiment = ExperimentTopology()\n",
    "slice2_name = \"TestSlice2\"\n",
    "\n",
    "slice2_node = experiment.add_node(name='s2n1', site = 'LBNL')\n",
    "\n",
    "slice2_node_capacities = Capacities()\n",
    "slice2_node_capacities.set_fields(core=4, ram=20, disk=80)\n",
    "slice2_node.set_properties(capacities = slice2_node_capacities, image_type='qcow2', image_ref='default_ubuntu_20')"
   ]
  },
  {
   "cell_type": "markdown",
   "id": "da6b2b39-ca60-4228-bd09-50c9b772e2aa",
   "metadata": {
    "tags": []
   },
   "source": [
    "### Configure slice"
   ]
  },
  {
   "cell_type": "code",
   "execution_count": 59,
   "id": "78239928-ed3d-4ac9-9bf9-51289d98b809",
   "metadata": {
    "tags": []
   },
   "outputs": [
    {
     "name": "stdout",
     "output_type": "stream",
     "text": [
      "Request Status.OK\n",
      "Reservations: [{\n",
      "    \"graph_node_id\": \"d45ebe78-e7f2-4195-9c96-f75cba47688f\",\n",
      "    \"lease_end\": \"2021-07-20 16:44:11\",\n",
      "    \"pending_state\": \"None_\",\n",
      "    \"reservation_id\": \"96fbbec5-2960-4b9f-a38f-52dd3ede643d\",\n",
      "    \"reservation_state\": \"Unknown\",\n",
      "    \"slice_id\": \"47d88cef-f180-40eb-9ef1-68dfa8ba43eb\"\n",
      "}]\n"
     ]
    }
   ],
   "source": [
    "#serialize into slice graph object\n",
    "slice2_graph = experiment.serialize()\n",
    "\n",
    "#communicate with orchestrator for slice\n",
    "status,reservations = slice_manager.create(slice_name = slice2_name, slice_graph = slice2_graph, ssh_key = ssh_key)\n",
    "\n",
    "#get the slice id of the newly created slice and check status to see if it went through\n",
    "print(\"Request {}\".format(status))\n",
    "print(\"Reservations: {}\".format(reservations))\n",
    "\n",
    "slice2_id = reservations[-1].slice_id"
   ]
  },
  {
   "cell_type": "markdown",
   "id": "37aa778b-06ba-4c23-a721-d0a5ba703b6a",
   "metadata": {},
   "source": [
    "### Query slices"
   ]
  },
  {
   "cell_type": "code",
   "execution_count": 62,
   "id": "88cf4201-6fd4-4a86-bcea-a03fc3a862c3",
   "metadata": {},
   "outputs": [
    {
     "name": "stdout",
     "output_type": "stream",
     "text": [
      "Response Status Status.OK\n",
      "Slices [{\n",
      "    \"graph_id\": \"a89babdf-048d-4b47-a23c-97f87342ca2e\",\n",
      "    \"lease_end\": \"2021-07-20 16:44:11\",\n",
      "    \"slice_id\": \"47d88cef-f180-40eb-9ef1-68dfa8ba43eb\",\n",
      "    \"slice_name\": \"TestSlice2\",\n",
      "    \"slice_state\": \"StableOK\"\n",
      "}, {\n",
      "    \"graph_id\": \"2bdc90bd-68c5-49a0-b97e-0fa14f480ee0\",\n",
      "    \"lease_end\": \"2021-07-20 16:39:16\",\n",
      "    \"slice_id\": \"686a5c9b-0a55-4689-9150-234bb257336d\",\n",
      "    \"slice_name\": \"TestSlice1\",\n",
      "    \"slice_state\": \"StableOK\"\n",
      "}]\n"
     ]
    }
   ],
   "source": [
    "import time\n",
    "status, slices_all = slice_manager.slices(state = 'All')\n",
    "slices = list(filter(lambda x: x.slice_state == 'Configuring' or x.slice_state == 'StableOK', slices_all ))\n",
    "\n",
    "print(\"Response Status {}\".format(status))\n",
    "print(\"Slices {}\".format(slices))"
   ]
  },
  {
   "cell_type": "code",
   "execution_count": 61,
   "id": "d1f72a36-76d9-4df2-9a84-666d25ac2867",
   "metadata": {},
   "outputs": [
    {
     "name": "stdout",
     "output_type": "stream",
     "text": [
      "Response Status Status.OK\n",
      "Slice State: StableOK\n",
      "Response Status Status.OK\n",
      "Slice State: StableOK\n",
      "Response Status Status.OK\n",
      "Slice State: StableOK\n"
     ]
    }
   ],
   "source": [
    "state = None\n",
    "while state != 'StableOK':\n",
    "    status, slice_status = slice_manager.slice_status(slice_id=slice2_id)\n",
    "    state = slice_status.slice_state\n",
    "    print(\"Response Status {}\".format(status))\n",
    "    print(\"Slice State: {}\".format(slices[0].slice_state))\n",
    "    time.sleep(20)"
   ]
  },
  {
   "cell_type": "markdown",
   "id": "10cd50ab-55d5-4a9c-a87f-87d15bab47f9",
   "metadata": {},
   "source": [
    "## Display slices with map"
   ]
  },
  {
   "cell_type": "code",
   "execution_count": 63,
   "id": "54a3d6c3-2984-426d-bb18-077b28eed1bc",
   "metadata": {
    "tags": []
   },
   "outputs": [
    {
     "name": "stdout",
     "output_type": "stream",
     "text": [
      "Response Status Status.OK\n",
      "Slices [{\n",
      "    \"graph_id\": \"a89babdf-048d-4b47-a23c-97f87342ca2e\",\n",
      "    \"lease_end\": \"2021-07-20 16:44:11\",\n",
      "    \"slice_id\": \"47d88cef-f180-40eb-9ef1-68dfa8ba43eb\",\n",
      "    \"slice_name\": \"TestSlice2\",\n",
      "    \"slice_state\": \"StableOK\"\n",
      "}, {\n",
      "    \"graph_id\": \"2bdc90bd-68c5-49a0-b97e-0fa14f480ee0\",\n",
      "    \"lease_end\": \"2021-07-20 16:39:16\",\n",
      "    \"slice_id\": \"686a5c9b-0a55-4689-9150-234bb257336d\",\n",
      "    \"slice_name\": \"TestSlice1\",\n",
      "    \"slice_state\": \"StableOK\"\n",
      "}]\n"
     ]
    }
   ],
   "source": [
    "status, slices = slice_manager.slices(state = 'Active')\n",
    "\n",
    "print(\"Response Status {}\".format(status))\n",
    "print(\"Slices {}\".format(slices))"
   ]
  },
  {
   "cell_type": "code",
   "execution_count": 64,
   "id": "bfeb7d90-e0d8-4910-8b22-6d85c9b4ebfb",
   "metadata": {
    "tags": []
   },
   "outputs": [],
   "source": [
    "site_dict = {'UKY': (38.03154264461649, -84.50343326019218), 'RENCI': (35.93996154497003, -79.01809264307425), 'LBNL': (38.94977311613871, -122.61289106281062)}"
   ]
  },
  {
   "cell_type": "code",
   "execution_count": 65,
   "id": "0bc1464c-f678-4285-b246-d6b0227e3c4c",
   "metadata": {},
   "outputs": [
    {
     "name": "stdout",
     "output_type": "stream",
     "text": [
      "{ core: 8 , ram: 32 G, disk: 100 G}\n",
      "{ core: 4 , ram: 16 G, disk: 100 G}\n"
     ]
    }
   ],
   "source": [
    "for slice in slices:\n",
    "    status, nodes = slice_manager.slivers(slice_id = slice.slice_id)\n",
    "    print(nodes[0].allocated_capacities)"
   ]
  },
  {
   "cell_type": "code",
   "execution_count": 66,
   "id": "ba79328a-5c01-480f-9385-a54b70fe6812",
   "metadata": {},
   "outputs": [
    {
     "data": {
      "application/vnd.jupyter.widget-view+json": {
       "model_id": "22c1d060379e4538b332b13f0f60106e",
       "version_major": 2,
       "version_minor": 0
      },
      "text/plain": [
       "interactive(children=(RadioButtons(description='My slices:', options=('TestSlice2', 'TestSlice1'), value='Test…"
      ]
     },
     "metadata": {},
     "output_type": "display_data"
    },
    {
     "data": {
      "text/plain": [
       "<function __main__.display_slice(slice)>"
      ]
     },
     "execution_count": 66,
     "metadata": {},
     "output_type": "execute_result"
    }
   ],
   "source": [
    "import ipywidgets as widgets\n",
    "from ipywidgets import Text, HTML, HBox, Layout, VBox\n",
    "from ipyleaflet import (\n",
    "    Map,\n",
    "    Marker,\n",
    "    TileLayer, ImageOverlay,\n",
    "    Polyline, Polygon, Rectangle, Circle, CircleMarker,\n",
    "    GeoJSON,\n",
    "    DrawControl,\n",
    "    WidgetControl,\n",
    "    basemaps,\n",
    "    Popup,\n",
    "    Icon,\n",
    "    MarkerCluster\n",
    ")\n",
    "\n",
    "slice_list = []\n",
    "slice_info = {}\n",
    "\n",
    "for slice in slices:\n",
    "    status, nodes = slice_manager.slivers(slice_id = slice.slice_id)\n",
    "    slice_list.append(slice.slice_name)\n",
    "    slice_info[slice.slice_name] = nodes\n",
    "\n",
    "\n",
    "#slice_list.append('Synthetic_slice')\n",
    "#slice_info['Synthetic_slice'] = 'LBNL'\n",
    "\n",
    "selection = widgets.RadioButtons(\n",
    "    options = slice_list,\n",
    "    description = 'My slices:',\n",
    "    disabled=False\n",
    ")\n",
    "\n",
    "\n",
    "def display_slice(slice):\n",
    "    slice_map = Map(basemap = basemaps.Esri.WorldStreetMap, center=(38.12480976137421, -95.7129), zoom = 3.8)\n",
    "    title = [widgets.HTML(value = '<center><b>slice:</b> ' + slice + '</center>')]\n",
    "   \n",
    "    my_layout = Layout(width = '200px', overflow_y= 'auto', padding = \"4px\" )\n",
    "    map_title = VBox(title , layout = my_layout )\n",
    "    control = WidgetControl(widget = map_title, position='topright')\n",
    "    slice_map.add_control(control)\n",
    "    \n",
    "    marker_list = []\n",
    "    for node in slice_info[slice]:\n",
    "        site = node.site\n",
    "        b = HTML(value = '<b>' + node.name + '</b><br><b>location:</b> '+ site +'<br><b>capacities:</b> core: ' + str(node.allocated_capacities.core) + ', ram: ' + str(node.allocated_capacities.ram) +\n",
    "                 ' G, disk: '+ str(node.allocated_capacities.disk) + ' G<br><b>components:</b><br><b>links:</b>', disabled=True) \n",
    "        html_info = HBox([b], layout=Layout(overflow_y='auto'))\n",
    "        node = Marker(location = site_dict[site], draggable = False, title = site)\n",
    "        node.popup = html_info \n",
    "        marker_list.append(node)\n",
    "        \n",
    "    my_cluster = MarkerCluster(markers = tuple(marker_list))\n",
    "    slice_map.add_layer(node)\n",
    "    display(slice_map)\n",
    "\n",
    "#height='160px\n",
    "\n",
    "widgets.interact(display_slice, slice = selection)\n"
   ]
  },
  {
   "cell_type": "markdown",
   "id": "b54bdc8b-228d-4fda-be2b-efb5e7d0788f",
   "metadata": {},
   "source": [
    "## Delete slices"
   ]
  },
  {
   "cell_type": "code",
   "execution_count": 67,
   "id": "aca6ef75-f2b0-4da0-afa0-1ecd372a42df",
   "metadata": {},
   "outputs": [
    {
     "name": "stdout",
     "output_type": "stream",
     "text": [
      "Response Status Status.OK\n",
      "Response received None\n",
      "Response Status Status.OK\n",
      "Response received None\n"
     ]
    }
   ],
   "source": [
    "status, result = slice_manager.delete(slice_id = slice1_id)\n",
    "\n",
    "print(\"Response Status {}\".format(status))\n",
    "print(\"Response received {}\".format(result))\n",
    "\n",
    "status, result = slice_manager.delete(slice_id = slice2_id)\n",
    "\n",
    "print(\"Response Status {}\".format(status))\n",
    "print(\"Response received {}\".format(result))"
   ]
  },
  {
   "cell_type": "code",
   "execution_count": null,
   "id": "2c538cab-5817-4146-b725-eace5c850a7a",
   "metadata": {},
   "outputs": [],
   "source": []
  }
 ],
 "metadata": {
  "kernelspec": {
   "display_name": "Python 3",
   "language": "python",
   "name": "python3"
  },
  "language_info": {
   "codemirror_mode": {
    "name": "ipython",
    "version": 3
   },
   "file_extension": ".py",
   "mimetype": "text/x-python",
   "name": "python",
   "nbconvert_exporter": "python",
   "pygments_lexer": "ipython3",
   "version": "3.9.2"
  }
 },
 "nbformat": 4,
 "nbformat_minor": 5
}
