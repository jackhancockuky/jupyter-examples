{
 "cells": [
  {
   "cell_type": "markdown",
   "id": "b3609a15-84fc-454d-897b-446f7499c98b",
   "metadata": {},
   "source": [
    "## Prepare"
   ]
  },
  {
   "cell_type": "code",
   "execution_count": 38,
   "id": "44b5ca6c-3938-47d4-8df0-5648a5c89f8b",
   "metadata": {},
   "outputs": [],
   "source": [
    "import os\n",
    "import json\n",
    "import ipywidgets as widgets\n",
    "from ipywidgets import Text, HTML, HBox, Layout, VBox\n",
    "from ipyleaflet import (\n",
    "    Map,\n",
    "    Marker,\n",
    "    TileLayer, ImageOverlay,\n",
    "    Polyline, Polygon, Rectangle, Circle, CircleMarker,\n",
    "    GeoJSON,\n",
    "    DrawControl,\n",
    "    WidgetControl,\n",
    "    basemaps,\n",
    "    Popup,\n",
    "    Icon,\n",
    "    MarkerCluster\n",
    ")\n",
    "\n",
    "from math import sqrt"
   ]
  },
  {
   "cell_type": "code",
   "execution_count": 39,
   "id": "49b541be-1401-40f3-9f03-0e4c9c913960",
   "metadata": {
    "tags": []
   },
   "outputs": [
    {
     "name": "stdout",
     "output_type": "stream",
     "text": [
      "CM Host: beta-2.fabric-testbed.net Orchestrator Host: beta-7.fabric-testbed.net\n",
      "Token location: /home/fabric/.tokens.json\n",
      "\n",
      "\n",
      "New Refresh Token: NB2HI4DTHIXS6Y3JNRXWO33OFZXXEZZPN5QXK5DIGIXTKMDFGI3DAYRRMQ2DOMBTHA2GMZJXHEYWGZRSMYZGEZDDGY2DGOB7OR4XAZJ5OJSWM4TFONUFI33LMVXCM5DTHUYTMMRWG4YTKNJRGIYDINJGOZSXE43JN5XD25RSFYYCM3DJMZSXI2LNMU6TQNRUGAYDAMBQ\n",
      "\n",
      "Stored new Refresh Token\n",
      "Stored 'fabric_refresh_token' (str)\n",
      "\n"
     ]
    }
   ],
   "source": [
    "from fabrictestbed.slice_manager import SliceManager, Status\n",
    "\n",
    "credmgr_host = os.environ['FABRIC_CREDMGR_HOST']\n",
    "orchestrator_host = os.environ['FABRIC_ORCHESTRATOR_HOST']\n",
    "print(f\"CM Host: {credmgr_host} Orchestrator Host: {orchestrator_host}\")\n",
    "\n",
    "slice_manager = SliceManager(oc_host = orchestrator_host, cm_host = credmgr_host, project_name='all', scope='all')\n",
    "slice_manager.initialize()\n",
    "\n",
    "print(\"Token location: {}\".format(slice_manager.token_location))\n",
    "print()\n",
    "\n",
    "#Cofigure SSH Key\n",
    "ssh_key = None\n",
    "with open (\"/home/fabric/.ssh/id_rsa.pub\", \"r\") as myfile:\n",
    "    ssh_key=myfile.read().strip()\n",
    "\n",
    "    \n",
    "try:\n",
    "    id_token, refresh_token = slice_manager.refresh_tokens()\n",
    "except Exception as e:\n",
    "    print(\"Exception occurred while getting tokens:{}\".format(e))\n",
    "\n",
    "fabric_refresh_token=slice_manager.get_refresh_token()\n",
    "print()\n",
    "print(\"New Refresh Token: {}\".format(fabric_refresh_token))\n",
    "print()\n",
    "print(\"Stored new Refresh Token\")\n",
    "%store fabric_refresh_token\n",
    "print()"
   ]
  },
  {
   "cell_type": "code",
   "execution_count": 40,
   "id": "1b6a6957-61ad-42cb-b4bc-464932dd0b61",
   "metadata": {},
   "outputs": [],
   "source": [
    "site_dict = {'UKY': (38.03154264461649, -84.50343326019218), 'RENC': (35.93996154497003, -79.01809264307425),\n",
    "             'LBNL': (38.94977311613871, -122.61289106281062), 'STAR': (41.860757376744274, -87.63103410014864)}"
   ]
  },
  {
   "cell_type": "markdown",
   "id": "e4ddafb6-ad69-48dd-9e09-4353d9809e90",
   "metadata": {},
   "source": [
    "## Create experiment with map"
   ]
  },
  {
   "cell_type": "code",
   "execution_count": 41,
   "id": "fe38218a-78a6-4d35-a09f-f7888b92fd0e",
   "metadata": {
    "tags": []
   },
   "outputs": [],
   "source": [
    "from fabrictestbed.slice_editor import ExperimentTopology, Capacities, ComponentType, LinkType, Layer\n",
    "\n",
    "# Create Experiment Topology\n",
    "experiment = ExperimentTopology()\n",
    "\n",
    "slice_name = \"MapDemoSlice\""
   ]
  },
  {
   "cell_type": "markdown",
   "id": "3c974922-6ef7-4798-850f-7da091ae9aba",
   "metadata": {},
   "source": [
    "## Functions"
   ]
  },
  {
   "cell_type": "code",
   "execution_count": 42,
   "id": "481d0572-e685-4969-8087-9395545fceff",
   "metadata": {
    "tags": []
   },
   "outputs": [],
   "source": [
    "node_name = widgets.Text(\n",
    "    placeholder='enter name',\n",
    "    description='Node Name:',\n",
    "    disabled=False\n",
    ")\n",
    "\n",
    "site_option = widgets.Text(\n",
    "    value='UKY',\n",
    "    description='Site:',\n",
    "    disabled=False\n",
    ")\n",
    "\n",
    "core_slider = widgets.IntSlider(min=2, max=32, step=2, value=4, description='Cores')\n",
    "ram_slider = widgets.IntSlider(min=2, max=64, step=2, value=16, description='RAM')\n",
    "disk_slider = widgets.FloatLogSlider(base=2, min=5, max=17, step=1, value=128,description='Disk')\n",
    "\n",
    "img_ref_select = widgets.Select(\n",
    "    options=['qcow2', 'qchicken2', 'qpig2'],\n",
    "    value='qcow2',\n",
    "    description='Image Type:',\n",
    "    disabled=False\n",
    ")\n",
    "\n",
    "img_type_select = widgets.Select(\n",
    "    options=['default_ubuntu_20', 'default_arch_20', 'default_kali_21'],\n",
    "    value='default_ubuntu_20',\n",
    "    description='Image Reference:',\n",
    "    disabled=False\n",
    ")"
   ]
  },
  {
   "cell_type": "markdown",
   "id": "f33c1f7b-6dc9-4e86-ac85-dc3d4cadf586",
   "metadata": {},
   "source": [
    "## Node creation map"
   ]
  },
  {
   "cell_type": "code",
   "execution_count": 43,
   "id": "9d95303d-9b84-4cd3-8141-5097d516f544",
   "metadata": {},
   "outputs": [
    {
     "data": {
      "application/vnd.jupyter.widget-view+json": {
       "model_id": "f20a15afae724401b444b66c6b3fc952",
       "version_major": 2,
       "version_minor": 0
      },
      "text/plain": [
       "Map(center=[38.12480976137421, -95.7129], controls=(ZoomControl(options=['position', 'zoom_in_text', 'zoom_in_…"
      ]
     },
     "metadata": {},
     "output_type": "display_data"
    }
   ],
   "source": [
    "from ipyleaflet import DrawControl, CircleMarker\n",
    "\n",
    "#initialize map \n",
    "canvas = Map(basemap = basemaps.Esri.WorldStreetMap, center=(38.12480976137421, -95.7129), zoom = 3.8)\n",
    "\n",
    "#draw control\n",
    "dc = DrawControl(circlemarker={}, polygon={})\n",
    "canvas.add_control(dc)\n",
    "\n",
    "#initialize widget control\n",
    "init = [HTML('Click on a site to create a new node')]\n",
    "my_layout = Layout(height='50%', overflow_y= 'auto', padding = \"4px\" )\n",
    "html_box = VBox(init , layout = my_layout )\n",
    "control = WidgetControl(widget = html_box, position='topright')\n",
    "canvas.add_control(control)\n",
    "\n",
    "\n",
    "icon = Icon(icon_url='https://jupyter-beta.fabric-testbed.net/user/nannkat@bu.edu/files/jupyter-examples/nanna/map_experiments/circle.png?_xsrf=2%7C4b270639%7C01ca1ecbc98a0090a488f8688b3a0dd1%7C1625580900', icon_size=[15,15])\n",
    "\n",
    "#function to find closest site\n",
    "def find_closest(coordinates, sitedict):\n",
    "    closest_site = 'UKY'\n",
    "    closest_value = 500000\n",
    "    for site,coors in sitedict.items():\n",
    "        distance = sqrt(pow((coordinates[1] - coors[0]), 2) + pow((coordinates[0] - coors[1]), 2))\n",
    "        if distance < closest_value:\n",
    "            closest_site = site\n",
    "            closest_value = distance\n",
    "    return closest_site\n",
    "\n",
    "markers = {}\n",
    "circles = {}\n",
    "\n",
    "#add node btn\n",
    "def add_node(self):\n",
    "    n1 = experiment.add_node(name=node_name.value, site=site_option.value)\n",
    "    cap = Capacities().set_fields(core=core_slider.value, ram=ram_slider.value, disk=disk_slider.value)\n",
    "    n1.set_properties(capacities=cap)\n",
    "    node_name.value = ''\n",
    "    html_box.children = init\n",
    "    core_slider.value = 4\n",
    "    ram_slider.value = 16\n",
    "    disk_slider.value = 128\n",
    "    \n",
    "\n",
    "add_node_request = widgets.Button(\n",
    "    description='Add Node',\n",
    "    disabled=False,\n",
    "    tooltip='click to build node',\n",
    ")\n",
    "\n",
    "add_node_request.on_click(add_node)\n",
    "\n",
    "#cancel btn \n",
    "def esc(self):\n",
    "    html_box.children = init\n",
    "    node_name.value = ''\n",
    "    canvas.remove_layer(markers[site_option.value])\n",
    "    \n",
    "exit_btn = widgets.Button(\n",
    "    description='Cancel',\n",
    "    disabled=False,\n",
    "    tooltip='click to exit',)\n",
    "\n",
    "exit_btn.on_click(esc)\n",
    "\n",
    "#node creation menu\n",
    "def node_dashboard(site_name):\n",
    "    header = HTML('<center><b>New Node</b></center>')\n",
    "    site_option.value = site_name\n",
    "    btns = HBox([VBox([add_node_request]), VBox([exit_btn])])\n",
    "    content = [header,node_name, site_option, core_slider, ram_slider, disk_slider, btns]\n",
    "    html_box.children = content\n",
    "\n",
    "\n",
    "#node creation on click    \n",
    "def new_node(**kwargs):\n",
    "    coors = kwargs['coordinates']\n",
    "    mark = Marker(location = coors, draggable = False)\n",
    "    mark.on_click(remove_marker)\n",
    "    canvas.add_layer(mark)\n",
    "    site_name = find_closest((coors[1],coors[0]), site_dict)\n",
    "    markers[site_name] = mark\n",
    "    node_dashboard(site_name)\n",
    "\n",
    "#remove the used marker\n",
    "def remove_marker(**kwargs):\n",
    "    coors = kwargs['coordinates']\n",
    "    site_name = find_closest((coors[1],coors[0]), site_dict)\n",
    "    marker = markers[site_name]\n",
    "    canvas.remove_layer(marker)\n",
    "\n",
    "#populate map\n",
    "for name, coordinates in site_dict.items():\n",
    "    m = Marker(location = coordinates, icon = icon, draggable = False, title = name)\n",
    "    circles[name] = m\n",
    "    m.on_click(new_node)\n",
    "    canvas.add_layer(m)\n",
    "\n",
    "canvas"
   ]
  },
  {
   "cell_type": "code",
   "execution_count": 37,
   "id": "840d08d0-5aa3-4306-add2-b434c9ebcec9",
   "metadata": {},
   "outputs": [],
   "source": [
    "for node in experiment.nodes:\n",
    "    print(node)"
   ]
  },
  {
   "cell_type": "code",
   "execution_count": null,
   "id": "d18b83c6-12f3-40df-90a9-c084e772b197",
   "metadata": {},
   "outputs": [],
   "source": []
  }
 ],
 "metadata": {
  "kernelspec": {
   "display_name": "Python 3",
   "language": "python",
   "name": "python3"
  },
  "language_info": {
   "codemirror_mode": {
    "name": "ipython",
    "version": 3
   },
   "file_extension": ".py",
   "mimetype": "text/x-python",
   "name": "python",
   "nbconvert_exporter": "python",
   "pygments_lexer": "ipython3",
   "version": "3.9.2"
  }
 },
 "nbformat": 4,
 "nbformat_minor": 5
}
