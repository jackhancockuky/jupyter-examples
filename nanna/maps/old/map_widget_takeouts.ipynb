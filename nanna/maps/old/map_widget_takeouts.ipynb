{
 "cells": [
  {
   "cell_type": "markdown",
   "id": "9bff1056-9028-4f54-9204-8934a78f9ed8",
   "metadata": {},
   "source": [
    "## Manually doing the markers"
   ]
  },
  {
   "cell_type": "code",
   "execution_count": null,
   "id": "2f56e481-07fb-4fa8-80f2-b210c2f8c698",
   "metadata": {
    "tags": []
   },
   "outputs": [],
   "source": [
    "marker_uky = Marker(location=(38.03154264461649, -84.50343326019218), draggable=False, title = 'UKY')\n",
    "sites.add_layer(marker_uky)\n",
    "message1 = HTML()\n",
    "message1.value = \"<b>UKY</b><br><b>cpu:</b> 6/6<br><b>core:</b> 96/96<br><b>ram:</b> 1,536/1,536 G<br><b>disk:</b> 109,600/109,600 G<br><b>unit:</b> 3/3\"\n",
    "message1.placehodler = \"UKY\"\n",
    "marker_uky.popup = message1\n",
    "\n",
    "marker_renci = Marker(location=(35.93996154497003, -79.01809264307425), draggable=False, title = 'RENCI')\n",
    "sites.add_layer(marker_renci)\n",
    "message2 = HTML(\"<b>RENCI</b>\")\n",
    "marker_renci.popup = message2\n",
    "\n",
    "marker_lbnl =  Marker(location=(38.94977311613871, -122.61289106281062), draggable=False, title = 'LBNL')\n",
    "sites.add_layer(marker_lbnl)\n",
    "marker_lbnl.popup = HTML(\"<b>LBNL</b>\")\n",
    "\n",
    "sites\n",
    "\n",
    "#Ant path to show connectivity possibly later in the process?\n",
    "#ant_path = AntPath(\n",
    "    #locations=[\n",
    "       #[38.03154264461649, -84.50343326019218],\n",
    "       #[35.93996154497003, -79.01809264307425],\n",
    "       #[38.94977311613871, -122.61289106281062]\n",
    "   # ],\n",
    "   # dash_array=[1, 10],\n",
    "    #delay=1000,\n",
    "   # color='#7590ba',\n",
    "   # pulse_color='#3f6fba'\n",
    "#)\n",
    "#sites.add_layer(ant_path)\n",
    "#sites"
   ]
  }
 ],
 "metadata": {
  "kernelspec": {
   "display_name": "Python 3",
   "language": "python",
   "name": "python3"
  },
  "language_info": {
   "codemirror_mode": {
    "name": "ipython",
    "version": 3
   },
   "file_extension": ".py",
   "mimetype": "text/x-python",
   "name": "python",
   "nbconvert_exporter": "python",
   "pygments_lexer": "ipython3",
   "version": "3.9.2"
  }
 },
 "nbformat": 4,
 "nbformat_minor": 5
}
