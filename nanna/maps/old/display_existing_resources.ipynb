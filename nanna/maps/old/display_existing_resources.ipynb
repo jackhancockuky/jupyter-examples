{
 "cells": [
  {
   "cell_type": "markdown",
   "id": "a25617f1-17ba-4a36-b139-c9dd893297fd",
   "metadata": {},
   "source": [
    "## Initialize tokens and Slice Manager"
   ]
  },
  {
   "cell_type": "markdown",
   "id": "df0f1958-0354-4775-a4cb-5a049352d4f4",
   "metadata": {},
   "source": [
    "Display Existing Resource Availability\n",
    "\n",
    "The user can produce a map depicting the all of the currently available resources\n",
    "\n",
    "The map that is drawn should have a style that is consistent with the other maps notebooks.\n",
    "\n",
    "Desirable attributes of the map:\n",
    "- Pin drop for each site\n",
    "- Links between sites where they exist\n",
    "- Click/hover on site to get more detailed info\n",
    "-Ability to click/hover on links to get more info.\n",
    "\n",
    "If possible, the user should have the ability to save the map image to a file that can be imported later into presentations or papers."
   ]
  },
  {
   "cell_type": "code",
   "execution_count": 13,
   "id": "3ecefc35-9626-45b8-aad1-d333a3988758",
   "metadata": {
    "tags": []
   },
   "outputs": [
    {
     "name": "stdout",
     "output_type": "stream",
     "text": [
      "CM Host: beta-2.fabric-testbed.net Orchestrator Host: beta-7.fabric-testbed.net\n",
      "\n",
      "\n",
      "New Refresh Token: NB2HI4DTHIXS6Y3JNRXWO33OFZXXEZZPN5QXK5DIGIXTCNBTGYYGKY3GMI4GIOBSGFSDEODEHE2TMMBYMVSDMNZVG5TGMZB7OR4XAZJ5OJSWM4TFONUFI33LMVXCM5DTHUYTMMRYG44TMOBVGE4DAMBGOZSXE43JN5XD25RSFYYCM3DJMZSXI2LNMU6TQNRUGAYDAMBQ\n",
      "\n",
      "Stored new Refresh Token\n",
      "Stored 'fabric_refresh_token' (str)\n",
      "\n",
      "\n"
     ]
    }
   ],
   "source": [
    "import json\n",
    "import os\n",
    "from fabrictestbed.slice_manager import SliceManager, Status\n",
    "\n",
    "credentialmanager_host = os.environ['FABRIC_CREDMGR_HOST']\n",
    "orchestrator_host = os.environ['FABRIC_ORCHESTRATOR_HOST']\n",
    "\n",
    "print(f\"CM Host: {credentialmanager_host} Orchestrator Host: {orchestrator_host}\")\n",
    "print()\n",
    "\n",
    "slice_manager = SliceManager(oc_host = orchestrator_host, cm_host = credentialmanager_host, project_name='all', scope='all')\n",
    "slice_manager.initialize()\n",
    "\n",
    "ssh_key = None\n",
    "with open (\"/home/fabric/.ssh/id_rsa.pub\", \"r\") as myfile:\n",
    "    ssh_key=myfile.read().strip()\n",
    "    \n",
    "try:\n",
    "    id_token, refresh_token = slice_manager.refresh_tokens()\n",
    "except Exception as e:\n",
    "    print(\"Exception occurred while getting tokens:{}\".format(e))\n",
    "\n",
    "fabric_refresh_token=slice_manager.get_refresh_token()\n",
    "print()\n",
    "print(\"New Refresh Token: {}\".format(fabric_refresh_token))\n",
    "print()\n",
    "print(\"Stored new Refresh Token\")\n",
    "%store fabric_refresh_token\n",
    "print()\n",
    "print()"
   ]
  },
  {
   "cell_type": "markdown",
   "id": "8088a3a1-ed20-421f-8fde-88e84a672956",
   "metadata": {},
   "source": [
    "## Get information via slice_manager.resources()"
   ]
  },
  {
   "cell_type": "code",
   "execution_count": 14,
   "id": "22adac60-62b9-4d15-b69e-cc5e05cb4a2a",
   "metadata": {
    "tags": []
   },
   "outputs": [
    {
     "name": "stdout",
     "output_type": "stream",
     "text": [
      "<center><b>UKY</b></center><b>capacities:</b><br>cpu: 6/6 , core: 178/192 , ram: 1490/1536 G, disk: 9430/9600 G, unit: 3/3 <br><b>components: </b><br>&emsp; <i>GPU-RTX6000</i> (unit: 2/2  )<br>&emsp; <i>GPU-Tesla T4</i> (unit: 4/4  )<br>&emsp; <i>NVME-P4510</i> (disk: 10000/10000 G unit: 10/10  )<br>&emsp; <i>SharedNIC-ConnectX-6</i> (unit: 381/381  )<br>&emsp; <i>SmartNIC-ConnectX-6</i> (unit: 2/2  )<br>&emsp; <i>SmartNIC-ConnectX-5</i> (unit: 2/2  )<br>\n",
      "<center><b>RENC</b></center><b>capacities:</b><br><br><b>components: </b><br>\n",
      "<center><b>STAR</b></center><b>capacities:</b><br><br><b>components: </b><br>\n",
      "<center><b>LBNL</b></center><b>capacities:</b><br>cpu: 6/6 , core: 173/192 , ram: 1452/1536 G, disk: 9240/9600 G, unit: 3/3 <br><b>components: </b><br>&emsp; <i>SharedNIC-ConnectX-6</i> (unit: 379/381  )<br>&emsp; <i>NVME-P4510</i> (disk: 9000/10000 G unit: 9/10  )<br>&emsp; <i>GPU-RTX6000</i> (unit: 2/2  )<br>&emsp; <i>GPU-Tesla T4</i> (unit: 4/4  )<br>&emsp; <i>SmartNIC-ConnectX-6</i> (unit: 0/2  )<br>&emsp; <i>SmartNIC-ConnectX-5</i> (unit: 1/2  )<br>\n"
     ]
    }
   ],
   "source": [
    "from fabrictestbed.slice_editor import Capacities\n",
    "\n",
    "status, advertised_topology = slice_manager.resources()\n",
    "\n",
    "#get information from the advertised topology to display on the graph\n",
    "\n",
    "    #used info from the following documentation sites for retrieving attributes:\n",
    "        #https://github.com/fabric-testbed/InformationModel/blob/911aed03256ed2c4a9f2dbbddb693f1dc47ed8ab/fim/graph/slices/networkx_asm.py#L33\n",
    "        #https://github.com/fabric-testbed/InformationModel/blob/master/fim/user/topology.py\n",
    "\n",
    "#containters        \n",
    "topology_dict = {}\n",
    "site_dict = {}\n",
    "\n",
    "for t in advertised_topology.sites.values():\n",
    "    \n",
    "    #name\n",
    "    name = t.name \n",
    "    \n",
    "    #location for site_dict\n",
    "    loc_info = t.get_property(\"location\")\n",
    "    if loc_info is not None:\n",
    "        loc = loc_info.to_latlon()\n",
    "        site_dict[name] = loc\n",
    "    \n",
    "    #capacities for html\n",
    "    #available capacities total vs. currently allocated ones\n",
    "    available_capacities = t.get_property(\"capacities\")\n",
    "    allocated_capacities = t.get_property(\"capacity_allocations\")\n",
    "    \n",
    "    if allocated_capacities is None:\n",
    "        allocated_capacities = Capacities() \n",
    "        \n",
    "    if available_capacities is None:\n",
    "        available_capacities = Capacities()\n",
    "        \n",
    "    d1 = available_capacities.__dict__.copy()\n",
    "    d2 = allocated_capacities.__dict__.copy()\n",
    "    \n",
    "    #remove capacities that are not available \n",
    "    for d in allocated_capacities.__dict__:\n",
    "        if d1[d] == 0 and d2[d] == 0:\n",
    "            d1.pop(d)\n",
    "            d2.pop(d)\n",
    "    \n",
    "    #html string with info for graph\n",
    "    html_str = '<center><b>' + name + '</b></center>'\n",
    "    html_str += '<b>capacities:</b><br>'\n",
    "\n",
    "    for c in d1:\n",
    "        html_str = html_str + c + ': ' + str(d1[c] - d2[c]) + '/' + str(d1[c]) + ' ' + Capacities.UNITS[c]\n",
    "        if c == 'unit':\n",
    "            continue\n",
    "        html_str = html_str + ', '\n",
    "        \n",
    "    html_str += '<br><b>components: </b><br>'\n",
    "    \n",
    "    for c in t.components.values():\n",
    "        html_str += '&emsp; <i>' + c.name + '</i> ('\n",
    "        available = c.get_property(\"capacities\")\n",
    "        allocated = c.get_property(\"capacity_allocations\")\n",
    "        \n",
    "        if allocated is None:\n",
    "            allocated = Capacities()\n",
    "        \n",
    "        if available is None:\n",
    "            available = Capacities()\n",
    "                \n",
    "        d1 = available.__dict__.copy()\n",
    "        d2 = allocated.__dict__.copy()\n",
    "    \n",
    "        #remove capacities that are not available \n",
    "        for d in allocated.__dict__:\n",
    "            if d1[d] == 0 and d2[d] == 0:\n",
    "                d1.pop(d)\n",
    "                d2.pop(d)\n",
    "        for c in d1:\n",
    "            html_str = html_str  + c + ': ' + str(d1[c] - d2[c]) + '/' + str(d1[c]) + ' ' + Capacities.UNITS[c] + ' '\n",
    "    \n",
    "        html_str += ')<br>' \n",
    "    \n",
    "    topology_dict[t.name] = html_str\n",
    "    print(html_str)"
   ]
  },
  {
   "cell_type": "markdown",
   "id": "26f46a15-3c05-4ee0-814e-0d4d6df31f2f",
   "metadata": {},
   "source": [
    "## Map"
   ]
  },
  {
   "cell_type": "code",
   "execution_count": 15,
   "id": "c23843d7-cf47-4b1b-8396-e32a400bf12c",
   "metadata": {},
   "outputs": [
    {
     "data": {
      "application/vnd.jupyter.widget-view+json": {
       "model_id": "6e12a9f3b6d947ce9601606181b10051",
       "version_major": 2,
       "version_minor": 0
      },
      "text/plain": [
       "Map(center=[38.12480976137421, -95.7129], controls=(ZoomControl(options=['position', 'zoom_in_text', 'zoom_in_…"
      ]
     },
     "metadata": {},
     "output_type": "display_data"
    }
   ],
   "source": [
    "from ipywidgets import HTML, Button, Layout, HBox, VBox, embed\n",
    "from ipyleaflet import Map, basemaps, Marker, Popup, ImageOverlay, SearchControl, DivIcon, MarkerCluster, Polyline, AntPath, AwesomeIcon\n",
    "\n",
    "sites = Map(basemap=basemaps.Esri.WorldStreetMap, center=(38.12480976137421, -95.7129), zoom = 3.8)\n",
    "\n",
    "server_icon = AwesomeIcon(\n",
    "    name='server',\n",
    "    marker_color='blue',\n",
    "    icon_color='white',\n",
    "    spin=False\n",
    ")\n",
    "\n",
    "#display sites\n",
    "for site, coordinates in site_dict.items():\n",
    "    if site in topology_dict.keys():\n",
    "        b = HTML(value = topology_dict[site], disabled=True)\n",
    "        html_info = HBox([b], layout=Layout(height='160px', overflow_y='auto'))\n",
    "    else:\n",
    "        message = '<b>' + site + '</b>' #cause at the moment only one site is actually up\n",
    "        html_info = HTML(message)\n",
    "        image = ImageOverlay(url = \"https://jupyter-beta.fabric-testbed.net/user/nannkat@bu.edu/files/jupyter-examples/fabric/nanna/red_x.png?_xsrf=2%7Cd410e56b%7C9c22d80ad6d1605024c3f11ce9b3d548%7C1622770101\", \n",
    "                             bounds = ((coordinates[0]-1,coordinates[1]-1.5),(coordinates[0]+1,coordinates[1]+1.5)))\n",
    "        sites.add_layer(image)\n",
    "    marker = Marker(location = coordinates, draggable = False, title = site, rise_on_hover = True, icon = server_icon)\n",
    "    marker.popup = html_info\n",
    "    sites.add_layer(marker)\n",
    "\n",
    "#display links\n",
    "for link in advertised_topology.links.values():\n",
    "  \n",
    "    inter1 = link._interfaces[0]\n",
    "    inter2 = link._interfaces[1]\n",
    "    places = inter1.name\n",
    "    \n",
    "    site1, site2 = places.split(\"_\")\n",
    "    html_string = '<center>LINK</center>'\n",
    "    html_string += '<b>layer:</b> ' + link.get_property('layer') + '<br>'\n",
    "    html_string += '<b>type:</b> ' + str(link.get_property('type')) + '<br>'\n",
    "    html_string += '<b>sites:</b> ' + site1 + ' and ' + site2 + '<br>'\n",
    "    html_string += '<b>capacities:</b> bw: ' + str(inter1.get_property('capacities').bw) + ' Gbps (' + inter1.name + ') / ' + str(inter2.get_property('capacities').bw) + ' Gbps (' + inter2.name + ')<br>'\n",
    "    html_string += '<b>name:</b> ' + link.name + '<br>'\n",
    "    \n",
    "    ant_path = AntPath(\n",
    "       dash_array=[1, 10],\n",
    "        delay=1000,\n",
    "        color='#FFD700',\n",
    "        pulse_color = '#FFD700')\n",
    "    \n",
    "    ant_path.locations = [[site_dict[site1],site_dict[site2]]]\n",
    "    \n",
    "    link_inf = HTML(value = html_string, disabled=True)\n",
    "   \n",
    "    html_content = VBox([link_inf], layout = Layout(width = '300px', overflow_x = 'auto'))\n",
    "    ant_path.popup = html_content\n",
    "    sites.add_layer(ant_path)\n",
    "\n",
    "#IF you prefer a normal line instead of ant-path style:\n",
    "    #To do a normal line popup:\n",
    "        #line = Polyline(\n",
    "        # color = \"green\" ,\n",
    "        # fill= False,\n",
    "        # weight = 3)\n",
    "        #line.locations = [[site_dict[site1],site_dict[site2]]]\n",
    "        #line.popup = html_content\n",
    "        #sites.add_layer(line)\n",
    "\n",
    "sites"
   ]
  },
  {
   "cell_type": "markdown",
   "id": "73e7ebba-54c0-4521-a0cb-3f452171d62f",
   "metadata": {},
   "source": [
    "## Save as HTML file"
   ]
  },
  {
   "cell_type": "code",
   "execution_count": 7,
   "id": "3d38a745-95c7-410d-83f5-a5cd6df7ded3",
   "metadata": {
    "tags": []
   },
   "outputs": [],
   "source": [
    "from ipywidgets import embed\n",
    "\n",
    "embed.embed_minimal_html('map.html', views=[sites])"
   ]
  },
  {
   "cell_type": "code",
   "execution_count": null,
   "id": "08706a76-83ae-4e75-9db7-9298340ca890",
   "metadata": {},
   "outputs": [],
   "source": []
  }
 ],
 "metadata": {
  "kernelspec": {
   "display_name": "Python 3",
   "language": "python",
   "name": "python3"
  },
  "language_info": {
   "codemirror_mode": {
    "name": "ipython",
    "version": 3
   },
   "file_extension": ".py",
   "mimetype": "text/x-python",
   "name": "python",
   "nbconvert_exporter": "python",
   "pygments_lexer": "ipython3",
   "version": "3.9.2"
  }
 },
 "nbformat": 4,
 "nbformat_minor": 5
}
