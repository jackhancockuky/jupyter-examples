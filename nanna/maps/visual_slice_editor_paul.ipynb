{
 "cells": [
  {
   "cell_type": "markdown",
   "id": "b3609a15-84fc-454d-897b-446f7499c98b",
   "metadata": {},
   "source": [
    "## Visual Slice Editor"
   ]
  },
  {
   "cell_type": "code",
   "execution_count": 1,
   "id": "db1a1147",
   "metadata": {
    "scrolled": false
   },
   "outputs": [
    {
     "name": "stdout",
     "output_type": "stream",
     "text": [
      "Creating VisualSliceEditor\n",
      "Get Slice Manager\n",
      "CM Host: beta-2.fabric-testbed.net Orchestrator Host: beta-7.fabric-testbed.net\n",
      "Token location: /Users/pruth/.fabric_token.json\n",
      "\n",
      "Get Available Resources\n",
      "Update Sites\n",
      "Failed to add site: {'name': 'STAR', 'site': 'STAR', 'type': 'Server'}. Error: 'NoneType' object has no attribute 'to_latlon'\n",
      "Failed to add site: {'name': 'STAR', 'site': 'STAR', 'type': 'Server'}. Error: 'NoneType' object has no attribute 'to_latlon'\n"
     ]
    },
    {
     "data": {
      "application/vnd.jupyter.widget-view+json": {
       "model_id": "4b41c2600f614d889b60767fd1ca591b",
       "version_major": 2,
       "version_minor": 0
      },
      "text/plain": [
       "Map(center=[38.12480976137421, -85.7129], controls=(AttributionControl(options=['position', 'prefix'], positio…"
      ]
     },
     "metadata": {},
     "output_type": "display_data"
    },
    {
     "name": "stdout",
     "output_type": "stream",
     "text": [
      "Add Node\n",
      "node_dashboard_select_node_event\n",
      "{'name': 'value', 'old': '<Choose Node>', 'new': 'node1', 'owner': Dropdown(index=1, layout=Layout(min_height='30px', overflow_y='hidden'), options=('<Choose Node>', 'node1'), value='node1'), 'type': 'change'}\n",
      "Add Node\n",
      "node_dashboard_select_node_event\n",
      "{'name': 'value', 'old': 'node1', 'new': '<Choose Node>', 'owner': Dropdown(layout=Layout(min_height='30px', overflow_y='hidden'), options=('<Choose Node>', 'node1', 'node2'), value='<Choose Node>'), 'type': 'change'}\n",
      "node_dashboard_select_node_event\n",
      "{'name': 'value', 'old': '<Choose Node>', 'new': 'node2', 'owner': Dropdown(index=2, layout=Layout(min_height='30px', overflow_y='hidden'), options=('<Choose Node>', 'node1', 'node2'), value='node2'), 'type': 'change'}\n",
      "Add Node\n",
      "node_dashboard_select_node_event\n",
      "{'name': 'value', 'old': 'node2', 'new': '<Choose Node>', 'owner': Dropdown(layout=Layout(min_height='30px', overflow_y='hidden'), options=('<Choose Node>', 'node1', 'node2', 'node3'), value='<Choose Node>'), 'type': 'change'}\n",
      "node_dashboard_select_node_event\n",
      "{'name': 'value', 'old': '<Choose Node>', 'new': 'node3', 'owner': Dropdown(index=3, layout=Layout(min_height='30px', overflow_y='hidden'), options=('<Choose Node>', 'node1', 'node2', 'node3'), value='node3'), 'type': 'change'}\n",
      "Add Node\n",
      "node_dashboard_select_node_event\n",
      "{'name': 'value', 'old': 'node3', 'new': '<Choose Node>', 'owner': Dropdown(layout=Layout(min_height='30px', overflow_y='hidden'), options=('<Choose Node>', 'node1', 'node2', 'node3', 'node4'), value='<Choose Node>'), 'type': 'change'}\n",
      "node_dashboard_select_node_event\n",
      "{'name': 'value', 'old': '<Choose Node>', 'new': 'node4', 'owner': Dropdown(index=4, layout=Layout(min_height='30px', overflow_y='hidden'), options=('<Choose Node>', 'node1', 'node2', 'node3', 'node4'), value='node4'), 'type': 'change'}\n",
      "node_dashboard_select_node_event\n",
      "{'name': 'value', 'old': 'node4', 'new': 'node2', 'owner': Dropdown(index=2, layout=Layout(min_height='30px', overflow_y='hidden'), options=('<Choose Node>', 'node1', 'node2', 'node3', 'node4'), value='node2'), 'type': 'change'}\n",
      "Delete Node\n",
      "node_dashboard_select_node_event\n",
      "{'name': 'value', 'old': 'node2', 'new': '<Choose Node>', 'owner': Dropdown(layout=Layout(min_height='30px', overflow_y='hidden'), options=('<Choose Node>', 'node1', 'node3', 'node4'), value='<Choose Node>'), 'type': 'change'}\n",
      "node_dashboard_select_node_event\n",
      "{'name': 'value', 'old': '<Choose Node>', 'new': 'node1', 'owner': Dropdown(index=1, layout=Layout(min_height='30px', overflow_y='hidden'), options=('<Choose Node>', 'node1', 'node3', 'node4'), value='node1'), 'type': 'change'}\n",
      "node_dashboard_select_node_event\n",
      "{'name': 'value', 'old': 'node1', 'new': 'node4', 'owner': Dropdown(index=3, layout=Layout(min_height='30px', overflow_y='hidden'), options=('<Choose Node>', 'node1', 'node3', 'node4'), value='node4'), 'type': 'change'}\n",
      "Delete Node\n",
      "node_dashboard_select_node_event\n",
      "{'name': 'value', 'old': 'node4', 'new': '<Choose Node>', 'owner': Dropdown(layout=Layout(min_height='30px', overflow_y='hidden'), options=('<Choose Node>', 'node1', 'node3'), value='<Choose Node>'), 'type': 'change'}\n",
      "node_dashboard_select_node_event\n",
      "{'name': 'value', 'old': '<Choose Node>', 'new': 'node1', 'owner': Dropdown(index=1, layout=Layout(min_height='30px', overflow_y='hidden'), options=('<Choose Node>', 'node1', 'node3'), value='node1'), 'type': 'change'}\n",
      "Delete Node\n",
      "node_dashboard_select_node_event\n",
      "{'name': 'value', 'old': 'node1', 'new': '<Choose Node>', 'owner': Dropdown(layout=Layout(min_height='30px', overflow_y='hidden'), options=('<Choose Node>', 'node3'), value='<Choose Node>'), 'type': 'change'}\n",
      "node_dashboard_select_node_event\n",
      "{'name': 'value', 'old': '<Choose Node>', 'new': 'node3', 'owner': Dropdown(index=1, layout=Layout(min_height='30px', overflow_y='hidden'), options=('<Choose Node>', 'node3'), value='node3'), 'type': 'change'}\n",
      "Delete Node\n",
      "node_dashboard_select_node_event\n",
      "{'name': 'value', 'old': 'node3', 'new': '<Choose Node>', 'owner': Dropdown(layout=Layout(min_height='30px', overflow_y='hidden'), options=('<Choose Node>',), value='<Choose Node>'), 'type': 'change'}\n"
     ]
    }
   ],
   "source": [
    "# Import the custom module\n",
    "import os\n",
    "import sys  \n",
    "sys.path.insert(0, os.environ['HOME']+\"/FABRIC/git/jupyter-examples/fabric_gui/\")\n",
    "from fabric_gui import VisualSliceEditor\n",
    "\n",
    "myVSE = VisualSliceEditor()\n",
    "\n",
    "canvas = myVSE.start()\n",
    "\n",
    "canvas"
   ]
  },
  {
   "cell_type": "markdown",
   "id": "a8268726-9b62-4c7c-a5ad-c98c65c10e6a",
   "metadata": {},
   "source": [
    "## Query/Print currently added nodes // delete all nodes manually"
   ]
  },
  {
   "cell_type": "code",
   "execution_count": null,
   "id": "840d08d0-5aa3-4306-add2-b434c9ebcec9",
   "metadata": {
    "scrolled": false,
    "tags": []
   },
   "outputs": [],
   "source": [
    "for node in experiment.nodes.values():\n",
    "    print(node)\n",
    "    for com in node.components.values():\n",
    "        print(com)"
   ]
  },
  {
   "cell_type": "code",
   "execution_count": null,
   "id": "a77d294e-9e25-4356-9e46-8c64ef927edf",
   "metadata": {
    "tags": []
   },
   "outputs": [],
   "source": [
    "for node in experiment.nodes.values():\n",
    "    experiment.remove_node(node.name)"
   ]
  },
  {
   "cell_type": "code",
   "execution_count": null,
   "id": "1209a872-b954-4076-ad0e-cc8810d39051",
   "metadata": {},
   "outputs": [],
   "source": [
    "for layer in layers:\n",
    "    print(layer)\n",
    "    print()"
   ]
  },
  {
   "cell_type": "code",
   "execution_count": null,
   "id": "30de5336-f564-4a91-bc69-59203b708e3b",
   "metadata": {},
   "outputs": [],
   "source": [
    "for marker in markers.values():\n",
    "    print(marker)\n",
    "    print()"
   ]
  },
  {
   "cell_type": "code",
   "execution_count": null,
   "id": "93419801-a9eb-4adf-9dec-08caa55412f7",
   "metadata": {},
   "outputs": [],
   "source": [
    "for node in nodes.values():\n",
    "    for n in node:\n",
    "        print(n)\n",
    "        print()  "
   ]
  },
  {
   "cell_type": "code",
   "execution_count": null,
   "id": "325afbc4-7e57-46e0-997b-0e166589a6c7",
   "metadata": {},
   "outputs": [],
   "source": [
    "def get_slices(states):\n",
    "    status, slices_all = slice_manager.slices(state = 'All')\n",
    "    if states[0] == 'All':\n",
    "        return status, slices_all\n",
    "    slices = list(filter(lambda x: x.slice_state in list(states), slices_all))\n",
    "    return status, slices"
   ]
  },
  {
   "cell_type": "code",
   "execution_count": null,
   "id": "7cc0d0b6",
   "metadata": {},
   "outputs": [],
   "source": [
    "status, slices = get_slices(states = ('Configuring', 'StableOK'))\n",
    "\n",
    "print(\"Response Status {}\".format(status))\n",
    "print(\"Slices {}\".format(slices))"
   ]
  },
  {
   "cell_type": "code",
   "execution_count": null,
   "id": "86ee20ca",
   "metadata": {},
   "outputs": [],
   "source": [
    "slice_manager.delete(slice_id = '5d6f2547-8470-46c9-a8c0-5a4d051efea5')"
   ]
  },
  {
   "cell_type": "markdown",
   "id": "e4e7597a-c584-48bc-9f28-b4bc899962af",
   "metadata": {},
   "source": [
    "## Make reservation - The old way"
   ]
  },
  {
   "cell_type": "code",
   "execution_count": null,
   "id": "f97236d9",
   "metadata": {},
   "outputs": [],
   "source": [
    "node3 = experiment.add_node(name='node3', site='UKY')\n",
    "\n",
    "node3_capacity = Capacities()\n",
    "node3_capacity.set_fields(core=8, ram=64, disk=500)\n",
    "node3.set_properties(capacities=node3_capacity, image_type='qcow2', image_ref='default_ubuntu_20')\n",
    "\n",
    "#node3_nvme1 = node3.add_component(ctype=ComponentType.NVME, model='P4510', name='n3_nvme1')"
   ]
  },
  {
   "cell_type": "code",
   "execution_count": null,
   "id": "29eea41f-1593-4f52-b698-c2f69f567086",
   "metadata": {},
   "outputs": [],
   "source": [
    "#serialize into slice graph object\n",
    "slice_graph = experiment.serialize()\n",
    "\n",
    "#communicate with orchestrator for slice\n",
    "status,reservations = slice_manager.create(slice_name = slice_name, slice_graph = slice_graph, ssh_key = ssh_key)\n",
    "\n",
    "slice_id = reservations[0].slice_id\n",
    "\n",
    "#get only slice from id and status\n",
    "request, state = slice_manager.slice_status(slice_id = slice_id)\n",
    "print(\"Slice status request {}\".format(request))\n",
    "print(\"Slice status {}\".format(state))"
   ]
  },
  {
   "cell_type": "code",
   "execution_count": null,
   "id": "ee355c87-0251-41a2-9355-355beae124a5",
   "metadata": {},
   "outputs": [],
   "source": [
    "#status, slices = get_slices(states = ('All'))\n",
    "status, slices = slice_manager.slices(state = 'All')\n",
    "print(\"Response Status {}\".format(status))\n",
    "print(\"Slices {}\".format(slices))"
   ]
  },
  {
   "cell_type": "code",
   "execution_count": null,
   "id": "d0ffeb0a-2c30-433d-9b80-772106fd6048",
   "metadata": {
    "tags": []
   },
   "outputs": [],
   "source": [
    "import time\n",
    "state = None\n",
    "while state != 'StableOK':\n",
    "    status, slice_status = slice_manager.slice_status(slice_id=slice_id)\n",
    "    state = slice_status.slice_state\n",
    "    print(\"Response Status {}\".format(status))\n",
    "    print(\"Slice State: {}\".format(slices[-1].slice_state))\n",
    "    time.sleep(20)\n",
    "\n",
    "#final status\n",
    "status, slice_status = slice_manager.slice_status(slice_id=slice_id)\n",
    "print(\"Response Status {}\".format(status))\n",
    "print(\"Slice Status {}\".format(slice_status)) "
   ]
  },
  {
   "cell_type": "code",
   "execution_count": null,
   "id": "f944fa97-4ff9-45ac-8d1f-00d420b1b5b6",
   "metadata": {},
   "outputs": [],
   "source": [
    "help(slice_manager)"
   ]
  },
  {
   "cell_type": "code",
   "execution_count": null,
   "id": "ba209bff",
   "metadata": {},
   "outputs": [],
   "source": [
    "slice_id = reservations[0].slice_id\n",
    "status, slice_status = slice_manager.slice_status(slice_id=slice_id)\n",
    "print(\"Response Status {}\".format(status))\n",
    "print(\"Slice Status {}\".format(slice_status))\n",
    "print(slice_status)"
   ]
  },
  {
   "cell_type": "code",
   "execution_count": null,
   "id": "96610a02-5ee5-435b-b2a4-82610dbadc58",
   "metadata": {},
   "outputs": [],
   "source": [
    "slice_manager.delete(slice_id = '397bdd99-ff8d-433b-a6eb-0cc693a2ece6')"
   ]
  },
  {
   "cell_type": "code",
   "execution_count": null,
   "id": "fb2a2d3c-51e3-4794-8c8e-c10ff887d80c",
   "metadata": {},
   "outputs": [],
   "source": []
  },
  {
   "cell_type": "code",
   "execution_count": null,
   "id": "5d008925-eba6-4ee2-9213-c059d38129b2",
   "metadata": {},
   "outputs": [],
   "source": []
  }
 ],
 "metadata": {
  "kernelspec": {
   "display_name": "Python 3 (ipykernel)",
   "language": "python",
   "name": "python3"
  },
  "language_info": {
   "codemirror_mode": {
    "name": "ipython",
    "version": 3
   },
   "file_extension": ".py",
   "mimetype": "text/x-python",
   "name": "python",
   "nbconvert_exporter": "python",
   "pygments_lexer": "ipython3",
   "version": "3.9.2"
  }
 },
 "nbformat": 4,
 "nbformat_minor": 5
}
