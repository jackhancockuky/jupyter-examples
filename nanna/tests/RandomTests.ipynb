{
 "cells": [
  {
   "cell_type": "markdown",
   "id": "f456e090-bd8e-40ea-a72c-0e8d5fedd249",
   "metadata": {},
   "source": [
    "## Setup"
   ]
  },
  {
   "cell_type": "code",
   "execution_count": 27,
   "id": "50f12d60-b6a0-4049-8bbd-edc87dffdea3",
   "metadata": {
    "collapsed": true,
    "jupyter": {
     "outputs_hidden": true
    },
    "tags": []
   },
   "outputs": [
    {
     "name": "stdout",
     "output_type": "stream",
     "text": [
      "Help on class SliceManager in module fabrictestbed.slice_manager.slice_manager:\n",
      "\n",
      "class SliceManager(builtins.object)\n",
      " |  SliceManager(*, cm_host: str, oc_host: str, refresh_token: str, project_name: str = 'all', scope: str = 'all')\n",
      " |  \n",
      " |  Implements User facing Control Framework API interface\n",
      " |  \n",
      " |  Methods defined here:\n",
      " |  \n",
      " |  __init__(self, *, cm_host: str, oc_host: str, refresh_token: str, project_name: str = 'all', scope: str = 'all')\n",
      " |      Initialize self.  See help(type(self)) for accurate signature.\n",
      " |  \n",
      " |  create(self, *, slice_name: str, ssh_key: str, topology: fim.user.topology.ExperimentTopology = None, slice_graph: str = None, lease_end_time: str = None) -> Tuple[fabric_cf.orchestrator.orchestrator_proxy.Status, Union[Exception, List[fabric_cf.orchestrator.elements.reservation.Reservation]]]\n",
      " |      Create a slice\n",
      " |      @param slice_name slice name\n",
      " |      @param ssh_key SSH Key\n",
      " |      @param topology Experiment topology\n",
      " |      @param slice_graph Slice Graph string\n",
      " |      @param lease_end_time Lease End Time\n",
      " |      @return Tuple containing Status and Exception/Json containing slivers created\n",
      " |  \n",
      " |  delete(self, *, slice_id: str) -> Tuple[fabric_cf.orchestrator.orchestrator_proxy.Status, Union[Exception, NoneType]]\n",
      " |      Delete a slice\n",
      " |      @param slice_id slice id\n",
      " |      @return Tuple containing Status and Exception/Json containing deletion status\n",
      " |  \n",
      " |  get_id_token(self) -> str\n",
      " |  \n",
      " |  get_refresh_token(self) -> str\n",
      " |  \n",
      " |  get_slice(self, *, slice_id: str) -> Tuple[fabric_cf.orchestrator.orchestrator_proxy.Status, Union[Exception, fim.user.topology.ExperimentTopology]]\n",
      " |      Get slice\n",
      " |      @param slice_id slice id\n",
      " |      @return Tuple containing Status and Exception/Json containing slice\n",
      " |  \n",
      " |  refresh_tokens(self) -> Tuple[str, str]\n",
      " |      Refresh tokens\n",
      " |      User is expected to invoke refresh token API before invoking any other APIs to ensure the token is not expired.\n",
      " |      User is also expected to update the returned refresh token in the JupyterHub environment.\n",
      " |  \n",
      " |  renew(self, *, slice_id: str, new_lease_end_time: str) -> Tuple[fabric_cf.orchestrator.orchestrator_proxy.Status, Union[Exception, List, NoneType]]\n",
      " |      Renew a slice\n",
      " |      @param slice_id slice_id\n",
      " |      @param new_lease_end_time new_lease_end_time\n",
      " |      @return Tuple containing Status and List of Reservation Id failed to extend\n",
      " |  \n",
      " |  resources(self, *, level: int = 1) -> Tuple[fabric_cf.orchestrator.orchestrator_proxy.Status, Union[Exception, fim.user.topology.AdvertizedTopology]]\n",
      " |      Get resources\n",
      " |      @param level level\n",
      " |      @return Tuple containing Status and Exception/Json containing Resources\n",
      " |  \n",
      " |  revoke_token(self, refresh_token: str = None) -> Tuple[fabric_cf.orchestrator.orchestrator_proxy.Status, Any]\n",
      " |  \n",
      " |  set_id_token(self, id_token: str)\n",
      " |  \n",
      " |  slice_status(self, *, slice_id: str) -> Tuple[fabric_cf.orchestrator.orchestrator_proxy.Status, Union[Exception, fabric_cf.orchestrator.elements.slice.Slice]]\n",
      " |      Get slice status\n",
      " |      @param slice_id slice id\n",
      " |      @return Tuple containing Status and Exception/Json containing slice status\n",
      " |  \n",
      " |  slices(self) -> Tuple[fabric_cf.orchestrator.orchestrator_proxy.Status, Union[Exception, List[fabric_cf.orchestrator.elements.slice.Slice]]]\n",
      " |      Get slices\n",
      " |      @return Tuple containing Status and Exception/Json containing slices\n",
      " |  \n",
      " |  sliver_status(self, *, slice_id: str, sliver_id: str) -> Tuple[fabric_cf.orchestrator.orchestrator_proxy.Status, Union[Exception, fabric_cf.orchestrator.elements.reservation.Reservation]]\n",
      " |      Get slivers\n",
      " |      @param slice_id slice id\n",
      " |      @param sliver_id slice sliver_id\n",
      " |      @return Tuple containing Status and Exception/Json containing Sliver status\n",
      " |  \n",
      " |  slivers(self, *, slice_id: str, sliver_id: str = None) -> Tuple[fabric_cf.orchestrator.orchestrator_proxy.Status, Union[Exception, List[fabric_cf.orchestrator.elements.reservation.Reservation]]]\n",
      " |      Get slivers\n",
      " |      @param slice_id slice id\n",
      " |      @param sliver_id slice sliver_id\n",
      " |      @return Tuple containing Status and Exception/Json containing Sliver(s)\n",
      " |  \n",
      " |  ----------------------------------------------------------------------\n",
      " |  Data descriptors defined here:\n",
      " |  \n",
      " |  __dict__\n",
      " |      dictionary for instance variables (if defined)\n",
      " |  \n",
      " |  __weakref__\n",
      " |      list of weak references to the object (if defined)\n",
      "\n",
      "Help on class CredmgrProxy in module fabric_cm.credmgr.credmgr_proxy:\n",
      "\n",
      "class CredmgrProxy(builtins.object)\n",
      " |  CredmgrProxy(credmgr_host: str)\n",
      " |  \n",
      " |  Credential Manager Proxy\n",
      " |  \n",
      " |  Methods defined here:\n",
      " |  \n",
      " |  __init__(self, credmgr_host: str)\n",
      " |      Initialize self.  See help(type(self)) for accurate signature.\n",
      " |  \n",
      " |  certs_get(self) -> Tuple[fabric_cm.credmgr.credmgr_proxy.Status, Any]\n",
      " |      Return certificates\n",
      " |  \n",
      " |  refresh(self, project_name: str, scope: str, refresh_token: str) -> Tuple[fabric_cm.credmgr.credmgr_proxy.Status, Any, str]\n",
      " |      Refresh token\n",
      " |      @param project_name project name\n",
      " |      @param scope scope\n",
      " |      @param refresh_token refresh token\n",
      " |      @returns Tuple of Status, id token and refresh token. In case of failure, id token would be None\n",
      " |      @raises Exception in case of failure\n",
      " |  \n",
      " |  revoke(self, refresh_token: str) -> Tuple[fabric_cm.credmgr.credmgr_proxy.Status, Any]\n",
      " |      Revoke token\n",
      " |      @param refresh_token refresh token\n",
      " |      @returns response\n",
      " |      @raises Exception in case of failure\n",
      " |  \n",
      " |  version_get(self) -> Tuple[fabric_cm.credmgr.credmgr_proxy.Status, Any]\n",
      " |      Return Version\n",
      " |  \n",
      " |  ----------------------------------------------------------------------\n",
      " |  Data descriptors defined here:\n",
      " |  \n",
      " |  __dict__\n",
      " |      dictionary for instance variables (if defined)\n",
      " |  \n",
      " |  __weakref__\n",
      " |      list of weak references to the object (if defined)\n",
      " |  \n",
      " |  ----------------------------------------------------------------------\n",
      " |  Data and other attributes defined here:\n",
      " |  \n",
      " |  ID_TOKEN = 'id_token'\n",
      " |  \n",
      " |  REFRESH_TOKEN = 'refresh_token'\n",
      "\n"
     ]
    }
   ],
   "source": [
    "from fabrictestbed.slice_manager import SliceManager, Status\n",
    "from fabric_cm.credmgr.credmgr_proxy import CredmgrProxy\n",
    "import os\n",
    "import json\n",
    "\n",
    "help(SliceManager)\n",
    "help(CredmgrProxy)"
   ]
  },
  {
   "cell_type": "markdown",
   "id": "b7659d3a-957d-4816-a92f-60550094e301",
   "metadata": {
    "tags": []
   },
   "source": [
    "## Check: refreshing tokens with orchestrator proxy instead of slice manager\n",
    "### Create proxy:"
   ]
  },
  {
   "cell_type": "code",
   "execution_count": 28,
   "id": "93478225-d867-4ae3-aaed-daaaac63070e",
   "metadata": {
    "tags": []
   },
   "outputs": [],
   "source": [
    "import os\n",
    "import json\n",
    "\n",
    "from fabric_cm.credmgr.credmgr_proxy import CredmgrProxy\n",
    "\n",
    "#Create a Credential Manager Proxy \n",
    "credmgr_proxy = CredmgrProxy(credmgr_host=os.environ['FABRIC_CREDMGR_HOST'])"
   ]
  },
  {
   "cell_type": "markdown",
   "id": "f160950a-584b-4637-898c-521f7877f279",
   "metadata": {},
   "source": [
    "### Create slice manager:"
   ]
  },
  {
   "cell_type": "code",
   "execution_count": 29,
   "id": "9bc9f6c2-94c0-4052-b735-20c8928f2517",
   "metadata": {},
   "outputs": [
    {
     "name": "stdout",
     "output_type": "stream",
     "text": [
      "CM Host: beta-2.fabric-testbed.net Orchestrator Host: beta-7.fabric-testbed.net\n"
     ]
    }
   ],
   "source": [
    "credmgr_host = os.environ['FABRIC_CREDMGR_HOST']\n",
    "orchestrator_host = os.environ['FABRIC_ORCHESTRATOR_HOST']\n",
    "\n",
    "print(f\"CM Host: {credmgr_host} Orchestrator Host: {orchestrator_host}\")\n",
    "\n",
    "# Create Slice Manager\n",
    "slice_manager = SliceManager(oc_host=orchestrator_host, cm_host=credmgr_host, \n",
    "                             refresh_token=fabric_refresh_token, project_name='all', scope='all')"
   ]
  },
  {
   "cell_type": "markdown",
   "id": "b6c1ce04-dfc0-453c-b55b-de06aed21e6b",
   "metadata": {},
   "source": [
    "### Get initial refresh token:"
   ]
  },
  {
   "cell_type": "code",
   "execution_count": 30,
   "id": "0721ccdf-a3a8-446e-9829-6d113cc3b6b9",
   "metadata": {
    "tags": []
   },
   "outputs": [
    {
     "name": "stdout",
     "output_type": "stream",
     "text": [
      "Refresh Token: NB2HI4DTHIXS6Y3JNRXWO33OFZXXEZZPN5QXK5DIGIXTEZBVG43TGNJQHFSWCZLCGEZGEZBUGYYTSODGMNRGEZTGMRRWMNR7OR4XAZJ5OJSWM4TFONUFI33LMVXCM5DTHUYTMMRSGQYDCNBSHAYTMOJGOZSXE43JN5XD25RSFYYCM3DJMZSXI2LNMU6TQNRUGAYDAMBQ\n"
     ]
    }
   ],
   "source": [
    "fabric_refresh_token = None\n",
    "%store -r fabric_refresh_token\n",
    "\n",
    "if fabric_refresh_token is None:\n",
    "    fabric_refresh_token=os.environ['CILOGON_REFRESH_TOKEN']\n",
    "    %store fabric_refresh_token\n",
    "\n",
    "print(\"Refresh Token: {}\".format(fabric_refresh_token))"
   ]
  },
  {
   "cell_type": "markdown",
   "id": "26b03dc5-8d73-46d7-9eec-12b5a007de00",
   "metadata": {},
   "source": [
    "### Get initial id token:"
   ]
  },
  {
   "cell_type": "code",
   "execution_count": 31,
   "id": "2f0da6e6-598c-4a77-93e7-db80184a17b2",
   "metadata": {
    "collapsed": true,
    "jupyter": {
     "outputs_hidden": true
    },
    "tags": []
   },
   "outputs": [
    {
     "name": "stdout",
     "output_type": "stream",
     "text": [
      "id token: None\n",
      "\n",
      "-----\n",
      "New Refresh Token: NB2HI4DTHIXS6Y3JNRXWO33OFZXXEZZPN5QXK5DIGIXTEZBVG43TGNJQHFSWCZLCGEZGEZBUGYYTSODGMNRGEZTGMRRWMNR7OR4XAZJ5OJSWM4TFONUFI33LMVXCM5DTHUYTMMRSGQYDCNBSHAYTMOJGOZSXE43JN5XD25RSFYYCM3DJMZSXI2LNMU6TQNRUGAYDAMBQ\n",
      "\n",
      "New ID Token: \"(\\\"invalid_token\\\"\\nerror_description=\\\"The token \\\"https://cilogon.org/oauth2/2d5773509eaeb12bd46198fcbbffdcf6?type=refreshToken&ts=1622401428169&version=v2.0&lifetime=86400000\\\" could not be associated with a pending flow\\\"\\n) \"\n",
      "\n",
      "Stored 'fabric_refresh_token' (str)\n",
      "\n",
      "-----\n",
      "Exception occurred while getting tokens:\"(\\\"invalid_token\\\"\\nerror_description=\\\"The token \\\"https://cilogon.org/oauth2/2d5773509eaeb12bd46198fcbbffdcf6?type=refreshToken&ts=1622401428169&version=v2.0&lifetime=86400000\\\" could not be associated with a pending flow\\\"\\n) \"\n",
      "\n",
      "New Refresh Token: NB2HI4DTHIXS6Y3JNRXWO33OFZXXEZZPN5QXK5DIGIXTEZBVG43TGNJQHFSWCZLCGEZGEZBUGYYTSODGMNRGEZTGMRRWMNR7OR4XAZJ5OJSWM4TFONUFI33LMVXCM5DTHUYTMMRSGQYDCNBSHAYTMOJGOZSXE43JN5XD25RSFYYCM3DJMZSXI2LNMU6TQNRUGAYDAMBQ\n",
      "\n",
      "New ID Token: None\n",
      "\n",
      "Stored new Refresh Token\n",
      "Stored 'fabric_refresh_token' (str)\n",
      "\n",
      "\n"
     ]
    }
   ],
   "source": [
    "#try getting it without doing refresh\n",
    "try:\n",
    "    id_tok = slice_manager.get_id_token()\n",
    "    print(\"id token: {}\".format(id_tok) )\n",
    "except Exception as e:\n",
    "    print(\"Error: {}\".format(e))\n",
    "\n",
    "#try getting it with a refresh through credential manager:\n",
    "try:\n",
    "    Status, fabric_id_token, fabric_refresh_token = credmgr_proxy.refresh(project_name='all', scope='all', refresh_token=fabric_refresh_token)\n",
    "\n",
    "    #fabric_id_token=refresh_res['id_token']\n",
    "    #fabric_refresh_token=refresh_res['refresh_token']\n",
    "    print()\n",
    "    print(\"-----\")\n",
    "    print(\"New Refresh Token: {}\\n\".format(fabric_refresh_token))\n",
    "    print(\"New ID Token: {}\".format(fabric_id_token))\n",
    "    %store fabric_refresh_token\n",
    "\n",
    "except Exception as e:\n",
    "    print(\"Exception occurred while getting tokens:{}\".format(e))\n",
    "\n",
    "print()\n",
    "print(\"-----\")\n",
    "#try getting it with a refresh through slice manager:\n",
    "try:\n",
    "    id_token, refresh_token = slice_manager.refresh_tokens()\n",
    "except Exception as e:\n",
    "    print(\"Exception occurred while getting tokens:{}\".format(e))\n",
    "\n",
    "fabric_refresh_token=slice_manager.get_refresh_token()\n",
    "fabric_id_token = slice_manager.get_id_token()\n",
    "\n",
    "print(\"New Refresh Token: {}\".format(fabric_refresh_token))\n",
    "print()\n",
    "print(\"New ID Token: {}\".format(fabric_id_token))\n",
    "print()\n",
    "print(\"Stored new Refresh Token\")\n",
    "%store fabric_refresh_token\n",
    "print()\n",
    "print()"
   ]
  },
  {
   "cell_type": "code",
   "execution_count": 34,
   "id": "3945fc65-15c3-43a4-92f4-374a22ae1904",
   "metadata": {
    "tags": []
   },
   "outputs": [
    {
     "name": "stdout",
     "output_type": "stream",
     "text": [
      "slices: Token None must be specified\n"
     ]
    }
   ],
   "source": [
    "status, slices = slice_manager.slices()\n",
    "print(\"slices: {}\".format(slices))"
   ]
  },
  {
   "cell_type": "code",
   "execution_count": null,
   "id": "ae464a7c-1abf-475a-af4b-f71a5962e854",
   "metadata": {},
   "outputs": [],
   "source": []
  }
 ],
 "metadata": {
  "kernelspec": {
   "display_name": "Python 3",
   "language": "python",
   "name": "python3"
  },
  "language_info": {
   "codemirror_mode": {
    "name": "ipython",
    "version": 3
   },
   "file_extension": ".py",
   "mimetype": "text/x-python",
   "name": "python",
   "nbconvert_exporter": "python",
   "pygments_lexer": "ipython3",
   "version": "3.8.8"
  }
 },
 "nbformat": 4,
 "nbformat_minor": 5
}
