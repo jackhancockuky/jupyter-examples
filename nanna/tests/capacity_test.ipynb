{
 "cells": [
  {
   "cell_type": "markdown",
   "id": "fa6c860a-d7d8-4375-87e3-4718a5a3cc94",
   "metadata": {
    "jupyter": {
     "source_hidden": true
    },
    "tags": []
   },
   "source": [
    "# First Jupyter Notebook - Looking at capacity feature"
   ]
  },
  {
   "cell_type": "code",
   "execution_count": 1,
   "id": "32d5217e-b627-4f41-94ba-4fae82d6c305",
   "metadata": {
    "tags": []
   },
   "outputs": [
    {
     "output_type": "error",
     "ename": "ModuleNotFoundError",
     "evalue": "No module named 'fabrictestbed'",
     "traceback": [
      "\u001b[0;31m---------------------------------------------------------------------------\u001b[0m",
      "\u001b[0;31mModuleNotFoundError\u001b[0m                       Traceback (most recent call last)",
      "\u001b[0;32m<ipython-input-1-68cbec7989c0>\u001b[0m in \u001b[0;36m<module>\u001b[0;34m\u001b[0m\n\u001b[0;32m----> 1\u001b[0;31m \u001b[0;32mfrom\u001b[0m \u001b[0mfabrictestbed\u001b[0m\u001b[0;34m.\u001b[0m\u001b[0mslice_editor\u001b[0m \u001b[0;32mimport\u001b[0m \u001b[0mCapacities\u001b[0m\u001b[0;34m\u001b[0m\u001b[0;34m\u001b[0m\u001b[0m\n\u001b[0m\u001b[1;32m      2\u001b[0m \u001b[0mhelp\u001b[0m\u001b[0;34m(\u001b[0m\u001b[0mCapacities\u001b[0m\u001b[0;34m)\u001b[0m\u001b[0;34m\u001b[0m\u001b[0;34m\u001b[0m\u001b[0m\n\u001b[1;32m      3\u001b[0m \u001b[0;31m#Capacities(core=2, ram=16, disk=100) -- not possible\u001b[0m\u001b[0;34m\u001b[0m\u001b[0;34m\u001b[0m\u001b[0;34m\u001b[0m\u001b[0m\n",
      "\u001b[0;31mModuleNotFoundError\u001b[0m: No module named 'fabrictestbed'"
     ]
    }
   ],
   "source": [
    "from fabrictestbed.slice_editor import Capacities\n",
    "help(Capacities)\n",
    "#Capacities(core=2, ram=16, disk=100) -- not possible"
   ]
  },
  {
   "cell_type": "code",
   "execution_count": null,
   "id": "e86d8a4c-7976-407a-9f7d-8fb06fae5496",
   "metadata": {
    "tags": []
   },
   "outputs": [],
   "source": [
    "node2.set_properties(capacities=Capacities(core=4, ram=32, disk=200), image_type='qcow2', image_ref='default_ubuntu_20')"
   ]
  },
  {
   "cell_type": "code",
   "execution_count": null,
   "id": "dd5d4195-f354-4d19-9cc5-e846e31ed6ad",
   "metadata": {},
   "outputs": [],
   "source": []
  }
 ],
 "metadata": {
  "kernelspec": {
   "name": "python392jvsc74a57bd0aee8b7b246df8f9039afb4144a1f6fd8d2ca17a180786b69acc140d282b71a49",
   "display_name": "Python 3.9.2 64-bit"
  },
  "language_info": {
   "codemirror_mode": {
    "name": "ipython",
    "version": 3
   },
   "file_extension": ".py",
   "mimetype": "text/x-python",
   "name": "python",
   "nbconvert_exporter": "python",
   "pygments_lexer": "ipython3",
   "version": "3.9.2"
  },
  "metadata": {
   "interpreter": {
    "hash": "aee8b7b246df8f9039afb4144a1f6fd8d2ca17a180786b69acc140d282b71a49"
   }
  }
 },
 "nbformat": 4,
 "nbformat_minor": 5
}