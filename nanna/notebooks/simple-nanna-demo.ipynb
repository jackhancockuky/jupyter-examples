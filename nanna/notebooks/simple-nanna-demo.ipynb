{
 "cells": [
  {
   "cell_type": "code",
   "execution_count": 10,
   "id": "730811d0-fe0d-4e06-9601-5da29c79cf24",
   "metadata": {
    "tags": []
   },
   "outputs": [
    {
     "name": "stdout",
     "output_type": "stream",
     "text": [
      "Refresh token is: NB2HI4DTHIXS6Y3JNRXWO33OFZXXEZZPN5QXK5DIGIXTIYJQHAYGIZBUMNTDKOBTGNQTINJTMFRDEMZSHAZWKMRTMU3WKZB7OR4XAZJ5OJSWM4TFONUFI33LMVXCM5DTHUYTMMRTGQZTCNJQGUZDMMRGOZSXE43JN5XD25RSFYYCM3DJMZSXI2LNMU6TQNRUGAYDAMBQ\n"
     ]
    }
   ],
   "source": [
    "import os\n",
    "\n",
    "fabric_refresh_token = None\n",
    "%store -r fabric_refresh_token\n",
    "\n",
    "if fabric_refresh_token is None:\n",
    "    fabric_refresh_token = os.environ['CILOGON_REFRESH_TOKEN']\n",
    "    %store fabric_refresh_token\n",
    "    \n",
    "print(\"Refresh token is: {}\".format(fabric_refresh_token))"
   ]
  },
  {
   "cell_type": "markdown",
   "id": "54a1681e-17d9-4564-a97e-134a240c1add",
   "metadata": {},
   "source": [
    "#### Slice manager"
   ]
  },
  {
   "cell_type": "code",
   "execution_count": 11,
   "id": "51580669-9bc8-400a-8c90-48a88189b5c6",
   "metadata": {},
   "outputs": [
    {
     "name": "stdout",
     "output_type": "stream",
     "text": [
      "CM Host: beta-2.fabric-testbed.net Orchestrator Host: beta-7.fabric-testbed.net\n"
     ]
    }
   ],
   "source": [
    "import json\n",
    "from fabrictestbed.slice_manager import SliceManager, Status\n",
    "\n",
    "credentialmanager_host = os.environ['FABRIC_CREDMGR_HOST']\n",
    "orchestrator_host = os.environ['FABRIC_ORCHESTRATOR_HOST']\n",
    "\n",
    "print(f\"CM Host: {credentialmanager_host} Orchestrator Host: {orchestrator_host}\")\n",
    "\n",
    "slice_man = SliceManager(oc_host = orchestrator_host, cm_host = credentialmanager_host, refresh_token = fabric_refresh_token, project_name='all', scope='all')\n",
    "\n",
    "ssh_key = None\n",
    "with open (\"/home/fabric/.ssh/id_rsa.pub\", \"r\") as myfile:\n",
    "    ssh_key=myfile.read().strip()"
   ]
  },
  {
   "cell_type": "markdown",
   "id": "dae17342-d825-4773-a453-27dd84822cc9",
   "metadata": {},
   "source": [
    "#### ID token"
   ]
  },
  {
   "cell_type": "code",
   "execution_count": 63,
   "id": "befdf48b-91cd-405a-ad75-74078a1ec9ae",
   "metadata": {
    "tags": []
   },
   "outputs": [
    {
     "name": "stdout",
     "output_type": "stream",
     "text": [
      "\n",
      "New Refresh Token: NB2HI4DTHIXS6Y3JNRXWO33OFZXXEZZPN5QXK5DIGIXTGNDEGYZGENDEMFTGKZDDMVRTMOBVGYYDOOJTGRRDKNJWGVSTQYR7OR4XAZJ5OJSWM4TFONUFI33LMVXCM5DTHUYTMMRTGQZTIMZZGYZTOOBGOZSXE43JN5XD25RSFYYCM3DJMZSXI2LNMU6TQNRUGAYDAMBQ\n",
      "\n",
      "New Id Token: eyJ0eXAiOiJKV1QiLCJhbGciOiJSUzI1NiIsImtpZCI6ImI0MTUxNjcyMTExOTFlMmUwNWIyMmI1NGIxZDNiNzY2N2U3NjRhNzQ3NzIyMTg1ZTcyMmU1MmUxNDZmZTQzYWEifQ.eyJlbWFpbCI6Im5hbm5rYXRAYnUuZWR1IiwiY2VydF9zdWJqZWN0X2RuIjoiL0RDPW9yZy9EQz1jaWxvZ29uL0M9VVMvTz1Cb3N0b24gVW5pdmVyc2l0eS9DTj1OYW5uYSBLYXRyaW4gSGFubmVzZG90dGlyIEE0NjA5NjM1NiIsImlkcCI6Imh0dHBzOi8vc2hpYi5idS5lZHUvaWRwL3NoaWJib2xldGgiLCJpZHBfbmFtZSI6IkJvc3RvbiBVbml2ZXJzaXR5IiwiZXBwbiI6Im5hbm5rYXRAYnUuZWR1IiwiZXB0aWQiOiJodHRwczovL3NoaWIuYnUuZWR1L2lkcC9zaGliYm9sZXRoIWh0dHBzOi8vY2lsb2dvbi5vcmcvc2hpYmJvbGV0aCFwZW5PVjQzcXF5blR1Tjg5T2hqNVJqcnVQUTA9IiwiYWZmaWxpYXRpb24iOiJzdHVkZW50QGJ1LmVkdTttZW1iZXJAYnUuZWR1IiwibmFtZSI6Ik5hbm5hIEthdHJpbiBIYW5uZXNkb3R0aXIiLCJhY3IiOiJodHRwczovL3NoaWIuYnUuZWR1L3NpbmdsZSIsImVudGl0bGVtZW50IjoiaHR0cDovL2lhbS5idS5lZHUvbWVtYmVyL2NhcztodHRwOi8vaWFtLmJ1LmVkdS9yZWcvY29sbGVnZS9lbmc7aHR0cDovL2lhbS5idS5lZHUvcmVnL2NvbGxlZ2UvY2FzO2h0dHA6Ly9pYW0uYnUuZWR1L2lkaW5mby81MCIsImlzcyI6Imh0dHBzOi8vY2lsb2dvbi5vcmciLCJzdWIiOiJodHRwOi8vY2lsb2dvbi5vcmcvc2VydmVyQS91c2Vycy80NjA5NjM1NiIsImF1ZCI6ImNpbG9nb246L2NsaWVudF9pZC80ZDdlYTU4M2RkMDYxOWMyOTBlZGE3YWI2NmYyY2VmYSIsInRva2VuX2lkIjoiaHR0cHM6Ly9jaWxvZ29uLm9yZy9vYXV0aDIvaWRUb2tlbi9iYTg0ZGNhNjdmMDc2ZWJiNjU2OWY3YTVjY2FlNmMxLzE2MjM0MTc0NzA5OTMiLCJhdXRoX3RpbWUiOjE2MjM0MTc0NjAsImV4cCI6MTYyMzQzNzk5NiwiaWF0IjoxNjIzNDM0Mzk2LCJwcm9qZWN0cyI6eyJGQUJSSUMgU3R1ZGVudHMiOltdfSwicm9sZXMiOlsiZmFicmljLWFjdGl2ZS11c2VycyIsImFkZTNhN2RkLTk0ODgtNDBmOS04ZmM2LTk2N2RlMGVlYTczNS1wbSJdLCJzY29wZSI6ImFsbCJ9.eJhy6XSg_l6Fgm__5oh3qnv8YTtTcHbWMwjMelKot_XfzaqHKg4nK2WiXFM2KOL62IuY8tSVupaxg1UPI7clTucurambRvQo3tLUAs610eTtSYB-WD_7npoXeVqKXbdHbzeRf2mAhacAGaKmw_0WyV2goKRFO0CYCQWhBIlm6DyuLkJVOMpK-h79xqUYIob7C43nA5a6zjuA74T0rGK2S3TzFr6oAxznG0fEY0P-lmCCdkziP3agqrM-Vlfhx7dJ28HPv--h-PWAxBsa9EBnd8flH8509FJo38WIulUmbCtEoEsU1PKKY-uuUSH0hwipoWFe08NAW_Gxd7AtA7c7-8m2_RzbewRIG6IdkyqGMXvqEnIwZsBP-_lI2bS3xoqyifWTR5Q3tnVtudM63bqOKaKt9IEBzop6k6M3IzoeGZhbPcR2EokUMeh79fiYUcpnhKLkKmQGNGzzz36uw171tapUvRtUKtbS8HjH_yAJ6r_Bd59mfWyojC9OmU20LgE-CApWiIL-xvcucjkOchdNakM2UxITqgtS0GFkA---HBrYo0l2kJjnCkI-JOMZR2UEbx0bAT0yh0E8vgD2vvZIDdZ9dk42YB__FSadcJFKxpqVbDvUxqhyBs4tRThgNShCQvJDjZBACU20q5wKYmqbCP3I1PpJLojnWRFhm1NiOqE\n",
      "\n",
      "Stored new Refresh Token\n",
      "Stored 'fabric_refresh_token' (str)\n",
      "\n",
      "Stroed new ID Token\n",
      "Stored 'fabric_id_token' (str)\n",
      "\n"
     ]
    }
   ],
   "source": [
    "try:\n",
    "    id_token, refresh_token = slice_man.refresh_tokens()\n",
    "except Exception as e:\n",
    "    print(\"Exception occurred while getting tokens:{}\".format(e))\n",
    "\n",
    "fabric_refresh_token=slice_man.get_refresh_token()\n",
    "fabric_id_token=slice_man.get_id_token()\n",
    "print()\n",
    "print(\"New Refresh Token: {}\".format(fabric_refresh_token))\n",
    "print()\n",
    "print(\"New Id Token: {}\".format(fabric_id_token))\n",
    "print()\n",
    "print(\"Stored new Refresh Token\")\n",
    "%store fabric_refresh_token\n",
    "print()\n",
    "print(\"Stroed new ID Token\")\n",
    "%store fabric_id_token\n",
    "print()"
   ]
  },
  {
   "cell_type": "markdown",
   "id": "659d9881-d3bd-4846-a5fa-f2e9641f251d",
   "metadata": {},
   "source": [
    "#### Get available resources"
   ]
  },
  {
   "cell_type": "code",
   "execution_count": 80,
   "id": "3fffa8ce-adcd-4285-a912-eb764f8e80fc",
   "metadata": {
    "tags": []
   },
   "outputs": [
    {
     "name": "stdout",
     "output_type": "stream",
     "text": [
      "\n",
      "Available resources:\n",
      "\n",
      "Status: Status.OK\n",
      "\n",
      "Topology: UKY: { cpu: 6/6 , core: 89/96 , ram: 1,462/1,536 G, disk: 109,090/109,600 G, unit: 3/3 }\n",
      "\tComponents:\n",
      "\t\tNVME-P4510:  NVME P4510 { disk: 10,000/10,000 G, unit: 10/10 }\n",
      "\t\tSharedNIC-ConnectX-6:  SharedNIC ConnectX-6 { unit: 12/12 }\n",
      "\t\tGPU-RTX6000:  GPU RTX6000 { unit: 2/2 }\n",
      "\t\tGPU-Tesla T4:  GPU Tesla T4 { unit: 3/4 }\n",
      "\t\tSmartNIC-ConnectX-6:  SmartNIC ConnectX-6 { unit: 2/2 }\n",
      "\t\tSmartNIC-ConnectX-5:  SmartNIC ConnectX-5 { unit: 2/2 }\n",
      "\tSite Interfaces:\n",
      "Links:\n",
      "\n",
      "Topology map: \n"
     ]
    },
    {
     "data": {
      "image/png": "[encoded data removed]",
      "text/plain": [
       "<Figure size 432x288 with 1 Axes>"
      ]
     },
     "metadata": {},
     "output_type": "display_data"
    }
   ],
   "source": [
    "status, topology = slice_man.resources()\n",
    "print()\n",
    "print(\"Available resources:\")\n",
    "print()\n",
    "print(\"Status: {}\\n\".format(status))\n",
    "print(\"Topology: {}\".format(topology))\n",
    "\n",
    "print()\n",
    "print(\"Topology map: \")\n",
    "topology.draw()"
   ]
  },
  {
   "cell_type": "code",
   "execution_count": 65,
   "id": "74b6c99f-a682-42dd-9512-0638ed62904f",
   "metadata": {
    "collapsed": true,
    "jupyter": {
     "outputs_hidden": true
    },
    "tags": []
   },
   "outputs": [
    {
     "name": "stdout",
     "output_type": "stream",
     "text": [
      "Help on class SliceManager in module fabrictestbed.slice_manager.slice_manager:\n",
      "\n",
      "class SliceManager(builtins.object)\n",
      " |  SliceManager(*, cm_host: str, oc_host: str, refresh_token: str, project_name: str = 'all', scope: str = 'all')\n",
      " |  \n",
      " |  Implements User facing Control Framework API interface\n",
      " |  \n",
      " |  Methods defined here:\n",
      " |  \n",
      " |  __init__(self, *, cm_host: str, oc_host: str, refresh_token: str, project_name: str = 'all', scope: str = 'all')\n",
      " |      Initialize self.  See help(type(self)) for accurate signature.\n",
      " |  \n",
      " |  create(self, *, slice_name: str, ssh_key: str, topology: fim.user.topology.ExperimentTopology = None, slice_graph: str = None, lease_end_time: str = None) -> Tuple[fabric_cf.orchestrator.orchestrator_proxy.Status, Union[Exception, List[fabric_cf.orchestrator.elements.reservation.Reservation]]]\n",
      " |      Create a slice\n",
      " |      @param slice_name slice name\n",
      " |      @param ssh_key SSH Key\n",
      " |      @param topology Experiment topology\n",
      " |      @param slice_graph Slice Graph string\n",
      " |      @param lease_end_time Lease End Time\n",
      " |      @return Tuple containing Status and Exception/Json containing slivers created\n",
      " |  \n",
      " |  delete(self, *, slice_id: str) -> Tuple[fabric_cf.orchestrator.orchestrator_proxy.Status, Optional[Exception]]\n",
      " |      Delete a slice\n",
      " |      @param slice_id slice id\n",
      " |      @return Tuple containing Status and Exception/Json containing deletion status\n",
      " |  \n",
      " |  get_id_token(self) -> str\n",
      " |  \n",
      " |  get_refresh_token(self) -> str\n",
      " |  \n",
      " |  get_slice(self, *, slice_id: str) -> Tuple[fabric_cf.orchestrator.orchestrator_proxy.Status, Union[Exception, fim.user.topology.ExperimentTopology]]\n",
      " |      Get slice\n",
      " |      @param slice_id slice id\n",
      " |      @return Tuple containing Status and Exception/Json containing slice\n",
      " |  \n",
      " |  refresh_tokens(self) -> Tuple[str, str]\n",
      " |      Refresh tokens\n",
      " |      User is expected to invoke refresh token API before invoking any other APIs to ensure the token is not expired.\n",
      " |      User is also expected to update the returned refresh token in the JupyterHub environment.\n",
      " |  \n",
      " |  renew(self, *, slice_id: str, new_lease_end_time: str) -> Tuple[fabric_cf.orchestrator.orchestrator_proxy.Status, Union[Exception, List, NoneType]]\n",
      " |      Renew a slice\n",
      " |      @param slice_id slice_id\n",
      " |      @param new_lease_end_time new_lease_end_time\n",
      " |      @return Tuple containing Status and List of Reservation Id failed to extend\n",
      " |  \n",
      " |  resources(self, *, level: int = 1) -> Tuple[fabric_cf.orchestrator.orchestrator_proxy.Status, Union[Exception, fim.user.topology.AdvertizedTopology]]\n",
      " |      Get resources\n",
      " |      @param level level\n",
      " |      @return Tuple containing Status and Exception/Json containing Resources\n",
      " |  \n",
      " |  revoke_token(self, refresh_token: str = None) -> Tuple[fabric_cf.orchestrator.orchestrator_proxy.Status, Any]\n",
      " |  \n",
      " |  set_id_token(self, id_token: str)\n",
      " |  \n",
      " |  slice_status(self, *, slice_id: str) -> Tuple[fabric_cf.orchestrator.orchestrator_proxy.Status, Union[Exception, fabric_cf.orchestrator.elements.slice.Slice]]\n",
      " |      Get slice status\n",
      " |      @param slice_id slice id\n",
      " |      @return Tuple containing Status and Exception/Json containing slice status\n",
      " |  \n",
      " |  slices(self) -> Tuple[fabric_cf.orchestrator.orchestrator_proxy.Status, Union[Exception, List[fabric_cf.orchestrator.elements.slice.Slice]]]\n",
      " |      Get slices\n",
      " |      @return Tuple containing Status and Exception/Json containing slices\n",
      " |  \n",
      " |  sliver_status(self, *, slice_id: str, sliver_id: str) -> Tuple[fabric_cf.orchestrator.orchestrator_proxy.Status, Union[Exception, fabric_cf.orchestrator.elements.reservation.Reservation]]\n",
      " |      Get slivers\n",
      " |      @param slice_id slice id\n",
      " |      @param sliver_id slice sliver_id\n",
      " |      @return Tuple containing Status and Exception/Json containing Sliver status\n",
      " |  \n",
      " |  slivers(self, *, slice_id: str, sliver_id: str = None) -> Tuple[fabric_cf.orchestrator.orchestrator_proxy.Status, Union[Exception, List[fabric_cf.orchestrator.elements.reservation.Reservation]]]\n",
      " |      Get slivers\n",
      " |      @param slice_id slice id\n",
      " |      @param sliver_id slice sliver_id\n",
      " |      @return Tuple containing Status and Exception/Json containing Sliver(s)\n",
      " |  \n",
      " |  ----------------------------------------------------------------------\n",
      " |  Data descriptors defined here:\n",
      " |  \n",
      " |  __dict__\n",
      " |      dictionary for instance variables (if defined)\n",
      " |  \n",
      " |  __weakref__\n",
      " |      list of weak references to the object (if defined)\n",
      "\n"
     ]
    }
   ],
   "source": [
    "help(SliceManager)"
   ]
  },
  {
   "cell_type": "markdown",
   "id": "c35cf63e-969a-4319-9453-92a8744f9bf8",
   "metadata": {},
   "source": [
    "#### Build slice"
   ]
  },
  {
   "cell_type": "code",
   "execution_count": 82,
   "id": "9c9c4e08-3565-4090-bca6-b8a5f9308f4a",
   "metadata": {
    "tags": []
   },
   "outputs": [],
   "source": [
    "from fabrictestbed.slice_editor import ExperimentTopology, Capacities, ComponentType, LinkType, Layer\n",
    "\n",
    "experiment = ExperimentTopology()\n",
    "slice_name = \"NannaSlice2\""
   ]
  },
  {
   "cell_type": "code",
   "execution_count": 14,
   "id": "8b177e85-7097-4d89-a8f6-798adda9af57",
   "metadata": {
    "collapsed": true,
    "jupyter": {
     "outputs_hidden": true
    },
    "tags": []
   },
   "outputs": [
    {
     "name": "stdout",
     "output_type": "stream",
     "text": [
      "Help on class ExperimentTopology in module fim.user.topology:\n",
      "\n",
      "class ExperimentTopology(Topology)\n",
      " |  ExperimentTopology(graph_file: str = None, graph_string: str = None, logger=None)\n",
      " |  \n",
      " |  Define an user topology model, inheriting behavior from Topology class.\n",
      " |  In addition to publicly visible methods the following calls can be made:\n",
      " |  topology.nodes - a read-only dictionary of nodes in the topology\n",
      " |  topology.links - a read-only dictionary of links in the topology\n",
      " |  topology.interface_list - a read-only list of all interfaces of all nodes\n",
      " |  If you want to operate on top of a Neo4j graph, use the cast() method.\n",
      " |  \n",
      " |  Method resolution order:\n",
      " |      ExperimentTopology\n",
      " |      Topology\n",
      " |      abc.ABC\n",
      " |      builtins.object\n",
      " |  \n",
      " |  Methods defined here:\n",
      " |  \n",
      " |  __init__(self, graph_file: str = None, graph_string: str = None, logger=None)\n",
      " |      Initialize self.  See help(type(self)) for accurate signature.\n",
      " |  \n",
      " |  cast(self, *, asm_graph: fim.graph.slices.abc_asm.ABCASMPropertyGraph)\n",
      " |      'Cast' an existing instance of ASM graph into a topology. This can create Neo4j or NetworkX-based\n",
      " |      topology classes\n",
      " |      :param asm_graph:\n",
      " |      :return:\n",
      " |  \n",
      " |  ----------------------------------------------------------------------\n",
      " |  Data and other attributes defined here:\n",
      " |  \n",
      " |  __abstractmethods__ = frozenset()\n",
      " |  \n",
      " |  ----------------------------------------------------------------------\n",
      " |  Methods inherited from Topology:\n",
      " |  \n",
      " |  __getattr__(self, item)\n",
      " |      Special handling for attributes like 'nodes' and 'links' -\n",
      " |      which query into the model. They return dicts and list\n",
      " |      containers. Modifying containers does not affect the underlying\n",
      " |      graph mode, but modifying elements of lists or values of dicts does.\n",
      " |      :param item:\n",
      " |      :return:\n",
      " |  \n",
      " |  __str__(self)\n",
      " |      Print topology in tabulated form - network nodes, their components, interfaces, then print links\n",
      " |      and their interfaces\n",
      " |      :return:\n",
      " |  \n",
      " |  add_link(self, *, name: str, node_id: str = None, ltype: fim.slivers.network_link.LinkType, interfaces: List[fim.user.interface.Interface], technology: str = None, **kwargs) -> fim.user.link.Link\n",
      " |      Add link between listed interfaces with specified parameters (for experiment\n",
      " |      topologies you want add_network_service instead)\n",
      " |      :param name:\n",
      " |      :param node_id:\n",
      " |      :param ltype:\n",
      " |      :param interfaces:\n",
      " |      :param technology:\n",
      " |      :param kwargs:\n",
      " |      :return:\n",
      " |  \n",
      " |  add_network_service(self, *, name: str, node_id: str = None, nstype: fim.slivers.network_service.ServiceType, interfaces: List[fim.user.interface.Interface], technology: str = None, **kwargs) -> fim.user.network_service.NetworkService\n",
      " |      Add a network service to a topology. Interfaces can be specified upfront or added/removed later\n",
      " |      :param name:\n",
      " |      :param node_id:\n",
      " |      :param nstype:\n",
      " |      :param interfaces:\n",
      " |      :param technology:\n",
      " |      :param kwargs:\n",
      " |      :return:\n",
      " |  \n",
      " |  add_node(self, *, name: str, node_id: str = None, site: str, ntype: fim.slivers.network_node.NodeType = VM, **kwargs) -> fim.user.node.Node\n",
      " |      Add a network node into the substrate topology. Be sure to hardcode node_id - it should\n",
      " |      be consistent from revision to revision of the topology for the same objects.\n",
      " |      kwargs serve to add parameters to the node\n",
      " |      cpu_cores\n",
      " |      ram_size\n",
      " |      disk_size\n",
      " |      image_type\n",
      " |      image_ref\n",
      " |      :param name:\n",
      " |      :param node_id:\n",
      " |      :param site:\n",
      " |      :param ntype:\n",
      " |      :return:\n",
      " |  \n",
      " |  draw(self, *, file_name: str = None, interactive: bool = False, topo_detail: fim.user.topology.TopologyDetail = <TopologyDetail.Derived: 1>, layout=<function fruchterman_reingold_layout at 0x7f7bc074e280>)\n",
      " |      Use pyplot to draw the topology of specified level of detail.\n",
      " |      :param file_name: save figure to a file (drawing type is determined by extension, e.g. .png)\n",
      " |      :param interactive: use interactive pyplot mode (defaults to False)\n",
      " |      :param topo_detail: level of detail to use in drawing, defaults to Derived\n",
      " |      :param layout: use one of available layout algorithms in NetworkX (defaults to spring_layout)\n",
      " |      :return:\n",
      " |  \n",
      " |  get_owner_node(self, e: fim.user.model_element.ModelElement) -> fim.user.model_element.ModelElement\n",
      " |      Get an owner Node element for Component, NetworkService or Interface. For Link and Node\n",
      " |      return None\n",
      " |      :param e:\n",
      " |      :return:\n",
      " |  \n",
      " |  get_parent_element(self, e: fim.user.model_element.ModelElement) -> fim.user.model_element.ModelElement\n",
      " |      Instantiate a ModelElement parent of this element or return None\n",
      " |      for Links, Nodes and sometimes NetworkServices\n",
      " |      :param e:\n",
      " |      :return:\n",
      " |  \n",
      " |  load(self, *, file_name: str = None, graph_string: str = None)\n",
      " |      Load the topology from file or string\n",
      " |      :param file_name:\n",
      " |      :param graph_string:\n",
      " |      :return:\n",
      " |  \n",
      " |  remove_link(self, name: str)\n",
      " |      Remove a link between interfaces\n",
      " |      :param name:\n",
      " |      :return:\n",
      " |  \n",
      " |  remove_network_service(self, name: str)\n",
      " |      Remove a network service and associated service interfaces\n",
      " |      :param name:\n",
      " |      :return:\n",
      " |  \n",
      " |  remove_node(self, name: str)\n",
      " |      Remove node and all its components, its interfaces and interfaces of components\n",
      " |      :param name:\n",
      " |      :return:\n",
      " |  \n",
      " |  serialize(self, file_name: str = None, fmt: fim.graph.abc_property_graph.GraphFormat = <GraphFormat.GRAPHML: 1>) -> str\n",
      " |      Serialize to string or to file, depending on whether file_name\n",
      " |      is provided.\n",
      " |      :param file_name:\n",
      " |      :param fmt: one of GraphFormat possible values\n",
      " |      :return string containing GraphML if file_name is None:\n",
      " |  \n",
      " |  ----------------------------------------------------------------------\n",
      " |  Static methods inherited from Topology:\n",
      " |  \n",
      " |  __print_caplabs__(caps) -> str\n",
      " |  \n",
      " |  ----------------------------------------------------------------------\n",
      " |  Data descriptors inherited from Topology:\n",
      " |  \n",
      " |  __dict__\n",
      " |      dictionary for instance variables (if defined)\n",
      " |  \n",
      " |  __weakref__\n",
      " |      list of weak references to the object (if defined)\n",
      "\n"
     ]
    }
   ],
   "source": [
    "help(ExperimentTopology)"
   ]
  },
  {
   "cell_type": "markdown",
   "id": "cc7b4ce8-5904-4bdd-9d1a-86c4e2cf95cb",
   "metadata": {
    "tags": []
   },
   "source": [
    "#### Add node1"
   ]
  },
  {
   "cell_type": "code",
   "execution_count": 85,
   "id": "5ac65cc6-507a-4295-8213-d8da8f4d983b",
   "metadata": {
    "tags": []
   },
   "outputs": [],
   "source": [
    "node1 = experiment.add_node(name='node2', site = 'UKY')\n",
    "\n",
    "node1_capacities = Capacities()\n",
    "node1_capacities.set_fields(core = 7, ram = 11, disk = 10)\n",
    "node1.set_properties(capacities = node1_capacities, image_type='qcow2', image_ref='default_ubuntu_20')\n",
    "\n",
    "#node1_nvme = node1.add_component(ctype=ComponentType.NVME, model='P4510', name='n1_nvme')\n",
    "#node1_gpu  = node1.add_component(ctype=ComponentType.GPU, model='RTX6000', name='n1_gpu')\n",
    "#node1_nic = node1.add_component(ctype=ComponentType.SharedNIC, model='ConnectX-6', name='n1_nic')"
   ]
  },
  {
   "cell_type": "markdown",
   "id": "efa2fc8c-ee73-4e1f-857c-23627b0973ae",
   "metadata": {},
   "source": [
    "#### Draw current nodes:"
   ]
  },
  {
   "cell_type": "code",
   "execution_count": 86,
   "id": "98182117-7661-4766-ac1c-3528f2b10b66",
   "metadata": {},
   "outputs": [
    {
     "data": {
      "image/png": "[encoded data removed]",
      "text/plain": [
       "<Figure size 432x288 with 1 Axes>"
      ]
     },
     "metadata": {},
     "output_type": "display_data"
    }
   ],
   "source": [
    "experiment.draw()"
   ]
  },
  {
   "cell_type": "markdown",
   "id": "e1e632f3-5acb-4131-8204-65a5e45e936a",
   "metadata": {},
   "source": [
    "<a id='create_node'></a>\n",
    "#### Create actual slice and request slice reservation:"
   ]
  },
  {
   "cell_type": "code",
   "execution_count": 87,
   "id": "358a1446-e705-4770-8f3b-bd00c46bfab3",
   "metadata": {},
   "outputs": [
    {
     "name": "stdout",
     "output_type": "stream",
     "text": [
      "Request Status.OK\n",
      "Reservations: [{\n",
      "    \"graph_node_id\": \"171f1695-0c39-45d9-87b5-18bd7d70b0b5\",\n",
      "    \"join_state\": \"None_\",\n",
      "    \"lease_end\": \"2021-06-12 18:24:45\",\n",
      "    \"reservation_id\": \"e546aed7-4235-4684-a265-5bab5ea9c784\",\n",
      "    \"reservation_state\": \"Unknown\",\n",
      "    \"resource_type\": \"VM\",\n",
      "    \"slice_id\": \"96c24206-0b03-4ef8-9414-58bf9e09572f\"\n",
      "}, {\n",
      "    \"graph_node_id\": \"30f66362-3846-4316-ad47-8d3114f2ac9a\",\n",
      "    \"join_state\": \"None_\",\n",
      "    \"lease_end\": \"2021-06-12 18:24:45\",\n",
      "    \"reservation_id\": \"99b4fdc5-c1c7-4e61-9d5e-dce8700fdfdf\",\n",
      "    \"reservation_state\": \"Unknown\",\n",
      "    \"resource_type\": \"VM\",\n",
      "    \"slice_id\": \"96c24206-0b03-4ef8-9414-58bf9e09572f\"\n",
      "}]\n"
     ]
    }
   ],
   "source": [
    "#serialize into slice graph object\n",
    "slice_graph = experiment.serialize()\n",
    "\n",
    "#communicate with orchestrator for slice\n",
    "status,reservations = slice_man.create(slice_name = slice_name, slice_graph = slice_graph, ssh_key = ssh_key)\n",
    "\n",
    "#get the slice id of the newly created slice and check status to see if it went through\n",
    "print(\"Request {}\".format(status))\n",
    "print(\"Reservations: {}\".format(reservations))\n",
    "\n",
    "slice_id = reservations[0].slice_id\n",
    "\n",
    "#get only slice from id and status\n",
    "#request, state = slice_man.slice_status(slice_id)\n",
    "#print(\"Slice status request {}\".format(request))\n",
    "#print(\"Slice status {}\".format(state))"
   ]
  },
  {
   "cell_type": "markdown",
   "id": "bdb43760-6e94-4e21-a73e-acaaec11c63b",
   "metadata": {},
   "source": [
    "#### Query slices:"
   ]
  },
  {
   "cell_type": "code",
   "execution_count": null,
   "id": "3a2f7e3e-ecca-4ff0-8ffa-620cf83bc607",
   "metadata": {
    "tags": []
   },
   "outputs": [],
   "source": [
    "status, slices = slice_man.slices()\n",
    "\n",
    "print(\"Response Status {}\".format(status))\n",
    "print(\"Slices {}\".format(slices))"
   ]
  },
  {
   "cell_type": "code",
   "execution_count": null,
   "id": "9a76f7f7-21db-41ab-83dd-0f69875b1d16",
   "metadata": {},
   "outputs": [],
   "source": [
    "#id_slice1 = slices[0].slice_id\n",
    "#id_slice2 = slices[1].slice_id\n",
    "#id_slice3 = slices[2].slice_id\n",
    "\n",
    "#print(\"ID of slice 1: {}\".format(id_slice1))\n",
    "#print(\"ID of slice 2: {}\".format(id_slice2))\n",
    "#print(\"ID of slice 3: {}\".format(id_slice3))"
   ]
  },
  {
   "cell_type": "markdown",
   "id": "50034a7d-97eb-46b9-85ce-8faae264fc1c",
   "metadata": {},
   "source": [
    "#### Get slice status:"
   ]
  },
  {
   "cell_type": "code",
   "execution_count": 72,
   "id": "91a3dd69-0d66-44e6-a6fa-bfbaf4b73676",
   "metadata": {},
   "outputs": [
    {
     "name": "stdout",
     "output_type": "stream",
     "text": [
      "Response Status Status.OK\n",
      "Slice State: Configuring\n",
      "Response Status Status.OK\n",
      "Slice Status {\n",
      "    \"graph_id\": \"1bff3f09-940a-411f-b8ff-f041c62b05a6\",\n",
      "    \"slice_id\": \"78733015-7cf8-4d1c-86df-89d036d48c03\",\n",
      "    \"slice_name\": \"NannaSlice\",\n",
      "    \"slice_state\": \"StableOK\"\n",
      "}\n"
     ]
    }
   ],
   "source": [
    "import time\n",
    "\n",
    "state = None\n",
    "while state != 'StableOK':\n",
    "    status, slice_status = slice_man.slice_status(slice_id=slice_id)\n",
    "    state = slice_status.slice_state\n",
    "    print(\"Response Status {}\".format(status))\n",
    "    print(\"Slice State: {}\".format(slices[0].slice_state))\n",
    "    time.sleep(20)\n",
    "\n",
    "#final status\n",
    "print(\"Response Status {}\".format(status))\n",
    "print(\"Slice Status {}\".format(slice_status))  "
   ]
  },
  {
   "cell_type": "markdown",
   "id": "d27c6b11-b1ae-4a4c-8300-21602262b39b",
   "metadata": {},
   "source": [
    "#### Query slivers:"
   ]
  },
  {
   "cell_type": "code",
   "execution_count": null,
   "id": "0c7981c9-75a1-4f6d-b6cb-cbd9014ba680",
   "metadata": {},
   "outputs": [],
   "source": [
    "status, slivers = slice_man.slivers(slice_id=slice_id)\n",
    "\n",
    "print(\"Response Status {}\".format(status))\n",
    "print(\"Slivers {}\".format(reservations))"
   ]
  },
  {
   "cell_type": "markdown",
   "id": "4e70b6d8-950a-4f10-8ed3-d023e42ed96a",
   "metadata": {},
   "source": [
    "#### Sliver - capacities info:"
   ]
  },
  {
   "cell_type": "code",
   "execution_count": 79,
   "id": "eca2e82e-1a90-4c8a-bd3e-ff5c7c8416a0",
   "metadata": {},
   "outputs": [
    {
     "name": "stdout",
     "output_type": "stream",
     "text": [
      "Requested capacities: { core: 3 , ram: 10 G, disk: 10 G}\n",
      "Allocated capacities: { core: 4 , ram: 16 G, disk: 10 G}\n",
      "{ instance_type: fabric.c4.m16.d10}\n"
     ]
    }
   ],
   "source": [
    "for sliver in slivers:\n",
    "    print(\"Requested capacities: {}\".format(sliver.capacities))\n",
    "    print(\"Allocated capacities: {}\".format(sliver.allocated_capacities))\n",
    "    print(sliver.capacity_hints)"
   ]
  },
  {
   "cell_type": "markdown",
   "id": "efb18503-0659-4a9a-8aaa-4576f992cf8b",
   "metadata": {},
   "source": [
    "#### Delete slice:"
   ]
  },
  {
   "cell_type": "code",
   "execution_count": 62,
   "id": "e947aecc-7a54-4ba1-ac30-e3767a7fcbf7",
   "metadata": {},
   "outputs": [
    {
     "name": "stdout",
     "output_type": "stream",
     "text": [
      "Response Status Status.OK\n",
      "Response received None\n",
      "Response Status Status.OK\n",
      "Response received None\n"
     ]
    }
   ],
   "source": [
    "status, result = slice_man.delete(slice_id = id_slice1)\n",
    "\n",
    "print(\"Response Status {}\".format(status))\n",
    "print(\"Response received {}\".format(result))\n",
    "\n",
    "status, result = slice_man.delete(slice_id = id_slice2)\n",
    "\n",
    "print(\"Response Status {}\".format(status))\n",
    "print(\"Response received {}\".format(result))\n",
    "\n",
    "#status, result = slice_man.delete(slice_id = id_slice3)\n",
    "#print(\"Response Status {}\".format(status))\n",
    "#print(\"Response received {}\".format(result))"
   ]
  },
  {
   "cell_type": "code",
   "execution_count": null,
   "id": "69151948-60fc-4b5a-a57d-9b4cc4d25c94",
   "metadata": {},
   "outputs": [],
   "source": []
  }
 ],
 "metadata": {
  "kernelspec": {
   "display_name": "Python 3",
   "language": "python",
   "name": "python3"
  },
  "language_info": {
   "codemirror_mode": {
    "name": "ipython",
    "version": 3
   },
   "file_extension": ".py",
   "mimetype": "text/x-python",
   "name": "python",
   "nbconvert_exporter": "python",
   "pygments_lexer": "ipython3",
   "version": "3.9.2"
  }
 },
 "nbformat": 4,
 "nbformat_minor": 5
}
