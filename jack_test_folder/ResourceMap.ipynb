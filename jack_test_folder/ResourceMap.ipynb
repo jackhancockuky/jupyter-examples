{
 "cells": [
  {
   "cell_type": "markdown",
   "id": "63a7554f-28a1-4cd3-a698-f62d980bfbf7",
   "metadata": {},
   "source": [
    "# FABRIC Example: Get Map of Created Resources\n",
    "\n",
    "\n",
    "## Configure the Environment"
   ]
  },
  {
   "cell_type": "code",
   "execution_count": 1,
   "id": "70c1f6d4-063a-485a-ae41-a01c644febc7",
   "metadata": {},
   "outputs": [
    {
     "name": "stdout",
     "output_type": "stream",
     "text": [
      "CM Host: beta-2.fabric-testbed.net Orchestrator Host: beta-7.fabric-testbed.net\n",
      "beta-2.fabric-testbed.net\n"
     ]
    }
   ],
   "source": [
    "import os\n",
    "from fabrictestbed.slice_manager import SliceManager, Status\n",
    "import json\n",
    "\n",
    "credmgr_host = os.environ['FABRIC_CREDMGR_HOST']\n",
    "orchestrator_host = os.environ['FABRIC_ORCHESTRATOR_HOST']\n",
    "print(f\"CM Host: {credmgr_host} Orchestrator Host: {orchestrator_host}\")\n",
    "print(os.environ['FABRIC_CREDMGR_HOST'])\n",
    "\n",
    "#Configure SSH Key\n",
    "ssh_key = None\n",
    "with open (\"/home/fabric/.ssh/id_rsa.pub\", \"r\") as myfile:\n",
    "    ssh_key=myfile.read().strip()"
   ]
  },
  {
   "cell_type": "markdown",
   "id": "3eccf019-031e-4412-bb95-dc7d2652b0b0",
   "metadata": {},
   "source": [
    "### Save the Initial Refresh Token"
   ]
  },
  {
   "cell_type": "code",
   "execution_count": 2,
   "id": "bc951cf2-58a1-4b38-a3da-267dbdc3aa27",
   "metadata": {},
   "outputs": [
    {
     "name": "stdout",
     "output_type": "stream",
     "text": [
      "Fabric Refresh Token NB2HI4DTHIXS6Y3JNRXWO33OFZXXEZZPN5QXK5DIGIXTGYRXGYYDOMLDME2TQMRVMRRDKOJXHA3GGN3BGVSDGZLFHE3DQNB7OR4XAZJ5OJSWM4TFONUFI33LMVXCM5DTHUYTMMRYGUZDCNRVGI2TINBGOZSXE43JN5XD25RSFYYCM3DJMZSXI2LNMU6TQNRUGAYDAMBQ\n",
      "CILOGON_REFRESH_TOKEN environment variable: NB2HI4DTHIXS6Y3JNRXWO33OFZXXEZZPN5QXK5DIGIXTCZRRGYZDKNBXGBRDQMJQGRRDQOJVGI4WGODCGVRDIZTGGY4DMNJ7OR4XAZJ5OJSWM4TFONUFI33LMVXCM5DTHUYTMMRYGQZTONRYHEYTGNZGOZSXE43JN5XD25RSFYYCM3DJMZSXI2LNMU6TQNRUGAYDAMBQ\n"
     ]
    }
   ],
   "source": [
    "#Retrieve or set the refresh token (exprires 24 hours after login)\n",
    "not_found=False\n",
    "fabric_refresh_token=None\n",
    "%store -r fabric_refresh_token\n",
    "\n",
    "if fabric_refresh_token is None:\n",
    "    fabric_refresh_token=os.environ['CILOGON_REFRESH_TOKEN']\n",
    "    %store fabric_refresh_token\n",
    "print(\"Fabric Refresh Token {}\".format(fabric_refresh_token))\n",
    "print(\"CILOGON_REFRESH_TOKEN environment variable: {}\".format(os.environ['CILOGON_REFRESH_TOKEN']))"
   ]
  },
  {
   "cell_type": "markdown",
   "id": "b3816f7b-8d70-4ade-8b08-833bd29279ef",
   "metadata": {},
   "source": [
    "## Create and Initialize Slice Manager Object\n",
    "Users can request tokens with different Project and Scopes by altering `project_name` and `scope` parameters in the refresh call below."
   ]
  },
  {
   "cell_type": "code",
   "execution_count": 3,
   "id": "69c8d7d5-84eb-4be0-a98b-5e58b9e5aacd",
   "metadata": {},
   "outputs": [],
   "source": [
    "slice_manager = SliceManager(oc_host = orchestrator_host, cm_host = credmgr_host, project_name = 'all', scope = 'all')\n",
    "slice_manager.initialize()"
   ]
  },
  {
   "cell_type": "markdown",
   "id": "38d7377a-de16-4a21-b6cb-afa5631e0faa",
   "metadata": {},
   "source": [
    "### Refresh the ID Token\n",
    "\n",
    "ID Tokens expire one hour after refresh. "
   ]
  },
  {
   "cell_type": "code",
   "execution_count": 4,
   "id": "c44139d5-5cc1-4c91-a58b-3b210073decb",
   "metadata": {},
   "outputs": [
    {
     "name": "stdout",
     "output_type": "stream",
     "text": [
      "\n",
      "New Refresh Token: NB2HI4DTHIXS6Y3JNRXWO33OFZXXEZZPN5QXK5DIGIXTIMJUMRRDSNRVGMYWGMTFGAZDMOJWMI4TCYZXMQ2TGYRXGZSTQNR7OR4XAZJ5OJSWM4TFONUFI33LMVXCM5DTHUYTMMRYGUZDGNJTGEZTQNZGOZSXE43JN5XD25RSFYYCM3DJMZSXI2LNMU6TQNRUGAYDAMBQ\n",
      "\n",
      "Stored new Refresh Token\n",
      "Stored 'fabric_refresh_token' (str)\n",
      "\n",
      "\n"
     ]
    }
   ],
   "source": [
    "try:\n",
    "    id_token, refresh_token = slice_manager.refresh_tokens()\n",
    "except Exception as e:\n",
    "    print(\"Exception occurred while getting tokens:{}\".format(e))\n",
    "\n",
    "fabric_refresh_token=slice_manager.get_refresh_token()\n",
    "print()\n",
    "print(\"New Refresh Token: {}\".format(fabric_refresh_token))\n",
    "print()\n",
    "print(\"Stored new Refresh Token\")\n",
    "%store fabric_refresh_token\n",
    "print()\n",
    "print()"
   ]
  },
  {
   "cell_type": "markdown",
   "id": "e297cb69-9043-4bfd-8689-4b2fa97df7ad",
   "metadata": {},
   "source": [
    "### Query Slices"
   ]
  },
  {
   "cell_type": "code",
   "execution_count": 5,
   "id": "2853f7d8-4b4c-44a3-b329-eae9c78b571d",
   "metadata": {},
   "outputs": [
    {
     "name": "stdout",
     "output_type": "stream",
     "text": [
      "Response Status Status.OK\n",
      "Slices [{\n",
      "    \"graph_id\": \"997e0a5f-e078-4258-a845-f0697f6ffeac\",\n",
      "    \"lease_end\": \"2021-07-26 21:21:49\",\n",
      "    \"slice_id\": \"6c83ff7d-f680-49ba-9306-658a259c182c\",\n",
      "    \"slice_name\": \"Slice-l2bridge-ded-untag2\",\n",
      "    \"slice_state\": \"Closing\"\n",
      "}, {\n",
      "    \"graph_id\": \"e5df79d8-b8af-4e20-9a0d-bc5520caa7bc\",\n",
      "    \"lease_end\": \"2021-07-26 20:34:56\",\n",
      "    \"slice_id\": \"124d94fb-6c0a-4457-9b75-c3da6e620568\",\n",
      "    \"slice_name\": \"Slice-l2bridge-ded-untag\",\n",
      "    \"slice_state\": \"Dead\"\n",
      "}, {\n",
      "    \"graph_id\": \"67378b4b-ff8e-4b96-9afe-ea2382dfe00e\",\n",
      "    \"lease_end\": \"2021-07-27 16:06:38\",\n",
      "    \"slice_id\": \"2dda7f41-0f40-4782-ad1a-85d6a982d264\",\n",
      "    \"slice_name\": \"Slice-l2bridge-ded-untag2\",\n",
      "    \"slice_state\": \"Closing\"\n",
      "}, {\n",
      "    \"graph_id\": \"308393e0-bc51-4eb8-9e93-6b435777d2ac\",\n",
      "    \"lease_end\": \"2021-07-26 20:32:12\",\n",
      "    \"slice_id\": \"a091ae4e-2554-41ae-bc99-3d4e195db2f1\",\n",
      "    \"slice_name\": \"Slice-l2bridge-ded-tag\",\n",
      "    \"slice_state\": \"Dead\"\n",
      "}, {\n",
      "    \"graph_id\": \"25137204-d852-4ad2-8a52-5e17e626927a\",\n",
      "    \"lease_end\": \"2021-07-28 16:42:05\",\n",
      "    \"slice_id\": \"3b59519a-1238-4367-965b-a1c1bef45d13\",\n",
      "    \"slice_name\": \"widget_test_slice\",\n",
      "    \"slice_state\": \"Closing\"\n",
      "}, {\n",
      "    \"graph_id\": \"47824df0-be65-42e3-bbba-2f35d48b62cc\",\n",
      "    \"lease_end\": \"2021-08-09 18:28:55\",\n",
      "    \"slice_id\": \"83ba6bb0-1ee6-45d0-b694-0f3f260936f1\",\n",
      "    \"slice_name\": \"testslice\",\n",
      "    \"slice_state\": \"Dead\"\n",
      "}, {\n",
      "    \"graph_id\": \"2f20a8b4-2f6b-4242-a0c7-e507e078a0fc\",\n",
      "    \"lease_end\": \"2021-08-09 18:34:07\",\n",
      "    \"slice_id\": \"26502b1c-f1a6-413b-b1b7-02331c688017\",\n",
      "    \"slice_name\": \"testslice\",\n",
      "    \"slice_state\": \"Dead\"\n",
      "}]\n"
     ]
    }
   ],
   "source": [
    "status, slices = slice_manager.slices(state = \"All\")\n",
    "\n",
    "print(\"Response Status {}\".format(status))\n",
    "if status == Status.OK:\n",
    "    print(\"Slices {}\".format(slices))\n",
    "else:\n",
    "    print(f\"Failure: {slices}\")"
   ]
  },
  {
   "cell_type": "markdown",
   "id": "eda839d3-52f2-47fe-a4ee-a137bb0542cf",
   "metadata": {},
   "source": [
    "### Get ID of Most Recent Slice, Query Slivers From Slice"
   ]
  },
  {
   "cell_type": "code",
   "execution_count": 6,
   "id": "fb5893a7-0d03-4cf5-a24b-1c1a88ec9a6e",
   "metadata": {},
   "outputs": [
    {
     "name": "stdout",
     "output_type": "stream",
     "text": [
      "Response Status Status.OK\n",
      "Slivers [{\n",
      "    \"allocated_capacities\": \"{\\\"core\\\": 4, \\\"disk\\\": 500, \\\"ram\\\": 16}\",\n",
      "    \"allocated_labels\": \"{\\\"instance_parent\\\": \\\"uky-w2.fabric-testbed.net\\\"}\",\n",
      "    \"capacities\": \"{\\\"core\\\": 4, \\\"disk\\\": 128.0, \\\"ram\\\": 16}\",\n",
      "    \"capacity_hints\": \"{\\\"instance_type\\\": \\\"fabric.c4.m16.d500\\\"}\",\n",
      "    \"graph_node_id\": \"c76b317f-d166-4e48-9381-0b9041f87c17\",\n",
      "    \"join_state\": \"NoJoin\",\n",
      "    \"lease_end\": \"2021-08-09 18:34:07\",\n",
      "    \"pending_state\": \"None_\",\n",
      "    \"reservation_id\": \"514e7565-ad7b-409d-bed4-b9ca490587db\",\n",
      "    \"reservation_state\": \"Failed\",\n",
      "    \"resource_type\": \"VM\",\n",
      "    \"site\": \"UKY\",\n",
      "    \"slice_id\": \"26502b1c-f1a6-413b-b1b7-02331c688017\"\n",
      "}, {\n",
      "    \"allocated_capacities\": \"{\\\"core\\\": 4, \\\"disk\\\": 500, \\\"ram\\\": 16}\",\n",
      "    \"allocated_labels\": \"{\\\"instance_parent\\\": \\\"uky-w2.fabric-testbed.net\\\"}\",\n",
      "    \"capacities\": \"{\\\"core\\\": 4, \\\"disk\\\": 128.0, \\\"ram\\\": 16}\",\n",
      "    \"capacity_hints\": \"{\\\"instance_type\\\": \\\"fabric.c4.m16.d500\\\"}\",\n",
      "    \"graph_node_id\": \"7b9077f2-f207-44d5-84e9-ba5e670e8041\",\n",
      "    \"join_state\": \"NoJoin\",\n",
      "    \"lease_end\": \"2021-08-09 18:34:07\",\n",
      "    \"name\": \"Test\",\n",
      "    \"pending_state\": \"None_\",\n",
      "    \"reservation_id\": \"a0fb4749-d055-42b1-974d-a0abc6b140bb\",\n",
      "    \"reservation_state\": \"Closed\",\n",
      "    \"resource_type\": \"VM\",\n",
      "    \"site\": \"UKY\",\n",
      "    \"slice_id\": \"26502b1c-f1a6-413b-b1b7-02331c688017\"\n",
      "}, {\n",
      "    \"allocated_capacities\": \"{\\\"core\\\": 4, \\\"disk\\\": 500, \\\"ram\\\": 16}\",\n",
      "    \"allocated_labels\": \"{\\\"instance_parent\\\": \\\"lbnl-w2.fabric-testbed.net\\\"}\",\n",
      "    \"capacities\": \"{\\\"core\\\": 4, \\\"disk\\\": 128.0, \\\"ram\\\": 16}\",\n",
      "    \"capacity_hints\": \"{\\\"instance_type\\\": \\\"fabric.c4.m16.d500\\\"}\",\n",
      "    \"graph_node_id\": \"495054a9-624f-480a-a91f-b0d01eda14ae\",\n",
      "    \"join_state\": \"NoJoin\",\n",
      "    \"lease_end\": \"2021-08-09 18:34:07\",\n",
      "    \"name\": \"test 2\",\n",
      "    \"pending_state\": \"None_\",\n",
      "    \"reservation_id\": \"e66ae7b6-7c97-4229-9d3f-b2f4728766aa\",\n",
      "    \"reservation_state\": \"Failed\",\n",
      "    \"resource_type\": \"VM\",\n",
      "    \"site\": \"LBNL\",\n",
      "    \"slice_id\": \"26502b1c-f1a6-413b-b1b7-02331c688017\"\n",
      "}]\n"
     ]
    }
   ],
   "source": [
    "slice_id = slices[-1].slice_id\n",
    "status, slivers = slice_manager.slivers(slice_id = slice_id)\n",
    "\n",
    "print(\"Response Status {}\".format(status))\n",
    "if status == Status.OK:\n",
    "    print(\"Slivers {}\".format(slivers))\n",
    "else:\n",
    "    print(f\"Failure: {slivers}\")"
   ]
  },
  {
   "cell_type": "markdown",
   "id": "cf7ccce5-18a2-4e10-a7da-b6175acb12c3",
   "metadata": {},
   "source": [
    "### Create and Save Map"
   ]
  },
  {
   "cell_type": "code",
   "execution_count": 8,
   "id": "11948d09-367a-48fa-8aa3-526f87f318bf",
   "metadata": {},
   "outputs": [
    {
     "name": "stdout",
     "output_type": "stream",
     "text": [
      "Collecting package metadata (current_repodata.json): done\n",
      "Solving environment: done\n",
      "\n",
      "\n",
      "==> WARNING: A newer version of conda exists. <==\n",
      "  current version: 4.10.1\n",
      "  latest version: 4.10.3\n",
      "\n",
      "Please update conda by running\n",
      "\n",
      "    $ conda update -n base conda\n",
      "\n",
      "\n",
      "\n",
      "## Package Plan ##\n",
      "\n",
      "  environment location: /opt/conda\n",
      "\n",
      "  added / updated specs:\n",
      "    - branca\n",
      "    - folium\n",
      "\n",
      "\n",
      "The following packages will be downloaded:\n",
      "\n",
      "    package                    |            build\n",
      "    ---------------------------|-----------------\n",
      "    branca-0.4.2               |     pyhd8ed1ab_0          26 KB  conda-forge\n",
      "    folium-0.12.0              |     pyhd8ed1ab_1          64 KB  conda-forge\n",
      "    libblas-3.9.0              |      10_openblas          11 KB  conda-forge\n",
      "    libcblas-3.9.0             |      10_openblas          11 KB  conda-forge\n",
      "    libgfortran-ng-11.1.0      |       h69a702a_8          19 KB  conda-forge\n",
      "    libgfortran5-11.1.0        |       h6c583b3_8         1.7 MB  conda-forge\n",
      "    liblapack-3.9.0            |      10_openblas          11 KB  conda-forge\n",
      "    libopenblas-0.3.17         |pthreads_h8fe5266_1         9.2 MB  conda-forge\n",
      "    numpy-1.21.1               |   py39hdbf815f_0         6.2 MB  conda-forge\n",
      "    ------------------------------------------------------------\n",
      "                                           Total:        17.3 MB\n",
      "\n",
      "The following NEW packages will be INSTALLED:\n",
      "\n",
      "  branca             conda-forge/noarch::branca-0.4.2-pyhd8ed1ab_0\n",
      "  folium             conda-forge/noarch::folium-0.12.0-pyhd8ed1ab_1\n",
      "  libblas            conda-forge/linux-64::libblas-3.9.0-10_openblas\n",
      "  libcblas           conda-forge/linux-64::libcblas-3.9.0-10_openblas\n",
      "  libgfortran-ng     conda-forge/linux-64::libgfortran-ng-11.1.0-h69a702a_8\n",
      "  libgfortran5       conda-forge/linux-64::libgfortran5-11.1.0-h6c583b3_8\n",
      "  liblapack          conda-forge/linux-64::liblapack-3.9.0-10_openblas\n",
      "  libopenblas        conda-forge/linux-64::libopenblas-0.3.17-pthreads_h8fe5266_1\n",
      "  numpy              conda-forge/linux-64::numpy-1.21.1-py39hdbf815f_0\n",
      "\n",
      "\n",
      "\n",
      "Downloading and Extracting Packages\n",
      "folium-0.12.0        | 64 KB     | ##################################### | 100% \n",
      "liblapack-3.9.0      | 11 KB     | ##################################### | 100% \n",
      "branca-0.4.2         | 26 KB     | ##################################### | 100% \n",
      "libgfortran5-11.1.0  | 1.7 MB    | ##################################### | 100% \n",
      "libblas-3.9.0        | 11 KB     | ##################################### | 100% \n",
      "numpy-1.21.1         | 6.2 MB    | ##################################### | 100% \n",
      "libgfortran-ng-11.1. | 19 KB     | ##################################### | 100% \n",
      "libcblas-3.9.0       | 11 KB     | ##################################### | 100% \n",
      "libopenblas-0.3.17   | 9.2 MB    | ##################################### | 100% \n",
      "Preparing transaction: done\n",
      "Verifying transaction: done\n",
      "Executing transaction: done\n",
      "\n",
      "Note: you may need to restart the kernel to use updated packages.\n"
     ]
    }
   ],
   "source": [
    "conda install -c conda-forge folium branca"
   ]
  },
  {
   "cell_type": "code",
   "execution_count": 9,
   "id": "d7233159-60a5-4e83-918f-4adaf55be6e1",
   "metadata": {},
   "outputs": [
    {
     "data": {
      "text/html": [
       "<div style=\"width:100%;\"><div style=\"position:relative;width:100%;height:0;padding-bottom:60%;\"><span style=\"color:#565656\">Make this Notebook Trusted to load map: File -> Trust Notebook</span><iframe src=\"about:blank\" style=\"position:absolute;width:100%;height:100%;left:0;top:0;border:none !important;\" data-html=%3C%21DOCTYPE%20html%3E%0A%3Chead%3E%20%20%20%20%0A%20%20%20%20%3Cmeta%20http-equiv%3D%22content-type%22%20content%3D%22text/html%3B%20charset%3DUTF-8%22%20/%3E%0A%20%20%20%20%0A%20%20%20%20%20%20%20%20%3Cscript%3E%0A%20%20%20%20%20%20%20%20%20%20%20%20L_NO_TOUCH%20%3D%20false%3B%0A%20%20%20%20%20%20%20%20%20%20%20%20L_DISABLE_3D%20%3D%20false%3B%0A%20%20%20%20%20%20%20%20%3C/script%3E%0A%20%20%20%20%0A%20%20%20%20%3Cstyle%3Ehtml%2C%20body%20%7Bwidth%3A%20100%25%3Bheight%3A%20100%25%3Bmargin%3A%200%3Bpadding%3A%200%3B%7D%3C/style%3E%0A%20%20%20%20%3Cstyle%3E%23map%20%7Bposition%3Aabsolute%3Btop%3A0%3Bbottom%3A0%3Bright%3A0%3Bleft%3A0%3B%7D%3C/style%3E%0A%20%20%20%20%3Cscript%20src%3D%22https%3A//cdn.jsdelivr.net/npm/leaflet%401.6.0/dist/leaflet.js%22%3E%3C/script%3E%0A%20%20%20%20%3Cscript%20src%3D%22https%3A//code.jquery.com/jquery-1.12.4.min.js%22%3E%3C/script%3E%0A%20%20%20%20%3Cscript%20src%3D%22https%3A//maxcdn.bootstrapcdn.com/bootstrap/3.2.0/js/bootstrap.min.js%22%3E%3C/script%3E%0A%20%20%20%20%3Cscript%20src%3D%22https%3A//cdnjs.cloudflare.com/ajax/libs/Leaflet.awesome-markers/2.0.2/leaflet.awesome-markers.js%22%3E%3C/script%3E%0A%20%20%20%20%3Clink%20rel%3D%22stylesheet%22%20href%3D%22https%3A//cdn.jsdelivr.net/npm/leaflet%401.6.0/dist/leaflet.css%22/%3E%0A%20%20%20%20%3Clink%20rel%3D%22stylesheet%22%20href%3D%22https%3A//maxcdn.bootstrapcdn.com/bootstrap/3.2.0/css/bootstrap.min.css%22/%3E%0A%20%20%20%20%3Clink%20rel%3D%22stylesheet%22%20href%3D%22https%3A//maxcdn.bootstrapcdn.com/bootstrap/3.2.0/css/bootstrap-theme.min.css%22/%3E%0A%20%20%20%20%3Clink%20rel%3D%22stylesheet%22%20href%3D%22https%3A//maxcdn.bootstrapcdn.com/font-awesome/4.6.3/css/font-awesome.min.css%22/%3E%0A%20%20%20%20%3Clink%20rel%3D%22stylesheet%22%20href%3D%22https%3A//cdnjs.cloudflare.com/ajax/libs/Leaflet.awesome-markers/2.0.2/leaflet.awesome-markers.css%22/%3E%0A%20%20%20%20%3Clink%20rel%3D%22stylesheet%22%20href%3D%22https%3A//cdn.jsdelivr.net/gh/python-visualization/folium/folium/templates/leaflet.awesome.rotate.min.css%22/%3E%0A%20%20%20%20%0A%20%20%20%20%20%20%20%20%20%20%20%20%3Cmeta%20name%3D%22viewport%22%20content%3D%22width%3Ddevice-width%2C%0A%20%20%20%20%20%20%20%20%20%20%20%20%20%20%20%20initial-scale%3D1.0%2C%20maximum-scale%3D1.0%2C%20user-scalable%3Dno%22%20/%3E%0A%20%20%20%20%20%20%20%20%20%20%20%20%3Cstyle%3E%0A%20%20%20%20%20%20%20%20%20%20%20%20%20%20%20%20%23map_7a8f8f360bfa4dd5996bb0d0bfe9ee60%20%7B%0A%20%20%20%20%20%20%20%20%20%20%20%20%20%20%20%20%20%20%20%20position%3A%20relative%3B%0A%20%20%20%20%20%20%20%20%20%20%20%20%20%20%20%20%20%20%20%20width%3A%20100.0%25%3B%0A%20%20%20%20%20%20%20%20%20%20%20%20%20%20%20%20%20%20%20%20height%3A%20100.0%25%3B%0A%20%20%20%20%20%20%20%20%20%20%20%20%20%20%20%20%20%20%20%20left%3A%200.0%25%3B%0A%20%20%20%20%20%20%20%20%20%20%20%20%20%20%20%20%20%20%20%20top%3A%200.0%25%3B%0A%20%20%20%20%20%20%20%20%20%20%20%20%20%20%20%20%7D%0A%20%20%20%20%20%20%20%20%20%20%20%20%3C/style%3E%0A%20%20%20%20%20%20%20%20%0A%20%20%20%20%3Cscript%20src%3D%22https%3A//cdnjs.cloudflare.com/ajax/libs/leaflet.markercluster/1.1.0/leaflet.markercluster.js%22%3E%3C/script%3E%0A%20%20%20%20%3Clink%20rel%3D%22stylesheet%22%20href%3D%22https%3A//cdnjs.cloudflare.com/ajax/libs/leaflet.markercluster/1.1.0/MarkerCluster.css%22/%3E%0A%20%20%20%20%3Clink%20rel%3D%22stylesheet%22%20href%3D%22https%3A//cdnjs.cloudflare.com/ajax/libs/leaflet.markercluster/1.1.0/MarkerCluster.Default.css%22/%3E%0A%3C/head%3E%0A%3Cbody%3E%20%20%20%20%0A%20%20%20%20%0A%20%20%20%20%20%20%20%20%20%20%20%20%3Cdiv%20class%3D%22folium-map%22%20id%3D%22map_7a8f8f360bfa4dd5996bb0d0bfe9ee60%22%20%3E%3C/div%3E%0A%20%20%20%20%20%20%20%20%0A%3C/body%3E%0A%3Cscript%3E%20%20%20%20%0A%20%20%20%20%0A%20%20%20%20%20%20%20%20%20%20%20%20var%20map_7a8f8f360bfa4dd5996bb0d0bfe9ee60%20%3D%20L.map%28%0A%20%20%20%20%20%20%20%20%20%20%20%20%20%20%20%20%22map_7a8f8f360bfa4dd5996bb0d0bfe9ee60%22%2C%0A%20%20%20%20%20%20%20%20%20%20%20%20%20%20%20%20%7B%0A%20%20%20%20%20%20%20%20%20%20%20%20%20%20%20%20%20%20%20%20center%3A%20%5B38.12480976137421%2C%20-95.7129%5D%2C%0A%20%20%20%20%20%20%20%20%20%20%20%20%20%20%20%20%20%20%20%20crs%3A%20L.CRS.EPSG3857%2C%0A%20%20%20%20%20%20%20%20%20%20%20%20%20%20%20%20%20%20%20%20zoom%3A%204.2%2C%0A%20%20%20%20%20%20%20%20%20%20%20%20%20%20%20%20%20%20%20%20zoomControl%3A%20true%2C%0A%20%20%20%20%20%20%20%20%20%20%20%20%20%20%20%20%20%20%20%20preferCanvas%3A%20false%2C%0A%20%20%20%20%20%20%20%20%20%20%20%20%20%20%20%20%7D%0A%20%20%20%20%20%20%20%20%20%20%20%20%29%3B%0A%0A%20%20%20%20%20%20%20%20%20%20%20%20%0A%0A%20%20%20%20%20%20%20%20%0A%20%20%20%20%0A%20%20%20%20%20%20%20%20%20%20%20%20var%20tile_layer_20b65c3042164cbea461c00e4fe387be%20%3D%20L.tileLayer%28%0A%20%20%20%20%20%20%20%20%20%20%20%20%20%20%20%20%22https%3A//%7Bs%7D.tile.openstreetmap.org/%7Bz%7D/%7Bx%7D/%7By%7D.png%22%2C%0A%20%20%20%20%20%20%20%20%20%20%20%20%20%20%20%20%7B%22attribution%22%3A%20%22Data%20by%20%5Cu0026copy%3B%20%5Cu003ca%20href%3D%5C%22http%3A//openstreetmap.org%5C%22%5Cu003eOpenStreetMap%5Cu003c/a%5Cu003e%2C%20under%20%5Cu003ca%20href%3D%5C%22http%3A//www.openstreetmap.org/copyright%5C%22%5Cu003eODbL%5Cu003c/a%5Cu003e.%22%2C%20%22detectRetina%22%3A%20false%2C%20%22maxNativeZoom%22%3A%2018%2C%20%22maxZoom%22%3A%2018%2C%20%22minZoom%22%3A%200%2C%20%22noWrap%22%3A%20false%2C%20%22opacity%22%3A%201%2C%20%22subdomains%22%3A%20%22abc%22%2C%20%22tms%22%3A%20false%7D%0A%20%20%20%20%20%20%20%20%20%20%20%20%29.addTo%28map_7a8f8f360bfa4dd5996bb0d0bfe9ee60%29%3B%0A%20%20%20%20%20%20%20%20%0A%20%20%20%20%0A%20%20%20%20%20%20%20%20%20%20%20%20var%20marker_cluster_57419f73fdd24cacb5d2b324361fa788%20%3D%20L.markerClusterGroup%28%0A%20%20%20%20%20%20%20%20%20%20%20%20%20%20%20%20%7B%7D%0A%20%20%20%20%20%20%20%20%20%20%20%20%29%3B%0A%20%20%20%20%20%20%20%20%20%20%20%20map_7a8f8f360bfa4dd5996bb0d0bfe9ee60.addLayer%28marker_cluster_57419f73fdd24cacb5d2b324361fa788%29%3B%0A%20%20%20%20%20%20%20%20%0A%20%20%20%20%0A%20%20%20%20%20%20%20%20%20%20%20%20var%20marker_8d383ee90ec9456bacb97d2aaecc54bd%20%3D%20L.marker%28%0A%20%20%20%20%20%20%20%20%20%20%20%20%20%20%20%20%5B38.03154264461649%2C%20-84.50343326019218%5D%2C%0A%20%20%20%20%20%20%20%20%20%20%20%20%20%20%20%20%7B%7D%0A%20%20%20%20%20%20%20%20%20%20%20%20%29.addTo%28marker_cluster_57419f73fdd24cacb5d2b324361fa788%29%3B%0A%20%20%20%20%20%20%20%20%0A%20%20%20%20%0A%20%20%20%20%20%20%20%20%20%20%20%20var%20icon_1c9b61b493614a75aa3ac800918a5756%20%3D%20L.AwesomeMarkers.icon%28%0A%20%20%20%20%20%20%20%20%20%20%20%20%20%20%20%20%7B%22extraClasses%22%3A%20%22fa-rotate-0%22%2C%20%22icon%22%3A%20%22server%22%2C%20%22iconColor%22%3A%20%22white%22%2C%20%22markerColor%22%3A%20%22green%22%2C%20%22prefix%22%3A%20%22fa%22%7D%0A%20%20%20%20%20%20%20%20%20%20%20%20%29%3B%0A%20%20%20%20%20%20%20%20%20%20%20%20marker_8d383ee90ec9456bacb97d2aaecc54bd.setIcon%28icon_1c9b61b493614a75aa3ac800918a5756%29%3B%0A%20%20%20%20%20%20%20%20%0A%20%20%20%20%0A%20%20%20%20%20%20%20%20var%20popup_09d66e59d4ee468b976c73cbaa7fc1b2%20%3D%20L.popup%28%7B%22maxWidth%22%3A%20300%7D%29%3B%0A%0A%20%20%20%20%20%20%20%20%0A%20%20%20%20%20%20%20%20%20%20%20%20var%20i_frame_c3e575a29ea047cab12bf459c80780cb%20%3D%20%24%28%60%3Ciframe%20src%3D%22data%3Atext/html%3Bcharset%3Dutf-8%3Bbase64%2CCiAgICA8c3Ryb25nPlJlc291cmNlOiBOb25lPC9zdHJvbmc%2BPGJyPlNpdGU6IFVLWTxicj5DYXBhY2l0aWVzOiB7IGNvcmU6IDQgLCByYW06IDE2IEcsIGRpc2s6IDEyOC4wIEd9%22%20width%3D%22300%22%20style%3D%22border%3Anone%20%21important%3B%22%20height%3D%2260%22%3E%3C/iframe%3E%60%29%5B0%5D%3B%0A%20%20%20%20%20%20%20%20%20%20%20%20popup_09d66e59d4ee468b976c73cbaa7fc1b2.setContent%28i_frame_c3e575a29ea047cab12bf459c80780cb%29%3B%0A%20%20%20%20%20%20%20%20%0A%0A%20%20%20%20%20%20%20%20marker_8d383ee90ec9456bacb97d2aaecc54bd.bindPopup%28popup_09d66e59d4ee468b976c73cbaa7fc1b2%29%0A%20%20%20%20%20%20%20%20%3B%0A%0A%20%20%20%20%20%20%20%20%0A%20%20%20%20%0A%20%20%20%20%0A%20%20%20%20%20%20%20%20%20%20%20%20var%20marker_81f493da2a684cc69c6b694575635e71%20%3D%20L.marker%28%0A%20%20%20%20%20%20%20%20%20%20%20%20%20%20%20%20%5B38.03154264461649%2C%20-84.50343326019218%5D%2C%0A%20%20%20%20%20%20%20%20%20%20%20%20%20%20%20%20%7B%7D%0A%20%20%20%20%20%20%20%20%20%20%20%20%29.addTo%28marker_cluster_57419f73fdd24cacb5d2b324361fa788%29%3B%0A%20%20%20%20%20%20%20%20%0A%20%20%20%20%0A%20%20%20%20%20%20%20%20%20%20%20%20var%20icon_8236ee5cd57340638965fb10e441f357%20%3D%20L.AwesomeMarkers.icon%28%0A%20%20%20%20%20%20%20%20%20%20%20%20%20%20%20%20%7B%22extraClasses%22%3A%20%22fa-rotate-0%22%2C%20%22icon%22%3A%20%22server%22%2C%20%22iconColor%22%3A%20%22white%22%2C%20%22markerColor%22%3A%20%22green%22%2C%20%22prefix%22%3A%20%22fa%22%7D%0A%20%20%20%20%20%20%20%20%20%20%20%20%29%3B%0A%20%20%20%20%20%20%20%20%20%20%20%20marker_81f493da2a684cc69c6b694575635e71.setIcon%28icon_8236ee5cd57340638965fb10e441f357%29%3B%0A%20%20%20%20%20%20%20%20%0A%20%20%20%20%0A%20%20%20%20%20%20%20%20var%20popup_93c7adb6e0c04ab7a787338a544452a2%20%3D%20L.popup%28%7B%22maxWidth%22%3A%20300%7D%29%3B%0A%0A%20%20%20%20%20%20%20%20%0A%20%20%20%20%20%20%20%20%20%20%20%20var%20i_frame_536684e2d94c498d8021d444903c6c9e%20%3D%20%24%28%60%3Ciframe%20src%3D%22data%3Atext/html%3Bcharset%3Dutf-8%3Bbase64%2CCiAgICA8c3Ryb25nPlJlc291cmNlOiBUZXN0PC9zdHJvbmc%2BPGJyPlNpdGU6IFVLWTxicj5DYXBhY2l0aWVzOiB7IGNvcmU6IDQgLCByYW06IDE2IEcsIGRpc2s6IDEyOC4wIEd9%22%20width%3D%22300%22%20style%3D%22border%3Anone%20%21important%3B%22%20height%3D%2260%22%3E%3C/iframe%3E%60%29%5B0%5D%3B%0A%20%20%20%20%20%20%20%20%20%20%20%20popup_93c7adb6e0c04ab7a787338a544452a2.setContent%28i_frame_536684e2d94c498d8021d444903c6c9e%29%3B%0A%20%20%20%20%20%20%20%20%0A%0A%20%20%20%20%20%20%20%20marker_81f493da2a684cc69c6b694575635e71.bindPopup%28popup_93c7adb6e0c04ab7a787338a544452a2%29%0A%20%20%20%20%20%20%20%20%3B%0A%0A%20%20%20%20%20%20%20%20%0A%20%20%20%20%0A%20%20%20%20%0A%20%20%20%20%20%20%20%20%20%20%20%20var%20marker_da87750a90dc48159ea5bdb0aa0f1c8f%20%3D%20L.marker%28%0A%20%20%20%20%20%20%20%20%20%20%20%20%20%20%20%20%5B38.94977311613871%2C%20-122.61289106281062%5D%2C%0A%20%20%20%20%20%20%20%20%20%20%20%20%20%20%20%20%7B%7D%0A%20%20%20%20%20%20%20%20%20%20%20%20%29.addTo%28marker_cluster_57419f73fdd24cacb5d2b324361fa788%29%3B%0A%20%20%20%20%20%20%20%20%0A%20%20%20%20%0A%20%20%20%20%20%20%20%20%20%20%20%20var%20icon_075f7affaccb40a1a4ffecb491902208%20%3D%20L.AwesomeMarkers.icon%28%0A%20%20%20%20%20%20%20%20%20%20%20%20%20%20%20%20%7B%22extraClasses%22%3A%20%22fa-rotate-0%22%2C%20%22icon%22%3A%20%22server%22%2C%20%22iconColor%22%3A%20%22white%22%2C%20%22markerColor%22%3A%20%22green%22%2C%20%22prefix%22%3A%20%22fa%22%7D%0A%20%20%20%20%20%20%20%20%20%20%20%20%29%3B%0A%20%20%20%20%20%20%20%20%20%20%20%20marker_da87750a90dc48159ea5bdb0aa0f1c8f.setIcon%28icon_075f7affaccb40a1a4ffecb491902208%29%3B%0A%20%20%20%20%20%20%20%20%0A%20%20%20%20%0A%20%20%20%20%20%20%20%20var%20popup_4d14dbfbeb644c6d9ed28ddf92b8c204%20%3D%20L.popup%28%7B%22maxWidth%22%3A%20300%7D%29%3B%0A%0A%20%20%20%20%20%20%20%20%0A%20%20%20%20%20%20%20%20%20%20%20%20var%20i_frame_e841f44dfd0147db955f67aef096c4af%20%3D%20%24%28%60%3Ciframe%20src%3D%22data%3Atext/html%3Bcharset%3Dutf-8%3Bbase64%2CCiAgICA8c3Ryb25nPlJlc291cmNlOiB0ZXN0IDI8L3N0cm9uZz48YnI%2BU2l0ZTogTEJOTDxicj5DYXBhY2l0aWVzOiB7IGNvcmU6IDQgLCByYW06IDE2IEcsIGRpc2s6IDEyOC4wIEd9%22%20width%3D%22300%22%20style%3D%22border%3Anone%20%21important%3B%22%20height%3D%2260%22%3E%3C/iframe%3E%60%29%5B0%5D%3B%0A%20%20%20%20%20%20%20%20%20%20%20%20popup_4d14dbfbeb644c6d9ed28ddf92b8c204.setContent%28i_frame_e841f44dfd0147db955f67aef096c4af%29%3B%0A%20%20%20%20%20%20%20%20%0A%0A%20%20%20%20%20%20%20%20marker_da87750a90dc48159ea5bdb0aa0f1c8f.bindPopup%28popup_4d14dbfbeb644c6d9ed28ddf92b8c204%29%0A%20%20%20%20%20%20%20%20%3B%0A%0A%20%20%20%20%20%20%20%20%0A%20%20%20%20%0A%3C/script%3E onload=\"this.contentDocument.open();this.contentDocument.write(    decodeURIComponent(this.getAttribute('data-html')));this.contentDocument.close();\" allowfullscreen webkitallowfullscreen mozallowfullscreen></iframe></div></div>"
      ],
      "text/plain": [
       "<folium.folium.Map at 0x7fe117cf1100>"
      ]
     },
     "execution_count": 9,
     "metadata": {},
     "output_type": "execute_result"
    }
   ],
   "source": [
    "site_dict = {'UKY': (38.03154264461649, -84.50343326019218), 'RENC': (35.93996154497003, -79.01809264307425), 'LBNL': (38.94977311613871, -122.61289106281062)}\n",
    "labels = {}\n",
    "\n",
    "for sliver in slivers:\n",
    "    status, sliver_status = slice_manager.sliver_status(slice_id = slice_id, sliver_id = sliver.reservation_id)\n",
    "    if sliver_status.resource_type == \"VM\":\n",
    "        name = sliver_status.name\n",
    "        site = sliver_status.site\n",
    "        capacities = sliver_status.capacities\n",
    "        info = (site, capacities, site_dict[site])\n",
    "        labels[name] = info\n",
    "\n",
    "import folium\n",
    "import branca\n",
    "from folium.plugins import MarkerCluster\n",
    "from ipywidgets import Text, HTML, HBox, Layout, VBox\n",
    "\n",
    "base = folium.Map(location = (38.12480976137421, -95.7129), zoom_start = 4.2)\n",
    "\n",
    "locations = []\n",
    "popups = []\n",
    "icons = []\n",
    "\n",
    "\n",
    "for label in labels:\n",
    "    locations.append(site_dict[labels[label][0]])\n",
    "    popups.append(folium.Popup(branca.element.IFrame(html = f'<strong>Resource: {label}</strong><br>Site: {labels[label][0]}<br>Capacities: {labels[label][1]}', width = 300, height = 60), max_width = 300))\n",
    "    icons.append(folium.Icon(color = 'green', icon = 'server', prefix = 'fa'))\n",
    "    \n",
    "base.add_child(MarkerCluster(locations = locations, popups = popups, icons = icons))\n",
    "\n",
    "base.save('map.html')\n",
    "\n",
    "base"
   ]
  },
  {
   "cell_type": "code",
   "execution_count": null,
   "id": "f6924c3c-de21-4ba3-8d85-7a91b395a6fb",
   "metadata": {},
   "outputs": [],
   "source": []
  }
 ],
 "metadata": {
  "kernelspec": {
   "display_name": "Python 3",
   "language": "python",
   "name": "python3"
  },
  "language_info": {
   "codemirror_mode": {
    "name": "ipython",
    "version": 3
   },
   "file_extension": ".py",
   "mimetype": "text/x-python",
   "name": "python",
   "nbconvert_exporter": "python",
   "pygments_lexer": "ipython3",
   "version": "3.9.2"
  }
 },
 "nbformat": 4,
 "nbformat_minor": 5
}
