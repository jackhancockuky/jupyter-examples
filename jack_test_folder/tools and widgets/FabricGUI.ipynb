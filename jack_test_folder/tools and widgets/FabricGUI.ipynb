{
 "cells": [
  {
   "cell_type": "code",
   "execution_count": 1,
   "id": "32702dee-158c-4580-9fc6-9af44bf7ea51",
   "metadata": {},
   "outputs": [
    {
     "name": "stdout",
     "output_type": "stream",
     "text": [
      "Collecting package metadata (current_repodata.json): done\n",
      "Solving environment: done\n",
      "\n",
      "\n",
      "==> WARNING: A newer version of conda exists. <==\n",
      "  current version: 4.10.1\n",
      "  latest version: 4.10.3\n",
      "\n",
      "Please update conda by running\n",
      "\n",
      "    $ conda update -n base conda\n",
      "\n",
      "\n",
      "\n",
      "## Package Plan ##\n",
      "\n",
      "  environment location: /opt/conda\n",
      "\n",
      "  added / updated specs:\n",
      "    - ipycanvas\n",
      "\n",
      "\n",
      "The following packages will be downloaded:\n",
      "\n",
      "    package                    |            build\n",
      "    ---------------------------|-----------------\n",
      "    freetype-2.10.4            |       h0708190_1         890 KB  conda-forge\n",
      "    ipycanvas-0.9.0            |     pyhd8ed1ab_0         134 KB  conda-forge\n",
      "    ipywidgets-7.6.3           |     pyhd3deb0d_0         101 KB  conda-forge\n",
      "    jbig-2.1                   |    h7f98852_2003          43 KB  conda-forge\n",
      "    jpeg-9d                    |       h36c2ea0_0         264 KB  conda-forge\n",
      "    jupyterlab_widgets-1.0.0   |     pyhd8ed1ab_1         130 KB  conda-forge\n",
      "    lcms2-2.12                 |       hddcbb42_0         443 KB  conda-forge\n",
      "    lerc-2.2.1                 |       h9c3ff4c_0         213 KB  conda-forge\n",
      "    libblas-3.9.0              |      10_openblas          11 KB  conda-forge\n",
      "    libcblas-3.9.0             |      10_openblas          11 KB  conda-forge\n",
      "    libdeflate-1.7             |       h7f98852_5          67 KB  conda-forge\n",
      "    libgfortran-ng-11.1.0      |       h69a702a_4          18 KB  conda-forge\n",
      "    libgfortran5-11.1.0        |       h6c583b3_4         1.7 MB  conda-forge\n",
      "    liblapack-3.9.0            |      10_openblas          11 KB  conda-forge\n",
      "    libopenblas-0.3.17         |pthreads_h8fe5266_1         9.2 MB  conda-forge\n",
      "    libpng-1.6.37              |       h21135ba_2         306 KB  conda-forge\n",
      "    libtiff-4.3.0              |       hf544144_1         668 KB  conda-forge\n",
      "    libwebp-base-1.2.0         |       h7f98852_2         815 KB  conda-forge\n",
      "    numpy-1.21.1               |   py39hdbf815f_0         6.2 MB  conda-forge\n",
      "    olefile-0.46               |     pyh9f0ad1d_1          32 KB  conda-forge\n",
      "    openjpeg-2.4.0             |       hb52868f_1         444 KB  conda-forge\n",
      "    orjson-3.6.0               |   py39h3811e60_0         243 KB  conda-forge\n",
      "    pillow-8.3.1               |   py39ha612740_0         687 KB  conda-forge\n",
      "    widgetsnbextension-3.5.1   |   py39hf3d152e_4         1.8 MB  conda-forge\n",
      "    ------------------------------------------------------------\n",
      "                                           Total:        24.3 MB\n",
      "\n",
      "The following NEW packages will be INSTALLED:\n",
      "\n",
      "  freetype           conda-forge/linux-64::freetype-2.10.4-h0708190_1\n",
      "  ipycanvas          conda-forge/noarch::ipycanvas-0.9.0-pyhd8ed1ab_0\n",
      "  ipywidgets         conda-forge/noarch::ipywidgets-7.6.3-pyhd3deb0d_0\n",
      "  jbig               conda-forge/linux-64::jbig-2.1-h7f98852_2003\n",
      "  jpeg               conda-forge/linux-64::jpeg-9d-h36c2ea0_0\n",
      "  jupyterlab_widgets conda-forge/noarch::jupyterlab_widgets-1.0.0-pyhd8ed1ab_1\n",
      "  lcms2              conda-forge/linux-64::lcms2-2.12-hddcbb42_0\n",
      "  lerc               conda-forge/linux-64::lerc-2.2.1-h9c3ff4c_0\n",
      "  libblas            conda-forge/linux-64::libblas-3.9.0-10_openblas\n",
      "  libcblas           conda-forge/linux-64::libcblas-3.9.0-10_openblas\n",
      "  libdeflate         conda-forge/linux-64::libdeflate-1.7-h7f98852_5\n",
      "  libgfortran-ng     conda-forge/linux-64::libgfortran-ng-11.1.0-h69a702a_4\n",
      "  libgfortran5       conda-forge/linux-64::libgfortran5-11.1.0-h6c583b3_4\n",
      "  liblapack          conda-forge/linux-64::liblapack-3.9.0-10_openblas\n",
      "  libopenblas        conda-forge/linux-64::libopenblas-0.3.17-pthreads_h8fe5266_1\n",
      "  libpng             conda-forge/linux-64::libpng-1.6.37-h21135ba_2\n",
      "  libtiff            conda-forge/linux-64::libtiff-4.3.0-hf544144_1\n",
      "  libwebp-base       conda-forge/linux-64::libwebp-base-1.2.0-h7f98852_2\n",
      "  numpy              conda-forge/linux-64::numpy-1.21.1-py39hdbf815f_0\n",
      "  olefile            conda-forge/noarch::olefile-0.46-pyh9f0ad1d_1\n",
      "  openjpeg           conda-forge/linux-64::openjpeg-2.4.0-hb52868f_1\n",
      "  orjson             conda-forge/linux-64::orjson-3.6.0-py39h3811e60_0\n",
      "  pillow             conda-forge/linux-64::pillow-8.3.1-py39ha612740_0\n",
      "  widgetsnbextension conda-forge/linux-64::widgetsnbextension-3.5.1-py39hf3d152e_4\n",
      "\n",
      "\n",
      "\n",
      "Downloading and Extracting Packages\n",
      "jpeg-9d              | 264 KB    | ##################################### | 100% \n",
      "jbig-2.1             | 43 KB     | ##################################### | 100% \n",
      "widgetsnbextension-3 | 1.8 MB    | ##################################### | 100% \n",
      "libgfortran5-11.1.0  | 1.7 MB    | ##################################### | 100% \n",
      "libpng-1.6.37        | 306 KB    | ##################################### | 100% \n",
      "libdeflate-1.7       | 67 KB     | ##################################### | 100% \n",
      "libwebp-base-1.2.0   | 815 KB    | ##################################### | 100% \n",
      "lerc-2.2.1           | 213 KB    | ##################################### | 100% \n",
      "libtiff-4.3.0        | 668 KB    | ##################################### | 100% \n",
      "orjson-3.6.0         | 243 KB    | ##################################### | 100% \n",
      "numpy-1.21.1         | 6.2 MB    | ##################################### | 100% \n",
      "libgfortran-ng-11.1. | 18 KB     | ##################################### | 100% \n",
      "olefile-0.46         | 32 KB     | ##################################### | 100% \n",
      "libblas-3.9.0        | 11 KB     | ##################################### | 100% \n",
      "pillow-8.3.1         | 687 KB    | ##################################### | 100% \n",
      "openjpeg-2.4.0       | 444 KB    | ##################################### | 100% \n",
      "lcms2-2.12           | 443 KB    | ##################################### | 100% \n",
      "liblapack-3.9.0      | 11 KB     | ##################################### | 100% \n",
      "jupyterlab_widgets-1 | 130 KB    | ##################################### | 100% \n",
      "ipywidgets-7.6.3     | 101 KB    | ##################################### | 100% \n",
      "libcblas-3.9.0       | 11 KB     | ##################################### | 100% \n",
      "libopenblas-0.3.17   | 9.2 MB    | ##################################### | 100% \n",
      "ipycanvas-0.9.0      | 134 KB    | ##################################### | 100% \n",
      "freetype-2.10.4      | 890 KB    | ##################################### | 100% \n",
      "Preparing transaction: done\n",
      "Verifying transaction: done\n",
      "Executing transaction: / Enabling notebook extension jupyter-js-widgets/extension...\n",
      "      - Validating: \u001b[32mOK\u001b[0m\n",
      "\n",
      "done\n",
      "\n",
      "Note: you may need to restart the kernel to use updated packages.\n"
     ]
    }
   ],
   "source": [
    "conda install -c conda-forge ipycanvas"
   ]
  },
  {
   "cell_type": "code",
   "execution_count": 2,
   "id": "5f706283-bfb1-465d-b6db-89f3d39cd538",
   "metadata": {},
   "outputs": [],
   "source": [
    "from ipycanvas import Canvas, hold_canvas\n",
    "import ipywidgets as widgets\n",
    "from fabrictestbed.slice_editor import ExperimentTopology, Capacities, ComponentType, ComponentModelType, ServiceType\n",
    "\n",
    "\n",
    "class VM():\n",
    "    def __init__(self, x,y,name=\"VM\", size=50):\n",
    "        self.x = x\n",
    "        self.y = y\n",
    "        self.name = name\n",
    "        self.size = size\n",
    "        self.Site = \"UKY\"\n",
    "        self.coreCount = \"4\"\n",
    "        self.ramCount = \"64\"\n",
    "        self.diskCount = \"500\"\n",
    "        self.IMGtype = \"qcow2\"\n",
    "        self.IMGref = \"default_centos_8\"\n",
    "        self.PCIs = []\n",
    "        \n",
    "        self.selected = False\n",
    "    def draw(self):\n",
    "        if self.selected:\n",
    "            return \"#00FF00\",self.x,self.y,self.size,self.name\n",
    "        else:\n",
    "            return \"#000000\",self.x,self.y,self.size,self.name\n",
    "    def setPos(self,x,y):\n",
    "        self.x = x\n",
    "        self.y = y\n",
    "    def isSelected(self,X,Y):\n",
    "        dist = pow(pow(X-self.x,2)+pow(Y-self.y,2),.5)\n",
    "        if(dist<=self.size):\n",
    "            self.selected=True\n",
    "            return True\n",
    "        else:\n",
    "            self.selected=False\n",
    "            return False\n",
    "    def isSelectedSafe(self,X,Y):\n",
    "        dist = pow(pow(X-self.x,2)+pow(Y-self.y,2),.5)\n",
    "        if(dist<=self.size):\n",
    "            self.selected=False\n",
    "            return True\n",
    "        else:\n",
    "            self.selected=False\n",
    "            return False\n",
    "        \n",
    "    def setSelected(self,state):\n",
    "        self.selected=state\n",
    "class VMLink:\n",
    "    def __init__(self,N1,N2, size=20):\n",
    "        self.Endpoints = [N1,N2]\n",
    "        self.x = (N1.x + N2.x)/2\n",
    "        self.y = (N1.y + N2.y)/2\n",
    "        self.size = size\n",
    "        self.selected=False\n",
    "        self.name=\"link\"\n",
    "        self.netType=\"L2PTP\"\n",
    "        self.linkInfo = []\n",
    "    def draw(self):\n",
    "        color = \"#FFFFFF\"\n",
    "        if self.selected == True:\n",
    "            color = \"#00FF00\"\n",
    "        return self.x, self.y, self.size, self.Endpoints, color\n",
    "    def isSelected(self,X,Y):\n",
    "        dist = pow(pow(X-self.x,2)+pow(Y-self.y,2),.5)\n",
    "        if(dist<=self.size):\n",
    "            self.selected=True\n",
    "            return True\n",
    "        else:\n",
    "            self.selected=False\n",
    "            return False\n",
    "    def isSelectedSafe(self,X,Y):\n",
    "        dist = pow(pow(X-self.x,2)+pow(Y-self.y,2),.5)\n",
    "        if(dist<=self.size):\n",
    "            self.selected=False\n",
    "            return True\n",
    "        else:\n",
    "            self.selected=False\n",
    "            return False\n",
    "    def setPos(self,x,y):\n",
    "        self.x = x\n",
    "        self.y = y\n",
    "    def setSelected(self,state):\n",
    "        self.selected=state\n",
    "    def addLink(self,VM):\n",
    "        self.Endpoints.append(VM)\n",
    "class FabricGUI:\n",
    "    def findPCIlist(self):\n",
    "        PCIs = ComponentModelType.__members__.copy()\n",
    "        for i in PCIs:\n",
    "            self.PCInames.append(i)\n",
    "    def findNetworkTlist(self):\n",
    "        NT = ServiceType.__members__.copy()\n",
    "        for i in NT:\n",
    "            self.networkNames.append(i)\n",
    "    def deleteSVM(self,b):\n",
    "        self.VMs.remove(self.selectedVM)\n",
    "        self.closeVMmenu()\n",
    "        self.draw()\n",
    "    def deleteSLink(self,b):\n",
    "        self.Links.remove(self.selectedLink)\n",
    "        self.closeLinkmenu()\n",
    "        self.draw()\n",
    "    def loadVM(self,vm):\n",
    "        self.vmName.value = vm.name\n",
    "        self.Site.value = vm.Site\n",
    "        self.coreCount.value = vm.coreCount\n",
    "        self.ramCount.value = vm.ramCount\n",
    "        self.diskCount.value = vm.diskCount\n",
    "        self.IMGtype.value = vm.IMGtype\n",
    "        self.IMGref = vm.IMGref\n",
    "        self.loadPCIs(vm.PCIs)\n",
    "    def saveVM(self,change):\n",
    "        self.selectedVM.name = self.vmName.value\n",
    "        self.selectedVM.Site = self.Site.value\n",
    "        self.selectedVM.coreCount = self.coreCount.value\n",
    "        self.selectedVM.ramCount = self.ramCount.value\n",
    "        self.selectedVM.diskCount = self.diskCount.value\n",
    "        self.selectedVM.IMGtype = self.IMGtype.value\n",
    "        #TODO why does this value err?\n",
    "        #self.selectedVM.IMGref = self.IMGref.value\n",
    "        tempPCIs = []\n",
    "        counter = 0\n",
    "        \n",
    "        for i in range(int(len(self.PCIbox.children)/2)):\n",
    "            tempPCIs.append([self.PCIbox.children[counter].value,self.PCIbox.children[counter+1].value])\n",
    "            counter+=2\n",
    "        self.selectedVM.PCIs = tempPCIs\n",
    "    def loadLink(self,link):\n",
    "        self.linkName.value =link.name\n",
    "        self.netType.value = link.type\n",
    "        Links = []\n",
    "        if link.linkInfo == []:\n",
    "            for vm in link.Endpoints:\n",
    "                name, pnames = self.loadNIC(vm)\n",
    "                if pnames != []:\n",
    "                    cur = widgets.Dropdown(options=pnames,description=name+\":\",disabled=False,)\n",
    "                    cur.observe(self.saveLink)\n",
    "                else:\n",
    "                    cur = widgets.Label(\"VM  \" + name +\" has no NIC device!\")\n",
    "                    cur.observe(self.saveLink)\n",
    "                Links.append(cur)\n",
    "        else:\n",
    "            for count,vm in enumerate(link.Endpoints):\n",
    "                name, pnames = self.loadNIC(vm)\n",
    "                if pnames != []:\n",
    "                    if link.linkInfo[count] in pnames:\n",
    "                        cur = widgets.Dropdown(options=pnames,value=link.linkInfo[count],description=name+\":\",disabled=False,)\n",
    "                        cur.observe(self.saveLink)\n",
    "                    else:\n",
    "                        cur = widgets.Dropdown(options=pnames,description=name+\":\",disabled=False,)\n",
    "                        cur.observe(self.saveLink)\n",
    "                else:\n",
    "                    cur = widgets.Label(\"VM  \" + name +\" has no NIC device!\")\n",
    "                Links.append(cur)\n",
    "        self.Linkbox.children = Links\n",
    "    def saveLink(self,change):\n",
    "        self.selectedLink.name = self.linkName.value\n",
    "        self.selectedLink.type = self.netType.value\n",
    "        Links = []\n",
    "        for i in self.Linkbox.children:\n",
    "            Links.append(i.value)\n",
    "        self.selectedLink.linkInfo = Links\n",
    "    def loadPCIs(self,PCIs):\n",
    "        pciList = []\n",
    "        for i in PCIs:\n",
    "            #Without this hack names don't save?\n",
    "            display(i[0])\n",
    "            name = widgets.Text(value=i[0],description='PCI Name:',disabled=False)\n",
    "            wid = widgets.Dropdown(options=self.PCInames,value=i[1],description='PCI type:',disabled=False,)\n",
    "            pciList = pciList+[name,wid]\n",
    "        for i in pciList:\n",
    "            i.observe(self.saveVM)\n",
    "        self.PCIbox.children = pciList\n",
    "    def loadNIC(self,vm):\n",
    "        nicList = []\n",
    "        PCIs = vm.PCIs\n",
    "        for i in PCIs:\n",
    "            if \"NIC\" in i[1]:\n",
    "                nicList.append(i[0]+\"-p1\")\n",
    "                nicList.append(i[0]+\"-p2\")\n",
    "        return vm.name, nicList\n",
    "        \n",
    "        self.Linkbox.children = pciList\n",
    "    def openVMmenu(self):\n",
    "        for control in self.VMcontrols:\n",
    "            control.layout.display = \"block\"\n",
    "        \n",
    "    def closeVMmenu(self):\n",
    "        for control in self.VMcontrols:\n",
    "            control.layout.display = \"none\"\n",
    "        \n",
    "        self.PCIbox.children=[]\n",
    "        self.PCItemp = []\n",
    "    \n",
    "    def openLinkmenu(self):\n",
    "        for control in self.Linkcontrols:\n",
    "            control.layout.display = \"block\"\n",
    "            \n",
    "    def closeLinkmenu(self):\n",
    "        for control in self.Linkcontrols:\n",
    "            control.layout.display = \"none\"\n",
    "    def addPCI(self,b):\n",
    "        name = widgets.Text(value=\"PCIname\",description='PCI Name:',disabled=False)\n",
    "        wid = widgets.Dropdown(options=self.PCInames,description='PCI type:',disabled=False,)\n",
    "        name.observe(self.saveVM)\n",
    "        wid.observe(self.saveVM)\n",
    "        self.PCItemp.append([name,wid])\n",
    "        self.PCIbox.children = list(self.PCIbox.children)+[name,wid]\n",
    "    def __init__(self, width=100, height =100, BG ='#584f4e'):\n",
    "        self.VMs=[]\n",
    "        self.Links = []\n",
    "        self.PCInames = []\n",
    "        self.findPCIlist()\n",
    "        self.networkNames = []\n",
    "        self.findNetworkTlist()\n",
    "        self.PCItemp = []\n",
    "        self.Held = False\n",
    "        self.mouseX=0\n",
    "        self.mouseY=0\n",
    "        self.S1 = None\n",
    "        self.S2 = None\n",
    "        self.selectedVM = None\n",
    "        self.selectedLink = None\n",
    "        self.width=width\n",
    "        self.height=height\n",
    "        self.BG = BG\n",
    "        self.canvas = Canvas(width=width, height=height)\n",
    "        self.canvas.fill_style = BG\n",
    "        self.canvas.fill_rect(0, 0, width, height)\n",
    "        \n",
    "        self.canvas.on_mouse_down(self.click)\n",
    "        self.canvas.on_mouse_move(self.drag)\n",
    "        self.canvas.on_mouse_up(self.mouseUp)\n",
    "        \n",
    "        self.Options = widgets.RadioButtons(\n",
    "            options=['Create', 'Move', 'Link'],\n",
    "            value='Create',\n",
    "            layout={'display': 'flex'}, # If the items' names are long\n",
    "            description='Edit Option:',\n",
    "            disabled=False)\n",
    "        self.compileButton = widgets.Button(description=\"Compile to Code\")\n",
    "        self.compileButton.on_click(self.CompileCode)\n",
    "        \n",
    "        display(self.Options)\n",
    "        display(self.compileButton)\n",
    "        display(self.canvas)\n",
    "        \n",
    "        #Edit node menu\n",
    "        self.vmName =  widgets.Text(value=\"VM\",description='VM Name:',disabled=False)\n",
    "        self.Site = widgets.Dropdown(options=['UKY', 'RENC', 'LBNL', 'STAR'],value='UKY',description='Site:',disabled=False,)\n",
    "        self.coreCount = widgets.Text(value=\"4\",description='Core:',disabled=False)\n",
    "        self.ramCount = widgets.Text(value=\"64\",description='Ram:',disabled=False)\n",
    "        self.diskCount = widgets.Text(value=\"500\",description='Disk:',disabled=False)\n",
    "        self.IMGtype =widgets.Dropdown(options=['qcow2'],value='qcow2',description='Image Type:',disabled=False,)\n",
    "        self.IMGref = widgets.Dropdown(options=['default_centos_8'],value='default_centos_8',description='Image Reference',disabled=False,)\n",
    "        self.PCIbox = widgets.Box()\n",
    "        self.deleteButton = widgets.Button(description=\"Delete VM\", button_style=\"danger\")\n",
    "        self.deleteButton.on_click(self.deleteSVM)\n",
    "        self.addPCIButton =  widgets.Button(description=\"Add PCI\")\n",
    "        self.addPCIButton.on_click(self.addPCI)\n",
    "        self.VMcontrols = [self.vmName,self.Site,self.coreCount,self.ramCount,self.diskCount,self.IMGtype,self.IMGref,self.PCIbox,self.addPCIButton,self.deleteButton]\n",
    "        for control in self.VMcontrols:\n",
    "            control.observe(self.saveVM)\n",
    "            display(control)\n",
    "        self.closeVMmenu()\n",
    "        \n",
    "        #Edit link menu\n",
    "        self.linkName =  widgets.Text(value=\"Name\",description='Network Name:',disabled=False)\n",
    "        self.netType = widgets.Dropdown(options=self.networkNames,description='Network Type:',disabled=False,)\n",
    "        self.Linkbox = widgets.Box()\n",
    "        self.deleteButtonLink = widgets.Button(description=\"Delete Link\", button_style=\"danger\")\n",
    "        self.deleteButtonLink.on_click(self.deleteSLink)\n",
    "        self.Linkcontrols = [self.linkName,self.netType,self.Linkbox,self.deleteButtonLink]\n",
    "        for control in self.Linkcontrols:\n",
    "            control.observe(self.saveLink)\n",
    "            display(control)\n",
    "        self.closeLinkmenu()\n",
    "    def createLink(self,N1,N2):\n",
    "        newLink = VMLink(N1,N2)\n",
    "        self.Links.append(newLink)\n",
    "    def Create(self,x,y):\n",
    "        \n",
    "        if [vm for vm in self.VMs if vm.selected]:\n",
    "            [vm.setSelected(False) for vm in self.VMs if vm.selected]\n",
    "            self.draw()\n",
    "            return False\n",
    "        \n",
    "        checkPos = list(set([currentCheck.isSelectedSafe(x,y) for currentCheck in self.VMs]))\n",
    "        \n",
    "        if len(checkPos) == 1:\n",
    "            \n",
    "            if checkPos[0]==False:\n",
    "                \n",
    "                new = VM(x,y)\n",
    "                new.setSelected(False)\n",
    "                self.VMs.append(new)\n",
    "                self.draw()\n",
    "            else:\n",
    "                self.draw()\n",
    "                \n",
    "        elif len(checkPos) == 0:\n",
    "            \n",
    "            new = VM(x,y)\n",
    "            new.setSelected(False)\n",
    "            self.VMs.append(new)\n",
    "            self.draw()\n",
    "        else:\n",
    "            self.draw()\n",
    "    def Move(self,x,y):\n",
    "        \n",
    "        if [vm for vm in self.VMs if vm.selected]:\n",
    "            [vm.setSelected(False) for vm in self.VMs if vm.selected]\n",
    "            self.selectedVM = None\n",
    "            self.selectedLink = None\n",
    "            self.closeVMmenu()\n",
    "            self.closeLinkmenu()\n",
    "            self.draw()\n",
    "            return False\n",
    "        if [link for link in self.Links if link.selected]:\n",
    "            [link.setSelected(False) for link in self.Links if link.selected]\n",
    "            self.selectedVM = None\n",
    "            self.selectedLink = None\n",
    "            self.closeLinkmenu()\n",
    "            self.closeVMmenu()\n",
    "            self.draw()\n",
    "            return False\n",
    "        for curr in self.VMs:\n",
    "            if curr.isSelected(x,y):\n",
    "                self.selectedVM = curr\n",
    "                self.loadVM(self.selectedVM)\n",
    "                self.openVMmenu()\n",
    "                return\n",
    "        for curr in self.Links:\n",
    "            if curr.isSelected(x,y):\n",
    "                self.selectedLink = curr\n",
    "                self.loadLink(self.selectedLink)\n",
    "                self.openLinkmenu()\n",
    "                return\n",
    "            \n",
    "    def clickLink(self,x,y):\n",
    "        if self.S1 == None:\n",
    "            for currentCheck in self.VMs:\n",
    "                if currentCheck.isSelected(x,y):\n",
    "                    self.S1 = currentCheck\n",
    "                    break\n",
    "        else:\n",
    "            for currentCheck in self.VMs:\n",
    "                if currentCheck.isSelected(x,y):\n",
    "                    self.S2 = currentCheck\n",
    "                    break\n",
    "            if self.S1 != self.S2 and self.S2 != None:\n",
    "                self.createLink(self.S1,self.S2)\n",
    "            else:\n",
    "                for currentCheck in self.Links:\n",
    "                    if currentCheck.isSelected(x,y):\n",
    "                        currentCheck.addLink(self.S1)\n",
    "            if [vm for vm in self.VMs if vm.selected]:\n",
    "                [vm.setSelected(False) for vm in self.VMs if vm.selected]\n",
    "                self.draw()\n",
    "            if [link for link in self.Links if link.selected]:\n",
    "                [link.setSelected(False) for link in self.Links if link.selected]\n",
    "                self.draw()\n",
    "                return False\n",
    "            self.S1=None\n",
    "            self.S2=None\n",
    "    def click(self,x,y):\n",
    "        \n",
    "        if (self.Options.value == \"Create\"):\n",
    "            self.Held = True\n",
    "            self.Create(x,y)\n",
    "        elif (self.Options.value == \"Move\"):\n",
    "            self.Held = True\n",
    "            self.Move(x,y)\n",
    "        elif (self.Options.value == \"Link\"):\n",
    "            self.clickLink(x,y)\n",
    "                \n",
    "    \n",
    "                \n",
    "    def mouseUp(self,x,y):\n",
    "        self.Held = False\n",
    "    def drag(self,x,y):\n",
    "        self.mouseX=x\n",
    "        self.mouseY=y\n",
    "        if self.Held:\n",
    "            if [vm for vm in self.VMs if vm.selected]:\n",
    "                #self.canvas.fill_style = \"#0000FF\"\n",
    "                #self.canvas.fill_circle(x,y,5)\n",
    "                with hold_canvas(self.canvas):\n",
    "                    [vm for vm in self.VMs if vm.selected][-1].setPos(x,y)\n",
    "            else:\n",
    "                if [link for link in self.Links if link.selected]:\n",
    "                    with hold_canvas(self.canvas):\n",
    "                        [link for link in self.Links if link.selected][-1].setPos(x,y)\n",
    "                    \n",
    "        \n",
    "        self.draw()\n",
    "\n",
    "    def clearCanvas(self):\n",
    "        self.canvas.clear()\n",
    "        self.canvas.fill_style=self.BG\n",
    "        self.canvas.fill_rect(0, 0, self.width, self.height)\n",
    "    def drawInfo(self,info):\n",
    "        \n",
    "        self.canvas.text_align=\"start\"\n",
    "        self.canvas.fill_style = \"#000000\"\n",
    "        self.canvas.fill_text(info, 0, 50)\n",
    "    def draw(self):\n",
    "        with hold_canvas(self.canvas):\n",
    "            #Refresh\n",
    "            self.clearCanvas()\n",
    "            \n",
    "            #Draw links\n",
    "            for link in self.Links:\n",
    "                mx,my,size,nodes, color = link.draw()\n",
    "                for node in nodes:\n",
    "                    self.canvas.stroke_line(mx,my,node.x,node.y)\n",
    "                    \n",
    "                self.canvas.fill_style = color\n",
    "                self.canvas.fill_circle(mx,my,size)\n",
    "            \n",
    "            #Draw indicator line\n",
    "            if(self.S1 is not None):\n",
    "                self.canvas.stroke_line(self.S1.x,self.S1.y,self.mouseX,self.mouseY)\n",
    "            \n",
    "            #Draw VMs\n",
    "            for vm in self.VMs:\n",
    "                color,x,y,size,name = vm.draw()\n",
    "                self.canvas.fill_style = color\n",
    "                self.canvas.fill_circle(x,y,size)\n",
    "                self.canvas.fill_style = \"#FFFFFF\"\n",
    "                self.canvas.font = '32px arial'\n",
    "                self.canvas.text_align=\"center\"\n",
    "                self.canvas.fill_text(name, x, y)\n",
    "    def CompileCode(self,b):\n",
    "        self.errorCheck()\n",
    "        \n",
    "        code = \"t = ExperimentTopology()\\n\\n\"\n",
    "        \n",
    "        for count, vm in enumerate(self.VMs):\n",
    "            countString = str(count+1)\n",
    "            code+= \"node\"+countString +\" = t.add_node(name='\"+vm.name+\"', site='\"+vm.Site+\"')\\n\\n\"\n",
    "            code+=\"cap\"+countString+\" = Capacities()\\n\"\n",
    "            code+=\"cap\"+countString+\".set_fields(core=\"+vm.coreCount+\", ram=\"+vm.ramCount+\", disk=\"+vm.diskCount+\")\\n\\n\"\n",
    "        display(code)\n",
    "    def errorCheck(self):\n",
    "        #TODO\n",
    "        return\n",
    "        \n",
    "  \n"
   ]
  },
  {
   "cell_type": "code",
   "execution_count": 3,
   "id": "5322811b-7593-4d5e-8b5f-5f5b10e87dbd",
   "metadata": {},
   "outputs": [
    {
     "data": {
      "text/html": [
       "<style>\n",
       "    .widget-radio-box {\n",
       "        flex-direction: row !important;     \n",
       "    }\n",
       "    .widget-radio-box label{\n",
       "        margin:0px !important;\n",
       "        width: 70px !important;\n",
       "    }\n",
       "</style>\n",
       "              \n"
      ],
      "text/plain": [
       "<IPython.core.display.HTML object>"
      ]
     },
     "metadata": {},
     "output_type": "display_data"
    }
   ],
   "source": [
    "%%html\n",
    "<style>\n",
    "    .widget-radio-box {\n",
    "        flex-direction: row !important;     \n",
    "    }\n",
    "    .widget-radio-box label{\n",
    "        margin:0px !important;\n",
    "        width: 70px !important;\n",
    "    }\n",
    "</style>\n",
    "              "
   ]
  },
  {
   "cell_type": "code",
   "execution_count": 5,
   "id": "16760222-823d-4fa4-aa89-1239eba01952",
   "metadata": {},
   "outputs": [
    {
     "data": {
      "application/vnd.jupyter.widget-view+json": {
       "model_id": "a71239be146049539c59132202b74f95",
       "version_major": 2,
       "version_minor": 0
      },
      "text/plain": [
       "RadioButtons(description='Edit Option:', layout=Layout(display='flex'), options=('Create', 'Move', 'Link'), va…"
      ]
     },
     "metadata": {},
     "output_type": "display_data"
    },
    {
     "data": {
      "application/vnd.jupyter.widget-view+json": {
       "model_id": "28cfe85e1b074edbbd9b0764ff1630e2",
       "version_major": 2,
       "version_minor": 0
      },
      "text/plain": [
       "Button(description='Compile to Code', style=ButtonStyle())"
      ]
     },
     "metadata": {},
     "output_type": "display_data"
    },
    {
     "data": {
      "application/vnd.jupyter.widget-view+json": {
       "model_id": "fbd935801abc4436a4ea39a21c245f43",
       "version_major": 2,
       "version_minor": 0
      },
      "text/plain": [
       "Canvas(width=800)"
      ]
     },
     "metadata": {},
     "output_type": "display_data"
    },
    {
     "data": {
      "application/vnd.jupyter.widget-view+json": {
       "model_id": "f03e34be83b744d99d1a2bbc6cafcc27",
       "version_major": 2,
       "version_minor": 0
      },
      "text/plain": [
       "Text(value='VM', description='VM Name:')"
      ]
     },
     "metadata": {},
     "output_type": "display_data"
    },
    {
     "data": {
      "application/vnd.jupyter.widget-view+json": {
       "model_id": "02dcf7f65c6d45939a95885d4d0a27c6",
       "version_major": 2,
       "version_minor": 0
      },
      "text/plain": [
       "Dropdown(description='Site:', options=('UKY', 'RENC', 'LBNL', 'STAR'), value='UKY')"
      ]
     },
     "metadata": {},
     "output_type": "display_data"
    },
    {
     "data": {
      "application/vnd.jupyter.widget-view+json": {
       "model_id": "50514662c53d443eb26f06652078921d",
       "version_major": 2,
       "version_minor": 0
      },
      "text/plain": [
       "Text(value='4', description='Core:')"
      ]
     },
     "metadata": {},
     "output_type": "display_data"
    },
    {
     "data": {
      "application/vnd.jupyter.widget-view+json": {
       "model_id": "58f491846b434db9b642223e4dc3c190",
       "version_major": 2,
       "version_minor": 0
      },
      "text/plain": [
       "Text(value='64', description='Ram:')"
      ]
     },
     "metadata": {},
     "output_type": "display_data"
    },
    {
     "data": {
      "application/vnd.jupyter.widget-view+json": {
       "model_id": "1f0e25ed348e4ff8bbf4b45b8ff0021e",
       "version_major": 2,
       "version_minor": 0
      },
      "text/plain": [
       "Text(value='500', description='Disk:')"
      ]
     },
     "metadata": {},
     "output_type": "display_data"
    },
    {
     "data": {
      "application/vnd.jupyter.widget-view+json": {
       "model_id": "8ef241fe4ad341d5b3cea0296c89fdfd",
       "version_major": 2,
       "version_minor": 0
      },
      "text/plain": [
       "Dropdown(description='Image Type:', options=('qcow2',), value='qcow2')"
      ]
     },
     "metadata": {},
     "output_type": "display_data"
    },
    {
     "data": {
      "application/vnd.jupyter.widget-view+json": {
       "model_id": "f25a2b7f606e4553b9c8cb02e196996b",
       "version_major": 2,
       "version_minor": 0
      },
      "text/plain": [
       "Dropdown(description='Image Reference', options=('default_centos_8',), value='default_centos_8')"
      ]
     },
     "metadata": {},
     "output_type": "display_data"
    },
    {
     "data": {
      "application/vnd.jupyter.widget-view+json": {
       "model_id": "eb928cece53844f59e2180742f98196c",
       "version_major": 2,
       "version_minor": 0
      },
      "text/plain": [
       "Box()"
      ]
     },
     "metadata": {},
     "output_type": "display_data"
    },
    {
     "data": {
      "application/vnd.jupyter.widget-view+json": {
       "model_id": "feb708e189614f1385b57ac799e6ade8",
       "version_major": 2,
       "version_minor": 0
      },
      "text/plain": [
       "Button(description='Add PCI', style=ButtonStyle())"
      ]
     },
     "metadata": {},
     "output_type": "display_data"
    },
    {
     "data": {
      "application/vnd.jupyter.widget-view+json": {
       "model_id": "0bd1fe9f61214d118a45f804012d8398",
       "version_major": 2,
       "version_minor": 0
      },
      "text/plain": [
       "Button(button_style='danger', description='Delete VM', style=ButtonStyle())"
      ]
     },
     "metadata": {},
     "output_type": "display_data"
    },
    {
     "data": {
      "application/vnd.jupyter.widget-view+json": {
       "model_id": "6431b9332efd401882dcf854a377926e",
       "version_major": 2,
       "version_minor": 0
      },
      "text/plain": [
       "Text(value='Name', description='Network Name:')"
      ]
     },
     "metadata": {},
     "output_type": "display_data"
    },
    {
     "data": {
      "application/vnd.jupyter.widget-view+json": {
       "model_id": "260919ced0e04a0bb5bd97f79274d42b",
       "version_major": 2,
       "version_minor": 0
      },
      "text/plain": [
       "Dropdown(description='Network Type:', options=('P4', 'MPLS', 'OVS', 'L2Path', 'L2STS', 'L2PTP', 'L2Multisite',…"
      ]
     },
     "metadata": {},
     "output_type": "display_data"
    },
    {
     "data": {
      "application/vnd.jupyter.widget-view+json": {
       "model_id": "ac53324734bc4cbdac7a8a85c3bfa02e",
       "version_major": 2,
       "version_minor": 0
      },
      "text/plain": [
       "Box()"
      ]
     },
     "metadata": {},
     "output_type": "display_data"
    },
    {
     "data": {
      "application/vnd.jupyter.widget-view+json": {
       "model_id": "042c4b590ae242b192dd7a015a1d6ff9",
       "version_major": 2,
       "version_minor": 0
      },
      "text/plain": [
       "Button(button_style='danger', description='Delete Link', style=ButtonStyle())"
      ]
     },
     "metadata": {},
     "output_type": "display_data"
    }
   ],
   "source": [
    "MainGui = FabricGUI(800,500)\n",
    "\n",
    "MainGui.draw()"
   ]
  },
  {
   "cell_type": "code",
   "execution_count": null,
   "id": "cfc78688-20e5-4f6a-b1c5-43e7c40f533b",
   "metadata": {},
   "outputs": [],
   "source": []
  },
  {
   "cell_type": "code",
   "execution_count": null,
   "id": "e801e66e-5629-4816-8efb-54168826b7fe",
   "metadata": {},
   "outputs": [],
   "source": []
  }
 ],
 "metadata": {
  "kernelspec": {
   "display_name": "Python 3",
   "language": "python",
   "name": "python3"
  },
  "language_info": {
   "codemirror_mode": {
    "name": "ipython",
    "version": 3
   },
   "file_extension": ".py",
   "mimetype": "text/x-python",
   "name": "python",
   "nbconvert_exporter": "python",
   "pygments_lexer": "ipython3",
   "version": "3.9.2"
  }
 },
 "nbformat": 4,
 "nbformat_minor": 5
}
