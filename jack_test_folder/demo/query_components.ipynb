{
 "cells": [
  {
   "cell_type": "markdown",
   "id": "8f50484c-da6d-4d52-a28d-fc6e231aaf1a",
   "metadata": {},
   "source": [
    "## Prep"
   ]
  },
  {
   "cell_type": "code",
   "execution_count": 1,
   "id": "95b02be0-a35d-4546-b19f-7c03ba225c3c",
   "metadata": {
    "tags": []
   },
   "outputs": [
    {
     "name": "stdout",
     "output_type": "stream",
     "text": [
      "CM Host: beta-2.fabric-testbed.net Orchestrator Host: beta-7.fabric-testbed.net\n",
      "\n",
      "\n",
      "New Refresh Token: NB2HI4DTHIXS6Y3JNRXWO33OFZXXEZZPN5QXK5DIGIXTKOBZGZSDGZJRMUYDANBUMYYGMNRUMZQWENRXMRSGMMDGGRSWEMZ7OR4XAZJ5OJSWM4TFONUFI33LMVXCM5DTHUYTMMRYG4YDMOJVGA3DGMJGOZSXE43JN5XD25RSFYYCM3DJMZSXI2LNMU6TQNRUGAYDAMBQ\n",
      "\n",
      "Stored new Refresh Token\n",
      "Stored 'fabric_refresh_token' (str)\n",
      "\n",
      "\n"
     ]
    }
   ],
   "source": [
    "import json\n",
    "import os\n",
    "from fabrictestbed.slice_manager import SliceManager, Status\n",
    "\n",
    "credentialmanager_host = os.environ['FABRIC_CREDMGR_HOST']\n",
    "orchestrator_host = os.environ['FABRIC_ORCHESTRATOR_HOST']\n",
    "\n",
    "print(f\"CM Host: {credentialmanager_host} Orchestrator Host: {orchestrator_host}\")\n",
    "print()\n",
    "\n",
    "slice_manager = SliceManager(oc_host = orchestrator_host, cm_host = credentialmanager_host, project_name='all', scope='all')\n",
    "slice_manager.initialize()\n",
    "\n",
    "ssh_key = None\n",
    "with open (\"/home/fabric/.ssh/id_rsa.pub\", \"r\") as myfile:\n",
    "    ssh_key=myfile.read().strip()\n",
    "    \n",
    "try:\n",
    "    id_token, refresh_token = slice_manager.refresh_tokens()\n",
    "except Exception as e:\n",
    "    print(\"Exception occurred while getting tokens:{}\".format(e))\n",
    "\n",
    "fabric_refresh_token=slice_manager.get_refresh_token()\n",
    "print()\n",
    "print(\"New Refresh Token: {}\".format(fabric_refresh_token))\n",
    "print()\n",
    "print(\"Stored new Refresh Token\")\n",
    "%store fabric_refresh_token\n",
    "print()\n",
    "print()"
   ]
  },
  {
   "cell_type": "markdown",
   "id": "a93911ee-d6a0-4936-8210-844d3918db6a",
   "metadata": {},
   "source": [
    "## Query capacities"
   ]
  },
  {
   "cell_type": "code",
   "execution_count": 2,
   "id": "66f73673-b8ba-4c4b-b3d9-acf4cd48dd61",
   "metadata": {},
   "outputs": [
    {
     "name": "stdout",
     "output_type": "stream",
     "text": [
      "\n",
      "UKY\n",
      "GPU-RTX6000 unit: 2/2  \n",
      "GPU-Tesla T4 unit: 4/4  \n",
      "NVME-P4510 disk: 8000/10000 G unit: 8/10  \n",
      "SharedNIC-ConnectX-6 unit: 379/381  \n",
      "SmartNIC-ConnectX-6 unit: 0/2  \n",
      "SmartNIC-ConnectX-5 unit: 2/2  \n",
      "\n",
      "RENC\n",
      "\n",
      "STAR\n",
      "\n",
      "LBNL\n",
      "NVME-P4510 disk: 8000/10000 G unit: 8/10  \n",
      "GPU-RTX6000 unit: 2/2  \n",
      "GPU-Tesla T4 unit: 4/4  \n",
      "SmartNIC-ConnectX-6 unit: 0/2  \n",
      "SmartNIC-ConnectX-5 unit: 0/2  \n",
      "SharedNIC-ConnectX-6 unit: 379/381  \n"
     ]
    }
   ],
   "source": [
    "from fabrictestbed.slice_editor import Capacities\n",
    "\n",
    "status, advertised_topology = slice_manager.resources()\n",
    "\n",
    "\n",
    "#get information from the advertised topology to display on the graph\n",
    "    #used info from the following documentation sites for retrieving attributes:\n",
    "        #https://github.com/fabric-testbed/InformationModel/blob/911aed03256ed2c4a9f2dbbddb693f1dc47ed8ab/fim/graph/slices/networkx_asm.py#L33\n",
    "        #https://github.com/fabric-testbed/InformationModel/blob/master/fim/user/topology.py\n",
    "        \n",
    "for t in advertised_topology.sites.values():\n",
    "    \n",
    "    #topology name\n",
    "    name = t.name\n",
    "    print()\n",
    "    print(name)\n",
    "    \n",
    "    #query for components\n",
    "    for c in t.components.values():\n",
    "        info = c.name + ' '\n",
    "        available = c.get_property(\"capacities\")\n",
    "        allocated = c.get_property(\"capacity_allocations\")\n",
    "        \n",
    "        if allocated is None:\n",
    "            allocated = Capacities()\n",
    "        \n",
    "        if available is None:\n",
    "            available = Capacities()\n",
    "                \n",
    "        d1 = available.__dict__.copy()\n",
    "        d2 = allocated.__dict__.copy()\n",
    "    \n",
    "        #remove capacities that are not available \n",
    "        for d in allocated.__dict__:\n",
    "            if d1[d] == 0 and d2[d] == 0:\n",
    "                d1.pop(d)\n",
    "                d2.pop(d)\n",
    "                \n",
    "    \n",
    "        for c in d1:\n",
    "            \n",
    "            info += c + ': ' + str(d1[c] - d2[c]) + '/' + str(d1[c]) + ' ' + Capacities.UNITS[c] + ' '\n",
    "\n",
    "        print(info)\n",
    "        \n"
   ]
  },
  {
   "cell_type": "code",
   "execution_count": null,
   "id": "a5fd1963-d872-416c-b6a7-ea1737300bbc",
   "metadata": {},
   "outputs": [],
   "source": []
  },
  {
   "cell_type": "code",
   "execution_count": null,
   "id": "7a2fabd2-673c-4ee7-b582-0b442933ab73",
   "metadata": {},
   "outputs": [],
   "source": []
  }
 ],
 "metadata": {
  "kernelspec": {
   "display_name": "Python 3",
   "language": "python",
   "name": "python3"
  },
  "language_info": {
   "codemirror_mode": {
    "name": "ipython",
    "version": 3
   },
   "file_extension": ".py",
   "mimetype": "text/x-python",
   "name": "python",
   "nbconvert_exporter": "python",
   "pygments_lexer": "ipython3",
   "version": "3.9.2"
  }
 },
 "nbformat": 4,
 "nbformat_minor": 5
}
