{
 "cells": [
  {
   "cell_type": "markdown",
   "id": "619cc9ee-2dde-4e53-9496-e2a24b908010",
   "metadata": {},
   "source": [
    "# Create Slice\n",
    "\n",
    "Creates a simple slice with three nodes."
   ]
  },
  {
   "cell_type": "code",
   "execution_count": null,
   "id": "0f9cfafe-3c7c-4de0-806f-5a9ba13b5861",
   "metadata": {},
   "outputs": [],
   "source": [
    "from fabrictestbed_extensions.fablib.fablib import FablibManager as fablib_manager\n",
    "\n",
    "fablib = fablib_manager(project_id=\"\")\n",
    "                     \n",
    "fablib.show_config()\n",
    "\n",
    "import json\n",
    "import traceback\n",
    "\n",
    "try:\n",
    "    #Create Slice\n",
    "    slice = fablib.new_slice(name=\"terminal\")\n",
    "    \n",
    "    #HostA\n",
    "    host = slice.add_node(name=\"hostA\", site=\"TACC\")\n",
    "    host.set_image(\"default_ubuntu_20\")\n",
    "    \n",
    "    #HostB\n",
    "    host = slice.add_node(name=\"hostB\", site=\"TACC\")\n",
    "    host.set_image(\"default_ubuntu_20\")\n",
    "    \n",
    "    #HostC\n",
    "    host = slice.add_node(name=\"hostC\", site=\"TACC\")\n",
    "    host.set_image(\"default_ubuntu_20\")\n",
    "    \n",
    "    #Submit Slice Request\n",
    "    slice.submit()\n",
    "except Exception as e:\n",
    "    print(f\"Slice Failed: {e}\")"
   ]
  },
  {
   "cell_type": "markdown",
   "id": "c968bac8-246e-4d26-ac92-8d06eda19abb",
   "metadata": {},
   "source": [
    "# Get Slice\n",
    "\n",
    "Retrieve Slice and nodes."
   ]
  },
  {
   "cell_type": "code",
   "execution_count": null,
   "id": "1cadfd9d-3af5-49c2-a589-9d84239864ad",
   "metadata": {},
   "outputs": [],
   "source": [
    "from fabrictestbed_extensions.fablib.fablib import FablibManager as fablib_manager\n",
    "\n",
    "fablib = fablib_manager(project_id=\"1630021f-0a0c-4792-a241-997f410d36e1\")\n",
    "                     \n",
    "fablib.show_config()\n",
    "\n",
    "import json\n",
    "import traceback\n",
    "\n",
    "try:\n",
    "    #Create Slice\n",
    "    slice = fablib.get_slice(name=\"terminal\")\n",
    "    \n",
    "    #Get nodes\n",
    "    hostA = slice.get_node(name=\"hostA\")\n",
    "    hostB = slice.get_node(name=\"hostB\")\n",
    "    hostC = slice.get_node(name=\"hostC\")\n",
    "    \n",
    "except Exception as e:\n",
    "    print(f\"Slice Failed: {e}\")"
   ]
  },
  {
   "cell_type": "code",
   "execution_count": null,
   "id": "6c280bfc-bae1-4805-8540-e7e2303bab73",
   "metadata": {},
   "outputs": [],
   "source": [
    "slice.list_nodes()"
   ]
  },
  {
   "cell_type": "markdown",
   "id": "1894e13b-c5ee-4485-a4a0-974f14a05817",
   "metadata": {},
   "source": [
    "# Terminal Class"
   ]
  },
  {
   "cell_type": "code",
   "execution_count": null,
   "id": "fad89eed-5ae5-40a9-a193-a7006a09ea39",
   "metadata": {},
   "outputs": [],
   "source": [
    "from IPYTerminal import FabricTerminal"
   ]
  },
  {
   "cell_type": "markdown",
   "id": "b635ab7c-b437-4aab-b934-a385468d8ef9",
   "metadata": {},
   "source": [
    "## Start Terminal"
   ]
  },
  {
   "cell_type": "code",
   "execution_count": null,
   "id": "1dcb2d7b-abb8-4acf-b4f1-2277a63271a2",
   "metadata": {},
   "outputs": [],
   "source": [
    "#Initialize terminal with tabs A, B\n",
    "terminal = FabricTerminal(hostA,hostB)"
   ]
  },
  {
   "cell_type": "markdown",
   "id": "0772fd8e-0a2f-41b1-9be1-7a280fab1cc8",
   "metadata": {},
   "source": [
    "## Add tab for host C"
   ]
  },
  {
   "cell_type": "code",
   "execution_count": null,
   "id": "314a44ca-17e0-4175-8597-87d225346cd9",
   "metadata": {},
   "outputs": [],
   "source": [
    "#Add host C to the terminal\n",
    "terminal.add_node(hostC)"
   ]
  },
  {
   "cell_type": "markdown",
   "id": "35e0302e-1bf0-490e-bfd8-4187c9edb690",
   "metadata": {},
   "source": [
    "## Get nodes from terminal"
   ]
  },
  {
   "cell_type": "code",
   "execution_count": null,
   "id": "6a4912ec-f058-45c5-879c-b45354b11c2d",
   "metadata": {},
   "outputs": [],
   "source": [
    "#By tab name\n",
    "print(terminal.get_byname(\"hostA\").node.get_name())\n",
    "\n",
    "#By tab index\n",
    "print(terminal.get_at(1).node.get_name())"
   ]
  },
  {
   "cell_type": "markdown",
   "id": "1a0b9191-b370-4496-b10e-6b4b77829cdc",
   "metadata": {},
   "source": [
    "## Delete tabs from terminal"
   ]
  },
  {
   "cell_type": "code",
   "execution_count": null,
   "id": "7d88a146-f32e-4bb0-8981-538399d38840",
   "metadata": {},
   "outputs": [],
   "source": [
    "terminal.delete_at(0)"
   ]
  },
  {
   "cell_type": "markdown",
   "id": "95ee9910-b45a-4e5b-937a-3d89792cf665",
   "metadata": {},
   "source": [
    "## Execute from terminal"
   ]
  },
  {
   "cell_type": "code",
   "execution_count": null,
   "id": "9c5c775c-4aa7-4434-9ba6-f8cac2147003",
   "metadata": {},
   "outputs": [],
   "source": [
    "#Execute `IP addr` on all terminals\n",
    "for i in terminal.Terminals:\n",
    "    i.execute(\"ip addr\")"
   ]
  },
  {
   "cell_type": "markdown",
   "id": "e91dfa4a-6a43-4056-bc4f-1611fe4f6919",
   "metadata": {},
   "source": [
    "## Display terminal object in different block"
   ]
  },
  {
   "cell_type": "code",
   "execution_count": null,
   "id": "a7654118-6e4e-46b1-a909-0bdb64dc1d09",
   "metadata": {},
   "outputs": [],
   "source": [
    "#Display the terminal widget object\n",
    "display(terminal.get_widget())\n",
    "\n",
    "#Display from object\n",
    "terminal.display()"
   ]
  },
  {
   "cell_type": "markdown",
   "id": "462b2f4b-3fc2-4816-a999-72379b50d92f",
   "metadata": {},
   "source": [
    "# Call Terminal"
   ]
  },
  {
   "cell_type": "code",
   "execution_count": null,
   "id": "bb794964-987f-49ed-955d-cb84bc15ad1f",
   "metadata": {},
   "outputs": [],
   "source": [
    "from IPYTerminal import Terminal\n",
    "\n",
    "#Initialize terminal\n",
    "term = Terminal(hostA).display_terminal()"
   ]
  },
  {
   "cell_type": "markdown",
   "id": "7d1c137d-1b69-4650-b841-16781594b746",
   "metadata": {},
   "source": [
    "## Close connections"
   ]
  },
  {
   "cell_type": "code",
   "execution_count": null,
   "id": "72dc64da-1135-4a24-ab9f-208edc18b8cf",
   "metadata": {},
   "outputs": [],
   "source": [
    "#Close all terminals\n",
    "terminal.close()"
   ]
  },
  {
   "cell_type": "markdown",
   "id": "8b63f0d2-48eb-4bb6-98b4-db839b8f362f",
   "metadata": {},
   "source": [
    "# Cleanup"
   ]
  },
  {
   "cell_type": "code",
   "execution_count": null,
   "id": "190ef63e-9dd7-4273-83f9-a1be4f13141b",
   "metadata": {},
   "outputs": [],
   "source": [
    "try:\n",
    "    slice.delete()\n",
    "except Exception as e:\n",
    "    print(f\"Fail: {e}\")"
   ]
  },
  {
   "cell_type": "code",
   "execution_count": null,
   "id": "396c672c-e5d7-4a4c-b1cf-ef048cbfaf15",
   "metadata": {},
   "outputs": [],
   "source": []
  }
 ],
 "metadata": {
  "kernelspec": {
   "display_name": "Python 3 (ipykernel)",
   "language": "python",
   "name": "python3"
  },
  "language_info": {
   "codemirror_mode": {
    "name": "ipython",
    "version": 3
   },
   "file_extension": ".py",
   "mimetype": "text/x-python",
   "name": "python",
   "nbconvert_exporter": "python",
   "pygments_lexer": "ipython3",
   "version": "3.9.7"
  }
 },
 "nbformat": 4,
 "nbformat_minor": 5
}
