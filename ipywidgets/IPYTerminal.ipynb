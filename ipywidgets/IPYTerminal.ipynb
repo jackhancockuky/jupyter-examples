{
 "cells": [
  {
   "cell_type": "markdown",
   "id": "619cc9ee-2dde-4e53-9496-e2a24b908010",
   "metadata": {},
   "source": [
    "# Create Slice\n",
    "\n",
    "Creates a simple slice with one node."
   ]
  },
  {
   "cell_type": "code",
   "execution_count": null,
   "id": "0f9cfafe-3c7c-4de0-806f-5a9ba13b5861",
   "metadata": {},
   "outputs": [],
   "source": [
    "from fabrictestbed_extensions.fablib.fablib import FablibManager as fablib_manager\n",
    "\n",
    "fablib = fablib_manager(project_id=\"\")\n",
    "                     \n",
    "fablib.show_config()\n",
    "\n",
    "import json\n",
    "import traceback\n",
    "\n",
    "try:\n",
    "    #Create Slice\n",
    "    slice = fablib.new_slice(name=\"terminal\")\n",
    "    \n",
    "    #Host\n",
    "    host = slice.add_node(name=\"host\", site=\"TACC\")\n",
    "    host.set_image(\"default_ubuntu_20\")\n",
    "    \n",
    "    #Submit Slice Request\n",
    "    slice.submit()\n",
    "except Exception as e:\n",
    "    print(f\"Slice Failed: {e}\")"
   ]
  },
  {
   "cell_type": "markdown",
   "id": "1894e13b-c5ee-4485-a4a0-974f14a05817",
   "metadata": {},
   "source": [
    "# Terminal Class"
   ]
  },
  {
   "cell_type": "code",
   "execution_count": null,
   "id": "c4056a1b-b138-48c7-bacb-a4435c926564",
   "metadata": {},
   "outputs": [],
   "source": [
    "import ipywidgets as widgets\n",
    "from ipywidgets import HTML, Layout\n",
    "\n",
    "#This class will create an IPYWidgets terminal that will interface with a node\n",
    "class terminal():\n",
    "    #Class Variable\n",
    "    node = None\n",
    "    \n",
    "    #Initializer, with a node input\n",
    "    def __init__(self,node):\n",
    "        self.node = node\n",
    "        \n",
    "        #Style\n",
    "        display(widgets.HTML(value=\"<style>.inputt{border-color:black;}.out_box{ border: 1px solid black; height: 300px; width: 90%; overflow: auto;}</style>\"))\n",
    "        \n",
    "        #Output\n",
    "        self.out = widgets.Output()\n",
    "        self.out.add_class('out_box')\n",
    "        self.out.append_stdout(\"Connected to node: \"+self.node.get_name()+\"\\n\")\n",
    "        display(self.out)\n",
    "        \n",
    "        #Input\n",
    "        self.inputcmd = widgets.Text(layout=Layout(width='80%'))\n",
    "        self.inputcmd.on_submit(self.submit)\n",
    "        self.inputcmd.add_class('inputt')\n",
    "        self.submitbtn = widgets.Button(description=\"submit\",layout=Layout(width='10%'))\n",
    "        \n",
    "        self.inputs = widgets.HBox([self.inputcmd,self.submitbtn])\n",
    "        \n",
    "        display(self.inputs)\n",
    "        self.submitbtn.on_click(self.submit)\n",
    "        return\n",
    "        \n",
    "    #Send command to node\n",
    "    def submit(self,*args):\n",
    "        self.lastcmd = self.inputcmd.value\n",
    "        self.inputcmd.value=\"\"\n",
    "        \n",
    "        self.out.append_stdout(\"Input:\"+self.lastcmd)\n",
    "        self.out.append_stdout('\\n')\n",
    "        \n",
    "        out,err = self.node.execute(self.lastcmd)\n",
    "        \n",
    "        self.out.append_stdout(out + \" \" + err)\n",
    "        self.out.append_stdout('\\n')\n",
    "        \n",
    "        return\n",
    "    "
   ]
  },
  {
   "cell_type": "markdown",
   "id": "462b2f4b-3fc2-4816-a999-72379b50d92f",
   "metadata": {},
   "source": [
    "# Call Terminal"
   ]
  },
  {
   "cell_type": "code",
   "execution_count": null,
   "id": "bb794964-987f-49ed-955d-cb84bc15ad1f",
   "metadata": {},
   "outputs": [],
   "source": [
    "from fabrictestbed_extensions.fablib.fablib import FablibManager as fablib_manager\n",
    "\n",
    "fablib = fablib_manager(project_id=\"\")\n",
    "\n",
    "import json\n",
    "import traceback\n",
    "\n",
    "#Get node\n",
    "slice = fablib.get_slice(\"terminal\")\n",
    "host = slice.get_node(name=\"host\")\n",
    "\n",
    "#Initialize terminal\n",
    "term = terminal(host)"
   ]
  },
  {
   "cell_type": "code",
   "execution_count": null,
   "id": "603fbcd4-0ff5-44fb-8aed-d8381251c444",
   "metadata": {},
   "outputs": [],
   "source": []
  }
 ],
 "metadata": {
  "kernelspec": {
   "display_name": "Python 3 (ipykernel)",
   "language": "python",
   "name": "python3"
  },
  "language_info": {
   "codemirror_mode": {
    "name": "ipython",
    "version": 3
   },
   "file_extension": ".py",
   "mimetype": "text/x-python",
   "name": "python",
   "nbconvert_exporter": "python",
   "pygments_lexer": "ipython3",
   "version": "3.9.7"
  }
 },
 "nbformat": 4,
 "nbformat_minor": 5
}
