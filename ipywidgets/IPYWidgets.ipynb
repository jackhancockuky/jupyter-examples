{
 "cells": [
  {
   "cell_type": "markdown",
   "id": "06a8a6d6-4967-4f40-af62-b6f1418ad762",
   "metadata": {},
   "source": [
    "# IPYWidgets Tutorial\n",
    " \n",
    "In this tutorial you will learn:\n",
    "* Basics of the IPYWidgets library\n",
    "    \n",
    "<b> Prerequisites  </b>\n",
    "   * A basic understanding of Markup\n",
    "   * A basic understanding of CSS\n",
    "  "
   ]
  },
  {
   "cell_type": "markdown",
   "id": "d11aba37-806e-4c93-8f2e-19ed7fc80228",
   "metadata": {},
   "source": [
    "## 1. IPYwidgets\n",
    "\n",
    "IPYWidgets allows for more interactive notebooks, allowing for clean user input. The widgets include things such as buttons, sliders and text boxes.\n",
    "\n",
    "A full list of widgets can be found [here](https://ipywidgets.readthedocs.io/en/latest/examples/Widget%20List.html)"
   ]
  },
  {
   "cell_type": "markdown",
   "id": "b98e2e05-b4ee-45a3-abb5-863b88071f1d",
   "metadata": {},
   "source": [
    "#### Import IPYWidgets"
   ]
  },
  {
   "cell_type": "code",
   "execution_count": null,
   "id": "bdbd8402-5de7-411c-9b86-35a14f25eef9",
   "metadata": {},
   "outputs": [],
   "source": [
    "import ipywidgets"
   ]
  },
  {
   "cell_type": "markdown",
   "id": "973d9a88-56d1-455e-a684-0a401677d87b",
   "metadata": {},
   "source": [
    "#### Displaying Widgets\n",
    "\n",
    "Widgets will display automatically unless stored into a variable, this case will require a call to `display()`"
   ]
  },
  {
   "cell_type": "code",
   "execution_count": null,
   "id": "214d5781-72e8-4eab-9bd4-b7794ffc24a9",
   "metadata": {},
   "outputs": [],
   "source": [
    "ipywidgets.Label(value=\"Example with no variable\")"
   ]
  },
  {
   "cell_type": "code",
   "execution_count": null,
   "id": "abfbca61-4314-42d1-affd-5a99c1334041",
   "metadata": {},
   "outputs": [],
   "source": [
    "variable = ipywidgets.Label(value=\"Example with variable\")\n",
    "display(variable)"
   ]
  },
  {
   "cell_type": "markdown",
   "id": "f7cf754b-43a6-4b73-9636-0af033f75d06",
   "metadata": {},
   "source": [
    "#### Text\n",
    "\n",
    "Text is useful for providing a textbox that a user can type into, allowing the program to read the input and react. Many other flavors of this widget exist allowing for constraints to datatypes such as Floats or Integers."
   ]
  },
  {
   "cell_type": "code",
   "execution_count": null,
   "id": "4829fead-3d59-46d1-97c2-5b8c1d61e8c0",
   "metadata": {},
   "outputs": [],
   "source": [
    "intext = ipywidgets.Text(\n",
    "    value='',\n",
    "    placeholder='placeholder',\n",
    "    description='Text:'\n",
    ")\n",
    "\n",
    "display(intext)"
   ]
  },
  {
   "cell_type": "code",
   "execution_count": null,
   "id": "c0e852a6-b733-49f1-9510-57372a22bbd1",
   "metadata": {},
   "outputs": [],
   "source": [
    "#Write something in the textbox and the following command will read the input\n",
    "print (intext.value)"
   ]
  },
  {
   "cell_type": "markdown",
   "id": "2a138098-8d8a-4370-b027-a32172451c57",
   "metadata": {},
   "source": [
    "#### Textarea\n",
    "\n",
    "Textarea allows for an adjustable size input text box, usually for larger strings."
   ]
  },
  {
   "cell_type": "code",
   "execution_count": null,
   "id": "453c8ec6-19ae-403a-8d14-766cb41e0ba3",
   "metadata": {},
   "outputs": [],
   "source": [
    "ipywidgets.Textarea(\n",
    "    value='',\n",
    "    placeholder='placeholder'\n",
    ")"
   ]
  },
  {
   "cell_type": "markdown",
   "id": "2674d938-1ef2-49f9-ab74-fcc3230d5beb",
   "metadata": {},
   "source": [
    "#### Button\n",
    "\n",
    "The button widget gives a good visual indicator to the user of how to run a function."
   ]
  },
  {
   "cell_type": "code",
   "execution_count": null,
   "id": "77e58d07-dfee-48be-9057-334a2455e58f",
   "metadata": {},
   "outputs": [],
   "source": [
    "label = ipywidgets.Label(value=\"Not Clicked\")\n",
    "display(label)\n",
    "\n",
    "def printit(*args):\n",
    "    label.value = \"Clicked\"\n",
    "    \n",
    "button = ipywidgets.Button(\n",
    "    description=\"submit\"\n",
    ")\n",
    "button.on_click(printit)\n",
    "button"
   ]
  },
  {
   "cell_type": "markdown",
   "id": "8fca65f7-5dc3-4e86-99a7-859492cca921",
   "metadata": {},
   "source": [
    "#### Slider\n",
    "\n",
    "The slider is useful for allowing a user to choose a value quickly between a range, including options for floats and strings."
   ]
  },
  {
   "cell_type": "code",
   "execution_count": null,
   "id": "73d5d79c-9576-4afd-8507-c9c8b02e432c",
   "metadata": {},
   "outputs": [],
   "source": [
    "ipywidgets.IntSlider(\n",
    "    value=5,\n",
    "    min=0,\n",
    "    max=10,\n",
    "    step=1,\n",
    "    description='IntSlider:',\n",
    "    orientation='horizontal'\n",
    ")"
   ]
  },
  {
   "cell_type": "markdown",
   "id": "06de5ce9-832b-486d-891f-cc41908ec0cc",
   "metadata": {},
   "source": [
    "#### Dropdown\n",
    "\n",
    "Dropdowns are useful for giving the user a set of options to choose from."
   ]
  },
  {
   "cell_type": "code",
   "execution_count": null,
   "id": "06bbaafe-5075-4a3d-a455-f0d9c1f9e228",
   "metadata": {},
   "outputs": [],
   "source": [
    "dropdown = ipywidgets.Dropdown(options=['Option 1', 'Option 2'])\n",
    "dropdown"
   ]
  },
  {
   "cell_type": "markdown",
   "id": "522d20df-099a-4478-975a-03c61733b595",
   "metadata": {},
   "source": [
    "#### Output Box\n",
    "\n",
    "The output box will allow for rich text display, useful for stdout and stderr."
   ]
  },
  {
   "cell_type": "code",
   "execution_count": null,
   "id": "34b04397-6ea3-4234-9430-676b6e84a3f4",
   "metadata": {},
   "outputs": [],
   "source": [
    "out = ipywidgets.Output()\n",
    "display(out)\n",
    "\n",
    "for i in range(5):\n",
    "    out.append_stdout(str(i) + \"\\n\")"
   ]
  },
  {
   "cell_type": "markdown",
   "id": "8ac751dd-6ef7-4811-87e8-c709b89d86ee",
   "metadata": {},
   "source": [
    "#### HTML\n",
    "\n",
    "IpyWidgets allows for HTML to be ran within a notebook, allowing for a wide range of customizability to your application."
   ]
  },
  {
   "cell_type": "code",
   "execution_count": null,
   "id": "5bb6ee3a-b221-4012-ae00-ece3e7a5db90",
   "metadata": {},
   "outputs": [],
   "source": [
    "ipywidgets.HTML(\n",
    "    value=\"<h1>Hello World</h1>\",\n",
    ")"
   ]
  },
  {
   "cell_type": "markdown",
   "id": "559aa929-62b4-4c0f-9ca3-c75cd5d06bd2",
   "metadata": {},
   "source": [
    "## 2. Formatting Widgets\n",
    "\n",
    "When creating a GUI it is important to adjust the layout for ease of access. Additionally, styles can be applied to widgets allowing for a cleaner aesthetic to your project."
   ]
  },
  {
   "cell_type": "markdown",
   "id": "0d3bdac2-78d0-4dce-84f8-fea49b65c4c6",
   "metadata": {},
   "source": [
    "#### Box\n",
    "\n",
    "The box widget is similar to a flexbox, affecting the layout of widgets. Box types also include Horizontal Box (Hbox), Vertical Box (Vbox), and Grid Box (GridBox). These functions take as input an array of all widgets belonging in the box."
   ]
  },
  {
   "cell_type": "code",
   "execution_count": null,
   "id": "6a6f849c-7862-435b-8354-52d4eb407b15",
   "metadata": {},
   "outputs": [],
   "source": [
    "Items = [ipywidgets.Button(description=\"Button 1\"),ipywidgets.Button(description=\"Button 2\"),ipywidgets.Button(description=\"Button 3\"),ipywidgets.Button(description=\"Button 4\")]\n",
    "\n",
    "display(ipywidgets.Label(value=\"Box:\"))\n",
    "display(ipywidgets.Box(Items))\n",
    "\n",
    "display(ipywidgets.Label(value=\"Horizontal Box:\"))\n",
    "display(ipywidgets.HBox(Items))\n",
    "\n",
    "display(ipywidgets.Label(value=\"Vertical Box:\"))\n",
    "display(ipywidgets.VBox(Items))\n",
    "\n",
    "display(ipywidgets.Label(value=\"Grid Box:\"))\n",
    "display(ipywidgets.GridBox(Items,layout=ipywidgets.Layout(grid_template_columns=\"repeat(2, 200px)\")))"
   ]
  },
  {
   "cell_type": "markdown",
   "id": "7cf46ec7-18e9-4e6b-9663-98302f5c4694",
   "metadata": {},
   "source": [
    "#### Tabs\n",
    "\n",
    "Widgets can also be displayed tabular, allowing for swapping between widgets or collections of widgets."
   ]
  },
  {
   "cell_type": "code",
   "execution_count": null,
   "id": "2e84a5f8-74d9-4871-9043-1406ab991478",
   "metadata": {},
   "outputs": [],
   "source": [
    "tabs = ['Tab1', 'Tab2', 'Tab3']\n",
    "pages = [ipywidgets.Button(description=\"Button 1\"),ipywidgets.Button(description=\"Button 2\"),ipywidgets.Button(description=\"Button 3\")]\n",
    "\n",
    "tab = ipywidgets.Tab()\n",
    "tab.children = pages\n",
    "tab.titles = tabs\n",
    "\n",
    "tab"
   ]
  },
  {
   "cell_type": "markdown",
   "id": "c7bba0fe-6701-425e-bbd5-f47475879acc",
   "metadata": {},
   "source": [
    "#### Nesting Containers\n",
    "\n",
    "Containers are considered widgets, meaning they can be nested for more complex recipes."
   ]
  },
  {
   "cell_type": "code",
   "execution_count": null,
   "id": "65a89fb1-2162-496e-8268-4883bd4d2fc5",
   "metadata": {},
   "outputs": [],
   "source": [
    "Items = [ipywidgets.Button(description=\"Button 1\"),ipywidgets.Button(description=\"Button 2\"),ipywidgets.Button(description=\"Button 3\"),ipywidgets.Button(description=\"Button 4\")]\n",
    "\n",
    "Innerwidgets = [ipywidgets.VBox(Items),ipywidgets.VBox(Items),ipywidgets.VBox(Items),ipywidgets.VBox(Items)]\n",
    "\n",
    "display(ipywidgets.HBox(Innerwidgets))"
   ]
  },
  {
   "cell_type": "markdown",
   "id": "00ed8ab4-aa08-4034-9880-c68878b4c5eb",
   "metadata": {},
   "source": [
    "## 3. Styling Widgets\n",
    "\n",
    "Widgets can be adjusted to display styles in many ways. The syntax for styling is similar to CSS."
   ]
  },
  {
   "cell_type": "markdown",
   "id": "275528ca-c393-4a5e-86d0-5a1d2d8bf501",
   "metadata": {},
   "source": [
    "#### Styling on call"
   ]
  },
  {
   "cell_type": "code",
   "execution_count": null,
   "id": "29f7dd21-61b1-4fd7-8619-07111dc8ae8c",
   "metadata": {},
   "outputs": [],
   "source": [
    "ipywidgets.Button(description=\"Button 1\", style={\"button_color\":\"Blue\"})"
   ]
  },
  {
   "cell_type": "markdown",
   "id": "d1d72067-e17c-412e-89e2-353069879f64",
   "metadata": {},
   "source": [
    "### Styling by class\n",
    "\n",
    "This form of styling applies a class to the widget, causing any applied CSS in the notebook towards the class to work on the widget.\n",
    "\n",
    "A reference to HTML/CSS styling can be found [here.](https://developer.mozilla.org/en-US/docs/Web/CSS/Reference)"
   ]
  },
  {
   "cell_type": "code",
   "execution_count": null,
   "id": "9afaf150-5a93-4c0d-b871-d91cfc1dc9d9",
   "metadata": {},
   "outputs": [],
   "source": [
    "button = ipywidgets.Button(description=\"Button 1\")\n",
    "button.add_class(\"styleme\")\n",
    "display(button)"
   ]
  },
  {
   "cell_type": "markdown",
   "id": "102be6d5-8fdb-45ae-ac8b-2b1b21dfea03",
   "metadata": {},
   "source": [
    "#### html decorator"
   ]
  },
  {
   "cell_type": "code",
   "execution_count": null,
   "id": "6c7968e2-a0a4-4ea9-ba17-9b4dcaeff0d2",
   "metadata": {},
   "outputs": [],
   "source": [
    "%%html\n",
    "<style>\n",
    ".styleme{\n",
    " background-color:red;   \n",
    "}\n",
    "</style>"
   ]
  },
  {
   "cell_type": "markdown",
   "id": "6e6b7927-36ef-48cb-a030-18aaa8f6ddc7",
   "metadata": {},
   "source": [
    "#### HTML Widget"
   ]
  },
  {
   "cell_type": "code",
   "execution_count": null,
   "id": "d5a4f4f6-c2b1-4d2c-b8b1-68822ed81ff9",
   "metadata": {},
   "outputs": [],
   "source": [
    "ipywidgets.HTML(\n",
    "    value=\"<style>.styleme{ background-color:green;  }</style>\",\n",
    ")"
   ]
  },
  {
   "cell_type": "markdown",
   "id": "1b565462-25dd-4003-9165-a1d7491fe439",
   "metadata": {},
   "source": [
    "## 3. Interactive Widgets Libraries\n",
    "\n",
    "Many libraries are based on IPYWidgets, here we will look into IPYLeaflet. This library allows for maps to be displayed within the notebook as well as other interactivities.\n",
    "\n",
    "You can find more information on IPYLeaflet [here.](https://ipyleaflet.readthedocs.io/en/latest/index.html#)"
   ]
  },
  {
   "cell_type": "code",
   "execution_count": null,
   "id": "c671cdd5-d14b-42f9-b307-2b6bf60e9a8a",
   "metadata": {},
   "outputs": [],
   "source": [
    "from ipyleaflet import Map, basemaps, basemap_to_tiles, Marker\n",
    "\n",
    "Map = Map(\n",
    "    center=(38.0336, -84.5042),\n",
    "    zoom=4\n",
    "    )\n",
    "\n",
    "display(Map)"
   ]
  },
  {
   "cell_type": "markdown",
   "id": "9cca2cb1-a449-4ad0-9cdd-7fc55461e945",
   "metadata": {},
   "source": [
    "#### Plotting Locations\n",
    "\n",
    "This map also allows for locations to be plotted."
   ]
  },
  {
   "cell_type": "code",
   "execution_count": null,
   "id": "f77c9d5a-646b-486c-8f87-405da1bfe323",
   "metadata": {},
   "outputs": [],
   "source": [
    "markerUKY = Marker(location=(38.0336, -84.5042), draggable=False)\n",
    "markerDTX = Marker(location=(32.77815, -96.7954), draggable=True)\n",
    "\n",
    "Map.add_layer(markerUKY);\n",
    "Map.add_layer(markerDTX);"
   ]
  },
  {
   "cell_type": "markdown",
   "id": "67c881ce-c692-4864-8b58-09361f563e71",
   "metadata": {},
   "source": [
    "#### Styling\n",
    "\n",
    "Since IPYLeaflet is based on IPYWidgets, similar syntax can be seen. Here we show this with styling the map to be 200px wide."
   ]
  },
  {
   "cell_type": "code",
   "execution_count": null,
   "id": "95fb3594-3225-4628-9270-eea348142dde",
   "metadata": {},
   "outputs": [],
   "source": [
    "display(ipywidgets.HTML(\n",
    "    value=\"<style>.stylemap{ width: 200px  }</style>\",\n",
    "))\n",
    "\n",
    "\n",
    "Map.add_class(\"stylemap\")"
   ]
  },
  {
   "cell_type": "markdown",
   "id": "59c38f0a-2c40-4ed0-8437-4d59dbf6f8b4",
   "metadata": {},
   "source": [
    "## 5. Console Example\n",
    "\n",
    "A complex example, showing an in-notebook console can be seen [Here.](./IPYTerminal.ipynb)"
   ]
  },
  {
   "cell_type": "code",
   "execution_count": null,
   "id": "7a075538-5db3-4d35-8b4a-004630ec56bc",
   "metadata": {},
   "outputs": [],
   "source": []
  }
 ],
 "metadata": {
  "kernelspec": {
   "display_name": "Python 3 (ipykernel)",
   "language": "python",
   "name": "python3"
  },
  "language_info": {
   "codemirror_mode": {
    "name": "ipython",
    "version": 3
   },
   "file_extension": ".py",
   "mimetype": "text/x-python",
   "name": "python",
   "nbconvert_exporter": "python",
   "pygments_lexer": "ipython3",
   "version": "3.9.7"
  }
 },
 "nbformat": 4,
 "nbformat_minor": 5
}
