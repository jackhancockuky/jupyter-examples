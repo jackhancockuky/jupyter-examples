{
 "cells": [
  {
   "cell_type": "code",
   "execution_count": 1,
   "id": "89ab691c-8f60-4154-acda-2cbdf1de39af",
   "metadata": {},
   "outputs": [],
   "source": [
    "import os\n",
    "import json\n",
    "import time\n",
    "import ipywidgets as widgets\n",
    "import random\n",
    "from tqdm.notebook import tqdm as bar"
   ]
  },
  {
   "cell_type": "code",
   "execution_count": 2,
   "id": "68998a0f-c6ac-482d-be8f-c85c557ad39c",
   "metadata": {},
   "outputs": [
    {
     "data": {
      "application/vnd.jupyter.widget-view+json": {
       "model_id": "23961c8cfb2947b58f4d92ceb4b782c7",
       "version_major": 2,
       "version_minor": 0
      },
      "text/plain": [
       "IntSlider(value=7, continuous_update=False, description='IntSlider', max=10)"
      ]
     },
     "metadata": {},
     "output_type": "display_data"
    }
   ],
   "source": [
    "# INTEGER SLIDER\n",
    "\n",
    "IntSlider = widgets.IntSlider(\n",
    "    value = 7, # starting value\n",
    "    min = 0,\n",
    "    max = 10,\n",
    "    step = 1, # how much the value goes up as you slide\n",
    "    description = 'IntSlider',\n",
    "    disabled = False,\n",
    "    continuous_update = False,\n",
    "    orientation = 'horizontal',\n",
    "    readout = True,\n",
    "    readout_format = 'd' # this means digit\n",
    ")\n",
    "\n",
    "display(IntSlider)"
   ]
  },
  {
   "cell_type": "code",
   "execution_count": 3,
   "id": "bc666699-8c1e-40c4-81e0-abf3b3a4a4a3",
   "metadata": {},
   "outputs": [
    {
     "data": {
      "application/vnd.jupyter.widget-view+json": {
       "model_id": "b7c15a3fc821449ebbbac39bb8938041",
       "version_major": 2,
       "version_minor": 0
      },
      "text/plain": [
       "FloatSlider(value=7.0, continuous_update=False, description='FloatSlider', max=10.0, orientation='vertical', r…"
      ]
     },
     "metadata": {},
     "output_type": "display_data"
    }
   ],
   "source": [
    "# FLOAT SLIDER\n",
    "\n",
    "FloatSlider = widgets.FloatSlider(\n",
    "    value = 7, # starting value\n",
    "    min = 0,\n",
    "    max = 10,\n",
    "    step = 0.1,\n",
    "    description = 'FloatSlider',\n",
    "    disabled = False,\n",
    "    continuous_update = False,\n",
    "    orientation = 'vertical',\n",
    "    readout = True,\n",
    "    readout_format = '.1f' # number of digits after decimal\n",
    ")\n",
    "\n",
    "display(FloatSlider)"
   ]
  },
  {
   "cell_type": "code",
   "execution_count": 4,
   "id": "7d880dfe-e250-4db7-8262-669d5d546ba6",
   "metadata": {},
   "outputs": [
    {
     "data": {
      "application/vnd.jupyter.widget-view+json": {
       "model_id": "2e385da8f2c945b694cc460b0b6cb8c7",
       "version_major": 2,
       "version_minor": 0
      },
      "text/plain": [
       "FloatProgress(value=7.5, bar_style='info', description='Backwards', max=10.0)"
      ]
     },
     "metadata": {},
     "output_type": "display_data"
    }
   ],
   "source": [
    "# BACKWARDS PROGRESS BAR (could be used in Jack's thing?)\n",
    "\n",
    "BackwardsBar = widgets.FloatProgress(\n",
    "    value=7.5,\n",
    "    min=0,\n",
    "    max=10.0,\n",
    "    step=0.1,\n",
    "    description = 'Backwards',\n",
    "    bar_style='info',\n",
    "    orientation='horizontal'\n",
    ")\n",
    "\n",
    "display(BackwardsBar)"
   ]
  },
  {
   "cell_type": "code",
   "execution_count": 8,
   "id": "47cf981f-1961-4b6d-99f5-2670bbc79fff",
   "metadata": {},
   "outputs": [
    {
     "data": {
      "application/vnd.jupyter.widget-view+json": {
       "model_id": "c1238c99c0fc459cb91ef651c4bfe744",
       "version_major": 2,
       "version_minor": 0
      },
      "text/plain": [
       "HBox(children=(HTML(value=''), FloatProgress(value=0.0, max=10.0), HTML(value='')))"
      ]
     },
     "metadata": {},
     "output_type": "display_data"
    },
    {
     "name": "stdout",
     "output_type": "stream",
     "text": [
      "\n"
     ]
    }
   ],
   "source": [
    "# TQDM INCREMENTING PROGRESS BAR (different type)\n",
    "\n",
    "for i in bar(range(0, 10)):\n",
    "    time.sleep(0.1)\n",
    "    pass"
   ]
  },
  {
   "cell_type": "code",
   "execution_count": 6,
   "id": "ca001dd5-2653-4432-8999-0afe24eb19ce",
   "metadata": {},
   "outputs": [
    {
     "data": {
      "application/vnd.jupyter.widget-view+json": {
       "model_id": "cd5be0dc7b424336a54847e1a4d3cb49",
       "version_major": 2,
       "version_minor": 0
      },
      "text/plain": [
       "Button(button_style='danger', description='Click Me', style=ButtonStyle(), tooltip='Generates a number.')"
      ]
     },
     "metadata": {},
     "output_type": "display_data"
    },
    {
     "data": {
      "application/vnd.jupyter.widget-view+json": {
       "model_id": "a9edfe1b3b744784ab75c393139726cb",
       "version_major": 2,
       "version_minor": 0
      },
      "text/plain": [
       "Output()"
      ]
     },
     "metadata": {},
     "output_type": "display_data"
    }
   ],
   "source": [
    "# BUTTONS...\n",
    "\n",
    "button = widgets.Button(\n",
    "    description = 'Click Me',\n",
    "    disabled = False,\n",
    "    button_style = 'danger',\n",
    "    tooltip = 'Generates a number.', # when you mouse over it\n",
    "    icon = '')\n",
    "out = widgets.Output() # need this to show output right in JH\n",
    "\n",
    "def GetFortune(press):\n",
    "    out.clear_output() # need this to clear output or it keeps stacking\n",
    "    with out:\n",
    "        print('Your number is:', random.choice(range(0, 100)))\n",
    "\n",
    "button.on_click(GetFortune) # tells the button what to do when clicked\n",
    "display(button, out)"
   ]
  },
  {
   "cell_type": "code",
   "execution_count": 7,
   "id": "cf92b653-406e-4a49-8af8-b246466ecac3",
   "metadata": {},
   "outputs": [
    {
     "data": {
      "application/vnd.jupyter.widget-view+json": {
       "model_id": "aeec5abfe77d4b04b1e86f2753fa3087",
       "version_major": 2,
       "version_minor": 0
      },
      "text/plain": [
       "HBox(children=(HTML(value=''), FloatProgress(value=0.0, max=10.0), HTML(value='')))"
      ]
     },
     "metadata": {},
     "output_type": "display_data"
    },
    {
     "data": {
      "application/vnd.jupyter.widget-view+json": {
       "model_id": "7efe77fdef5b4d3da8e92c04bdd2ff30",
       "version_major": 2,
       "version_minor": 0
      },
      "text/plain": [
       "Button(description='Update', style=ButtonStyle(), tooltip='Click me!')"
      ]
     },
     "metadata": {},
     "output_type": "display_data"
    }
   ],
   "source": [
    "# BAR THAT UPDATES WHEN BUTTON IS CLICKED (could be useful for creating slices? \n",
    "# i.e. whenever buttons are clicked or the user moves on to another step, the bar increases...)\n",
    "\n",
    "MAX_VALUE = 10\n",
    "\n",
    "UpdateButton = widgets.Button(\n",
    "    description = 'Update',\n",
    "    disabled = False,\n",
    "    button_style = '',\n",
    "    tooltip = 'Click me!')\n",
    "\n",
    "UpdateBar = bar(total = MAX_VALUE) # creates the progress bar\n",
    "\n",
    "def Update(press):\n",
    "    if UpdateBar.n < MAX_VALUE: # makes the bar stop updating once it reaches its max\n",
    "        UpdateBar.update() # each click updates the bar a little\n",
    "    \n",
    "UpdateButton.on_click(Update)\n",
    "display(UpdateButton)\n",
    "    "
   ]
  },
  {
   "cell_type": "code",
   "execution_count": 24,
   "id": "d84350b7-b997-4e56-a2ef-127f7c8b4567",
   "metadata": {},
   "outputs": [],
   "source": [
    "from ipyleaflet import (\n",
    "    Map,\n",
    "    Marker,\n",
    "    TileLayer, ImageOverlay,\n",
    "    Polyline, Polygon, Rectangle, Circle, CircleMarker,\n",
    "    GeoJSON,\n",
    "    DrawControl,\n",
    "    WidgetControl,\n",
    "    basemaps,\n",
    "    Popup,\n",
    "    Icon,\n",
    "    MarkerCluster,\n",
    "    AwesomeIcon\n",
    ")"
   ]
  },
  {
   "cell_type": "code",
   "execution_count": 34,
   "id": "7440a8e3-029f-45e9-9e4f-c0278c9bcca5",
   "metadata": {},
   "outputs": [
    {
     "data": {
      "application/vnd.jupyter.widget-view+json": {
       "model_id": "7613b69a63c44afda43b8b8bcb512abe",
       "version_major": 2,
       "version_minor": 0
      },
      "text/plain": [
       "Map(center=[35.7596, -79.0193], controls=(ZoomControl(options=['position', 'zoom_in_text', 'zoom_in_title', 'z…"
      ]
     },
     "metadata": {},
     "output_type": "display_data"
    }
   ],
   "source": [
    "base = Map(basemap = basemaps.Esri.WorldStreetMap, center = (35.7596, -79.0193), zoom = 7)\n",
    "control = DrawControl()\n",
    "\n",
    "locations = {'Chapel Hill' : (35.9132, -79.0558), 'Durham' : (35.9940, -78.8986)}\n",
    "location_icon = AwesomeIcon(name = 'map-pin', marker_color = 'red', icon_color = 'black', spin = False)\n",
    "\n",
    "Chapel_Hill = Marker(icon = location_icon, location = locations['Chapel Hill'], draggable = False)\n",
    "Durham = Marker(icon = location_icon, location = locations['Durham'], draggable = False)\n",
    "\n",
    "def printChapelHill(**kwargs):\n",
    "    print('Chapel Hill:', locations['Chapel Hill'])\n",
    "\n",
    "def printDurham(**kwargs):\n",
    "    print('Durham:', locations['Durham'])\n",
    "\n",
    "base.add_layer(Chapel_Hill);\n",
    "base.add_layer(Durham);\n",
    "\n",
    "Chapel_Hill.on_click(printChapelHill)\n",
    "Durham.on_click(printDurham)\n",
    "\n",
    "base"
   ]
  },
  {
   "cell_type": "code",
   "execution_count": null,
   "id": "83947d11-0cc4-40b7-864e-8d6d1d3e8334",
   "metadata": {},
   "outputs": [],
   "source": []
  }
 ],
 "metadata": {
  "kernelspec": {
   "display_name": "Python 3",
   "language": "python",
   "name": "python3"
  },
  "language_info": {
   "codemirror_mode": {
    "name": "ipython",
    "version": 3
   },
   "file_extension": ".py",
   "mimetype": "text/x-python",
   "name": "python",
   "nbconvert_exporter": "python",
   "pygments_lexer": "ipython3",
   "version": "3.9.2"
  }
 },
 "nbformat": 4,
 "nbformat_minor": 5
}
