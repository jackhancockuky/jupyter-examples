{
 "cells": [
  {
   "cell_type": "code",
   "execution_count": 1,
   "id": "131196d0-a5fa-4d84-8ae8-dc574681db80",
   "metadata": {},
   "outputs": [],
   "source": [
    "# Import necessary packages\n",
    "\n",
    "import os\n",
    "import json\n",
    "from fabrictestbed.slice_manager import SliceManager, Status"
   ]
  },
  {
   "cell_type": "code",
   "execution_count": 2,
   "id": "0e03fb56-22d8-4581-8ca6-e8c513176ed2",
   "metadata": {},
   "outputs": [
    {
     "name": "stdout",
     "output_type": "stream",
     "text": [
      "CM Host: beta-2.fabric-testbed.net Orchestrator Host: beta-7.fabric-testbed.net\n"
     ]
    }
   ],
   "source": [
    "# Set up FABRIC environment\n",
    "\n",
    "credmgr_host = os.environ['FABRIC_CREDMGR_HOST']\n",
    "orchestrator_host = os.environ['FABRIC_ORCHESTRATOR_HOST']\n",
    "print(f\"CM Host: {credmgr_host} Orchestrator Host: {orchestrator_host}\")"
   ]
  },
  {
   "cell_type": "code",
   "execution_count": 3,
   "id": "68cdda89-4148-4611-a73a-a251de60a9d2",
   "metadata": {},
   "outputs": [],
   "source": [
    "# Create and initialize slice manager\n",
    "\n",
    "slice_manager = SliceManager(oc_host = orchestrator_host, cm_host = credmgr_host, project_name = 'all', scope = 'all')\n",
    "slice_manager.initialize()"
   ]
  },
  {
   "cell_type": "code",
   "execution_count": 4,
   "id": "215f4029-b93c-49c1-ac16-10e0f9110f95",
   "metadata": {},
   "outputs": [
    {
     "name": "stdout",
     "output_type": "stream",
     "text": [
      "Response Status Status.OK\n",
      "Slices [{\n",
      "    \"graph_id\": \"dd31e48c-294c-40a5-8f65-d0fa67b5e29d\",\n",
      "    \"lease_end\": \"2021-07-27 21:15:31\",\n",
      "    \"slice_id\": \"70fbefce-f374-4540-8d74-e85e4f1356f7\",\n",
      "    \"slice_name\": \"Slice-l2bridge-ded-tag\",\n",
      "    \"slice_state\": \"Dead\"\n",
      "}, {\n",
      "    \"graph_id\": \"f5fcaddb-78f1-4c67-9053-75355e29fcb9\",\n",
      "    \"lease_end\": \"2021-07-29 17:55:03\",\n",
      "    \"slice_id\": \"4d09c6a1-1097-467e-b858-e543feee6d9a\",\n",
      "    \"slice_name\": \"Slice-l2bridge-ded-tag\",\n",
      "    \"slice_state\": \"Dead\"\n",
      "}, {\n",
      "    \"graph_id\": \"9fc6a698-ffbc-4d2a-9a08-58237f467322\",\n",
      "    \"lease_end\": \"2021-07-29 20:21:44\",\n",
      "    \"slice_id\": \"96fbf26a-d0c7-49a4-ac04-8c38c13f2444\",\n",
      "    \"slice_name\": \"Slice-l2bridge-ded-tag\",\n",
      "    \"slice_state\": \"Closing\"\n",
      "}, {\n",
      "    \"graph_id\": \"38b0f0c1-d5f9-4bd8-81d1-2417f90e23fe\",\n",
      "    \"lease_end\": \"2021-07-29 20:35:35\",\n",
      "    \"slice_id\": \"73f9efcd-5e97-41aa-9d8f-f66a9895b27b\",\n",
      "    \"slice_name\": \"Slice-sts-ded\",\n",
      "    \"slice_state\": \"Dead\"\n",
      "}, {\n",
      "    \"graph_id\": \"e26d163c-a8f2-4207-b8a9-28f269b33034\",\n",
      "    \"lease_end\": \"2021-07-30 01:50:04\",\n",
      "    \"slice_id\": \"3abbecb1-107e-4fd1-8fb1-1a633fc7a828\",\n",
      "    \"slice_name\": \"Slice-sts-ded\",\n",
      "    \"slice_state\": \"Closing\"\n",
      "}, {\n",
      "    \"graph_id\": \"42b6af98-d186-4d2f-a756-d27d5496dd69\",\n",
      "    \"lease_end\": \"2021-07-30 14:42:39\",\n",
      "    \"slice_id\": \"e11a82ae-bcf1-44a9-86bf-ab4980119385\",\n",
      "    \"slice_name\": \"Slice-sts-ded\",\n",
      "    \"slice_state\": \"Closing\"\n",
      "}]\n"
     ]
    }
   ],
   "source": [
    "# Query slices\n",
    "\n",
    "status, slices = slice_manager.slices(state = \"All\")\n",
    "\n",
    "print(\"Response Status {}\".format(status))\n",
    "if status == Status.OK:\n",
    "    print(\"Slices {}\".format(slices))\n",
    "else:\n",
    "    print(f\"Failure: {slices}\")"
   ]
  },
  {
   "cell_type": "code",
   "execution_count": 5,
   "id": "edc0f1c3-cd1a-4dda-b0de-d67b23f1dbb8",
   "metadata": {},
   "outputs": [
    {
     "name": "stdout",
     "output_type": "stream",
     "text": [
      "Response Status Status.OK\n",
      "Slivers [{\n",
      "    \"graph_node_id\": \"97336be3-62ef-4a64-ac02-9444eff9e3c8\",\n",
      "    \"join_state\": \"NoJoin\",\n",
      "    \"lease_end\": \"2021-07-30 14:42:39\",\n",
      "    \"name\": \"sts1\",\n",
      "    \"pending_state\": \"None_\",\n",
      "    \"reservation_id\": \"a4bba7fb-d0c3-4276-9086-6e30437c931a\",\n",
      "    \"reservation_state\": \"Closed\",\n",
      "    \"resource_type\": \"L2STS\",\n",
      "    \"slice_id\": \"e11a82ae-bcf1-44a9-86bf-ab4980119385\"\n",
      "}, {\n",
      "    \"allocated_capacities\": \"{\\\"core\\\": 2, \\\"disk\\\": 10, \\\"ram\\\": 8}\",\n",
      "    \"allocated_labels\": \"{\\\"instance_parent\\\": \\\"uky-w2.fabric-testbed.net\\\"}\",\n",
      "    \"capacities\": \"{\\\"core\\\": 2, \\\"disk\\\": 10, \\\"ram\\\": 6}\",\n",
      "    \"capacity_hints\": \"{\\\"instance_type\\\": \\\"fabric.c2.m8.d10\\\"}\",\n",
      "    \"graph_node_id\": \"b784b3de-acbc-4bc7-b8c0-dca55196ece0\",\n",
      "    \"join_state\": \"NoJoin\",\n",
      "    \"lease_end\": \"2021-07-30 14:42:39\",\n",
      "    \"name\": \"n1\",\n",
      "    \"pending_state\": \"None_\",\n",
      "    \"reservation_id\": \"453edf87-34fa-4b93-bbad-a34fb58fb03e\",\n",
      "    \"reservation_state\": \"Closed\",\n",
      "    \"resource_type\": \"VM\",\n",
      "    \"site\": \"UKY\",\n",
      "    \"slice_id\": \"e11a82ae-bcf1-44a9-86bf-ab4980119385\"\n",
      "}, {\n",
      "    \"capacities\": \"{\\\"core\\\": 2, \\\"disk\\\": 10, \\\"ram\\\": 6}\",\n",
      "    \"capacity_hints\": \"{\\\"instance_type\\\": \\\"fabric.c2.m8.d10\\\"}\",\n",
      "    \"graph_node_id\": \"3a86244b-0948-469b-9db9-1916a764b063\",\n",
      "    \"join_state\": \"NoJoin\",\n",
      "    \"lease_end\": \"2021-07-30 14:42:39\",\n",
      "    \"name\": \"n2\",\n",
      "    \"pending_state\": \"None_\",\n",
      "    \"reservation_id\": \"1eed6744-655f-43a5-8f4e-bd283204ccef\",\n",
      "    \"reservation_state\": \"Closed\",\n",
      "    \"resource_type\": \"VM\",\n",
      "    \"site\": \"LBNL\",\n",
      "    \"slice_id\": \"e11a82ae-bcf1-44a9-86bf-ab4980119385\"\n",
      "}, {\n",
      "    \"allocated_capacities\": \"{\\\"core\\\": 2, \\\"disk\\\": 10, \\\"ram\\\": 8}\",\n",
      "    \"allocated_labels\": \"{\\\"instance_parent\\\": \\\"lbnl-w2.fabric-testbed.net\\\"}\",\n",
      "    \"capacities\": \"{\\\"core\\\": 2, \\\"disk\\\": 10, \\\"ram\\\": 6}\",\n",
      "    \"capacity_hints\": \"{\\\"instance_type\\\": \\\"fabric.c2.m8.d10\\\"}\",\n",
      "    \"graph_node_id\": \"effae57b-9299-4abc-91ee-7e9c057576c8\",\n",
      "    \"join_state\": \"NoJoin\",\n",
      "    \"lease_end\": \"2021-07-30 14:42:39\",\n",
      "    \"name\": \"n3\",\n",
      "    \"pending_state\": \"None_\",\n",
      "    \"reservation_id\": \"e044c8eb-ce70-4335-8d08-42e1a15b7aeb\",\n",
      "    \"reservation_state\": \"Closed\",\n",
      "    \"resource_type\": \"VM\",\n",
      "    \"site\": \"LBNL\",\n",
      "    \"slice_id\": \"e11a82ae-bcf1-44a9-86bf-ab4980119385\"\n",
      "}]\n"
     ]
    }
   ],
   "source": [
    "# Get ID of most recent slice, query slivers from slice\n",
    "\n",
    "slice_id = slices[-1].slice_id\n",
    "    \n",
    "status, slivers = slice_manager.slivers(slice_id = slice_id)\n",
    "\n",
    "print(\"Response Status {}\".format(status))\n",
    "if status == Status.OK:\n",
    "    print(\"Slivers {}\".format(slivers))\n",
    "else:\n",
    "    print(f\"Failure: {slivers}\")"
   ]
  },
  {
   "cell_type": "code",
   "execution_count": 19,
   "id": "470563ca-62fa-4cb4-abc6-0b90894342d9",
   "metadata": {},
   "outputs": [
    {
     "name": "stdout",
     "output_type": "stream",
     "text": [
      "sts1\t: None\n",
      "n1\t: UKY\n",
      "n2\t: LBNL\n",
      "n3\t: LBNL\n"
     ]
    }
   ],
   "source": [
    "# Get resource sites\n",
    "\n",
    "for sliver in slivers:\n",
    "    status, sliver_status = slice_manager.sliver_status(slice_id = slice_id, sliver_id = sliver.reservation_id)\n",
    "    print(f'{sliver_status.name}\\t: {sliver_status.site}')"
   ]
  },
  {
   "cell_type": "code",
   "execution_count": 24,
   "id": "42d3e31e-9f5f-4abb-917f-a2bd01709a55",
   "metadata": {},
   "outputs": [
    {
     "name": "stdout",
     "output_type": "stream",
     "text": [
      "sts1\t: Capacities = None \n",
      "\t  Allocated  = None\n",
      "n1\t: Capacities = { core: 2 , ram: 6 G, disk: 10 G} \n",
      "\t  Allocated  = { core: 2 , ram: 8 G, disk: 10 G}\n",
      "n2\t: Capacities = { core: 2 , ram: 6 G, disk: 10 G} \n",
      "\t  Allocated  = None\n",
      "n3\t: Capacities = { core: 2 , ram: 6 G, disk: 10 G} \n",
      "\t  Allocated  = { core: 2 , ram: 8 G, disk: 10 G}\n"
     ]
    }
   ],
   "source": [
    "# Get resource capacities\n",
    "\n",
    "for sliver in slivers:\n",
    "    status, sliver_status = slice_manager.sliver_status(slice_id = slice_id, sliver_id = sliver.reservation_id)\n",
    "    print(f'{sliver_status.name}\\t: Capacities = {sliver_status.capacities} \\n\\t  Allocated  = {sliver_status.allocated_capacities}')"
   ]
  },
  {
   "cell_type": "code",
   "execution_count": 40,
   "id": "2f7fe628-edde-45bf-b001-9262f491d25f",
   "metadata": {},
   "outputs": [
    {
     "name": "stdout",
     "output_type": "stream",
     "text": [
      "sts1\t: Reservation State = Closed \n",
      "\t  Join State\t    = NoJoin\n",
      "n1\t: Reservation State = Closed \n",
      "\t  Join State\t    = NoJoin\n",
      "n2\t: Reservation State = Closed \n",
      "\t  Join State\t    = NoJoin\n",
      "n3\t: Reservation State = Closed \n",
      "\t  Join State\t    = NoJoin\n"
     ]
    }
   ],
   "source": [
    "# Get resource states\n",
    "\n",
    "for sliver in slivers:\n",
    "    status, sliver_status = slice_manager.sliver_status(slice_id = slice_id, sliver_id = sliver.reservation_id)\n",
    "    print(f'{sliver_status.name}\\t: Reservation State = {sliver_status.reservation_state} \\n\\t  Join State\\t    = {sliver_status.join_state}')"
   ]
  },
  {
   "cell_type": "code",
   "execution_count": 104,
   "id": "9215ae54-e52a-4dfb-9df8-82cf64920e1d",
   "metadata": {},
   "outputs": [],
   "source": [
    "# Create organized dictionary for easy access of all attribute variables\n",
    "\n",
    "attributes = {}\n",
    "for sliver in slivers:\n",
    "    status, sliver_status = slice_manager.sliver_status(slice_id = slice_id, sliver_id = sliver.reservation_id)\n",
    "    attributes[sliver_status.name] = {}\n",
    "    try:\n",
    "        attributes[sliver_status.name]['Allocated Capacities'] = {'Core': sliver_status.allocated_capacities.core, 'Disk': sliver_status.allocated_capacities.disk, 'RAM': sliver_status.allocated_capacities.ram}\n",
    "    except AttributeError:\n",
    "        pass\n",
    "    try:\n",
    "        attributes[sliver_status.name]['Allocated Labels'] = {'Instance Parent': sliver_status.allocated_labels.instance_parent}\n",
    "    except AttributeError:\n",
    "        pass\n",
    "    try:\n",
    "        attributes[sliver_status.name]['Capacities'] = {'Core': sliver_status.capacities.core, 'Disk': sliver_status.capacities.disk, 'RAM': sliver_status.capacities.ram}\n",
    "    except AttributeError:\n",
    "        pass\n",
    "    try:\n",
    "        attributes[sliver_status.name]['Capacity Hints'] = {'Instance Type': sliver_status.capacity_hints.instance_type}\n",
    "    except AttributeError:\n",
    "        pass\n",
    "    attributes[sliver_status.name]['Graph Node ID'] = sliver_status.graph_node_id\n",
    "    attributes[sliver_status.name]['Join State'] = sliver_status.join_state\n",
    "    attributes[sliver_status.name]['Lease End'] = sliver_status.lease_end\n",
    "    attributes[sliver_status.name]['Name'] = sliver_status.name\n",
    "    attributes[sliver_status.name]['Pending State'] = sliver_status.pending_state\n",
    "    attributes[sliver_status.name]['Reservation ID'] = sliver_status.reservation_id\n",
    "    attributes[sliver_status.name]['Reservation State'] = sliver_status.reservation_state\n",
    "    attributes[sliver_status.name]['Resource Type'] = sliver_status.resource_type\n",
    "    attributes[sliver_status.name]['Site'] = sliver_status.site\n",
    "    attributes[sliver_status.name]['Slice ID'] = sliver_status.slice_id"
   ]
  },
  {
   "cell_type": "code",
   "execution_count": 109,
   "id": "4cf775b3-959d-41ef-9740-9d5a4ff55de6",
   "metadata": {},
   "outputs": [],
   "source": [
    "# Function to access attributes of specific resource\n",
    "\n",
    "def get(resource_name):\n",
    "    return attributes[resource_name]"
   ]
  },
  {
   "cell_type": "code",
   "execution_count": 110,
   "id": "7da5a10a-3920-4c12-a918-960a39982f63",
   "metadata": {},
   "outputs": [
    {
     "name": "stdout",
     "output_type": "stream",
     "text": [
      "{'Allocated Capacities': {'Core': 2, 'Disk': 10, 'RAM': 8}, 'Allocated Labels': {'Instance Parent': 'uky-w2.fabric-testbed.net'}, 'Capacities': {'Core': 2, 'Disk': 10, 'RAM': 6}, 'Capacity Hints': {'Instance Type': 'fabric.c2.m8.d10'}, 'Graph Node ID': 'b784b3de-acbc-4bc7-b8c0-dca55196ece0', 'Join State': 'NoJoin', 'Lease End': '2021-07-30 14:42:39', 'Name': 'n1', 'Pending State': 'None_', 'Reservation ID': '453edf87-34fa-4b93-bbad-a34fb58fb03e', 'Reservation State': 'Closed', 'Resource Type': 'VM', 'Site': 'UKY', 'Slice ID': 'e11a82ae-bcf1-44a9-86bf-ab4980119385'}\n",
      "\n",
      "UKY\n",
      "\n",
      "8\n"
     ]
    }
   ],
   "source": [
    "# Sample calls of function\n",
    "\n",
    "print(get('n1'))\n",
    "print()\n",
    "print(get('n1')['Site'])\n",
    "print()\n",
    "print(get('n1')['Allocated Capacities']['RAM'])"
   ]
  }
 ],
 "metadata": {
  "kernelspec": {
   "display_name": "Python 3",
   "language": "python",
   "name": "python3"
  },
  "language_info": {
   "codemirror_mode": {
    "name": "ipython",
    "version": 3
   },
   "file_extension": ".py",
   "mimetype": "text/x-python",
   "name": "python",
   "nbconvert_exporter": "python",
   "pygments_lexer": "ipython3",
   "version": "3.9.2"
  }
 },
 "nbformat": 4,
 "nbformat_minor": 5
}
