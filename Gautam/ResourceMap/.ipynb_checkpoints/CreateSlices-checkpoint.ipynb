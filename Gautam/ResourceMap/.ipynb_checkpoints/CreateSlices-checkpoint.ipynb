{
 "cells": [
  {
   "cell_type": "code",
   "execution_count": 37,
   "id": "63bdca10-bbb2-4ca1-8ca0-517175a380a2",
   "metadata": {},
   "outputs": [],
   "source": [
    "import os\n",
    "import json\n",
    "from fabrictestbed.slice_manager import SliceManager, Status"
   ]
  },
  {
   "cell_type": "code",
   "execution_count": 38,
   "id": "57d75789-98be-4127-a192-097356c57a0e",
   "metadata": {},
   "outputs": [
    {
     "name": "stdout",
     "output_type": "stream",
     "text": [
      "CM Host: beta-2.fabric-testbed.net Orchestrator Host: beta-7.fabric-testbed.net\n"
     ]
    }
   ],
   "source": [
    "credmgr_host = os.environ['FABRIC_CREDMGR_HOST']\n",
    "orchestrator_host = os.environ['FABRIC_ORCHESTRATOR_HOST']\n",
    "print(f\"CM Host: {credmgr_host} Orchestrator Host: {orchestrator_host}\")"
   ]
  },
  {
   "cell_type": "code",
   "execution_count": 39,
   "id": "d430a213-d2d0-44ca-bda9-bdcf6822e89d",
   "metadata": {},
   "outputs": [
    {
     "name": "stdout",
     "output_type": "stream",
     "text": [
      "\n",
      "New Refresh Token: NB2HI4DTHIXS6Y3JNRXWO33OFZXXEZZPN5QXK5DIGIXTONDGMFQWIM3GMZRTKNRSMY3DQY3BG42TMNTDMVRDAY3EMJSGCOJ7OR4XAZJ5OJSWM4TFONUFI33LMVXCM5DTHUYTMMRYG44DGMJVG44TOOBGOZSXE43JN5XD25RSFYYCM3DJMZSXI2LNMU6TQNRUGAYDAMBQ\n",
      "\n",
      "Stored new Refresh Token\n",
      "Stored 'fabric_refresh_token' (str)\n"
     ]
    }
   ],
   "source": [
    "# create and initialize the slice manager\n",
    "\n",
    "slice_manager = SliceManager(oc_host = orchestrator_host, cm_host = credmgr_host, project_name = 'all', scope = 'all')\n",
    "slice_manager.initialize()\n",
    "\n",
    "try:\n",
    "    id_token, refresh_token = slice_manager.refresh_tokens()\n",
    "except Exception as e:\n",
    "    print(\"Exception occurred while getting tokens:{}\".format(e))\n",
    "\n",
    "fabric_refresh_token=slice_manager.get_refresh_token()\n",
    "print()\n",
    "print(\"New Refresh Token: {}\".format(fabric_refresh_token))\n",
    "print()\n",
    "print(\"Stored new Refresh Token\")\n",
    "%store fabric_refresh_token"
   ]
  },
  {
   "cell_type": "code",
   "execution_count": 40,
   "id": "1cd30c27-13fc-4675-88aa-422fa5e19950",
   "metadata": {},
   "outputs": [
    {
     "name": "stdout",
     "output_type": "stream",
     "text": [
      "Status: Status.OK\n",
      "Topology: UKY: { cpu: 6/6 , core: 173/192 , ram: 1,478/1,536 G, disk: 9,410/9,600 G, unit: 3/3 }\n",
      "\tComponents:\n",
      "\t\tNVME-P4510:  NVME P4510 { disk: 9,000/10,000 G, unit: 9/10 }\n",
      "\t\tSharedNIC-ConnectX-6:  SharedNIC ConnectX-6 { unit: 381/381 }\n",
      "\t\tSmartNIC-ConnectX-6:  SmartNIC ConnectX-6 { unit: 2/2 }\n",
      "\t\tSmartNIC-ConnectX-5:  SmartNIC ConnectX-5 { unit: 2/2 }\n",
      "\t\tGPU-RTX6000:  GPU RTX6000 { unit: 2/2 }\n",
      "\t\tGPU-Tesla T4:  GPU Tesla T4 { unit: 4/4 }\n",
      "\tSite Interfaces:\n",
      "\t\tUKY_LBNL: TrunkPort { bw: 100/100 Gbps}\n",
      "RENC\n",
      "\tComponents:\n",
      "\tSite Interfaces:\n",
      "STAR\n",
      "\tComponents:\n",
      "\tSite Interfaces:\n",
      "LBNL: { cpu: 6/6 , core: 170/192 , ram: 1,446/1,536 G, disk: 9,230/9,600 G, unit: 3/3 }\n",
      "\tComponents:\n",
      "\t\tSharedNIC-ConnectX-6:  SharedNIC ConnectX-6 { unit: 379/381 }\n",
      "\t\tNVME-P4510:  NVME P4510 { disk: 9,000/10,000 G, unit: 9/10 }\n",
      "\t\tGPU-RTX6000:  GPU RTX6000 { unit: 2/2 }\n",
      "\t\tGPU-Tesla T4:  GPU Tesla T4 { unit: 4/4 }\n",
      "\t\tSmartNIC-ConnectX-6:  SmartNIC ConnectX-6 { unit: 0/2 }\n",
      "\t\tSmartNIC-ConnectX-5:  SmartNIC ConnectX-5 { unit: 1/2 }\n",
      "\tSite Interfaces:\n",
      "\t\tLBNL_UKY: TrunkPort { bw: 10/10 Gbps}\n",
      "Links:\n",
      "\tport+lbnl-data-sw:TenGigE0/0/0/6/0.2400-link[L2Path]: ['UKY_LBNL', 'LBNL_UKY']\n"
     ]
    }
   ],
   "source": [
    "status, advertised_topology = slice_manager.resources()\n",
    "\n",
    "print(f\"Status: {status}\")\n",
    "if status == Status.OK:\n",
    "    print(f\"Topology: {advertised_topology}\")\n",
    "else:\n",
    "    print(f\"Error: {advertised_topology}\")"
   ]
  },
  {
   "cell_type": "code",
   "execution_count": 41,
   "id": "26f6427f-5f0f-49db-8980-3287c52eb966",
   "metadata": {},
   "outputs": [
    {
     "data": {
      "image/png": "[encoded data removed]",
      "text/plain": [
       "<Figure size 432x288 with 1 Axes>"
      ]
     },
     "metadata": {},
     "output_type": "display_data"
    }
   ],
   "source": [
    "if status == Status.OK:\n",
    "    advertised_topology.draw()"
   ]
  },
  {
   "cell_type": "code",
   "execution_count": 42,
   "id": "09545738-c891-4fbe-a512-8d3a987c0bff",
   "metadata": {},
   "outputs": [
    {
     "name": "stdout",
     "output_type": "stream",
     "text": [
      "Response Status Status.FAILURE\n",
      "Failure: (500)\n",
      "Reason: INTERNAL SERVER ERROR\n",
      "HTTP response headers: HTTPHeaderDict({'Server': 'nginx/1.19.8', 'Date': 'Thu, 12 Aug 2021 15:46:02 GMT', 'Content-Type': 'text/html; charset=utf-8', 'Content-Length': '28', 'Connection': 'keep-alive', 'Access-Control-Allow-Credentials': 'true', 'Access-Control-Allow-Headers': 'DNT, User-Agent, X-Requested-With, If-Modified-Since, Cache-Control, Content-Type, Range', 'Access-Control-Allow-Methods': 'GET, POST, PUT, DELETE, OPTIONS', 'Access-Control-Allow-Origin': '*', 'Access-Control-Expose-Headers': 'Content-Length, Content-Range, X-Error', 'X-Error': 'Slice Slice 1 already exists'})\n",
      "HTTP response body: Slice Slice 1 already exists\n",
      "\n",
      "Response Status Status.FAILURE\n",
      "Failure: (500)\n",
      "Reason: INTERNAL SERVER ERROR\n",
      "HTTP response headers: HTTPHeaderDict({'Server': 'nginx/1.19.8', 'Date': 'Thu, 12 Aug 2021 15:46:02 GMT', 'Content-Type': 'text/html; charset=utf-8', 'Content-Length': '28', 'Connection': 'keep-alive', 'Access-Control-Allow-Credentials': 'true', 'Access-Control-Allow-Headers': 'DNT, User-Agent, X-Requested-With, If-Modified-Since, Cache-Control, Content-Type, Range', 'Access-Control-Allow-Methods': 'GET, POST, PUT, DELETE, OPTIONS', 'Access-Control-Allow-Origin': '*', 'Access-Control-Expose-Headers': 'Content-Length, Content-Range, X-Error', 'X-Error': 'Slice Slice 2 already exists'})\n",
      "HTTP response body: Slice Slice 2 already exists\n",
      "\n",
      "Response Status Status.FAILURE\n",
      "Failure: (500)\n",
      "Reason: INTERNAL SERVER ERROR\n",
      "HTTP response headers: HTTPHeaderDict({'Server': 'nginx/1.19.8', 'Date': 'Thu, 12 Aug 2021 15:46:02 GMT', 'Content-Type': 'text/html; charset=utf-8', 'Content-Length': '28', 'Connection': 'keep-alive', 'Access-Control-Allow-Credentials': 'true', 'Access-Control-Allow-Headers': 'DNT, User-Agent, X-Requested-With, If-Modified-Since, Cache-Control, Content-Type, Range', 'Access-Control-Allow-Methods': 'GET, POST, PUT, DELETE, OPTIONS', 'Access-Control-Allow-Origin': '*', 'Access-Control-Expose-Headers': 'Content-Length, Content-Range, X-Error', 'X-Error': 'Slice Slice 3 already exists'})\n",
      "HTTP response body: Slice Slice 3 already exists\n",
      "\n",
      "Response Status Status.FAILURE\n",
      "Failure: (500)\n",
      "Reason: INTERNAL SERVER ERROR\n",
      "HTTP response headers: HTTPHeaderDict({'Server': 'nginx/1.19.8', 'Date': 'Thu, 12 Aug 2021 15:46:02 GMT', 'Content-Type': 'text/html; charset=utf-8', 'Content-Length': '45', 'Connection': 'keep-alive', 'Access-Control-Allow-Credentials': 'true', 'Access-Control-Allow-Headers': 'DNT, User-Agent, X-Requested-With, If-Modified-Since, Cache-Control, Content-Type, Range', 'Access-Control-Allow-Methods': 'GET, POST, PUT, DELETE, OPTIONS', 'Access-Control-Allow-Origin': '*', 'Access-Control-Expose-Headers': 'Content-Length, Content-Range, X-Error', 'X-Error': 'Slice Slice 4 (l2bridge-sriov) already exists'})\n",
      "HTTP response body: Slice Slice 4 (l2bridge-sriov) already exists\n",
      "\n"
     ]
    }
   ],
   "source": [
    "from fabrictestbed.slice_editor import ExperimentTopology, Capacities, ComponentType, ComponentModelType, ServiceType\n",
    "\n",
    "Experiment = ExperimentTopology()\n",
    "\n",
    "# Add node\n",
    "S1Node1 = Experiment.add_node(name='S1Node1', site='LBNL')\n",
    "S1Node2 = Experiment.add_node(name='S1Node2', site = 'LBNL')\n",
    "S1Node3 = Experiment.add_node(name='S1Node3', site = 'LBNL')\n",
    "S1Node4 = Experiment.add_node(name='S1Node4', site = 'UKY')\n",
    "\n",
    "# Set capacities\n",
    "cap = Capacities()\n",
    "cap.set_fields(core=2, ram=16, disk=100)\n",
    "\n",
    "# Set Properties\n",
    "S1Node1.set_properties(capacities=cap, image_type='qcow2', image_ref='default_centos_8')\n",
    "S1Node2.set_properties(capacities=cap, image_type='qcow2', image_ref='default_centos_8')\n",
    "S1Node3.set_properties(capacities=cap, image_type='qcow2', image_ref='default_centos_8')\n",
    "S1Node4.set_properties(capacities=cap, image_type='qcow2', image_ref='default_centos_8')\n",
    "\n",
    "# Generate Slice Graph\n",
    "slice_graph = Experiment.serialize()\n",
    "\n",
    "ssh_key = None\n",
    "with open (\"/home/fabric/.ssh/id_rsa.pub\", \"r\") as myfile:\n",
    "    ssh_key=myfile.read()\n",
    "    ssh_key=ssh_key.strip()\n",
    "\n",
    "# Request slice from Orchestrator\n",
    "status, reservations = slice_manager.create(slice_name='Slice 1', slice_graph=slice_graph, ssh_key=ssh_key)\n",
    "\n",
    "print(\"Response Status {}\".format(status))\n",
    "if status == Status.OK:\n",
    "    print(\"Reservations created {}\".format(reservations))\n",
    "else:\n",
    "    print(f\"Failure: {reservations}\")\n",
    "    \n",
    "# NEXT RESOURCE ---------------------------------------------------------------------\n",
    "\n",
    "Experiment = ExperimentTopology()\n",
    "\n",
    "# Add node\n",
    "S2Node1 = Experiment.add_node(name='S2Node1', site='LBNL')\n",
    "S2Node2 = Experiment.add_node(name='S2Node2', site = 'LBNL')\n",
    "S2Node3 = Experiment.add_node(name='S2Node3', site = 'UKY')\n",
    "S2Node4 = Experiment.add_node(name='S2Node4', site = 'UKY')\n",
    "\n",
    "# Set capacities\n",
    "cap = Capacities()\n",
    "cap.set_fields(core=3, ram=6, disk=10)\n",
    "\n",
    "# Set Properties\n",
    "S2Node1.set_properties(capacities=cap, image_type='qcow2', image_ref='default_centos_8')\n",
    "S2Node2.set_properties(capacities=cap, image_type='qcow2', image_ref='default_centos_8')\n",
    "S2Node3.set_properties(capacities=cap, image_type='qcow2', image_ref='default_centos_8')\n",
    "S2Node4.set_properties(capacities=cap, image_type='qcow2', image_ref='default_centos_8')\n",
    "\n",
    "# Generate Slice Graph\n",
    "slice_graph = Experiment.serialize()\n",
    "\n",
    "ssh_key = None\n",
    "with open (\"/home/fabric/.ssh/id_rsa.pub\", \"r\") as myfile:\n",
    "    ssh_key=myfile.read()\n",
    "    ssh_key=ssh_key.strip()\n",
    "\n",
    "# Request slice from Orchestrator\n",
    "status, reservations = slice_manager.create(slice_name='Slice 2', slice_graph=slice_graph, ssh_key=ssh_key)\n",
    "\n",
    "print(\"Response Status {}\".format(status))\n",
    "if status == Status.OK:\n",
    "    print(\"Reservations created {}\".format(reservations))\n",
    "else:\n",
    "    print(f\"Failure: {reservations}\")\n",
    "    \n",
    "# NEXT RESOURCE ---------------------------------------------------------------------\n",
    "\n",
    "Experiment = ExperimentTopology()\n",
    "\n",
    "# Add node\n",
    "S3Node1 = Experiment.add_node(name='S3Node1', site='UKY')\n",
    "S3Node2 = Experiment.add_node(name='S3Node2', site = 'UKY')\n",
    "S3Node3 = Experiment.add_node(name='S3Node3', site = 'UKY')\n",
    "\n",
    "# Set capacities\n",
    "cap = Capacities()\n",
    "cap.set_fields(core=3, ram=8, disk=20)\n",
    "\n",
    "# Set Properties\n",
    "S3Node1.set_properties(capacities=cap, image_type='qcow2', image_ref='default_centos_8')\n",
    "S3Node2.set_properties(capacities=cap, image_type='qcow2', image_ref='default_centos_8')\n",
    "S3Node3.set_properties(capacities=cap, image_type='qcow2', image_ref='default_centos_8')\n",
    "\n",
    "# Generate Slice Graph\n",
    "slice_graph = Experiment.serialize()\n",
    "\n",
    "ssh_key = None\n",
    "with open (\"/home/fabric/.ssh/id_rsa.pub\", \"r\") as myfile:\n",
    "    ssh_key=myfile.read()\n",
    "    ssh_key=ssh_key.strip()\n",
    "\n",
    "# Request slice from Orchestrator\n",
    "status, reservations = slice_manager.create(slice_name='Slice 3', slice_graph=slice_graph, ssh_key=ssh_key)\n",
    "\n",
    "print(\"Response Status {}\".format(status))\n",
    "if status == Status.OK:\n",
    "    print(\"Reservations created {}\".format(reservations))\n",
    "else:\n",
    "    print(f\"Failure: {reservations}\")\n",
    "    \n",
    "# NEXT RESOURCE ---------------------------------------------------------------------\n",
    "    \n",
    "Experiment = ExperimentTopology()\n",
    "\n",
    "# Add node\n",
    "S4Node1 = Experiment.add_node(name='S4Node1', site='LBNL')\n",
    "S4Node2 = Experiment.add_node(name='S4Node2', site='LBNL')\n",
    "\n",
    "# Set capacities\n",
    "cap = Capacities()\n",
    "cap.set_fields(core=2, ram=6, disk=10)\n",
    "\n",
    "# Set Properties\n",
    "S4Node1.set_properties(capacities=cap, image_type='qcow2', image_ref='default_centos_8')\n",
    "S4Node2.set_properties(capacities=cap, image_type='qcow2', image_ref='default_centos_8')\n",
    "\n",
    "# Shared Cards\n",
    "S4Node1.add_component(model_type=ComponentModelType.SharedNIC_ConnectX_6, name='S4Node1-nic1')\n",
    "S4Node2.add_component(model_type=ComponentModelType.SharedNIC_ConnectX_6, name='S4Node2-nic1')\n",
    "\n",
    "# L2Bridge Service\n",
    "Experiment.add_network_service(name='bridge1', nstype=ServiceType.L2Bridge, interfaces=Experiment.interface_list)\n",
    "\n",
    "# Generate Slice Graph\n",
    "slice_graph = Experiment.serialize()\n",
    "\n",
    "ssh_key = None\n",
    "with open (\"/home/fabric/.ssh/id_rsa.pub\", \"r\") as myfile:\n",
    "    ssh_key=myfile.read()\n",
    "    ssh_key=ssh_key.strip()\n",
    "\n",
    "# Request slice from Orchestrator\n",
    "status, reservations = slice_manager.create(slice_name='Slice 4 (l2bridge-sriov)', slice_graph=slice_graph, ssh_key=ssh_key)\n",
    "\n",
    "print(\"Response Status {}\".format(status))\n",
    "if status == Status.OK:\n",
    "    print(\"Reservations created {}\".format(reservations))\n",
    "else:\n",
    "    print(f\"Failure: {reservations}\")"
   ]
  },
  {
   "cell_type": "code",
   "execution_count": 69,
   "id": "a2a8b898-e79d-4010-8540-af8ad3cc9b71",
   "metadata": {},
   "outputs": [
    {
     "name": "stdout",
     "output_type": "stream",
     "text": [
      "Slice 1: True\n",
      "Slice 2: True\n",
      "Slice 3: True\n",
      "Slice 4 (l2bridge-sriov): True\n"
     ]
    }
   ],
   "source": [
    "status, slices = slice_manager.slices()\n",
    "wanted = ['Slice 1', 'Slice 2', 'Slice 3', \"Slice 4 (l2bridge-sriov)\"]\n",
    "for want in wanted:\n",
    "    print(f'{want}: {want in [slice.slice_name for slice in slices]}')"
   ]
  },
  {
   "cell_type": "code",
   "execution_count": 34,
   "id": "4a0c6e71-4b64-4812-889f-133faac9f244",
   "metadata": {},
   "outputs": [],
   "source": [
    "# ids = [slice.slice_id for slice in slices]\n",
    "# for id in ids:\n",
    "#     status, result = slice_manager.delete(slice_id=id)"
   ]
  },
  {
   "cell_type": "code",
   "execution_count": null,
   "id": "3d5c69ab-8819-44bf-9468-ed738d47d0d2",
   "metadata": {},
   "outputs": [],
   "source": []
  }
 ],
 "metadata": {
  "kernelspec": {
   "display_name": "Python 3",
   "language": "python",
   "name": "python3"
  },
  "language_info": {
   "codemirror_mode": {
    "name": "ipython",
    "version": 3
   },
   "file_extension": ".py",
   "mimetype": "text/x-python",
   "name": "python",
   "nbconvert_exporter": "python",
   "pygments_lexer": "ipython3",
   "version": "3.9.2"
  }
 },
 "nbformat": 4,
 "nbformat_minor": 5
}
