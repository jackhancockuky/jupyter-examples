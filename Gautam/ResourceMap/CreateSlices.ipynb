{
 "cells": [
  {
   "cell_type": "code",
   "execution_count": 1,
   "id": "63bdca10-bbb2-4ca1-8ca0-517175a380a2",
   "metadata": {},
   "outputs": [],
   "source": [
    "import os\n",
    "import json\n",
    "from fabrictestbed.slice_manager import SliceManager, Status"
   ]
  },
  {
   "cell_type": "code",
   "execution_count": 2,
   "id": "57d75789-98be-4127-a192-097356c57a0e",
   "metadata": {},
   "outputs": [
    {
     "name": "stdout",
     "output_type": "stream",
     "text": [
      "CM Host: beta-2.fabric-testbed.net Orchestrator Host: beta-7.fabric-testbed.net\n"
     ]
    }
   ],
   "source": [
    "credmgr_host = os.environ['FABRIC_CREDMGR_HOST']\n",
    "orchestrator_host = os.environ['FABRIC_ORCHESTRATOR_HOST']\n",
    "print(f\"CM Host: {credmgr_host} Orchestrator Host: {orchestrator_host}\")"
   ]
  },
  {
   "cell_type": "code",
   "execution_count": 3,
   "id": "d430a213-d2d0-44ca-bda9-bdcf6822e89d",
   "metadata": {},
   "outputs": [],
   "source": [
    "# create and initialize the slice manager\n",
    "\n",
    "slice_manager = SliceManager(oc_host = orchestrator_host, cm_host = credmgr_host, project_name = 'all', scope = 'all')\n",
    "slice_manager.initialize()"
   ]
  },
  {
   "cell_type": "code",
   "execution_count": 4,
   "id": "1cd30c27-13fc-4675-88aa-422fa5e19950",
   "metadata": {},
   "outputs": [
    {
     "name": "stdout",
     "output_type": "stream",
     "text": [
      "Status: Status.OK\n",
      "Topology: UKY: { cpu: 6/6 , core: 186/192 , ram: 1,518/1,536 G, disk: 9,570/9,600 G, unit: 3/3 }\n",
      "\tComponents:\n",
      "\t\tGPU-RTX6000:  GPU RTX6000 { unit: 2/2 }\n",
      "\t\tGPU-Tesla T4:  GPU Tesla T4 { unit: 4/4 }\n",
      "\t\tNVME-P4510:  NVME P4510 { disk: 8,000/10,000 G, unit: 8/10 }\n",
      "\t\tSharedNIC-ConnectX-6:  SharedNIC ConnectX-6 { unit: 379/381 }\n",
      "\t\tSmartNIC-ConnectX-6:  SmartNIC ConnectX-6 { unit: 2/2 }\n",
      "\t\tSmartNIC-ConnectX-5:  SmartNIC ConnectX-5 { unit: 2/2 }\n",
      "\tSite Interfaces:\n",
      "\t\tUKY_LBNL: TrunkPort { bw: 100/100 Gbps}\n",
      "RENC\n",
      "\tComponents:\n",
      "\tSite Interfaces:\n",
      "STAR\n",
      "\tComponents:\n",
      "\tSite Interfaces:\n",
      "LBNL: { cpu: 6/6 , core: 180/192 , ram: 1,500/1,536 G, disk: 9,540/9,600 G, unit: 3/3 }\n",
      "\tComponents:\n",
      "\t\tNVME-P4510:  NVME P4510 { disk: 7,000/10,000 G, unit: 7/10 }\n",
      "\t\tGPU-RTX6000:  GPU RTX6000 { unit: 2/2 }\n",
      "\t\tGPU-Tesla T4:  GPU Tesla T4 { unit: 3/4 }\n",
      "\t\tSmartNIC-ConnectX-6:  SmartNIC ConnectX-6 { unit: 1/2 }\n",
      "\t\tSmartNIC-ConnectX-5:  SmartNIC ConnectX-5 { unit: 1/2 }\n",
      "\t\tSharedNIC-ConnectX-6:  SharedNIC ConnectX-6 { unit: 378/381 }\n",
      "\tSite Interfaces:\n",
      "\t\tLBNL_UKY: TrunkPort { bw: 10/10 Gbps}\n",
      "Links:\n",
      "\tport+lbnl-data-sw:TenGigE0/0/0/6/0.2400-link[L2Path]: ['UKY_LBNL', 'LBNL_UKY']\n"
     ]
    }
   ],
   "source": [
    "status, advertised_topology = slice_manager.resources()\n",
    "\n",
    "print(f\"Status: {status}\")\n",
    "if status == Status.OK:\n",
    "    print(f\"Topology: {advertised_topology}\")\n",
    "else:\n",
    "    print(f\"Error: {advertised_topology}\")"
   ]
  },
  {
   "cell_type": "code",
   "execution_count": 5,
   "id": "26f6427f-5f0f-49db-8980-3287c52eb966",
   "metadata": {},
   "outputs": [
    {
     "data": {
      "image/png": "[encoded data removed]",
      "text/plain": [
       "<Figure size 432x288 with 1 Axes>"
      ]
     },
     "metadata": {},
     "output_type": "display_data"
    }
   ],
   "source": [
    "if status == Status.OK:\n",
    "    advertised_topology.draw()"
   ]
  },
  {
   "cell_type": "code",
   "execution_count": 6,
   "id": "54bc7883-5474-49f6-9cc7-994cd5fc0de2",
   "metadata": {},
   "outputs": [
    {
     "name": "stdout",
     "output_type": "stream",
     "text": [
      "Response Status Status.OK\n",
      "Reservations created [{\n",
      "    \"graph_node_id\": \"f09f4502-1cc0-464e-a082-d6b9467fc160\",\n",
      "    \"lease_end\": \"2021-08-07 22:43:39\",\n",
      "    \"pending_state\": \"None_\",\n",
      "    \"reservation_id\": \"df356395-4d0a-452c-9ebd-4de05faed59f\",\n",
      "    \"reservation_state\": \"Unknown\",\n",
      "    \"slice_id\": \"c4668ac9-e9b2-41c5-8eff-218aad98edd9\"\n",
      "}, {\n",
      "    \"graph_node_id\": \"1b1e1f16-e21a-435a-be7c-b5b025df89a4\",\n",
      "    \"lease_end\": \"2021-08-07 22:43:39\",\n",
      "    \"pending_state\": \"None_\",\n",
      "    \"reservation_id\": \"2e4cb077-b6e8-43a4-8091-170deee937b4\",\n",
      "    \"reservation_state\": \"Unknown\",\n",
      "    \"slice_id\": \"c4668ac9-e9b2-41c5-8eff-218aad98edd9\"\n",
      "}, {\n",
      "    \"graph_node_id\": \"6357ad11-f628-4c4b-8a62-5c8512d61f79\",\n",
      "    \"lease_end\": \"2021-08-07 22:43:39\",\n",
      "    \"pending_state\": \"None_\",\n",
      "    \"reservation_id\": \"51f51d1f-399d-40f3-a0c0-ddfa9d1d3e86\",\n",
      "    \"reservation_state\": \"Unknown\",\n",
      "    \"slice_id\": \"c4668ac9-e9b2-41c5-8eff-218aad98edd9\"\n",
      "}, {\n",
      "    \"graph_node_id\": \"648cef53-53fc-43b4-8f0a-51fecf884848\",\n",
      "    \"lease_end\": \"2021-08-07 22:43:39\",\n",
      "    \"pending_state\": \"None_\",\n",
      "    \"reservation_id\": \"d2f51e0b-e80e-4acb-8877-41d4e23e4bed\",\n",
      "    \"reservation_state\": \"Unknown\",\n",
      "    \"slice_id\": \"c4668ac9-e9b2-41c5-8eff-218aad98edd9\"\n",
      "}]\n"
     ]
    }
   ],
   "source": [
    "from fabrictestbed.slice_editor import ExperimentTopology, Capacities, ComponentType, ComponentModelType, ServiceType\n",
    "# Create topology\n",
    "t = ExperimentTopology()\n",
    "\n",
    "# Add node\n",
    "n1 = t.add_node(name='n1', site='UKY')\n",
    "\n",
    "# Set capacities\n",
    "cap = Capacities()\n",
    "cap.set_fields(core=2, ram=6, disk=10)\n",
    "\n",
    "# Set Properties\n",
    "n1.set_properties(capacities=cap, image_type='qcow2', image_ref='default_centos_8')\n",
    "\n",
    "# Add PCI devices\n",
    "n1.add_component(ctype=ComponentType.NVME, model='P4510', name='c1')\n",
    "\n",
    "# Add node\n",
    "n2 = t.add_node(name='n2', site='LBNL')\n",
    "\n",
    "# Set properties\n",
    "n2.set_properties(capacities=cap, image_type='qcow2', image_ref='default_centos_8')\n",
    "\n",
    "\n",
    "# Add node\n",
    "n3 = t.add_node(name='n3', site='LBNL')\n",
    "\n",
    "# Set properties\n",
    "n3.set_properties(capacities=cap, image_type='qcow2', image_ref='default_centos_8')\n",
    "\n",
    "# Shared Cards\n",
    "n1.add_component(model_type=ComponentModelType.SmartNIC_ConnectX_6, name='n1-nic1')\n",
    "n2.add_component(model_type=ComponentModelType.SmartNIC_ConnectX_6, name='n2-nic1')\n",
    "n3.add_component(model_type=ComponentModelType.SmartNIC_ConnectX_6, name='n3-nic1')\n",
    "\n",
    "# L2STS Service\n",
    "t.add_network_service(name='sts1', nstype=ServiceType.L2STS,\n",
    "                      interfaces=[n1.interface_list[0], n2.interface_list[0], n3.interface_list[0]])\n",
    "\n",
    "# Generate Slice Graph\n",
    "slice_graph = t.serialize()\n",
    "\n",
    "ssh_key = None\n",
    "with open (\"/home/fabric/.ssh/id_rsa.pub\", \"r\") as myfile:\n",
    "    ssh_key=myfile.read()\n",
    "    ssh_key=ssh_key.strip()\n",
    "\n",
    "# Request slice from Orchestrator\n",
    "status, reservations = slice_manager.create(slice_name='Slice-sts-ded', slice_graph=slice_graph, ssh_key=ssh_key)\n",
    "\n",
    "print(\"Response Status {}\".format(status))\n",
    "if status == Status.OK:\n",
    "    print(\"Reservations created {}\".format(reservations))\n",
    "else:\n",
    "    print(f\"Failure: {reservations}\")"
   ]
  },
  {
   "cell_type": "code",
   "execution_count": 7,
   "id": "be9b058b-2932-463f-b149-874ec17a4044",
   "metadata": {},
   "outputs": [
    {
     "name": "stdout",
     "output_type": "stream",
     "text": [
      "Response Status Status.OK\n",
      "Reservations created [{\n",
      "    \"graph_node_id\": \"7b518575-de4e-41ca-ac7f-29b1b4464b29\",\n",
      "    \"lease_end\": \"2021-08-07 22:43:44\",\n",
      "    \"pending_state\": \"None_\",\n",
      "    \"reservation_id\": \"4d1db7f3-76f9-4572-8a7f-9a718fc04633\",\n",
      "    \"reservation_state\": \"Unknown\",\n",
      "    \"slice_id\": \"d1664743-1748-4f5a-a565-1083e0a6855c\"\n",
      "}, {\n",
      "    \"graph_node_id\": \"0e38eb30-7b59-4eee-9563-0361f6e1b023\",\n",
      "    \"lease_end\": \"2021-08-07 22:43:44\",\n",
      "    \"pending_state\": \"None_\",\n",
      "    \"reservation_id\": \"cc5d1fd5-c09c-4fe6-b9df-614911f42439\",\n",
      "    \"reservation_state\": \"Unknown\",\n",
      "    \"slice_id\": \"d1664743-1748-4f5a-a565-1083e0a6855c\"\n",
      "}, {\n",
      "    \"graph_node_id\": \"1e945cf3-151c-41c6-90a2-9dc6c574eebe\",\n",
      "    \"lease_end\": \"2021-08-07 22:43:44\",\n",
      "    \"pending_state\": \"None_\",\n",
      "    \"reservation_id\": \"4b8f1bd5-a1cc-4fb3-934b-ea9a685e3bed\",\n",
      "    \"reservation_state\": \"Unknown\",\n",
      "    \"slice_id\": \"d1664743-1748-4f5a-a565-1083e0a6855c\"\n",
      "}]\n"
     ]
    }
   ],
   "source": [
    "x = ExperimentTopology()\n",
    "\n",
    "# Add node\n",
    "node1 = x.add_node(name='node1', site='LBNL')\n",
    "\n",
    "# Set capacities\n",
    "cap = Capacities()\n",
    "cap.set_fields(core=2, ram=6, disk=10)\n",
    "\n",
    "# Set Properties\n",
    "node1.set_properties(capacities=cap, image_type='qcow2', image_ref='default_centos_8')\n",
    "\n",
    "# Add PCI devices\n",
    "node1.add_component(ctype=ComponentType.NVME, model='P4510', name='c1')\n",
    "\n",
    "# Add node\n",
    "node2 = x.add_node(name='node2', site='LBNL')\n",
    "\n",
    "# Set properties\n",
    "node2.set_properties(capacities=cap, image_type='qcow2', image_ref='default_centos_8')\n",
    "\n",
    "# Shared Cards\n",
    "node1.add_component(model_type=ComponentModelType.SharedNIC_ConnectX_6, name='node1-nic1')\n",
    "node2.add_component(model_type=ComponentModelType.SharedNIC_ConnectX_6, name='node2-nic1')\n",
    "\n",
    "# L2Bridge Service\n",
    "x.add_network_service(name='bridge1', nstype=ServiceType.L2Bridge, interfaces=x.interface_list)\n",
    "\n",
    "# Generate Slice Graph\n",
    "slice_graph = x.serialize()\n",
    "\n",
    "ssh_key = None\n",
    "with open (\"/home/fabric/.ssh/id_rsa.pub\", \"r\") as myfile:\n",
    "    ssh_key=myfile.read()\n",
    "    ssh_key=ssh_key.strip()\n",
    "\n",
    "# Request slice from Orchestrator\n",
    "status, reservations = slice_manager.create(slice_name='Slice-l2bridge-sriov', slice_graph=slice_graph, ssh_key=ssh_key)\n",
    "\n",
    "print(\"Response Status {}\".format(status))\n",
    "if status == Status.OK:\n",
    "    print(\"Reservations created {}\".format(reservations))\n",
    "else:\n",
    "    print(f\"Failure: {reservations}\")"
   ]
  },
  {
   "cell_type": "code",
   "execution_count": 13,
   "id": "2480a93a-eee4-4b75-acf7-a25b99cca7e8",
   "metadata": {},
   "outputs": [],
   "source": [
    "status, slices = slice_manager.slices()"
   ]
  },
  {
   "cell_type": "code",
   "execution_count": null,
   "id": "09545738-c891-4fbe-a512-8d3a987c0bff",
   "metadata": {},
   "outputs": [],
   "source": []
  },
  {
   "cell_type": "code",
   "execution_count": null,
   "id": "a2a8b898-e79d-4010-8540-af8ad3cc9b71",
   "metadata": {},
   "outputs": [],
   "source": []
  }
 ],
 "metadata": {
  "kernelspec": {
   "display_name": "Python 3",
   "language": "python",
   "name": "python3"
  },
  "language_info": {
   "codemirror_mode": {
    "name": "ipython",
    "version": 3
   },
   "file_extension": ".py",
   "mimetype": "text/x-python",
   "name": "python",
   "nbconvert_exporter": "python",
   "pygments_lexer": "ipython3",
   "version": "3.9.2"
  }
 },
 "nbformat": 4,
 "nbformat_minor": 5
}
