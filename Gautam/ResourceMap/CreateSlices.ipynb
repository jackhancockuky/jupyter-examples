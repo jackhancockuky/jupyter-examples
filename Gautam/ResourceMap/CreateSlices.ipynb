{
 "cells": [
  {
   "cell_type": "code",
   "execution_count": 1,
   "id": "63bdca10-bbb2-4ca1-8ca0-517175a380a2",
   "metadata": {},
   "outputs": [],
   "source": [
    "import os\n",
    "import json\n",
    "from fabrictestbed.slice_manager import SliceManager, Status"
   ]
  },
  {
   "cell_type": "code",
   "execution_count": 3,
   "id": "57d75789-98be-4127-a192-097356c57a0e",
   "metadata": {},
   "outputs": [
    {
     "name": "stdout",
     "output_type": "stream",
     "text": [
      "CM Host: beta-2.fabric-testbed.net Orchestrator Host: beta-7.fabric-testbed.net\n"
     ]
    }
   ],
   "source": [
    "credmgr_host = os.environ['FABRIC_CREDMGR_HOST']\n",
    "orchestrator_host = os.environ['FABRIC_ORCHESTRATOR_HOST']\n",
    "print(f\"CM Host: {credmgr_host} Orchestrator Host: {orchestrator_host}\")"
   ]
  },
  {
   "cell_type": "code",
   "execution_count": 4,
   "id": "d430a213-d2d0-44ca-bda9-bdcf6822e89d",
   "metadata": {},
   "outputs": [],
   "source": [
    "# create and initialize the slice manager\n",
    "\n",
    "slice_manager = SliceManager(oc_host = orchestrator_host, cm_host = credmgr_host, project_name = 'all', scope = 'all')\n",
    "slice_manager.initialize()"
   ]
  },
  {
   "cell_type": "code",
   "execution_count": 17,
   "id": "1cd30c27-13fc-4675-88aa-422fa5e19950",
   "metadata": {},
   "outputs": [
    {
     "name": "stdout",
     "output_type": "stream",
     "text": [
      "Status: Status.OK\n",
      "Topology: UKY: { cpu: 6/6 , core: 172/192 , ram: 1,464/1,536 G, disk: 9,176.0/9,600 G, unit: 3/3 }\n",
      "\tComponents:\n",
      "\t\tGPU-RTX6000:  GPU RTX6000 { unit: 2/2 }\n",
      "\t\tGPU-Tesla T4:  GPU Tesla T4 { unit: 4/4 }\n",
      "\t\tNVME-P4510:  NVME P4510 { disk: 8,000/10,000 G, unit: 8/10 }\n",
      "\t\tSharedNIC-ConnectX-6:  SharedNIC ConnectX-6 { unit: 379/381 }\n",
      "\t\tSmartNIC-ConnectX-6:  SmartNIC ConnectX-6 { unit: 0/2 }\n",
      "\t\tSmartNIC-ConnectX-5:  SmartNIC ConnectX-5 { unit: 2/2 }\n",
      "\tSite Interfaces:\n",
      "\t\tUKY_LBNL: TrunkPort { bw: 100/100 Gbps}\n",
      "RENC\n",
      "\tComponents:\n",
      "\tSite Interfaces:\n",
      "STAR\n",
      "\tComponents:\n",
      "\tSite Interfaces:\n",
      "LBNL: { cpu: 6/6 , core: 176/192 , ram: 1,484/1,536 G, disk: 9,412.0/9,600 G, unit: 3/3 }\n",
      "\tComponents:\n",
      "\t\tSharedNIC-ConnectX-6:  SharedNIC ConnectX-6 { unit: 379/381 }\n",
      "\t\tNVME-P4510:  NVME P4510 { disk: 8,000/10,000 G, unit: 8/10 }\n",
      "\t\tGPU-RTX6000:  GPU RTX6000 { unit: 2/2 }\n",
      "\t\tGPU-Tesla T4:  GPU Tesla T4 { unit: 4/4 }\n",
      "\t\tSmartNIC-ConnectX-6:  SmartNIC ConnectX-6 { unit: 0/2 }\n",
      "\t\tSmartNIC-ConnectX-5:  SmartNIC ConnectX-5 { unit: 0/2 }\n",
      "\tSite Interfaces:\n",
      "\t\tLBNL_UKY: TrunkPort { bw: 10/10 Gbps}\n",
      "Links:\n",
      "\tport+lbnl-data-sw:TenGigE0/0/0/6/0.2400-link[L2Path]: ['UKY_LBNL', 'LBNL_UKY']\n"
     ]
    }
   ],
   "source": [
    "status, advertised_topology = slice_manager.resources()\n",
    "\n",
    "print(f\"Status: {status}\")\n",
    "if status == Status.OK:\n",
    "    print(f\"Topology: {advertised_topology}\")\n",
    "else:\n",
    "    print(f\"Error: {advertised_topology}\")"
   ]
  },
  {
   "cell_type": "code",
   "execution_count": 18,
   "id": "26f6427f-5f0f-49db-8980-3287c52eb966",
   "metadata": {},
   "outputs": [
    {
     "data": {
      "image/png": "[encoded data removed]",
      "text/plain": [
       "<Figure size 432x288 with 1 Axes>"
      ]
     },
     "metadata": {},
     "output_type": "display_data"
    }
   ],
   "source": [
    "if status == Status.OK:\n",
    "    advertised_topology.draw()"
   ]
  },
  {
   "cell_type": "code",
   "execution_count": 7,
   "id": "54bc7883-5474-49f6-9cc7-994cd5fc0de2",
   "metadata": {},
   "outputs": [
    {
     "name": "stdout",
     "output_type": "stream",
     "text": [
      "Response Status Status.OK\n",
      "Reservations created [{\n",
      "    \"graph_node_id\": \"5031f4be-0b8f-42df-8360-0ec8bc87823d\",\n",
      "    \"lease_end\": \"2021-08-09 21:24:21\",\n",
      "    \"pending_state\": \"None_\",\n",
      "    \"reservation_id\": \"5b57abba-cbb2-4236-b615-c57665828e6b\",\n",
      "    \"reservation_state\": \"Unknown\",\n",
      "    \"slice_id\": \"548eb377-4b65-4f69-bf5c-56a4b2a4ce62\"\n",
      "}, {\n",
      "    \"graph_node_id\": \"659fc0e9-5b1a-4743-a3d2-570ace9747e4\",\n",
      "    \"lease_end\": \"2021-08-09 21:24:21\",\n",
      "    \"pending_state\": \"None_\",\n",
      "    \"reservation_id\": \"7fc4d6b5-44b5-46ab-a599-7cb635fbc6b5\",\n",
      "    \"reservation_state\": \"Unknown\",\n",
      "    \"slice_id\": \"548eb377-4b65-4f69-bf5c-56a4b2a4ce62\"\n",
      "}, {\n",
      "    \"graph_node_id\": \"91ff66d1-3eb6-4a21-9b73-461ed1ed9c6e\",\n",
      "    \"lease_end\": \"2021-08-09 21:24:21\",\n",
      "    \"pending_state\": \"None_\",\n",
      "    \"reservation_id\": \"c21c38e0-ac43-4472-a813-4d67b9a9c15a\",\n",
      "    \"reservation_state\": \"Unknown\",\n",
      "    \"slice_id\": \"548eb377-4b65-4f69-bf5c-56a4b2a4ce62\"\n",
      "}]\n"
     ]
    }
   ],
   "source": [
    "from fabrictestbed.slice_editor import ExperimentTopology, Capacities, ComponentType, ComponentModelType, ServiceType\n",
    "# Create topology\n",
    "t = ExperimentTopology()\n",
    "\n",
    "# Add node\n",
    "n1 = t.add_node(name='n1', site='LBNL')\n",
    "\n",
    "# Set capacities\n",
    "cap = Capacities()\n",
    "cap.set_fields(core=2, ram=6, disk=10)\n",
    "\n",
    "# Set Properties\n",
    "n1.set_properties(capacities=cap, image_type='qcow2', image_ref='default_centos_8')\n",
    "\n",
    "# Add PCI devices\n",
    "n1.add_component(ctype=ComponentType.NVME, model='P4510', name='c1')\n",
    "\n",
    "# Add node\n",
    "n2 = t.add_node(name='n2', site='LBNL')\n",
    "\n",
    "# Set properties\n",
    "n2.set_properties(capacities=cap, image_type='qcow2', image_ref='default_centos_8')\n",
    "\n",
    "\n",
    "# Dedicated Cards\n",
    "n1.add_component(model_type=ComponentModelType.SmartNIC_ConnectX_6, name='n1-nic1')\n",
    "n2.add_component(model_type=ComponentModelType.SmartNIC_ConnectX_5, name='n2-nic1')\n",
    "\n",
    "# L2Bridge Service\n",
    "t.add_network_service(name='bridge1', nstype=ServiceType.L2Bridge, interfaces=t.interface_list)\n",
    "\n",
    "# Generate Slice Graph\n",
    "slice_graph = t.serialize()\n",
    "\n",
    "ssh_key = None\n",
    "with open (\"/home/fabric/.ssh/id_rsa.pub\", \"r\") as myfile:\n",
    "    ssh_key=myfile.read()\n",
    "    ssh_key=ssh_key.strip()\n",
    "\n",
    "# Request slice from Orchestrator\n",
    "status, reservations = slice_manager.create(slice_name='Slice-l2bridge-ded-untag', slice_graph=slice_graph, ssh_key=ssh_key)\n",
    "\n",
    "print(\"Response Status {}\".format(status))\n",
    "if status == Status.OK:\n",
    "    print(\"Reservations created {}\".format(reservations))\n",
    "else:\n",
    "    print(f\"Failure: {reservations}\")"
   ]
  },
  {
   "cell_type": "code",
   "execution_count": 20,
   "id": "2480a93a-eee4-4b75-acf7-a25b99cca7e8",
   "metadata": {},
   "outputs": [],
   "source": [
    "status, slices = slice_manager.slices()"
   ]
  },
  {
   "cell_type": "code",
   "execution_count": 21,
   "id": "09545738-c891-4fbe-a512-8d3a987c0bff",
   "metadata": {},
   "outputs": [
    {
     "name": "stdout",
     "output_type": "stream",
     "text": [
      "Response Status Status.OK\n",
      "Reservations created [{\n",
      "    \"graph_node_id\": \"30f48851-3122-423f-9718-b54c5636b52c\",\n",
      "    \"lease_end\": \"2021-08-09 21:15:53\",\n",
      "    \"pending_state\": \"None_\",\n",
      "    \"reservation_id\": \"90309038-67bc-4b29-a462-10518d51fb8d\",\n",
      "    \"reservation_state\": \"Unknown\",\n",
      "    \"slice_id\": \"67d22585-1b36-45ff-ae92-1ca271ab1050\"\n",
      "}, {\n",
      "    \"graph_node_id\": \"7b71f114-626e-4a49-8b77-1b86a5b3c62b\",\n",
      "    \"lease_end\": \"2021-08-09 21:15:53\",\n",
      "    \"pending_state\": \"None_\",\n",
      "    \"reservation_id\": \"76dfa15d-ba3b-4a73-a2ba-b7eab94628e1\",\n",
      "    \"reservation_state\": \"Unknown\",\n",
      "    \"slice_id\": \"67d22585-1b36-45ff-ae92-1ca271ab1050\"\n",
      "}, {\n",
      "    \"graph_node_id\": \"d390e441-ed3d-4b25-8dc5-016361615e43\",\n",
      "    \"lease_end\": \"2021-08-09 21:15:53\",\n",
      "    \"pending_state\": \"None_\",\n",
      "    \"reservation_id\": \"9ad29965-78ae-4569-8741-0c93d58e251a\",\n",
      "    \"reservation_state\": \"Unknown\",\n",
      "    \"slice_id\": \"67d22585-1b36-45ff-ae92-1ca271ab1050\"\n",
      "}, {\n",
      "    \"graph_node_id\": \"ad357ce9-5f05-41bf-91c0-c8e57c25b151\",\n",
      "    \"lease_end\": \"2021-08-09 21:15:53\",\n",
      "    \"pending_state\": \"None_\",\n",
      "    \"reservation_id\": \"408c7107-1da0-4184-ae0d-c52863eb0e94\",\n",
      "    \"reservation_state\": \"Unknown\",\n",
      "    \"slice_id\": \"67d22585-1b36-45ff-ae92-1ca271ab1050\"\n",
      "}]\n"
     ]
    }
   ],
   "source": [
    "x = ExperimentTopology()\n",
    "\n",
    "# Add node\n",
    "node1 = x.add_node(name='node1', site='UKY')\n",
    "\n",
    "# Set capacities\n",
    "cap = Capacities()\n",
    "cap.set_fields(core=2, ram=6, disk=10)\n",
    "\n",
    "# Set Properties\n",
    "node1.set_properties(capacities=cap, image_type='qcow2', image_ref='default_centos_8')\n",
    "\n",
    "# Add PCI devices\n",
    "node1.add_component(ctype=ComponentType.NVME, model='P4510', name='c1')\n",
    "\n",
    "# Add node\n",
    "node2 = x.add_node(name='node2', site='LBNL')\n",
    "\n",
    "# Set properties\n",
    "node2.set_properties(capacities=cap, image_type='qcow2', image_ref='default_centos_8')\n",
    "\n",
    "\n",
    "# Add node\n",
    "node3 = x.add_node(name='node3', site='UKY')\n",
    "\n",
    "# Set properties\n",
    "node3.set_properties(capacities=cap, image_type='qcow2', image_ref='default_centos_8')\n",
    "\n",
    "# Shared Cards\n",
    "node1.add_component(model_type=ComponentModelType.SmartNIC_ConnectX_6, name='node1-nic1')\n",
    "node2.add_component(model_type=ComponentModelType.SmartNIC_ConnectX_6, name='node2-nic1')\n",
    "node3.add_component(model_type=ComponentModelType.SmartNIC_ConnectX_6, name='node3-nic1')\n",
    "\n",
    "# L2STS Service\n",
    "x.add_network_service(name='sts1', nstype=ServiceType.L2STS,\n",
    "                      interfaces=[node1.interface_list[0], node2.interface_list[0], node3.interface_list[0]])\n",
    "\n",
    "\n",
    "# Specify VLAN\n",
    "for i in x.interface_list:\n",
    "    if_labels = i.get_property(pname=\"labels\")\n",
    "    if_labels.vlan = \"200\"\n",
    "    i.set_properties(labels=if_labels)\n",
    "\n",
    "# Generate Slice Graph\n",
    "slice_graph = x.serialize()\n",
    "\n",
    "ssh_key = None\n",
    "with open (\"/home/fabric/.ssh/id_rsa.pub\", \"r\") as myfile:\n",
    "    ssh_key=myfile.read()\n",
    "    ssh_key=ssh_key.strip()\n",
    "\n",
    "# Request slice from Orchestrator\n",
    "status, reservations = slice_manager.create(slice_name='Slice-sts-ded-tag', slice_graph=slice_graph, ssh_key=ssh_key)\n",
    "\n",
    "print(\"Response Status {}\".format(status))\n",
    "if status == Status.OK:\n",
    "    print(\"Reservations created {}\".format(reservations))\n",
    "else:\n",
    "    print(f\"Failure: {reservations}\")"
   ]
  },
  {
   "cell_type": "code",
   "execution_count": null,
   "id": "a2a8b898-e79d-4010-8540-af8ad3cc9b71",
   "metadata": {},
   "outputs": [],
   "source": []
  },
  {
   "cell_type": "code",
   "execution_count": null,
   "id": "235d1424-34d1-435d-9a7a-93c7eab4b17d",
   "metadata": {},
   "outputs": [],
   "source": []
  },
  {
   "cell_type": "code",
   "execution_count": null,
   "id": "e89aaa97-2cec-4c77-909e-3311f4c0305d",
   "metadata": {},
   "outputs": [],
   "source": []
  }
 ],
 "metadata": {
  "kernelspec": {
   "display_name": "Python 3",
   "language": "python",
   "name": "python3"
  },
  "language_info": {
   "codemirror_mode": {
    "name": "ipython",
    "version": 3
   },
   "file_extension": ".py",
   "mimetype": "text/x-python",
   "name": "python",
   "nbconvert_exporter": "python",
   "pygments_lexer": "ipython3",
   "version": "3.9.2"
  }
 },
 "nbformat": 4,
 "nbformat_minor": 5
}
