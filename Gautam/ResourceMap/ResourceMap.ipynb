{
 "cells": [
  {
   "cell_type": "markdown",
   "id": "63a7554f-28a1-4cd3-a698-f62d980bfbf7",
   "metadata": {},
   "source": [
    "# FABRIC Example: Map of Resources\n",
    "\n",
    "\n",
    "## Configure the Environment\n",
    "\n",
    "This process may take a moment, as the folium mapping package must be installed to the kernel."
   ]
  },
  {
   "cell_type": "code",
   "execution_count": 2,
   "id": "70c1f6d4-063a-485a-ae41-a01c644febc7",
   "metadata": {},
   "outputs": [
    {
     "name": "stdout",
     "output_type": "stream",
     "text": [
      "CM Host: beta-2.fabric-testbed.net Orchestrator Host: beta-7.fabric-testbed.net\n"
     ]
    }
   ],
   "source": [
    "import os\n",
    "os.system('conda install folium')\n",
    "from fabrictestbed.slice_manager import SliceManager, Status\n",
    "import json\n",
    "\n",
    "credmgr_host = os.environ['FABRIC_CREDMGR_HOST']\n",
    "orchestrator_host = os.environ['FABRIC_ORCHESTRATOR_HOST']\n",
    "print(f\"CM Host: {credmgr_host} Orchestrator Host: {orchestrator_host}\")\n",
    "\n",
    "#Configure SSH Key\n",
    "ssh_key = None\n",
    "with open (\"/home/fabric/.ssh/id_rsa.pub\", \"r\") as myfile:\n",
    "    ssh_key=myfile.read().strip()"
   ]
  },
  {
   "cell_type": "markdown",
   "id": "3eccf019-031e-4412-bb95-dc7d2652b0b0",
   "metadata": {},
   "source": [
    "### Save the Initial Refresh Token"
   ]
  },
  {
   "cell_type": "code",
   "execution_count": 3,
   "id": "bc951cf2-58a1-4b38-a3da-267dbdc3aa27",
   "metadata": {},
   "outputs": [
    {
     "name": "stdout",
     "output_type": "stream",
     "text": [
      "Fabric Refresh Token NB2HI4DTHIXS6Y3JNRXWO33OFZXXEZZPN5QXK5DIGIXTCNDEMUZTONBVGA3TKNZVGY4GIYZRG44DIM3DGAZGIYZUGE3DAP3UPFYGKPLSMVTHEZLTNBKG623FNYTHI4Z5GE3DEOBTGYZTCNJTHAZTGJTWMVZHG2LPNY6XMMROGATGY2LGMV2GS3LFHU4DMNBQGAYDAMA\n",
      "CILOGON_REFRESH_TOKEN environment variable: NB2HI4DTHIXS6Y3JNRXWO33OFZXXEZZPN5QXK5DIGIXTIMTBGY3TEOLEGI3WENLGHE4TANBQG43WGMRZGYZDQYRZGQ3DEMZ7OR4XAZJ5OJSWM4TFONUFI33LMVXCM5DTHUYTMMRYGI4DSNRZGA4DKOJGOZSXE43JN5XD25RSFYYCM3DJMZSXI2LNMU6TQNRUGAYDAMBQ\n"
     ]
    }
   ],
   "source": [
    "#Retrieve or set the refresh token (exprires 24 hours after login)\n",
    "not_found=False\n",
    "fabric_refresh_token=None\n",
    "%store -r fabric_refresh_token\n",
    "\n",
    "if fabric_refresh_token is None:\n",
    "    fabric_refresh_token=os.environ['CILOGON_REFRESH_TOKEN']\n",
    "    %store fabric_refresh_token\n",
    "print(\"Fabric Refresh Token {}\".format(fabric_refresh_token))\n",
    "print(\"CILOGON_REFRESH_TOKEN environment variable: {}\".format(os.environ['CILOGON_REFRESH_TOKEN']))"
   ]
  },
  {
   "cell_type": "markdown",
   "id": "b3816f7b-8d70-4ade-8b08-833bd29279ef",
   "metadata": {},
   "source": [
    "## Create and Initialize Slice Manager Object\n",
    "Users can request tokens with different Project and Scopes by altering `project_name` and `scope` parameters in the refresh call below."
   ]
  },
  {
   "cell_type": "code",
   "execution_count": 4,
   "id": "69c8d7d5-84eb-4be0-a98b-5e58b9e5aacd",
   "metadata": {},
   "outputs": [],
   "source": [
    "slice_manager = SliceManager(oc_host = orchestrator_host, cm_host = credmgr_host, project_name = 'all', scope = 'all')\n",
    "slice_manager.initialize()"
   ]
  },
  {
   "cell_type": "markdown",
   "id": "38d7377a-de16-4a21-b6cb-afa5631e0faa",
   "metadata": {},
   "source": [
    "### Refresh the ID Token\n",
    "\n",
    "ID Tokens expire one hour after refresh. "
   ]
  },
  {
   "cell_type": "code",
   "execution_count": 5,
   "id": "c44139d5-5cc1-4c91-a58b-3b210073decb",
   "metadata": {},
   "outputs": [
    {
     "name": "stdout",
     "output_type": "stream",
     "text": [
      "\n",
      "New Refresh Token: NB2HI4DTHIXS6Y3JNRXWO33OFZXXEZZPN5QXK5DIGIXTIMLCGE2GEMDBGAYWINTCGMYGGYRZMU3WENZQMMYDGNDEMFRDKOJ7OR4XAZJ5OJSWM4TFONUFI33LMVXCM5DTHUYTMMRYGM3DMNZTGU2DAOJGOZSXE43JN5XD25RSFYYCM3DJMZSXI2LNMU6TQNRUGAYDAMBQ\n",
      "\n",
      "Stored new Refresh Token\n",
      "Stored 'fabric_refresh_token' (str)\n"
     ]
    }
   ],
   "source": [
    "try:\n",
    "    id_token, refresh_token = slice_manager.refresh_tokens()\n",
    "except Exception as e:\n",
    "    print(\"Exception occurred while getting tokens:{}\".format(e))\n",
    "\n",
    "fabric_refresh_token=slice_manager.get_refresh_token()\n",
    "print()\n",
    "print(\"New Refresh Token: {}\".format(fabric_refresh_token))\n",
    "print()\n",
    "print(\"Stored new Refresh Token\")\n",
    "%store fabric_refresh_token"
   ]
  },
  {
   "cell_type": "markdown",
   "id": "e297cb69-9043-4bfd-8689-4b2fa97df7ad",
   "metadata": {},
   "source": [
    "### Query Slices"
   ]
  },
  {
   "cell_type": "code",
   "execution_count": 6,
   "id": "2853f7d8-4b4c-44a3-b329-eae9c78b571d",
   "metadata": {},
   "outputs": [
    {
     "name": "stdout",
     "output_type": "stream",
     "text": [
      "Response Status Status.OK\n",
      "Slices [{\n",
      "    \"graph_id\": \"2b6dba6b-fdd2-4658-8d4b-e46a874a8f7b\",\n",
      "    \"lease_end\": \"2021-08-07 22:43:44\",\n",
      "    \"slice_id\": \"d1664743-1748-4f5a-a565-1083e0a6855c\",\n",
      "    \"slice_name\": \"Slice-l2bridge-sriov\",\n",
      "    \"slice_state\": \"StableOK\"\n",
      "}]\n"
     ]
    }
   ],
   "source": [
    "status, slices = slice_manager.slices()\n",
    "\n",
    "print(\"Response Status {}\".format(status))\n",
    "if status == Status.OK:\n",
    "    print(\"Slices {}\".format(slices))\n",
    "else:\n",
    "    print(f\"Failure: {slices}\")"
   ]
  },
  {
   "cell_type": "markdown",
   "id": "eda839d3-52f2-47fe-a4ee-a137bb0542cf",
   "metadata": {},
   "source": [
    "### Get Slice Information, Query Slivers From Slices"
   ]
  },
  {
   "cell_type": "code",
   "execution_count": 7,
   "id": "fb5893a7-0d03-4cf5-a24b-1c1a88ec9a6e",
   "metadata": {},
   "outputs": [
    {
     "name": "stdout",
     "output_type": "stream",
     "text": [
      "\n",
      "Slice Name: Slice-l2bridge-sriov\n",
      "\n",
      "Response Status Status.OK\n",
      "Slivers [{\n",
      "    \"graph_node_id\": \"1e945cf3-151c-41c6-90a2-9dc6c574eebe\",\n",
      "    \"join_state\": \"NoJoin\",\n",
      "    \"lease_end\": \"2021-08-07 22:43:44\",\n",
      "    \"name\": \"bridge1\",\n",
      "    \"pending_state\": \"None_\",\n",
      "    \"reservation_id\": \"4b8f1bd5-a1cc-4fb3-934b-ea9a685e3bed\",\n",
      "    \"reservation_state\": \"Active\",\n",
      "    \"resource_type\": \"L2Bridge\",\n",
      "    \"site\": \"LBNL\",\n",
      "    \"slice_id\": \"d1664743-1748-4f5a-a565-1083e0a6855c\"\n",
      "}, {\n",
      "    \"allocated_capacities\": \"{\\\"core\\\": 2, \\\"disk\\\": 10, \\\"ram\\\": 8}\",\n",
      "    \"allocated_labels\": \"{\\\"instance\\\": \\\"instance-000000e5\\\", \\\"instance_parent\\\": \\\"lbnl-w2.fabric-testbed.net\\\"}\",\n",
      "    \"capacities\": \"{\\\"core\\\": 2, \\\"disk\\\": 10, \\\"ram\\\": 6}\",\n",
      "    \"capacity_hints\": \"{\\\"instance_type\\\": \\\"fabric.c2.m8.d10\\\"}\",\n",
      "    \"graph_node_id\": \"0e38eb30-7b59-4eee-9563-0361f6e1b023\",\n",
      "    \"join_state\": \"NoJoin\",\n",
      "    \"lease_end\": \"2021-08-07 22:43:44\",\n",
      "    \"management_ip\": \"198.129.61.37\",\n",
      "    \"name\": \"node2\",\n",
      "    \"pending_state\": \"None_\",\n",
      "    \"reservation_id\": \"cc5d1fd5-c09c-4fe6-b9df-614911f42439\",\n",
      "    \"reservation_state\": \"Active\",\n",
      "    \"resource_type\": \"VM\",\n",
      "    \"site\": \"LBNL\",\n",
      "    \"slice_id\": \"d1664743-1748-4f5a-a565-1083e0a6855c\"\n",
      "}, {\n",
      "    \"allocated_capacities\": \"{\\\"core\\\": 2, \\\"disk\\\": 10, \\\"ram\\\": 8}\",\n",
      "    \"allocated_labels\": \"{\\\"instance\\\": \\\"instance-000000e6\\\", \\\"instance_parent\\\": \\\"lbnl-w2.fabric-testbed.net\\\"}\",\n",
      "    \"capacities\": \"{\\\"core\\\": 2, \\\"disk\\\": 10, \\\"ram\\\": 6}\",\n",
      "    \"capacity_hints\": \"{\\\"instance_type\\\": \\\"fabric.c2.m8.d10\\\"}\",\n",
      "    \"graph_node_id\": \"7b518575-de4e-41ca-ac7f-29b1b4464b29\",\n",
      "    \"join_state\": \"NoJoin\",\n",
      "    \"lease_end\": \"2021-08-07 22:43:44\",\n",
      "    \"management_ip\": \"198.129.61.34\",\n",
      "    \"name\": \"node1\",\n",
      "    \"pending_state\": \"None_\",\n",
      "    \"reservation_id\": \"4d1db7f3-76f9-4572-8a7f-9a718fc04633\",\n",
      "    \"reservation_state\": \"Active\",\n",
      "    \"resource_type\": \"VM\",\n",
      "    \"site\": \"LBNL\",\n",
      "    \"slice_id\": \"d1664743-1748-4f5a-a565-1083e0a6855c\"\n",
      "}]\n"
     ]
    }
   ],
   "source": [
    "slice_ids = [slice.slice_id for slice in slices]\n",
    "slice_names = [slice.slice_name for slice in slices]\n",
    "slice_lease_ends = [slice.lease_end for slice in slices]\n",
    "clean_slice_lease_ends = []\n",
    "\n",
    "months = ['January', 'February', 'March', 'April', 'May', 'June', 'July', 'August', 'September', 'October', 'November', 'December']\n",
    "for sle in slice_lease_ends:\n",
    "    year = sle[:4]\n",
    "    month = months[int(sle[5:7]) - 1]\n",
    "    day = sle[8:10]\n",
    "    if day[0] == '0':\n",
    "        day = day[1]\n",
    "    hour = sle[11:13]\n",
    "    ampm = \"AM\" if int(hour) <= 12 else \"PM\"\n",
    "    if hour[0] == '0':\n",
    "        hour = hour[1]\n",
    "    if int(hour) > 12:\n",
    "        hour = str(int(hour) - 12)\n",
    "    minute = sle[14:16]\n",
    "    second = sle[17:19]\n",
    "    date = month + ' ' + day + ', ' + year + f' [{hour}:{minute}:{second} {ampm}]'\n",
    "    clean_slice_lease_ends.append(date)\n",
    "    \n",
    "\n",
    "for slice_id in slice_ids:\n",
    "    status, slivers = slice_manager.slivers(slice_id = slice_id)\n",
    "    \n",
    "    print(f'\\nSlice Name: {slice_names[slice_ids.index(slice_id)]}\\n')\n",
    "    print(\"Response Status {}\".format(status))\n",
    "    if status == Status.OK:\n",
    "        print(\"Slivers {}\".format(slivers))\n",
    "    else:\n",
    "        print(f\"Failure: {slivers}\")"
   ]
  },
  {
   "cell_type": "markdown",
   "id": "cf7ccce5-18a2-4e10-a7da-b6175acb12c3",
   "metadata": {},
   "source": [
    "### Create and Save Map\n",
    "\n",
    "- Click radio buttons to generate map for different slices\n",
    "- Click markers to view details about individual resources\n",
    "- Map saves as interactable HTML file"
   ]
  },
  {
   "cell_type": "code",
   "execution_count": 15,
   "id": "d7233159-60a5-4e83-918f-4adaf55be6e1",
   "metadata": {},
   "outputs": [
    {
     "data": {
      "application/vnd.jupyter.widget-view+json": {
       "model_id": "2e60b75ad1ab404b97e9252f15e34bc8",
       "version_major": 2,
       "version_minor": 0
      },
      "text/plain": [
       "Button(description='Generate', style=ButtonStyle(), tooltip='Click to reset map')"
      ]
     },
     "metadata": {},
     "output_type": "display_data"
    },
    {
     "data": {
      "application/vnd.jupyter.widget-view+json": {
       "model_id": "9fc2d0be38dd45fd9482a643fec1c83f",
       "version_major": 2,
       "version_minor": 0
      },
      "text/plain": [
       "Output()"
      ]
     },
     "metadata": {},
     "output_type": "display_data"
    }
   ],
   "source": [
    "site_dict = {'UKY': (38.03154264461649, -84.50343326019218), 'RENC': (35.93996154497003, -79.01809264307425), 'LBNL': (38.94977311613871, -122.61289106281062)}\n",
    "\n",
    "import folium\n",
    "from folium.plugins import MarkerCluster\n",
    "from folium.features import DivIcon\n",
    "import branca\n",
    "from branca.element import Template, MacroElement\n",
    "import ipywidgets as widgets\n",
    "from IPython.display import clear_output\n",
    "\n",
    "def generate(b):\n",
    "    with output:\n",
    "        clear_output()\n",
    "        base = folium.Map(location = (38.12480976137421, -95.7129), zoom_start = 4.2, zoom_control = False, scrollWheelZoom = False, dragging = False, max_bounds = True)\n",
    "\n",
    "        for slice_id in slice_ids:\n",
    "            status, slivers = slice_manager.slivers(slice_id = slice_id)\n",
    "\n",
    "            labels = {}\n",
    "            for sliver in slivers:\n",
    "                status, sliver_status = slice_manager.sliver_status(slice_id = slice_id, sliver_id = sliver.reservation_id)\n",
    "                if sliver_status.resource_type == \"VM\":\n",
    "                    name = sliver_status.name\n",
    "                    site = sliver_status.site\n",
    "                    capacities = sliver_status.capacities\n",
    "                    state = sliver_status.reservation_state\n",
    "                    info = (site, capacities, site_dict[site], state)\n",
    "                    labels[name] = info\n",
    "\n",
    "            locations = []\n",
    "            popups = []\n",
    "            icons = []\n",
    "\n",
    "            for label in labels:\n",
    "                locations.append(site_dict[labels[label][0]])\n",
    "                popups.append(folium.Popup(branca.element.IFrame(html = f'<strong style=\"font-family: Verdana\">Resource: {label} [{labels[label][3]}]</strong><br>Site: {labels[label][0]}<br>Capacities: {labels[label][1]}', width = 350, height = 90), max_width = 350))\n",
    "                color = None\n",
    "                if labels[label][3] == 'Active':\n",
    "                    color = 'green'\n",
    "                elif labels[label][3] == 'Closing':\n",
    "                    color = 'orange'\n",
    "                else:\n",
    "                    color = 'red'\n",
    "                icons.append(folium.Icon(color = color, icon = 'server', prefix = 'fa'))\n",
    "\n",
    "            cluster = MarkerCluster(name = slice_names[slice_ids.index(slice_id)], \n",
    "                                    locations = locations, \n",
    "                                    popups = popups, \n",
    "                                    icons = icons,\n",
    "                                    show = False)\n",
    "            folium.map.Marker((55, -110), \n",
    "                              icon = DivIcon(icon_size = (300, 80),\n",
    "                                             icon_anchor = (0, 0),\n",
    "                                             html = f'<div style=\"font-size: 20pt;font-family: Verdana;text-align: center;border: 1pt solid lightgray;background: ghostwhite\">{slice_names[slice_ids.index(slice_id)]}<h3 style=\"font-size: 10pt;font-family: Verdana\">Lease End: {clean_slice_lease_ends[slice_ids.index(slice_id)]}')).add_to(cluster)\n",
    "            cluster.add_to(base)\n",
    "\n",
    "\n",
    "\n",
    "\n",
    "        folium.LayerControl(collapsed = False).add_to(base)\n",
    "        folium.map.Marker((53.85, -77.7), \n",
    "                              icon = DivIcon(icon_size = (110, 60),\n",
    "                                             icon_anchor = (0, 0),\n",
    "                                             html = '<div style=\"font-size: 10pt;font-family: Verdana;text-align: center;border: 1pt solid lightgray;background: ghostwhite\">Click to view map for slice</div>')).add_to(base)\n",
    "\n",
    "        template = \"\"\"\n",
    "        {% macro html(this, kwargs) %}\n",
    "\n",
    "        <!doctype html>\n",
    "        <html lang=\"en\">\n",
    "        <head>\n",
    "          <meta charset=\"utf-8\">\n",
    "          <meta name=\"viewport\" content=\"width=device-width, initial-scale=1\">\n",
    "          <title>jQuery UI Draggable - Default functionality</title>\n",
    "          <link rel=\"stylesheet\" href=\"//code.jquery.com/ui/1.12.1/themes/base/jquery-ui.css\">\n",
    "\n",
    "          <script src=\"https://code.jquery.com/jquery-1.12.4.js\"></script>\n",
    "          <script src=\"https://code.jquery.com/ui/1.12.1/jquery-ui.js\"></script>\n",
    "\n",
    "          <script>\n",
    "          $( function() {\n",
    "            $( \"#maplegend\" ).draggable({\n",
    "                            start: function (event, ui) {\n",
    "                                $(this).css({\n",
    "                                    right: \"auto\",\n",
    "                                    top: \"auto\",\n",
    "                                    bottom: \"auto\"\n",
    "                                });\n",
    "                            }\n",
    "                        });\n",
    "        });\n",
    "\n",
    "          </script>\n",
    "        </head>\n",
    "        <body>\n",
    "\n",
    "\n",
    "        <div id='maplegend' class='maplegend' \n",
    "            style='position: absolute; z-index:9999; border:2px solid grey; background-color:rgba(255, 255, 255, 0.8);\n",
    "             border-radius:6px; padding: 10px; font-size:14px;font-family: Verdana; right: 20px; bottom: 20px;'>\n",
    "\n",
    "        <div class='legend-title'>Legend</div>\n",
    "        <div class='legend-scale'>\n",
    "          <ul class='legend-labels'>\n",
    "            <li><span style='background:green;opacity:0.7;'></span>Active</li>\n",
    "            <li><span style='background:orange;opacity:0.7;'></span>Closing</li>\n",
    "            <li><span style='background:red;opacity:0.7;'></span>Dead</li>\n",
    "\n",
    "          </ul>\n",
    "        </div>\n",
    "        </div>\n",
    "\n",
    "        </body>\n",
    "        </html>\n",
    "\n",
    "        <style type='text/css'>\n",
    "          .maplegend .legend-title {\n",
    "            text-align: left;\n",
    "            margin-bottom: 5px;\n",
    "            font-weight: bold;\n",
    "            font-size: 90%;\n",
    "            }\n",
    "          .maplegend .legend-scale ul {\n",
    "            margin: 0;\n",
    "            margin-bottom: 5px;\n",
    "            padding: 0;\n",
    "            float: left;\n",
    "            list-style: none;\n",
    "            }\n",
    "          .maplegend .legend-scale ul li {\n",
    "            font-size: 80%;\n",
    "            list-style: none;\n",
    "            margin-left: 0;\n",
    "            line-height: 18px;\n",
    "            margin-bottom: 2px;\n",
    "            }\n",
    "          .maplegend ul.legend-labels li span {\n",
    "            display: block;\n",
    "            float: left;\n",
    "            height: 16px;\n",
    "            width: 30px;\n",
    "            margin-right: 5px;\n",
    "            margin-left: 0;\n",
    "            border: 1px solid #999;\n",
    "            }\n",
    "          .maplegend .legend-source {\n",
    "            font-size: 80%;\n",
    "            color: #777;\n",
    "            clear: both;\n",
    "            }\n",
    "          .maplegend a {\n",
    "            color: #777;\n",
    "            }\n",
    "\n",
    "        </style>\n",
    "        {% endmacro %}\n",
    "        \"\"\"\n",
    "\n",
    "\n",
    "        macro = MacroElement()\n",
    "        macro._template = Template(template)\n",
    "\n",
    "        base.get_root().add_child(macro)\n",
    "\n",
    "        base.save('map.html')\n",
    "        display(base)\n",
    "\n",
    "button = widgets.Button(description = 'Generate', disabled = False, tooltip = 'Click to reset map')\n",
    "output = widgets.Output()\n",
    "display(button, output)\n",
    "button.on_click(generate)"
   ]
  },
  {
   "cell_type": "code",
   "execution_count": null,
   "id": "21b46b69-0e82-4856-baa4-e600aa30c1ab",
   "metadata": {},
   "outputs": [],
   "source": []
  },
  {
   "cell_type": "code",
   "execution_count": null,
   "id": "e577324b-aa86-4267-8e9a-50fa4d620cf5",
   "metadata": {},
   "outputs": [],
   "source": []
  }
 ],
 "metadata": {
  "kernelspec": {
   "display_name": "Python 3",
   "language": "python",
   "name": "python3"
  },
  "language_info": {
   "codemirror_mode": {
    "name": "ipython",
    "version": 3
   },
   "file_extension": ".py",
   "mimetype": "text/x-python",
   "name": "python",
   "nbconvert_exporter": "python",
   "pygments_lexer": "ipython3",
   "version": "3.9.2"
  }
 },
 "nbformat": 4,
 "nbformat_minor": 5
}
