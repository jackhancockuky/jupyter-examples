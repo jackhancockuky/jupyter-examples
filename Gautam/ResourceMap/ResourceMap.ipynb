{
 "cells": [
  {
   "cell_type": "markdown",
   "id": "63a7554f-28a1-4cd3-a698-f62d980bfbf7",
   "metadata": {},
   "source": [
    "# FABRIC Example: Map of Active Resources\n",
    "\n",
    "\n",
    "## Configure the Environment"
   ]
  },
  {
   "cell_type": "code",
   "execution_count": 130,
   "id": "70c1f6d4-063a-485a-ae41-a01c644febc7",
   "metadata": {},
   "outputs": [
    {
     "name": "stdout",
     "output_type": "stream",
     "text": [
      "CM Host: beta-2.fabric-testbed.net Orchestrator Host: beta-7.fabric-testbed.net\n",
      "beta-2.fabric-testbed.net\n"
     ]
    }
   ],
   "source": [
    "import os\n",
    "from fabrictestbed.slice_manager import SliceManager, Status\n",
    "import json\n",
    "\n",
    "credmgr_host = os.environ['FABRIC_CREDMGR_HOST']\n",
    "orchestrator_host = os.environ['FABRIC_ORCHESTRATOR_HOST']\n",
    "print(f\"CM Host: {credmgr_host} Orchestrator Host: {orchestrator_host}\")\n",
    "print(os.environ['FABRIC_CREDMGR_HOST'])\n",
    "\n",
    "#Configure SSH Key\n",
    "ssh_key = None\n",
    "with open (\"/home/fabric/.ssh/id_rsa.pub\", \"r\") as myfile:\n",
    "    ssh_key=myfile.read().strip()"
   ]
  },
  {
   "cell_type": "markdown",
   "id": "3eccf019-031e-4412-bb95-dc7d2652b0b0",
   "metadata": {},
   "source": [
    "### Save the Initial Refresh Token"
   ]
  },
  {
   "cell_type": "code",
   "execution_count": 131,
   "id": "bc951cf2-58a1-4b38-a3da-267dbdc3aa27",
   "metadata": {},
   "outputs": [
    {
     "name": "stdout",
     "output_type": "stream",
     "text": [
      "Fabric Refresh Token NB2HI4DTHIXS6Y3JNRXWO33OFZXXEZZPN5QXK5DIGIXTKNRVGRRTEYJZMI4DINJZMM2DANJYMMYWMMDFG5STQNLFGM4WMMB7OR4XAZJ5OJSWM4TFONUFI33LMVXCM5DTHUYTMMRYGIYDEMJSGM4DSNJGOZSXE43JN5XD25RSFYYCM3DJMZSXI2LNMU6TQNRUGAYDAMBQ\n",
      "CILOGON_REFRESH_TOKEN environment variable: NB2HI4DTHIXS6Y3JNRXWO33OFZXXEZZPN5QXK5DIGIXTIZBYGY2TIMDCMIYWINTFGJTDAN3DGFSTKZRVMQZTEMZQMJTDQOJ7OR4XAZJ5OJSWM4TFONUFI33LMVXCM5DTHUYTMMRYGE4DIOBTGA4TMNRGOZSXE43JN5XD25RSFYYCM3DJMZSXI2LNMU6TQNRUGAYDAMBQ\n"
     ]
    }
   ],
   "source": [
    "#Retrieve or set the refresh token (exprires 24 hours after login)\n",
    "not_found=False\n",
    "fabric_refresh_token=None\n",
    "%store -r fabric_refresh_token\n",
    "\n",
    "if fabric_refresh_token is None:\n",
    "    fabric_refresh_token=os.environ['CILOGON_REFRESH_TOKEN']\n",
    "    %store fabric_refresh_token\n",
    "print(\"Fabric Refresh Token {}\".format(fabric_refresh_token))\n",
    "print(\"CILOGON_REFRESH_TOKEN environment variable: {}\".format(os.environ['CILOGON_REFRESH_TOKEN']))"
   ]
  },
  {
   "cell_type": "markdown",
   "id": "b3816f7b-8d70-4ade-8b08-833bd29279ef",
   "metadata": {},
   "source": [
    "## Create and Initialize Slice Manager Object\n",
    "Users can request tokens with different Project and Scopes by altering `project_name` and `scope` parameters in the refresh call below."
   ]
  },
  {
   "cell_type": "code",
   "execution_count": 132,
   "id": "69c8d7d5-84eb-4be0-a98b-5e58b9e5aacd",
   "metadata": {},
   "outputs": [],
   "source": [
    "slice_manager = SliceManager(oc_host = orchestrator_host, cm_host = credmgr_host, project_name = 'all', scope = 'all')\n",
    "slice_manager.initialize()"
   ]
  },
  {
   "cell_type": "markdown",
   "id": "38d7377a-de16-4a21-b6cb-afa5631e0faa",
   "metadata": {},
   "source": [
    "### Refresh the ID Token\n",
    "\n",
    "ID Tokens expire one hour after refresh. "
   ]
  },
  {
   "cell_type": "code",
   "execution_count": 133,
   "id": "c44139d5-5cc1-4c91-a58b-3b210073decb",
   "metadata": {},
   "outputs": [
    {
     "name": "stdout",
     "output_type": "stream",
     "text": [
      "\n",
      "New Refresh Token: NB2HI4DTHIXS6Y3JNRXWO33OFZXXEZZPN5QXK5DIGIXTOMLCMI3DANZYMJSDGMBWMNSWEYTCG43GKYRQGEYTSYJUGIZTGMZ7OR4XAZJ5OJSWM4TFONUFI33LMVXCM5DTHUYTMMRYGIYDIMZUG44TEMBGOZSXE43JN5XD25RSFYYCM3DJMZSXI2LNMU6TQNRUGAYDAMBQ\n",
      "\n",
      "Stored new Refresh Token\n",
      "Stored 'fabric_refresh_token' (str)\n"
     ]
    }
   ],
   "source": [
    "try:\n",
    "    id_token, refresh_token = slice_manager.refresh_tokens()\n",
    "except Exception as e:\n",
    "    print(\"Exception occurred while getting tokens:{}\".format(e))\n",
    "\n",
    "fabric_refresh_token=slice_manager.get_refresh_token()\n",
    "print()\n",
    "print(\"New Refresh Token: {}\".format(fabric_refresh_token))\n",
    "print()\n",
    "print(\"Stored new Refresh Token\")\n",
    "%store fabric_refresh_token"
   ]
  },
  {
   "cell_type": "markdown",
   "id": "e297cb69-9043-4bfd-8689-4b2fa97df7ad",
   "metadata": {},
   "source": [
    "### Query Active Slices"
   ]
  },
  {
   "cell_type": "code",
   "execution_count": 134,
   "id": "2853f7d8-4b4c-44a3-b329-eae9c78b571d",
   "metadata": {},
   "outputs": [
    {
     "name": "stdout",
     "output_type": "stream",
     "text": [
      "Response Status Status.OK\n",
      "{\n",
      "    \"graph_id\": \"788d3fee-914f-4c85-9bca-315d418c1f44\",\n",
      "    \"lease_end\": \"2021-08-06 20:44:19\",\n",
      "    \"slice_id\": \"82b26488-8973-47b0-a04c-5b425b19e230\",\n",
      "    \"slice_name\": \"Slice-sts-ded\",\n",
      "    \"slice_state\": \"Closing\"\n",
      "}\n",
      "{\n",
      "    \"graph_id\": \"8d472954-dd99-498b-b6a0-6252c81905b9\",\n",
      "    \"lease_end\": \"2021-08-06 21:09:26\",\n",
      "    \"slice_id\": \"4a15718b-19e9-4eb1-af19-ac302d9e5189\",\n",
      "    \"slice_name\": \"Slice-l2bridge-sriov\",\n",
      "    \"slice_state\": \"StableOK\"\n",
      "}\n"
     ]
    }
   ],
   "source": [
    "status, slices = slice_manager.slices(state = \"All\")\n",
    "active_slices = []\n",
    "\n",
    "from time import gmtime, strftime\n",
    "now = strftime(\"%Y-%m-%d %H:%M:%S\", gmtime())\n",
    "\n",
    "print(\"Response Status {}\".format(status))\n",
    "if status == Status.OK:\n",
    "    for slice in slices:\n",
    "        if slice.slice_state != 'Dead' and (now < slice.lease_end):\n",
    "            active_slices.append(slice)\n",
    "            print(slice)\n",
    "else:\n",
    "    print(f\"Failure: {slices}\")"
   ]
  },
  {
   "cell_type": "markdown",
   "id": "eda839d3-52f2-47fe-a4ee-a137bb0542cf",
   "metadata": {},
   "source": [
    "### Get IDs of Active Slices, Query Slivers From Slices"
   ]
  },
  {
   "cell_type": "code",
   "execution_count": 135,
   "id": "fb5893a7-0d03-4cf5-a24b-1c1a88ec9a6e",
   "metadata": {},
   "outputs": [
    {
     "name": "stdout",
     "output_type": "stream",
     "text": [
      "\n",
      "Slice Name: Slice-sts-ded\n",
      "\n",
      "Response Status Status.OK\n",
      "Slivers [{\n",
      "    \"graph_node_id\": \"f6f9f5ed-46f4-4950-a201-1beb95ce8b59\",\n",
      "    \"join_state\": \"NoJoin\",\n",
      "    \"lease_end\": \"2021-08-06 20:44:19\",\n",
      "    \"name\": \"sts1\",\n",
      "    \"pending_state\": \"None_\",\n",
      "    \"reservation_id\": \"909f6686-ad8b-4092-a057-63a4d4e0b573\",\n",
      "    \"reservation_state\": \"Closed\",\n",
      "    \"resource_type\": \"L2STS\",\n",
      "    \"slice_id\": \"82b26488-8973-47b0-a04c-5b425b19e230\"\n",
      "}, {\n",
      "    \"allocated_capacities\": \"{\\\"core\\\": 2, \\\"disk\\\": 10, \\\"ram\\\": 8}\",\n",
      "    \"allocated_labels\": \"{\\\"instance_parent\\\": \\\"uky-w2.fabric-testbed.net\\\"}\",\n",
      "    \"capacities\": \"{\\\"core\\\": 2, \\\"disk\\\": 10, \\\"ram\\\": 6}\",\n",
      "    \"capacity_hints\": \"{\\\"instance_type\\\": \\\"fabric.c2.m8.d10\\\"}\",\n",
      "    \"graph_node_id\": \"6a3a092b-5fd8-476e-8abb-a26e565a6bed\",\n",
      "    \"join_state\": \"NoJoin\",\n",
      "    \"lease_end\": \"2021-08-06 20:44:19\",\n",
      "    \"name\": \"n1\",\n",
      "    \"pending_state\": \"None_\",\n",
      "    \"reservation_id\": \"fa6535a7-f137-481a-b424-dd7131fb1bd2\",\n",
      "    \"reservation_state\": \"Closed\",\n",
      "    \"resource_type\": \"VM\",\n",
      "    \"site\": \"UKY\",\n",
      "    \"slice_id\": \"82b26488-8973-47b0-a04c-5b425b19e230\"\n",
      "}, {\n",
      "    \"allocated_capacities\": \"{\\\"core\\\": 2, \\\"disk\\\": 10, \\\"ram\\\": 8}\",\n",
      "    \"allocated_labels\": \"{\\\"instance_parent\\\": \\\"lbnl-w2.fabric-testbed.net\\\"}\",\n",
      "    \"capacities\": \"{\\\"core\\\": 2, \\\"disk\\\": 10, \\\"ram\\\": 6}\",\n",
      "    \"capacity_hints\": \"{\\\"instance_type\\\": \\\"fabric.c2.m8.d10\\\"}\",\n",
      "    \"graph_node_id\": \"ec0fabab-c34c-473f-aab9-67c1415be7e2\",\n",
      "    \"join_state\": \"NoJoin\",\n",
      "    \"lease_end\": \"2021-08-06 20:44:19\",\n",
      "    \"name\": \"n2\",\n",
      "    \"pending_state\": \"None_\",\n",
      "    \"reservation_id\": \"49b1c5f5-ef53-4121-94b9-4f0181393b6c\",\n",
      "    \"reservation_state\": \"Closed\",\n",
      "    \"resource_type\": \"VM\",\n",
      "    \"site\": \"LBNL\",\n",
      "    \"slice_id\": \"82b26488-8973-47b0-a04c-5b425b19e230\"\n",
      "}, {\n",
      "    \"capacities\": \"{\\\"core\\\": 2, \\\"disk\\\": 10, \\\"ram\\\": 6}\",\n",
      "    \"capacity_hints\": \"{\\\"instance_type\\\": \\\"fabric.c2.m8.d10\\\"}\",\n",
      "    \"graph_node_id\": \"72996109-7f5b-47c9-ae1f-948ce91c2aad\",\n",
      "    \"join_state\": \"NoJoin\",\n",
      "    \"lease_end\": \"2021-08-06 20:44:19\",\n",
      "    \"name\": \"n3\",\n",
      "    \"pending_state\": \"None_\",\n",
      "    \"reservation_id\": \"7d6b9dea-4fc9-4a55-a7a1-3105cab1ec2e\",\n",
      "    \"reservation_state\": \"Closed\",\n",
      "    \"resource_type\": \"VM\",\n",
      "    \"site\": \"LBNL\",\n",
      "    \"slice_id\": \"82b26488-8973-47b0-a04c-5b425b19e230\"\n",
      "}]\n",
      "\n",
      "Slice Name: Slice-l2bridge-sriov\n",
      "\n",
      "Response Status Status.OK\n",
      "Slivers [{\n",
      "    \"graph_node_id\": \"07010b79-88b9-4988-bd89-5d7d23bcb5f7\",\n",
      "    \"join_state\": \"NoJoin\",\n",
      "    \"lease_end\": \"2021-08-06 21:09:26\",\n",
      "    \"name\": \"bridge1\",\n",
      "    \"pending_state\": \"None_\",\n",
      "    \"reservation_id\": \"022df589-ee49-48ae-99ee-f2283c10aae7\",\n",
      "    \"reservation_state\": \"Active\",\n",
      "    \"resource_type\": \"L2Bridge\",\n",
      "    \"site\": \"LBNL\",\n",
      "    \"slice_id\": \"4a15718b-19e9-4eb1-af19-ac302d9e5189\"\n",
      "}, {\n",
      "    \"allocated_capacities\": \"{\\\"core\\\": 2, \\\"disk\\\": 10, \\\"ram\\\": 8}\",\n",
      "    \"allocated_labels\": \"{\\\"instance\\\": \\\"instance-000000dd\\\", \\\"instance_parent\\\": \\\"lbnl-w2.fabric-testbed.net\\\"}\",\n",
      "    \"capacities\": \"{\\\"core\\\": 2, \\\"disk\\\": 10, \\\"ram\\\": 6}\",\n",
      "    \"capacity_hints\": \"{\\\"instance_type\\\": \\\"fabric.c2.m8.d10\\\"}\",\n",
      "    \"graph_node_id\": \"27d08c1f-e3c4-46ea-86c4-0496f35daeb5\",\n",
      "    \"join_state\": \"NoJoin\",\n",
      "    \"lease_end\": \"2021-08-06 21:09:26\",\n",
      "    \"management_ip\": \"198.129.61.38\",\n",
      "    \"name\": \"node2\",\n",
      "    \"pending_state\": \"None_\",\n",
      "    \"reservation_id\": \"c68e700d-44e8-4258-9103-0b9de95362b3\",\n",
      "    \"reservation_state\": \"Active\",\n",
      "    \"resource_type\": \"VM\",\n",
      "    \"site\": \"LBNL\",\n",
      "    \"slice_id\": \"4a15718b-19e9-4eb1-af19-ac302d9e5189\"\n",
      "}, {\n",
      "    \"allocated_capacities\": \"{\\\"core\\\": 2, \\\"disk\\\": 10, \\\"ram\\\": 8}\",\n",
      "    \"allocated_labels\": \"{\\\"instance\\\": \\\"instance-000000dc\\\", \\\"instance_parent\\\": \\\"lbnl-w2.fabric-testbed.net\\\"}\",\n",
      "    \"capacities\": \"{\\\"core\\\": 2, \\\"disk\\\": 10, \\\"ram\\\": 6}\",\n",
      "    \"capacity_hints\": \"{\\\"instance_type\\\": \\\"fabric.c2.m8.d10\\\"}\",\n",
      "    \"graph_node_id\": \"47ce3016-d2ca-4f01-802a-b8bbf769c177\",\n",
      "    \"join_state\": \"NoJoin\",\n",
      "    \"lease_end\": \"2021-08-06 21:09:26\",\n",
      "    \"management_ip\": \"198.129.61.47\",\n",
      "    \"name\": \"node1\",\n",
      "    \"pending_state\": \"None_\",\n",
      "    \"reservation_id\": \"19b05b40-4fab-479e-b342-c561c8b3ac2f\",\n",
      "    \"reservation_state\": \"Active\",\n",
      "    \"resource_type\": \"VM\",\n",
      "    \"site\": \"LBNL\",\n",
      "    \"slice_id\": \"4a15718b-19e9-4eb1-af19-ac302d9e5189\"\n",
      "}]\n"
     ]
    }
   ],
   "source": [
    "slice_ids = [slice.slice_id for slice in active_slices]\n",
    "slice_names = [slice.slice_name for slice in active_slices]\n",
    "\n",
    "for slice_id in slice_ids:\n",
    "    status, slivers = slice_manager.slivers(slice_id = slice_id)\n",
    "    \n",
    "    print(f'\\nSlice Name: {slice_names[slice_ids.index(slice_id)]}\\n')\n",
    "    print(\"Response Status {}\".format(status))\n",
    "    if status == Status.OK:\n",
    "        print(\"Slivers {}\".format(slivers))\n",
    "    else:\n",
    "        print(f\"Failure: {slivers}\")"
   ]
  },
  {
   "cell_type": "markdown",
   "id": "cf7ccce5-18a2-4e10-a7da-b6175acb12c3",
   "metadata": {},
   "source": [
    "### Create and Save Map\n",
    "\n",
    "- Click radio buttons to generate map for different slices\n",
    "- Click markers to view details about individual resources\n",
    "- Map saves as interactable HTML file"
   ]
  },
  {
   "cell_type": "code",
   "execution_count": 136,
   "id": "d7233159-60a5-4e83-918f-4adaf55be6e1",
   "metadata": {},
   "outputs": [
    {
     "data": {
      "text/html": [
       "<div style=\"width:100%;\"><div style=\"position:relative;width:100%;height:0;padding-bottom:60%;\"><span style=\"color:#565656\">Make this Notebook Trusted to load map: File -> Trust Notebook</span><iframe src=\"about:blank\" style=\"position:absolute;width:100%;height:100%;left:0;top:0;border:none !important;\" data-html=%3C%21DOCTYPE%20html%3E%0A%3Chead%3E%20%20%20%20%0A%20%20%20%20%3Cmeta%20http-equiv%3D%22content-type%22%20content%3D%22text/html%3B%20charset%3DUTF-8%22%20/%3E%0A%20%20%20%20%0A%20%20%20%20%20%20%20%20%3Cscript%3E%0A%20%20%20%20%20%20%20%20%20%20%20%20L_NO_TOUCH%20%3D%20false%3B%0A%20%20%20%20%20%20%20%20%20%20%20%20L_DISABLE_3D%20%3D%20false%3B%0A%20%20%20%20%20%20%20%20%3C/script%3E%0A%20%20%20%20%0A%20%20%20%20%3Cstyle%3Ehtml%2C%20body%20%7Bwidth%3A%20100%25%3Bheight%3A%20100%25%3Bmargin%3A%200%3Bpadding%3A%200%3B%7D%3C/style%3E%0A%20%20%20%20%3Cstyle%3E%23map%20%7Bposition%3Aabsolute%3Btop%3A0%3Bbottom%3A0%3Bright%3A0%3Bleft%3A0%3B%7D%3C/style%3E%0A%20%20%20%20%3Cscript%20src%3D%22https%3A//cdn.jsdelivr.net/npm/leaflet%401.6.0/dist/leaflet.js%22%3E%3C/script%3E%0A%20%20%20%20%3Cscript%20src%3D%22https%3A//code.jquery.com/jquery-1.12.4.min.js%22%3E%3C/script%3E%0A%20%20%20%20%3Cscript%20src%3D%22https%3A//maxcdn.bootstrapcdn.com/bootstrap/3.2.0/js/bootstrap.min.js%22%3E%3C/script%3E%0A%20%20%20%20%3Cscript%20src%3D%22https%3A//cdnjs.cloudflare.com/ajax/libs/Leaflet.awesome-markers/2.0.2/leaflet.awesome-markers.js%22%3E%3C/script%3E%0A%20%20%20%20%3Clink%20rel%3D%22stylesheet%22%20href%3D%22https%3A//cdn.jsdelivr.net/npm/leaflet%401.6.0/dist/leaflet.css%22/%3E%0A%20%20%20%20%3Clink%20rel%3D%22stylesheet%22%20href%3D%22https%3A//maxcdn.bootstrapcdn.com/bootstrap/3.2.0/css/bootstrap.min.css%22/%3E%0A%20%20%20%20%3Clink%20rel%3D%22stylesheet%22%20href%3D%22https%3A//maxcdn.bootstrapcdn.com/bootstrap/3.2.0/css/bootstrap-theme.min.css%22/%3E%0A%20%20%20%20%3Clink%20rel%3D%22stylesheet%22%20href%3D%22https%3A//maxcdn.bootstrapcdn.com/font-awesome/4.6.3/css/font-awesome.min.css%22/%3E%0A%20%20%20%20%3Clink%20rel%3D%22stylesheet%22%20href%3D%22https%3A//cdnjs.cloudflare.com/ajax/libs/Leaflet.awesome-markers/2.0.2/leaflet.awesome-markers.css%22/%3E%0A%20%20%20%20%3Clink%20rel%3D%22stylesheet%22%20href%3D%22https%3A//cdn.jsdelivr.net/gh/python-visualization/folium/folium/templates/leaflet.awesome.rotate.min.css%22/%3E%0A%20%20%20%20%0A%20%20%20%20%20%20%20%20%20%20%20%20%3Cmeta%20name%3D%22viewport%22%20content%3D%22width%3Ddevice-width%2C%0A%20%20%20%20%20%20%20%20%20%20%20%20%20%20%20%20initial-scale%3D1.0%2C%20maximum-scale%3D1.0%2C%20user-scalable%3Dno%22%20/%3E%0A%20%20%20%20%20%20%20%20%20%20%20%20%3Cstyle%3E%0A%20%20%20%20%20%20%20%20%20%20%20%20%20%20%20%20%23map_d8219487af074f0a995fdd532d442d7e%20%7B%0A%20%20%20%20%20%20%20%20%20%20%20%20%20%20%20%20%20%20%20%20position%3A%20relative%3B%0A%20%20%20%20%20%20%20%20%20%20%20%20%20%20%20%20%20%20%20%20width%3A%20100.0%25%3B%0A%20%20%20%20%20%20%20%20%20%20%20%20%20%20%20%20%20%20%20%20height%3A%20100.0%25%3B%0A%20%20%20%20%20%20%20%20%20%20%20%20%20%20%20%20%20%20%20%20left%3A%200.0%25%3B%0A%20%20%20%20%20%20%20%20%20%20%20%20%20%20%20%20%20%20%20%20top%3A%200.0%25%3B%0A%20%20%20%20%20%20%20%20%20%20%20%20%20%20%20%20%7D%0A%20%20%20%20%20%20%20%20%20%20%20%20%3C/style%3E%0A%20%20%20%20%20%20%20%20%0A%20%20%20%20%3Cscript%20src%3D%22https%3A//cdnjs.cloudflare.com/ajax/libs/leaflet.markercluster/1.1.0/leaflet.markercluster.js%22%3E%3C/script%3E%0A%20%20%20%20%3Clink%20rel%3D%22stylesheet%22%20href%3D%22https%3A//cdnjs.cloudflare.com/ajax/libs/leaflet.markercluster/1.1.0/MarkerCluster.css%22/%3E%0A%20%20%20%20%3Clink%20rel%3D%22stylesheet%22%20href%3D%22https%3A//cdnjs.cloudflare.com/ajax/libs/leaflet.markercluster/1.1.0/MarkerCluster.Default.css%22/%3E%0A%3C/head%3E%0A%3Cbody%3E%20%20%20%20%0A%20%20%20%20%0A%20%20%20%20%20%20%20%20%20%20%20%20%3Cdiv%20class%3D%22folium-map%22%20id%3D%22map_d8219487af074f0a995fdd532d442d7e%22%20%3E%3C/div%3E%0A%20%20%20%20%20%20%20%20%0A%3C/body%3E%0A%3Cscript%3E%20%20%20%20%0A%20%20%20%20%0A%20%20%20%20%20%20%20%20%20%20%20%20var%20map_d8219487af074f0a995fdd532d442d7e%20%3D%20L.map%28%0A%20%20%20%20%20%20%20%20%20%20%20%20%20%20%20%20%22map_d8219487af074f0a995fdd532d442d7e%22%2C%0A%20%20%20%20%20%20%20%20%20%20%20%20%20%20%20%20%7B%0A%20%20%20%20%20%20%20%20%20%20%20%20%20%20%20%20%20%20%20%20center%3A%20%5B38.12480976137421%2C%20-95.7129%5D%2C%0A%20%20%20%20%20%20%20%20%20%20%20%20%20%20%20%20%20%20%20%20crs%3A%20L.CRS.EPSG3857%2C%0A%20%20%20%20%20%20%20%20%20%20%20%20%20%20%20%20%20%20%20%20zoom%3A%204.2%2C%0A%20%20%20%20%20%20%20%20%20%20%20%20%20%20%20%20%20%20%20%20zoomControl%3A%20true%2C%0A%20%20%20%20%20%20%20%20%20%20%20%20%20%20%20%20%20%20%20%20preferCanvas%3A%20false%2C%0A%20%20%20%20%20%20%20%20%20%20%20%20%20%20%20%20%7D%0A%20%20%20%20%20%20%20%20%20%20%20%20%29%3B%0A%0A%20%20%20%20%20%20%20%20%20%20%20%20%0A%0A%20%20%20%20%20%20%20%20%0A%20%20%20%20%0A%20%20%20%20%20%20%20%20%20%20%20%20var%20tile_layer_7c5b049c245244a09092edf8e2f536d0%20%3D%20L.tileLayer%28%0A%20%20%20%20%20%20%20%20%20%20%20%20%20%20%20%20%22https%3A//%7Bs%7D.tile.openstreetmap.org/%7Bz%7D/%7Bx%7D/%7By%7D.png%22%2C%0A%20%20%20%20%20%20%20%20%20%20%20%20%20%20%20%20%7B%22attribution%22%3A%20%22Data%20by%20%5Cu0026copy%3B%20%5Cu003ca%20href%3D%5C%22http%3A//openstreetmap.org%5C%22%5Cu003eOpenStreetMap%5Cu003c/a%5Cu003e%2C%20under%20%5Cu003ca%20href%3D%5C%22http%3A//www.openstreetmap.org/copyright%5C%22%5Cu003eODbL%5Cu003c/a%5Cu003e.%22%2C%20%22detectRetina%22%3A%20false%2C%20%22maxNativeZoom%22%3A%2018%2C%20%22maxZoom%22%3A%2018%2C%20%22minZoom%22%3A%200%2C%20%22noWrap%22%3A%20false%2C%20%22opacity%22%3A%201%2C%20%22subdomains%22%3A%20%22abc%22%2C%20%22tms%22%3A%20false%7D%0A%20%20%20%20%20%20%20%20%20%20%20%20%29.addTo%28map_d8219487af074f0a995fdd532d442d7e%29%3B%0A%20%20%20%20%20%20%20%20%0A%20%20%20%20%0A%20%20%20%20%20%20%20%20%20%20%20%20var%20marker_cluster_92baabe738024b11a96150a3dd93245a%20%3D%20L.markerClusterGroup%28%0A%20%20%20%20%20%20%20%20%20%20%20%20%20%20%20%20%7B%7D%0A%20%20%20%20%20%20%20%20%20%20%20%20%29%3B%0A%20%20%20%20%20%20%20%20%20%20%20%20map_d8219487af074f0a995fdd532d442d7e.addLayer%28marker_cluster_92baabe738024b11a96150a3dd93245a%29%3B%0A%20%20%20%20%20%20%20%20%0A%20%20%20%20%0A%20%20%20%20%20%20%20%20%20%20%20%20var%20marker_d75dd7f248e7404b81648b3772977c14%20%3D%20L.marker%28%0A%20%20%20%20%20%20%20%20%20%20%20%20%20%20%20%20%5B38.03154264461649%2C%20-84.50343326019218%5D%2C%0A%20%20%20%20%20%20%20%20%20%20%20%20%20%20%20%20%7B%7D%0A%20%20%20%20%20%20%20%20%20%20%20%20%29.addTo%28marker_cluster_92baabe738024b11a96150a3dd93245a%29%3B%0A%20%20%20%20%20%20%20%20%0A%20%20%20%20%0A%20%20%20%20%20%20%20%20%20%20%20%20var%20icon_f8a116fbcbab41fbbe023c93c5fe3d13%20%3D%20L.AwesomeMarkers.icon%28%0A%20%20%20%20%20%20%20%20%20%20%20%20%20%20%20%20%7B%22extraClasses%22%3A%20%22fa-rotate-0%22%2C%20%22icon%22%3A%20%22server%22%2C%20%22iconColor%22%3A%20%22white%22%2C%20%22markerColor%22%3A%20%22green%22%2C%20%22prefix%22%3A%20%22fa%22%7D%0A%20%20%20%20%20%20%20%20%20%20%20%20%29%3B%0A%20%20%20%20%20%20%20%20%20%20%20%20marker_d75dd7f248e7404b81648b3772977c14.setIcon%28icon_f8a116fbcbab41fbbe023c93c5fe3d13%29%3B%0A%20%20%20%20%20%20%20%20%0A%20%20%20%20%0A%20%20%20%20%20%20%20%20var%20popup_dfb9f93f69c245e584b51b71b126dadd%20%3D%20L.popup%28%7B%22maxWidth%22%3A%20300%7D%29%3B%0A%0A%20%20%20%20%20%20%20%20%0A%20%20%20%20%20%20%20%20%20%20%20%20var%20i_frame_90e5f37e55774cbc8cd11c376ff4797f%20%3D%20%24%28%60%3Ciframe%20src%3D%22data%3Atext/html%3Bcharset%3Dutf-8%3Bbase64%2CCiAgICA8c3Ryb25nIHN0eWxlPSJmb250LWZhbWlseTogVmVyZGFuYSI%2BUmVzb3VyY2U6IG4xPC9zdHJvbmc%2BPGJyPlNpdGU6IFVLWTxicj5DYXBhY2l0aWVzOiB7IGNvcmU6IDIgLCByYW06IDYgRywgZGlzazogMTAgR30%3D%22%20width%3D%22300%22%20style%3D%22border%3Anone%20%21important%3B%22%20height%3D%2270%22%3E%3C/iframe%3E%60%29%5B0%5D%3B%0A%20%20%20%20%20%20%20%20%20%20%20%20popup_dfb9f93f69c245e584b51b71b126dadd.setContent%28i_frame_90e5f37e55774cbc8cd11c376ff4797f%29%3B%0A%20%20%20%20%20%20%20%20%0A%0A%20%20%20%20%20%20%20%20marker_d75dd7f248e7404b81648b3772977c14.bindPopup%28popup_dfb9f93f69c245e584b51b71b126dadd%29%0A%20%20%20%20%20%20%20%20%3B%0A%0A%20%20%20%20%20%20%20%20%0A%20%20%20%20%0A%20%20%20%20%0A%20%20%20%20%20%20%20%20%20%20%20%20var%20marker_b6251d610d9643a9874aca2d0574cc5f%20%3D%20L.marker%28%0A%20%20%20%20%20%20%20%20%20%20%20%20%20%20%20%20%5B38.94977311613871%2C%20-122.61289106281062%5D%2C%0A%20%20%20%20%20%20%20%20%20%20%20%20%20%20%20%20%7B%7D%0A%20%20%20%20%20%20%20%20%20%20%20%20%29.addTo%28marker_cluster_92baabe738024b11a96150a3dd93245a%29%3B%0A%20%20%20%20%20%20%20%20%0A%20%20%20%20%0A%20%20%20%20%20%20%20%20%20%20%20%20var%20icon_f8cb4f8ff5ff4be187e4200ec11e304c%20%3D%20L.AwesomeMarkers.icon%28%0A%20%20%20%20%20%20%20%20%20%20%20%20%20%20%20%20%7B%22extraClasses%22%3A%20%22fa-rotate-0%22%2C%20%22icon%22%3A%20%22server%22%2C%20%22iconColor%22%3A%20%22white%22%2C%20%22markerColor%22%3A%20%22green%22%2C%20%22prefix%22%3A%20%22fa%22%7D%0A%20%20%20%20%20%20%20%20%20%20%20%20%29%3B%0A%20%20%20%20%20%20%20%20%20%20%20%20marker_b6251d610d9643a9874aca2d0574cc5f.setIcon%28icon_f8cb4f8ff5ff4be187e4200ec11e304c%29%3B%0A%20%20%20%20%20%20%20%20%0A%20%20%20%20%0A%20%20%20%20%20%20%20%20var%20popup_ad509536a6864846b64eea13da81fc31%20%3D%20L.popup%28%7B%22maxWidth%22%3A%20300%7D%29%3B%0A%0A%20%20%20%20%20%20%20%20%0A%20%20%20%20%20%20%20%20%20%20%20%20var%20i_frame_257ce0a37fef4d8a80b7b2a4465d1282%20%3D%20%24%28%60%3Ciframe%20src%3D%22data%3Atext/html%3Bcharset%3Dutf-8%3Bbase64%2CCiAgICA8c3Ryb25nIHN0eWxlPSJmb250LWZhbWlseTogVmVyZGFuYSI%2BUmVzb3VyY2U6IG4yPC9zdHJvbmc%2BPGJyPlNpdGU6IExCTkw8YnI%2BQ2FwYWNpdGllczogeyBjb3JlOiAyICwgcmFtOiA2IEcsIGRpc2s6IDEwIEd9%22%20width%3D%22300%22%20style%3D%22border%3Anone%20%21important%3B%22%20height%3D%2270%22%3E%3C/iframe%3E%60%29%5B0%5D%3B%0A%20%20%20%20%20%20%20%20%20%20%20%20popup_ad509536a6864846b64eea13da81fc31.setContent%28i_frame_257ce0a37fef4d8a80b7b2a4465d1282%29%3B%0A%20%20%20%20%20%20%20%20%0A%0A%20%20%20%20%20%20%20%20marker_b6251d610d9643a9874aca2d0574cc5f.bindPopup%28popup_ad509536a6864846b64eea13da81fc31%29%0A%20%20%20%20%20%20%20%20%3B%0A%0A%20%20%20%20%20%20%20%20%0A%20%20%20%20%0A%20%20%20%20%0A%20%20%20%20%20%20%20%20%20%20%20%20var%20marker_ab71f00ce0024c6c9ef352e2e4f7cae4%20%3D%20L.marker%28%0A%20%20%20%20%20%20%20%20%20%20%20%20%20%20%20%20%5B38.94977311613871%2C%20-122.61289106281062%5D%2C%0A%20%20%20%20%20%20%20%20%20%20%20%20%20%20%20%20%7B%7D%0A%20%20%20%20%20%20%20%20%20%20%20%20%29.addTo%28marker_cluster_92baabe738024b11a96150a3dd93245a%29%3B%0A%20%20%20%20%20%20%20%20%0A%20%20%20%20%0A%20%20%20%20%20%20%20%20%20%20%20%20var%20icon_457711941b63456b8d1402612fb74136%20%3D%20L.AwesomeMarkers.icon%28%0A%20%20%20%20%20%20%20%20%20%20%20%20%20%20%20%20%7B%22extraClasses%22%3A%20%22fa-rotate-0%22%2C%20%22icon%22%3A%20%22server%22%2C%20%22iconColor%22%3A%20%22white%22%2C%20%22markerColor%22%3A%20%22green%22%2C%20%22prefix%22%3A%20%22fa%22%7D%0A%20%20%20%20%20%20%20%20%20%20%20%20%29%3B%0A%20%20%20%20%20%20%20%20%20%20%20%20marker_ab71f00ce0024c6c9ef352e2e4f7cae4.setIcon%28icon_457711941b63456b8d1402612fb74136%29%3B%0A%20%20%20%20%20%20%20%20%0A%20%20%20%20%0A%20%20%20%20%20%20%20%20var%20popup_c6b5c32165ea45c8bceedc499ca7fd1a%20%3D%20L.popup%28%7B%22maxWidth%22%3A%20300%7D%29%3B%0A%0A%20%20%20%20%20%20%20%20%0A%20%20%20%20%20%20%20%20%20%20%20%20var%20i_frame_c173fe08b3f34744933c07b6a032cae1%20%3D%20%24%28%60%3Ciframe%20src%3D%22data%3Atext/html%3Bcharset%3Dutf-8%3Bbase64%2CCiAgICA8c3Ryb25nIHN0eWxlPSJmb250LWZhbWlseTogVmVyZGFuYSI%2BUmVzb3VyY2U6IG4zPC9zdHJvbmc%2BPGJyPlNpdGU6IExCTkw8YnI%2BQ2FwYWNpdGllczogeyBjb3JlOiAyICwgcmFtOiA2IEcsIGRpc2s6IDEwIEd9%22%20width%3D%22300%22%20style%3D%22border%3Anone%20%21important%3B%22%20height%3D%2270%22%3E%3C/iframe%3E%60%29%5B0%5D%3B%0A%20%20%20%20%20%20%20%20%20%20%20%20popup_c6b5c32165ea45c8bceedc499ca7fd1a.setContent%28i_frame_c173fe08b3f34744933c07b6a032cae1%29%3B%0A%20%20%20%20%20%20%20%20%0A%0A%20%20%20%20%20%20%20%20marker_ab71f00ce0024c6c9ef352e2e4f7cae4.bindPopup%28popup_c6b5c32165ea45c8bceedc499ca7fd1a%29%0A%20%20%20%20%20%20%20%20%3B%0A%0A%20%20%20%20%20%20%20%20%0A%20%20%20%20%0A%20%20%20%20%0A%20%20%20%20%20%20%20%20%20%20%20%20var%20marker_b1dfb8035e06427eb4638541e54e3039%20%3D%20L.marker%28%0A%20%20%20%20%20%20%20%20%20%20%20%20%20%20%20%20%5B52.0%2C%20-110.0%5D%2C%0A%20%20%20%20%20%20%20%20%20%20%20%20%20%20%20%20%7B%7D%0A%20%20%20%20%20%20%20%20%20%20%20%20%29.addTo%28marker_cluster_92baabe738024b11a96150a3dd93245a%29%3B%0A%20%20%20%20%20%20%20%20%0A%20%20%20%20%0A%20%20%20%20%20%20%20%20%20%20%20%20var%20div_icon_0fed1845560547388860e7705fbf267d%20%3D%20L.divIcon%28%7B%22className%22%3A%20%22empty%22%2C%20%22html%22%3A%20%22%5Cu003cdiv%20style%3D%5C%22font-size%3A%2020pt%3Bfont-family%3A%20Verdana%5C%22%5Cu003eSlice-sts-ded%5Cu003c/div%5Cu003e%22%2C%20%22iconAnchor%22%3A%20%5B0%2C%200%5D%2C%20%22iconSize%22%3A%20%5B300%2C%2060%5D%7D%29%3B%0A%20%20%20%20%20%20%20%20%20%20%20%20marker_b1dfb8035e06427eb4638541e54e3039.setIcon%28div_icon_0fed1845560547388860e7705fbf267d%29%3B%0A%20%20%20%20%20%20%20%20%0A%20%20%20%20%0A%20%20%20%20%20%20%20%20%20%20%20%20var%20marker_cluster_3d5ce3f62c804af7b01b44d2d3cb905c%20%3D%20L.markerClusterGroup%28%0A%20%20%20%20%20%20%20%20%20%20%20%20%20%20%20%20%7B%7D%0A%20%20%20%20%20%20%20%20%20%20%20%20%29%3B%0A%20%20%20%20%20%20%20%20%20%20%20%20map_d8219487af074f0a995fdd532d442d7e.addLayer%28marker_cluster_3d5ce3f62c804af7b01b44d2d3cb905c%29%3B%0A%20%20%20%20%20%20%20%20%0A%20%20%20%20%0A%20%20%20%20%20%20%20%20%20%20%20%20var%20marker_2fc55ae3ddb84a059427b895c960b84a%20%3D%20L.marker%28%0A%20%20%20%20%20%20%20%20%20%20%20%20%20%20%20%20%5B38.94977311613871%2C%20-122.61289106281062%5D%2C%0A%20%20%20%20%20%20%20%20%20%20%20%20%20%20%20%20%7B%7D%0A%20%20%20%20%20%20%20%20%20%20%20%20%29.addTo%28marker_cluster_3d5ce3f62c804af7b01b44d2d3cb905c%29%3B%0A%20%20%20%20%20%20%20%20%0A%20%20%20%20%0A%20%20%20%20%20%20%20%20%20%20%20%20var%20icon_402215ac49c14649bd44c85f3a6decc3%20%3D%20L.AwesomeMarkers.icon%28%0A%20%20%20%20%20%20%20%20%20%20%20%20%20%20%20%20%7B%22extraClasses%22%3A%20%22fa-rotate-0%22%2C%20%22icon%22%3A%20%22server%22%2C%20%22iconColor%22%3A%20%22white%22%2C%20%22markerColor%22%3A%20%22green%22%2C%20%22prefix%22%3A%20%22fa%22%7D%0A%20%20%20%20%20%20%20%20%20%20%20%20%29%3B%0A%20%20%20%20%20%20%20%20%20%20%20%20marker_2fc55ae3ddb84a059427b895c960b84a.setIcon%28icon_402215ac49c14649bd44c85f3a6decc3%29%3B%0A%20%20%20%20%20%20%20%20%0A%20%20%20%20%0A%20%20%20%20%20%20%20%20var%20popup_88403a113ee24e849b017139d62ec6a7%20%3D%20L.popup%28%7B%22maxWidth%22%3A%20300%7D%29%3B%0A%0A%20%20%20%20%20%20%20%20%0A%20%20%20%20%20%20%20%20%20%20%20%20var%20i_frame_42aa7c573d5b4204970d59f1ceae06b8%20%3D%20%24%28%60%3Ciframe%20src%3D%22data%3Atext/html%3Bcharset%3Dutf-8%3Bbase64%2CCiAgICA8c3Ryb25nIHN0eWxlPSJmb250LWZhbWlseTogVmVyZGFuYSI%2BUmVzb3VyY2U6IG5vZGUyPC9zdHJvbmc%2BPGJyPlNpdGU6IExCTkw8YnI%2BQ2FwYWNpdGllczogeyBjb3JlOiAyICwgcmFtOiA2IEcsIGRpc2s6IDEwIEd9%22%20width%3D%22300%22%20style%3D%22border%3Anone%20%21important%3B%22%20height%3D%2270%22%3E%3C/iframe%3E%60%29%5B0%5D%3B%0A%20%20%20%20%20%20%20%20%20%20%20%20popup_88403a113ee24e849b017139d62ec6a7.setContent%28i_frame_42aa7c573d5b4204970d59f1ceae06b8%29%3B%0A%20%20%20%20%20%20%20%20%0A%0A%20%20%20%20%20%20%20%20marker_2fc55ae3ddb84a059427b895c960b84a.bindPopup%28popup_88403a113ee24e849b017139d62ec6a7%29%0A%20%20%20%20%20%20%20%20%3B%0A%0A%20%20%20%20%20%20%20%20%0A%20%20%20%20%0A%20%20%20%20%0A%20%20%20%20%20%20%20%20%20%20%20%20var%20marker_080b97a36cfb436bbe88f1887d588431%20%3D%20L.marker%28%0A%20%20%20%20%20%20%20%20%20%20%20%20%20%20%20%20%5B38.94977311613871%2C%20-122.61289106281062%5D%2C%0A%20%20%20%20%20%20%20%20%20%20%20%20%20%20%20%20%7B%7D%0A%20%20%20%20%20%20%20%20%20%20%20%20%29.addTo%28marker_cluster_3d5ce3f62c804af7b01b44d2d3cb905c%29%3B%0A%20%20%20%20%20%20%20%20%0A%20%20%20%20%0A%20%20%20%20%20%20%20%20%20%20%20%20var%20icon_960235220b6a4c98b798483fd6e5621e%20%3D%20L.AwesomeMarkers.icon%28%0A%20%20%20%20%20%20%20%20%20%20%20%20%20%20%20%20%7B%22extraClasses%22%3A%20%22fa-rotate-0%22%2C%20%22icon%22%3A%20%22server%22%2C%20%22iconColor%22%3A%20%22white%22%2C%20%22markerColor%22%3A%20%22green%22%2C%20%22prefix%22%3A%20%22fa%22%7D%0A%20%20%20%20%20%20%20%20%20%20%20%20%29%3B%0A%20%20%20%20%20%20%20%20%20%20%20%20marker_080b97a36cfb436bbe88f1887d588431.setIcon%28icon_960235220b6a4c98b798483fd6e5621e%29%3B%0A%20%20%20%20%20%20%20%20%0A%20%20%20%20%0A%20%20%20%20%20%20%20%20var%20popup_13ef49af603049f79371030748e794e9%20%3D%20L.popup%28%7B%22maxWidth%22%3A%20300%7D%29%3B%0A%0A%20%20%20%20%20%20%20%20%0A%20%20%20%20%20%20%20%20%20%20%20%20var%20i_frame_0c1e5f9e363c4446bce401d5f13e1269%20%3D%20%24%28%60%3Ciframe%20src%3D%22data%3Atext/html%3Bcharset%3Dutf-8%3Bbase64%2CCiAgICA8c3Ryb25nIHN0eWxlPSJmb250LWZhbWlseTogVmVyZGFuYSI%2BUmVzb3VyY2U6IG5vZGUxPC9zdHJvbmc%2BPGJyPlNpdGU6IExCTkw8YnI%2BQ2FwYWNpdGllczogeyBjb3JlOiAyICwgcmFtOiA2IEcsIGRpc2s6IDEwIEd9%22%20width%3D%22300%22%20style%3D%22border%3Anone%20%21important%3B%22%20height%3D%2270%22%3E%3C/iframe%3E%60%29%5B0%5D%3B%0A%20%20%20%20%20%20%20%20%20%20%20%20popup_13ef49af603049f79371030748e794e9.setContent%28i_frame_0c1e5f9e363c4446bce401d5f13e1269%29%3B%0A%20%20%20%20%20%20%20%20%0A%0A%20%20%20%20%20%20%20%20marker_080b97a36cfb436bbe88f1887d588431.bindPopup%28popup_13ef49af603049f79371030748e794e9%29%0A%20%20%20%20%20%20%20%20%3B%0A%0A%20%20%20%20%20%20%20%20%0A%20%20%20%20%0A%20%20%20%20%0A%20%20%20%20%20%20%20%20%20%20%20%20var%20marker_112c800c029c4fcc82b6948c25a22312%20%3D%20L.marker%28%0A%20%20%20%20%20%20%20%20%20%20%20%20%20%20%20%20%5B52.0%2C%20-110.0%5D%2C%0A%20%20%20%20%20%20%20%20%20%20%20%20%20%20%20%20%7B%7D%0A%20%20%20%20%20%20%20%20%20%20%20%20%29.addTo%28marker_cluster_3d5ce3f62c804af7b01b44d2d3cb905c%29%3B%0A%20%20%20%20%20%20%20%20%0A%20%20%20%20%0A%20%20%20%20%20%20%20%20%20%20%20%20var%20div_icon_6c93d8d2996146e698f269c280b9e4fe%20%3D%20L.divIcon%28%7B%22className%22%3A%20%22empty%22%2C%20%22html%22%3A%20%22%5Cu003cdiv%20style%3D%5C%22font-size%3A%2020pt%3Bfont-family%3A%20Verdana%5C%22%5Cu003eSlice-l2bridge-sriov%5Cu003c/div%5Cu003e%22%2C%20%22iconAnchor%22%3A%20%5B0%2C%200%5D%2C%20%22iconSize%22%3A%20%5B300%2C%2060%5D%7D%29%3B%0A%20%20%20%20%20%20%20%20%20%20%20%20marker_112c800c029c4fcc82b6948c25a22312.setIcon%28div_icon_6c93d8d2996146e698f269c280b9e4fe%29%3B%0A%20%20%20%20%20%20%20%20%0A%20%20%20%20%0A%20%20%20%20%20%20%20%20%20%20%20%20var%20layer_control_efa6744f815e4230b8488bc88c72010d%20%3D%20%7B%0A%20%20%20%20%20%20%20%20%20%20%20%20%20%20%20%20base_layers%20%3A%20%7B%0A%20%20%20%20%20%20%20%20%20%20%20%20%20%20%20%20%20%20%20%20%22openstreetmap%22%20%3A%20tile_layer_7c5b049c245244a09092edf8e2f536d0%2C%0A%20%20%20%20%20%20%20%20%20%20%20%20%20%20%20%20%7D%2C%0A%20%20%20%20%20%20%20%20%20%20%20%20%20%20%20%20overlays%20%3A%20%20%7B%0A%20%20%20%20%20%20%20%20%20%20%20%20%20%20%20%20%20%20%20%20%22Slice-sts-ded%22%20%3A%20marker_cluster_92baabe738024b11a96150a3dd93245a%2C%0A%20%20%20%20%20%20%20%20%20%20%20%20%20%20%20%20%20%20%20%20%22Slice-l2bridge-sriov%22%20%3A%20marker_cluster_3d5ce3f62c804af7b01b44d2d3cb905c%2C%0A%20%20%20%20%20%20%20%20%20%20%20%20%20%20%20%20%7D%2C%0A%20%20%20%20%20%20%20%20%20%20%20%20%7D%3B%0A%20%20%20%20%20%20%20%20%20%20%20%20L.control.layers%28%0A%20%20%20%20%20%20%20%20%20%20%20%20%20%20%20%20layer_control_efa6744f815e4230b8488bc88c72010d.base_layers%2C%0A%20%20%20%20%20%20%20%20%20%20%20%20%20%20%20%20layer_control_efa6744f815e4230b8488bc88c72010d.overlays%2C%0A%20%20%20%20%20%20%20%20%20%20%20%20%20%20%20%20%7B%22autoZIndex%22%3A%20true%2C%20%22collapsed%22%3A%20false%2C%20%22position%22%3A%20%22topright%22%7D%0A%20%20%20%20%20%20%20%20%20%20%20%20%29.addTo%28map_d8219487af074f0a995fdd532d442d7e%29%3B%0A%20%20%20%20%20%20%20%20%20%20%20%20marker_cluster_92baabe738024b11a96150a3dd93245a.remove%28%29%3B%0A%20%20%20%20%20%20%20%20%20%20%20%20marker_cluster_3d5ce3f62c804af7b01b44d2d3cb905c.remove%28%29%3B%0A%20%20%20%20%20%20%20%20%0A%20%20%20%20%0A%20%20%20%20%20%20%20%20%20%20%20%20var%20marker_fb9fe1c43aa04c1fb183b1c8421eb2de%20%3D%20L.marker%28%0A%20%20%20%20%20%20%20%20%20%20%20%20%20%20%20%20%5B54.0%2C%20-75.0%5D%2C%0A%20%20%20%20%20%20%20%20%20%20%20%20%20%20%20%20%7B%7D%0A%20%20%20%20%20%20%20%20%20%20%20%20%29.addTo%28map_d8219487af074f0a995fdd532d442d7e%29%3B%0A%20%20%20%20%20%20%20%20%0A%20%20%20%20%0A%20%20%20%20%20%20%20%20%20%20%20%20var%20div_icon_91059d4515d8401796889b7d7596e2cb%20%3D%20L.divIcon%28%7B%22className%22%3A%20%22empty%22%2C%20%22html%22%3A%20%22%5Cu003cp%20style%3D%5C%22font-size%3A%2010pt%3Bfont-family%3A%20Verdana%3Btext-align%3A%20center%5C%22%5Cu003eClick%20to%20generate%20map%20for%20resource%5Cu003c/p%5Cu003e%22%2C%20%22iconAnchor%22%3A%20%5B0%2C%200%5D%2C%20%22iconSize%22%3A%20%5B110%2C%2060%5D%7D%29%3B%0A%20%20%20%20%20%20%20%20%20%20%20%20marker_fb9fe1c43aa04c1fb183b1c8421eb2de.setIcon%28div_icon_91059d4515d8401796889b7d7596e2cb%29%3B%0A%20%20%20%20%20%20%20%20%0A%3C/script%3E onload=\"this.contentDocument.open();this.contentDocument.write(    decodeURIComponent(this.getAttribute('data-html')));this.contentDocument.close();\" allowfullscreen webkitallowfullscreen mozallowfullscreen></iframe></div></div>"
      ],
      "text/plain": [
       "<folium.folium.Map at 0x7f535f1b9ca0>"
      ]
     },
     "execution_count": 136,
     "metadata": {},
     "output_type": "execute_result"
    }
   ],
   "source": [
    "site_dict = {'UKY': (38.03154264461649, -84.50343326019218), 'RENC': (35.93996154497003, -79.01809264307425), 'LBNL': (38.94977311613871, -122.61289106281062)}\n",
    "\n",
    "import folium\n",
    "import branca\n",
    "from folium.plugins import MarkerCluster\n",
    "from folium.features import DivIcon\n",
    "\n",
    "base = folium.Map(location = (38.12480976137421, -95.7129), zoom_start = 4.2)\n",
    "\n",
    "for slice_id in slice_ids:\n",
    "    status, slivers = slice_manager.slivers(slice_id = slice_id)\n",
    "\n",
    "    labels = {}\n",
    "    for sliver in slivers:\n",
    "        status, sliver_status = slice_manager.sliver_status(slice_id = slice_id, sliver_id = sliver.reservation_id)\n",
    "        if sliver_status.resource_type == \"VM\":\n",
    "            name = sliver_status.name\n",
    "            site = sliver_status.site\n",
    "            capacities = sliver_status.capacities\n",
    "            info = (site, capacities, site_dict[site])\n",
    "            labels[name] = info\n",
    "            sliver_status.\n",
    "\n",
    "    locations = []\n",
    "    popups = []\n",
    "    icons = []\n",
    "\n",
    "    for label in labels:\n",
    "        locations.append(site_dict[labels[label][0]])\n",
    "        popups.append(folium.Popup(branca.element.IFrame(html = f'<strong style=\"font-family: Verdana\">Resource: {label}</strong><br>Site: {labels[label][0]}<br>Capacities: {labels[label][1]}', width = 300, height = 70), max_width = 300))\n",
    "        icons.append(folium.Icon(color = 'green', icon = 'server', prefix = 'fa'))\n",
    "        \n",
    "    cluster = MarkerCluster(name = slice_names[slice_ids.index(slice_id)], \n",
    "                            locations = locations, \n",
    "                            popups = popups, \n",
    "                            icons = icons,\n",
    "                            show = False)\n",
    "    folium.map.Marker((52, -110), \n",
    "                      icon = DivIcon(icon_size = (300, 60),\n",
    "                                     icon_anchor = (0, 0),\n",
    "                                     html = f'<div style=\"font-size: 20pt;font-family: Verdana\">{slice_names[slice_ids.index(slice_id)]}</div>')).add_to(cluster)\n",
    "    cluster.add_to(base)\n",
    "    \n",
    "    \n",
    "    \n",
    "                                                 \n",
    "folium.LayerControl(collapsed = False).add_to(base)\n",
    "folium.map.Marker((54, -75), \n",
    "                      icon = DivIcon(icon_size = (110, 60),\n",
    "                                     icon_anchor = (0, 0),\n",
    "                                     html = '<p style=\"font-size: 10pt;font-family: Verdana;text-align: center\">Click to generate map for resource</p>')).add_to(base)\n",
    "\n",
    "base.save('map.html')\n",
    "base"
   ]
  },
  {
   "cell_type": "code",
   "execution_count": null,
   "id": "21b46b69-0e82-4856-baa4-e600aa30c1ab",
   "metadata": {},
   "outputs": [],
   "source": []
  }
 ],
 "metadata": {
  "kernelspec": {
   "display_name": "Python 3",
   "language": "python",
   "name": "python3"
  },
  "language_info": {
   "codemirror_mode": {
    "name": "ipython",
    "version": 3
   },
   "file_extension": ".py",
   "mimetype": "text/x-python",
   "name": "python",
   "nbconvert_exporter": "python",
   "pygments_lexer": "ipython3",
   "version": "3.9.2"
  }
 },
 "nbformat": 4,
 "nbformat_minor": 5
}
