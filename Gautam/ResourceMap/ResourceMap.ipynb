{
 "cells": [
  {
   "cell_type": "markdown",
   "id": "63a7554f-28a1-4cd3-a698-f62d980bfbf7",
   "metadata": {},
   "source": [
    "# FABRIC Example: Map of Resources\n",
    "\n",
    "\n",
    "## Configure the Environment\n",
    "\n",
    "This process may take a moment, as the folium mapping package must be installed to the kernel."
   ]
  },
  {
   "cell_type": "code",
   "execution_count": 13,
   "id": "70c1f6d4-063a-485a-ae41-a01c644febc7",
   "metadata": {},
   "outputs": [
    {
     "name": "stdout",
     "output_type": "stream",
     "text": [
      "CM Host: beta-2.fabric-testbed.net Orchestrator Host: beta-7.fabric-testbed.net\n"
     ]
    }
   ],
   "source": [
    "import os\n",
    "os.system('conda install folium')\n",
    "from fabrictestbed.slice_manager import SliceManager, Status\n",
    "import json\n",
    "\n",
    "credmgr_host = os.environ['FABRIC_CREDMGR_HOST']\n",
    "orchestrator_host = os.environ['FABRIC_ORCHESTRATOR_HOST']\n",
    "print(f\"CM Host: {credmgr_host} Orchestrator Host: {orchestrator_host}\")\n",
    "\n",
    "#Configure SSH Key\n",
    "ssh_key = None\n",
    "with open (\"/home/fabric/.ssh/id_rsa.pub\", \"r\") as myfile:\n",
    "    ssh_key=myfile.read().strip()"
   ]
  },
  {
   "cell_type": "markdown",
   "id": "3eccf019-031e-4412-bb95-dc7d2652b0b0",
   "metadata": {},
   "source": [
    "### Save the Initial Refresh Token"
   ]
  },
  {
   "cell_type": "code",
   "execution_count": 14,
   "id": "bc951cf2-58a1-4b38-a3da-267dbdc3aa27",
   "metadata": {},
   "outputs": [
    {
     "name": "stdout",
     "output_type": "stream",
     "text": [
      "Fabric Refresh Token NB2HI4DTHIXS6Y3JNRXWO33OFZXXEZZPN5QXK5DIGIXTCMLDGJRTCMDFGUZGCMTEGBQTIYJTGBQWKZBYGVSDQNBXMZRDKYR7OR4XAZJ5OJSWM4TFONUFI33LMVXCM5DTHUYTMMRYGI4DSOBTG44DKMBGOZSXE43JN5XD25RSFYYCM3DJMZSXI2LNMU6TQNRUGAYDAMBQ\n",
      "CILOGON_REFRESH_TOKEN environment variable: NB2HI4DTHIXS6Y3JNRXWO33OFZXXEZZPN5QXK5DIGIXTCMJUHAYWGMRQGJRGGYJSGAYDEYTFGEYGKYLBGQ2DQNRTGE3TAMB7OR4XAZJ5OJSWM4TFONUFI33LMVXCM5DTHUYTMMRYGI3DKMZYGIYDQMRGOZSXE43JN5XD25RSFYYCM3DJMZSXI2LNMU6TQNRUGAYDAMBQ\n"
     ]
    }
   ],
   "source": [
    "#Retrieve or set the refresh token (exprires 24 hours after login)\n",
    "not_found=False\n",
    "fabric_refresh_token=None\n",
    "%store -r fabric_refresh_token\n",
    "\n",
    "if fabric_refresh_token is None:\n",
    "    fabric_refresh_token=os.environ['CILOGON_REFRESH_TOKEN']\n",
    "    %store fabric_refresh_token\n",
    "print(\"Fabric Refresh Token {}\".format(fabric_refresh_token))\n",
    "print(\"CILOGON_REFRESH_TOKEN environment variable: {}\".format(os.environ['CILOGON_REFRESH_TOKEN']))"
   ]
  },
  {
   "cell_type": "markdown",
   "id": "b3816f7b-8d70-4ade-8b08-833bd29279ef",
   "metadata": {},
   "source": [
    "## Create and Initialize Slice Manager Object\n",
    "Users can request tokens with different Project and Scopes by altering `project_name` and `scope` parameters in the refresh call below."
   ]
  },
  {
   "cell_type": "code",
   "execution_count": 26,
   "id": "69c8d7d5-84eb-4be0-a98b-5e58b9e5aacd",
   "metadata": {},
   "outputs": [],
   "source": [
    "slice_manager = SliceManager(oc_host = orchestrator_host, cm_host = credmgr_host, project_name = 'all', scope = 'all')\n",
    "slice_manager.initialize()"
   ]
  },
  {
   "cell_type": "markdown",
   "id": "38d7377a-de16-4a21-b6cb-afa5631e0faa",
   "metadata": {},
   "source": [
    "### Refresh the ID Token\n",
    "\n",
    "ID Tokens expire one hour after refresh. "
   ]
  },
  {
   "cell_type": "code",
   "execution_count": 27,
   "id": "c44139d5-5cc1-4c91-a58b-3b210073decb",
   "metadata": {},
   "outputs": [
    {
     "name": "stdout",
     "output_type": "stream",
     "text": [
      "\n",
      "New Refresh Token: NB2HI4DTHIXS6Y3JNRXWO33OFZXXEZZPN5QXK5DIGIXTCZBVGI4TGMZXHBRWINTDMFSTCYRTGY4DONLEGA4DCZTBMM3GENR7OR4XAZJ5OJSWM4TFONUFI33LMVXCM5DTHUYTMMRYGI4DSOJVHAZDKNRGOZSXE43JN5XD25RSFYYCM3DJMZSXI2LNMU6TQNRUGAYDAMBQ\n",
      "\n",
      "Stored new Refresh Token\n",
      "Stored 'fabric_refresh_token' (str)\n"
     ]
    }
   ],
   "source": [
    "try:\n",
    "    id_token, refresh_token = slice_manager.refresh_tokens()\n",
    "except Exception as e:\n",
    "    print(\"Exception occurred while getting tokens:{}\".format(e))\n",
    "\n",
    "fabric_refresh_token=slice_manager.get_refresh_token()\n",
    "print()\n",
    "print(\"New Refresh Token: {}\".format(fabric_refresh_token))\n",
    "print()\n",
    "print(\"Stored new Refresh Token\")\n",
    "%store fabric_refresh_token"
   ]
  },
  {
   "cell_type": "markdown",
   "id": "e297cb69-9043-4bfd-8689-4b2fa97df7ad",
   "metadata": {},
   "source": [
    "### Query Slices"
   ]
  },
  {
   "cell_type": "code",
   "execution_count": 32,
   "id": "2853f7d8-4b4c-44a3-b329-eae9c78b571d",
   "metadata": {},
   "outputs": [
    {
     "name": "stdout",
     "output_type": "stream",
     "text": [
      "Response Status Status.OK\n",
      "Slices [{\n",
      "    \"graph_id\": \"2b6dba6b-fdd2-4658-8d4b-e46a874a8f7b\",\n",
      "    \"lease_end\": \"2021-08-07 22:43:44\",\n",
      "    \"slice_id\": \"d1664743-1748-4f5a-a565-1083e0a6855c\",\n",
      "    \"slice_name\": \"Slice-l2bridge-sriov\",\n",
      "    \"slice_state\": \"StableOK\"\n",
      "}]\n"
     ]
    }
   ],
   "source": [
    "status, slices = slice_manager.slices()\n",
    "\n",
    "print(\"Response Status {}\".format(status))\n",
    "if status == Status.OK:\n",
    "    print(\"Slices {}\".format(slices))\n",
    "else:\n",
    "    print(f\"Failure: {slices}\")"
   ]
  },
  {
   "cell_type": "markdown",
   "id": "eda839d3-52f2-47fe-a4ee-a137bb0542cf",
   "metadata": {},
   "source": [
    "### Get Slice Information, Query Slivers From Slices"
   ]
  },
  {
   "cell_type": "code",
   "execution_count": 33,
   "id": "fb5893a7-0d03-4cf5-a24b-1c1a88ec9a6e",
   "metadata": {},
   "outputs": [
    {
     "name": "stdout",
     "output_type": "stream",
     "text": [
      "\n",
      "Slice Name: Slice-l2bridge-sriov\n",
      "\n",
      "Response Status Status.OK\n",
      "Slivers [{\n",
      "    \"graph_node_id\": \"1e945cf3-151c-41c6-90a2-9dc6c574eebe\",\n",
      "    \"join_state\": \"NoJoin\",\n",
      "    \"lease_end\": \"2021-08-07 22:43:44\",\n",
      "    \"name\": \"bridge1\",\n",
      "    \"pending_state\": \"None_\",\n",
      "    \"reservation_id\": \"4b8f1bd5-a1cc-4fb3-934b-ea9a685e3bed\",\n",
      "    \"reservation_state\": \"Active\",\n",
      "    \"resource_type\": \"L2Bridge\",\n",
      "    \"site\": \"LBNL\",\n",
      "    \"slice_id\": \"d1664743-1748-4f5a-a565-1083e0a6855c\"\n",
      "}, {\n",
      "    \"allocated_capacities\": \"{\\\"core\\\": 2, \\\"disk\\\": 10, \\\"ram\\\": 8}\",\n",
      "    \"allocated_labels\": \"{\\\"instance\\\": \\\"instance-000000e5\\\", \\\"instance_parent\\\": \\\"lbnl-w2.fabric-testbed.net\\\"}\",\n",
      "    \"capacities\": \"{\\\"core\\\": 2, \\\"disk\\\": 10, \\\"ram\\\": 6}\",\n",
      "    \"capacity_hints\": \"{\\\"instance_type\\\": \\\"fabric.c2.m8.d10\\\"}\",\n",
      "    \"graph_node_id\": \"0e38eb30-7b59-4eee-9563-0361f6e1b023\",\n",
      "    \"join_state\": \"NoJoin\",\n",
      "    \"lease_end\": \"2021-08-07 22:43:44\",\n",
      "    \"management_ip\": \"198.129.61.37\",\n",
      "    \"name\": \"node2\",\n",
      "    \"pending_state\": \"None_\",\n",
      "    \"reservation_id\": \"cc5d1fd5-c09c-4fe6-b9df-614911f42439\",\n",
      "    \"reservation_state\": \"Active\",\n",
      "    \"resource_type\": \"VM\",\n",
      "    \"site\": \"LBNL\",\n",
      "    \"slice_id\": \"d1664743-1748-4f5a-a565-1083e0a6855c\"\n",
      "}, {\n",
      "    \"allocated_capacities\": \"{\\\"core\\\": 2, \\\"disk\\\": 10, \\\"ram\\\": 8}\",\n",
      "    \"allocated_labels\": \"{\\\"instance\\\": \\\"instance-000000e6\\\", \\\"instance_parent\\\": \\\"lbnl-w2.fabric-testbed.net\\\"}\",\n",
      "    \"capacities\": \"{\\\"core\\\": 2, \\\"disk\\\": 10, \\\"ram\\\": 6}\",\n",
      "    \"capacity_hints\": \"{\\\"instance_type\\\": \\\"fabric.c2.m8.d10\\\"}\",\n",
      "    \"graph_node_id\": \"7b518575-de4e-41ca-ac7f-29b1b4464b29\",\n",
      "    \"join_state\": \"NoJoin\",\n",
      "    \"lease_end\": \"2021-08-07 22:43:44\",\n",
      "    \"management_ip\": \"198.129.61.34\",\n",
      "    \"name\": \"node1\",\n",
      "    \"pending_state\": \"None_\",\n",
      "    \"reservation_id\": \"4d1db7f3-76f9-4572-8a7f-9a718fc04633\",\n",
      "    \"reservation_state\": \"Active\",\n",
      "    \"resource_type\": \"VM\",\n",
      "    \"site\": \"LBNL\",\n",
      "    \"slice_id\": \"d1664743-1748-4f5a-a565-1083e0a6855c\"\n",
      "}]\n"
     ]
    }
   ],
   "source": [
    "slice_ids = [slice.slice_id for slice in slices]\n",
    "slice_names = [slice.slice_name for slice in slices]\n",
    "slice_lease_ends = [slice.lease_end for slice in slices]\n",
    "clean_slice_lease_ends = []\n",
    "\n",
    "months = ['January', 'February', 'March', 'April', 'May', 'June', 'July', 'August', 'September', 'October', 'November', 'December']\n",
    "for sle in slice_lease_ends:\n",
    "    year = sle[:4]\n",
    "    month = months[int(sle[5:7])]\n",
    "    day = sle[8:10]\n",
    "    if day[0] == '0':\n",
    "        day = day[1]\n",
    "    hour = sle[11:13]\n",
    "    ampm = \"AM\" if int(hour) <= 12 else \"PM\"\n",
    "    if hour[0] == '0':\n",
    "        hour = hour[1]\n",
    "    if int(hour) > 12:\n",
    "        hour = str(int(hour) - 12)\n",
    "    minute = sle[14:16]\n",
    "    second = sle[17:19]\n",
    "    date = month + ' ' + day + ', ' + year + f' [{hour}:{minute}:{second} {ampm}]'\n",
    "    clean_slice_lease_ends.append(date)\n",
    "    \n",
    "\n",
    "for slice_id in slice_ids:\n",
    "    status, slivers = slice_manager.slivers(slice_id = slice_id)\n",
    "    \n",
    "    print(f'\\nSlice Name: {slice_names[slice_ids.index(slice_id)]}\\n')\n",
    "    print(\"Response Status {}\".format(status))\n",
    "    if status == Status.OK:\n",
    "        print(\"Slivers {}\".format(slivers))\n",
    "    else:\n",
    "        print(f\"Failure: {slivers}\")"
   ]
  },
  {
   "cell_type": "markdown",
   "id": "cf7ccce5-18a2-4e10-a7da-b6175acb12c3",
   "metadata": {},
   "source": [
    "### Create and Save Map\n",
    "\n",
    "- Click radio buttons to generate map for different slices\n",
    "- Click markers to view details about individual resources\n",
    "- Map saves as interactable HTML file"
   ]
  },
  {
   "cell_type": "code",
   "execution_count": 44,
   "id": "d7233159-60a5-4e83-918f-4adaf55be6e1",
   "metadata": {},
   "outputs": [
    {
     "data": {
      "text/html": [
       "<div style=\"width:100%;\"><div style=\"position:relative;width:100%;height:0;padding-bottom:60%;\"><span style=\"color:#565656\">Make this Notebook Trusted to load map: File -> Trust Notebook</span><iframe src=\"about:blank\" style=\"position:absolute;width:100%;height:100%;left:0;top:0;border:none !important;\" data-html=%3C%21DOCTYPE%20html%3E%0A%3Chead%3E%20%20%20%20%0A%20%20%20%20%3Cmeta%20http-equiv%3D%22content-type%22%20content%3D%22text/html%3B%20charset%3DUTF-8%22%20/%3E%0A%20%20%20%20%0A%20%20%20%20%20%20%20%20%3Cscript%3E%0A%20%20%20%20%20%20%20%20%20%20%20%20L_NO_TOUCH%20%3D%20false%3B%0A%20%20%20%20%20%20%20%20%20%20%20%20L_DISABLE_3D%20%3D%20false%3B%0A%20%20%20%20%20%20%20%20%3C/script%3E%0A%20%20%20%20%0A%20%20%20%20%3Cstyle%3Ehtml%2C%20body%20%7Bwidth%3A%20100%25%3Bheight%3A%20100%25%3Bmargin%3A%200%3Bpadding%3A%200%3B%7D%3C/style%3E%0A%20%20%20%20%3Cstyle%3E%23map%20%7Bposition%3Aabsolute%3Btop%3A0%3Bbottom%3A0%3Bright%3A0%3Bleft%3A0%3B%7D%3C/style%3E%0A%20%20%20%20%3Cscript%20src%3D%22https%3A//cdn.jsdelivr.net/npm/leaflet%401.6.0/dist/leaflet.js%22%3E%3C/script%3E%0A%20%20%20%20%3Cscript%20src%3D%22https%3A//code.jquery.com/jquery-1.12.4.min.js%22%3E%3C/script%3E%0A%20%20%20%20%3Cscript%20src%3D%22https%3A//maxcdn.bootstrapcdn.com/bootstrap/3.2.0/js/bootstrap.min.js%22%3E%3C/script%3E%0A%20%20%20%20%3Cscript%20src%3D%22https%3A//cdnjs.cloudflare.com/ajax/libs/Leaflet.awesome-markers/2.0.2/leaflet.awesome-markers.js%22%3E%3C/script%3E%0A%20%20%20%20%3Clink%20rel%3D%22stylesheet%22%20href%3D%22https%3A//cdn.jsdelivr.net/npm/leaflet%401.6.0/dist/leaflet.css%22/%3E%0A%20%20%20%20%3Clink%20rel%3D%22stylesheet%22%20href%3D%22https%3A//maxcdn.bootstrapcdn.com/bootstrap/3.2.0/css/bootstrap.min.css%22/%3E%0A%20%20%20%20%3Clink%20rel%3D%22stylesheet%22%20href%3D%22https%3A//maxcdn.bootstrapcdn.com/bootstrap/3.2.0/css/bootstrap-theme.min.css%22/%3E%0A%20%20%20%20%3Clink%20rel%3D%22stylesheet%22%20href%3D%22https%3A//maxcdn.bootstrapcdn.com/font-awesome/4.6.3/css/font-awesome.min.css%22/%3E%0A%20%20%20%20%3Clink%20rel%3D%22stylesheet%22%20href%3D%22https%3A//cdnjs.cloudflare.com/ajax/libs/Leaflet.awesome-markers/2.0.2/leaflet.awesome-markers.css%22/%3E%0A%20%20%20%20%3Clink%20rel%3D%22stylesheet%22%20href%3D%22https%3A//cdn.jsdelivr.net/gh/python-visualization/folium/folium/templates/leaflet.awesome.rotate.min.css%22/%3E%0A%20%20%20%20%0A%20%20%20%20%20%20%20%20%20%20%20%20%3Cmeta%20name%3D%22viewport%22%20content%3D%22width%3Ddevice-width%2C%0A%20%20%20%20%20%20%20%20%20%20%20%20%20%20%20%20initial-scale%3D1.0%2C%20maximum-scale%3D1.0%2C%20user-scalable%3Dno%22%20/%3E%0A%20%20%20%20%20%20%20%20%20%20%20%20%3Cstyle%3E%0A%20%20%20%20%20%20%20%20%20%20%20%20%20%20%20%20%23map_1689342b0581413aa665b53b79b67637%20%7B%0A%20%20%20%20%20%20%20%20%20%20%20%20%20%20%20%20%20%20%20%20position%3A%20relative%3B%0A%20%20%20%20%20%20%20%20%20%20%20%20%20%20%20%20%20%20%20%20width%3A%20100.0%25%3B%0A%20%20%20%20%20%20%20%20%20%20%20%20%20%20%20%20%20%20%20%20height%3A%20100.0%25%3B%0A%20%20%20%20%20%20%20%20%20%20%20%20%20%20%20%20%20%20%20%20left%3A%200.0%25%3B%0A%20%20%20%20%20%20%20%20%20%20%20%20%20%20%20%20%20%20%20%20top%3A%200.0%25%3B%0A%20%20%20%20%20%20%20%20%20%20%20%20%20%20%20%20%7D%0A%20%20%20%20%20%20%20%20%20%20%20%20%3C/style%3E%0A%20%20%20%20%20%20%20%20%0A%20%20%20%20%3Cscript%20src%3D%22https%3A//cdnjs.cloudflare.com/ajax/libs/leaflet.markercluster/1.1.0/leaflet.markercluster.js%22%3E%3C/script%3E%0A%20%20%20%20%3Clink%20rel%3D%22stylesheet%22%20href%3D%22https%3A//cdnjs.cloudflare.com/ajax/libs/leaflet.markercluster/1.1.0/MarkerCluster.css%22/%3E%0A%20%20%20%20%3Clink%20rel%3D%22stylesheet%22%20href%3D%22https%3A//cdnjs.cloudflare.com/ajax/libs/leaflet.markercluster/1.1.0/MarkerCluster.Default.css%22/%3E%0A%3C/head%3E%0A%3Cbody%3E%20%20%20%20%0A%20%20%20%20%0A%20%20%20%20%20%20%20%20%20%20%20%20%3Cdiv%20class%3D%22folium-map%22%20id%3D%22map_1689342b0581413aa665b53b79b67637%22%20%3E%3C/div%3E%0A%20%20%20%20%20%20%20%20%0A%20%20%20%20%0A%0A%3C%21doctype%20html%3E%0A%3Chtml%20lang%3D%22en%22%3E%0A%3Chead%3E%0A%20%20%3Cmeta%20charset%3D%22utf-8%22%3E%0A%20%20%3Cmeta%20name%3D%22viewport%22%20content%3D%22width%3Ddevice-width%2C%20initial-scale%3D1%22%3E%0A%20%20%3Ctitle%3EjQuery%20UI%20Draggable%20-%20Default%20functionality%3C/title%3E%0A%20%20%3Clink%20rel%3D%22stylesheet%22%20href%3D%22//code.jquery.com/ui/1.12.1/themes/base/jquery-ui.css%22%3E%0A%0A%20%20%3Cscript%20src%3D%22https%3A//code.jquery.com/jquery-1.12.4.js%22%3E%3C/script%3E%0A%20%20%3Cscript%20src%3D%22https%3A//code.jquery.com/ui/1.12.1/jquery-ui.js%22%3E%3C/script%3E%0A%20%20%0A%20%20%3Cscript%3E%0A%20%20%24%28%20function%28%29%20%7B%0A%20%20%20%20%24%28%20%22%23maplegend%22%20%29.draggable%28%7B%0A%20%20%20%20%20%20%20%20%20%20%20%20%20%20%20%20%20%20%20%20start%3A%20function%20%28event%2C%20ui%29%20%7B%0A%20%20%20%20%20%20%20%20%20%20%20%20%20%20%20%20%20%20%20%20%20%20%20%20%24%28this%29.css%28%7B%0A%20%20%20%20%20%20%20%20%20%20%20%20%20%20%20%20%20%20%20%20%20%20%20%20%20%20%20%20right%3A%20%22auto%22%2C%0A%20%20%20%20%20%20%20%20%20%20%20%20%20%20%20%20%20%20%20%20%20%20%20%20%20%20%20%20top%3A%20%22auto%22%2C%0A%20%20%20%20%20%20%20%20%20%20%20%20%20%20%20%20%20%20%20%20%20%20%20%20%20%20%20%20bottom%3A%20%22auto%22%0A%20%20%20%20%20%20%20%20%20%20%20%20%20%20%20%20%20%20%20%20%20%20%20%20%7D%29%3B%0A%20%20%20%20%20%20%20%20%20%20%20%20%20%20%20%20%20%20%20%20%7D%0A%20%20%20%20%20%20%20%20%20%20%20%20%20%20%20%20%7D%29%3B%0A%7D%29%3B%0A%0A%20%20%3C/script%3E%0A%3C/head%3E%0A%3Cbody%3E%0A%0A%20%0A%3Cdiv%20id%3D%27maplegend%27%20class%3D%27maplegend%27%20%0A%20%20%20%20style%3D%27position%3A%20absolute%3B%20z-index%3A9999%3B%20border%3A2px%20solid%20grey%3B%20background-color%3Argba%28255%2C%20255%2C%20255%2C%200.8%29%3B%0A%20%20%20%20%20border-radius%3A6px%3B%20padding%3A%2010px%3B%20font-size%3A14px%3Bfont-family%3A%20Verdana%3B%20right%3A%2020px%3B%20bottom%3A%2020px%3B%27%3E%0A%20%20%20%20%20%0A%3Cdiv%20class%3D%27legend-title%27%3ELegend%3C/div%3E%0A%3Cdiv%20class%3D%27legend-scale%27%3E%0A%20%20%3Cul%20class%3D%27legend-labels%27%3E%0A%20%20%20%20%3Cli%3E%3Cspan%20style%3D%27background%3Agreen%3Bopacity%3A0.7%3B%27%3E%3C/span%3EActive%3C/li%3E%0A%20%20%20%20%3Cli%3E%3Cspan%20style%3D%27background%3Aorange%3Bopacity%3A0.7%3B%27%3E%3C/span%3EClosing%3C/li%3E%0A%20%20%20%20%3Cli%3E%3Cspan%20style%3D%27background%3Ared%3Bopacity%3A0.7%3B%27%3E%3C/span%3EDead%3C/li%3E%0A%0A%20%20%3C/ul%3E%0A%3C/div%3E%0A%3C/div%3E%0A%20%0A%3C/body%3E%0A%3C/html%3E%0A%0A%3Cstyle%20type%3D%27text/css%27%3E%0A%20%20.maplegend%20.legend-title%20%7B%0A%20%20%20%20text-align%3A%20left%3B%0A%20%20%20%20margin-bottom%3A%205px%3B%0A%20%20%20%20font-weight%3A%20bold%3B%0A%20%20%20%20font-size%3A%2090%25%3B%0A%20%20%20%20%7D%0A%20%20.maplegend%20.legend-scale%20ul%20%7B%0A%20%20%20%20margin%3A%200%3B%0A%20%20%20%20margin-bottom%3A%205px%3B%0A%20%20%20%20padding%3A%200%3B%0A%20%20%20%20float%3A%20left%3B%0A%20%20%20%20list-style%3A%20none%3B%0A%20%20%20%20%7D%0A%20%20.maplegend%20.legend-scale%20ul%20li%20%7B%0A%20%20%20%20font-size%3A%2080%25%3B%0A%20%20%20%20list-style%3A%20none%3B%0A%20%20%20%20margin-left%3A%200%3B%0A%20%20%20%20line-height%3A%2018px%3B%0A%20%20%20%20margin-bottom%3A%202px%3B%0A%20%20%20%20%7D%0A%20%20.maplegend%20ul.legend-labels%20li%20span%20%7B%0A%20%20%20%20display%3A%20block%3B%0A%20%20%20%20float%3A%20left%3B%0A%20%20%20%20height%3A%2016px%3B%0A%20%20%20%20width%3A%2030px%3B%0A%20%20%20%20margin-right%3A%205px%3B%0A%20%20%20%20margin-left%3A%200%3B%0A%20%20%20%20border%3A%201px%20solid%20%23999%3B%0A%20%20%20%20%7D%0A%20%20.maplegend%20.legend-source%20%7B%0A%20%20%20%20font-size%3A%2080%25%3B%0A%20%20%20%20color%3A%20%23777%3B%0A%20%20%20%20clear%3A%20both%3B%0A%20%20%20%20%7D%0A%20%20.maplegend%20a%20%7B%0A%20%20%20%20color%3A%20%23777%3B%0A%20%20%20%20%7D%0A%20%20%20%20%0A%3C/style%3E%0A%3C/body%3E%0A%3Cscript%3E%20%20%20%20%0A%20%20%20%20%0A%20%20%20%20%20%20%20%20%20%20%20%20var%20map_1689342b0581413aa665b53b79b67637%20%3D%20L.map%28%0A%20%20%20%20%20%20%20%20%20%20%20%20%20%20%20%20%22map_1689342b0581413aa665b53b79b67637%22%2C%0A%20%20%20%20%20%20%20%20%20%20%20%20%20%20%20%20%7B%0A%20%20%20%20%20%20%20%20%20%20%20%20%20%20%20%20%20%20%20%20center%3A%20%5B38.12480976137421%2C%20-95.7129%5D%2C%0A%20%20%20%20%20%20%20%20%20%20%20%20%20%20%20%20%20%20%20%20crs%3A%20L.CRS.EPSG3857%2C%0A%20%20%20%20%20%20%20%20%20%20%20%20%20%20%20%20%20%20%20%20zoom%3A%204.2%2C%0A%20%20%20%20%20%20%20%20%20%20%20%20%20%20%20%20%20%20%20%20zoomControl%3A%20false%2C%0A%20%20%20%20%20%20%20%20%20%20%20%20%20%20%20%20%20%20%20%20preferCanvas%3A%20false%2C%0A%20%20%20%20%20%20%20%20%20%20%20%20%20%20%20%20%20%20%20%20dragging%3A%20false%2C%0A%20%20%20%20%20%20%20%20%20%20%20%20%20%20%20%20%7D%0A%20%20%20%20%20%20%20%20%20%20%20%20%29%3B%0A%0A%20%20%20%20%20%20%20%20%20%20%20%20%0A%0A%20%20%20%20%20%20%20%20%0A%20%20%20%20%0A%20%20%20%20%20%20%20%20%20%20%20%20var%20tile_layer_1029140e2ede41019ef0b5c329c29fc9%20%3D%20L.tileLayer%28%0A%20%20%20%20%20%20%20%20%20%20%20%20%20%20%20%20%22https%3A//%7Bs%7D.tile.openstreetmap.org/%7Bz%7D/%7Bx%7D/%7By%7D.png%22%2C%0A%20%20%20%20%20%20%20%20%20%20%20%20%20%20%20%20%7B%22attribution%22%3A%20%22Data%20by%20%5Cu0026copy%3B%20%5Cu003ca%20href%3D%5C%22http%3A//openstreetmap.org%5C%22%5Cu003eOpenStreetMap%5Cu003c/a%5Cu003e%2C%20under%20%5Cu003ca%20href%3D%5C%22http%3A//www.openstreetmap.org/copyright%5C%22%5Cu003eODbL%5Cu003c/a%5Cu003e.%22%2C%20%22detectRetina%22%3A%20false%2C%20%22maxNativeZoom%22%3A%2018%2C%20%22maxZoom%22%3A%2018%2C%20%22minZoom%22%3A%200%2C%20%22noWrap%22%3A%20false%2C%20%22opacity%22%3A%201%2C%20%22subdomains%22%3A%20%22abc%22%2C%20%22tms%22%3A%20false%7D%0A%20%20%20%20%20%20%20%20%20%20%20%20%29.addTo%28map_1689342b0581413aa665b53b79b67637%29%3B%0A%20%20%20%20%20%20%20%20%0A%20%20%20%20%0A%20%20%20%20%20%20%20%20%20%20%20%20var%20marker_cluster_db40ee8a17ba47ac8abcca22995a8633%20%3D%20L.markerClusterGroup%28%0A%20%20%20%20%20%20%20%20%20%20%20%20%20%20%20%20%7B%7D%0A%20%20%20%20%20%20%20%20%20%20%20%20%29%3B%0A%20%20%20%20%20%20%20%20%20%20%20%20map_1689342b0581413aa665b53b79b67637.addLayer%28marker_cluster_db40ee8a17ba47ac8abcca22995a8633%29%3B%0A%20%20%20%20%20%20%20%20%0A%20%20%20%20%0A%20%20%20%20%20%20%20%20%20%20%20%20var%20marker_8ae1becf076745baa4e0445246ed595b%20%3D%20L.marker%28%0A%20%20%20%20%20%20%20%20%20%20%20%20%20%20%20%20%5B38.94977311613871%2C%20-122.61289106281062%5D%2C%0A%20%20%20%20%20%20%20%20%20%20%20%20%20%20%20%20%7B%7D%0A%20%20%20%20%20%20%20%20%20%20%20%20%29.addTo%28marker_cluster_db40ee8a17ba47ac8abcca22995a8633%29%3B%0A%20%20%20%20%20%20%20%20%0A%20%20%20%20%0A%20%20%20%20%20%20%20%20%20%20%20%20var%20icon_05c9f693b03641429e30f56808321e22%20%3D%20L.AwesomeMarkers.icon%28%0A%20%20%20%20%20%20%20%20%20%20%20%20%20%20%20%20%7B%22extraClasses%22%3A%20%22fa-rotate-0%22%2C%20%22icon%22%3A%20%22server%22%2C%20%22iconColor%22%3A%20%22white%22%2C%20%22markerColor%22%3A%20%22green%22%2C%20%22prefix%22%3A%20%22fa%22%7D%0A%20%20%20%20%20%20%20%20%20%20%20%20%29%3B%0A%20%20%20%20%20%20%20%20%20%20%20%20marker_8ae1becf076745baa4e0445246ed595b.setIcon%28icon_05c9f693b03641429e30f56808321e22%29%3B%0A%20%20%20%20%20%20%20%20%0A%20%20%20%20%0A%20%20%20%20%20%20%20%20var%20popup_591fcbdadf0d4d73aca82ca61073d599%20%3D%20L.popup%28%7B%22maxWidth%22%3A%20350%7D%29%3B%0A%0A%20%20%20%20%20%20%20%20%0A%20%20%20%20%20%20%20%20%20%20%20%20var%20i_frame_56f30d4c8364425cbbf959a2785af34a%20%3D%20%24%28%60%3Ciframe%20src%3D%22data%3Atext/html%3Bcharset%3Dutf-8%3Bbase64%2CCiAgICA8c3Ryb25nIHN0eWxlPSJmb250LWZhbWlseTogVmVyZGFuYSI%2BUmVzb3VyY2U6IG5vZGUyIFtBY3RpdmVdPC9zdHJvbmc%2BPGJyPlNpdGU6IExCTkw8YnI%2BQ2FwYWNpdGllczogeyBjb3JlOiAyICwgcmFtOiA2IEcsIGRpc2s6IDEwIEd9PGJyPgpMZWFzZSBFbmRzOiBTZXB0ZW1iZXIgNywgMjAyMSBbMTA6NDM6NDQgUE1d%22%20width%3D%22350%22%20style%3D%22border%3Anone%20%21important%3B%22%20height%3D%2290%22%3E%3C/iframe%3E%60%29%5B0%5D%3B%0A%20%20%20%20%20%20%20%20%20%20%20%20popup_591fcbdadf0d4d73aca82ca61073d599.setContent%28i_frame_56f30d4c8364425cbbf959a2785af34a%29%3B%0A%20%20%20%20%20%20%20%20%0A%0A%20%20%20%20%20%20%20%20marker_8ae1becf076745baa4e0445246ed595b.bindPopup%28popup_591fcbdadf0d4d73aca82ca61073d599%29%0A%20%20%20%20%20%20%20%20%3B%0A%0A%20%20%20%20%20%20%20%20%0A%20%20%20%20%0A%20%20%20%20%0A%20%20%20%20%20%20%20%20%20%20%20%20var%20marker_6664dfaeb60543e19905d925a88af94d%20%3D%20L.marker%28%0A%20%20%20%20%20%20%20%20%20%20%20%20%20%20%20%20%5B38.94977311613871%2C%20-122.61289106281062%5D%2C%0A%20%20%20%20%20%20%20%20%20%20%20%20%20%20%20%20%7B%7D%0A%20%20%20%20%20%20%20%20%20%20%20%20%29.addTo%28marker_cluster_db40ee8a17ba47ac8abcca22995a8633%29%3B%0A%20%20%20%20%20%20%20%20%0A%20%20%20%20%0A%20%20%20%20%20%20%20%20%20%20%20%20var%20icon_f2a9f923dcf246f6a00f818569a00b48%20%3D%20L.AwesomeMarkers.icon%28%0A%20%20%20%20%20%20%20%20%20%20%20%20%20%20%20%20%7B%22extraClasses%22%3A%20%22fa-rotate-0%22%2C%20%22icon%22%3A%20%22server%22%2C%20%22iconColor%22%3A%20%22white%22%2C%20%22markerColor%22%3A%20%22green%22%2C%20%22prefix%22%3A%20%22fa%22%7D%0A%20%20%20%20%20%20%20%20%20%20%20%20%29%3B%0A%20%20%20%20%20%20%20%20%20%20%20%20marker_6664dfaeb60543e19905d925a88af94d.setIcon%28icon_f2a9f923dcf246f6a00f818569a00b48%29%3B%0A%20%20%20%20%20%20%20%20%0A%20%20%20%20%0A%20%20%20%20%20%20%20%20var%20popup_cf8143212f7542deacc9847076ae3c83%20%3D%20L.popup%28%7B%22maxWidth%22%3A%20350%7D%29%3B%0A%0A%20%20%20%20%20%20%20%20%0A%20%20%20%20%20%20%20%20%20%20%20%20var%20i_frame_6bd6a176559f4eee8bc2d2aca32daa3c%20%3D%20%24%28%60%3Ciframe%20src%3D%22data%3Atext/html%3Bcharset%3Dutf-8%3Bbase64%2CCiAgICA8c3Ryb25nIHN0eWxlPSJmb250LWZhbWlseTogVmVyZGFuYSI%2BUmVzb3VyY2U6IG5vZGUxIFtBY3RpdmVdPC9zdHJvbmc%2BPGJyPlNpdGU6IExCTkw8YnI%2BQ2FwYWNpdGllczogeyBjb3JlOiAyICwgcmFtOiA2IEcsIGRpc2s6IDEwIEd9PGJyPgpMZWFzZSBFbmRzOiBTZXB0ZW1iZXIgNywgMjAyMSBbMTA6NDM6NDQgUE1d%22%20width%3D%22350%22%20style%3D%22border%3Anone%20%21important%3B%22%20height%3D%2290%22%3E%3C/iframe%3E%60%29%5B0%5D%3B%0A%20%20%20%20%20%20%20%20%20%20%20%20popup_cf8143212f7542deacc9847076ae3c83.setContent%28i_frame_6bd6a176559f4eee8bc2d2aca32daa3c%29%3B%0A%20%20%20%20%20%20%20%20%0A%0A%20%20%20%20%20%20%20%20marker_6664dfaeb60543e19905d925a88af94d.bindPopup%28popup_cf8143212f7542deacc9847076ae3c83%29%0A%20%20%20%20%20%20%20%20%3B%0A%0A%20%20%20%20%20%20%20%20%0A%20%20%20%20%0A%20%20%20%20%0A%20%20%20%20%20%20%20%20%20%20%20%20var%20marker_457849b07e824888b98f049dcdc5fce8%20%3D%20L.marker%28%0A%20%20%20%20%20%20%20%20%20%20%20%20%20%20%20%20%5B52.0%2C%20-110.0%5D%2C%0A%20%20%20%20%20%20%20%20%20%20%20%20%20%20%20%20%7B%7D%0A%20%20%20%20%20%20%20%20%20%20%20%20%29.addTo%28marker_cluster_db40ee8a17ba47ac8abcca22995a8633%29%3B%0A%20%20%20%20%20%20%20%20%0A%20%20%20%20%0A%20%20%20%20%20%20%20%20%20%20%20%20var%20div_icon_ddde0d7bfde64521874287355de77c61%20%3D%20L.divIcon%28%7B%22className%22%3A%20%22empty%22%2C%20%22html%22%3A%20%22%5Cu003cdiv%20style%3D%5C%22font-size%3A%2020pt%3Bfont-family%3A%20Verdana%3Btext-align%3A%20center%3Bborder%3A%201pt%20solid%20lightgray%3Bbackground%3A%20ghostwhite%5C%22%5Cu003eSlice-l2bridge-sriov%5Cu003c/div%5Cu003e%22%2C%20%22iconAnchor%22%3A%20%5B0%2C%200%5D%2C%20%22iconSize%22%3A%20%5B300%2C%2060%5D%7D%29%3B%0A%20%20%20%20%20%20%20%20%20%20%20%20marker_457849b07e824888b98f049dcdc5fce8.setIcon%28div_icon_ddde0d7bfde64521874287355de77c61%29%3B%0A%20%20%20%20%20%20%20%20%0A%20%20%20%20%0A%20%20%20%20%20%20%20%20%20%20%20%20var%20layer_control_97685d6b511944f79076bfa10ef472ea%20%3D%20%7B%0A%20%20%20%20%20%20%20%20%20%20%20%20%20%20%20%20base_layers%20%3A%20%7B%0A%20%20%20%20%20%20%20%20%20%20%20%20%20%20%20%20%20%20%20%20%22openstreetmap%22%20%3A%20tile_layer_1029140e2ede41019ef0b5c329c29fc9%2C%0A%20%20%20%20%20%20%20%20%20%20%20%20%20%20%20%20%7D%2C%0A%20%20%20%20%20%20%20%20%20%20%20%20%20%20%20%20overlays%20%3A%20%20%7B%0A%20%20%20%20%20%20%20%20%20%20%20%20%20%20%20%20%20%20%20%20%22Slice-l2bridge-sriov%22%20%3A%20marker_cluster_db40ee8a17ba47ac8abcca22995a8633%2C%0A%20%20%20%20%20%20%20%20%20%20%20%20%20%20%20%20%7D%2C%0A%20%20%20%20%20%20%20%20%20%20%20%20%7D%3B%0A%20%20%20%20%20%20%20%20%20%20%20%20L.control.layers%28%0A%20%20%20%20%20%20%20%20%20%20%20%20%20%20%20%20layer_control_97685d6b511944f79076bfa10ef472ea.base_layers%2C%0A%20%20%20%20%20%20%20%20%20%20%20%20%20%20%20%20layer_control_97685d6b511944f79076bfa10ef472ea.overlays%2C%0A%20%20%20%20%20%20%20%20%20%20%20%20%20%20%20%20%7B%22autoZIndex%22%3A%20true%2C%20%22collapsed%22%3A%20false%2C%20%22position%22%3A%20%22topright%22%7D%0A%20%20%20%20%20%20%20%20%20%20%20%20%29.addTo%28map_1689342b0581413aa665b53b79b67637%29%3B%0A%20%20%20%20%20%20%20%20%20%20%20%20marker_cluster_db40ee8a17ba47ac8abcca22995a8633.remove%28%29%3B%0A%20%20%20%20%20%20%20%20%0A%20%20%20%20%0A%20%20%20%20%20%20%20%20%20%20%20%20var%20marker_9da19f9703bd47c6aecaf96138cb5e0a%20%3D%20L.marker%28%0A%20%20%20%20%20%20%20%20%20%20%20%20%20%20%20%20%5B53.85%2C%20-77.7%5D%2C%0A%20%20%20%20%20%20%20%20%20%20%20%20%20%20%20%20%7B%7D%0A%20%20%20%20%20%20%20%20%20%20%20%20%29.addTo%28map_1689342b0581413aa665b53b79b67637%29%3B%0A%20%20%20%20%20%20%20%20%0A%20%20%20%20%0A%20%20%20%20%20%20%20%20%20%20%20%20var%20div_icon_7a048a2f40d4448db664700d6b9458b7%20%3D%20L.divIcon%28%7B%22className%22%3A%20%22empty%22%2C%20%22html%22%3A%20%22%5Cu003cdiv%20style%3D%5C%22font-size%3A%2010pt%3Bfont-family%3A%20Verdana%3Btext-align%3A%20center%3Bborder%3A%201pt%20solid%20lightgray%3Bbackground%3A%20ghostwhite%5C%22%5Cu003eClick%20to%20generate%20map%20for%20slice%5Cu003c/div%5Cu003e%22%2C%20%22iconAnchor%22%3A%20%5B0%2C%200%5D%2C%20%22iconSize%22%3A%20%5B110%2C%2060%5D%7D%29%3B%0A%20%20%20%20%20%20%20%20%20%20%20%20marker_9da19f9703bd47c6aecaf96138cb5e0a.setIcon%28div_icon_7a048a2f40d4448db664700d6b9458b7%29%3B%0A%20%20%20%20%20%20%20%20%0A%3C/script%3E onload=\"this.contentDocument.open();this.contentDocument.write(    decodeURIComponent(this.getAttribute('data-html')));this.contentDocument.close();\" allowfullscreen webkitallowfullscreen mozallowfullscreen></iframe></div></div>"
      ],
      "text/plain": [
       "<folium.folium.Map at 0x7f10ee971610>"
      ]
     },
     "execution_count": 44,
     "metadata": {},
     "output_type": "execute_result"
    }
   ],
   "source": [
    "site_dict = {'UKY': (38.03154264461649, -84.50343326019218), 'RENC': (35.93996154497003, -79.01809264307425), 'LBNL': (38.94977311613871, -122.61289106281062)}\n",
    "\n",
    "import folium\n",
    "from folium.plugins import MarkerCluster\n",
    "from folium.features import DivIcon\n",
    "import branca\n",
    "from branca.element import Template, MacroElement\n",
    "\n",
    "base = folium.Map(location = (38.12480976137421, -95.7129), zoom_start = 4.2, zoom_control = False, dragging = False)\n",
    "\n",
    "for slice_id in slice_ids:\n",
    "    status, slivers = slice_manager.slivers(slice_id = slice_id)\n",
    "\n",
    "    labels = {}\n",
    "    for sliver in slivers:\n",
    "        status, sliver_status = slice_manager.sliver_status(slice_id = slice_id, sliver_id = sliver.reservation_id)\n",
    "        if sliver_status.resource_type == \"VM\":\n",
    "            name = sliver_status.name\n",
    "            site = sliver_status.site\n",
    "            capacities = sliver_status.capacities\n",
    "            state = sliver_status.reservation_state\n",
    "            info = (site, capacities, site_dict[site], state)\n",
    "            labels[name] = info\n",
    "\n",
    "    locations = []\n",
    "    popups = []\n",
    "    icons = []\n",
    "\n",
    "    for label in labels:\n",
    "        locations.append(site_dict[labels[label][0]])\n",
    "        popups.append(folium.Popup(branca.element.IFrame(html = f'<strong style=\"font-family: Verdana\">Resource: {label} [{labels[label][3]}]</strong><br>Site: {labels[label][0]}<br>Capacities: {labels[label][1]}<br>\\nLease Ends: {clean_slice_lease_ends[slice_ids.index(slice_id)]}', width = 350, height = 90), max_width = 350))\n",
    "        color = None\n",
    "        if labels[label][3] == 'Active':\n",
    "            color = 'green'\n",
    "        elif labels[label][3] == 'Closing':\n",
    "            color = 'orange'\n",
    "        else:\n",
    "            color = 'red'\n",
    "        icons.append(folium.Icon(color = color, icon = 'server', prefix = 'fa'))\n",
    "        \n",
    "    cluster = MarkerCluster(name = slice_names[slice_ids.index(slice_id)], \n",
    "                            locations = locations, \n",
    "                            popups = popups, \n",
    "                            icons = icons,\n",
    "                            show = False)\n",
    "    folium.map.Marker((52, -110), \n",
    "                      icon = DivIcon(icon_size = (300, 60),\n",
    "                                     icon_anchor = (0, 0),\n",
    "                                     html = f'<div style=\"font-size: 20pt;font-family: Verdana;text-align: center;border: 1pt solid lightgray;background: ghostwhite\">{slice_names[slice_ids.index(slice_id)]}</div>')).add_to(cluster)\n",
    "    cluster.add_to(base)\n",
    "    \n",
    "    \n",
    "    \n",
    "                                                 \n",
    "folium.LayerControl(collapsed = False).add_to(base)\n",
    "folium.map.Marker((53.85, -77.7), \n",
    "                      icon = DivIcon(icon_size = (110, 60),\n",
    "                                     icon_anchor = (0, 0),\n",
    "                                     html = '<div style=\"font-size: 10pt;font-family: Verdana;text-align: center;border: 1pt solid lightgray;background: ghostwhite\">Click to generate map for slice</div>')).add_to(base)\n",
    "\n",
    "template = \"\"\"\n",
    "{% macro html(this, kwargs) %}\n",
    "\n",
    "<!doctype html>\n",
    "<html lang=\"en\">\n",
    "<head>\n",
    "  <meta charset=\"utf-8\">\n",
    "  <meta name=\"viewport\" content=\"width=device-width, initial-scale=1\">\n",
    "  <title>jQuery UI Draggable - Default functionality</title>\n",
    "  <link rel=\"stylesheet\" href=\"//code.jquery.com/ui/1.12.1/themes/base/jquery-ui.css\">\n",
    "\n",
    "  <script src=\"https://code.jquery.com/jquery-1.12.4.js\"></script>\n",
    "  <script src=\"https://code.jquery.com/ui/1.12.1/jquery-ui.js\"></script>\n",
    "  \n",
    "  <script>\n",
    "  $( function() {\n",
    "    $( \"#maplegend\" ).draggable({\n",
    "                    start: function (event, ui) {\n",
    "                        $(this).css({\n",
    "                            right: \"auto\",\n",
    "                            top: \"auto\",\n",
    "                            bottom: \"auto\"\n",
    "                        });\n",
    "                    }\n",
    "                });\n",
    "});\n",
    "\n",
    "  </script>\n",
    "</head>\n",
    "<body>\n",
    "\n",
    " \n",
    "<div id='maplegend' class='maplegend' \n",
    "    style='position: absolute; z-index:9999; border:2px solid grey; background-color:rgba(255, 255, 255, 0.8);\n",
    "     border-radius:6px; padding: 10px; font-size:14px;font-family: Verdana; right: 20px; bottom: 20px;'>\n",
    "     \n",
    "<div class='legend-title'>Legend</div>\n",
    "<div class='legend-scale'>\n",
    "  <ul class='legend-labels'>\n",
    "    <li><span style='background:green;opacity:0.7;'></span>Active</li>\n",
    "    <li><span style='background:orange;opacity:0.7;'></span>Closing</li>\n",
    "    <li><span style='background:red;opacity:0.7;'></span>Dead</li>\n",
    "\n",
    "  </ul>\n",
    "</div>\n",
    "</div>\n",
    " \n",
    "</body>\n",
    "</html>\n",
    "\n",
    "<style type='text/css'>\n",
    "  .maplegend .legend-title {\n",
    "    text-align: left;\n",
    "    margin-bottom: 5px;\n",
    "    font-weight: bold;\n",
    "    font-size: 90%;\n",
    "    }\n",
    "  .maplegend .legend-scale ul {\n",
    "    margin: 0;\n",
    "    margin-bottom: 5px;\n",
    "    padding: 0;\n",
    "    float: left;\n",
    "    list-style: none;\n",
    "    }\n",
    "  .maplegend .legend-scale ul li {\n",
    "    font-size: 80%;\n",
    "    list-style: none;\n",
    "    margin-left: 0;\n",
    "    line-height: 18px;\n",
    "    margin-bottom: 2px;\n",
    "    }\n",
    "  .maplegend ul.legend-labels li span {\n",
    "    display: block;\n",
    "    float: left;\n",
    "    height: 16px;\n",
    "    width: 30px;\n",
    "    margin-right: 5px;\n",
    "    margin-left: 0;\n",
    "    border: 1px solid #999;\n",
    "    }\n",
    "  .maplegend .legend-source {\n",
    "    font-size: 80%;\n",
    "    color: #777;\n",
    "    clear: both;\n",
    "    }\n",
    "  .maplegend a {\n",
    "    color: #777;\n",
    "    }\n",
    "    \n",
    "</style>\n",
    "{% endmacro %}\n",
    "\"\"\"\n",
    "\n",
    "\n",
    "macro = MacroElement()\n",
    "macro._template = Template(template)\n",
    "\n",
    "base.get_root().add_child(macro)\n",
    "\n",
    "base.save('map.html')\n",
    "base"
   ]
  },
  {
   "cell_type": "code",
   "execution_count": null,
   "id": "21b46b69-0e82-4856-baa4-e600aa30c1ab",
   "metadata": {},
   "outputs": [],
   "source": []
  }
 ],
 "metadata": {
  "kernelspec": {
   "display_name": "Python 3",
   "language": "python",
   "name": "python3"
  },
  "language_info": {
   "codemirror_mode": {
    "name": "ipython",
    "version": 3
   },
   "file_extension": ".py",
   "mimetype": "text/x-python",
   "name": "python",
   "nbconvert_exporter": "python",
   "pygments_lexer": "ipython3",
   "version": "3.9.2"
  }
 },
 "nbformat": 4,
 "nbformat_minor": 5
}
